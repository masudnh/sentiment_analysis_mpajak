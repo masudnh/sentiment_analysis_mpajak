{
 "cells": [
  {
   "cell_type": "markdown",
   "id": "c0a6ecbf-a766-48d8-9161-44888948e3ab",
   "metadata": {},
   "source": [
    "## Labelling"
   ]
  },
  {
   "cell_type": "markdown",
   "id": "3a6692ba-ce34-47d5-9544-dfbca5e9e67c",
   "metadata": {},
   "source": [
    "### Import library"
   ]
  },
  {
   "cell_type": "code",
   "execution_count": 1,
   "id": "b28c1567-c23f-46cf-ba93-7778c14f6b26",
   "metadata": {},
   "outputs": [],
   "source": [
    "import pandas as pd\n",
    "import numpy as np"
   ]
  },
  {
   "cell_type": "markdown",
   "id": "43290410-b45e-4b48-b6a8-9c7c52b9d7c6",
   "metadata": {},
   "source": [
    "### Import data"
   ]
  },
  {
   "cell_type": "code",
   "execution_count": 4,
   "id": "835481e4-15e2-43b5-a542-e7fc32c32294",
   "metadata": {},
   "outputs": [
    {
     "data": {
      "text/html": [
       "<div>\n",
       "<style scoped>\n",
       "    .dataframe tbody tr th:only-of-type {\n",
       "        vertical-align: middle;\n",
       "    }\n",
       "\n",
       "    .dataframe tbody tr th {\n",
       "        vertical-align: top;\n",
       "    }\n",
       "\n",
       "    .dataframe thead th {\n",
       "        text-align: right;\n",
       "    }\n",
       "</style>\n",
       "<table border=\"1\" class=\"dataframe\">\n",
       "  <thead>\n",
       "    <tr style=\"text-align: right;\">\n",
       "      <th></th>\n",
       "      <th>Unnamed: 0</th>\n",
       "      <th>reviewId</th>\n",
       "      <th>userName</th>\n",
       "      <th>userImage</th>\n",
       "      <th>content</th>\n",
       "      <th>score</th>\n",
       "      <th>thumbsUpCount</th>\n",
       "      <th>reviewCreatedVersion</th>\n",
       "      <th>at</th>\n",
       "      <th>replyContent</th>\n",
       "      <th>repliedAt</th>\n",
       "      <th>appVersion</th>\n",
       "    </tr>\n",
       "  </thead>\n",
       "  <tbody>\n",
       "    <tr>\n",
       "      <th>0</th>\n",
       "      <td>0</td>\n",
       "      <td>7c89e47a-3752-4f6e-9bbe-f484d94572cb</td>\n",
       "      <td>Faiz Huwaidi</td>\n",
       "      <td>https://play-lh.googleusercontent.com/a-/ALV-U...</td>\n",
       "      <td>Lemot banget ngirim kode OTP nya ajg</td>\n",
       "      <td>1</td>\n",
       "      <td>0</td>\n",
       "      <td>1.4.0</td>\n",
       "      <td>2024-09-23 12:47:06</td>\n",
       "      <td>NaN</td>\n",
       "      <td>NaN</td>\n",
       "      <td>1.4.0</td>\n",
       "    </tr>\n",
       "    <tr>\n",
       "      <th>1</th>\n",
       "      <td>1</td>\n",
       "      <td>23d68ef1-de14-4561-88d0-1bc79b290a06</td>\n",
       "      <td>Surya Kusuma</td>\n",
       "      <td>https://play-lh.googleusercontent.com/a-/ALV-U...</td>\n",
       "      <td>Daftar pajak email aktivasi sudah, ehh pas ner...</td>\n",
       "      <td>1</td>\n",
       "      <td>0</td>\n",
       "      <td>1.4.0</td>\n",
       "      <td>2024-09-23 11:29:20</td>\n",
       "      <td>NaN</td>\n",
       "      <td>NaN</td>\n",
       "      <td>1.4.0</td>\n",
       "    </tr>\n",
       "    <tr>\n",
       "      <th>2</th>\n",
       "      <td>2</td>\n",
       "      <td>4fe534e8-e648-49ab-9aa7-b051b8d1c26c</td>\n",
       "      <td>Askar Aska</td>\n",
       "      <td>https://play-lh.googleusercontent.com/a-/ALV-U...</td>\n",
       "      <td>Pas Nunggu Kode OTP nya emng GK lama,TPI GK ta...</td>\n",
       "      <td>3</td>\n",
       "      <td>0</td>\n",
       "      <td>1.4.0</td>\n",
       "      <td>2024-09-22 23:26:55</td>\n",
       "      <td>NaN</td>\n",
       "      <td>NaN</td>\n",
       "      <td>1.4.0</td>\n",
       "    </tr>\n",
       "    <tr>\n",
       "      <th>3</th>\n",
       "      <td>3</td>\n",
       "      <td>fa12c7bd-9a4c-471c-bb9e-d54a4a3f85f9</td>\n",
       "      <td>azam Zam</td>\n",
       "      <td>https://play-lh.googleusercontent.com/a-/ALV-U...</td>\n",
       "      <td>Sangat cocok untuk melihat pajak saya</td>\n",
       "      <td>5</td>\n",
       "      <td>0</td>\n",
       "      <td>1.4.0</td>\n",
       "      <td>2024-09-22 13:31:47</td>\n",
       "      <td>NaN</td>\n",
       "      <td>NaN</td>\n",
       "      <td>1.4.0</td>\n",
       "    </tr>\n",
       "    <tr>\n",
       "      <th>4</th>\n",
       "      <td>4</td>\n",
       "      <td>5e776387-89da-429c-9c30-4d0aef6cf603</td>\n",
       "      <td>Rendi Renaldi</td>\n",
       "      <td>https://play-lh.googleusercontent.com/a/ACg8oc...</td>\n",
       "      <td>ngabisin pulsa doang</td>\n",
       "      <td>1</td>\n",
       "      <td>0</td>\n",
       "      <td>1.4.0</td>\n",
       "      <td>2024-09-22 00:08:03</td>\n",
       "      <td>NaN</td>\n",
       "      <td>NaN</td>\n",
       "      <td>1.4.0</td>\n",
       "    </tr>\n",
       "  </tbody>\n",
       "</table>\n",
       "</div>"
      ],
      "text/plain": [
       "   Unnamed: 0                              reviewId       userName  \\\n",
       "0           0  7c89e47a-3752-4f6e-9bbe-f484d94572cb   Faiz Huwaidi   \n",
       "1           1  23d68ef1-de14-4561-88d0-1bc79b290a06   Surya Kusuma   \n",
       "2           2  4fe534e8-e648-49ab-9aa7-b051b8d1c26c     Askar Aska   \n",
       "3           3  fa12c7bd-9a4c-471c-bb9e-d54a4a3f85f9       azam Zam   \n",
       "4           4  5e776387-89da-429c-9c30-4d0aef6cf603  Rendi Renaldi   \n",
       "\n",
       "                                           userImage  \\\n",
       "0  https://play-lh.googleusercontent.com/a-/ALV-U...   \n",
       "1  https://play-lh.googleusercontent.com/a-/ALV-U...   \n",
       "2  https://play-lh.googleusercontent.com/a-/ALV-U...   \n",
       "3  https://play-lh.googleusercontent.com/a-/ALV-U...   \n",
       "4  https://play-lh.googleusercontent.com/a/ACg8oc...   \n",
       "\n",
       "                                             content  score  thumbsUpCount  \\\n",
       "0               Lemot banget ngirim kode OTP nya ajg      1              0   \n",
       "1  Daftar pajak email aktivasi sudah, ehh pas ner...      1              0   \n",
       "2  Pas Nunggu Kode OTP nya emng GK lama,TPI GK ta...      3              0   \n",
       "3              Sangat cocok untuk melihat pajak saya      5              0   \n",
       "4                               ngabisin pulsa doang      1              0   \n",
       "\n",
       "  reviewCreatedVersion                   at  replyContent  repliedAt  \\\n",
       "0                1.4.0  2024-09-23 12:47:06           NaN        NaN   \n",
       "1                1.4.0  2024-09-23 11:29:20           NaN        NaN   \n",
       "2                1.4.0  2024-09-22 23:26:55           NaN        NaN   \n",
       "3                1.4.0  2024-09-22 13:31:47           NaN        NaN   \n",
       "4                1.4.0  2024-09-22 00:08:03           NaN        NaN   \n",
       "\n",
       "  appVersion  \n",
       "0      1.4.0  \n",
       "1      1.4.0  \n",
       "2      1.4.0  \n",
       "3      1.4.0  \n",
       "4      1.4.0  "
      ]
     },
     "execution_count": 4,
     "metadata": {},
     "output_type": "execute_result"
    }
   ],
   "source": [
    "df = pd.read_csv('dataset/data_of_mpajak_reviews_2000.csv')\n",
    "df.head()"
   ]
  },
  {
   "cell_type": "code",
   "execution_count": 5,
   "id": "d6e4e1ec-e516-4dd1-a19f-0e2457f52eea",
   "metadata": {},
   "outputs": [
    {
     "name": "stdout",
     "output_type": "stream",
     "text": [
      "<class 'pandas.core.frame.DataFrame'>\n",
      "RangeIndex: 2000 entries, 0 to 1999\n",
      "Data columns (total 12 columns):\n",
      " #   Column                Non-Null Count  Dtype  \n",
      "---  ------                --------------  -----  \n",
      " 0   Unnamed: 0            2000 non-null   int64  \n",
      " 1   reviewId              2000 non-null   object \n",
      " 2   userName              2000 non-null   object \n",
      " 3   userImage             2000 non-null   object \n",
      " 4   content               2000 non-null   object \n",
      " 5   score                 2000 non-null   int64  \n",
      " 6   thumbsUpCount         2000 non-null   int64  \n",
      " 7   reviewCreatedVersion  1591 non-null   object \n",
      " 8   at                    2000 non-null   object \n",
      " 9   replyContent          0 non-null      float64\n",
      " 10  repliedAt             0 non-null      float64\n",
      " 11  appVersion            1591 non-null   object \n",
      "dtypes: float64(2), int64(3), object(7)\n",
      "memory usage: 187.6+ KB\n"
     ]
    }
   ],
   "source": [
    "df.info()"
   ]
  },
  {
   "cell_type": "code",
   "execution_count": 6,
   "id": "bf109a57-61ad-4f6d-96e1-f2df2fab6847",
   "metadata": {},
   "outputs": [
    {
     "data": {
      "text/html": [
       "<div>\n",
       "<style scoped>\n",
       "    .dataframe tbody tr th:only-of-type {\n",
       "        vertical-align: middle;\n",
       "    }\n",
       "\n",
       "    .dataframe tbody tr th {\n",
       "        vertical-align: top;\n",
       "    }\n",
       "\n",
       "    .dataframe thead th {\n",
       "        text-align: right;\n",
       "    }\n",
       "</style>\n",
       "<table border=\"1\" class=\"dataframe\">\n",
       "  <thead>\n",
       "    <tr style=\"text-align: right;\">\n",
       "      <th></th>\n",
       "      <th>content</th>\n",
       "    </tr>\n",
       "  </thead>\n",
       "  <tbody>\n",
       "    <tr>\n",
       "      <th>0</th>\n",
       "      <td>Lemot banget ngirim kode OTP nya ajg</td>\n",
       "    </tr>\n",
       "    <tr>\n",
       "      <th>1</th>\n",
       "      <td>Daftar pajak email aktivasi sudah, ehh pas ner...</td>\n",
       "    </tr>\n",
       "    <tr>\n",
       "      <th>2</th>\n",
       "      <td>Pas Nunggu Kode OTP nya emng GK lama,TPI GK ta...</td>\n",
       "    </tr>\n",
       "    <tr>\n",
       "      <th>3</th>\n",
       "      <td>Sangat cocok untuk melihat pajak saya</td>\n",
       "    </tr>\n",
       "    <tr>\n",
       "      <th>4</th>\n",
       "      <td>ngabisin pulsa doang</td>\n",
       "    </tr>\n",
       "    <tr>\n",
       "      <th>...</th>\n",
       "      <td>...</td>\n",
       "    </tr>\n",
       "    <tr>\n",
       "      <th>1995</th>\n",
       "      <td>Biasanya lancar skrg malah gak bisa dipake.</td>\n",
       "    </tr>\n",
       "    <tr>\n",
       "      <th>1996</th>\n",
       "      <td>efin aja harus ke kantor,..thn 2023 masih kaku...</td>\n",
       "    </tr>\n",
       "    <tr>\n",
       "      <th>1997</th>\n",
       "      <td>Sekelas kementrian perpajakan bikin aplikasi a...</td>\n",
       "    </tr>\n",
       "    <tr>\n",
       "      <th>1998</th>\n",
       "      <td>Sangat miris ya, app penting dan dikelola peme...</td>\n",
       "    </tr>\n",
       "    <tr>\n",
       "      <th>1999</th>\n",
       "      <td>Begitu masuk akun langsung eror tdk bisa dibuk...</td>\n",
       "    </tr>\n",
       "  </tbody>\n",
       "</table>\n",
       "<p>2000 rows × 1 columns</p>\n",
       "</div>"
      ],
      "text/plain": [
       "                                                content\n",
       "0                  Lemot banget ngirim kode OTP nya ajg\n",
       "1     Daftar pajak email aktivasi sudah, ehh pas ner...\n",
       "2     Pas Nunggu Kode OTP nya emng GK lama,TPI GK ta...\n",
       "3                 Sangat cocok untuk melihat pajak saya\n",
       "4                                  ngabisin pulsa doang\n",
       "...                                                 ...\n",
       "1995        Biasanya lancar skrg malah gak bisa dipake.\n",
       "1996  efin aja harus ke kantor,..thn 2023 masih kaku...\n",
       "1997  Sekelas kementrian perpajakan bikin aplikasi a...\n",
       "1998  Sangat miris ya, app penting dan dikelola peme...\n",
       "1999  Begitu masuk akun langsung eror tdk bisa dibuk...\n",
       "\n",
       "[2000 rows x 1 columns]"
      ]
     },
     "execution_count": 6,
     "metadata": {},
     "output_type": "execute_result"
    }
   ],
   "source": [
    "# Memilih kolom yang diinginkan dari DataFrame\n",
    "df_content = df[['content']]\n",
    "df_content"
   ]
  },
  {
   "cell_type": "markdown",
   "id": "703e1333-7f56-4898-adef-e703f85a299a",
   "metadata": {},
   "source": [
    "### Proses Labelling"
   ]
  },
  {
   "cell_type": "code",
   "execution_count": 7,
   "id": "36eef22e-5798-4320-ad2b-7c06da8f5946",
   "metadata": {},
   "outputs": [
    {
     "name": "stderr",
     "output_type": "stream",
     "text": [
      "C:\\Users\\M S I\\AppData\\Local\\Temp\\ipykernel_9384\\3262678230.py:2: SettingWithCopyWarning: \n",
      "A value is trying to be set on a copy of a slice from a DataFrame.\n",
      "Try using .loc[row_indexer,col_indexer] = value instead\n",
      "\n",
      "See the caveats in the documentation: https://pandas.pydata.org/pandas-docs/stable/user_guide/indexing.html#returning-a-view-versus-a-copy\n",
      "  df_content['label'] = None\n"
     ]
    },
    {
     "data": {
      "text/html": [
       "<div>\n",
       "<style scoped>\n",
       "    .dataframe tbody tr th:only-of-type {\n",
       "        vertical-align: middle;\n",
       "    }\n",
       "\n",
       "    .dataframe tbody tr th {\n",
       "        vertical-align: top;\n",
       "    }\n",
       "\n",
       "    .dataframe thead th {\n",
       "        text-align: right;\n",
       "    }\n",
       "</style>\n",
       "<table border=\"1\" class=\"dataframe\">\n",
       "  <thead>\n",
       "    <tr style=\"text-align: right;\">\n",
       "      <th></th>\n",
       "      <th>content</th>\n",
       "      <th>label</th>\n",
       "    </tr>\n",
       "  </thead>\n",
       "  <tbody>\n",
       "    <tr>\n",
       "      <th>0</th>\n",
       "      <td>Lemot banget ngirim kode OTP nya ajg</td>\n",
       "      <td>None</td>\n",
       "    </tr>\n",
       "    <tr>\n",
       "      <th>1</th>\n",
       "      <td>Daftar pajak email aktivasi sudah, ehh pas ner...</td>\n",
       "      <td>None</td>\n",
       "    </tr>\n",
       "    <tr>\n",
       "      <th>2</th>\n",
       "      <td>Pas Nunggu Kode OTP nya emng GK lama,TPI GK ta...</td>\n",
       "      <td>None</td>\n",
       "    </tr>\n",
       "    <tr>\n",
       "      <th>3</th>\n",
       "      <td>Sangat cocok untuk melihat pajak saya</td>\n",
       "      <td>None</td>\n",
       "    </tr>\n",
       "    <tr>\n",
       "      <th>4</th>\n",
       "      <td>ngabisin pulsa doang</td>\n",
       "      <td>None</td>\n",
       "    </tr>\n",
       "    <tr>\n",
       "      <th>...</th>\n",
       "      <td>...</td>\n",
       "      <td>...</td>\n",
       "    </tr>\n",
       "    <tr>\n",
       "      <th>1995</th>\n",
       "      <td>Biasanya lancar skrg malah gak bisa dipake.</td>\n",
       "      <td>None</td>\n",
       "    </tr>\n",
       "    <tr>\n",
       "      <th>1996</th>\n",
       "      <td>efin aja harus ke kantor,..thn 2023 masih kaku...</td>\n",
       "      <td>None</td>\n",
       "    </tr>\n",
       "    <tr>\n",
       "      <th>1997</th>\n",
       "      <td>Sekelas kementrian perpajakan bikin aplikasi a...</td>\n",
       "      <td>None</td>\n",
       "    </tr>\n",
       "    <tr>\n",
       "      <th>1998</th>\n",
       "      <td>Sangat miris ya, app penting dan dikelola peme...</td>\n",
       "      <td>None</td>\n",
       "    </tr>\n",
       "    <tr>\n",
       "      <th>1999</th>\n",
       "      <td>Begitu masuk akun langsung eror tdk bisa dibuk...</td>\n",
       "      <td>None</td>\n",
       "    </tr>\n",
       "  </tbody>\n",
       "</table>\n",
       "<p>2000 rows × 2 columns</p>\n",
       "</div>"
      ],
      "text/plain": [
       "                                                content label\n",
       "0                  Lemot banget ngirim kode OTP nya ajg  None\n",
       "1     Daftar pajak email aktivasi sudah, ehh pas ner...  None\n",
       "2     Pas Nunggu Kode OTP nya emng GK lama,TPI GK ta...  None\n",
       "3                 Sangat cocok untuk melihat pajak saya  None\n",
       "4                                  ngabisin pulsa doang  None\n",
       "...                                                 ...   ...\n",
       "1995        Biasanya lancar skrg malah gak bisa dipake.  None\n",
       "1996  efin aja harus ke kantor,..thn 2023 masih kaku...  None\n",
       "1997  Sekelas kementrian perpajakan bikin aplikasi a...  None\n",
       "1998  Sangat miris ya, app penting dan dikelola peme...  None\n",
       "1999  Begitu masuk akun langsung eror tdk bisa dibuk...  None\n",
       "\n",
       "[2000 rows x 2 columns]"
      ]
     },
     "execution_count": 7,
     "metadata": {},
     "output_type": "execute_result"
    }
   ],
   "source": [
    "# menambahkan kolom baru untuk menampung nilai labelling\n",
    "df_content['label'] = None\n",
    "df_content"
   ]
  },
  {
   "cell_type": "code",
   "execution_count": 8,
   "id": "12ea4881-5854-441f-b76d-2b92a581f7fe",
   "metadata": {},
   "outputs": [
    {
     "name": "stdout",
     "output_type": "stream",
     "text": [
      "Review: Lemot banget ngirim kode OTP nya ajg\n"
     ]
    },
    {
     "name": "stdin",
     "output_type": "stream",
     "text": [
      "Masukkan label (Positive, Negative, Neutral) Negative\n"
     ]
    },
    {
     "name": "stdout",
     "output_type": "stream",
     "text": [
      "Review: Daftar pajak email aktivasi sudah, ehh pas nerima kode otp no hp ngga muncul udah 4jam nungguin trus dan ulang ulang di coba tetap sama tidak ada otp hadeh memperuslit aja\n"
     ]
    },
    {
     "name": "stdin",
     "output_type": "stream",
     "text": [
      "Masukkan label (Positive, Negative, Neutral) Negative\n"
     ]
    },
    {
     "name": "stdout",
     "output_type": "stream",
     "text": [
      "Review: Pas Nunggu Kode OTP nya emng GK lama,TPI GK tauu knp pas mau klik daptarr salahh Mulu,Mau daptar juga Mlah nglag. mohon lebih diperbaiki lgi\n"
     ]
    },
    {
     "name": "stdin",
     "output_type": "stream",
     "text": [
      "Masukkan label (Positive, Negative, Neutral) Negative\n"
     ]
    },
    {
     "name": "stdout",
     "output_type": "stream",
     "text": [
      "Review: Sangat cocok untuk melihat pajak saya\n"
     ]
    },
    {
     "name": "stdin",
     "output_type": "stream",
     "text": [
      "Masukkan label (Positive, Negative, Neutral) Positive\n"
     ]
    },
    {
     "name": "stdout",
     "output_type": "stream",
     "text": [
      "Review: ngabisin pulsa doang\n"
     ]
    },
    {
     "name": "stdin",
     "output_type": "stream",
     "text": [
      "Masukkan label (Positive, Negative, Neutral) Negative\n"
     ]
    },
    {
     "name": "stdout",
     "output_type": "stream",
     "text": [
      "Review: Saya udah muter-muter buka aplikasi maupun di web tetap gak bisa. Katanya akun di blokir padahal baru saja di buat. Ini gimana ceritanya saya mau urus NPWP kok gak bisa.🙄\n"
     ]
    },
    {
     "name": "stdin",
     "output_type": "stream",
     "text": [
      "Masukkan label (Positive, Negative, Neutral) Negative\n"
     ]
    },
    {
     "name": "stdout",
     "output_type": "stream",
     "text": [
      "Review: Mau bikin NPWP bagian otp nya gagal terus kesal pdhl udh isi pulsa..\n"
     ]
    },
    {
     "name": "stdin",
     "output_type": "stream",
     "text": [
      "Masukkan label (Positive, Negative, Neutral) Negative\n"
     ]
    },
    {
     "name": "stdout",
     "output_type": "stream",
     "text": [
      "Review: Aplikasi sampah\n"
     ]
    },
    {
     "name": "stdin",
     "output_type": "stream",
     "text": [
      "Masukkan label (Positive, Negative, Neutral) Negative\n"
     ]
    },
    {
     "name": "stdout",
     "output_type": "stream",
     "text": [
      "Review: Ternyata bgni pajak saya dipakai untuk aplikasi yang tidak berfungsi\n"
     ]
    },
    {
     "name": "stdin",
     "output_type": "stream",
     "text": [
      "Masukkan label (Positive, Negative, Neutral) Negative\n"
     ]
    },
    {
     "name": "stdout",
     "output_type": "stream",
     "text": [
      "Review: Bapak atau ibu yang terhormat,mohon aplikasi ini di benahi.masuknya susah,sekalinya ambil verifikasi di gmail dan mau isi ehh kembali ke tahap awal.mohon dipertimbangkan demi nama baik lembaga pajak\n"
     ]
    },
    {
     "name": "stdin",
     "output_type": "stream",
     "text": [
      "Masukkan label (Positive, Negative, Neutral) Negative\n"
     ]
    },
    {
     "name": "stdout",
     "output_type": "stream",
     "text": [
      "Review: Oke belum berkembang, mulai berkembang, sangat oke berkembang 🤭\n"
     ]
    },
    {
     "name": "stdin",
     "output_type": "stream",
     "text": [
      "Masukkan label (Positive, Negative, Neutral) Positive\n"
     ]
    },
    {
     "name": "stdout",
     "output_type": "stream",
     "text": [
      "Review: Semoga berfungsi dengan baik\n"
     ]
    },
    {
     "name": "stdin",
     "output_type": "stream",
     "text": [
      "Masukkan label (Positive, Negative, Neutral) Neutral\n"
     ]
    },
    {
     "name": "stdout",
     "output_type": "stream",
     "text": [
      "Review: Sampah memang gk bisa registrasi\n"
     ]
    },
    {
     "name": "stdin",
     "output_type": "stream",
     "text": [
      "Masukkan label (Positive, Negative, Neutral) Negative\n"
     ]
    },
    {
     "name": "stdout",
     "output_type": "stream",
     "text": [
      "Review: Sumpah ni apl bener² mempersulit bgt, gak sesuai harapan\n"
     ]
    },
    {
     "name": "stdin",
     "output_type": "stream",
     "text": [
      "Masukkan label (Positive, Negative, Neutral) Negative\n"
     ]
    },
    {
     "name": "stdout",
     "output_type": "stream",
     "text": [
      "Review: Ini duit anggaran pajak yang begitu banyak dari rakyat ga sanggup buat bayar IT yang ahli dalam bikin web dan aplikasi?\n"
     ]
    },
    {
     "name": "stdin",
     "output_type": "stream",
     "text": [
      "Masukkan label (Positive, Negative, Neutral) Negative\n"
     ]
    },
    {
     "name": "stdout",
     "output_type": "stream",
     "text": [
      "Review: Aplikasi ga bermanfaat sama sekali ga ada otak\n"
     ]
    },
    {
     "name": "stdin",
     "output_type": "stream",
     "text": [
      "Masukkan label (Positive, Negative, Neutral) Negative\n"
     ]
    },
    {
     "name": "stdout",
     "output_type": "stream",
     "text": [
      "Review: aplikasi sampah!!! di perbarui ribuan kali tetap saja sistem nya error!!!\n"
     ]
    },
    {
     "name": "stdin",
     "output_type": "stream",
     "text": [
      "Masukkan label (Positive, Negative, Neutral) Negative\n"
     ]
    },
    {
     "name": "stdout",
     "output_type": "stream",
     "text": [
      "Review: Tak bisa dipakek\n"
     ]
    },
    {
     "name": "stdin",
     "output_type": "stream",
     "text": [
      "Masukkan label (Positive, Negative, Neutral) Negative\n"
     ]
    },
    {
     "name": "stdout",
     "output_type": "stream",
     "text": [
      "Review: Baik baik saja\n"
     ]
    },
    {
     "name": "stdin",
     "output_type": "stream",
     "text": [
      "Masukkan label (Positive, Negative, Neutral) Positive\n"
     ]
    },
    {
     "name": "stdout",
     "output_type": "stream",
     "text": [
      "Review: Sangat terbantu mendapatkan EFIN. Gak perlu menunggu lama, langsung dikirimkan ke email.\n"
     ]
    },
    {
     "name": "stdin",
     "output_type": "stream",
     "text": [
      "Masukkan label (Positive, Negative, Neutral) Positive\n"
     ]
    },
    {
     "name": "stdout",
     "output_type": "stream",
     "text": [
      "Review: Ok\n"
     ]
    },
    {
     "name": "stdin",
     "output_type": "stream",
     "text": [
      "Masukkan label (Positive, Negative, Neutral) Positive\n"
     ]
    },
    {
     "name": "stdout",
     "output_type": "stream",
     "text": [
      "Review: Nunggu balesan email aja susah nya minta ampun\n"
     ]
    },
    {
     "name": "stdin",
     "output_type": "stream",
     "text": [
      "Masukkan label (Positive, Negative, Neutral) Negative\n"
     ]
    },
    {
     "name": "stdout",
     "output_type": "stream",
     "text": [
      "Review: Ok\n"
     ]
    },
    {
     "name": "stdin",
     "output_type": "stream",
     "text": [
      "Masukkan label (Positive, Negative, Neutral) Positive\n"
     ]
    },
    {
     "name": "stdout",
     "output_type": "stream",
     "text": [
      "Review: Aplikasi tidak berguna.\n"
     ]
    },
    {
     "name": "stdin",
     "output_type": "stream",
     "text": [
      "Masukkan label (Positive, Negative, Neutral) Negative\n"
     ]
    },
    {
     "name": "stdout",
     "output_type": "stream",
     "text": [
      "Review: Bikin e billing, eh nomor ebillingnya nggak berfungsi 🫠\n"
     ]
    },
    {
     "name": "stdin",
     "output_type": "stream",
     "text": [
      "Masukkan label (Positive, Negative, Neutral) Negative\n"
     ]
    },
    {
     "name": "stdout",
     "output_type": "stream",
     "text": [
      "Review: bikin aplikasi gabisa dipake buat apa dah?\n"
     ]
    },
    {
     "name": "stdin",
     "output_type": "stream",
     "text": [
      "Masukkan label (Positive, Negative, Neutral) Negative\n"
     ]
    },
    {
     "name": "stdout",
     "output_type": "stream",
     "text": [
      "Review: Aplikasinya sangat jelek, menurut saya aplikasi yang paling buruk tidak guna tak jelas lah pokoknya\n"
     ]
    },
    {
     "name": "stdin",
     "output_type": "stream",
     "text": [
      "Masukkan label (Positive, Negative, Neutral) Negative\n"
     ]
    },
    {
     "name": "stdout",
     "output_type": "stream",
     "text": [
      "Review: Password sudah sesuai malah ga bisa login 🗿\n"
     ]
    },
    {
     "name": "stdin",
     "output_type": "stream",
     "text": [
      "Masukkan label (Positive, Negative, Neutral) Negative\n"
     ]
    },
    {
     "name": "stdout",
     "output_type": "stream",
     "text": [
      "Review: Nyerah bang susah banget asli daftar npwp gua kira kalo online bisa lebih gampang ehh ternyata lebih ribet\n"
     ]
    },
    {
     "name": "stdin",
     "output_type": "stream",
     "text": [
      "Masukkan label (Positive, Negative, Neutral) Negative\n"
     ]
    },
    {
     "name": "stdout",
     "output_type": "stream",
     "text": [
      "Review: 1 untuk login susah, selalu salah\n"
     ]
    },
    {
     "name": "stdin",
     "output_type": "stream",
     "text": [
      "Masukkan label (Positive, Negative, Neutral) Negative\n"
     ]
    },
    {
     "name": "stdout",
     "output_type": "stream",
     "text": [
      "Review: Cukup rating yang bicara\n"
     ]
    },
    {
     "name": "stdin",
     "output_type": "stream",
     "text": [
      "Masukkan label (Positive, Negative, Neutral) Neutral\n"
     ]
    },
    {
     "name": "stdout",
     "output_type": "stream",
     "text": [
      "Review: SDN & NASIONALISME KURANG.....MAKAN PAJAK RAKYAT.. #KONYOL kode otp sulit...\n"
     ]
    },
    {
     "name": "stdin",
     "output_type": "stream",
     "text": [
      "Masukkan label (Positive, Negative, Neutral) Negative\n"
     ]
    },
    {
     "name": "stdout",
     "output_type": "stream",
     "text": [
      "Review: sampah bat aplikasi nya\n"
     ]
    },
    {
     "name": "stdin",
     "output_type": "stream",
     "text": [
      "Masukkan label (Positive, Negative, Neutral) Negative\n"
     ]
    },
    {
     "name": "stdout",
     "output_type": "stream",
     "text": [
      "Review: Thanx\n"
     ]
    },
    {
     "name": "stdin",
     "output_type": "stream",
     "text": [
      "Masukkan label (Positive, Negative, Neutral) Positive\n"
     ]
    },
    {
     "name": "stdout",
     "output_type": "stream",
     "text": [
      "Review: Aplikasi ruwet, betulin aplikasinya woy.. Jangan makan gaji buta.\n"
     ]
    },
    {
     "name": "stdin",
     "output_type": "stream",
     "text": [
      "Masukkan label (Positive, Negative, Neutral) Negative\n"
     ]
    },
    {
     "name": "stdout",
     "output_type": "stream",
     "text": [
      "Review: Aplikasi nya tidak jelas baru juga buat eh udah ke blokir yang bener aje rugi dong\n"
     ]
    },
    {
     "name": "stdin",
     "output_type": "stream",
     "text": [
      "Masukkan label (Positive, Negative, Neutral) Negative\n"
     ]
    },
    {
     "name": "stdout",
     "output_type": "stream",
     "text": [
      "Review: Jan duit pajak asli ne gae opo seh, kok kerjo ne koyok ngene wong pajek😤\n"
     ]
    },
    {
     "name": "stdin",
     "output_type": "stream",
     "text": [
      "Masukkan label (Positive, Negative, Neutral) Negative\n"
     ]
    },
    {
     "name": "stdout",
     "output_type": "stream",
     "text": [
      "Review: Good job! :)\n"
     ]
    },
    {
     "name": "stdin",
     "output_type": "stream",
     "text": [
      "Masukkan label (Positive, Negative, Neutral) Positive\n"
     ]
    },
    {
     "name": "stdout",
     "output_type": "stream",
     "text": [
      "Review: Sampah\n"
     ]
    },
    {
     "name": "stdin",
     "output_type": "stream",
     "text": [
      "Masukkan label (Positive, Negative, Neutral) Negative\n"
     ]
    },
    {
     "name": "stdout",
     "output_type": "stream",
     "text": [
      "Review: Gak guna👿👿\n"
     ]
    },
    {
     "name": "stdin",
     "output_type": "stream",
     "text": [
      "Masukkan label (Positive, Negative, Neutral) Negative\n"
     ]
    },
    {
     "name": "stdout",
     "output_type": "stream",
     "text": [
      "Review: Bikin aplikasi ga pernah niat banget ini pemerintah, uangnya di kemanain dah itu. Aplikasi sekelah pemerintah kalah sma aplikasi buatan anak kejuruan 😌 ini pke aplikasi, tetep aja di lemparnya ke website pake peramban yg ada di hp ny\n"
     ]
    },
    {
     "name": "stdin",
     "output_type": "stream",
     "text": [
      "Masukkan label (Positive, Negative, Neutral) Negative\n"
     ]
    },
    {
     "name": "stdout",
     "output_type": "stream",
     "text": [
      "Review: Gak jelas, , log in di web bisa.. Loh in di aplikasi error terus...\n"
     ]
    },
    {
     "name": "stdin",
     "output_type": "stream",
     "text": [
      "Masukkan label (Positive, Negative, Neutral) Negative\n"
     ]
    },
    {
     "name": "stdout",
     "output_type": "stream",
     "text": [
      "Review: Bagus\n"
     ]
    },
    {
     "name": "stdin",
     "output_type": "stream",
     "text": [
      "Masukkan label (Positive, Negative, Neutral) Positive\n"
     ]
    },
    {
     "name": "stdout",
     "output_type": "stream",
     "text": [
      "Review: Aplikasi kemplo, buang-buang duit negara\n"
     ]
    },
    {
     "name": "stdin",
     "output_type": "stream",
     "text": [
      "Masukkan label (Positive, Negative, Neutral) Negative\n"
     ]
    },
    {
     "name": "stdout",
     "output_type": "stream",
     "text": [
      "Review: Aplikasi anak bangsa emang ampas, jelek, kualitas buruk,, server sering eror padahal jaringan lancar paket banyak,, perbaiki lagi dek aplikasinya, sekelas aplikasi pejabat kualitas buruk, uang kencang minta urus lama\n"
     ]
    },
    {
     "name": "stdin",
     "output_type": "stream",
     "text": [
      "Masukkan label (Positive, Negative, Neutral) Negative\n"
     ]
    },
    {
     "name": "stdout",
     "output_type": "stream",
     "text": [
      "Review: Sangay bermangfaat sekali sangat membantu\n"
     ]
    },
    {
     "name": "stdin",
     "output_type": "stream",
     "text": [
      "Masukkan label (Positive, Negative, Neutral) Positive\n"
     ]
    },
    {
     "name": "stdout",
     "output_type": "stream",
     "text": [
      "Review: Sangat membantu dalam pembayaran pajak tanpa perlu ke kantornya lagi\n"
     ]
    },
    {
     "name": "stdin",
     "output_type": "stream",
     "text": [
      "Masukkan label (Positive, Negative, Neutral) Positive\n"
     ]
    },
    {
     "name": "stdout",
     "output_type": "stream",
     "text": [
      "Review: Baru download udah gak bisa kebuka,njir belum apa apa loh,mempersulit rakyat banget sih\n"
     ]
    },
    {
     "name": "stdin",
     "output_type": "stream",
     "text": [
      "Masukkan label (Positive, Negative, Neutral) Negative\n"
     ]
    },
    {
     "name": "stdout",
     "output_type": "stream",
     "text": [
      "Review: Aplikasi paling buruk yg pernah ada\n"
     ]
    },
    {
     "name": "stdin",
     "output_type": "stream",
     "text": [
      "Masukkan label (Positive, Negative, Neutral) Negative\n"
     ]
    },
    {
     "name": "stdout",
     "output_type": "stream",
     "text": [
      "Review: Ok\n"
     ]
    },
    {
     "name": "stdin",
     "output_type": "stream",
     "text": [
      "Masukkan label (Positive, Negative, Neutral) Positive\n"
     ]
    },
    {
     "name": "stdout",
     "output_type": "stream",
     "text": [
      "Review: Lupa EFIN masih sulit dan ribet. Harusnya ada opsi untuk kirim kode EFIN via SMS/WA. Jangan hanya via e-mail saja.\n"
     ]
    },
    {
     "name": "stdin",
     "output_type": "stream",
     "text": [
      "Masukkan label (Positive, Negative, Neutral) Negative\n"
     ]
    },
    {
     "name": "stdout",
     "output_type": "stream",
     "text": [
      "Review: Ga Guna!!!\n"
     ]
    },
    {
     "name": "stdin",
     "output_type": "stream",
     "text": [
      "Masukkan label (Positive, Negative, Neutral) Negative\n"
     ]
    },
    {
     "name": "stdout",
     "output_type": "stream",
     "text": [
      "Review: Tolong admin, kenapa ya ini gak bisa bikin Form Pajak pph21.. Tombol buat nya gk timbul2\n"
     ]
    },
    {
     "name": "stdin",
     "output_type": "stream",
     "text": [
      "Masukkan label (Positive, Negative, Neutral) Negative\n"
     ]
    },
    {
     "name": "stdout",
     "output_type": "stream",
     "text": [
      "Review: Susah login ,Ribet. Sudah daftar akun di aktivasi malah GK bisa login\n"
     ]
    },
    {
     "name": "stdin",
     "output_type": "stream",
     "text": [
      "Masukkan label (Positive, Negative, Neutral) Negative\n"
     ]
    },
    {
     "name": "stdout",
     "output_type": "stream",
     "text": [
      "Review: situs tidak dapat dijangkau 🤣🤣🤣\n"
     ]
    },
    {
     "name": "stdin",
     "output_type": "stream",
     "text": [
      "Masukkan label (Positive, Negative, Neutral) Negative\n"
     ]
    },
    {
     "name": "stdout",
     "output_type": "stream",
     "text": [
      "Review: Knpa daftar NPWP online susah\n"
     ]
    },
    {
     "name": "stdin",
     "output_type": "stream",
     "text": [
      "Masukkan label (Positive, Negative, Neutral) Negative\n"
     ]
    },
    {
     "name": "stdout",
     "output_type": "stream",
     "text": [
      "Review: Apknya error terus....susahnya cm mau minta efin aja... knp jd smua serba susah ya sekarang klo ngurus apa\"\n"
     ]
    },
    {
     "name": "stdin",
     "output_type": "stream",
     "text": [
      "Masukkan label (Positive, Negative, Neutral) Negative\n"
     ]
    },
    {
     "name": "stdout",
     "output_type": "stream",
     "text": [
      "Review: aplikasi nya mohon di perbaiki. suka force close sendiri. harap di perbaiki sesuai dengan nama aplikasi yaitu PAJAK. Anda di bayar dari rakyat. jadi tolong bikin web yg seharus nya seperti apa. jangan seperti aplikasi\" murah. Seharus nya anda membaca ulasan dari penilaian ya. !!!! Woi t*l*l respon\n"
     ]
    },
    {
     "name": "stdin",
     "output_type": "stream",
     "text": [
      "Masukkan label (Positive, Negative, Neutral) Negative\n"
     ]
    },
    {
     "name": "stdout",
     "output_type": "stream",
     "text": [
      "Review: Website pendaftaran sangat buruk\n"
     ]
    },
    {
     "name": "stdin",
     "output_type": "stream",
     "text": [
      "Masukkan label (Positive, Negative, Neutral) Negative\n"
     ]
    },
    {
     "name": "stdout",
     "output_type": "stream",
     "text": [
      "Review: Aplikasi gblok cap t*i\n"
     ]
    },
    {
     "name": "stdin",
     "output_type": "stream",
     "text": [
      "Masukkan label (Positive, Negative, Neutral) Negative\n"
     ]
    },
    {
     "name": "stdout",
     "output_type": "stream",
     "text": [
      "Review: Ribet banget\n"
     ]
    },
    {
     "name": "stdin",
     "output_type": "stream",
     "text": [
      "Masukkan label (Positive, Negative, Neutral) Negative\n"
     ]
    },
    {
     "name": "stdout",
     "output_type": "stream",
     "text": [
      "Review: Lawak asli ini aplikasi, buang2 duit doang\n"
     ]
    },
    {
     "name": "stdin",
     "output_type": "stream",
     "text": [
      "Masukkan label (Positive, Negative, Neutral) Negative\n"
     ]
    },
    {
     "name": "stdout",
     "output_type": "stream",
     "text": [
      "Review: bagus\n"
     ]
    },
    {
     "name": "stdin",
     "output_type": "stream",
     "text": [
      "Masukkan label (Positive, Negative, Neutral) Positive\n"
     ]
    },
    {
     "name": "stdout",
     "output_type": "stream",
     "text": [
      "Review: TOLONG diupdate fitur dalam aplikasinya, agar ada fitur untuk dapat meminta No EFFIN baru scr online, ngapain bikin aplikasi buat dipakai secara online, kalau pengurusan untuk no Effin 1st time saja harus secara manual? Aplikasi dibuat untuk memudahkan user bukan merepotkan. Aplikasinya tidak berguna sama sekali ini. 1 lagi NPWP saya dibuat scr online, katanya kartu fisiknya akan dikirimkan 2 Minggu kemudian, ke rumah, tapi sampai detik ini, kartunya blm juga sampai ke alamat rmh saya. Miris!!\n"
     ]
    },
    {
     "name": "stdin",
     "output_type": "stream",
     "text": [
      "Masukkan label (Positive, Negative, Neutral) Negative\n"
     ]
    },
    {
     "name": "stdout",
     "output_type": "stream",
     "text": [
      "Review: Data gagal tersimpan eror padahal sudah tinggal terakhir aktivasi\n"
     ]
    },
    {
     "name": "stdin",
     "output_type": "stream",
     "text": [
      "Masukkan label (Positive, Negative, Neutral) Negative\n"
     ]
    },
    {
     "name": "stdout",
     "output_type": "stream",
     "text": [
      "Review: Aplikasi ga berguna\n"
     ]
    },
    {
     "name": "stdin",
     "output_type": "stream",
     "text": [
      "Masukkan label (Positive, Negative, Neutral) Negative\n"
     ]
    },
    {
     "name": "stdout",
     "output_type": "stream",
     "text": [
      "Review: Kalo gk butuh² amat males dah instal nya juga, baru aja download udah di suruh update lagi, hadeuh belum aja di pake udah menghambat🤦‍♀️\n"
     ]
    },
    {
     "name": "stdin",
     "output_type": "stream",
     "text": [
      "Masukkan label (Positive, Negative, Neutral) Negative\n"
     ]
    },
    {
     "name": "stdout",
     "output_type": "stream",
     "text": [
      "Review: Ini bagaimana yaa mau pengajuan ulang EFIN pas dapat otp dari email selalu gagal terus entah darimana nya coba, coba tolong diperbaiki lagi lah , mau datang ke KPP kejauhan masalah nya\n"
     ]
    },
    {
     "name": "stdin",
     "output_type": "stream",
     "text": [
      "Masukkan label (Positive, Negative, Neutral) Negative\n"
     ]
    },
    {
     "name": "stdout",
     "output_type": "stream",
     "text": [
      "Review: Sangat Membantu\n"
     ]
    },
    {
     "name": "stdin",
     "output_type": "stream",
     "text": [
      "Masukkan label (Positive, Negative, Neutral) Positive\n"
     ]
    },
    {
     "name": "stdout",
     "output_type": "stream",
     "text": [
      "Review: Aplikasi GK gunaa\n"
     ]
    },
    {
     "name": "stdin",
     "output_type": "stream",
     "text": [
      "Masukkan label (Positive, Negative, Neutral) Negative\n"
     ]
    },
    {
     "name": "stdout",
     "output_type": "stream",
     "text": [
      "Review: ERORRR TERUUUSSSSS\n"
     ]
    },
    {
     "name": "stdin",
     "output_type": "stream",
     "text": [
      "Masukkan label (Positive, Negative, Neutral) Negative\n"
     ]
    },
    {
     "name": "stdout",
     "output_type": "stream",
     "text": [
      "Review: Sepertinya pliksi mupun web berguna atau berfungsi klo di dalam gedung pajaknya deh, solnya email sma pass yang aku masukkan ydah bener bgt gak salah tpi tertera salah. Wkwkwk\n"
     ]
    },
    {
     "name": "stdin",
     "output_type": "stream",
     "text": [
      "Masukkan label (Positive, Negative, Neutral) Negative\n"
     ]
    },
    {
     "name": "stdout",
     "output_type": "stream",
     "text": [
      "Review: Bagus\n"
     ]
    },
    {
     "name": "stdin",
     "output_type": "stream",
     "text": [
      "Masukkan label (Positive, Negative, Neutral) Positive\n"
     ]
    },
    {
     "name": "stdout",
     "output_type": "stream",
     "text": [
      "Review: Sudah lama tidak buka djp, begitu dibuka kagak bisa lagi, admin mohon di perbaikin demi kelancaran.\n"
     ]
    },
    {
     "name": "stdin",
     "output_type": "stream",
     "text": [
      "Masukkan label (Positive, Negative, Neutral) Negative\n"
     ]
    },
    {
     "name": "stdout",
     "output_type": "stream",
     "text": [
      "Review: oke\n"
     ]
    },
    {
     "name": "stdin",
     "output_type": "stream",
     "text": [
      "Masukkan label (Positive, Negative, Neutral) Positive\n"
     ]
    },
    {
     "name": "stdout",
     "output_type": "stream",
     "text": [
      "Review: Aplikasi banyak bug. Gak jelas. Pencet dikit malah keluar sendiri\n"
     ]
    },
    {
     "name": "stdin",
     "output_type": "stream",
     "text": [
      "Masukkan label (Positive, Negative, Neutral) Negative\n"
     ]
    },
    {
     "name": "stdout",
     "output_type": "stream",
     "text": [
      "Review: PERBAIKI SYSTEMNYA!!!! JANGAN CUMA MALAK DOANG SU!!\n"
     ]
    },
    {
     "name": "stdin",
     "output_type": "stream",
     "text": [
      "Masukkan label (Positive, Negative, Neutral) Negative\n"
     ]
    },
    {
     "name": "stdout",
     "output_type": "stream",
     "text": [
      "Review: Aplkasi gk jelas\n"
     ]
    },
    {
     "name": "stdin",
     "output_type": "stream",
     "text": [
      "Masukkan label (Positive, Negative, Neutral) Negative\n"
     ]
    },
    {
     "name": "stdout",
     "output_type": "stream",
     "text": [
      "Review: Aplikasi sampah buang\" duit rakyat aja Halah\n"
     ]
    },
    {
     "name": "stdin",
     "output_type": "stream",
     "text": [
      "Masukkan label (Positive, Negative, Neutral) Negative\n"
     ]
    },
    {
     "name": "stdout",
     "output_type": "stream",
     "text": [
      "Review: Sampah gk ada fungsi sama sekali....\n"
     ]
    },
    {
     "name": "stdin",
     "output_type": "stream",
     "text": [
      "Masukkan label (Positive, Negative, Neutral) Negative\n"
     ]
    },
    {
     "name": "stdout",
     "output_type": "stream",
     "text": [
      "Review: Asli busuk banget smpe pulsa hbis gk bisa verti otp\n"
     ]
    },
    {
     "name": "stdin",
     "output_type": "stream",
     "text": [
      "Masukkan label (Positive, Negative, Neutral) Negative\n"
     ]
    },
    {
     "name": "stdout",
     "output_type": "stream",
     "text": [
      "Review: Useless\n"
     ]
    },
    {
     "name": "stdin",
     "output_type": "stream",
     "text": [
      "Masukkan label (Positive, Negative, Neutral) Negative\n"
     ]
    },
    {
     "name": "stdout",
     "output_type": "stream",
     "text": [
      "Review: APLIKASI BUSUK !!!!!!!!!!!\n"
     ]
    },
    {
     "name": "stdin",
     "output_type": "stream",
     "text": [
      "Masukkan label (Positive, Negative, Neutral) Negative\n"
     ]
    },
    {
     "name": "stdout",
     "output_type": "stream",
     "text": [
      "Review: Syarat lengkap cepat,,\n"
     ]
    },
    {
     "name": "stdin",
     "output_type": "stream",
     "text": [
      "Masukkan label (Positive, Negative, Neutral) Positive\n"
     ]
    },
    {
     "name": "stdout",
     "output_type": "stream",
     "text": [
      "Review: Bad\n"
     ]
    },
    {
     "name": "stdin",
     "output_type": "stream",
     "text": [
      "Masukkan label (Positive, Negative, Neutral) Negative\n"
     ]
    },
    {
     "name": "stdout",
     "output_type": "stream",
     "text": [
      "Review: plis laah pelayanan di tingkatin lagi, mau login akun pun susah banget udah nunggu lama eh katanya admin masi sibuk hmmmm🗿🗿\n"
     ]
    },
    {
     "name": "stdin",
     "output_type": "stream",
     "text": [
      "Masukkan label (Positive, Negative, Neutral) Negative\n"
     ]
    },
    {
     "name": "stdout",
     "output_type": "stream",
     "text": [
      "Review: aplikasi sampah, negara bayar lu pake uang kami bikin aplikasi begini aja ga becus\n"
     ]
    },
    {
     "name": "stdin",
     "output_type": "stream",
     "text": [
      "Masukkan label (Positive, Negative, Neutral) Negative\n"
     ]
    },
    {
     "name": "stdout",
     "output_type": "stream",
     "text": [
      "Review: Jos\n"
     ]
    },
    {
     "name": "stdin",
     "output_type": "stream",
     "text": [
      "Masukkan label (Positive, Negative, Neutral) Positive\n"
     ]
    },
    {
     "name": "stdout",
     "output_type": "stream",
     "text": [
      "Review: Ok\n"
     ]
    },
    {
     "name": "stdin",
     "output_type": "stream",
     "text": [
      "Masukkan label (Positive, Negative, Neutral) Positive\n"
     ]
    },
    {
     "name": "stdout",
     "output_type": "stream",
     "text": [
      "Review: Bulan Juni kalau nggak Juli kemarin aku unduh apk ini karna lupa efin. Mudah tapi untuk nunggu email buat Nerima kode nya laaaamaaaaaaa bangtt gak ada masuk malah.. berkali² dicoba dihari² brikutnya masih sama.. pilih dikirim pakai nomor juga gak bisa.. trus pasrah.. hapus apk.. trus sekarang iseng² lagi eh bisaa.. cepet lagi nggak kaya yang bulan² kemarin.. lancar sampai bisa lihat kartu NPWP online ku.. terimakasih sudah di update untuk pelayanannya.. SAYAA SANGAATTT TERBANTUUU TERIMAKASIH 🙏\n"
     ]
    },
    {
     "name": "stdin",
     "output_type": "stream",
     "text": [
      "Masukkan label (Positive, Negative, Neutral) Neutral\n"
     ]
    },
    {
     "name": "stdout",
     "output_type": "stream",
     "text": [
      "Review: Mau minta efin kagak bisa2 selalu keluar sendiri dari aplikasi!!!!! 👎\n"
     ]
    },
    {
     "name": "stdin",
     "output_type": "stream",
     "text": [
      "Masukkan label (Positive, Negative, Neutral) Negative\n"
     ]
    },
    {
     "name": "stdout",
     "output_type": "stream",
     "text": [
      "Review: Aplikasi sampaaaaaaah\n"
     ]
    },
    {
     "name": "stdin",
     "output_type": "stream",
     "text": [
      "Masukkan label (Positive, Negative, Neutral) Negative\n"
     ]
    },
    {
     "name": "stdout",
     "output_type": "stream",
     "text": [
      "Review: Apus aja sampah\n"
     ]
    },
    {
     "name": "stdin",
     "output_type": "stream",
     "text": [
      "Masukkan label (Positive, Negative, Neutral) Negative\n"
     ]
    },
    {
     "name": "stdout",
     "output_type": "stream",
     "text": [
      "Review: Susah mendaftar\n"
     ]
    },
    {
     "name": "stdin",
     "output_type": "stream",
     "text": [
      "Masukkan label (Positive, Negative, Neutral) Negative\n"
     ]
    },
    {
     "name": "stdout",
     "output_type": "stream",
     "text": [
      "Review: enggak bisa login, mau di isi informasi akun yg benar juga tetap enggak bisa login, coba pakai cara password juga situsnya enggak bisa di akses, aplikasi apaan ini\n"
     ]
    },
    {
     "name": "stdin",
     "output_type": "stream",
     "text": [
      "Masukkan label (Positive, Negative, Neutral) Negative\n"
     ]
    },
    {
     "name": "stdout",
     "output_type": "stream",
     "text": [
      "Review: baru beberapa menit instal apk ini....mau masuk ada laporan suruh update... yang harus di update apanya...????\n"
     ]
    },
    {
     "name": "stdin",
     "output_type": "stream",
     "text": [
      "Masukkan label (Positive, Negative, Neutral) Negative\n"
     ]
    },
    {
     "name": "stdout",
     "output_type": "stream",
     "text": [
      "Review: otp nya susah masuk sekali masuk gagal bang ini solusinya gimana\n"
     ]
    },
    {
     "name": "stdin",
     "output_type": "stream",
     "text": [
      "Masukkan label (Positive, Negative, Neutral) Negative\n"
     ]
    },
    {
     "name": "stdout",
     "output_type": "stream",
     "text": [
      "Review: Ga guna banget, gabisa buka web apapun lambat bgt aplikasinya!\n"
     ]
    },
    {
     "name": "stdin",
     "output_type": "stream",
     "text": [
      "Masukkan label (Positive, Negative, Neutral) Negative\n"
     ]
    },
    {
     "name": "stdout",
     "output_type": "stream",
     "text": [
      "Review: Sengaja aplikasi di erorkan dan tidak diperbaiki,,,agar masyarakat bayar buat pembuatannya 💩💩💩💩💩💩💩💩💩💩💩💩💩💩💩💩💩💩💩💩💩💩💩💩💩💩💩💩💩💩💩💩💩💩💩💩💩💩💩💩💩💩💩💩💩💩💩💩💩💩💩💩💩💩💩💩💩💩\n"
     ]
    },
    {
     "name": "stdin",
     "output_type": "stream",
     "text": [
      "Masukkan label (Positive, Negative, Neutral) Negative\n"
     ]
    },
    {
     "name": "stdout",
     "output_type": "stream",
     "text": [
      "Review: Bug di pelihara aplikasi tolol otp udah benar masi salah trs\n"
     ]
    },
    {
     "name": "stdin",
     "output_type": "stream",
     "text": [
      "Masukkan label (Positive, Negative, Neutral) Negative\n"
     ]
    },
    {
     "name": "stdout",
     "output_type": "stream",
     "text": [
      "Review: APLIKASI GA JELAS, BUANG BUANG PULSA DOANG!! PADAHAL SAYA SUDAH NGETIK CAPTCHA DENGAN BENAR TAPI MASIH SALAH AJA.\n"
     ]
    },
    {
     "name": "stdin",
     "output_type": "stream",
     "text": [
      "Masukkan label (Positive, Negative, Neutral) Negative\n"
     ]
    },
    {
     "name": "stdout",
     "output_type": "stream",
     "text": [
      "Review: Aplikasi sangat tidak membantu alias pembodohan\n"
     ]
    },
    {
     "name": "stdin",
     "output_type": "stream",
     "text": [
      "Masukkan label (Positive, Negative, Neutral) Negative\n"
     ]
    },
    {
     "name": "stdout",
     "output_type": "stream",
     "text": [
      "Review: G bisa di klik tuh menu daftarnya ..Buang2 anggaran negara,bikin aplikasi sampah.harusnya di permudah untuk urusan income bagi pemerintah.malqh bikin masyarakat jadi males\n"
     ]
    },
    {
     "name": "stdin",
     "output_type": "stream",
     "text": [
      "Masukkan label (Positive, Negative, Neutral) Negative\n"
     ]
    },
    {
     "name": "stdout",
     "output_type": "stream",
     "text": [
      "Review: Gada gunanya, link mereka gabisa diakses wkwkwk\n"
     ]
    },
    {
     "name": "stdin",
     "output_type": "stream",
     "text": [
      "Masukkan label (Positive, Negative, Neutral) Negative\n"
     ]
    },
    {
     "name": "stdout",
     "output_type": "stream",
     "text": [
      "Review: Ok\n"
     ]
    },
    {
     "name": "stdin",
     "output_type": "stream",
     "text": [
      "Masukkan label (Positive, Negative, Neutral) Positive\n"
     ]
    },
    {
     "name": "stdout",
     "output_type": "stream",
     "text": [
      "Review: Via aplikasi lelet, via web pun lelet... Bintang 1\n"
     ]
    },
    {
     "name": "stdin",
     "output_type": "stream",
     "text": [
      "Masukkan label (Positive, Negative, Neutral) Negative\n"
     ]
    },
    {
     "name": "stdout",
     "output_type": "stream",
     "text": [
      "Review: Aplikasi ga jelas, lebih banyak error daripada benernya\n"
     ]
    },
    {
     "name": "stdin",
     "output_type": "stream",
     "text": [
      "Masukkan label (Positive, Negative, Neutral) Negative\n"
     ]
    },
    {
     "name": "stdout",
     "output_type": "stream",
     "text": [
      "Review: Aneh nih aplikasi sdh di konfir kekantor dan sdh terdaftar.kok setelah coba nih apk malah tidak terdaftar.apk aneh nggak beres.tidak layak mendapat nilai rangking.perlu perbaikan lagi biar para user pengguna puas.terima kasih\n"
     ]
    },
    {
     "name": "stdin",
     "output_type": "stream",
     "text": [
      "Masukkan label (Positive, Negative, Neutral) Negative\n"
     ]
    },
    {
     "name": "stdout",
     "output_type": "stream",
     "text": [
      "Review: Aplikasi tidak bisa digunakan, pake wifi ga bisa pake data juga ga bisa jelek banget ini aplikasi nya\n"
     ]
    },
    {
     "name": "stdin",
     "output_type": "stream",
     "text": [
      "Masukkan label (Positive, Negative, Neutral) Negative\n"
     ]
    },
    {
     "name": "stdout",
     "output_type": "stream",
     "text": [
      "Review: Parah, aplikasi gak jelas!!!!!!\n"
     ]
    },
    {
     "name": "stdin",
     "output_type": "stream",
     "text": [
      "Masukkan label (Positive, Negative, Neutral) Negative\n"
     ]
    },
    {
     "name": "stdout",
     "output_type": "stream",
     "text": [
      "Review: Alhamdulillah lewat aplikasi ini, sy sudah dapat NPWP dengar mudah dan juga no efin serta kartunya... Terima kasih atas bantuan dan pelayanannya🙏🙏🙏\n"
     ]
    },
    {
     "name": "stdin",
     "output_type": "stream",
     "text": [
      "Masukkan label (Positive, Negative, Neutral) Positive\n"
     ]
    },
    {
     "name": "stdout",
     "output_type": "stream",
     "text": [
      "Review: kata sandi dan nik sudah benar tapi berkali kali gagal login.... giliran bisa tiba tiba log out sendiri.... gimana bisa memadankan NPWP dan nik... tolong ya kalo belom siap membuat aplikasi jangan sedikit sedikit pake aplikasi.... malah mempersulit saja.!!!\n"
     ]
    },
    {
     "name": "stdin",
     "output_type": "stream",
     "text": [
      "Masukkan label (Positive, Negative, Neutral) Negative\n"
     ]
    },
    {
     "name": "stdout",
     "output_type": "stream",
     "text": [
      "Review: nerima duit mulu bisanya ,suruh ngembangin aplikasi buat membantu masyarakat malah error terus baik aplikasi ataupun servernya\n"
     ]
    },
    {
     "name": "stdin",
     "output_type": "stream",
     "text": [
      "Masukkan label (Positive, Negative, Neutral) Negative\n"
     ]
    },
    {
     "name": "stdout",
     "output_type": "stream",
     "text": [
      "Review: Cek ok\n"
     ]
    },
    {
     "name": "stdin",
     "output_type": "stream",
     "text": [
      "Masukkan label (Positive, Negative, Neutral) Positive\n"
     ]
    },
    {
     "name": "stdout",
     "output_type": "stream",
     "text": [
      "Review: PAJAK TERUSSS... JALAN RUSAK BIKIN AMBERO DAN JANTUNG PROTOL\n"
     ]
    },
    {
     "name": "stdin",
     "output_type": "stream",
     "text": [
      "Masukkan label (Positive, Negative, Neutral) Negative\n"
     ]
    },
    {
     "name": "stdout",
     "output_type": "stream",
     "text": [
      "Review: aplikasi ga jelas eror muluuuuu ga bisa login samsek dih\n"
     ]
    },
    {
     "name": "stdin",
     "output_type": "stream",
     "text": [
      "Masukkan label (Positive, Negative, Neutral) Negative\n"
     ]
    },
    {
     "name": "stdout",
     "output_type": "stream",
     "text": [
      "Review: Aplikasi gak niat, cuma niat nerima duit pajaknya doang, giliran lupa password gk bisa diurus langsung dari apknya, ketika diklik lupa passwor malah ditujukan ke website kosong LOL, sekelas pemerintah pajak apknya butut banget, masih bagusan apk livin yg mana kalo lupa password gampang.\n"
     ]
    },
    {
     "name": "stdin",
     "output_type": "stream",
     "text": [
      "Masukkan label (Positive, Negative, Neutral) Negative\n"
     ]
    },
    {
     "name": "stdout",
     "output_type": "stream",
     "text": [
      "Review: Apk pemerintah tp low performa...rakyat mau pajak aja dipersulit...ujung-ujungnya dikorupsi 😤\n"
     ]
    },
    {
     "name": "stdin",
     "output_type": "stream",
     "text": [
      "Masukkan label (Positive, Negative, Neutral) Negative\n"
     ]
    },
    {
     "name": "stdout",
     "output_type": "stream",
     "text": [
      "Review: Bermanfaat\n"
     ]
    },
    {
     "name": "stdin",
     "output_type": "stream",
     "text": [
      "Masukkan label (Positive, Negative, Neutral) Positive\n"
     ]
    },
    {
     "name": "stdout",
     "output_type": "stream",
     "text": [
      "Review: Aplikasi sampah. Mau daftar aja tidak bisa. Sampah banget. Rugi saya sudah terlanjur download. Langsung saya delete aja.\n"
     ]
    },
    {
     "name": "stdin",
     "output_type": "stream",
     "text": [
      "Masukkan label (Positive, Negative, Neutral) Negative\n"
     ]
    },
    {
     "name": "stdout",
     "output_type": "stream",
     "text": [
      "Review: Tolong di perbaiki lagi, kok jaringan selalu ngak ke sambung padahal wifi aktif, juga npwp salahlah apalah.. ribet banget ni aplikasi.\n"
     ]
    },
    {
     "name": "stdin",
     "output_type": "stream",
     "text": [
      "Masukkan label (Positive, Negative, Neutral) Negative\n"
     ]
    },
    {
     "name": "stdout",
     "output_type": "stream",
     "text": [
      "Review: Buruk\n"
     ]
    },
    {
     "name": "stdin",
     "output_type": "stream",
     "text": [
      "Masukkan label (Positive, Negative, Neutral) Negative\n"
     ]
    },
    {
     "name": "stdout",
     "output_type": "stream",
     "text": [
      "Review: Maklum yang kerja di pemerintahan rata orang tolol semua. Aplikasi bikin emosi doang. Yg masuk kerja boleh bawaan keluarga jadi sebenernya pada gabisa kerja\n"
     ]
    },
    {
     "name": "stdin",
     "output_type": "stream",
     "text": [
      "Masukkan label (Positive, Negative, Neutral) Negative\n"
     ]
    },
    {
     "name": "stdout",
     "output_type": "stream",
     "text": [
      "Review: Sangat lengkap infonya\n"
     ]
    },
    {
     "name": "stdin",
     "output_type": "stream",
     "text": [
      "Masukkan label (Positive, Negative, Neutral) Positive\n"
     ]
    },
    {
     "name": "stdout",
     "output_type": "stream",
     "text": [
      "Review: Good\n"
     ]
    },
    {
     "name": "stdin",
     "output_type": "stream",
     "text": [
      "Masukkan label (Positive, Negative, Neutral) Positive\n"
     ]
    },
    {
     "name": "stdout",
     "output_type": "stream",
     "text": [
      "Review: Hancur Tidak bisa login password bener di bilang salah Ganti password jaringan bermasalah, padahal jaringan bagus\n"
     ]
    },
    {
     "name": "stdin",
     "output_type": "stream",
     "text": [
      "Masukkan label (Positive, Negative, Neutral) Negative\n"
     ]
    },
    {
     "name": "stdout",
     "output_type": "stream",
     "text": [
      "Review: Apa gunanya aplikasi kalau ujung-ujungnya dialihkan ke web. Daftar NPWP aja ribet gini. Gak mampu bayar designer kah? Gak mampu bayar operator yang berkompeten kah?\n"
     ]
    },
    {
     "name": "stdin",
     "output_type": "stream",
     "text": [
      "Masukkan label (Positive, Negative, Neutral) Negative\n"
     ]
    },
    {
     "name": "stdout",
     "output_type": "stream",
     "text": [
      "Review: Apk sampah\n"
     ]
    },
    {
     "name": "stdin",
     "output_type": "stream",
     "text": [
      "Masukkan label (Positive, Negative, Neutral) Negative\n"
     ]
    },
    {
     "name": "stdout",
     "output_type": "stream",
     "text": [
      "Review: Aplikasinya bikin bingung gak satset. Log in salah terus padahal udah sesuai.\n"
     ]
    },
    {
     "name": "stdin",
     "output_type": "stream",
     "text": [
      "Masukkan label (Positive, Negative, Neutral) Negative\n"
     ]
    },
    {
     "name": "stdout",
     "output_type": "stream",
     "text": [
      "Review: Ribett x kyk uppriittt, lupa sandi aja ribet x proses oemulihannya. Taik\n"
     ]
    },
    {
     "name": "stdin",
     "output_type": "stream",
     "text": [
      "Masukkan label (Positive, Negative, Neutral) Negative\n"
     ]
    },
    {
     "name": "stdout",
     "output_type": "stream",
     "text": [
      "Review: Kalo buka pake hp, kolom informasi nya kurang lengkap. Minta info ke admin kerjanya lelet. Ditanya pagi, sore me jelang tutup kantor barudiberi jawaban, Mau buka djp online sesuai petunjuk admin, malah ga ada menu-nya. Ribet jg org pajak. Buat dapat NPWP yg sudah diperbaharui berupa pdf aja muter2 bukannya langsung kirim ke alamat email yg sudah terdaftar.\n"
     ]
    },
    {
     "name": "stdin",
     "output_type": "stream",
     "text": [
      "Masukkan label (Positive, Negative, Neutral) Negative\n"
     ]
    },
    {
     "name": "stdout",
     "output_type": "stream",
     "text": [
      "Review: Yang anehnya aplikasi ini.. sudah masuk aplikasi trus keluar mau masuk dengan kata sandi yang benar dan no npwp benar,, tapi bilangnya EROR\n"
     ]
    },
    {
     "name": "stdin",
     "output_type": "stream",
     "text": [
      "Masukkan label (Positive, Negative, Neutral) Negative\n"
     ]
    },
    {
     "name": "stdout",
     "output_type": "stream",
     "text": [
      "Review: gk web gk aplikasi semua bermasalah dikit-dikit eror emang tua mana ngerti teknologi\n"
     ]
    },
    {
     "name": "stdin",
     "output_type": "stream",
     "text": [
      "Masukkan label (Positive, Negative, Neutral) Negative\n"
     ]
    },
    {
     "name": "stdout",
     "output_type": "stream",
     "text": [
      "Review: apk penuh bug apapun dari pemerintahan pasti apk jelek\n"
     ]
    },
    {
     "name": "stdin",
     "output_type": "stream",
     "text": [
      "Masukkan label (Positive, Negative, Neutral) Negative\n"
     ]
    },
    {
     "name": "stdout",
     "output_type": "stream",
     "text": [
      "Review: apk bermasalah.... GK jelas\n"
     ]
    },
    {
     "name": "stdin",
     "output_type": "stream",
     "text": [
      "Masukkan label (Positive, Negative, Neutral) Negative\n"
     ]
    },
    {
     "name": "stdout",
     "output_type": "stream",
     "text": [
      "Review: Klo gak bisa dipakai atau belum siap jgn di share dlu ni aplikasi\n"
     ]
    },
    {
     "name": "stdin",
     "output_type": "stream",
     "text": [
      "Masukkan label (Positive, Negative, Neutral) Negative\n"
     ]
    },
    {
     "name": "stdout",
     "output_type": "stream",
     "text": [
      "Review: Ga usah sok bikin aplikasi kalo error begini. Website ga bisa, aplikasi juga sama aja\n"
     ]
    },
    {
     "name": "stdin",
     "output_type": "stream",
     "text": [
      "Masukkan label (Positive, Negative, Neutral) Negative\n"
     ]
    },
    {
     "name": "stdout",
     "output_type": "stream",
     "text": [
      "Review: Apk gak jelas download tuk habisin paket internet doang masuknya tak bisa nomor NPWP sudah benar PASSWORD juga suda benar tapi tetap gagal masuk KACAUU\n"
     ]
    },
    {
     "name": "stdin",
     "output_type": "stream",
     "text": [
      "Masukkan label (Positive, Negative, Neutral) Negative\n"
     ]
    },
    {
     "name": "stdout",
     "output_type": "stream",
     "text": [
      "Review: Belajar menghargai orang pak/ bu rakyat di suruh bikin NPWP pas daftar di aplikasi banyak masalah\n"
     ]
    },
    {
     "name": "stdin",
     "output_type": "stream",
     "text": [
      "Masukkan label (Positive, Negative, Neutral) Negative\n"
     ]
    },
    {
     "name": "stdout",
     "output_type": "stream",
     "text": [
      "Review: Aplikasi mempersulit bayar pajak\n"
     ]
    },
    {
     "name": "stdin",
     "output_type": "stream",
     "text": [
      "Masukkan label (Positive, Negative, Neutral) Negative\n"
     ]
    },
    {
     "name": "stdout",
     "output_type": "stream",
     "text": [
      "Review: Parah ngga bisa dibuka...aplikasi pemerintah padahal ini....\n"
     ]
    },
    {
     "name": "stdin",
     "output_type": "stream",
     "text": [
      "Masukkan label (Positive, Negative, Neutral) Negative\n"
     ]
    },
    {
     "name": "stdout",
     "output_type": "stream",
     "text": [
      "Review: Pembuatan npwp ribet, live chat percuma tdk befungsi alias tidak bisa di klik. Kalau mau bikin apk online persiapkan yg matang.\n"
     ]
    },
    {
     "name": "stdin",
     "output_type": "stream",
     "text": [
      "Masukkan label (Positive, Negative, Neutral) Negative\n"
     ]
    },
    {
     "name": "stdout",
     "output_type": "stream",
     "text": [
      "Review: saya lupa email dan efin. Tidak bisa ijin di hari kerja, menanyakan ke pelayanan online malah gk bagus solusinya,pelayanan online mendingan ditutup kalau tidak bisa membantu. Yang mudah di persulit, yang sulit makin sulit.\n"
     ]
    },
    {
     "name": "stdin",
     "output_type": "stream",
     "text": [
      "Masukkan label (Positive, Negative, Neutral) Negative\n"
     ]
    },
    {
     "name": "stdout",
     "output_type": "stream",
     "text": [
      "Review: APLIKASI SAMPAH\n"
     ]
    },
    {
     "name": "stdin",
     "output_type": "stream",
     "text": [
      "Masukkan label (Positive, Negative, Neutral) Negative\n"
     ]
    },
    {
     "name": "stdout",
     "output_type": "stream",
     "text": [
      "Review: Baik web atau aplikasi, saat saya ingin login ga bisa ada keterangan \"Username dan Password tidak cocok\" Padahal sudah benar. Webnya pun sekarang sudah tidak bisa di kunjungi. Apakah kena retas hacker juga ? 🤦🏻‍♀️\n"
     ]
    },
    {
     "name": "stdin",
     "output_type": "stream",
     "text": [
      "Masukkan label (Positive, Negative, Neutral) Negative\n"
     ]
    },
    {
     "name": "stdout",
     "output_type": "stream",
     "text": [
      "Review: aplikasi rusak di biarkan . sekelas BUMN kocak\n"
     ]
    },
    {
     "name": "stdin",
     "output_type": "stream",
     "text": [
      "Masukkan label (Positive, Negative, Neutral) Negative\n"
     ]
    },
    {
     "name": "stdout",
     "output_type": "stream",
     "text": [
      "Review: Ok\n"
     ]
    },
    {
     "name": "stdin",
     "output_type": "stream",
     "text": [
      "Masukkan label (Positive, Negative, Neutral) Positive\n"
     ]
    },
    {
     "name": "stdout",
     "output_type": "stream",
     "text": [
      "Review: Aplikasi Ilegal dan tidak berguna\n"
     ]
    },
    {
     "name": "stdin",
     "output_type": "stream",
     "text": [
      "Masukkan label (Positive, Negative, Neutral) Negative\n"
     ]
    },
    {
     "name": "stdout",
     "output_type": "stream",
     "text": [
      "Review: Aplikasi eror mulu\n"
     ]
    },
    {
     "name": "stdin",
     "output_type": "stream",
     "text": [
      "Masukkan label (Positive, Negative, Neutral) Negative\n"
     ]
    },
    {
     "name": "stdout",
     "output_type": "stream",
     "text": [
      "Review: Kenapa pw sama no npwp sudah bener tapi tetep tidak bisa login sok omeken rek make hese\n"
     ]
    },
    {
     "name": "stdin",
     "output_type": "stream",
     "text": [
      "Masukkan label (Positive, Negative, Neutral) Negative\n"
     ]
    },
    {
     "name": "stdout",
     "output_type": "stream",
     "text": [
      "Review: ini maksudnya gimana saya pertama kali mau bikin npwp kok email sudah pernah dipakai padahal saya baru pertamakali mau bikin hadeh\n"
     ]
    },
    {
     "name": "stdin",
     "output_type": "stream",
     "text": [
      "Masukkan label (Positive, Negative, Neutral) Negative\n"
     ]
    },
    {
     "name": "stdout",
     "output_type": "stream",
     "text": [
      "Review: Gak bisa dipake, yg versi web juga sama aja\n"
     ]
    },
    {
     "name": "stdin",
     "output_type": "stream",
     "text": [
      "Masukkan label (Positive, Negative, Neutral) Negative\n"
     ]
    },
    {
     "name": "stdout",
     "output_type": "stream",
     "text": [
      "Review: Ok\n"
     ]
    },
    {
     "name": "stdin",
     "output_type": "stream",
     "text": [
      "Masukkan label (Positive, Negative, Neutral) Positive\n"
     ]
    },
    {
     "name": "stdout",
     "output_type": "stream",
     "text": [
      "Review: Payah lu,masa mau daftar kaga bisa\n"
     ]
    },
    {
     "name": "stdin",
     "output_type": "stream",
     "text": [
      "Masukkan label (Positive, Negative, Neutral) Negative\n"
     ]
    },
    {
     "name": "stdout",
     "output_type": "stream",
     "text": [
      "Review: gak bisa dipake, server (101)\n"
     ]
    },
    {
     "name": "stdin",
     "output_type": "stream",
     "text": [
      "Masukkan label (Positive, Negative, Neutral) Negative\n"
     ]
    },
    {
     "name": "stdout",
     "output_type": "stream",
     "text": [
      "Review: Cukup membantu\n"
     ]
    },
    {
     "name": "stdin",
     "output_type": "stream",
     "text": [
      "Masukkan label (Positive, Negative, Neutral) Positive\n"
     ]
    },
    {
     "name": "stdout",
     "output_type": "stream",
     "text": [
      "Review: apa2an.. registrasi aj susah., login ber'ulang2 ujung2nya gagal...... sini niat mau bayar pajak malah dipersulit prosesnya.. & lgi2 ujung2nya nnti dimasa depan malah kena denda krn ga bayar pajak.!!\n"
     ]
    },
    {
     "name": "stdin",
     "output_type": "stream",
     "text": [
      "Masukkan label (Positive, Negative, Neutral) Negative\n"
     ]
    },
    {
     "name": "stdout",
     "output_type": "stream",
     "text": [
      "Review: Oc..\n"
     ]
    },
    {
     "name": "stdin",
     "output_type": "stream",
     "text": [
      "Masukkan label (Positive, Negative, Neutral) Positive\n"
     ]
    },
    {
     "name": "stdout",
     "output_type": "stream",
     "text": [
      "Review: LEMAH, GAK BISA DAFTAR, GAK BISA PERBAIKI LUPA SANDI\n"
     ]
    },
    {
     "name": "stdin",
     "output_type": "stream",
     "text": [
      "Masukkan label (Positive, Negative, Neutral) Negative\n"
     ]
    },
    {
     "name": "stdout",
     "output_type": "stream",
     "text": [
      "Review: 👍👍👍👍👍👍👍👍👍👍👍👍\n"
     ]
    },
    {
     "name": "stdin",
     "output_type": "stream",
     "text": [
      "Masukkan label (Positive, Negative, Neutral) Positive\n"
     ]
    },
    {
     "name": "stdout",
     "output_type": "stream",
     "text": [
      "Review: Suruh bikin npwp tp aplikasi bobrok...udah gonta\"i provider ternyata yg gabisa emang apk.nya...Udah banyak complain tp gak diperbaiki ini gimana\n"
     ]
    },
    {
     "name": "stdin",
     "output_type": "stream",
     "text": [
      "Masukkan label (Positive, Negative, Neutral) Negative\n"
     ]
    },
    {
     "name": "stdout",
     "output_type": "stream",
     "text": [
      "Review: Pokoknya aku tau nya ini online yah. Aku gak mau diarahkan ke offline. Semua harus online. Parah login berkali kali gagal terus . Sejauh ini , ini apk tersulit ,ribet penuh tantangan diarahkan kesana kesini. Ngisi form nya jg ribet. Tolong diperbaiki lagi. Pangkas tautan2 seminim mungkin, pak Jokowi tau pasti marah kayak gini. Coba aku share ke mas Gibran deh.\n"
     ]
    },
    {
     "name": "stdin",
     "output_type": "stream",
     "text": [
      "Masukkan label (Positive, Negative, Neutral) Negative\n"
     ]
    },
    {
     "name": "stdout",
     "output_type": "stream",
     "text": [
      "Review: Aplikasi tidak bisa di buka\n"
     ]
    },
    {
     "name": "stdin",
     "output_type": "stream",
     "text": [
      "Masukkan label (Positive, Negative, Neutral) Negative\n"
     ]
    },
    {
     "name": "stdout",
     "output_type": "stream",
     "text": [
      "Review: Aplikasi ribet\n"
     ]
    },
    {
     "name": "stdin",
     "output_type": "stream",
     "text": [
      "Masukkan label (Positive, Negative, Neutral) Negative\n"
     ]
    },
    {
     "name": "stdout",
     "output_type": "stream",
     "text": [
      "Review: mau taat pajak aja susah,apk gembel\n"
     ]
    },
    {
     "name": "stdin",
     "output_type": "stream",
     "text": [
      "Masukkan label (Positive, Negative, Neutral) Negative\n"
     ]
    },
    {
     "name": "stdout",
     "output_type": "stream",
     "text": [
      "Review: Registrasi aja dibikin susah, daftar Npwp pakai kartu tri gk boleh, emangnya kartu tri itu ilegal di indonesia apa? Ngurus offline dipersulit surat keterangan lurah, formulir ini itu. Ngurus online juga dipersulit. Sebenarnya negara indonesia itu pingin masyarakatnya terdaftar di lembaga pajak gak sih? Kok registrasi aja dibikin ribet & susah kayak gak pingin masyarakat indonesia terdaftar di lembaga pajak aja. Aplikasi gak guna, ribet & berbelit2, gue uninstall aja sekalian.\n"
     ]
    },
    {
     "name": "stdin",
     "output_type": "stream",
     "text": [
      "Masukkan label (Positive, Negative, Neutral) Negative\n"
     ]
    },
    {
     "name": "stdout",
     "output_type": "stream",
     "text": [
      "Review: Alhamdulillah j berguna banget tapi booong apk apaan ini gua yakin pembuatnya pasti pinter ehh tapi boong\n"
     ]
    },
    {
     "name": "stdin",
     "output_type": "stream",
     "text": [
      "Masukkan label (Positive, Negative, Neutral) Negative\n"
     ]
    },
    {
     "name": "stdout",
     "output_type": "stream",
     "text": [
      "Review: Ngerti teknologi ga sihh?\n"
     ]
    },
    {
     "name": "stdin",
     "output_type": "stream",
     "text": [
      "Masukkan label (Positive, Negative, Neutral) Negative\n"
     ]
    },
    {
     "name": "stdout",
     "output_type": "stream",
     "text": [
      "Review: Ini aplikasi untuk membantu pelayanan publik apa aplikasi untuk menuhin penyimpanan dan ngabisan data !!!\n"
     ]
    },
    {
     "name": "stdin",
     "output_type": "stream",
     "text": [
      "Masukkan label (Positive, Negative, Neutral) Negative\n"
     ]
    },
    {
     "name": "stdout",
     "output_type": "stream",
     "text": [
      "Review: Ripuh\n"
     ]
    },
    {
     "name": "stdin",
     "output_type": "stream",
     "text": [
      "Masukkan label (Positive, Negative, Neutral) Negative\n"
     ]
    },
    {
     "name": "stdout",
     "output_type": "stream",
     "text": [
      "Review: Aduh saya bingung , saya datang kekantor pajak , malah disuruh aktivasi aja lewat apk , giliran aktivasi Effien , kode aktivasi nya gakeluar melalui email.\n"
     ]
    },
    {
     "name": "stdin",
     "output_type": "stream",
     "text": [
      "Masukkan label (Positive, Negative, Neutral) Negative\n"
     ]
    },
    {
     "name": "stdout",
     "output_type": "stream",
     "text": [
      "Review: Apk sampah, web sampah.. bubar\n"
     ]
    },
    {
     "name": "stdin",
     "output_type": "stream",
     "text": [
      "Masukkan label (Positive, Negative, Neutral) Negative\n"
     ]
    },
    {
     "name": "stdout",
     "output_type": "stream",
     "text": [
      "Review: Tidak jelas\n"
     ]
    },
    {
     "name": "stdin",
     "output_type": "stream",
     "text": [
      "Masukkan label (Positive, Negative, Neutral) Negative\n"
     ]
    },
    {
     "name": "stdout",
     "output_type": "stream",
     "text": [
      "Review: Pul bintang karena pelayana cepat\n"
     ]
    },
    {
     "name": "stdin",
     "output_type": "stream",
     "text": [
      "Masukkan label (Positive, Negative, Neutral) Positive\n"
     ]
    },
    {
     "name": "stdout",
     "output_type": "stream",
     "text": [
      "Review: Error terus login sudah benar semua masih saja ada error\n"
     ]
    },
    {
     "name": "stdin",
     "output_type": "stream",
     "text": [
      "Masukkan label (Positive, Negative, Neutral) Negative\n"
     ]
    },
    {
     "name": "stdout",
     "output_type": "stream",
     "text": [
      "Review: Baru Masuk Aplikasi Udah keluar dengan sendirinya . Tolong di perbaiki lagi\n"
     ]
    },
    {
     "name": "stdin",
     "output_type": "stream",
     "text": [
      "Masukkan label (Positive, Negative, Neutral) Negative\n"
     ]
    },
    {
     "name": "stdout",
     "output_type": "stream",
     "text": [
      "Review: Alhamdulillah NPWP saya sudah terdaftar.... makasih banyak. Awalnya mengalami kesulitan,ulang terus menerus,berkali kali, akhirnya lengkap sudah pengisian saya NPWP per orangan\n"
     ]
    },
    {
     "name": "stdin",
     "output_type": "stream",
     "text": [
      "Masukkan label (Positive, Negative, Neutral) Positive\n"
     ]
    },
    {
     "name": "stdout",
     "output_type": "stream",
     "text": [
      "Review: Aplikasi gembel\n"
     ]
    },
    {
     "name": "stdin",
     "output_type": "stream",
     "text": [
      "Masukkan label (Positive, Negative, Neutral) Negative\n"
     ]
    },
    {
     "name": "stdout",
     "output_type": "stream",
     "text": [
      "Review: Pas mau foto 1 detik mati aplikasi nya, sampai 4 x gak ada berubah,, gak dapat foto, eror\n"
     ]
    },
    {
     "name": "stdin",
     "output_type": "stream",
     "text": [
      "Masukkan label (Positive, Negative, Neutral) Negative\n"
     ]
    },
    {
     "name": "stdout",
     "output_type": "stream",
     "text": [
      "Review: Tolong perbaiki bug terus\n"
     ]
    },
    {
     "name": "stdin",
     "output_type": "stream",
     "text": [
      "Masukkan label (Positive, Negative, Neutral) Negative\n"
     ]
    },
    {
     "name": "stdout",
     "output_type": "stream",
     "text": [
      "Review: Lebih baik pakai websitenya , pakai versi ini ga bisa login pkai websitwle langsung bisa login\n"
     ]
    },
    {
     "name": "stdin",
     "output_type": "stream",
     "text": [
      "Masukkan label (Positive, Negative, Neutral) Negative\n"
     ]
    },
    {
     "name": "stdout",
     "output_type": "stream",
     "text": [
      "Review: Mudah dan aman\n"
     ]
    },
    {
     "name": "stdin",
     "output_type": "stream",
     "text": [
      "Masukkan label (Positive, Negative, Neutral) Positive\n"
     ]
    },
    {
     "name": "stdout",
     "output_type": "stream",
     "text": [
      "Review: Apk ga guna _- emosi make nya ngulang ngulang trus 😕\n"
     ]
    },
    {
     "name": "stdin",
     "output_type": "stream",
     "text": [
      "Masukkan label (Positive, Negative, Neutral) Negative\n"
     ]
    },
    {
     "name": "stdout",
     "output_type": "stream",
     "text": [
      "Review: Sistem nya GK praktis payah padahal mo bayar pajak tuk akses masuk nya rumit pokoknya aplikasi ini bukan bantu malah bikin pusing\n"
     ]
    },
    {
     "name": "stdin",
     "output_type": "stream",
     "text": [
      "Masukkan label (Positive, Negative, Neutral) Negative\n"
     ]
    },
    {
     "name": "stdout",
     "output_type": "stream",
     "text": [
      "Review: Knpa aplikasi djp sekarang sudah masuk\n"
     ]
    },
    {
     "name": "stdin",
     "output_type": "stream",
     "text": [
      "Masukkan label (Positive, Negative, Neutral) Negative\n"
     ]
    },
    {
     "name": "stdout",
     "output_type": "stream",
     "text": [
      "Review: Masak mau login nggk bisa\n"
     ]
    },
    {
     "name": "stdin",
     "output_type": "stream",
     "text": [
      "Masukkan label (Positive, Negative, Neutral) Negative\n"
     ]
    },
    {
     "name": "stdout",
     "output_type": "stream",
     "text": [
      "Review: Ada yang punya solusi gk pas mau minta efin masukin kode OTP kok error terus ya? Masa tetap harus ke kantor ngurusin nya?\n"
     ]
    },
    {
     "name": "stdin",
     "output_type": "stream",
     "text": [
      "Masukkan label (Positive, Negative, Neutral) Negative\n"
     ]
    },
    {
     "name": "stdout",
     "output_type": "stream",
     "text": [
      "Review: App sempak banyak bug tapi ga di fix problem\n"
     ]
    },
    {
     "name": "stdin",
     "output_type": "stream",
     "text": [
      "Masukkan label (Positive, Negative, Neutral) Negative\n"
     ]
    },
    {
     "name": "stdout",
     "output_type": "stream",
     "text": [
      "Review: mau daftar, tapi halaman nya tidak tidak tersedia. trus ngga solusinya, jadi ngga bisa masuk\n"
     ]
    },
    {
     "name": "stdin",
     "output_type": "stream",
     "text": [
      "Masukkan label (Positive, Negative, Neutral) Negative\n"
     ]
    },
    {
     "name": "stdout",
     "output_type": "stream",
     "text": [
      "Review: Habis di update mlah kayak asu ni aplikasi... Tpi ya wajarlah,data negara aja ambrol aplgi mendevelop app.\n"
     ]
    },
    {
     "name": "stdin",
     "output_type": "stream",
     "text": [
      "Masukkan label (Positive, Negative, Neutral) Negative\n"
     ]
    },
    {
     "name": "stdout",
     "output_type": "stream",
     "text": [
      "Review: Masih banyak bug, tiap buka aplikasi selalu keluar pop up update aplikasi tapi tidak ada update\n"
     ]
    },
    {
     "name": "stdin",
     "output_type": "stream",
     "text": [
      "Masukkan label (Positive, Negative, Neutral) Negative\n"
     ]
    },
    {
     "name": "stdout",
     "output_type": "stream",
     "text": [
      "Review: Error kalau buat log in...\n"
     ]
    },
    {
     "name": "stdin",
     "output_type": "stream",
     "text": [
      "Masukkan label (Positive, Negative, Neutral) Negative\n"
     ]
    },
    {
     "name": "stdout",
     "output_type": "stream",
     "text": [
      "Review: apk jembut ya gini, mau buat aja dipersulit\n"
     ]
    },
    {
     "name": "stdin",
     "output_type": "stream",
     "text": [
      "Masukkan label (Positive, Negative, Neutral) Negative\n"
     ]
    },
    {
     "name": "stdout",
     "output_type": "stream",
     "text": [
      "Review: Apk GK sesuai expect Aplikasi jelek pelayanan jelek siapa pngmbng apk nya?pecat gaguna duit kmnain itu?yg tua klo gaptek usir aj gguna kecuali PGN JD office boy WKWKWK\n"
     ]
    },
    {
     "name": "stdin",
     "output_type": "stream",
     "text": [
      "Masukkan label (Positive, Negative, Neutral) Negative\n"
     ]
    },
    {
     "name": "stdout",
     "output_type": "stream",
     "text": [
      "Review: Gak guna cok sruh nunggu 10 mnit krim kode nmor dah bner. Tpi gk ad sms msuk. Lawak\n"
     ]
    },
    {
     "name": "stdin",
     "output_type": "stream",
     "text": [
      "Masukkan label (Positive, Negative, Neutral) Negative\n"
     ]
    },
    {
     "name": "stdout",
     "output_type": "stream",
     "text": [
      "Review: Gabisa login lewat aplikasi, mempersulit orang yang mau login. bukannya mempermudah malah mempersulit, error terus setiap mau login pake aplikasi\n"
     ]
    },
    {
     "name": "stdin",
     "output_type": "stream",
     "text": [
      "Masukkan label (Positive, Negative, Neutral) Negative\n"
     ]
    },
    {
     "name": "stdout",
     "output_type": "stream",
     "text": [
      "Review: Mantap\n"
     ]
    },
    {
     "name": "stdin",
     "output_type": "stream",
     "text": [
      "Masukkan label (Positive, Negative, Neutral) Positive\n"
     ]
    },
    {
     "name": "stdout",
     "output_type": "stream",
     "text": [
      "Review: 👍🏻👍🏻\n"
     ]
    },
    {
     "name": "stdin",
     "output_type": "stream",
     "text": [
      "Masukkan label (Positive, Negative, Neutral) Positive\n"
     ]
    },
    {
     "name": "stdout",
     "output_type": "stream",
     "text": [
      "Review: Mantap ...\n"
     ]
    },
    {
     "name": "stdin",
     "output_type": "stream",
     "text": [
      "Masukkan label (Positive, Negative, Neutral) Positive\n"
     ]
    },
    {
     "name": "stdout",
     "output_type": "stream",
     "text": [
      "Review: Sampah\n"
     ]
    },
    {
     "name": "stdin",
     "output_type": "stream",
     "text": [
      "Masukkan label (Positive, Negative, Neutral) Negative\n"
     ]
    },
    {
     "name": "stdout",
     "output_type": "stream",
     "text": [
      "Review: Mantap\n"
     ]
    },
    {
     "name": "stdin",
     "output_type": "stream",
     "text": [
      "Masukkan label (Positive, Negative, Neutral) Positive\n"
     ]
    },
    {
     "name": "stdout",
     "output_type": "stream",
     "text": [
      "Review: Bukan produk buatan negara KALAU ISINYA SELALU RIBET & BERMASALAH, GANGGUAN SERVER, TIMBUL BANYAK MASALAH... AYO TINGKATKAN SDM YANG AHLI KORUPSI..\n"
     ]
    },
    {
     "name": "stdin",
     "output_type": "stream",
     "text": [
      "Masukkan label (Positive, Negative, Neutral) Negative\n"
     ]
    },
    {
     "name": "stdout",
     "output_type": "stream",
     "text": [
      "Review: Aplikasi ga berguna verifikasi gagal trus.ga jelas\n"
     ]
    },
    {
     "name": "stdin",
     "output_type": "stream",
     "text": [
      "Masukkan label (Positive, Negative, Neutral) Negative\n"
     ]
    },
    {
     "name": "stdout",
     "output_type": "stream",
     "text": [
      "Review: Apa apa an. Mau masuk dg NPWP dan password yang sesuai, malah gagal untuk masuk. Sampai bolak balik reset password, tetep aja gk bisa masuk\n"
     ]
    },
    {
     "name": "stdin",
     "output_type": "stream",
     "text": [
      "Masukkan label (Positive, Negative, Neutral) Negative\n"
     ]
    },
    {
     "name": "stdout",
     "output_type": "stream",
     "text": [
      "Review: mau daftar aja di persulit benerin dulu tu server\n"
     ]
    },
    {
     "name": "stdin",
     "output_type": "stream",
     "text": [
      "Masukkan label (Positive, Negative, Neutral) Negative\n"
     ]
    },
    {
     "name": "stdout",
     "output_type": "stream",
     "text": [
      "Review: Tidak bisa memproses permintaan kode EFIN, katanya jaringan eror, padahal baik2 aja jaringan. Tolong di bantu perbaikannya\n"
     ]
    },
    {
     "name": "stdin",
     "output_type": "stream",
     "text": [
      "Masukkan label (Positive, Negative, Neutral) Negative\n"
     ]
    },
    {
     "name": "stdout",
     "output_type": "stream",
     "text": [
      "Review: Wao emezing\n"
     ]
    },
    {
     "name": "stdin",
     "output_type": "stream",
     "text": [
      "Masukkan label (Positive, Negative, Neutral) Positive\n"
     ]
    },
    {
     "name": "stdout",
     "output_type": "stream",
     "text": [
      "Review: Bagus\n"
     ]
    },
    {
     "name": "stdin",
     "output_type": "stream",
     "text": [
      "Masukkan label (Positive, Negative, Neutral) Positive\n"
     ]
    },
    {
     "name": "stdout",
     "output_type": "stream",
     "text": [
      "Review: Pliislah tolong ya daftar pertama link cuma sekali buka kode OTP bayar,. Menyusahkan sdah 4 email daftar kagak selesai-selesai\n"
     ]
    },
    {
     "name": "stdin",
     "output_type": "stream",
     "text": [
      "Masukkan label (Positive, Negative, Neutral) Negative\n"
     ]
    },
    {
     "name": "stdout",
     "output_type": "stream",
     "text": [
      "Review: Ko ga bisa dibuka aplikasinya\n"
     ]
    },
    {
     "name": "stdin",
     "output_type": "stream",
     "text": [
      "Masukkan label (Positive, Negative, Neutral) Negative\n"
     ]
    },
    {
     "name": "stdout",
     "output_type": "stream",
     "text": [
      "Review: Banyak yg eror\n"
     ]
    },
    {
     "name": "stdin",
     "output_type": "stream",
     "text": [
      "Masukkan label (Positive, Negative, Neutral) Negative\n"
     ]
    },
    {
     "name": "stdout",
     "output_type": "stream",
     "text": [
      "Review: Aplikasi ini gak berguna sama sekali , log in gak bisa padahal semua data sudah benar . Tapi sebenernya gak kaget sih sama yg beginian 😊\n"
     ]
    },
    {
     "name": "stdin",
     "output_type": "stream",
     "text": [
      "Masukkan label (Positive, Negative, Neutral) Negative\n"
     ]
    },
    {
     "name": "stdout",
     "output_type": "stream",
     "text": [
      "Review: Parah parah gak becul betol yg buat aplikasi\n"
     ]
    },
    {
     "name": "stdin",
     "output_type": "stream",
     "text": [
      "Masukkan label (Positive, Negative, Neutral) Negative\n"
     ]
    },
    {
     "name": "stdout",
     "output_type": "stream",
     "text": [
      "Review: Nggak bisa dibuka daftar..hadehhh\n"
     ]
    },
    {
     "name": "stdin",
     "output_type": "stream",
     "text": [
      "Masukkan label (Positive, Negative, Neutral) Negative\n"
     ]
    },
    {
     "name": "stdout",
     "output_type": "stream",
     "text": [
      "Review: Aplikasi ga jelas aneh horor\n"
     ]
    },
    {
     "name": "stdin",
     "output_type": "stream",
     "text": [
      "Masukkan label (Positive, Negative, Neutral) Negative\n"
     ]
    },
    {
     "name": "stdout",
     "output_type": "stream",
     "text": [
      "Review: Sistem pendaftarannya payah terlalu di persulit kirim otp perlu berkali-kali padahal yang di masukkan sudah benar tapi di anggap salah oleh sistem waktu pendaftaran NPWP juga sulit, kata sandi selalu di anggap salah padahal yang di masukkan sudah benar, apa kata sandi yang kumasukkan terlalu sulit? Sampai sistem lupa dengan kata sandiku. Setalah ganti sandi pas mau daftar ulang malah linknya tidak bisa di akses aneh TIDAK BISA BUAT APLIKASI MENDING HAPUS SAJA, DAFTARNYA JUGA DI WEB BUKAN DISINI.\n"
     ]
    },
    {
     "name": "stdin",
     "output_type": "stream",
     "text": [
      "Masukkan label (Positive, Negative, Neutral) Negative\n"
     ]
    },
    {
     "name": "stdout",
     "output_type": "stream",
     "text": [
      "Review: Bagus\n"
     ]
    },
    {
     "name": "stdin",
     "output_type": "stream",
     "text": [
      "Masukkan label (Positive, Negative, Neutral) Positive\n"
     ]
    },
    {
     "name": "stdout",
     "output_type": "stream",
     "text": [
      "Review: Wahai tong bajil, nikmat apa lagi yang kau dustakan. Kenapa setiap aplikasi yang berhubungan dengan pemerintah selalu tidak berguna?\n"
     ]
    },
    {
     "name": "stdin",
     "output_type": "stream",
     "text": [
      "Masukkan label (Positive, Negative, Neutral) Negative\n"
     ]
    },
    {
     "name": "stdout",
     "output_type": "stream",
     "text": [
      "Review: Aplikasi gak jelas mempersulit masyarakat update efin harus kekantor apa gunanya aplikasi ini t*lol\n"
     ]
    },
    {
     "name": "stdin",
     "output_type": "stream",
     "text": [
      "Masukkan label (Positive, Negative, Neutral) Negative\n"
     ]
    },
    {
     "name": "stdout",
     "output_type": "stream",
     "text": [
      "Review: Sangat keren mudah buat segala nya\n"
     ]
    },
    {
     "name": "stdin",
     "output_type": "stream",
     "text": [
      "Masukkan label (Positive, Negative, Neutral) Positive\n"
     ]
    },
    {
     "name": "stdout",
     "output_type": "stream",
     "text": [
      "Review: Ga bekerja...error\n"
     ]
    },
    {
     "name": "stdin",
     "output_type": "stream",
     "text": [
      "Masukkan label (Positive, Negative, Neutral) Negative\n"
     ]
    },
    {
     "name": "stdout",
     "output_type": "stream",
     "text": [
      "Review: Kalo liat di YouTube begitu masuk ada beberapa menu dibagian bawah, tapi di aku cuma ada beranda sama bayar.\n"
     ]
    },
    {
     "name": "stdin",
     "output_type": "stream",
     "text": [
      "Masukkan label (Positive, Negative, Neutral) Negative\n"
     ]
    },
    {
     "name": "stdout",
     "output_type": "stream",
     "text": [
      "Review: Ini apl gimna si mau daftar malah bermasalah mulu tautan bermasalah ngga tersedia kirain mempermudah malah puyeng\n"
     ]
    },
    {
     "name": "stdin",
     "output_type": "stream",
     "text": [
      "Masukkan label (Positive, Negative, Neutral) Negative\n"
     ]
    },
    {
     "name": "stdout",
     "output_type": "stream",
     "text": [
      "Review: Buang2 anggaran buat aplikasi ini\n"
     ]
    },
    {
     "name": "stdin",
     "output_type": "stream",
     "text": [
      "Masukkan label (Positive, Negative, Neutral) Negative\n"
     ]
    },
    {
     "name": "stdout",
     "output_type": "stream",
     "text": [
      "Review: Mau login via NPWP kata sandi selalu salah padahal udah bener, mau lupa kata sandi jaringan selalu di putus? Aplikasi apa ini? Pajangan doang di Play Store? Biar bukti kalo Indonesia bisa bikin aplikasi? Padahal isinya? HTML WKWKWK\n"
     ]
    },
    {
     "name": "stdin",
     "output_type": "stream",
     "text": [
      "Masukkan label (Positive, Negative, Neutral) Negative\n"
     ]
    },
    {
     "name": "stdout",
     "output_type": "stream",
     "text": [
      "Review: Apk jmbt😄😄😄😄\n"
     ]
    },
    {
     "name": "stdin",
     "output_type": "stream",
     "text": [
      "Masukkan label (Positive, Negative, Neutral) Negative\n"
     ]
    },
    {
     "name": "stdout",
     "output_type": "stream",
     "text": [
      "Review: gagal mulu, kode verifikasi udh bener, nyoba yg dari email gagal, dari sms jg gagal.. hmmm\n"
     ]
    },
    {
     "name": "stdin",
     "output_type": "stream",
     "text": [
      "Masukkan label (Positive, Negative, Neutral) Negative\n"
     ]
    },
    {
     "name": "stdout",
     "output_type": "stream",
     "text": [
      "Review: Sekali lagi, apapun itu kalau layanan milik negara pasti ribet dan semakin sulit..\n"
     ]
    },
    {
     "name": "stdin",
     "output_type": "stream",
     "text": [
      "Masukkan label (Positive, Negative, Neutral) Negative\n"
     ]
    },
    {
     "name": "stdout",
     "output_type": "stream",
     "text": [
      "Review: Aplikasi sampah\n"
     ]
    },
    {
     "name": "stdin",
     "output_type": "stream",
     "text": [
      "Masukkan label (Positive, Negative, Neutral) Negative\n"
     ]
    },
    {
     "name": "stdout",
     "output_type": "stream",
     "text": [
      "Review: Mau daftar ga bisaaaa kocakkk\n"
     ]
    },
    {
     "name": "stdin",
     "output_type": "stream",
     "text": [
      "Masukkan label (Positive, Negative, Neutral) Negative\n"
     ]
    },
    {
     "name": "stdout",
     "output_type": "stream",
     "text": [
      "Review: Udah daftar online kalo ttep ke kantor pajaknya, ngapain kntl..\n"
     ]
    },
    {
     "name": "stdin",
     "output_type": "stream",
     "text": [
      "Masukkan label (Positive, Negative, Neutral) Negative\n"
     ]
    },
    {
     "name": "stdout",
     "output_type": "stream",
     "text": [
      "Review: Sangat buruk, udah pakai beberapa provider tetap saja lemot, keterangan sandi salah pas klik lupa sandi tidak bisa di klik, tidak ada respon\n"
     ]
    },
    {
     "name": "stdin",
     "output_type": "stream",
     "text": [
      "Masukkan label (Positive, Negative, Neutral) Negative\n"
     ]
    },
    {
     "name": "stdout",
     "output_type": "stream",
     "text": [
      "Review: gak bisa masuk akun. notif akun tidak ditemukan. pas cek NPWP valid loh\n"
     ]
    },
    {
     "name": "stdin",
     "output_type": "stream",
     "text": [
      "Masukkan label (Positive, Negative, Neutral) Negative\n"
     ]
    },
    {
     "name": "stdout",
     "output_type": "stream",
     "text": [
      "Review: mau login susah bener email sudah benar pw sudah bener tetap saja di salahkan freak, , sekelas pajak apk begitu freak\n"
     ]
    },
    {
     "name": "stdin",
     "output_type": "stream",
     "text": [
      "Masukkan label (Positive, Negative, Neutral) Negative\n"
     ]
    },
    {
     "name": "stdout",
     "output_type": "stream",
     "text": [
      "Review: Pinginnya pake aplikasi ini biar lebih mudah,tp baru mau masuk kata sandi salah trus padahal sudah memasukan kata sandi benar...jadinya akun saya malah terblokir\n"
     ]
    },
    {
     "name": "stdin",
     "output_type": "stream",
     "text": [
      "Masukkan label (Positive, Negative, Neutral) Negative\n"
     ]
    },
    {
     "name": "stdout",
     "output_type": "stream",
     "text": [
      "Review: Mantap\n"
     ]
    },
    {
     "name": "stdin",
     "output_type": "stream",
     "text": [
      "Masukkan label (Positive, Negative, Neutral) Positive\n"
     ]
    },
    {
     "name": "stdout",
     "output_type": "stream",
     "text": [
      "Review: Menyedihkan\n"
     ]
    },
    {
     "name": "stdin",
     "output_type": "stream",
     "text": [
      "Masukkan label (Positive, Negative, Neutral) Negative\n"
     ]
    },
    {
     "name": "stdout",
     "output_type": "stream",
     "text": [
      "Review: ampun dah tunggu kode OTP aja sampai maut jg kaga sampe....\n"
     ]
    },
    {
     "name": "stdin",
     "output_type": "stream",
     "text": [
      "Masukkan label (Positive, Negative, Neutral) Negative\n"
     ]
    },
    {
     "name": "stdout",
     "output_type": "stream",
     "text": [
      "Review: Ini kenapa ya lupa kata sandinya tidak bisa di klik sama sekali tidak berfungsi tolong d bantu\n"
     ]
    },
    {
     "name": "stdin",
     "output_type": "stream",
     "text": [
      "Masukkan label (Positive, Negative, Neutral) Negative\n"
     ]
    },
    {
     "name": "stdout",
     "output_type": "stream",
     "text": [
      "Review: UX-nya ribet, ga bisa terintegrasi email atau pakai cara simple. Sudah daftar NPWP dan terima EFIN, tapi login katanya belum terdaftar. Udah install aplikasi saat mau daftar atau perubahan dialihkan ke web lagi, lah kocak.\n"
     ]
    },
    {
     "name": "stdin",
     "output_type": "stream",
     "text": [
      "Masukkan label (Positive, Negative, Neutral) Negative\n"
     ]
    },
    {
     "name": "stdout",
     "output_type": "stream",
     "text": [
      "Review: Sampah emg! Baru juga download mau effin udah tinggal verifikasi lewat email pas buka aplikasinya lagi ngulang dari awal..\n"
     ]
    },
    {
     "name": "stdin",
     "output_type": "stream",
     "text": [
      "Masukkan label (Positive, Negative, Neutral) Negative\n"
     ]
    },
    {
     "name": "stdout",
     "output_type": "stream",
     "text": [
      "Review: Aplikasi para koruptor\n"
     ]
    },
    {
     "name": "stdin",
     "output_type": "stream",
     "text": [
      "Masukkan label (Positive, Negative, Neutral) Negative\n"
     ]
    },
    {
     "name": "stdout",
     "output_type": "stream",
     "text": [
      "Review: Sangat membantu\n"
     ]
    },
    {
     "name": "stdin",
     "output_type": "stream",
     "text": [
      "Masukkan label (Positive, Negative, Neutral) Positive\n"
     ]
    },
    {
     "name": "stdout",
     "output_type": "stream",
     "text": [
      "Review: Sudah daftar dari tahun 2016, sampai hari ini masih kesulitan akses situs pajak, selalu salah pasword!\n"
     ]
    },
    {
     "name": "stdin",
     "output_type": "stream",
     "text": [
      "Masukkan label (Positive, Negative, Neutral) Negative\n"
     ]
    },
    {
     "name": "stdout",
     "output_type": "stream",
     "text": [
      "Review: Nggak bisa masuk walau udah ngisi no npwp sama sandi sudah benar😴😴😴\n"
     ]
    },
    {
     "name": "stdin",
     "output_type": "stream",
     "text": [
      "Masukkan label (Positive, Negative, Neutral) Negative\n"
     ]
    },
    {
     "name": "stdout",
     "output_type": "stream",
     "text": [
      "Review: aplikasi gajelas\n"
     ]
    },
    {
     "name": "stdin",
     "output_type": "stream",
     "text": [
      "Masukkan label (Positive, Negative, Neutral) Negative\n"
     ]
    },
    {
     "name": "stdout",
     "output_type": "stream",
     "text": [
      "Review: Pemerintah bikin aplikasi gak pernah bener problem truss ini yang goblokk yang mana, sedangkan rakyat mau nguruss aja di persusah sama sistemnya sering eror, duitnya di korup mulu # negara lucu\n"
     ]
    },
    {
     "name": "stdin",
     "output_type": "stream",
     "text": [
      "Masukkan label (Positive, Negative, Neutral) Negative\n"
     ]
    },
    {
     "name": "stdout",
     "output_type": "stream",
     "text": [
      "Review: Login lupa password tidak bisa\n"
     ]
    },
    {
     "name": "stdin",
     "output_type": "stream",
     "text": [
      "Masukkan label (Positive, Negative, Neutral) Negative\n"
     ]
    },
    {
     "name": "stdout",
     "output_type": "stream",
     "text": [
      "Review: Aplikasi pemerintah gak ad yg bener bikin aplikasi gimana si masa orng mau login g bisa masuk. Pantes aja banyak data yg bocor\n"
     ]
    },
    {
     "name": "stdin",
     "output_type": "stream",
     "text": [
      "Masukkan label (Positive, Negative, Neutral) Negative\n"
     ]
    },
    {
     "name": "stdout",
     "output_type": "stream",
     "text": [
      "Review: Aplikasi ga guna\n"
     ]
    },
    {
     "name": "stdin",
     "output_type": "stream",
     "text": [
      "Masukkan label (Positive, Negative, Neutral) Negative\n"
     ]
    },
    {
     "name": "stdout",
     "output_type": "stream",
     "text": [
      "Review: Aplikasi ga mutu, lupa katasandi gabisa. IT payah... Kerja kerja kerjaaaaaa...\n"
     ]
    },
    {
     "name": "stdin",
     "output_type": "stream",
     "text": [
      "Masukkan label (Positive, Negative, Neutral) Negative\n"
     ]
    },
    {
     "name": "stdout",
     "output_type": "stream",
     "text": [
      "Review: Tidak bisa di akses\n"
     ]
    },
    {
     "name": "stdin",
     "output_type": "stream",
     "text": [
      "Masukkan label (Positive, Negative, Neutral) Negative\n"
     ]
    },
    {
     "name": "stdout",
     "output_type": "stream",
     "text": [
      "Review: Tolonglh diperbaiki. Mau pemadanan ga bisa bikin akun. Besok sudah hari terakhir pemadanan\n"
     ]
    },
    {
     "name": "stdin",
     "output_type": "stream",
     "text": [
      "Masukkan label (Positive, Negative, Neutral) Negative\n"
     ]
    },
    {
     "name": "stdout",
     "output_type": "stream",
     "text": [
      "Review: Aplikasi sampah,gak guna\n"
     ]
    },
    {
     "name": "stdin",
     "output_type": "stream",
     "text": [
      "Masukkan label (Positive, Negative, Neutral) Negative\n"
     ]
    },
    {
     "name": "stdout",
     "output_type": "stream",
     "text": [
      "Review: Kesini cuma mau ngasih kata2 mutiara.....kalian kerja dikendalikan uang bukan otak.... Aplikasi gak bisa di pake web situs tidak terjangkau....bdh bgt sih\n"
     ]
    },
    {
     "name": "stdin",
     "output_type": "stream",
     "text": [
      "Masukkan label (Positive, Negative, Neutral) Negative\n"
     ]
    },
    {
     "name": "stdout",
     "output_type": "stream",
     "text": [
      "Review: gak bisa di kosongin bintangya, urus data pengguna perpajakan aja gak beres smpe suruh lakukan pemadanan lagi, mau ngurus apk onlinenya... ampun, iklas aja dah,,\n"
     ]
    },
    {
     "name": "stdin",
     "output_type": "stream",
     "text": [
      "Masukkan label (Positive, Negative, Neutral) Negative\n"
     ]
    },
    {
     "name": "stdout",
     "output_type": "stream",
     "text": [
      "Review: aplikasi anjeng\n"
     ]
    },
    {
     "name": "stdin",
     "output_type": "stream",
     "text": [
      "Masukkan label (Positive, Negative, Neutral) Negative\n"
     ]
    },
    {
     "name": "stdout",
     "output_type": "stream",
     "text": [
      "Review: WOYYY, KLO UDH ADA APK NGAPAIN PAS LUPA KATA SANDI DIARAHKAN KE WEB? GA GUNA BGT DEHH TOLOLLL, UDH DIPERSULIT DI WEBNYA EROR MULUUU, GILIRAN DOWNLOAD APK MALAH KEK TAIK NGENTOTT, PDHL INI INSTANSI SEKELAS DIRJEN PAJAK BUKAN ECEK2, GAK MUTU BGT\n"
     ]
    },
    {
     "name": "stdin",
     "output_type": "stream",
     "text": [
      "Masukkan label (Positive, Negative, Neutral) Negative\n"
     ]
    },
    {
     "name": "stdout",
     "output_type": "stream",
     "text": [
      "Review: Kebiasaan kalo aplikasi pemerintah. Ga ada yang bener. Di website bisa login, di aplikasi malah ga bisa. Orang mah kalo niat mempermudah, di atur dulu sistemnya, di cek dulu alurnya, di mantepin dulu servernya baru di publish. Masyarakat di paksain buat punya NPWP, tapi sistem ga siap. Gimana coba. ? Blog\n"
     ]
    },
    {
     "name": "stdin",
     "output_type": "stream",
     "text": [
      "Masukkan label (Positive, Negative, Neutral) Negative\n"
     ]
    },
    {
     "name": "stdout",
     "output_type": "stream",
     "text": [
      "Review: Aplikasi gangguan terus\n"
     ]
    },
    {
     "name": "stdin",
     "output_type": "stream",
     "text": [
      "Masukkan label (Positive, Negative, Neutral) Negative\n"
     ]
    },
    {
     "name": "stdout",
     "output_type": "stream",
     "text": [
      "Review: No coment\n"
     ]
    },
    {
     "name": "stdin",
     "output_type": "stream",
     "text": [
      "Masukkan label (Positive, Negative, Neutral) Neutral\n"
     ]
    },
    {
     "name": "stdout",
     "output_type": "stream",
     "text": [
      "Review: Penasaran pengadaan web & maintenance abisin anggaran brp hasilnya kek gini 🚩\n"
     ]
    },
    {
     "name": "stdin",
     "output_type": "stream",
     "text": [
      "Masukkan label (Positive, Negative, Neutral) Negative\n"
     ]
    },
    {
     "name": "stdout",
     "output_type": "stream",
     "text": [
      "Review: Aplikasi hasil para koruptor ya gini, busuk bgt , gak jelas error mulu , anjir emang!! Gw Di paksa patuh sama pemerintah yg korup dan bobrok gini . Bangkeeee!!! Kudu pemadanan data dll, ujung-ujungnya data di maling orang gara-gara pertahanan digital nya cm sekelas Smadav!!. Taik lah !!! Gw tuntut di akhirat semua para penjabat pajak sampe ke antek presiden!\n"
     ]
    },
    {
     "name": "stdin",
     "output_type": "stream",
     "text": [
      "Masukkan label (Positive, Negative, Neutral) Negative\n"
     ]
    },
    {
     "name": "stdout",
     "output_type": "stream",
     "text": [
      "Review: aplikasi tdk bisa digunakan,error terus\n"
     ]
    },
    {
     "name": "stdin",
     "output_type": "stream",
     "text": [
      "Masukkan label (Positive, Negative, Neutral) Negative\n"
     ]
    },
    {
     "name": "stdout",
     "output_type": "stream",
     "text": [
      "Review: Harap perbaiki semua pelayanan ga guna\n"
     ]
    },
    {
     "name": "stdin",
     "output_type": "stream",
     "text": [
      "Masukkan label (Positive, Negative, Neutral) Negative\n"
     ]
    },
    {
     "name": "stdout",
     "output_type": "stream",
     "text": [
      "Review: Password tersimpan di google dan gak pernah diganti ini mau login katanya salah mulu, effin dah, ada npwp juga ada nik juga ada diisi dengan benar tapi error mulu malah pesan error katanya belum terdaftar, lah lalu npwp-nya gaib???\n"
     ]
    },
    {
     "name": "stdin",
     "output_type": "stream",
     "text": [
      "Masukkan label (Positive, Negative, Neutral) Negative\n"
     ]
    },
    {
     "name": "stdout",
     "output_type": "stream",
     "text": [
      "Review: Kode Verifikasi tidak bisa terkirim ke email,, Kalau sudah bagus saya naik bintang nya\n"
     ]
    },
    {
     "name": "stdin",
     "output_type": "stream",
     "text": [
      "Masukkan label (Positive, Negative, Neutral) Negative\n"
     ]
    },
    {
     "name": "stdout",
     "output_type": "stream",
     "text": [
      "Review: Aplikasi sampah, susah log in. Suruh masukin kode verifikasi yg katanya dikirim via email. tapi, ga dikirim2 di email ga ada.\n"
     ]
    },
    {
     "name": "stdin",
     "output_type": "stream",
     "text": [
      "Masukkan label (Positive, Negative, Neutral) Negative\n"
     ]
    },
    {
     "name": "stdout",
     "output_type": "stream",
     "text": [
      "Review: Minta tolong lah, aku butuh EFIN, giliran mau minta EFIN ada aja kendalanya, katanya kode verif di kirim ke EMAIL, tapi kode nya ga masuk², kalo minta kode dari nomor telpon harus pake pulsa🙂, kok jadi ribet gini yah ??, cape tauu\n"
     ]
    },
    {
     "name": "stdin",
     "output_type": "stream",
     "text": [
      "Masukkan label (Positive, Negative, Neutral) Negative\n"
     ]
    },
    {
     "name": "stdout",
     "output_type": "stream",
     "text": [
      "Review: BOSOKKKK !!!!!\n"
     ]
    },
    {
     "name": "stdin",
     "output_type": "stream",
     "text": [
      "Masukkan label (Positive, Negative, Neutral) Negative\n"
     ]
    },
    {
     "name": "stdout",
     "output_type": "stream",
     "text": [
      "Review: Aplikasi sampah ga berguna,yang ada buat repot aj Mending dana ny buat negara aj ngapain alibi buat aplikasi segala Web ny pun ga berguna,petugas ny pada slow respon,atau emg gda petugas ny Nyusahin aj\n"
     ]
    },
    {
     "name": "stdin",
     "output_type": "stream",
     "text": [
      "Masukkan label (Positive, Negative, Neutral) Negative\n"
     ]
    },
    {
     "name": "stdout",
     "output_type": "stream",
     "text": [
      "Review: Pada dasarnya rakyat emang jadi sapi perah, mau taat aturan aja dipersulit\n"
     ]
    },
    {
     "name": "stdin",
     "output_type": "stream",
     "text": [
      "Masukkan label (Positive, Negative, Neutral) Negative\n"
     ]
    },
    {
     "name": "stdout",
     "output_type": "stream",
     "text": [
      "Review: jelek sekali\n"
     ]
    },
    {
     "name": "stdin",
     "output_type": "stream",
     "text": [
      "Masukkan label (Positive, Negative, Neutral) Negative\n"
     ]
    },
    {
     "name": "stdout",
     "output_type": "stream",
     "text": [
      "Review: Susah mau login juga kode verifikasi GK masuk masuk ke email\n"
     ]
    },
    {
     "name": "stdin",
     "output_type": "stream",
     "text": [
      "Masukkan label (Positive, Negative, Neutral) Negative\n"
     ]
    },
    {
     "name": "stdout",
     "output_type": "stream",
     "text": [
      "Review: Web lo benerin dlu lah, Surub bayar pajak tapi ngurusin web aja gk bener...\n"
     ]
    },
    {
     "name": "stdin",
     "output_type": "stream",
     "text": [
      "Masukkan label (Positive, Negative, Neutral) Negative\n"
     ]
    },
    {
     "name": "stdout",
     "output_type": "stream",
     "text": [
      "Review: Busuk nya masih minta ampun..parah ni aplikasi iya live chat GK bisa ngasih solusi..w minta efin bilang nya kirim email tp GK ada juga..di tlpon yg ada abisin pulsa terhung kagak..nyusahin rakyat doang..busuk\n"
     ]
    },
    {
     "name": "stdin",
     "output_type": "stream",
     "text": [
      "Masukkan label (Positive, Negative, Neutral) Negative\n"
     ]
    },
    {
     "name": "stdout",
     "output_type": "stream",
     "text": [
      "Review: namanya aja aplikasi pendafataran online,live chat terputus terus apaan ini\n"
     ]
    },
    {
     "name": "stdin",
     "output_type": "stream",
     "text": [
      "Masukkan label (Positive, Negative, Neutral) Negative\n"
     ]
    },
    {
     "name": "stdout",
     "output_type": "stream",
     "text": [
      "Review: Aplikasi bermasalah, gak beres udah ganti jaringan paket data ke wifi tetap aja, mana gak bisa masuk katanya sandi salah dll. Malah ujung-ujungnya akun keblokir, padahal barusan selesai daftar\n"
     ]
    },
    {
     "name": "stdin",
     "output_type": "stream",
     "text": [
      "Masukkan label (Positive, Negative, Neutral) Negative\n"
     ]
    },
    {
     "name": "stdout",
     "output_type": "stream",
     "text": [
      "Review: Aplikasi download sudah terbaru masih disuruh update terus, gws boomer\n"
     ]
    },
    {
     "name": "stdin",
     "output_type": "stream",
     "text": [
      "Masukkan label (Positive, Negative, Neutral) Negative\n"
     ]
    },
    {
     "name": "stdout",
     "output_type": "stream",
     "text": [
      "Review: mau urus no efin lupa tp udah isi data komplit tdk kunjung dapat kode verivikasi pdhl email dan nomer tlpn sesuai yg di daftarkan. tolonglah klu bikin apk itu yg bener sempurna baru di gunakan jgn kek gini bikin emosi aja\n"
     ]
    },
    {
     "name": "stdin",
     "output_type": "stream",
     "text": [
      "Masukkan label (Positive, Negative, Neutral) Negative\n"
     ]
    },
    {
     "name": "stdout",
     "output_type": "stream",
     "text": [
      "Review: buruk\n"
     ]
    },
    {
     "name": "stdin",
     "output_type": "stream",
     "text": [
      "Masukkan label (Positive, Negative, Neutral) Negative\n"
     ]
    },
    {
     "name": "stdout",
     "output_type": "stream",
     "text": [
      "Review: good aplikasi\n"
     ]
    },
    {
     "name": "stdin",
     "output_type": "stream",
     "text": [
      "Masukkan label (Positive, Negative, Neutral) Positive\n"
     ]
    },
    {
     "name": "stdout",
     "output_type": "stream",
     "text": [
      "Review: Bagus 👍👍👍👍tp kadang error mohon tingkat lagi\n"
     ]
    },
    {
     "name": "stdin",
     "output_type": "stream",
     "text": [
      "Masukkan label (Positive, Negative, Neutral) Positive\n"
     ]
    },
    {
     "name": "stdout",
     "output_type": "stream",
     "text": [
      "Review: Aplikasi banyak bug dan kurang stabil,serta penggunaanya yang kurang jelas\n"
     ]
    },
    {
     "name": "stdin",
     "output_type": "stream",
     "text": [
      "Masukkan label (Positive, Negative, Neutral) Negative\n"
     ]
    },
    {
     "name": "stdout",
     "output_type": "stream",
     "text": [
      "Review: Aplikasi jelek\n"
     ]
    },
    {
     "name": "stdin",
     "output_type": "stream",
     "text": [
      "Masukkan label (Positive, Negative, Neutral) Negative\n"
     ]
    },
    {
     "name": "stdout",
     "output_type": "stream",
     "text": [
      "Review: Busuk bego tolol koplak\n"
     ]
    },
    {
     "name": "stdin",
     "output_type": "stream",
     "text": [
      "Masukkan label (Positive, Negative, Neutral) Negative\n"
     ]
    },
    {
     "name": "stdout",
     "output_type": "stream",
     "text": [
      "Review: Kode otp gak dikirim2 udah coba berkali2\n"
     ]
    },
    {
     "name": "stdin",
     "output_type": "stream",
     "text": [
      "Masukkan label (Positive, Negative, Neutral) Negative\n"
     ]
    },
    {
     "name": "stdout",
     "output_type": "stream",
     "text": [
      "Review: Lupa efin terus data-datanya udah lengkap semua,pas verifikasi ga ada SMS atau Gmail yg masuk nomornya padahal udah berulangkali nyoba, gimana nih solusinya\n"
     ]
    },
    {
     "name": "stdin",
     "output_type": "stream",
     "text": [
      "Masukkan label (Positive, Negative, Neutral) Negative\n"
     ]
    },
    {
     "name": "stdout",
     "output_type": "stream",
     "text": [
      "Review: Tidak bermanfaat\n"
     ]
    },
    {
     "name": "stdin",
     "output_type": "stream",
     "text": [
      "Masukkan label (Positive, Negative, Neutral) Negative\n"
     ]
    },
    {
     "name": "stdout",
     "output_type": "stream",
     "text": [
      "Review: Busuk,,, masukin email jga kaga malah dikata gagal mencari email.. Kocak no efin\n"
     ]
    },
    {
     "name": "stdin",
     "output_type": "stream",
     "text": [
      "Masukkan label (Positive, Negative, Neutral) Negative\n"
     ]
    },
    {
     "name": "stdout",
     "output_type": "stream",
     "text": [
      "Review: Anggarannya pada di kemanain ini, Kok gk ada yg beres apk dari pemerintah. Parah parah\n"
     ]
    },
    {
     "name": "stdin",
     "output_type": "stream",
     "text": [
      "Masukkan label (Positive, Negative, Neutral) Negative\n"
     ]
    },
    {
     "name": "stdout",
     "output_type": "stream",
     "text": [
      "Review: Sumpah gak jelass mau pemadanan npwp16 tapi login aja gak bisa padahl udah benar nik/npwp tapi gak masul masuk, malah keterangan nya tidak di temukan... Emang ya buatan pemerintahan gak ada gina nya, sampah semua, banyakan korupsiii gak gunaaaaaaa..... Bamgsaaaat\n"
     ]
    },
    {
     "name": "stdin",
     "output_type": "stream",
     "text": [
      "Masukkan label (Positive, Negative, Neutral) Negative\n"
     ]
    },
    {
     "name": "stdout",
     "output_type": "stream",
     "text": [
      "Review: Verifikasi kode gabisa terus. Gini amat aplikasi milik pemerintah.\n"
     ]
    },
    {
     "name": "stdin",
     "output_type": "stream",
     "text": [
      "Masukkan label (Positive, Negative, Neutral) Negative\n"
     ]
    },
    {
     "name": "stdout",
     "output_type": "stream",
     "text": [
      "Review: kode verifikasi sudah dikirim, dikirim kemana? ke baghdad?????..saya nunggu kode verifikasi berulang ulang hanya menghabiskan waktu saja, percuma buat aplikasi jika akhirnya tetep disuruu dateng ke kpp....gemblung\n"
     ]
    },
    {
     "name": "stdin",
     "output_type": "stream",
     "text": [
      "Masukkan label (Positive, Negative, Neutral) Negative\n"
     ]
    },
    {
     "name": "stdout",
     "output_type": "stream",
     "text": [
      "Review: Parah loginnya\n"
     ]
    },
    {
     "name": "stdin",
     "output_type": "stream",
     "text": [
      "Masukkan label (Positive, Negative, Neutral) Negative\n"
     ]
    },
    {
     "name": "stdout",
     "output_type": "stream",
     "text": [
      "Review: Aplikasi Keluar sendiri\n"
     ]
    },
    {
     "name": "stdin",
     "output_type": "stream",
     "text": [
      "Masukkan label (Positive, Negative, Neutral) Negative\n"
     ]
    },
    {
     "name": "stdout",
     "output_type": "stream",
     "text": [
      "Review: masukin Nik tidak mau lengkap\n"
     ]
    },
    {
     "name": "stdin",
     "output_type": "stream",
     "text": [
      "Masukkan label (Positive, Negative, Neutral) Negative\n"
     ]
    },
    {
     "name": "stdout",
     "output_type": "stream",
     "text": [
      "Review: Ternyata bisa juga\n"
     ]
    },
    {
     "name": "stdin",
     "output_type": "stream",
     "text": [
      "Masukkan label (Positive, Negative, Neutral) Positive\n"
     ]
    },
    {
     "name": "stdout",
     "output_type": "stream",
     "text": [
      "Review: Sekelas pemerintah Indonesia aplikasinya kayak gini tapi pajak trs ditingkatkan\n"
     ]
    },
    {
     "name": "stdin",
     "output_type": "stream",
     "text": [
      "Masukkan label (Positive, Negative, Neutral) Negative\n"
     ]
    },
    {
     "name": "stdout",
     "output_type": "stream",
     "text": [
      "Review: Yuk REPORT Apk nya ke playstore sebagai Apk mencurigakan biar di hapus Aplikasi SAMPAH\n"
     ]
    },
    {
     "name": "stdin",
     "output_type": "stream",
     "text": [
      "Masukkan label (Positive, Negative, Neutral) Negative\n"
     ]
    },
    {
     "name": "stdout",
     "output_type": "stream",
     "text": [
      "Review: Aplikasi nggak ada guna. Serba error bahkan websitenya pun juga error. Internet saya udah 100Mbps aja masih error tolol emang\n"
     ]
    },
    {
     "name": "stdin",
     "output_type": "stream",
     "text": [
      "Masukkan label (Positive, Negative, Neutral) Negative\n"
     ]
    },
    {
     "name": "stdout",
     "output_type": "stream",
     "text": [
      "Review: Minta Efin mw taat pajak aja susahnya ga ada obat !\n"
     ]
    },
    {
     "name": "stdin",
     "output_type": "stream",
     "text": [
      "Masukkan label (Positive, Negative, Neutral) Negative\n"
     ]
    },
    {
     "name": "stdout",
     "output_type": "stream",
     "text": [
      "Review: Mau login tapi ga bisa karena ga memiliki kode efin. Sudah daftar tapi ga bisa login samsek. Jadi buat lapor pajak ga bisa.\n"
     ]
    },
    {
     "name": "stdin",
     "output_type": "stream",
     "text": [
      "Masukkan label (Positive, Negative, Neutral) Negative\n"
     ]
    },
    {
     "name": "stdout",
     "output_type": "stream",
     "text": [
      "Review: Busek wae seko play store. Apk Ra mutu.. log in wae susah. Muat ulang wae. Meh ganti NPWP di gawe susah!!!!!!\n"
     ]
    },
    {
     "name": "stdin",
     "output_type": "stream",
     "text": [
      "Masukkan label (Positive, Negative, Neutral) Negative\n"
     ]
    },
    {
     "name": "stdout",
     "output_type": "stream",
     "text": [
      "Review: Aplikasi pemerintah gak ada yang bener\n"
     ]
    },
    {
     "name": "stdin",
     "output_type": "stream",
     "text": [
      "Masukkan label (Positive, Negative, Neutral) Negative\n"
     ]
    },
    {
     "name": "stdout",
     "output_type": "stream",
     "text": [
      "Review: kan pas bikin pajak awal nya harus pake NIK KTP , kenapa ga sekalian di padanin aja , kerja orang pajak ngapain ja jadi nya .. makan gaji buta ??\n"
     ]
    },
    {
     "name": "stdin",
     "output_type": "stream",
     "text": [
      "Masukkan label (Positive, Negative, Neutral) Negative\n"
     ]
    },
    {
     "name": "stdout",
     "output_type": "stream",
     "text": [
      "Review: Aneh... tampilan kartu npwp di web dan aplikasi beda. Diweb nmr krtu 15 dan 16 digit. Diaplikasi hanya 15 digit\n"
     ]
    },
    {
     "name": "stdin",
     "output_type": "stream",
     "text": [
      "Masukkan label (Positive, Negative, Neutral) Negative\n"
     ]
    },
    {
     "name": "stdout",
     "output_type": "stream",
     "text": [
      "Review: Aplikasi jamet, lupa password pas selesai mau login ga bisa, ga becus bikin aplikasi padahal dana tumpah2, cape bgt cuman buat login ya allah.\n"
     ]
    },
    {
     "name": "stdin",
     "output_type": "stream",
     "text": [
      "Masukkan label (Positive, Negative, Neutral) Negative\n"
     ]
    },
    {
     "name": "stdout",
     "output_type": "stream",
     "text": [
      "Review: Aplikasi pemerintah.. menyulitkan masyarakat...wa nyuruh laporan online.. giliran akses aplikasi susahnya minta ampun...hadehhhh\n"
     ]
    },
    {
     "name": "stdin",
     "output_type": "stream",
     "text": [
      "Masukkan label (Positive, Negative, Neutral) Negative\n"
     ]
    },
    {
     "name": "stdout",
     "output_type": "stream",
     "text": [
      "Review: Aplikasi taee.. pemerintah klw bikin apa2 gak pernah beres\n"
     ]
    },
    {
     "name": "stdin",
     "output_type": "stream",
     "text": [
      "Masukkan label (Positive, Negative, Neutral) Negative\n"
     ]
    },
    {
     "name": "stdout",
     "output_type": "stream",
     "text": [
      "Review: Tidak berfungsi\n"
     ]
    },
    {
     "name": "stdin",
     "output_type": "stream",
     "text": [
      "Masukkan label (Positive, Negative, Neutral) Negative\n"
     ]
    },
    {
     "name": "stdout",
     "output_type": "stream",
     "text": [
      "Review: Buka website gabisa, giliran download apk nya sama juga, pantes aja rating nya kecil, padahal sekelas aplikasi pemerintahan. SAYA CINTA INDONESIA\n"
     ]
    },
    {
     "name": "stdin",
     "output_type": "stream",
     "text": [
      "Masukkan label (Positive, Negative, Neutral) Negative\n"
     ]
    },
    {
     "name": "stdout",
     "output_type": "stream",
     "text": [
      "Review: Web dan aplikasi sampah... gak ku bayar pajak mampus kau.. capek ribet. Lagin dalah trus\n"
     ]
    },
    {
     "name": "stdin",
     "output_type": "stream",
     "text": [
      "Masukkan label (Positive, Negative, Neutral) Negative\n"
     ]
    },
    {
     "name": "stdout",
     "output_type": "stream",
     "text": [
      "Review: Sampahh\n"
     ]
    },
    {
     "name": "stdin",
     "output_type": "stream",
     "text": [
      "Masukkan label (Positive, Negative, Neutral) Negative\n"
     ]
    },
    {
     "name": "stdout",
     "output_type": "stream",
     "text": [
      "Review: Baru pertama kali nemu apk yang daftarnya harus datang ke kantornya 🤣🤣🤣🤣\n"
     ]
    },
    {
     "name": "stdin",
     "output_type": "stream",
     "text": [
      "Masukkan label (Positive, Negative, Neutral) Negative\n"
     ]
    },
    {
     "name": "stdout",
     "output_type": "stream",
     "text": [
      "Review: Aplikasi jelek ga guna\n"
     ]
    },
    {
     "name": "stdin",
     "output_type": "stream",
     "text": [
      "Masukkan label (Positive, Negative, Neutral) Negative\n"
     ]
    },
    {
     "name": "stdout",
     "output_type": "stream",
     "text": [
      "Review: Mau ganti npwp16aja susah setengah mati, webnya diisi salah mulu pdhl dah bener\n"
     ]
    },
    {
     "name": "stdin",
     "output_type": "stream",
     "text": [
      "Masukkan label (Positive, Negative, Neutral) Negative\n"
     ]
    },
    {
     "name": "stdout",
     "output_type": "stream",
     "text": [
      "Review: APK SAMPAH, NPWP NIK PASSWORD SUDAH SESUAI TETEP GAK BISA MASUK, DI WEB PUN JUGA BEGITU\n"
     ]
    },
    {
     "name": "stdin",
     "output_type": "stream",
     "text": [
      "Masukkan label (Positive, Negative, Neutral) Negative\n"
     ]
    },
    {
     "name": "stdout",
     "output_type": "stream",
     "text": [
      "Review: Layanan jelek Mau masak menu gak bisa\n"
     ]
    },
    {
     "name": "stdin",
     "output_type": "stream",
     "text": [
      "Masukkan label (Positive, Negative, Neutral) Negative\n"
     ]
    },
    {
     "name": "stdout",
     "output_type": "stream",
     "text": [
      "Review: Aplikasi CACAT yang sangat tidak membantu\n"
     ]
    },
    {
     "name": "stdin",
     "output_type": "stream",
     "text": [
      "Masukkan label (Positive, Negative, Neutral) Negative\n"
     ]
    },
    {
     "name": "stdout",
     "output_type": "stream",
     "text": [
      "Review: Aplikasi tidak berguna tidk bisa di pakai masih saja di jual\n"
     ]
    },
    {
     "name": "stdin",
     "output_type": "stream",
     "text": [
      "Masukkan label (Positive, Negative, Neutral) Negative\n"
     ]
    },
    {
     "name": "stdout",
     "output_type": "stream",
     "text": [
      "Review: gak bisa buat kode ebiling\n"
     ]
    },
    {
     "name": "stdin",
     "output_type": "stream",
     "text": [
      "Masukkan label (Positive, Negative, Neutral) Negative\n"
     ]
    },
    {
     "name": "stdout",
     "output_type": "stream",
     "text": [
      "Review: sangat jelek, mau daftar aja dipersulit. Aplikasi peninggalan VOC.\n"
     ]
    },
    {
     "name": "stdin",
     "output_type": "stream",
     "text": [
      "Masukkan label (Positive, Negative, Neutral) Negative\n"
     ]
    },
    {
     "name": "stdout",
     "output_type": "stream",
     "text": [
      "Review: Gak fungsi\n"
     ]
    },
    {
     "name": "stdin",
     "output_type": "stream",
     "text": [
      "Masukkan label (Positive, Negative, Neutral) Negative\n"
     ]
    },
    {
     "name": "stdout",
     "output_type": "stream",
     "text": [
      "Review: Apk Dak jelas\n"
     ]
    },
    {
     "name": "stdin",
     "output_type": "stream",
     "text": [
      "Masukkan label (Positive, Negative, Neutral) Negative\n"
     ]
    },
    {
     "name": "stdout",
     "output_type": "stream",
     "text": [
      "Review: Kerja gak bener, buat aplikasi juga bukannya memudahkan malah menyusahkan 👎\n"
     ]
    },
    {
     "name": "stdin",
     "output_type": "stream",
     "text": [
      "Masukkan label (Positive, Negative, Neutral) Negative\n"
     ]
    },
    {
     "name": "stdout",
     "output_type": "stream",
     "text": [
      "Review: Aplikasi terhenti di samsung j2 prime\n"
     ]
    },
    {
     "name": "stdin",
     "output_type": "stream",
     "text": [
      "Masukkan label (Positive, Negative, Neutral) Negative\n"
     ]
    },
    {
     "name": "stdout",
     "output_type": "stream",
     "text": [
      "Review: Pokoknya semua yang ulasannya bintang 1, saya like semuaaaa :D :D :D anccuuurrrrrrrrr!!!!!\n"
     ]
    },
    {
     "name": "stdin",
     "output_type": "stream",
     "text": [
      "Masukkan label (Positive, Negative, Neutral) Negative\n"
     ]
    },
    {
     "name": "stdout",
     "output_type": "stream",
     "text": [
      "Review: Tlp. G di angkat angkat Dah abis 100rebu pulsa Cs Kantor pajak ganti pake cs bank\n"
     ]
    },
    {
     "name": "stdin",
     "output_type": "stream",
     "text": [
      "Masukkan label (Positive, Negative, Neutral) Negative\n"
     ]
    },
    {
     "name": "stdout",
     "output_type": "stream",
     "text": [
      "Review: Aplikasi sampah ga guna buang buang waktu saja\n"
     ]
    },
    {
     "name": "stdin",
     "output_type": "stream",
     "text": [
      "Masukkan label (Positive, Negative, Neutral) Negative\n"
     ]
    },
    {
     "name": "stdout",
     "output_type": "stream",
     "text": [
      "Review: Burukkkk!!\n"
     ]
    },
    {
     "name": "stdin",
     "output_type": "stream",
     "text": [
      "Masukkan label (Positive, Negative, Neutral) Negative\n"
     ]
    },
    {
     "name": "stdout",
     "output_type": "stream",
     "text": [
      "Review: Anehhhh.. baru instal kok udah disuruh update.. ini developernya gimna😤 bikin emosi tog.\n"
     ]
    },
    {
     "name": "stdin",
     "output_type": "stream",
     "text": [
      "Masukkan label (Positive, Negative, Neutral) Negative\n"
     ]
    },
    {
     "name": "stdout",
     "output_type": "stream",
     "text": [
      "Review: Saya coba dlu bintang 🌟🌟🌟🌟 yh min klau bagus selanjutnya saya akan tambahkan lagi bintang\n"
     ]
    },
    {
     "name": "stdin",
     "output_type": "stream",
     "text": [
      "Masukkan label (Positive, Negative, Neutral) Neutral\n"
     ]
    },
    {
     "name": "stdout",
     "output_type": "stream",
     "text": [
      "Review: Tidal bisa Dipakai di hp vivo Y67 dgn software funtouch 3\n"
     ]
    },
    {
     "name": "stdin",
     "output_type": "stream",
     "text": [
      "Masukkan label (Positive, Negative, Neutral) Negative\n"
     ]
    },
    {
     "name": "stdout",
     "output_type": "stream",
     "text": [
      "Review: KORUPSI LAGI SI PAJAK INI TOLOLLLL, APLIKASI GAK GUNA, WEB JUGA GAK GUNA, SETIAP MAU TULIS EMAIL PAKE \"@\" LANGSUNG KE RESET TULISANNYA TOLOLLLL WONG PAJAK WONG KORUPSI TOLOLLLL\n"
     ]
    },
    {
     "name": "stdin",
     "output_type": "stream",
     "text": [
      "Masukkan label (Positive, Negative, Neutral) Negative\n"
     ]
    },
    {
     "name": "stdout",
     "output_type": "stream",
     "text": [
      "Review: Sudah biasa aplikasi pemerintah buang anggaran gak ada yang berguna, indonesia cemas 2045.. Pecat aja tim IT nya Tambah banyak alasan gal bayar pajak, aplikasinya goblog\n"
     ]
    },
    {
     "name": "stdin",
     "output_type": "stream",
     "text": [
      "Masukkan label (Positive, Negative, Neutral) Negative\n"
     ]
    },
    {
     "name": "stdout",
     "output_type": "stream",
     "text": [
      "Review: Aplikasi gak jelas. Nyesel download\n"
     ]
    },
    {
     "name": "stdin",
     "output_type": "stream",
     "text": [
      "Masukkan label (Positive, Negative, Neutral) Negative\n"
     ]
    },
    {
     "name": "stdout",
     "output_type": "stream",
     "text": [
      "Review: Mau bikin npwp aja di persulit banyak error\n"
     ]
    },
    {
     "name": "stdin",
     "output_type": "stream",
     "text": [
      "Masukkan label (Positive, Negative, Neutral) Negative\n"
     ]
    },
    {
     "name": "stdout",
     "output_type": "stream",
     "text": [
      "Review: lagi dan lagi apk plat merah adalah apk sampah\n"
     ]
    },
    {
     "name": "stdin",
     "output_type": "stream",
     "text": [
      "Masukkan label (Positive, Negative, Neutral) Negative\n"
     ]
    },
    {
     "name": "stdout",
     "output_type": "stream",
     "text": [
      "Review: Dengan membayar pajak kita menjadi warga yang baik dan mudah digunakan meski lewat online, urusan menjadi lebih mudah\n"
     ]
    },
    {
     "name": "stdin",
     "output_type": "stream",
     "text": [
      "Masukkan label (Positive, Negative, Neutral) Positive\n"
     ]
    },
    {
     "name": "stdout",
     "output_type": "stream",
     "text": [
      "Review: Apk sampah...udh beberapa x masukkan kode verifikasi sesuai dg kode yang masuk gagal terus\n"
     ]
    },
    {
     "name": "stdin",
     "output_type": "stream",
     "text": [
      "Masukkan label (Positive, Negative, Neutral) Negative\n"
     ]
    },
    {
     "name": "stdout",
     "output_type": "stream",
     "text": [
      "Review: Kenapa ga bisa login?? Dari website masuk kok, apa ada bug ??\n"
     ]
    },
    {
     "name": "stdin",
     "output_type": "stream",
     "text": [
      "Masukkan label (Positive, Negative, Neutral) Negative\n"
     ]
    },
    {
     "name": "stdout",
     "output_type": "stream",
     "text": [
      "Review: Layanan mudah dalam genggaman... Mudah dari mana? Kami yang mau wajib pajak, jadi malas karena makin ribet, ngabisin pulsa doang.\n"
     ]
    },
    {
     "name": "stdin",
     "output_type": "stream",
     "text": [
      "Masukkan label (Positive, Negative, Neutral) Negative\n"
     ]
    },
    {
     "name": "stdout",
     "output_type": "stream",
     "text": [
      "Review: Aplikasi lemot web g jelas ..\n"
     ]
    },
    {
     "name": "stdin",
     "output_type": "stream",
     "text": [
      "Masukkan label (Positive, Negative, Neutral) Negative\n"
     ]
    },
    {
     "name": "stdout",
     "output_type": "stream",
     "text": [
      "Review: Mau coba dulu\n"
     ]
    },
    {
     "name": "stdin",
     "output_type": "stream",
     "text": [
      "Masukkan label (Positive, Negative, Neutral) Neutral\n"
     ]
    },
    {
     "name": "stdout",
     "output_type": "stream",
     "text": [
      "Review: Gobl*k ga becus lu buat aplikasi server web juga down terus sekelas penyediaan layanan negara begini. sampah! Lu kerja ngapain aja si, lebih bagus server/web/apk judi online.\n"
     ]
    },
    {
     "name": "stdin",
     "output_type": "stream",
     "text": [
      "Masukkan label (Positive, Negative, Neutral) Negative\n"
     ]
    },
    {
     "name": "stdout",
     "output_type": "stream",
     "text": [
      "Review: Perbaiki sistemnya, sekelas apk nasional kayak trash banget, ga niat amat udah digaji warga\n"
     ]
    },
    {
     "name": "stdin",
     "output_type": "stream",
     "text": [
      "Masukkan label (Positive, Negative, Neutral) Negative\n"
     ]
    },
    {
     "name": "stdout",
     "output_type": "stream",
     "text": [
      "Review: LAYANAN SAMPAH PEMERINTAH,Fitur live chat pas buka bilang jaringan kurang bagus,chat berakhir....dongooo udh gw tunggu petugas KRING buat konsultasi ditunggu ga ad jawaban,giliran masuk udh bbrpa kali malah error ,layanan tolol\n"
     ]
    },
    {
     "name": "stdin",
     "output_type": "stream",
     "text": [
      "Masukkan label (Positive, Negative, Neutral) Negative\n"
     ]
    },
    {
     "name": "stdout",
     "output_type": "stream",
     "text": [
      "Review: Ini web deplop nya magang kah? Ga web nya, ga apk nya ga pemerintah nya gajelas semua. Ga mampu bayar pro kah? Web sekelas pemerintah bobroknya minta ampun. Ada web sama apk biar memudahkan malah kek orang tolol muter muter doang. Disuruh taat pajak tapi sistem pajak nya aja ga bener apa yg di harap dari pengelola kaya gini. Apa susahnya sih bayar pro gausa make anak magang terus biar bener tuh web sama apk. Gajelas gajelas, capeee\n"
     ]
    },
    {
     "name": "stdin",
     "output_type": "stream",
     "text": [
      "Masukkan label (Positive, Negative, Neutral) Negative\n"
     ]
    },
    {
     "name": "stdout",
     "output_type": "stream",
     "text": [
      "Review: Apk yang sangat membagongkan, buang2 waktu ngisi data aja ribett bgt yang di tulis apa yang muncul apa. Bikin emosi aja..\n"
     ]
    },
    {
     "name": "stdin",
     "output_type": "stream",
     "text": [
      "Masukkan label (Positive, Negative, Neutral) Negative\n"
     ]
    },
    {
     "name": "stdout",
     "output_type": "stream",
     "text": [
      "Review: Mantap\n"
     ]
    },
    {
     "name": "stdin",
     "output_type": "stream",
     "text": [
      "Masukkan label (Positive, Negative, Neutral) Positive\n"
     ]
    },
    {
     "name": "stdout",
     "output_type": "stream",
     "text": [
      "Review: Apk PPK Error Truss\n"
     ]
    },
    {
     "name": "stdin",
     "output_type": "stream",
     "text": [
      "Masukkan label (Positive, Negative, Neutral) Negative\n"
     ]
    },
    {
     "name": "stdout",
     "output_type": "stream",
     "text": [
      "Review: Gabisa login eror mulu!!\n"
     ]
    },
    {
     "name": "stdin",
     "output_type": "stream",
     "text": [
      "Masukkan label (Positive, Negative, Neutral) Negative\n"
     ]
    },
    {
     "name": "stdout",
     "output_type": "stream",
     "text": [
      "Review: Sampah\n"
     ]
    },
    {
     "name": "stdin",
     "output_type": "stream",
     "text": [
      "Masukkan label (Positive, Negative, Neutral) Negative\n"
     ]
    },
    {
     "name": "stdout",
     "output_type": "stream",
     "text": [
      "Review: Apk pemerintahan kok gini amat ya, eror mulu\n"
     ]
    },
    {
     "name": "stdin",
     "output_type": "stream",
     "text": [
      "Masukkan label (Positive, Negative, Neutral) Negative\n"
     ]
    },
    {
     "name": "stdout",
     "output_type": "stream",
     "text": [
      "Review: Woi... Hati hati bos dgn aplikasi ini, kayaknya ini aplikasi ilegal,mau dft berhari hari gak bisa masuk di ulang ulang terus,salah salah data kita bisa di salah gunakan,DTG lgsung k kantor pjk sj bos kalo mau buat NPWP\n"
     ]
    },
    {
     "name": "stdin",
     "output_type": "stream",
     "text": [
      "Masukkan label (Positive, Negative, Neutral) Negative\n"
     ]
    },
    {
     "name": "stdout",
     "output_type": "stream",
     "text": [
      "Review: aplikasi sampah, sampah dan sampah,\n"
     ]
    },
    {
     "name": "stdin",
     "output_type": "stream",
     "text": [
      "Masukkan label (Positive, Negative, Neutral) Negative\n"
     ]
    },
    {
     "name": "stdout",
     "output_type": "stream",
     "text": [
      "Review: Tidak bisa log in\n"
     ]
    },
    {
     "name": "stdin",
     "output_type": "stream",
     "text": [
      "Masukkan label (Positive, Negative, Neutral) Negative\n"
     ]
    },
    {
     "name": "stdout",
     "output_type": "stream",
     "text": [
      "Review: Sumpah membagong kan, apk gak fungsi, saya yg tdk mempunyai penghasilan tetap malah kna pajak,terus d kasih surat teguran lgi d suruh byr pajak. mau menhubungi ke pihak lewat apk malah gak fungsi apk nya😶😶\n"
     ]
    },
    {
     "name": "stdin",
     "output_type": "stream",
     "text": [
      "Masukkan label (Positive, Negative, Neutral) Negative\n"
     ]
    },
    {
     "name": "stdout",
     "output_type": "stream",
     "text": [
      "Review: BUKANYA ORANG ATAS PINTER\" YA. BIKIN APLIKASI KEK GINI AJA AMBURADUL. MAU LOGIN AJA RIBETNYA MINTA AMPUN, UDAH RIBET KAGA BISA LOGIN, UDAH RIBET MASIH AJA KEBOBOLAN HACKER.. LAWAK LAWAK !!! . BUKANNYA MEMPERMUDAH. MALAH MEMPERSULIT SULIT. CAPEK CAPEK.\n"
     ]
    },
    {
     "name": "stdin",
     "output_type": "stream",
     "text": [
      "Masukkan label (Positive, Negative, Neutral) Negative\n"
     ]
    },
    {
     "name": "stdout",
     "output_type": "stream",
     "text": [
      "Review: Petugas pajak kota serang kenapa jutek\" ya. Loket 13 yg buka cm 3. Parah perusahaan negara begini\n"
     ]
    },
    {
     "name": "stdin",
     "output_type": "stream",
     "text": [
      "Masukkan label (Positive, Negative, Neutral) Negative\n"
     ]
    },
    {
     "name": "stdout",
     "output_type": "stream",
     "text": [
      "Review: apasih departemen di pemerintahan yg gk bobrok , semua apk dari pemerintah pasti bobrok , susah diakses semua dipersulit sampai offline tetap aja dipersulit\n"
     ]
    },
    {
     "name": "stdin",
     "output_type": "stream",
     "text": [
      "Masukkan label (Positive, Negative, Neutral) Negative\n"
     ]
    },
    {
     "name": "stdout",
     "output_type": "stream",
     "text": [
      "Review: Kecewa dengan dirjen pajak uang pajak dari pekerja kasar dikorupsi\n"
     ]
    },
    {
     "name": "stdin",
     "output_type": "stream",
     "text": [
      "Masukkan label (Positive, Negative, Neutral) Negative\n"
     ]
    },
    {
     "name": "stdout",
     "output_type": "stream",
     "text": [
      "Review: APLIKASI SAMPAHHH!! GA APLIKASINYA GA INSTITUSINYA SEMUANYA GA GUNA PAYAH SEMUANYA\n"
     ]
    },
    {
     "name": "stdin",
     "output_type": "stream",
     "text": [
      "Masukkan label (Positive, Negative, Neutral) Negative\n"
     ]
    },
    {
     "name": "stdout",
     "output_type": "stream",
     "text": [
      "Review: Aplikasi payah, gak jelas. Seharusnya bisa mempermudah ini makin sulit, tolonglah diperbaiki aplikasinya, biaya negara loh\n"
     ]
    },
    {
     "name": "stdin",
     "output_type": "stream",
     "text": [
      "Masukkan label (Positive, Negative, Neutral) Negative\n"
     ]
    },
    {
     "name": "stdout",
     "output_type": "stream",
     "text": [
      "Review: Sering down server\n"
     ]
    },
    {
     "name": "stdin",
     "output_type": "stream",
     "text": [
      "Masukkan label (Positive, Negative, Neutral) Negative\n"
     ]
    },
    {
     "name": "stdout",
     "output_type": "stream",
     "text": [
      "Review: Okey\n"
     ]
    },
    {
     "name": "stdin",
     "output_type": "stream",
     "text": [
      "Masukkan label (Positive, Negative, Neutral) Positive\n"
     ]
    },
    {
     "name": "stdout",
     "output_type": "stream",
     "text": [
      "Review: Pada WEB. DI LANGKAH KE 2. CAPCHA UDH BENER MASIH AJA KE RELOAD DAN NGULANG BEGITU TERUS. Sedangkan daftar menggunakan PC.\n"
     ]
    },
    {
     "name": "stdin",
     "output_type": "stream",
     "text": [
      "Masukkan label (Positive, Negative, Neutral) Negative\n"
     ]
    },
    {
     "name": "stdout",
     "output_type": "stream",
     "text": [
      "Review: Baru masuk aplikasi langsung disuruh update, pengen berkata kasar tapi ga pengen disangka orgnya kasar. Update ga jelas jalan/engga. Jinglah\n"
     ]
    },
    {
     "name": "stdin",
     "output_type": "stream",
     "text": [
      "Masukkan label (Positive, Negative, Neutral) Negative\n"
     ]
    },
    {
     "name": "stdout",
     "output_type": "stream",
     "text": [
      "Review: Aplikasi gilo suruh gisih data sesuai KTP tpi tertulis kelurahan anda salah aplikasi tolol udh ditulis data diri seperti di KTP alamat tpi salah eror tolol\n"
     ]
    },
    {
     "name": "stdin",
     "output_type": "stream",
     "text": [
      "Masukkan label (Positive, Negative, Neutral) Negative\n"
     ]
    },
    {
     "name": "stdout",
     "output_type": "stream",
     "text": [
      "Review: untuk login ke aplikasi ribet sekali kirain daftar udh bisa login ke aplikasi ternyata gak .. tidak bisa login terus harus datang ke kpp terdekat untuk mendapatkan efin jadi apa gunanya online ini\n"
     ]
    },
    {
     "name": "stdin",
     "output_type": "stream",
     "text": [
      "Masukkan label (Positive, Negative, Neutral) Negative\n"
     ]
    },
    {
     "name": "stdout",
     "output_type": "stream",
     "text": [
      "Review: Saya Download Hanya Ingin Masuk Konten Tretan Muslim Aja😁hehe\n"
     ]
    },
    {
     "name": "stdin",
     "output_type": "stream",
     "text": [
      "Masukkan label (Positive, Negative, Neutral) Neutral\n"
     ]
    },
    {
     "name": "stdout",
     "output_type": "stream",
     "text": [
      "Review: Ini aplikasi tambah menyusahkan no otp ratusan kali datang tp di verifikasi di suruh ulang melulu\n"
     ]
    },
    {
     "name": "stdin",
     "output_type": "stream",
     "text": [
      "Masukkan label (Positive, Negative, Neutral) Negative\n"
     ]
    },
    {
     "name": "stdout",
     "output_type": "stream",
     "text": [
      "Review: Biasa, seperti aplikasi pemerintah pada umumnya, ngga yang manual ngga online sama ribetnya. Giliran sama pajaknya kita disuruh taat, tapi pelayanannya, bahkan yang online sekalipun tambah bikin makan pikiran sama makan hati. Aplikasi sampah cuman ngabisin anggaran doang.\n"
     ]
    },
    {
     "name": "stdin",
     "output_type": "stream",
     "text": [
      "Masukkan label (Positive, Negative, Neutral) Negative\n"
     ]
    },
    {
     "name": "stdout",
     "output_type": "stream",
     "text": [
      "Review: Kmrn bisa login, skrng gk bisa. Lapor ke kantor kpp pratama, disuruh online, tp app eror. Mau nya gmn?\n"
     ]
    },
    {
     "name": "stdin",
     "output_type": "stream",
     "text": [
      "Masukkan label (Positive, Negative, Neutral) Negative\n"
     ]
    },
    {
     "name": "stdout",
     "output_type": "stream",
     "text": [
      "Review: Aplikasi sampah.. Udahlah buat peraturan suka2.. Minimal Pake Apk yg Pro donk.. Ini malah Eror mulu\n"
     ]
    },
    {
     "name": "stdin",
     "output_type": "stream",
     "text": [
      "Masukkan label (Positive, Negative, Neutral) Negative\n"
     ]
    },
    {
     "name": "stdout",
     "output_type": "stream",
     "text": [
      "Review: Admin aplikasi lu parah banget\n"
     ]
    },
    {
     "ename": "KeyboardInterrupt",
     "evalue": "Interrupted by user",
     "output_type": "error",
     "traceback": [
      "\u001b[1;31m---------------------------------------------------------------------------\u001b[0m",
      "\u001b[1;31mKeyboardInterrupt\u001b[0m                         Traceback (most recent call last)",
      "Cell \u001b[1;32mIn[8], line 4\u001b[0m\n\u001b[0;32m      2\u001b[0m \u001b[38;5;28;01mfor\u001b[39;00m index, row \u001b[38;5;129;01min\u001b[39;00m df_content\u001b[38;5;241m.\u001b[39miterrows():\n\u001b[0;32m      3\u001b[0m     \u001b[38;5;28mprint\u001b[39m(\u001b[38;5;124mf\u001b[39m\u001b[38;5;124m\"\u001b[39m\u001b[38;5;124mReview: \u001b[39m\u001b[38;5;132;01m{\u001b[39;00mrow[\u001b[38;5;124m'\u001b[39m\u001b[38;5;124mcontent\u001b[39m\u001b[38;5;124m'\u001b[39m]\u001b[38;5;132;01m}\u001b[39;00m\u001b[38;5;124m\"\u001b[39m)\n\u001b[1;32m----> 4\u001b[0m     label \u001b[38;5;241m=\u001b[39m \u001b[38;5;28;43minput\u001b[39;49m\u001b[43m(\u001b[49m\u001b[38;5;124;43m\"\u001b[39;49m\u001b[38;5;124;43mMasukkan label (Positive, Negative, Neutral)\u001b[39;49m\u001b[38;5;124;43m\"\u001b[39;49m\u001b[43m)\u001b[49m\n\u001b[0;32m      5\u001b[0m     df_content\u001b[38;5;241m.\u001b[39mat[index, \u001b[38;5;124m'\u001b[39m\u001b[38;5;124mlabel\u001b[39m\u001b[38;5;124m'\u001b[39m] \u001b[38;5;241m=\u001b[39m label\n",
      "File \u001b[1;32m~\\AppData\\Local\\Programs\\Python\\Python312\\Lib\\site-packages\\ipykernel\\kernelbase.py:1282\u001b[0m, in \u001b[0;36mKernel.raw_input\u001b[1;34m(self, prompt)\u001b[0m\n\u001b[0;32m   1280\u001b[0m     msg \u001b[38;5;241m=\u001b[39m \u001b[38;5;124m\"\u001b[39m\u001b[38;5;124mraw_input was called, but this frontend does not support input requests.\u001b[39m\u001b[38;5;124m\"\u001b[39m\n\u001b[0;32m   1281\u001b[0m     \u001b[38;5;28;01mraise\u001b[39;00m StdinNotImplementedError(msg)\n\u001b[1;32m-> 1282\u001b[0m \u001b[38;5;28;01mreturn\u001b[39;00m \u001b[38;5;28;43mself\u001b[39;49m\u001b[38;5;241;43m.\u001b[39;49m\u001b[43m_input_request\u001b[49m\u001b[43m(\u001b[49m\n\u001b[0;32m   1283\u001b[0m \u001b[43m    \u001b[49m\u001b[38;5;28;43mstr\u001b[39;49m\u001b[43m(\u001b[49m\u001b[43mprompt\u001b[49m\u001b[43m)\u001b[49m\u001b[43m,\u001b[49m\n\u001b[0;32m   1284\u001b[0m \u001b[43m    \u001b[49m\u001b[38;5;28;43mself\u001b[39;49m\u001b[38;5;241;43m.\u001b[39;49m\u001b[43m_parent_ident\u001b[49m\u001b[43m[\u001b[49m\u001b[38;5;124;43m\"\u001b[39;49m\u001b[38;5;124;43mshell\u001b[39;49m\u001b[38;5;124;43m\"\u001b[39;49m\u001b[43m]\u001b[49m\u001b[43m,\u001b[49m\n\u001b[0;32m   1285\u001b[0m \u001b[43m    \u001b[49m\u001b[38;5;28;43mself\u001b[39;49m\u001b[38;5;241;43m.\u001b[39;49m\u001b[43mget_parent\u001b[49m\u001b[43m(\u001b[49m\u001b[38;5;124;43m\"\u001b[39;49m\u001b[38;5;124;43mshell\u001b[39;49m\u001b[38;5;124;43m\"\u001b[39;49m\u001b[43m)\u001b[49m\u001b[43m,\u001b[49m\n\u001b[0;32m   1286\u001b[0m \u001b[43m    \u001b[49m\u001b[43mpassword\u001b[49m\u001b[38;5;241;43m=\u001b[39;49m\u001b[38;5;28;43;01mFalse\u001b[39;49;00m\u001b[43m,\u001b[49m\n\u001b[0;32m   1287\u001b[0m \u001b[43m\u001b[49m\u001b[43m)\u001b[49m\n",
      "File \u001b[1;32m~\\AppData\\Local\\Programs\\Python\\Python312\\Lib\\site-packages\\ipykernel\\kernelbase.py:1325\u001b[0m, in \u001b[0;36mKernel._input_request\u001b[1;34m(self, prompt, ident, parent, password)\u001b[0m\n\u001b[0;32m   1322\u001b[0m \u001b[38;5;28;01mexcept\u001b[39;00m \u001b[38;5;167;01mKeyboardInterrupt\u001b[39;00m:\n\u001b[0;32m   1323\u001b[0m     \u001b[38;5;66;03m# re-raise KeyboardInterrupt, to truncate traceback\u001b[39;00m\n\u001b[0;32m   1324\u001b[0m     msg \u001b[38;5;241m=\u001b[39m \u001b[38;5;124m\"\u001b[39m\u001b[38;5;124mInterrupted by user\u001b[39m\u001b[38;5;124m\"\u001b[39m\n\u001b[1;32m-> 1325\u001b[0m     \u001b[38;5;28;01mraise\u001b[39;00m \u001b[38;5;167;01mKeyboardInterrupt\u001b[39;00m(msg) \u001b[38;5;28;01mfrom\u001b[39;00m \u001b[38;5;28;01mNone\u001b[39;00m\n\u001b[0;32m   1326\u001b[0m \u001b[38;5;28;01mexcept\u001b[39;00m \u001b[38;5;167;01mException\u001b[39;00m:\n\u001b[0;32m   1327\u001b[0m     \u001b[38;5;28mself\u001b[39m\u001b[38;5;241m.\u001b[39mlog\u001b[38;5;241m.\u001b[39mwarning(\u001b[38;5;124m\"\u001b[39m\u001b[38;5;124mInvalid Message:\u001b[39m\u001b[38;5;124m\"\u001b[39m, exc_info\u001b[38;5;241m=\u001b[39m\u001b[38;5;28;01mTrue\u001b[39;00m)\n",
      "\u001b[1;31mKeyboardInterrupt\u001b[0m: Interrupted by user"
     ]
    }
   ],
   "source": [
    "# membuat labelling manual\n",
    "for index, row in df_content.iterrows():\n",
    "    print(f\"Review: {row['content']}\")\n",
    "    label = input(\"Masukkan label (Positive, Negative, Neutral)\")\n",
    "    df_content.at[index, 'label'] = label"
   ]
  },
  {
   "cell_type": "code",
   "execution_count": 13,
   "id": "2956325d-b463-4fa2-94a0-23e3ff7f5fde",
   "metadata": {},
   "outputs": [
    {
     "name": "stdout",
     "output_type": "stream",
     "text": [
      "Indeks terakhir yang dilabeli : 376\n"
     ]
    }
   ],
   "source": [
    "last_labeled_index = index\n",
    "\n",
    "print(f\"Indeks terakhir yang dilabeli : {last_labeled_index}\")"
   ]
  },
  {
   "cell_type": "code",
   "execution_count": 15,
   "id": "6d47bac7-c422-4873-906c-5035a6148785",
   "metadata": {},
   "outputs": [],
   "source": [
    "folder_path = 'dataset/'\n",
    "file_name = 'new_data_labeled_375.csv'\n",
    "full_path = folder_path + file_name\n",
    "\n",
    "df_content.to_csv(full_path, index=False)"
   ]
  },
  {
   "cell_type": "markdown",
   "id": "4a4c064f-9537-42b6-8428-3732801ff171",
   "metadata": {},
   "source": [
    "## Index Terakhir : 375 "
   ]
  },
  {
   "cell_type": "code",
   "execution_count": 12,
   "id": "c4f75aba-ae4c-4f9c-9663-f256388f14ae",
   "metadata": {},
   "outputs": [
    {
     "data": {
      "text/html": [
       "<div>\n",
       "<style scoped>\n",
       "    .dataframe tbody tr th:only-of-type {\n",
       "        vertical-align: middle;\n",
       "    }\n",
       "\n",
       "    .dataframe tbody tr th {\n",
       "        vertical-align: top;\n",
       "    }\n",
       "\n",
       "    .dataframe thead th {\n",
       "        text-align: right;\n",
       "    }\n",
       "</style>\n",
       "<table border=\"1\" class=\"dataframe\">\n",
       "  <thead>\n",
       "    <tr style=\"text-align: right;\">\n",
       "      <th></th>\n",
       "      <th>content</th>\n",
       "      <th>label</th>\n",
       "    </tr>\n",
       "  </thead>\n",
       "  <tbody>\n",
       "    <tr>\n",
       "      <th>0</th>\n",
       "      <td>Lemot banget ngirim kode OTP nya ajg</td>\n",
       "      <td>Negative</td>\n",
       "    </tr>\n",
       "    <tr>\n",
       "      <th>1</th>\n",
       "      <td>Daftar pajak email aktivasi sudah, ehh pas ner...</td>\n",
       "      <td>Negative</td>\n",
       "    </tr>\n",
       "    <tr>\n",
       "      <th>2</th>\n",
       "      <td>Pas Nunggu Kode OTP nya emng GK lama,TPI GK ta...</td>\n",
       "      <td>Negative</td>\n",
       "    </tr>\n",
       "    <tr>\n",
       "      <th>3</th>\n",
       "      <td>Sangat cocok untuk melihat pajak saya</td>\n",
       "      <td>Positive</td>\n",
       "    </tr>\n",
       "    <tr>\n",
       "      <th>4</th>\n",
       "      <td>ngabisin pulsa doang</td>\n",
       "      <td>Negative</td>\n",
       "    </tr>\n",
       "    <tr>\n",
       "      <th>...</th>\n",
       "      <td>...</td>\n",
       "      <td>...</td>\n",
       "    </tr>\n",
       "    <tr>\n",
       "      <th>372</th>\n",
       "      <td>Ini aplikasi tambah menyusahkan no otp ratusan...</td>\n",
       "      <td>Negative</td>\n",
       "    </tr>\n",
       "    <tr>\n",
       "      <th>373</th>\n",
       "      <td>Biasa, seperti aplikasi pemerintah pada umumny...</td>\n",
       "      <td>Negative</td>\n",
       "    </tr>\n",
       "    <tr>\n",
       "      <th>374</th>\n",
       "      <td>Kmrn bisa login, skrng gk bisa. Lapor ke kanto...</td>\n",
       "      <td>Negative</td>\n",
       "    </tr>\n",
       "    <tr>\n",
       "      <th>375</th>\n",
       "      <td>Aplikasi sampah.. Udahlah buat peraturan suka2...</td>\n",
       "      <td>Negative</td>\n",
       "    </tr>\n",
       "    <tr>\n",
       "      <th>376</th>\n",
       "      <td>Admin aplikasi lu parah banget</td>\n",
       "      <td>None</td>\n",
       "    </tr>\n",
       "  </tbody>\n",
       "</table>\n",
       "<p>377 rows × 2 columns</p>\n",
       "</div>"
      ],
      "text/plain": [
       "                                               content     label\n",
       "0                 Lemot banget ngirim kode OTP nya ajg  Negative\n",
       "1    Daftar pajak email aktivasi sudah, ehh pas ner...  Negative\n",
       "2    Pas Nunggu Kode OTP nya emng GK lama,TPI GK ta...  Negative\n",
       "3                Sangat cocok untuk melihat pajak saya  Positive\n",
       "4                                 ngabisin pulsa doang  Negative\n",
       "..                                                 ...       ...\n",
       "372  Ini aplikasi tambah menyusahkan no otp ratusan...  Negative\n",
       "373  Biasa, seperti aplikasi pemerintah pada umumny...  Negative\n",
       "374  Kmrn bisa login, skrng gk bisa. Lapor ke kanto...  Negative\n",
       "375  Aplikasi sampah.. Udahlah buat peraturan suka2...  Negative\n",
       "376                     Admin aplikasi lu parah banget      None\n",
       "\n",
       "[377 rows x 2 columns]"
      ]
     },
     "execution_count": 12,
     "metadata": {},
     "output_type": "execute_result"
    }
   ],
   "source": [
    "df_content.head(377)"
   ]
  },
  {
   "cell_type": "code",
   "execution_count": 73,
   "id": "0938a69f-4c76-4b28-b36b-819193e1fb76",
   "metadata": {},
   "outputs": [],
   "source": [
    "folder_path = 'dataset/'\n",
    "file_name = 'data_labeled_1717.csv'\n",
    "full_path = folder_path + file_name\n",
    "\n",
    "df_label.to_csv(full_path, index=False)"
   ]
  },
  {
   "cell_type": "markdown",
   "id": "65993ce4-a004-4cac-a230-e9fc6da05b91",
   "metadata": {},
   "source": [
    "#### Check point labelling index ke-375 (03 - 10 - 2024)\n",
    "\n",
    "#### Mulai labelling lagi from index 376"
   ]
  },
  {
   "cell_type": "code",
   "execution_count": 4,
   "id": "6977c8bb-f129-4643-b483-971904668fb1",
   "metadata": {},
   "outputs": [
    {
     "data": {
      "text/html": [
       "<div>\n",
       "<style scoped>\n",
       "    .dataframe tbody tr th:only-of-type {\n",
       "        vertical-align: middle;\n",
       "    }\n",
       "\n",
       "    .dataframe tbody tr th {\n",
       "        vertical-align: top;\n",
       "    }\n",
       "\n",
       "    .dataframe thead th {\n",
       "        text-align: right;\n",
       "    }\n",
       "</style>\n",
       "<table border=\"1\" class=\"dataframe\">\n",
       "  <thead>\n",
       "    <tr style=\"text-align: right;\">\n",
       "      <th></th>\n",
       "      <th>content</th>\n",
       "      <th>label</th>\n",
       "    </tr>\n",
       "  </thead>\n",
       "  <tbody>\n",
       "    <tr>\n",
       "      <th>0</th>\n",
       "      <td>Lemot banget ngirim kode OTP nya ajg</td>\n",
       "      <td>Negative</td>\n",
       "    </tr>\n",
       "    <tr>\n",
       "      <th>1</th>\n",
       "      <td>Daftar pajak email aktivasi sudah, ehh pas ner...</td>\n",
       "      <td>Negative</td>\n",
       "    </tr>\n",
       "    <tr>\n",
       "      <th>2</th>\n",
       "      <td>Pas Nunggu Kode OTP nya emng GK lama,TPI GK ta...</td>\n",
       "      <td>Negative</td>\n",
       "    </tr>\n",
       "    <tr>\n",
       "      <th>3</th>\n",
       "      <td>Sangat cocok untuk melihat pajak saya</td>\n",
       "      <td>Positive</td>\n",
       "    </tr>\n",
       "    <tr>\n",
       "      <th>4</th>\n",
       "      <td>ngabisin pulsa doang</td>\n",
       "      <td>Negative</td>\n",
       "    </tr>\n",
       "    <tr>\n",
       "      <th>...</th>\n",
       "      <td>...</td>\n",
       "      <td>...</td>\n",
       "    </tr>\n",
       "    <tr>\n",
       "      <th>372</th>\n",
       "      <td>Ini aplikasi tambah menyusahkan no otp ratusan...</td>\n",
       "      <td>Negative</td>\n",
       "    </tr>\n",
       "    <tr>\n",
       "      <th>373</th>\n",
       "      <td>Biasa, seperti aplikasi pemerintah pada umumny...</td>\n",
       "      <td>Negative</td>\n",
       "    </tr>\n",
       "    <tr>\n",
       "      <th>374</th>\n",
       "      <td>Kmrn bisa login, skrng gk bisa. Lapor ke kanto...</td>\n",
       "      <td>Negative</td>\n",
       "    </tr>\n",
       "    <tr>\n",
       "      <th>375</th>\n",
       "      <td>Aplikasi sampah.. Udahlah buat peraturan suka2...</td>\n",
       "      <td>Negative</td>\n",
       "    </tr>\n",
       "    <tr>\n",
       "      <th>376</th>\n",
       "      <td>Admin aplikasi lu parah banget</td>\n",
       "      <td>NaN</td>\n",
       "    </tr>\n",
       "  </tbody>\n",
       "</table>\n",
       "<p>377 rows × 2 columns</p>\n",
       "</div>"
      ],
      "text/plain": [
       "                                               content     label\n",
       "0                 Lemot banget ngirim kode OTP nya ajg  Negative\n",
       "1    Daftar pajak email aktivasi sudah, ehh pas ner...  Negative\n",
       "2    Pas Nunggu Kode OTP nya emng GK lama,TPI GK ta...  Negative\n",
       "3                Sangat cocok untuk melihat pajak saya  Positive\n",
       "4                                 ngabisin pulsa doang  Negative\n",
       "..                                                 ...       ...\n",
       "372  Ini aplikasi tambah menyusahkan no otp ratusan...  Negative\n",
       "373  Biasa, seperti aplikasi pemerintah pada umumny...  Negative\n",
       "374  Kmrn bisa login, skrng gk bisa. Lapor ke kanto...  Negative\n",
       "375  Aplikasi sampah.. Udahlah buat peraturan suka2...  Negative\n",
       "376                     Admin aplikasi lu parah banget       NaN\n",
       "\n",
       "[377 rows x 2 columns]"
      ]
     },
     "execution_count": 4,
     "metadata": {},
     "output_type": "execute_result"
    }
   ],
   "source": [
    "df = pd.read_csv('dataset/new_data_labeled_375.csv')\n",
    "df.head(377)"
   ]
  },
  {
   "cell_type": "code",
   "execution_count": 6,
   "id": "9f16bf74-48b3-4c8a-915c-18e523e4f755",
   "metadata": {},
   "outputs": [
    {
     "name": "stdout",
     "output_type": "stream",
     "text": [
      "Review: Admin aplikasi lu parah banget\n"
     ]
    },
    {
     "name": "stdin",
     "output_type": "stream",
     "text": [
      "Masukkan label (Positive, Negative, Neutral) Negative\n"
     ]
    },
    {
     "name": "stdout",
     "output_type": "stream",
     "text": [
      "Review: Sulit login padahal login di website nya bisa.\n"
     ]
    },
    {
     "name": "stdin",
     "output_type": "stream",
     "text": [
      "Masukkan label (Positive, Negative, Neutral) Negative\n"
     ]
    },
    {
     "name": "stdout",
     "output_type": "stream",
     "text": [
      "Review: Aplikasi g guna susah login!!\n"
     ]
    },
    {
     "name": "stdin",
     "output_type": "stream",
     "text": [
      "Masukkan label (Positive, Negative, Neutral) Negative\n"
     ]
    },
    {
     "name": "stdout",
     "output_type": "stream",
     "text": [
      "Review: Aplikasi ga jelas, fitur efin ga bekerja, fitir daftar pengguna juga ga bisa diakses.\n"
     ]
    },
    {
     "name": "stdin",
     "output_type": "stream",
     "text": [
      "Masukkan label (Positive, Negative, Neutral) Negative\n"
     ]
    },
    {
     "name": "stdout",
     "output_type": "stream",
     "text": [
      "Review: Mau daftar ko ga bisa mulu....\n"
     ]
    },
    {
     "name": "stdin",
     "output_type": "stream",
     "text": [
      "Masukkan label (Positive, Negative, Neutral) Negative\n"
     ]
    },
    {
     "name": "stdout",
     "output_type": "stream",
     "text": [
      "Review: sangat buruk ga berguna mending buang aja dari playstore\n"
     ]
    },
    {
     "name": "stdin",
     "output_type": "stream",
     "text": [
      "Masukkan label (Positive, Negative, Neutral) Negative\n"
     ]
    },
    {
     "name": "stdout",
     "output_type": "stream",
     "text": [
      "Review: Aplikasi SAMPAH!!!! ANJ bener bener bikin orang buang buang waktu, dimana mana orang pake apkikasi biar memudahkan ini malah bikin tambah susah, mau web mau aplikasi bener bener sampah, produk gagal, untuk daftar diminta kode efin, suruh donlot aplikasi udah di donlot daftar ini itu dan udah selesai seenaknya data error, suruh lagi ulang dari awal padahal udah bner semua, gini doang gk bisa! gimana mau maju Indonesia dasar apk sampah!\n"
     ]
    },
    {
     "name": "stdin",
     "output_type": "stream",
     "text": [
      "Masukkan label (Positive, Negative, Neutral) Negative\n"
     ]
    },
    {
     "name": "stdout",
     "output_type": "stream",
     "text": [
      "Review: Buruk lemot\n"
     ]
    },
    {
     "name": "stdin",
     "output_type": "stream",
     "text": [
      "Masukkan label (Positive, Negative, Neutral) Negative\n"
     ]
    },
    {
     "name": "stdout",
     "output_type": "stream",
     "text": [
      "Review: Aplikasi sampah ga guna\n"
     ]
    },
    {
     "name": "stdin",
     "output_type": "stream",
     "text": [
      "Masukkan label (Positive, Negative, Neutral) Negative\n"
     ]
    },
    {
     "name": "stdout",
     "output_type": "stream",
     "text": [
      "Review: Lupa pasword aja dipersulit, serius gak sih bikin aplikasi. Malah nyusahin masyarakat\n"
     ]
    },
    {
     "name": "stdin",
     "output_type": "stream",
     "text": [
      "Masukkan label (Positive, Negative, Neutral) Negative\n"
     ]
    },
    {
     "name": "stdout",
     "output_type": "stream",
     "text": [
      "Review: Kenapa wajib pajak yg harus memadankan nik sendiri, padahal datanya sdh ada waktu daftar. Payah banget\n"
     ]
    },
    {
     "name": "stdin",
     "output_type": "stream",
     "text": [
      "Masukkan label (Positive, Negative, Neutral) Negative\n"
     ]
    },
    {
     "name": "stdout",
     "output_type": "stream",
     "text": [
      "Review: Ribet, mau bayar pajak aja ribet, apalagi minta duit. pengajuan efin gagal.\n"
     ]
    },
    {
     "name": "stdin",
     "output_type": "stream",
     "text": [
      "Masukkan label (Positive, Negative, Neutral) Negative\n"
     ]
    },
    {
     "name": "stdout",
     "output_type": "stream",
     "text": [
      "Review: Udah habisin dana banyak ini hasil nya? Wkakakakak lawak\n"
     ]
    },
    {
     "name": "stdin",
     "output_type": "stream",
     "text": [
      "Masukkan label (Positive, Negative, Neutral) Negative\n"
     ]
    },
    {
     "name": "stdout",
     "output_type": "stream",
     "text": [
      "Review: Ini aplikasi apa sih ini, ga ada solusi dan kemudahan sama sekali. Ntar di bilang kita yang berbelit belit.\n"
     ]
    },
    {
     "name": "stdin",
     "output_type": "stream",
     "text": [
      "Masukkan label (Positive, Negative, Neutral) Negative\n"
     ]
    },
    {
     "name": "stdout",
     "output_type": "stream",
     "text": [
      "Review: Susah login, tolong di perbaiki\n"
     ]
    },
    {
     "name": "stdin",
     "output_type": "stream",
     "text": [
      "Masukkan label (Positive, Negative, Neutral) Negative\n"
     ]
    },
    {
     "name": "stdout",
     "output_type": "stream",
     "text": [
      "Review: Sangat membantu saya dalam laporan tahunan\n"
     ]
    },
    {
     "name": "stdin",
     "output_type": "stream",
     "text": [
      "Masukkan label (Positive, Negative, Neutral) Positive\n"
     ]
    },
    {
     "name": "stdout",
     "output_type": "stream",
     "text": [
      "Review: bapak/ibu terhormat ini aplikasi gabisa login wei?\n"
     ]
    },
    {
     "name": "stdin",
     "output_type": "stream",
     "text": [
      "Masukkan label (Positive, Negative, Neutral) Negative\n"
     ]
    },
    {
     "name": "stdout",
     "output_type": "stream",
     "text": [
      "Review: Aplikasi lemott, customer service cuma ada bot doang lagi. App pemerintah gada yg beress, apa anggaranya dikorupsi?\n"
     ]
    },
    {
     "name": "stdin",
     "output_type": "stream",
     "text": [
      "Masukkan label (Positive, Negative, Neutral) Negative\n"
     ]
    },
    {
     "name": "stdout",
     "output_type": "stream",
     "text": [
      "Review: tidak bisa di gunakan\n"
     ]
    },
    {
     "name": "stdin",
     "output_type": "stream",
     "text": [
      "Masukkan label (Positive, Negative, Neutral) Negative\n"
     ]
    },
    {
     "name": "stdout",
     "output_type": "stream",
     "text": [
      "Review: yaa biasalah si paling nyari selisih, ngebuat aplikasi... ya isinya orang muak semua\n"
     ]
    },
    {
     "name": "stdin",
     "output_type": "stream",
     "text": [
      "Masukkan label (Positive, Negative, Neutral) Negative\n"
     ]
    },
    {
     "name": "stdout",
     "output_type": "stream",
     "text": [
      "Review: aplikasinya super eror\n"
     ]
    },
    {
     "name": "stdin",
     "output_type": "stream",
     "text": [
      "Masukkan label (Positive, Negative, Neutral) Negative\n"
     ]
    },
    {
     "name": "stdout",
     "output_type": "stream",
     "text": [
      "Review: SAMPAH! Udah webnya gak fungsi. Mau login saja susah. Kolom username gak bisa diisi. Begitu bisa diisi salah mulu padahal username & password udah benar&tersimpan otomatis di chrome. Disuruh memadankan nik&npwp. Login aja gak bisa. Abis download aplikasi malah suruh update. Kenapa gak sekalian yg didownload versi terbaru? Muter² doang! Dirjen pajak tugasnya ngapain sih selain malak? Bikin web/apk nyusahin gak fungsi. Ini di web ada kolom kritik saran aja tombol kirimnya gak bisa??? Anti kritik!\n"
     ]
    },
    {
     "name": "stdin",
     "output_type": "stream",
     "text": [
      "Masukkan label (Positive, Negative, Neutral) Negative\n"
     ]
    },
    {
     "name": "stdout",
     "output_type": "stream",
     "text": [
      "Review: Bukannya mempermudah malah mempersulit\n"
     ]
    },
    {
     "name": "stdin",
     "output_type": "stream",
     "text": [
      "Masukkan label (Positive, Negative, Neutral) Negative\n"
     ]
    },
    {
     "name": "stdout",
     "output_type": "stream",
     "text": [
      "Review: Aplikasi kurang bermutu. Mau lapor pajak aja susah.\n"
     ]
    },
    {
     "name": "stdin",
     "output_type": "stream",
     "text": [
      "Masukkan label (Positive, Negative, Neutral) Negative\n"
     ]
    },
    {
     "name": "stdout",
     "output_type": "stream",
     "text": [
      "Review: Aplikasi gak jelas banget, udah daftar via web trus mau login d aplikasi gak bisa, salah semua padahal baru buat gak mungkin ada yang salah\n"
     ]
    },
    {
     "name": "stdin",
     "output_type": "stream",
     "text": [
      "Masukkan label (Positive, Negative, Neutral) Negative\n"
     ]
    },
    {
     "name": "stdout",
     "output_type": "stream",
     "text": [
      "Review: Mau bayar pajak aja ribet ini......!\n"
     ]
    },
    {
     "name": "stdin",
     "output_type": "stream",
     "text": [
      "Masukkan label (Positive, Negative, Neutral) Negative\n"
     ]
    },
    {
     "name": "stdout",
     "output_type": "stream",
     "text": [
      "Review: Sangat baik.\n"
     ]
    },
    {
     "name": "stdin",
     "output_type": "stream",
     "text": [
      "Masukkan label (Positive, Negative, Neutral) Positive\n"
     ]
    },
    {
     "name": "stdout",
     "output_type": "stream",
     "text": [
      "Review: Sangat membantu\n"
     ]
    },
    {
     "name": "stdin",
     "output_type": "stream",
     "text": [
      "Masukkan label (Positive, Negative, Neutral) Positive\n"
     ]
    },
    {
     "name": "stdout",
     "output_type": "stream",
     "text": [
      "Review: Ribet ah mau daftar saja mesti ini itu tidak dibuat simpel\n"
     ]
    },
    {
     "name": "stdin",
     "output_type": "stream",
     "text": [
      "Masukkan label (Positive, Negative, Neutral) Negative\n"
     ]
    },
    {
     "name": "stdout",
     "output_type": "stream",
     "text": [
      "Review: bolak balik mau pasfoto keluar sendiri trus ini sebenernya aplikasi mau mempermudah atau mempersulit hadeh. ktanya bisa online mau minta efin ajah susahnya minta maaf, harus datang langsung lh ini itulah bukanya semakin mudah mlh semakin syulit\n"
     ]
    },
    {
     "name": "stdin",
     "output_type": "stream",
     "text": [
      "Masukkan label (Positive, Negative, Neutral) Negative\n"
     ]
    },
    {
     "name": "stdout",
     "output_type": "stream",
     "text": [
      "Review: App sekelas punya pemerintah cuma bikin emosi penggunanya, error ,ga jelas, apa indonesia kekurangan orang pintar untuk bikin app yg bagus?\n"
     ]
    },
    {
     "name": "stdin",
     "output_type": "stream",
     "text": [
      "Masukkan label (Positive, Negative, Neutral) Negative\n"
     ]
    },
    {
     "name": "stdout",
     "output_type": "stream",
     "text": [
      "Review: Aplikasi menyukitkan tidak berguna,emding tidak usah pajak sekalian\n"
     ]
    },
    {
     "name": "stdin",
     "output_type": "stream",
     "text": [
      "Masukkan label (Positive, Negative, Neutral) Negative\n"
     ]
    },
    {
     "name": "stdout",
     "output_type": "stream",
     "text": [
      "Review: Saya sudah download dan sudah dihapus lagi, gblk\n"
     ]
    },
    {
     "name": "stdin",
     "output_type": "stream",
     "text": [
      "Masukkan label (Positive, Negative, Neutral) Negative\n"
     ]
    },
    {
     "name": "stdout",
     "output_type": "stream",
     "text": [
      "Review: Bikin malu ini aplikasi\n"
     ]
    },
    {
     "name": "stdin",
     "output_type": "stream",
     "text": [
      "Masukkan label (Positive, Negative, Neutral) Negative\n"
     ]
    },
    {
     "name": "stdout",
     "output_type": "stream",
     "text": [
      "Review: mohon segera di update min , karena aplikasi nya eror mulu mau login selalu eror , padahal data sudah benar.\n"
     ]
    },
    {
     "name": "stdin",
     "output_type": "stream",
     "text": [
      "Masukkan label (Positive, Negative, Neutral) Negative\n"
     ]
    },
    {
     "name": "stdout",
     "output_type": "stream",
     "text": [
      "Review: Bagus dan sangat membantu\n"
     ]
    },
    {
     "name": "stdin",
     "output_type": "stream",
     "text": [
      "Masukkan label (Positive, Negative, Neutral) Positive\n"
     ]
    },
    {
     "name": "stdout",
     "output_type": "stream",
     "text": [
      "Review: Aplikasi apaan ini, cape cape isi data, ujung ujungnya eror,kalau bikin aplikasi yang niat bos, kalau gini ma ga usah bayar pajak nyusahin, ribet\n"
     ]
    },
    {
     "name": "stdin",
     "output_type": "stream",
     "text": [
      "Masukkan label (Positive, Negative, Neutral) Negative\n"
     ]
    },
    {
     "name": "stdout",
     "output_type": "stream",
     "text": [
      "Review: Aplikasi gk guna mau daftar aja ribet amat\n"
     ]
    },
    {
     "name": "stdin",
     "output_type": "stream",
     "text": [
      "Masukkan label (Positive, Negative, Neutral) Negative\n"
     ]
    },
    {
     "name": "stdout",
     "output_type": "stream",
     "text": [
      "Review: Sampah\n"
     ]
    },
    {
     "name": "stdin",
     "output_type": "stream",
     "text": [
      "Masukkan label (Positive, Negative, Neutral) Negative\n"
     ]
    },
    {
     "name": "stdout",
     "output_type": "stream",
     "text": [
      "Review: Mengapa saat kita mengisi form untuk alamat email hilang terus dan huruf menjadi besar\n"
     ]
    },
    {
     "name": "stdin",
     "output_type": "stream",
     "text": [
      "Masukkan label (Positive, Negative, Neutral) Negative\n"
     ]
    },
    {
     "name": "stdout",
     "output_type": "stream",
     "text": [
      "Review: Setiap mau masukin data untuk mengambil efin selalu keluar aplikasinya. Percuma di install.\n"
     ]
    },
    {
     "name": "stdin",
     "output_type": "stream",
     "text": [
      "Masukkan label (Positive, Negative, Neutral) Negative\n"
     ]
    },
    {
     "name": "stdout",
     "output_type": "stream",
     "text": [
      "Review: Disiplin membayar pajak cermin budaya bangsa yang hebat\n"
     ]
    },
    {
     "name": "stdin",
     "output_type": "stream",
     "text": [
      "Masukkan label (Positive, Negative, Neutral) Positive\n"
     ]
    },
    {
     "name": "stdout",
     "output_type": "stream",
     "text": [
      "Review: Akalau ngak bagia hapus lagi bos\n"
     ]
    },
    {
     "name": "stdin",
     "output_type": "stream",
     "text": [
      "Masukkan label (Positive, Negative, Neutral) Negative\n"
     ]
    },
    {
     "name": "stdout",
     "output_type": "stream",
     "text": [
      "Review: Apk ghoblokk\n"
     ]
    },
    {
     "name": "stdin",
     "output_type": "stream",
     "text": [
      "Masukkan label (Positive, Negative, Neutral) Negative\n"
     ]
    },
    {
     "name": "stdout",
     "output_type": "stream",
     "text": [
      "Review: aplikasinya hanya merepotkan, org djb gaji sudah selangit tapi pelayanannya buruk, aplikasi yg harusnya mempermudah malah berbelit belit...\n"
     ]
    },
    {
     "name": "stdin",
     "output_type": "stream",
     "text": [
      "Masukkan label (Positive, Negative, Neutral) Negative\n"
     ]
    },
    {
     "name": "stdout",
     "output_type": "stream",
     "text": [
      "Review: Mau masuk apk nya aja susah banget mental mental pie iki nyusah ke\n"
     ]
    },
    {
     "name": "stdin",
     "output_type": "stream",
     "text": [
      "Masukkan label (Positive, Negative, Neutral) Negative\n"
     ]
    },
    {
     "name": "stdout",
     "output_type": "stream",
     "text": [
      "Review: Aplikasi Tolollll. Masukin Chapta Udh bener katanya salahhh.\n"
     ]
    },
    {
     "name": "stdin",
     "output_type": "stream",
     "text": [
      "Masukkan label (Positive, Negative, Neutral) Negative\n"
     ]
    },
    {
     "name": "stdout",
     "output_type": "stream",
     "text": [
      "Review: nggak ngerti bgt\n"
     ]
    },
    {
     "name": "stdin",
     "output_type": "stream",
     "text": [
      "Masukkan label (Positive, Negative, Neutral) Negative\n"
     ]
    },
    {
     "name": "stdout",
     "output_type": "stream",
     "text": [
      "Review: Mau bikin nomor efin gagal terus :(\n"
     ]
    },
    {
     "name": "stdin",
     "output_type": "stream",
     "text": [
      "Masukkan label (Positive, Negative, Neutral) Negative\n"
     ]
    },
    {
     "name": "stdout",
     "output_type": "stream",
     "text": [
      "Review: Mentok d tahap ke 2 terus mau di apain ya ga bisa,emang lawak negara konoha pajak aza d persulit.lawakkkkkkk\n"
     ]
    },
    {
     "name": "stdin",
     "output_type": "stream",
     "text": [
      "Masukkan label (Positive, Negative, Neutral) Negative\n"
     ]
    },
    {
     "name": "stdout",
     "output_type": "stream",
     "text": [
      "Review: Aplikasi eror npwp dan sandi sdh betul pun ttp tidak bisa log in....perbaiki lagi coba .jangan kecewakan orang,!!!\n"
     ]
    },
    {
     "name": "stdin",
     "output_type": "stream",
     "text": [
      "Masukkan label (Positive, Negative, Neutral) Negative\n"
     ]
    },
    {
     "name": "stdout",
     "output_type": "stream",
     "text": [
      "Review: Jangan di download, percuma buang² waktu buang² kuota, aplikasi ga jelas, live chatnya juga ga jalan, padahal mau urus² buat npwp16\n"
     ]
    },
    {
     "name": "stdin",
     "output_type": "stream",
     "text": [
      "Masukkan label (Positive, Negative, Neutral) Negative\n"
     ]
    },
    {
     "name": "stdout",
     "output_type": "stream",
     "text": [
      "Review: Good apk\n"
     ]
    },
    {
     "name": "stdin",
     "output_type": "stream",
     "text": [
      "Masukkan label (Positive, Negative, Neutral) Positive\n"
     ]
    },
    {
     "name": "stdout",
     "output_type": "stream",
     "text": [
      "Review: Masih di uji coba\n"
     ]
    },
    {
     "name": "stdin",
     "output_type": "stream",
     "text": [
      "Masukkan label (Positive, Negative, Neutral) Neutral\n"
     ]
    },
    {
     "name": "stdout",
     "output_type": "stream",
     "text": [
      "Review: Aplikasi bikin nga liyer keun daftar langkah ke 2 susah msukan kode otp blik lg blik lg malah plz habis daftar gak bisa bisa\n"
     ]
    },
    {
     "name": "stdin",
     "output_type": "stream",
     "text": [
      "Masukkan label (Positive, Negative, Neutral) Negative\n"
     ]
    },
    {
     "name": "stdout",
     "output_type": "stream",
     "text": [
      "Review: Ok thanks\n"
     ]
    },
    {
     "name": "stdin",
     "output_type": "stream",
     "text": [
      "Masukkan label (Positive, Negative, Neutral) Positive\n"
     ]
    },
    {
     "name": "stdout",
     "output_type": "stream",
     "text": [
      "Review: Aplikasi Apaan, orangmau daftar aja payah. apalagi login. ya gini kebanyakan makan duit...\n"
     ]
    },
    {
     "name": "stdin",
     "output_type": "stream",
     "text": [
      "Masukkan label (Positive, Negative, Neutral) Negative\n"
     ]
    },
    {
     "name": "stdout",
     "output_type": "stream",
     "text": [
      "Review: daftar untuk log susah banget, apa harus ke kantor cabang terdekat\n"
     ]
    },
    {
     "name": "stdin",
     "output_type": "stream",
     "text": [
      "Masukkan label (Positive, Negative, Neutral) Negative\n"
     ]
    },
    {
     "name": "stdout",
     "output_type": "stream",
     "text": [
      "Review: M-pajak sangat bgus aplikasinya TDK rumit\n"
     ]
    },
    {
     "name": "stdin",
     "output_type": "stream",
     "text": [
      "Masukkan label (Positive, Negative, Neutral) Positive\n"
     ]
    },
    {
     "name": "stdout",
     "output_type": "stream",
     "text": [
      "Review: Dari aplikasi ini kita tahu bahwa membayar pajak itu tidak semudah mengkorupsi uang rakyat\n"
     ]
    },
    {
     "name": "stdin",
     "output_type": "stream",
     "text": [
      "Masukkan label (Positive, Negative, Neutral) Negative\n"
     ]
    },
    {
     "name": "stdout",
     "output_type": "stream",
     "text": [
      "Review: coba buka aplikasi games Pow .. rating lebih tinggi 4.4 / zuma .. uwow ..\n"
     ]
    },
    {
     "name": "stdin",
     "output_type": "stream",
     "text": [
      "Masukkan label (Positive, Negative, Neutral) Neutral\n"
     ]
    },
    {
     "name": "stdout",
     "output_type": "stream",
     "text": [
      "Review: aplikasi kaga guna\n"
     ]
    },
    {
     "name": "stdin",
     "output_type": "stream",
     "text": [
      "Masukkan label (Positive, Negative, Neutral) Negative\n"
     ]
    },
    {
     "name": "stdout",
     "output_type": "stream",
     "text": [
      "Review: Gak guna ribet dan payah yang sangat konyol, verifikasi data aja gagal terus\n"
     ]
    },
    {
     "name": "stdin",
     "output_type": "stream",
     "text": [
      "Masukkan label (Positive, Negative, Neutral) Negative\n"
     ]
    },
    {
     "name": "stdout",
     "output_type": "stream",
     "text": [
      "Review: apk lemot klok developer ga niat bikin sklian ga ush bikin ruggi gw donload\n"
     ]
    },
    {
     "name": "stdin",
     "output_type": "stream",
     "text": [
      "Masukkan label (Positive, Negative, Neutral) Negative\n"
     ]
    },
    {
     "name": "stdout",
     "output_type": "stream",
     "text": [
      "Review: Begini kalo aplikasi hanya buat proyek pendapatan, birokrasinya rumit, ribet, pelayanan, tidak mudah dimengerti masyarakatnya, buat login aja susah\n"
     ]
    },
    {
     "name": "stdin",
     "output_type": "stream",
     "text": [
      "Masukkan label (Positive, Negative, Neutral) Negative\n"
     ]
    },
    {
     "name": "stdout",
     "output_type": "stream",
     "text": [
      "Review: Apk lawak!! Ujung-ujungnya lapor spt lewat website juga, trus ni apk buat apa ajg\n"
     ]
    },
    {
     "name": "stdin",
     "output_type": "stream",
     "text": [
      "Masukkan label (Positive, Negative, Neutral) Negative\n"
     ]
    },
    {
     "name": "stdout",
     "output_type": "stream",
     "text": [
      "Review: *pastikan email anda adalah email yang selalu anda gunakan* ku masukin email ku*email yg anda gunakan sudah pernah terdaftar*. Kapan aku daftarnya? Pas di coba pake email lama ku berhasil masuk sampe tahap 3. LAMA BANGET! Di tungguin entah berapa jam, malah balik lagi ke awal. Dan sekarang gak bisa masuk!\n"
     ]
    },
    {
     "name": "stdin",
     "output_type": "stream",
     "text": [
      "Masukkan label (Positive, Negative, Neutral) Negative\n"
     ]
    },
    {
     "name": "stdout",
     "output_type": "stream",
     "text": [
      "Review: Apasi... Gk bisa login effin udh bener juga\n"
     ]
    },
    {
     "name": "stdin",
     "output_type": "stream",
     "text": [
      "Masukkan label (Positive, Negative, Neutral) Negative\n"
     ]
    },
    {
     "name": "stdout",
     "output_type": "stream",
     "text": [
      "Review: Sering restart gak bis masuk ke akun yang sudah ada\n"
     ]
    },
    {
     "name": "stdin",
     "output_type": "stream",
     "text": [
      "Masukkan label (Positive, Negative, Neutral) Negative\n"
     ]
    },
    {
     "name": "stdout",
     "output_type": "stream",
     "text": [
      "Review: Saya sudah pakai 2 akun tapi tidak bisa daftar\n"
     ]
    },
    {
     "name": "stdin",
     "output_type": "stream",
     "text": [
      "Masukkan label (Positive, Negative, Neutral) Negative\n"
     ]
    },
    {
     "name": "stdout",
     "output_type": "stream",
     "text": [
      "Review: Mantap\n"
     ]
    },
    {
     "name": "stdin",
     "output_type": "stream",
     "text": [
      "Masukkan label (Positive, Negative, Neutral) Positive\n"
     ]
    },
    {
     "name": "stdout",
     "output_type": "stream",
     "text": [
      "Review: Pelayanan Payah . gw udah selese daftar NPWP tahap dua dan dan setelah itu ada notif chack Link aktifasi di email tapi pesannya gk muncul2 di email. kan T...\n"
     ]
    },
    {
     "name": "stdin",
     "output_type": "stream",
     "text": [
      "Masukkan label (Positive, Negative, Neutral) Negative\n"
     ]
    },
    {
     "name": "stdout",
     "output_type": "stream",
     "text": [
      "Review: Sekelas Kantor pajak buat website dan aplikasi kalah dengan kominfo dan website seperti Prakerja yang mudah diakses!!!Ini tuh mau daftar Npwp dah via email nunggu gak diproses,masyarakat dipersulit bayar pajak suruh rutin, Memang terbaik\n"
     ]
    },
    {
     "name": "stdin",
     "output_type": "stream",
     "text": [
      "Masukkan label (Positive, Negative, Neutral) Negative\n"
     ]
    },
    {
     "name": "stdout",
     "output_type": "stream",
     "text": [
      "Review: Apk gak guna websitenya pun sama. Lebih baik ke kantor pajak nya aja kalo bikin npwp emang sampah gak guna buat nonton bokep aja tuh Situs web\n"
     ]
    },
    {
     "name": "stdin",
     "output_type": "stream",
     "text": [
      "Masukkan label (Positive, Negative, Neutral) Negative\n"
     ]
    },
    {
     "name": "stdout",
     "output_type": "stream",
     "text": [
      "Review: Percuma ada aplikasi ujung-ujungnya disuruh ke kantor pajak juga. Payahh\n"
     ]
    },
    {
     "name": "stdin",
     "output_type": "stream",
     "text": [
      "Masukkan label (Positive, Negative, Neutral) Negative\n"
     ]
    },
    {
     "name": "stdout",
     "output_type": "stream",
     "text": [
      "Review: Aplikasi belum bisa di gunakan, untuk daftar data salah terus. Aplikasi belum sepenuhnya berhasil jangan di luncurkan min\n"
     ]
    },
    {
     "name": "stdin",
     "output_type": "stream",
     "text": [
      "Masukkan label (Positive, Negative, Neutral) Negative\n"
     ]
    },
    {
     "name": "stdout",
     "output_type": "stream",
     "text": [
      "Review: aplikasi tidak berguna sebelumnya sudah mendaftar tidak ada email balasan mencoba mendaftar lagi kartu provider harus axis menyusahkan orang aja kalau ga bisa buat aplikasi mending tidak usah\n"
     ]
    },
    {
     "name": "stdin",
     "output_type": "stream",
     "text": [
      "Masukkan label (Positive, Negative, Neutral) Negative\n"
     ]
    },
    {
     "name": "stdout",
     "output_type": "stream",
     "text": [
      "Review: Buset dah...\n"
     ]
    },
    {
     "name": "stdin",
     "output_type": "stream",
     "text": [
      "Masukkan label (Positive, Negative, Neutral) Neutral\n"
     ]
    },
    {
     "name": "stdout",
     "output_type": "stream",
     "text": [
      "Review: Sgat bantu\n"
     ]
    },
    {
     "name": "stdin",
     "output_type": "stream",
     "text": [
      "Masukkan label (Positive, Negative, Neutral) Positive\n"
     ]
    },
    {
     "name": "stdout",
     "output_type": "stream",
     "text": [
      "Review: ga jelas aplikasinya, data data udah benar gabisa login mau aktivasi butuh EFIN, mau dapetin EFIN disuruh login, gajelas banget ini web sama apknya, anggaran banyak buat apa?????\n"
     ]
    },
    {
     "name": "stdin",
     "output_type": "stream",
     "text": [
      "Masukkan label (Positive, Negative, Neutral) Negative\n"
     ]
    },
    {
     "name": "stdout",
     "output_type": "stream",
     "text": [
      "Review: website buruk,aplikasi buruk 👎\n"
     ]
    },
    {
     "name": "stdin",
     "output_type": "stream",
     "text": [
      "Masukkan label (Positive, Negative, Neutral) Negative\n"
     ]
    },
    {
     "name": "stdout",
     "output_type": "stream",
     "text": [
      "Review: Payah\n"
     ]
    },
    {
     "name": "stdin",
     "output_type": "stream",
     "text": [
      "Masukkan label (Positive, Negative, Neutral) Negative\n"
     ]
    },
    {
     "name": "stdout",
     "output_type": "stream",
     "text": [
      "Review: Aplikasi gajelas, semua dibuat ribet dan susah.\n"
     ]
    },
    {
     "name": "stdin",
     "output_type": "stream",
     "text": [
      "Masukkan label (Positive, Negative, Neutral) Negative\n"
     ]
    },
    {
     "name": "stdout",
     "output_type": "stream",
     "text": [
      "Review: mantap\n"
     ]
    },
    {
     "name": "stdin",
     "output_type": "stream",
     "text": [
      "Masukkan label (Positive, Negative, Neutral) Positive\n"
     ]
    },
    {
     "name": "stdout",
     "output_type": "stream",
     "text": [
      "Review: Aplikasi gak jelas gak respon ketika dibuka\n"
     ]
    },
    {
     "name": "stdin",
     "output_type": "stream",
     "text": [
      "Masukkan label (Positive, Negative, Neutral) Negative\n"
     ]
    },
    {
     "name": "stdout",
     "output_type": "stream",
     "text": [
      "Review: Payah aplikasi nya gagal terus mau minta kode efin aja\n"
     ]
    },
    {
     "name": "stdin",
     "output_type": "stream",
     "text": [
      "Masukkan label (Positive, Negative, Neutral) Negative\n"
     ]
    },
    {
     "name": "stdout",
     "output_type": "stream",
     "text": [
      "Review: Elek tenan. cuma menghabiskan pulsa,gak masuk-masuk\n"
     ]
    },
    {
     "name": "stdin",
     "output_type": "stream",
     "text": [
      "Masukkan label (Positive, Negative, Neutral) Negative\n"
     ]
    },
    {
     "name": "stdout",
     "output_type": "stream",
     "text": [
      "Review: Web payah.. kebanyakan d korupsi pasti uang pajaknyaa.. jadi gak pernah ada perbaikan d websitenya.. karena uangnya buat BO Lucunya negeriku.. cuman bisa ngasih kebijakan tanpa solusi sama sekali.. pemerintah itu yg mempersulit dan mempermiskin masyarakatnya sendiri\n"
     ]
    },
    {
     "name": "stdin",
     "output_type": "stream",
     "text": [
      "Masukkan label (Positive, Negative, Neutral) Negative\n"
     ]
    },
    {
     "name": "stdout",
     "output_type": "stream",
     "text": [
      "Review: Aplikasi Lolot, orang baru berhasil ndaftar malah keblokir. Blok!!!\n"
     ]
    },
    {
     "name": "stdin",
     "output_type": "stream",
     "text": [
      "Masukkan label (Positive, Negative, Neutral) Negative\n"
     ]
    },
    {
     "name": "stdout",
     "output_type": "stream",
     "text": [
      "Review: Gila wajib lapor pajak dan bayar pajak aplikasi sekelas pemerintah kok jelek forclose2 gak bisa dibuka buang2 duit bikin aplikasi abal2\n"
     ]
    },
    {
     "name": "stdin",
     "output_type": "stream",
     "text": [
      "Masukkan label (Positive, Negative, Neutral) Negative\n"
     ]
    },
    {
     "name": "stdout",
     "output_type": "stream",
     "text": [
      "Review: aplikasi insitusi kelas negara tapi peforma aplikasi scam. kerja bagus!!\n"
     ]
    },
    {
     "name": "stdin",
     "output_type": "stream",
     "text": [
      "Masukkan label (Positive, Negative, Neutral) Negative\n"
     ]
    },
    {
     "name": "stdout",
     "output_type": "stream",
     "text": [
      "Review: Sangat buruk selalu diulang terus, kesalahan dalam penulisan kelurahan dan kota terus menerus.dari pada pusing goodby\n"
     ]
    },
    {
     "name": "stdin",
     "output_type": "stream",
     "text": [
      "Masukkan label (Positive, Negative, Neutral) Negative\n"
     ]
    },
    {
     "name": "stdout",
     "output_type": "stream",
     "text": [
      "Review: Ter buruk\n"
     ]
    },
    {
     "name": "stdin",
     "output_type": "stream",
     "text": [
      "Masukkan label (Positive, Negative, Neutral) Negative\n"
     ]
    },
    {
     "name": "stdout",
     "output_type": "stream",
     "text": [
      "Review: Kecewa sih kenapa kalau di buat online tapi harus ke kpp kabupaten juga. Hmm\n"
     ]
    },
    {
     "name": "stdin",
     "output_type": "stream",
     "text": [
      "Masukkan label (Positive, Negative, Neutral) Negative\n"
     ]
    },
    {
     "name": "stdout",
     "output_type": "stream",
     "text": [
      "Review: Ok dl aja\n"
     ]
    },
    {
     "name": "stdin",
     "output_type": "stream",
     "text": [
      "Masukkan label (Positive, Negative, Neutral) Positive\n"
     ]
    },
    {
     "name": "stdout",
     "output_type": "stream",
     "text": [
      "Review: Mantap\n"
     ]
    },
    {
     "name": "stdin",
     "output_type": "stream",
     "text": [
      "Masukkan label (Positive, Negative, Neutral) Positive\n"
     ]
    },
    {
     "name": "stdout",
     "output_type": "stream",
     "text": [
      "Review: Codingan eror parah , udah sesuai nik masih aja di bilang salah ,\n"
     ]
    },
    {
     "name": "stdin",
     "output_type": "stream",
     "text": [
      "Masukkan label (Positive, Negative, Neutral) Negative\n"
     ]
    },
    {
     "name": "stdout",
     "output_type": "stream",
     "text": [
      "Review: Tolong Aplikasi diperbaiki lagi, ini sudah tahun 2024 semua serba modern harusnya diupgrade lebih baik agar tidak macet dan lag, Aplikasi fungsi seharusnya untuk mempermudah bukan untuk mempersulit\n"
     ]
    },
    {
     "name": "stdin",
     "output_type": "stream",
     "text": [
      "Masukkan label (Positive, Negative, Neutral) Negative\n"
     ]
    },
    {
     "name": "stdout",
     "output_type": "stream",
     "text": [
      "Review: Saya mencoba mendaftar NPWP tapi request otp tidak ada dikirim\n"
     ]
    },
    {
     "name": "stdin",
     "output_type": "stream",
     "text": [
      "Masukkan label (Positive, Negative, Neutral) Negative\n"
     ]
    },
    {
     "name": "stdout",
     "output_type": "stream",
     "text": [
      "Review: Semoga selalu membantu kami\n"
     ]
    },
    {
     "name": "stdin",
     "output_type": "stream",
     "text": [
      "Masukkan label (Positive, Negative, Neutral) Positive\n"
     ]
    },
    {
     "name": "stdout",
     "output_type": "stream",
     "text": [
      "Review: Aplikasi payah otp aja ngga di kirim kirim\n"
     ]
    },
    {
     "name": "stdin",
     "output_type": "stream",
     "text": [
      "Masukkan label (Positive, Negative, Neutral) Negative\n"
     ]
    },
    {
     "name": "stdout",
     "output_type": "stream",
     "text": [
      "Review: Ok\n"
     ]
    },
    {
     "name": "stdin",
     "output_type": "stream",
     "text": [
      "Masukkan label (Positive, Negative, Neutral) Positive\n"
     ]
    },
    {
     "name": "stdout",
     "output_type": "stream",
     "text": [
      "Review: Masa ga bisa daftar kocak\n"
     ]
    },
    {
     "name": "stdin",
     "output_type": "stream",
     "text": [
      "Masukkan label (Positive, Negative, Neutral) Negative\n"
     ]
    },
    {
     "name": "stdout",
     "output_type": "stream",
     "text": [
      "Review: Saya lupa password, klik lupa password ga bisa bisa, kaya ga aktif gitu...sampe di hapus instal ulang, tetep ga bisa\n"
     ]
    },
    {
     "name": "stdin",
     "output_type": "stream",
     "text": [
      "Masukkan label (Positive, Negative, Neutral) Negative\n"
     ]
    },
    {
     "name": "stdout",
     "output_type": "stream",
     "text": [
      "Review: Gue ulang berkali kali tutorial masih aja eror gak guna emang ini apk dan situsnya pada eror gak niat bantu masyarakat, miris sekali dinegeri wakanda ini ,situs pemerintah pada down tapi situs slot aman2 aja tuh lancar jaya😂\n"
     ]
    },
    {
     "name": "stdin",
     "output_type": "stream",
     "text": [
      "Masukkan label (Positive, Negative, Neutral) Negative\n"
     ]
    },
    {
     "name": "stdout",
     "output_type": "stream",
     "text": [
      "Review: Orang mau nyari NPWP dan cuma tanya nomer EFIN aja susahnya minta ampun, cuma mau bayar pajak aja di persulit. Ndeso bgt sistemnya sumpah!!! Serba online tp di suruh datang ke KKP, Saya yakin birokrasi di KKP pasti lama bgt. Gitu gaji org pajak tinggi tinggi banget, kek alun koruptor eselon III dirjen pajak bisa beli ini beli itu. Sistem tuh perbaiki, gak cuma gaji aja yang gede\n"
     ]
    },
    {
     "name": "stdin",
     "output_type": "stream",
     "text": [
      "Masukkan label (Positive, Negative, Neutral) Negative\n"
     ]
    },
    {
     "name": "stdout",
     "output_type": "stream",
     "text": [
      "Review: gagal login terus\n"
     ]
    },
    {
     "name": "stdin",
     "output_type": "stream",
     "text": [
      "Masukkan label (Positive, Negative, Neutral) Negative\n"
     ]
    },
    {
     "name": "stdout",
     "output_type": "stream",
     "text": [
      "Review: Saya ini cuma buruh, yang secara tidak langsung di paksa bikin NPWP. Jika prosesnya mudah sih mungkin g masalah.\n"
     ]
    },
    {
     "name": "stdin",
     "output_type": "stream",
     "text": [
      "Masukkan label (Positive, Negative, Neutral) Negative\n"
     ]
    },
    {
     "name": "stdout",
     "output_type": "stream",
     "text": [
      "Review: Aplikasi informatif dan mudah dipahami\n"
     ]
    },
    {
     "name": "stdin",
     "output_type": "stream",
     "text": [
      "Masukkan label (Positive, Negative, Neutral) Positive\n"
     ]
    },
    {
     "name": "stdout",
     "output_type": "stream",
     "text": [
      "Review: Kenapa mau bayar pajak aja di bikin ribet. Kemaren saya beli motor bekas, di STNK nya ada fotocopy pemilik nya. Tpi sang pemilik udah meninggal,jadi di jual dengan istrinya. Lalu saya ke kantor pajak untuk bayar pajak kendaraan, lah dia minta orang nya datang. Udah saya bilang orng nya udah meninggal. Ini ada Poto copy KTP nya. Trus orang pajak nya tak mau proses. Heran betul sama orang pajak, kita ada niat mau bayar malah tak bisa. Ya udah saya biarin aja tak bayar pajak sampai sekarang.\n"
     ]
    },
    {
     "name": "stdin",
     "output_type": "stream",
     "text": [
      "Masukkan label (Positive, Negative, Neutral) Negative\n"
     ]
    },
    {
     "name": "stdout",
     "output_type": "stream",
     "text": [
      "Review: Apk gk jelas susah masuk, begitu masuk isi data tiba tiba eror,di ulang begitu terus begitu masuk gagal terus\n"
     ]
    },
    {
     "name": "stdin",
     "output_type": "stream",
     "text": [
      "Masukkan label (Positive, Negative, Neutral) Negative\n"
     ]
    },
    {
     "name": "stdout",
     "output_type": "stream",
     "text": [
      "Review: Angel angel\n"
     ]
    },
    {
     "name": "stdin",
     "output_type": "stream",
     "text": [
      "Masukkan label (Positive, Negative, Neutral) Negative\n"
     ]
    },
    {
     "name": "stdout",
     "output_type": "stream",
     "text": [
      "Review: Tidak bisa login, padahal semua datanya benar.\n"
     ]
    },
    {
     "name": "stdin",
     "output_type": "stream",
     "text": [
      "Masukkan label (Positive, Negative, Neutral) Negative\n"
     ]
    },
    {
     "name": "stdout",
     "output_type": "stream",
     "text": [
      "Review: Pembuat aplikasi nya kurang bagus\n"
     ]
    },
    {
     "name": "stdin",
     "output_type": "stream",
     "text": [
      "Masukkan label (Positive, Negative, Neutral) Negative\n"
     ]
    },
    {
     "name": "stdout",
     "output_type": "stream",
     "text": [
      "Review: Busuk\n"
     ]
    },
    {
     "name": "stdin",
     "output_type": "stream",
     "text": [
      "Masukkan label (Positive, Negative, Neutral) Negative\n"
     ]
    },
    {
     "name": "stdout",
     "output_type": "stream",
     "text": [
      "Review: kenapa ya,saat masuk akun di web ereg.pajak.go.id npwp/nik dan pasword bener dan bisa login, sedangkan di apk M-Pajak npwp/pasword salah??\n"
     ]
    },
    {
     "name": "stdin",
     "output_type": "stream",
     "text": [
      "Masukkan label (Positive, Negative, Neutral) Negative\n"
     ]
    },
    {
     "name": "stdout",
     "output_type": "stream",
     "text": [
      "Review: Mohon untuk di perbaiki aplikasinya, masak mau minta EFIN selalu gagal padahal data sudah benar\n"
     ]
    },
    {
     "name": "stdin",
     "output_type": "stream",
     "text": [
      "Masukkan label (Positive, Negative, Neutral) Negative\n"
     ]
    },
    {
     "name": "stdout",
     "output_type": "stream",
     "text": [
      "Review: Aplkasi b2 minta otp gak muncul, bantuan nye sengaja di erorin\n"
     ]
    },
    {
     "name": "stdin",
     "output_type": "stream",
     "text": [
      "Masukkan label (Positive, Negative, Neutral) Negative\n"
     ]
    },
    {
     "name": "stdout",
     "output_type": "stream",
     "text": [
      "Review: Lah baru aja selesai bikin. Masa mau login susah amat data tidak ditemukan. Aplikasi dajjal. Ngabisin duit rakyat loh\n"
     ]
    },
    {
     "name": "stdin",
     "output_type": "stream",
     "text": [
      "Masukkan label (Positive, Negative, Neutral) Negative\n"
     ]
    },
    {
     "name": "stdout",
     "output_type": "stream",
     "text": [
      "Review: Aplikasi ngontol,,,situs nya eror lemot mending situs bokep tolol\n"
     ]
    },
    {
     "name": "stdin",
     "output_type": "stream",
     "text": [
      "Masukkan label (Positive, Negative, Neutral) Negative\n"
     ]
    },
    {
     "name": "stdout",
     "output_type": "stream",
     "text": [
      "Review: mantap\n"
     ]
    },
    {
     "name": "stdin",
     "output_type": "stream",
     "text": [
      "Masukkan label (Positive, Negative, Neutral) Positive\n"
     ]
    },
    {
     "name": "stdout",
     "output_type": "stream",
     "text": [
      "Review: Nggk guna\n"
     ]
    },
    {
     "name": "stdin",
     "output_type": "stream",
     "text": [
      "Masukkan label (Positive, Negative, Neutral) Negative\n"
     ]
    },
    {
     "name": "stdout",
     "output_type": "stream",
     "text": [
      "Review: aplikasi tidak jelas. sudah isi pulsa untuk daftar verifikasi pendaftaran tapi tidak ada kelanjutannya. gimana ini min?\n"
     ]
    },
    {
     "name": "stdin",
     "output_type": "stream",
     "text": [
      "Masukkan label (Positive, Negative, Neutral) Negative\n"
     ]
    },
    {
     "name": "stdout",
     "output_type": "stream",
     "text": [
      "Review: Ini aplikasi yg gue instal versi terbaru kan? Tapi kenapa pas dibuka minta update pembaruan jink!?\n"
     ]
    },
    {
     "name": "stdin",
     "output_type": "stream",
     "text": [
      "Masukkan label (Positive, Negative, Neutral) Negative\n"
     ]
    },
    {
     "name": "stdout",
     "output_type": "stream",
     "text": [
      "Review: TIDAK BISA MASUK MAU DI APLIKASI ATAU PUN DI GOOGLE CROME SELALU GAGAL MULU!!,KATANYA DATA GAK ADA,PADAHAL KALU DICEK BISA MUNCUL!!\n"
     ]
    },
    {
     "name": "stdin",
     "output_type": "stream",
     "text": [
      "Masukkan label (Positive, Negative, Neutral) Negative\n"
     ]
    },
    {
     "name": "stdout",
     "output_type": "stream",
     "text": [
      "Review: Aplikasi yg sulit Login aja susah 👻\n"
     ]
    },
    {
     "name": "stdin",
     "output_type": "stream",
     "text": [
      "Masukkan label (Positive, Negative, Neutral) Negative\n"
     ]
    },
    {
     "name": "stdout",
     "output_type": "stream",
     "text": [
      "Review: Baru juga download & install, Cuma liat muter2 doang kwkwk\n"
     ]
    },
    {
     "name": "stdin",
     "output_type": "stream",
     "text": [
      "Masukkan label (Positive, Negative, Neutral) Negative\n"
     ]
    },
    {
     "name": "stdout",
     "output_type": "stream",
     "text": [
      "Review: versi terbaru mempersulit pengguna untuk lapor perpajakan tlg di kembalikan saja ke versi lama itu lebih mudah karna menu yg di perlukan muncul semua\n"
     ]
    },
    {
     "name": "stdin",
     "output_type": "stream",
     "text": [
      "Masukkan label (Positive, Negative, Neutral) Negative\n"
     ]
    },
    {
     "name": "stdout",
     "output_type": "stream",
     "text": [
      "Review: Sudah membuat kode billing. Namun ketika akna membayar. Kode billing tidak ditemukan.\n"
     ]
    },
    {
     "name": "stdin",
     "output_type": "stream",
     "text": [
      "Masukkan label (Positive, Negative, Neutral) Negative\n"
     ]
    },
    {
     "name": "stdout",
     "output_type": "stream",
     "text": [
      "Review: Belum dipake dah minta update aplikasi tolol pemerintah dongo semua tua bangka tolol\n"
     ]
    },
    {
     "name": "stdin",
     "output_type": "stream",
     "text": [
      "Masukkan label (Positive, Negative, Neutral) Negative\n"
     ]
    },
    {
     "name": "stdout",
     "output_type": "stream",
     "text": [
      "Review: Susah masukkan kode captcha Abis pulsa gua karna refresh hp minta kirim kode validasi\n"
     ]
    },
    {
     "name": "stdin",
     "output_type": "stream",
     "text": [
      "Masukkan label (Positive, Negative, Neutral) Negative\n"
     ]
    },
    {
     "name": "stdout",
     "output_type": "stream",
     "text": [
      "Review: Ini apakah bisa diakomodir jika lupa efin?\n"
     ]
    },
    {
     "name": "stdin",
     "output_type": "stream",
     "text": [
      "Masukkan label (Positive, Negative, Neutral) Neutral\n"
     ]
    },
    {
     "name": "stdout",
     "output_type": "stream",
     "text": [
      "Review: Mau daftar saja susah 🤦\n"
     ]
    },
    {
     "name": "stdin",
     "output_type": "stream",
     "text": [
      "Masukkan label (Positive, Negative, Neutral) Negative\n"
     ]
    },
    {
     "name": "stdout",
     "output_type": "stream",
     "text": [
      "Review: Aplikasi payah. Website payah. Query validasi data juga payah. Scrum master-nya tolong totalitas dong. Bisa2nya NIK & KK dibilang gak terdaftar. Trus kita bisa bikin NPWP dan terdaftar di Disdukcapil gimana ceritanya? 🤦🏻‍♀️ Udah update, minta update. Ditungguin, malah splash screen dan blank. Cape pengguna dibuatmu. 🤦🏻‍♀️\n"
     ]
    },
    {
     "name": "stdin",
     "output_type": "stream",
     "text": [
      "Masukkan label (Positive, Negative, Neutral) Negative\n"
     ]
    },
    {
     "name": "stdout",
     "output_type": "stream",
     "text": [
      "Review: Nyari domisili kurang lengkap masa iya domisili saya tinggal kaga ada apk busuk\n"
     ]
    },
    {
     "name": "stdin",
     "output_type": "stream",
     "text": [
      "Masukkan label (Positive, Negative, Neutral) Negative\n"
     ]
    },
    {
     "name": "stdout",
     "output_type": "stream",
     "text": [
      "Review: Customer service payahh, masa iya cuma salah email dan pasword bisa keblokir akun... Di suruh daftar pake email baru lagii. Nanti keblokir lagi karna salah pasword dan email... Teruss gitu sampe 1000 email\n"
     ]
    },
    {
     "name": "stdin",
     "output_type": "stream",
     "text": [
      "Masukkan label (Positive, Negative, Neutral) Negative\n"
     ]
    },
    {
     "name": "stdout",
     "output_type": "stream",
     "text": [
      "Review: Perentiah 4njing habisian duit negara buat aplikasi kayak t4ik\n"
     ]
    },
    {
     "name": "stdin",
     "output_type": "stream",
     "text": [
      "Masukkan label (Positive, Negative, Neutral) Negative\n"
     ]
    },
    {
     "name": "stdout",
     "output_type": "stream",
     "text": [
      "Review: hapus aja ini aplikasi dari play store\n"
     ]
    },
    {
     "name": "stdin",
     "output_type": "stream",
     "text": [
      "Masukkan label (Positive, Negative, Neutral) Negative\n"
     ]
    },
    {
     "name": "stdout",
     "output_type": "stream",
     "text": [
      "Review: Nyusahin\n"
     ]
    },
    {
     "name": "stdin",
     "output_type": "stream",
     "text": [
      "Masukkan label (Positive, Negative, Neutral) Negative\n"
     ]
    },
    {
     "name": "stdout",
     "output_type": "stream",
     "text": [
      "Review: Padahal aplikasinya diawasi negara kenapa kualitasnya seperti ini?\n"
     ]
    },
    {
     "name": "stdin",
     "output_type": "stream",
     "text": [
      "Masukkan label (Positive, Negative, Neutral) Negative\n"
     ]
    },
    {
     "name": "stdout",
     "output_type": "stream",
     "text": [
      "Review: aplikasi kaga berguna pulsa udah abis 5000 kaga ke daftar² buat apa ada aplikasi ini kalo kaga berguna\n"
     ]
    },
    {
     "name": "stdin",
     "output_type": "stream",
     "text": [
      "Masukkan label (Positive, Negative, Neutral) Negative\n"
     ]
    },
    {
     "name": "stdout",
     "output_type": "stream",
     "text": [
      "Review: apinya error ga bisa di buka\n"
     ]
    },
    {
     "name": "stdin",
     "output_type": "stream",
     "text": [
      "Masukkan label (Positive, Negative, Neutral) Negative\n"
     ]
    },
    {
     "name": "stdout",
     "output_type": "stream",
     "text": [
      "Review: Top..aplikasinya\n"
     ]
    },
    {
     "name": "stdin",
     "output_type": "stream",
     "text": [
      "Masukkan label (Positive, Negative, Neutral) Positive\n"
     ]
    },
    {
     "name": "stdout",
     "output_type": "stream",
     "text": [
      "Review: buruk sekali.. eror.. live chat pun gk bsa\n"
     ]
    },
    {
     "name": "stdin",
     "output_type": "stream",
     "text": [
      "Masukkan label (Positive, Negative, Neutral) Negative\n"
     ]
    },
    {
     "name": "stdout",
     "output_type": "stream",
     "text": [
      "Review: Membantu\n"
     ]
    },
    {
     "name": "stdin",
     "output_type": "stream",
     "text": [
      "Masukkan label (Positive, Negative, Neutral) Positive\n"
     ]
    },
    {
     "name": "stdout",
     "output_type": "stream",
     "text": [
      "Review: Sesuai data\n"
     ]
    },
    {
     "name": "stdin",
     "output_type": "stream",
     "text": [
      "Masukkan label (Positive, Negative, Neutral) Positive\n"
     ]
    },
    {
     "name": "stdout",
     "output_type": "stream",
     "text": [
      "Review: Percumah kita mau taat pajak aja susah birokrasi ribet aplikasi lemot buat pengurusan gimana negara mau makmur\n"
     ]
    },
    {
     "name": "stdin",
     "output_type": "stream",
     "text": [
      "Masukkan label (Positive, Negative, Neutral) Negative\n"
     ]
    },
    {
     "name": "stdout",
     "output_type": "stream",
     "text": [
      "Review: Otp sangat lama, waktu sudah masuk proses verifikasi gagal. Verif efin sudah berkali-kali dicoba tetap gagal verifikasi. Ujung-ujungnya ke kpp juga ini. Buat apa aplikasi dibuat tapi tidak untuk mempermudah\n"
     ]
    },
    {
     "name": "stdin",
     "output_type": "stream",
     "text": [
      "Masukkan label (Positive, Negative, Neutral) Negative\n"
     ]
    },
    {
     "name": "stdout",
     "output_type": "stream",
     "text": [
      "Review: Ok\n"
     ]
    },
    {
     "name": "stdin",
     "output_type": "stream",
     "text": [
      "Masukkan label (Positive, Negative, Neutral) Positive\n"
     ]
    },
    {
     "name": "stdout",
     "output_type": "stream",
     "text": [
      "Review: verifikasi sms ga bisa apa ga punya pulsa???\n"
     ]
    },
    {
     "name": "stdin",
     "output_type": "stream",
     "text": [
      "Masukkan label (Positive, Negative, Neutral) Negative\n"
     ]
    },
    {
     "name": "stdout",
     "output_type": "stream",
     "text": [
      "Review: Pagi tadi ke kantor pajak buat ngurus aktivasi akun, setelah selesai nanya ke CS nya soal login aplikasi ini dan CS nya bilang \"kita\" gak ada aplikasi kaya gitu pak, \"kita\" base nya pakai website, jadi mending uninstal aja. Baca2 komenan review juga mayoritas negatif, takut input data2 malah disalahgunakan\n"
     ]
    },
    {
     "name": "stdin",
     "output_type": "stream",
     "text": [
      "Masukkan label (Positive, Negative, Neutral) Negative\n"
     ]
    },
    {
     "name": "stdout",
     "output_type": "stream",
     "text": [
      "Review: Gak guna\n"
     ]
    },
    {
     "name": "stdin",
     "output_type": "stream",
     "text": [
      "Masukkan label (Positive, Negative, Neutral) Negative\n"
     ]
    },
    {
     "name": "stdout",
     "output_type": "stream",
     "text": [
      "Review: aplikasi paling gk berguna\n"
     ]
    },
    {
     "name": "stdin",
     "output_type": "stream",
     "text": [
      "Masukkan label (Positive, Negative, Neutral) Negative\n"
     ]
    },
    {
     "name": "stdout",
     "output_type": "stream",
     "text": [
      "Review: sengaja download biar kasi bintang 1\n"
     ]
    },
    {
     "name": "stdin",
     "output_type": "stream",
     "text": [
      "Masukkan label (Positive, Negative, Neutral) Negative\n"
     ]
    },
    {
     "name": "stdout",
     "output_type": "stream",
     "text": [
      "Review: Aplikasi g guna,, kyk kantornya\n"
     ]
    },
    {
     "name": "stdin",
     "output_type": "stream",
     "text": [
      "Masukkan label (Positive, Negative, Neutral) Negative\n"
     ]
    },
    {
     "name": "stdout",
     "output_type": "stream",
     "text": [
      "Review: Web nya aja ancur ancuran bikin aplikasi, orang orang Pajak tu ngapain aja si, sampe kena hujat sana sini, benerin dulu web nya, bikin app mah buat pantes pantes doang,dikira jadi keliatan keren apa gimana web sama app nya ga bisa di pake,\n"
     ]
    },
    {
     "name": "stdin",
     "output_type": "stream",
     "text": [
      "Masukkan label (Positive, Negative, Neutral) Negative\n"
     ]
    },
    {
     "name": "stdout",
     "output_type": "stream",
     "text": [
      "Review: Baru juga download. Mencoba daftar NPWP baru, tetapi tidak ada email yang masuk. Baru langkah awal sudah buruk 👎🏿\n"
     ]
    },
    {
     "name": "stdin",
     "output_type": "stream",
     "text": [
      "Masukkan label (Positive, Negative, Neutral) Negative\n"
     ]
    },
    {
     "name": "stdout",
     "output_type": "stream",
     "text": [
      "Review: Baru diinstall, langsung nongol pop up apk harus diupdate dan apk gak bisa digunakan\n"
     ]
    },
    {
     "name": "stdin",
     "output_type": "stream",
     "text": [
      "Masukkan label (Positive, Negative, Neutral) Negative\n"
     ]
    },
    {
     "name": "stdout",
     "output_type": "stream",
     "text": [
      "Review: Fitur yang sangat buruk, tidak di aplikasi atau pun di website semua ny buruk!👎\n"
     ]
    },
    {
     "name": "stdin",
     "output_type": "stream",
     "text": [
      "Masukkan label (Positive, Negative, Neutral) Negative\n"
     ]
    },
    {
     "name": "stdout",
     "output_type": "stream",
     "text": [
      "Review: Bagus\n"
     ]
    },
    {
     "name": "stdin",
     "output_type": "stream",
     "text": [
      "Masukkan label (Positive, Negative, Neutral) Positive\n"
     ]
    },
    {
     "name": "stdout",
     "output_type": "stream",
     "text": [
      "Review: Ah, tolol anying\n"
     ]
    },
    {
     "name": "stdin",
     "output_type": "stream",
     "text": [
      "Masukkan label (Positive, Negative, Neutral) Negative\n"
     ]
    },
    {
     "name": "stdout",
     "output_type": "stream",
     "text": [
      "Review: APK BUSUK MAU LOGIN AJA RIBET\n"
     ]
    },
    {
     "name": "stdin",
     "output_type": "stream",
     "text": [
      "Masukkan label (Positive, Negative, Neutral) Negative\n"
     ]
    },
    {
     "name": "stdout",
     "output_type": "stream",
     "text": [
      "Review: Aplikasi gak guna ferifikasi data muter2 gak jelas minta efin pun susah gimana mau taat pajak kalau semua dibuat susah.\n"
     ]
    },
    {
     "name": "stdin",
     "output_type": "stream",
     "text": [
      "Masukkan label (Positive, Negative, Neutral) Negative\n"
     ]
    },
    {
     "name": "stdout",
     "output_type": "stream",
     "text": [
      "Review: Ga becus\n"
     ]
    },
    {
     "name": "stdin",
     "output_type": "stream",
     "text": [
      "Masukkan label (Positive, Negative, Neutral) Negative\n"
     ]
    },
    {
     "name": "stdout",
     "output_type": "stream",
     "text": [
      "Review: Gak guna ajg lapor spt ttp lewat web\n"
     ]
    },
    {
     "name": "stdin",
     "output_type": "stream",
     "text": [
      "Masukkan label (Positive, Negative, Neutral) Negative\n"
     ]
    },
    {
     "name": "stdout",
     "output_type": "stream",
     "text": [
      "Review: Datang ke kantor pajak langsung malah di suruh daftar online, giliran daftar online malah ribet. Terlalu banyak buang waktu\n"
     ]
    },
    {
     "name": "stdin",
     "output_type": "stream",
     "text": [
      "Masukkan label (Positive, Negative, Neutral) Negative\n"
     ]
    },
    {
     "name": "stdout",
     "output_type": "stream",
     "text": [
      "Review: Servernya lah tolong diurus\n"
     ]
    },
    {
     "name": "stdin",
     "output_type": "stream",
     "text": [
      "Masukkan label (Positive, Negative, Neutral) Negative\n"
     ]
    },
    {
     "name": "stdout",
     "output_type": "stream",
     "text": [
      "Review: Buat online tp efinnya disuruh dtang langsung sama aja nggk online duh jaman dah online tp pelayanan kek jaman dulu\n"
     ]
    },
    {
     "name": "stdin",
     "output_type": "stream",
     "text": [
      "Masukkan label (Positive, Negative, Neutral) Negative\n"
     ]
    },
    {
     "name": "stdout",
     "output_type": "stream",
     "text": [
      "Review: Good\n"
     ]
    },
    {
     "name": "stdin",
     "output_type": "stream",
     "text": [
      "Masukkan label (Positive, Negative, Neutral) Positive\n"
     ]
    },
    {
     "name": "stdout",
     "output_type": "stream",
     "text": [
      "Review: Ga bisa di buka\n"
     ]
    },
    {
     "name": "stdin",
     "output_type": "stream",
     "text": [
      "Masukkan label (Positive, Negative, Neutral) Negative\n"
     ]
    },
    {
     "name": "stdout",
     "output_type": "stream",
     "text": [
      "Review: Sang membantu\n"
     ]
    },
    {
     "name": "stdin",
     "output_type": "stream",
     "text": [
      "Masukkan label (Positive, Negative, Neutral) Positive\n"
     ]
    },
    {
     "name": "stdout",
     "output_type": "stream",
     "text": [
      "Review: Aplikasi ini sangat tidak membantu sama sekali\n"
     ]
    },
    {
     "name": "stdin",
     "output_type": "stream",
     "text": [
      "Masukkan label (Positive, Negative, Neutral) Negative\n"
     ]
    },
    {
     "name": "stdout",
     "output_type": "stream",
     "text": [
      "Review: Perpindahan antar menu saat di klik memerlukan setidaknya 2-3 detik untuk ditampilkan, harusnya aplikasi ini gk lolos ujicoba pas mau launching,melakukan pendaftaran / lainnya kenapa harus pindah ke via website? Terus fungsi aplikasi ini buat apaan? Buat di putar, di jilat, di bakar kantor pajaknya? Itu dana gede kemanain? Bukannya upgrade kualitas manusia, malah di pake beli Rubicon, nyewa LC, nikah lagi sama LC,elu nagih pajak puluhan tahun dan jutaan warga, masa bikin aplikasi model Majapahit\n"
     ]
    },
    {
     "name": "stdin",
     "output_type": "stream",
     "text": [
      "Masukkan label (Positive, Negative, Neutral) Negative\n"
     ]
    },
    {
     "name": "stdout",
     "output_type": "stream",
     "text": [
      "Review: Aplikasi tolol\n"
     ]
    },
    {
     "name": "stdin",
     "output_type": "stream",
     "text": [
      "Masukkan label (Positive, Negative, Neutral) Negative\n"
     ]
    },
    {
     "name": "stdout",
     "output_type": "stream",
     "text": [
      "Review: Aplikasi Negara Dibiayai APBN kok sering Eror/ Bug Malu maluin 😂 Sesuai kualitas Pejabatnya😂 Contoh tu Aplikasi PLN mobile Bagus and User Friendly, lah Ini Urusan Pendapatan Negara secara Global Makro All sectors malah Eror an😒\n"
     ]
    },
    {
     "name": "stdin",
     "output_type": "stream",
     "text": [
      "Masukkan label (Positive, Negative, Neutral) Negative\n"
     ]
    },
    {
     "name": "stdout",
     "output_type": "stream",
     "text": [
      "Review: Terima kasih sekali sangat membantu ,live chat nya juga cepat aplikasi berjalan lancar. Sebagai perantau yang pertama kali juga lupa efin badan bingung banget karena beda sama lupa efin pribadi dengan live chat sangat terbantu makasih kak satria walaupun aku bingung banget tapi Alhamdulillah muncul emil padahal live chat nya keburu berakhir. Makasih pokonya sehat selalu pegawai dpj 🙏🏻\n"
     ]
    },
    {
     "name": "stdin",
     "output_type": "stream",
     "text": [
      "Masukkan label (Positive, Negative, Neutral) Positive\n"
     ]
    },
    {
     "name": "stdout",
     "output_type": "stream",
     "text": [
      "Review: Apk macam apa ini! Login di website bisa tapi login di apk gak bisa!!\n"
     ]
    },
    {
     "name": "stdin",
     "output_type": "stream",
     "text": [
      "Masukkan label (Positive, Negative, Neutral) Negative\n"
     ]
    },
    {
     "name": "stdout",
     "output_type": "stream",
     "text": [
      "Review: System konyol tidak ada satupun bintang 5 .\n"
     ]
    },
    {
     "name": "stdin",
     "output_type": "stream",
     "text": [
      "Masukkan label (Positive, Negative, Neutral) Negative\n"
     ]
    },
    {
     "name": "stdout",
     "output_type": "stream",
     "text": [
      "Review: Mantap\n"
     ]
    },
    {
     "name": "stdin",
     "output_type": "stream",
     "text": [
      "Masukkan label (Positive, Negative, Neutral) Positive\n"
     ]
    },
    {
     "name": "stdout",
     "output_type": "stream",
     "text": [
      "Review: developer nya keliatan banget ni aplikasi ..sengaja mempersulit orang yg mw daftar ...stelah isi data mw ke selanjutnya eh tombol nya di umpetin ...PEMERINTAHAN EMANG SELALU BEGITU ..\n"
     ]
    },
    {
     "name": "stdin",
     "output_type": "stream",
     "text": [
      "Masukkan label (Positive, Negative, Neutral) Negative\n"
     ]
    },
    {
     "name": "stdout",
     "output_type": "stream",
     "text": [
      "Review: Mantap\n"
     ]
    },
    {
     "name": "stdin",
     "output_type": "stream",
     "text": [
      "Masukkan label (Positive, Negative, Neutral) Positive\n"
     ]
    },
    {
     "name": "stdout",
     "output_type": "stream",
     "text": [
      "Review: Login sering bermasalah. Aplikasi ampas.\n"
     ]
    },
    {
     "name": "stdin",
     "output_type": "stream",
     "text": [
      "Masukkan label (Positive, Negative, Neutral) Negative\n"
     ]
    },
    {
     "name": "stdout",
     "output_type": "stream",
     "text": [
      "Review: Pengiriman kode otp ketika melakukan pengajuan pupa e-fin sangat lama baik melalui sms maupun e-mail, padahal pengiriman otp melalui sms dikenakan tarif.\n"
     ]
    },
    {
     "name": "stdin",
     "output_type": "stream",
     "text": [
      "Masukkan label (Positive, Negative, Neutral) Negative\n"
     ]
    },
    {
     "name": "stdout",
     "output_type": "stream",
     "text": [
      "Review: Bagus..pelayan cepat dan sangat membantu..memuaskan..good job\n"
     ]
    },
    {
     "name": "stdin",
     "output_type": "stream",
     "text": [
      "Masukkan label (Positive, Negative, Neutral) Positive\n"
     ]
    },
    {
     "name": "stdout",
     "output_type": "stream",
     "text": [
      "Review: Mau login aja susah wkwk\n"
     ]
    },
    {
     "name": "stdin",
     "output_type": "stream",
     "text": [
      "Masukkan label (Positive, Negative, Neutral) Negative\n"
     ]
    },
    {
     "name": "stdout",
     "output_type": "stream",
     "text": [
      "Review: Saya daftar npwp Krn perangkat desa kantor lurah yg nyuruh, Krna d iming2 bantuan pokir dari caleg Jadi saya susah dapat bantuan pkh, Gmna cara nya ini pak/ibu, mohon bantuannya?\n"
     ]
    },
    {
     "name": "stdin",
     "output_type": "stream",
     "text": [
      "Masukkan label (Positive, Negative, Neutral) Negative\n"
     ]
    },
    {
     "name": "stdout",
     "output_type": "stream",
     "text": [
      "Review: Sangat bagus\n"
     ]
    },
    {
     "name": "stdin",
     "output_type": "stream",
     "text": [
      "Masukkan label (Positive, Negative, Neutral) Positive\n"
     ]
    },
    {
     "name": "stdout",
     "output_type": "stream",
     "text": [
      "Review: TELKOMSEL ROLI\n"
     ]
    },
    {
     "name": "stdin",
     "output_type": "stream",
     "text": [
      "Masukkan label (Positive, Negative, Neutral) Neutral\n"
     ]
    },
    {
     "name": "stdout",
     "output_type": "stream",
     "text": [
      "Review: Aplikasi sulit di pakai mau daftar aja susah...lewat formulir loading lama sekali 1 jam lebih Tolong webnya di perbarui\n"
     ]
    },
    {
     "name": "stdin",
     "output_type": "stream",
     "text": [
      "Masukkan label (Positive, Negative, Neutral) Negative\n"
     ]
    },
    {
     "name": "stdout",
     "output_type": "stream",
     "text": [
      "Review: gak jelas\n"
     ]
    },
    {
     "name": "stdin",
     "output_type": "stream",
     "text": [
      "Masukkan label (Positive, Negative, Neutral) Negative\n"
     ]
    },
    {
     "name": "stdout",
     "output_type": "stream",
     "text": [
      "Review: Sering keluar sendiri aplikasi nya jelek bngt\n"
     ]
    },
    {
     "name": "stdin",
     "output_type": "stream",
     "text": [
      "Masukkan label (Positive, Negative, Neutral) Negative\n"
     ]
    },
    {
     "name": "stdout",
     "output_type": "stream",
     "text": [
      "Review: Minta bantuan masalah EFIN. Malah langsung kabur CS nya. Niat mau bayar pajak tapi GK dikasih EFIN. Lucu banget\n"
     ]
    },
    {
     "name": "stdin",
     "output_type": "stream",
     "text": [
      "Masukkan label (Positive, Negative, Neutral) Negative\n"
     ]
    },
    {
     "name": "stdout",
     "output_type": "stream",
     "text": [
      "Review: Hahaha aplikasi kepala ...... sudah jelas terdaftar giliran login nggak bisa\n"
     ]
    },
    {
     "name": "stdin",
     "output_type": "stream",
     "text": [
      "Masukkan label (Positive, Negative, Neutral) Negative\n"
     ]
    },
    {
     "name": "stdout",
     "output_type": "stream",
     "text": [
      "Review: Mbaknya SABAR Banget.. TERIMA KASIH.\n"
     ]
    },
    {
     "name": "stdin",
     "output_type": "stream",
     "text": [
      "Masukkan label (Positive, Negative, Neutral) Positive\n"
     ]
    },
    {
     "name": "stdout",
     "output_type": "stream",
     "text": [
      "Review: kocak ribet amat bikin NPWP jugaa nunggu email kaga muncul muncul\n"
     ]
    },
    {
     "name": "stdin",
     "output_type": "stream",
     "text": [
      "Masukkan label (Positive, Negative, Neutral) Negative\n"
     ]
    },
    {
     "name": "stdout",
     "output_type": "stream",
     "text": [
      "Review: bnyk yg ga bs di klik pilihan nya. lemot\n"
     ]
    },
    {
     "name": "stdin",
     "output_type": "stream",
     "text": [
      "Masukkan label (Positive, Negative, Neutral) Negative\n"
     ]
    },
    {
     "name": "stdout",
     "output_type": "stream",
     "text": [
      "Review: \"Sayangnya M-Pajak telah berhenti\" melulu..\n"
     ]
    },
    {
     "name": "stdin",
     "output_type": "stream",
     "text": [
      "Masukkan label (Positive, Negative, Neutral) Negative\n"
     ]
    },
    {
     "name": "stdout",
     "output_type": "stream",
     "text": [
      "Review: Setau saya blm ada menu pelaporan SPT nya ya mohon tambah kan dong menu nya biar lebih kumplit dan aplikasi nya perbaiki lemot banget\n"
     ]
    },
    {
     "name": "stdin",
     "output_type": "stream",
     "text": [
      "Masukkan label (Positive, Negative, Neutral) Negative\n"
     ]
    },
    {
     "name": "stdout",
     "output_type": "stream",
     "text": [
      "Review: Kebanyakn nipu rakyat,,.. apl gk guna, keliatan Apl hasil uang korupsi.\n"
     ]
    },
    {
     "name": "stdin",
     "output_type": "stream",
     "text": [
      "Masukkan label (Positive, Negative, Neutral) Negative\n"
     ]
    },
    {
     "name": "stdout",
     "output_type": "stream",
     "text": [
      "Review: Aplikasi selalu force close saat ingin mengetahui EFIN, pada saat swa foto. Tolong diperbaiki\n"
     ]
    },
    {
     "name": "stdin",
     "output_type": "stream",
     "text": [
      "Masukkan label (Positive, Negative, Neutral) Negative\n"
     ]
    },
    {
     "name": "stdout",
     "output_type": "stream",
     "text": [
      "Review: 1,a y d, lagi 😁🥲😴\n"
     ]
    },
    {
     "name": "stdin",
     "output_type": "stream",
     "text": [
      "Masukkan label (Positive, Negative, Neutral) Neutral\n"
     ]
    },
    {
     "name": "stdout",
     "output_type": "stream",
     "text": [
      "Review: Mantap\n"
     ]
    },
    {
     "name": "stdin",
     "output_type": "stream",
     "text": [
      "Masukkan label (Positive, Negative, Neutral) Positive\n"
     ]
    },
    {
     "name": "stdout",
     "output_type": "stream",
     "text": [
      "Review: Uangnya banyak, tapi aplikasinya jelek\n"
     ]
    },
    {
     "name": "stdin",
     "output_type": "stream",
     "text": [
      "Masukkan label (Positive, Negative, Neutral) Negative\n"
     ]
    },
    {
     "name": "stdout",
     "output_type": "stream",
     "text": [
      "Review: Mau daftar efin lewat online tapi ngga bisa.. ga bisa verifikasi otp nyaa.. udh bbrpa hari dicoba ttep ga bisa..pdhl udh d cobain pake email yg sama tapi kode otp ngga muncul, udh dicoba pake no hp juga sama kode otp nya gaada masuk..\n"
     ]
    },
    {
     "name": "stdin",
     "output_type": "stream",
     "text": [
      "Masukkan label (Positive, Negative, Neutral) Negative\n"
     ]
    },
    {
     "name": "stdout",
     "output_type": "stream",
     "text": [
      "Review: habis pulsa sibuk sama capcha,, mw daftar aja ribet gini, peraturan di kasi ribet, babi kering\n"
     ]
    },
    {
     "name": "stdin",
     "output_type": "stream",
     "text": [
      "Masukkan label (Positive, Negative, Neutral) Negative\n"
     ]
    },
    {
     "name": "stdout",
     "output_type": "stream",
     "text": [
      "Review: kadang lemot\n"
     ]
    },
    {
     "name": "stdin",
     "output_type": "stream",
     "text": [
      "Masukkan label (Positive, Negative, Neutral) Negative\n"
     ]
    },
    {
     "name": "stdout",
     "output_type": "stream",
     "text": [
      "Review: mantap 👍\n"
     ]
    },
    {
     "name": "stdin",
     "output_type": "stream",
     "text": [
      "Masukkan label (Positive, Negative, Neutral) Positive\n"
     ]
    },
    {
     "name": "stdout",
     "output_type": "stream",
     "text": [
      "Review: Good\n"
     ]
    },
    {
     "name": "stdin",
     "output_type": "stream",
     "text": [
      "Masukkan label (Positive, Negative, Neutral) POsitive\n"
     ]
    },
    {
     "name": "stdout",
     "output_type": "stream",
     "text": [
      "Review: Aplikasi tidak bisa di gunakan mau masuk saja sudah tidak bisa Salah terus ketika mau lupa password juga tidak bisa 🥱🥱🥱🥱\n"
     ]
    },
    {
     "name": "stdin",
     "output_type": "stream",
     "text": [
      "Masukkan label (Positive, Negative, Neutral) Negative\n"
     ]
    },
    {
     "name": "stdout",
     "output_type": "stream",
     "text": [
      "Review: Terbaik\n"
     ]
    },
    {
     "name": "stdin",
     "output_type": "stream",
     "text": [
      "Masukkan label (Positive, Negative, Neutral) Positive\n"
     ]
    },
    {
     "name": "stdout",
     "output_type": "stream",
     "text": [
      "Review: Tingkatka aplikasinya dan permudakan pendaptaranyany.\n"
     ]
    },
    {
     "name": "stdin",
     "output_type": "stream",
     "text": [
      "Masukkan label (Positive, Negative, Neutral) Negative\n"
     ]
    },
    {
     "name": "stdout",
     "output_type": "stream",
     "text": [
      "Review: Bagus\n"
     ]
    },
    {
     "name": "stdin",
     "output_type": "stream",
     "text": [
      "Masukkan label (Positive, Negative, Neutral) Positive\n"
     ]
    },
    {
     "name": "stdout",
     "output_type": "stream",
     "text": [
      "Review: TIDAK REKOMENDASI\n"
     ]
    },
    {
     "name": "stdin",
     "output_type": "stream",
     "text": [
      "Masukkan label (Positive, Negative, Neutral) Negative\n"
     ]
    },
    {
     "name": "stdout",
     "output_type": "stream",
     "text": [
      "Review: 👍👌\n"
     ]
    },
    {
     "name": "stdin",
     "output_type": "stream",
     "text": [
      "Masukkan label (Positive, Negative, Neutral) Positive\n"
     ]
    },
    {
     "name": "stdout",
     "output_type": "stream",
     "text": [
      "Review: ribet,, baru install suruh update dah nunggu 1 jam gx selesai2 updatenya,, mana maksa banget pengupdatetanya , mana gak bisa di kembalikan, bukan mempermudah malah mempersulit,,\n"
     ]
    },
    {
     "name": "stdin",
     "output_type": "stream",
     "text": [
      "Masukkan label (Positive, Negative, Neutral) Negative\n"
     ]
    },
    {
     "name": "stdout",
     "output_type": "stream",
     "text": [
      "Review: Aplikasi gk jelas,bikin akun cuma muter² aja\n"
     ]
    },
    {
     "name": "stdin",
     "output_type": "stream",
     "text": [
      "Masukkan label (Positive, Negative, Neutral) Negative\n"
     ]
    },
    {
     "name": "stdout",
     "output_type": "stream",
     "text": [
      "Review: Ksh rating 1 ajj Pelayanan pemerintah kok gni\n"
     ]
    },
    {
     "name": "stdin",
     "output_type": "stream",
     "text": [
      "Masukkan label (Positive, Negative, Neutral) Negative\n"
     ]
    },
    {
     "name": "stdout",
     "output_type": "stream",
     "text": [
      "Review: Mau daftar npwp saja susah. Lewat e-reg website gak bisa lewat aplikasi juga gak bisa. Masak kualitas pendaftaran online sekelas dirjen pajak cuman sebatas ecek2. Susah diakses seperti ini. Mengecewakan.\n"
     ]
    },
    {
     "name": "stdin",
     "output_type": "stream",
     "text": [
      "Masukkan label (Positive, Negative, Neutral) Negative\n"
     ]
    },
    {
     "name": "stdout",
     "output_type": "stream",
     "text": [
      "Review: Tiap mau masuk selalu harus login terus pada sebelum nya sudah login dan gak pernah melakukan log out, ribet jadinya\n"
     ]
    },
    {
     "name": "stdin",
     "output_type": "stream",
     "text": [
      "Masukkan label (Positive, Negative, Neutral) Negative\n"
     ]
    },
    {
     "name": "stdout",
     "output_type": "stream",
     "text": [
      "Review: Saya masih sulit untuk menggunakan aplikasi ini\n"
     ]
    },
    {
     "name": "stdin",
     "output_type": "stream",
     "text": [
      "Masukkan label (Positive, Negative, Neutral) Negative\n"
     ]
    },
    {
     "name": "stdout",
     "output_type": "stream",
     "text": [
      "Review: Jngn buat malu Indonesia.... Segalanya di persusah... Sudh di ikutin sesuai arahnya namun ad aj hal yg gk bisa...\n"
     ]
    },
    {
     "name": "stdin",
     "output_type": "stream",
     "text": [
      "Masukkan label (Positive, Negative, Neutral) Negative\n"
     ]
    },
    {
     "name": "stdout",
     "output_type": "stream",
     "text": [
      "Review: Error\n"
     ]
    },
    {
     "name": "stdin",
     "output_type": "stream",
     "text": [
      "Masukkan label (Positive, Negative, Neutral) Negative\n"
     ]
    },
    {
     "name": "stdout",
     "output_type": "stream",
     "text": [
      "Review: Beginilah kalau aplikasi plat merah. Boro2 membantu, masuk aplikasi aja susahnye minta ampun. Pajak ooh pajak, kami tuh mau membayar upeti harusnya bisa dipermudah.\n"
     ]
    },
    {
     "name": "stdin",
     "output_type": "stream",
     "text": [
      "Masukkan label (Positive, Negative, Neutral) Negative\n"
     ]
    },
    {
     "name": "stdout",
     "output_type": "stream",
     "text": [
      "Review: Gaji UMR potongan pajak Internasional, sehat???\n"
     ]
    },
    {
     "name": "stdin",
     "output_type": "stream",
     "text": [
      "Masukkan label (Positive, Negative, Neutral) Negative\n"
     ]
    },
    {
     "name": "stdout",
     "output_type": "stream",
     "text": [
      "Review: Bagus\n"
     ]
    },
    {
     "name": "stdin",
     "output_type": "stream",
     "text": [
      "Masukkan label (Positive, Negative, Neutral) Positive\n"
     ]
    },
    {
     "name": "stdout",
     "output_type": "stream",
     "text": [
      "Review: Ok\n"
     ]
    },
    {
     "name": "stdin",
     "output_type": "stream",
     "text": [
      "Masukkan label (Positive, Negative, Neutral) Positive\n"
     ]
    },
    {
     "name": "stdout",
     "output_type": "stream",
     "text": [
      "Review: sangat bermanfaat\n"
     ]
    },
    {
     "name": "stdin",
     "output_type": "stream",
     "text": [
      "Masukkan label (Positive, Negative, Neutral) Positive\n"
     ]
    },
    {
     "name": "stdout",
     "output_type": "stream",
     "text": [
      "Review: Kartu atas saya koc belum ada juga ya pak/bu Kenapa?\n"
     ]
    },
    {
     "name": "stdin",
     "output_type": "stream",
     "text": [
      "Masukkan label (Positive, Negative, Neutral) Negative\n"
     ]
    },
    {
     "name": "stdout",
     "output_type": "stream",
     "text": [
      "Review: Gak jelas\n"
     ]
    },
    {
     "name": "stdin",
     "output_type": "stream",
     "text": [
      "Masukkan label (Positive, Negative, Neutral) Negative\n"
     ]
    },
    {
     "name": "stdout",
     "output_type": "stream",
     "text": [
      "Review: Harus sabar, banyak banyak lihat tutorial, alhamdulillah selesai juga pembuatan via online. \"Nikmat Tuhan yg manakah yg kau dustakan\"\n"
     ]
    },
    {
     "name": "stdin",
     "output_type": "stream",
     "text": [
      "Masukkan label (Positive, Negative, Neutral) Positive\n"
     ]
    },
    {
     "name": "stdout",
     "output_type": "stream",
     "text": [
      "Review: Gabisa dibuka\n"
     ]
    },
    {
     "name": "stdin",
     "output_type": "stream",
     "text": [
      "Masukkan label (Positive, Negative, Neutral) Negative\n"
     ]
    },
    {
     "name": "stdout",
     "output_type": "stream",
     "text": [
      "Review: tidak lama louding\n"
     ]
    },
    {
     "name": "stdin",
     "output_type": "stream",
     "text": [
      "Masukkan label (Positive, Negative, Neutral) Positive\n"
     ]
    },
    {
     "name": "stdout",
     "output_type": "stream",
     "text": [
      "Review: Aplikasi sampah\n"
     ]
    },
    {
     "name": "stdin",
     "output_type": "stream",
     "text": [
      "Masukkan label (Positive, Negative, Neutral) Negative\n"
     ]
    },
    {
     "name": "stdout",
     "output_type": "stream",
     "text": [
      "Review: Sering kembali ke menu asal padahal sudah mengisi data begitu banyak\n"
     ]
    },
    {
     "name": "stdin",
     "output_type": "stream",
     "text": [
      "Masukkan label (Positive, Negative, Neutral) Negative\n"
     ]
    },
    {
     "name": "stdout",
     "output_type": "stream",
     "text": [
      "Review: gak bisa d buka\n"
     ]
    },
    {
     "name": "stdin",
     "output_type": "stream",
     "text": [
      "Masukkan label (Positive, Negative, Neutral) Negative\n"
     ]
    },
    {
     "name": "stdout",
     "output_type": "stream",
     "text": [
      "Review: kentut\n"
     ]
    },
    {
     "name": "stdin",
     "output_type": "stream",
     "text": [
      "Masukkan label (Positive, Negative, Neutral) Negative\n"
     ]
    },
    {
     "name": "stdout",
     "output_type": "stream",
     "text": [
      "Review: Susah aja\n"
     ]
    },
    {
     "name": "stdin",
     "output_type": "stream",
     "text": [
      "Masukkan label (Positive, Negative, Neutral) Negative\n"
     ]
    },
    {
     "name": "stdout",
     "output_type": "stream",
     "text": [
      "Review: Gak bisa lapor, di klik aplikasinya diem aja\n"
     ]
    },
    {
     "name": "stdin",
     "output_type": "stream",
     "text": [
      "Masukkan label (Positive, Negative, Neutral) Negative\n"
     ]
    },
    {
     "name": "stdout",
     "output_type": "stream",
     "text": [
      "Review: Sebenarnya tidak layak dikasih bintang. Online seharusnya mempermudah. Aplikasi malah eror terus\n"
     ]
    },
    {
     "name": "stdin",
     "output_type": "stream",
     "text": [
      "Masukkan label (Positive, Negative, Neutral) Negative\n"
     ]
    },
    {
     "name": "stdout",
     "output_type": "stream",
     "text": [
      "Review: Pungutan Uang negara sebanyak itu, masa untuk kembangkan aplikasi seperti ini saja tidak bisa, padahal sangat membantu untuk kita lapor dimanapun dan kapanpun\n"
     ]
    },
    {
     "name": "stdin",
     "output_type": "stream",
     "text": [
      "Masukkan label (Positive, Negative, Neutral) Negative\n"
     ]
    },
    {
     "name": "stdout",
     "output_type": "stream",
     "text": [
      "Review: Aplikasi pemerintah dengan dana pembuatan yg pakai dana besar tp kualitasnya kok gini amat 😮‍💨\n"
     ]
    },
    {
     "name": "stdin",
     "output_type": "stream",
     "text": [
      "Masukkan label (Positive, Negative, Neutral) Negative\n"
     ]
    },
    {
     "name": "stdout",
     "output_type": "stream",
     "text": [
      "Review: Minta kode Verifikasi sampai botak nungguin gak masuk²,, padahal nomor yg didaftarkan masih aktif 👎👎👎\n"
     ]
    },
    {
     "name": "stdin",
     "output_type": "stream",
     "text": [
      "Masukkan label (Positive, Negative, Neutral) Negative\n"
     ]
    },
    {
     "name": "stdout",
     "output_type": "stream",
     "text": [
      "Review: Aplikasi sekelas punya pemerintah tpi mau lapor pajak tdk bisa,, pilihan menu nya tidak jelasss,,e mengherankan\n"
     ]
    },
    {
     "name": "stdin",
     "output_type": "stream",
     "text": [
      "Masukkan label (Positive, Negative, Neutral) Negative\n"
     ]
    },
    {
     "name": "stdout",
     "output_type": "stream",
     "text": [
      "Review: aplikasi apa ini? sampah 🤣\n"
     ]
    },
    {
     "name": "stdin",
     "output_type": "stream",
     "text": [
      "Masukkan label (Positive, Negative, Neutral) Negative\n"
     ]
    },
    {
     "name": "stdout",
     "output_type": "stream",
     "text": [
      "Review: Yang digadang gadang setiap baliho efiling ternyata zonk wkwkwwk\n"
     ]
    },
    {
     "name": "stdin",
     "output_type": "stream",
     "text": [
      "Masukkan label (Positive, Negative, Neutral) Negative\n"
     ]
    },
    {
     "name": "stdout",
     "output_type": "stream",
     "text": [
      "Review: Suruh taat pajak tp aplikasi sulit\n"
     ]
    },
    {
     "name": "stdin",
     "output_type": "stream",
     "text": [
      "Masukkan label (Positive, Negative, Neutral) Negative\n"
     ]
    },
    {
     "name": "stdout",
     "output_type": "stream",
     "text": [
      "Review: Tolong link ureg.pajak.go.id dibenerin, masa pengen bikin npwp susah bngt,, udh bener tinggl ngisi data doang,, keluar sebentar langsung bikin dari awal lagi,, pulsa gw udh abis goceng bikin itu doang,,, orang pengen bayar pajak ajjh malah dipersulit,,,, kerja yang bener, bukan foya\" sama nyantai\" jangan korupsi terus, uang rakyat buat negara bukan buat diri pribadi, klo fasilitas negara buat rakyatnya kaya gini gimana negara mau maju, yang ada, HANCURRR!!!!!!\n"
     ]
    },
    {
     "name": "stdin",
     "output_type": "stream",
     "text": [
      "Masukkan label (Positive, Negative, Neutral) Negative\n"
     ]
    },
    {
     "name": "stdout",
     "output_type": "stream",
     "text": [
      "Review: mau minta efin,pas verifikasi wajah,aplikasi langsung close,jadi nyesel buat npwp.Bukannya d permudah malah ribet banget.\n"
     ]
    },
    {
     "name": "stdin",
     "output_type": "stream",
     "text": [
      "Masukkan label (Positive, Negative, Neutral) Negative\n"
     ]
    },
    {
     "name": "stdout",
     "output_type": "stream",
     "text": [
      "Review: Sangat Membantu aplikasi ini\n"
     ]
    },
    {
     "name": "stdin",
     "output_type": "stream",
     "text": [
      "Masukkan label (Positive, Negative, Neutral) Positive\n"
     ]
    },
    {
     "name": "stdout",
     "output_type": "stream",
     "text": [
      "Review: Ribet banget, muter² gak jelas petunjuknya Kerjasama sama google aja emailnya Lupa efin, dikirim ke email mailnesia Lupa email disuruh masukin efin Trus gimana cara mengetahui efinnya?\n"
     ]
    },
    {
     "name": "stdin",
     "output_type": "stream",
     "text": [
      "Masukkan label (Positive, Negative, Neutral) Negative\n"
     ]
    },
    {
     "name": "stdout",
     "output_type": "stream",
     "text": [
      "Review: Gk berharap byk soal nya lupa efin ngajuin berkali-kali gk masuk Efin nya ke email\n"
     ]
    },
    {
     "name": "stdin",
     "output_type": "stream",
     "text": [
      "Masukkan label (Positive, Negative, Neutral) Negative\n"
     ]
    },
    {
     "name": "stdout",
     "output_type": "stream",
     "text": [
      "Review: The best\n"
     ]
    },
    {
     "name": "stdin",
     "output_type": "stream",
     "text": [
      "Masukkan label (Positive, Negative, Neutral) Positive\n"
     ]
    },
    {
     "name": "stdout",
     "output_type": "stream",
     "text": [
      "Review: Gajelas\n"
     ]
    },
    {
     "name": "stdin",
     "output_type": "stream",
     "text": [
      "Masukkan label (Positive, Negative, Neutral) Negaive\n"
     ]
    },
    {
     "name": "stdout",
     "output_type": "stream",
     "text": [
      "Review: Aplikasi jelek ribet lagi\n"
     ]
    },
    {
     "name": "stdin",
     "output_type": "stream",
     "text": [
      "Masukkan label (Positive, Negative, Neutral) Negative\n"
     ]
    },
    {
     "name": "stdout",
     "output_type": "stream",
     "text": [
      "Review: DEVELOPER GAK JELAS, PASTI MANUT AJA JADI BABU PIMPINAN, APLIKASI AJA GAK KE URUS.\n"
     ]
    },
    {
     "name": "stdin",
     "output_type": "stream",
     "text": [
      "Masukkan label (Positive, Negative, Neutral) Negative\n"
     ]
    },
    {
     "name": "stdout",
     "output_type": "stream",
     "text": [
      "Review: Ok\n"
     ]
    },
    {
     "name": "stdin",
     "output_type": "stream",
     "text": [
      "Masukkan label (Positive, Negative, Neutral) Positive\n"
     ]
    },
    {
     "name": "stdout",
     "output_type": "stream",
     "text": [
      "Review: Kualitas nya msh buruk\n"
     ]
    },
    {
     "name": "stdin",
     "output_type": "stream",
     "text": [
      "Masukkan label (Positive, Negative, Neutral) Negative\n"
     ]
    },
    {
     "name": "stdout",
     "output_type": "stream",
     "text": [
      "Review: Emang yah, aplikasi atau situs sekelas instansi besar di negara kita itu ga keurus, selain rentan kena hack, situs atau webnya ga responsif.. dikit dikit relaunch, error.. apaan dah.\n"
     ]
    },
    {
     "name": "stdin",
     "output_type": "stream",
     "text": [
      "Masukkan label (Positive, Negative, Neutral) Negative\n"
     ]
    },
    {
     "name": "stdout",
     "output_type": "stream",
     "text": [
      "Review: Ini aplikasi punya pemerintah untuk masyarakat lho..tapi kok sekali dibuka malah keluar lagi. Aplikasi kok ecek ecek gini, parah sumpah\n"
     ]
    },
    {
     "name": "stdin",
     "output_type": "stream",
     "text": [
      "Masukkan label (Positive, Negative, Neutral) Negative\n"
     ]
    },
    {
     "name": "stdout",
     "output_type": "stream",
     "text": [
      "Review: Kenapa setiap selesai upload foto selalunya eror masalah kelurahan padahal nama kelurahan jelas jelas gak ada yang salah sama persis yang di KTP, mau bayar pajak tapi aplikasi model begini 👎👎👎👎, live chat nya aja gak ada solusi\n"
     ]
    },
    {
     "name": "stdin",
     "output_type": "stream",
     "text": [
      "Masukkan label (Positive, Negative, Neutral) Negative\n"
     ]
    },
    {
     "name": "stdout",
     "output_type": "stream",
     "text": [
      "Review: Aplikasi SAMPAH KALAU GAK SIAP DIGITAL LEBIH BAIK KONVENSIONAL,BUKANNYA MEMPERMUDAH MALAH BIKIN SENGSARA. LEMOT,ERROR TERUS,COBA LAGI ERROR LAGI,PADAHAL DATA SUDAH FIX BETUL. F\"C\"\n"
     ]
    },
    {
     "name": "stdin",
     "output_type": "stream",
     "text": [
      "Masukkan label (Positive, Negative, Neutral) Negative\n"
     ]
    },
    {
     "name": "stdout",
     "output_type": "stream",
     "text": [
      "Review: aplikasi lemot, sudah punya akun tapi susah masuk, minta verifikasi ulang malah gagal mulu, orang mau lapor aja ribet. lebih mudah bikin akun sosmed daripada akun pajak di aplikasi. heran\n"
     ]
    },
    {
     "name": "stdin",
     "output_type": "stream",
     "text": [
      "Masukkan label (Positive, Negative, Neutral) Negative\n"
     ]
    },
    {
     "name": "stdout",
     "output_type": "stream",
     "text": [
      "Review: Apknya kalah sama apk warung masukin kode otp efin saja 6x gagal terus ga jelas gimana coba masa\n"
     ]
    },
    {
     "name": "stdin",
     "output_type": "stream",
     "text": [
      "Masukkan label (Positive, Negative, Neutral) Negative\n"
     ]
    },
    {
     "name": "stdout",
     "output_type": "stream",
     "text": [
      "Review: Mau ngurus lupa efin aja ribet, padahal udah pake foto sendiri. Klo nagih pajak getol buat pelayanan sulit.\n"
     ]
    },
    {
     "name": "stdin",
     "output_type": "stream",
     "text": [
      "Masukkan label (Positive, Negative, Neutral) Negative\n"
     ]
    },
    {
     "name": "stdout",
     "output_type": "stream",
     "text": [
      "Review: Aplikasi GK jelas, sudah berulang kali isi data gagal trus\n"
     ]
    },
    {
     "name": "stdin",
     "output_type": "stream",
     "text": [
      "Masukkan label (Positive, Negative, Neutral) Negative\n"
     ]
    },
    {
     "name": "stdout",
     "output_type": "stream",
     "text": [
      "Review: Ok\n"
     ]
    },
    {
     "name": "stdin",
     "output_type": "stream",
     "text": [
      "Masukkan label (Positive, Negative, Neutral) Positive\n"
     ]
    },
    {
     "name": "stdout",
     "output_type": "stream",
     "text": [
      "Review: Sekelas aplikas pemerintahan loh , cacat banget baru bukanudah eror , maunya nerima uang doang tapi gada kualitas sama sekali\n"
     ]
    },
    {
     "name": "stdin",
     "output_type": "stream",
     "text": [
      "Masukkan label (Positive, Negative, Neutral) Negative\n"
     ]
    },
    {
     "name": "stdout",
     "output_type": "stream",
     "text": [
      "Review: Mantap\n"
     ]
    },
    {
     "name": "stdin",
     "output_type": "stream",
     "text": [
      "Masukkan label (Positive, Negative, Neutral) Positive\n"
     ]
    },
    {
     "name": "stdout",
     "output_type": "stream",
     "text": [
      "Review: Susah login terus, sampe2 pernah ke kantor cabangnya ke cs buat minta bantuan udah bisa login waktu itu. Sekarang dicoba beberapa lagi tetep gak bisa login\n"
     ]
    },
    {
     "name": "stdin",
     "output_type": "stream",
     "text": [
      "Masukkan label (Positive, Negative, Neutral) Negative\n"
     ]
    },
    {
     "name": "stdout",
     "output_type": "stream",
     "text": [
      "Review: jelek banget\n"
     ]
    },
    {
     "name": "stdin",
     "output_type": "stream",
     "text": [
      "Masukkan label (Positive, Negative, Neutral) Negative\n"
     ]
    },
    {
     "name": "stdout",
     "output_type": "stream",
     "text": [
      "Review: Mau mgurus pajak aja susah, padahal tinggal terima uang. Efin efin harus ke kantor nian. Dikira kami nganggur apa gimana. Sulitt\n"
     ]
    },
    {
     "name": "stdin",
     "output_type": "stream",
     "text": [
      "Masukkan label (Positive, Negative, Neutral) Negative\n"
     ]
    },
    {
     "name": "stdout",
     "output_type": "stream",
     "text": [
      "Review: Baru msuk suru updet..mala muter2 terus gmn sih ini...payahhhhhhh\n"
     ]
    },
    {
     "name": "stdin",
     "output_type": "stream",
     "text": [
      "Masukkan label (Positive, Negative, Neutral) Negative\n"
     ]
    },
    {
     "name": "stdout",
     "output_type": "stream",
     "text": [
      "Review: Apk susah buka Nya , auto uninstall\n"
     ]
    },
    {
     "name": "stdin",
     "output_type": "stream",
     "text": [
      "Masukkan label (Positive, Negative, Neutral) Negative\n"
     ]
    },
    {
     "name": "stdout",
     "output_type": "stream",
     "text": [
      "Review: Pajak sudah dibayar tapi masih disuruh laporan,trus apa gunanya bayar pajak\n"
     ]
    },
    {
     "name": "stdin",
     "output_type": "stream",
     "text": [
      "Masukkan label (Positive, Negative, Neutral) Negative\n"
     ]
    },
    {
     "name": "stdout",
     "output_type": "stream",
     "text": [
      "Review: Aplikasi sampah, susah bener kagak bisa kirim ulang efin buat lapor spt\n"
     ]
    },
    {
     "name": "stdin",
     "output_type": "stream",
     "text": [
      "Masukkan label (Positive, Negative, Neutral) Negative\n"
     ]
    },
    {
     "name": "stdout",
     "output_type": "stream",
     "text": [
      "Review: Lah cara lapor spt nya gmna kog gk ada menu nya ..\n"
     ]
    },
    {
     "name": "stdin",
     "output_type": "stream",
     "text": [
      "Masukkan label (Positive, Negative, Neutral) Negative\n"
     ]
    },
    {
     "name": "stdout",
     "output_type": "stream",
     "text": [
      "Review: Ini bikin aplikasi berapa sih dana nya? Perusahaan swasta pinjol aja aplikasi nya bagus2.. INI SEKELAS NEGARA APLIKASI ANCUR GAK KARUAN, MASA KALAH AMA APLIKASI PINJOL, HAHA..\n"
     ]
    },
    {
     "name": "stdin",
     "output_type": "stream",
     "text": [
      "Masukkan label (Positive, Negative, Neutral) Negative\n"
     ]
    },
    {
     "name": "stdout",
     "output_type": "stream",
     "text": [
      "Review: Baru download langsung kecewa. Apa uang pajak masyarakat belum cukup banyak ya untuk buat aplikasi receh aja jauh dri kata bagus.\n"
     ]
    },
    {
     "name": "stdin",
     "output_type": "stream",
     "text": [
      "Masukkan label (Positive, Negative, Neutral) Negative\n"
     ]
    },
    {
     "name": "stdout",
     "output_type": "stream",
     "text": [
      "Review: Kecewa aing teh kumaha aplikasi suka eror,padahal tiap bulan juga Bayar pajak dipotong pajak,masa mau report aja susah na minta ampun\n"
     ]
    },
    {
     "name": "stdin",
     "output_type": "stream",
     "text": [
      "Masukkan label (Positive, Negative, Neutral) Negative\n"
     ]
    },
    {
     "name": "stdout",
     "output_type": "stream",
     "text": [
      "Review: Setelah donlod app ini ko dpt wa penipuan an djp online y,\n"
     ]
    },
    {
     "name": "stdin",
     "output_type": "stream",
     "text": [
      "Masukkan label (Positive, Negative, Neutral) Negative\n"
     ]
    },
    {
     "name": "stdout",
     "output_type": "stream",
     "text": [
      "Review: Tidak seperti versi web yg komplit, versi mobil ini justru mengecewakan, kurang fitur\n"
     ]
    },
    {
     "name": "stdin",
     "output_type": "stream",
     "text": [
      "Masukkan label (Positive, Negative, Neutral) Negative\n"
     ]
    },
    {
     "name": "stdout",
     "output_type": "stream",
     "text": [
      "Review: Lebih baik aplikasi BOKEP ketimbang apk resmi tapi konyol banyak masalah dan teknisnya baru belajar udh dipaksain buat apk padahal kemampuannya blum mumpuni, bejar dlu nak PD ahlinya jgn buat negara kita malu, ini sgt memalukan masak apk sekelas negara kalah sama apk bokep\n"
     ]
    },
    {
     "name": "stdin",
     "output_type": "stream",
     "text": [
      "Masukkan label (Positive, Negative, Neutral) Negative\n"
     ]
    },
    {
     "name": "stdout",
     "output_type": "stream",
     "text": [
      "Review: Aplikasi cacat blm mendukung disuruh lapor pajak tapi mempersulit dan ribet buat kami yg jauh dari kota\n"
     ]
    },
    {
     "name": "stdin",
     "output_type": "stream",
     "text": [
      "Masukkan label (Positive, Negative, Neutral) Negative\n"
     ]
    },
    {
     "name": "stdout",
     "output_type": "stream",
     "text": [
      "Review: Aplikasi negara emang bobrok udh gak heran lagi\n"
     ]
    },
    {
     "name": "stdin",
     "output_type": "stream",
     "text": [
      "Masukkan label (Positive, Negative, Neutral) Negative\n"
     ]
    },
    {
     "name": "stdout",
     "output_type": "stream",
     "text": [
      "Review: Ribet, tidak efisien, Lemot, Mohon dipermudah.\n"
     ]
    },
    {
     "name": "stdin",
     "output_type": "stream",
     "text": [
      "Masukkan label (Positive, Negative, Neutral) Negative\n"
     ]
    },
    {
     "name": "stdout",
     "output_type": "stream",
     "text": [
      "Review: Sangat buruk, sulit ,\n"
     ]
    },
    {
     "name": "stdin",
     "output_type": "stream",
     "text": [
      "Masukkan label (Positive, Negative, Neutral) Negative\n"
     ]
    },
    {
     "name": "stdout",
     "output_type": "stream",
     "text": [
      "Review: Salah satu aplikasi tidak berguna dari pemerintah live chat berakhir dengan sendirinya tlpon ke nomer 1500200 juga sama saja\n"
     ]
    },
    {
     "name": "stdin",
     "output_type": "stream",
     "text": [
      "Masukkan label (Positive, Negative, Neutral) Negative\n"
     ]
    },
    {
     "name": "stdout",
     "output_type": "stream",
     "text": [
      "Review: Aplikasi dibuat untuk menyusahkan... lola bedddd anjir.. baikin dong aplikasinya .hermannnnnnn\n"
     ]
    },
    {
     "name": "stdin",
     "output_type": "stream",
     "text": [
      "Masukkan label (Positive, Negative, Neutral) Negative\n"
     ]
    },
    {
     "name": "stdout",
     "output_type": "stream",
     "text": [
      "Review: ribettttt\n"
     ]
    },
    {
     "name": "stdin",
     "output_type": "stream",
     "text": [
      "Masukkan label (Positive, Negative, Neutral) Negative\n"
     ]
    },
    {
     "name": "stdout",
     "output_type": "stream",
     "text": [
      "Review: aplikasi ga guna! jelek bgt kualitasnya\n"
     ]
    },
    {
     "name": "stdin",
     "output_type": "stream",
     "text": [
      "Masukkan label (Positive, Negative, Neutral) Negative\n"
     ]
    },
    {
     "name": "stdout",
     "output_type": "stream",
     "text": [
      "Review: APLIKASI PALING USELESSS!!!!! DUIT PAJAK RAKYAT TOLONG DONG DIPAKAI BUAT HAL2 YG BERMANFAAT KAYA M PAJAK INI DIBENERIN!!!! KITA MAU BAYAR AJA DIPERSULIT !!!!!!!!\n"
     ]
    },
    {
     "name": "stdin",
     "output_type": "stream",
     "text": [
      "Masukkan label (Positive, Negative, Neutral) Negative\n"
     ]
    },
    {
     "name": "stdout",
     "output_type": "stream",
     "text": [
      "Review: Critical Eror Occurred! ayolah katanya masuk kerja dipajak susah seleksinya, masa aplikasinya gabisa dipakai sama sekali kya gini hadeh\n"
     ]
    },
    {
     "name": "stdin",
     "output_type": "stream",
     "text": [
      "Masukkan label (Positive, Negative, Neutral) Negative\n"
     ]
    },
    {
     "name": "stdout",
     "output_type": "stream",
     "text": [
      "Review: Aplikasi sering error mau di permudah tapi di persulit\n"
     ]
    },
    {
     "name": "stdin",
     "output_type": "stream",
     "text": [
      "Masukkan label (Positive, Negative, Neutral) Negative\n"
     ]
    },
    {
     "name": "stdout",
     "output_type": "stream",
     "text": [
      "Review: nggak guna banget punya aplikasi\n"
     ]
    },
    {
     "name": "stdin",
     "output_type": "stream",
     "text": [
      "Masukkan label (Positive, Negative, Neutral) Negative\n"
     ]
    },
    {
     "name": "stdout",
     "output_type": "stream",
     "text": [
      "Review: Jelek banget aplikasinya. Kami dituntut cepet lapor pajak, tapi ada aplikasi yang kami pikir bisa cepet selesai tapi malah aplikasinya jelek. Gak guna.\n"
     ]
    },
    {
     "name": "stdin",
     "output_type": "stream",
     "text": [
      "Masukkan label (Positive, Negative, Neutral) Negative\n"
     ]
    },
    {
     "name": "stdout",
     "output_type": "stream",
     "text": [
      "Review: Aplikasinya benar-benar membuat pusing, berulang kali gagal kalau udh ke tahap selanjutnya\n"
     ]
    },
    {
     "name": "stdin",
     "output_type": "stream",
     "text": [
      "Masukkan label (Positive, Negative, Neutral) Negative\n"
     ]
    },
    {
     "name": "stdout",
     "output_type": "stream",
     "text": [
      "Review: Mau lapor pajak aplikasi eror mulu, gak lapor pajak denda, pemerintah bisa nya bikin susah aja\n"
     ]
    },
    {
     "name": "stdin",
     "output_type": "stream",
     "text": [
      "Masukkan label (Positive, Negative, Neutral) Negative\n"
     ]
    },
    {
     "name": "stdout",
     "output_type": "stream",
     "text": [
      "Review: baru buka langsung error, mau login error lg, nggak bisa di pake, mau laporan nggak bisa\n"
     ]
    },
    {
     "name": "stdin",
     "output_type": "stream",
     "text": [
      "Masukkan label (Positive, Negative, Neutral) Negative\n"
     ]
    },
    {
     "name": "stdout",
     "output_type": "stream",
     "text": [
      "Review: Sangat membantu wajib pajak\n"
     ]
    },
    {
     "name": "stdin",
     "output_type": "stream",
     "text": [
      "Masukkan label (Positive, Negative, Neutral) Positive\n"
     ]
    },
    {
     "name": "stdout",
     "output_type": "stream",
     "text": [
      "Review: Baru download aplikasi eror mulu gimana mau lapor spt,,tolong di perbaiki.\n"
     ]
    },
    {
     "name": "stdin",
     "output_type": "stream",
     "text": [
      "Masukkan label (Positive, Negative, Neutral) Negative\n"
     ]
    },
    {
     "name": "stdout",
     "output_type": "stream",
     "text": [
      "Review: Error mulu\n"
     ]
    },
    {
     "name": "stdin",
     "output_type": "stream",
     "text": [
      "Masukkan label (Positive, Negative, Neutral) Negative\n"
     ]
    },
    {
     "name": "stdout",
     "output_type": "stream",
     "text": [
      "Review: Parah sekali, seharusnya aplikasi seperti ini membantu dan mempermudah sehingga waktu dan biaya tidak terbuang sia-sia\n"
     ]
    },
    {
     "name": "stdin",
     "output_type": "stream",
     "text": [
      "Masukkan label (Positive, Negative, Neutral) Negative\n"
     ]
    },
    {
     "name": "stdout",
     "output_type": "stream",
     "text": [
      "Review: Ok mantap\n"
     ]
    },
    {
     "name": "stdin",
     "output_type": "stream",
     "text": [
      "Masukkan label (Positive, Negative, Neutral) Positive\n"
     ]
    },
    {
     "name": "stdout",
     "output_type": "stream",
     "text": [
      "Review: Banyak kekurangan\n"
     ]
    },
    {
     "name": "stdin",
     "output_type": "stream",
     "text": [
      "Masukkan label (Positive, Negative, Neutral) Negative\n"
     ]
    },
    {
     "name": "stdout",
     "output_type": "stream",
     "text": [
      "Review: Bgini kualitas pemerintah kita bikin aplikasih tdk usah buat aplikasih om kualitasnya miris\n"
     ]
    },
    {
     "name": "stdin",
     "output_type": "stream",
     "text": [
      "Masukkan label (Positive, Negative, Neutral) Negative\n"
     ]
    },
    {
     "name": "stdout",
     "output_type": "stream",
     "text": [
      "Review: Sbetulnya saya heran, kenapa saya disuruh Update padahal di Playstore tidak ada tulisan \"update\" Whyyy???? Saya makin heran ternyata gak cuma saya yg merasakan 😂😂.\n"
     ]
    },
    {
     "name": "stdin",
     "output_type": "stream",
     "text": [
      "Masukkan label (Positive, Negative, Neutral) Negative\n"
     ]
    },
    {
     "name": "stdout",
     "output_type": "stream",
     "text": [
      "Review: Aplikasi nya sering eror jadi kesel\n"
     ]
    },
    {
     "name": "stdin",
     "output_type": "stream",
     "text": [
      "Masukkan label (Positive, Negative, Neutral) Negative\n"
     ]
    },
    {
     "name": "stdout",
     "output_type": "stream",
     "text": [
      "Review: Error, force close, input otp error parah2\n"
     ]
    },
    {
     "name": "stdin",
     "output_type": "stream",
     "text": [
      "Masukkan label (Positive, Negative, Neutral) Negative\n"
     ]
    },
    {
     "name": "stdout",
     "output_type": "stream",
     "text": [
      "Review: Aplikasi tolol, bukannya mempermudah\n"
     ]
    },
    {
     "name": "stdin",
     "output_type": "stream",
     "text": [
      "Masukkan label (Positive, Negative, Neutral) Negative\n"
     ]
    },
    {
     "name": "stdout",
     "output_type": "stream",
     "text": [
      "Review: Parah memang kita bayar pajak kita yg di persulit aplikasi gk guna buat apa di buat masa baru masuk sudah eroorr parah\n"
     ]
    },
    {
     "name": "stdin",
     "output_type": "stream",
     "text": [
      "Masukkan label (Positive, Negative, Neutral) Negative\n"
     ]
    },
    {
     "name": "stdout",
     "output_type": "stream",
     "text": [
      "Review: Ok\n"
     ]
    },
    {
     "name": "stdin",
     "output_type": "stream",
     "text": [
      "Masukkan label (Positive, Negative, Neutral) Positive\n"
     ]
    },
    {
     "name": "stdout",
     "output_type": "stream",
     "text": [
      "Review: Bobrok sekedar buat aplikasi menggunakan uang anggaran tappi gak bermanfaat, gini mau narik ppn 12% pph 21 sudah membuat masyarakat tercekik bos. Antara kebijakan dan pelaksana wajib pajak tidak di pertimbangkan\n"
     ]
    },
    {
     "name": "stdin",
     "output_type": "stream",
     "text": [
      "Masukkan label (Positive, Negative, Neutral) Negative\n"
     ]
    },
    {
     "name": "stdout",
     "output_type": "stream",
     "text": [
      "Review: Crash ancur\n"
     ]
    },
    {
     "name": "stdin",
     "output_type": "stream",
     "text": [
      "Masukkan label (Positive, Negative, Neutral) Negative\n"
     ]
    },
    {
     "name": "stdout",
     "output_type": "stream",
     "text": [
      "Review: Ealah baru aja install langsung error, pemerintah pemerintah, kemana aje tuh uang pajak.\n"
     ]
    },
    {
     "name": "stdin",
     "output_type": "stream",
     "text": [
      "Masukkan label (Positive, Negative, Neutral) Negative\n"
     ]
    },
    {
     "name": "stdout",
     "output_type": "stream",
     "text": [
      "Review: Aplikasi tolol di buat ga guna baget\n"
     ]
    },
    {
     "name": "stdin",
     "output_type": "stream",
     "text": [
      "Masukkan label (Positive, Negative, Neutral) Negative\n"
     ]
    },
    {
     "name": "stdout",
     "output_type": "stream",
     "text": [
      "Review: Aplikasi gak guna\n"
     ]
    },
    {
     "name": "stdin",
     "output_type": "stream",
     "text": [
      "Masukkan label (Positive, Negative, Neutral) Negative\n"
     ]
    },
    {
     "name": "stdout",
     "output_type": "stream",
     "text": [
      "Review: Baru buka langsung tutup aplikasi sendiri\n"
     ]
    },
    {
     "name": "stdin",
     "output_type": "stream",
     "text": [
      "Masukkan label (Positive, Negative, Neutral) Negative\n"
     ]
    },
    {
     "name": "stdout",
     "output_type": "stream",
     "text": [
      "Review: Parah ini, sekelas aplikasi Pemerintah pusat error terus\n"
     ]
    },
    {
     "name": "stdin",
     "output_type": "stream",
     "text": [
      "Masukkan label (Positive, Negative, Neutral) Negative\n"
     ]
    },
    {
     "name": "stdout",
     "output_type": "stream",
     "text": [
      "Review: Lupa efin tidak bisa verifikasi\n"
     ]
    },
    {
     "name": "stdin",
     "output_type": "stream",
     "text": [
      "Masukkan label (Positive, Negative, Neutral) Negative\n"
     ]
    },
    {
     "name": "stdout",
     "output_type": "stream",
     "text": [
      "Review: Aplikasinya error terus. Percuma ada aplikasi tp error terus. Gak mempermudah\n"
     ]
    },
    {
     "name": "stdin",
     "output_type": "stream",
     "text": [
      "Masukkan label (Positive, Negative, Neutral) Negative\n"
     ]
    },
    {
     "name": "stdout",
     "output_type": "stream",
     "text": [
      "Review: Appnya ga bisa dibuka, tertulis Fatal Error JS Function segala macem. Disuruh update tapi pas dicek ko ga ada tulisan Update\n"
     ]
    },
    {
     "name": "stdin",
     "output_type": "stream",
     "text": [
      "Masukkan label (Positive, Negative, Neutral) Negative\n"
     ]
    },
    {
     "name": "stdout",
     "output_type": "stream",
     "text": [
      "Review: Sangat membantu\n"
     ]
    },
    {
     "name": "stdin",
     "output_type": "stream",
     "text": [
      "Masukkan label (Positive, Negative, Neutral) Positive\n"
     ]
    },
    {
     "name": "stdout",
     "output_type": "stream",
     "text": [
      "Review: BENERIN DULU APLIKASINYA LAH, RAKYAT UDAH SURUH BAYAR PAJAK, APLIKASI BUSUK MACAM TAIK JUGA GA DIBENERIN. TIAP MAU BUKA CAMERA ADA AJA ERRORNYA. JANGAN CUMAN SENENG NARIKIN PAJAK RAKYAT AJA KLEAN!!!\n"
     ]
    },
    {
     "name": "stdin",
     "output_type": "stream",
     "text": [
      "Masukkan label (Positive, Negative, Neutral) Negative\n"
     ]
    },
    {
     "name": "stdout",
     "output_type": "stream",
     "text": [
      "Review: Mungkin saya orang ke 273.8jt dari penduduk indonesia yg memberi rating 1 pada aplikasi ini, sayang tak ada rating 0, kalau ada saya pilih yg 0\n"
     ]
    },
    {
     "name": "stdin",
     "output_type": "stream",
     "text": [
      "Masukkan label (Positive, Negative, Neutral) Negative\n"
     ]
    },
    {
     "name": "stdout",
     "output_type": "stream",
     "text": [
      "Review: Ga guna\n"
     ]
    },
    {
     "name": "stdin",
     "output_type": "stream",
     "text": [
      "Masukkan label (Positive, Negative, Neutral) Negative\n"
     ]
    },
    {
     "name": "stdout",
     "output_type": "stream",
     "text": [
      "Review: Parah nyet\n"
     ]
    },
    {
     "name": "stdin",
     "output_type": "stream",
     "text": [
      "Masukkan label (Positive, Negative, Neutral) Negative\n"
     ]
    },
    {
     "name": "stdout",
     "output_type": "stream",
     "text": [
      "Review: Aplikasi cacat restart terus\n"
     ]
    },
    {
     "name": "stdin",
     "output_type": "stream",
     "text": [
      "Masukkan label (Positive, Negative, Neutral) Negative\n"
     ]
    },
    {
     "name": "stdout",
     "output_type": "stream",
     "text": [
      "Review: Aplikasi gakbisa dibuka\n"
     ]
    },
    {
     "name": "stdin",
     "output_type": "stream",
     "text": [
      "Masukkan label (Positive, Negative, Neutral) Negative\n"
     ]
    },
    {
     "name": "stdout",
     "output_type": "stream",
     "text": [
      "Review: Aplikasi yg sangat buruk, ngga di website maupun aplikasi sama saja,bukan nya mebg update untuk memperbaiki kualitas pengguna malah tidak ada perkembangan\n"
     ]
    },
    {
     "name": "stdin",
     "output_type": "stream",
     "text": [
      "Masukkan label (Positive, Negative, Neutral) Negative\n"
     ]
    },
    {
     "name": "stdout",
     "output_type": "stream",
     "text": [
      "Review: error terus pas verifikasi wajah, kacau!!!\n"
     ]
    },
    {
     "name": "stdin",
     "output_type": "stream",
     "text": [
      "Masukkan label (Positive, Negative, Neutral) Negative\n"
     ]
    },
    {
     "name": "stdout",
     "output_type": "stream",
     "text": [
      "Review: Link aktivasinya tidak bisa diterima. Sudah coba berkali-kali tetap tidak ada link yang masuk ke email terdaftar.\n"
     ]
    },
    {
     "name": "stdin",
     "output_type": "stream",
     "text": [
      "Masukkan label (Positive, Negative, Neutral) Negative\n"
     ]
    },
    {
     "name": "stdout",
     "output_type": "stream",
     "text": [
      "Review: Tidak bisa dapatkan efin eror terus padahal data sudah benar\n"
     ]
    },
    {
     "name": "stdin",
     "output_type": "stream",
     "text": [
      "Masukkan label (Positive, Negative, Neutral) Negative\n"
     ]
    },
    {
     "name": "stdout",
     "output_type": "stream",
     "text": [
      "Review: Hadehh, bukan nya mempermudah hidup malah mempersulit di app 🤧 (12/1/24) Lagi-lagi saya kecewa dgn app ini, kenapa sih suka sekali buat orang naik darah? Apa ga ada niat pemerintah utk memperbaiki kualitas app nya? Makin hari bukan makin bagus, ini malah makin eror 🤧 jangan makan gaji buta aja dong. Kami disuruh bayar pajak. Tapi app nya ga banget kualitasnya 🤢\n"
     ]
    },
    {
     "name": "stdin",
     "output_type": "stream",
     "text": [
      "Masukkan label (Positive, Negative, Neutral) Negative\n"
     ]
    },
    {
     "name": "stdout",
     "output_type": "stream",
     "text": [
      "Review: Anehhh mau lapor pajak lewat website pun di persulit dan selalu terjadi kesalawan teruss klo memang GK niat bikin website sama aplikasinya mending GK usah di buat ribett bgtt mau lapor aja sulitt pantes aja PD males mau lapor pajak org ribett nya minta ampun\n"
     ]
    },
    {
     "name": "stdin",
     "output_type": "stream",
     "text": [
      "Masukkan label (Positive, Negative, Neutral) Negative\n"
     ]
    },
    {
     "name": "stdout",
     "output_type": "stream",
     "text": [
      "Review: Asli udah di download disuruh update, ini apasih yg di update? Udah 5 jam nungguin loading masih aja begitu\n"
     ]
    },
    {
     "name": "stdin",
     "output_type": "stream",
     "text": [
      "Masukkan label (Positive, Negative, Neutral) Negative\n"
     ]
    },
    {
     "name": "stdout",
     "output_type": "stream",
     "text": [
      "Review: Viralin Biar Pemerintah Bener Berbenah Jangan Cuma Omong Doang. Aplikasi ERROR.!!\n"
     ]
    },
    {
     "name": "stdin",
     "output_type": "stream",
     "text": [
      "Masukkan label (Positive, Negative, Neutral) Negative\n"
     ]
    },
    {
     "name": "stdout",
     "output_type": "stream",
     "text": [
      "Review: Bisa minta updaten terbaru untuk samsungA33 ndak?\n"
     ]
    },
    {
     "name": "stdin",
     "output_type": "stream",
     "text": [
      "Masukkan label (Positive, Negative, Neutral) Negative\n"
     ]
    },
    {
     "name": "stdout",
     "output_type": "stream",
     "text": [
      "Review: Sok-sokan digitalisasi, tp asal bikin aplikasi. Pajak kita dibuang untuk aplikasi yg sia-sia.\n"
     ]
    },
    {
     "name": "stdin",
     "output_type": "stream",
     "text": [
      "Masukkan label (Positive, Negative, Neutral) Negative\n"
     ]
    },
    {
     "name": "stdout",
     "output_type": "stream",
     "text": [
      "Review: Kecewa pelayanannya\n"
     ]
    },
    {
     "name": "stdin",
     "output_type": "stream",
     "text": [
      "Masukkan label (Positive, Negative, Neutral) Negative\n"
     ]
    },
    {
     "name": "stdout",
     "output_type": "stream",
     "text": [
      "Review: ribet mau liat secara online aja harus dtg ke kantor pajak dulu. padahal penting mau liat pajak dr rumah dan taat pajak. aplikasi bobrok.\n"
     ]
    },
    {
     "name": "stdin",
     "output_type": "stream",
     "text": [
      "Masukkan label (Positive, Negative, Neutral) Negative\n"
     ]
    },
    {
     "name": "stdout",
     "output_type": "stream",
     "text": [
      "Review: aplikasi pajak cacat apalikasi apaan begini\n"
     ]
    },
    {
     "name": "stdin",
     "output_type": "stream",
     "text": [
      "Masukkan label (Positive, Negative, Neutral) Negative\n"
     ]
    },
    {
     "name": "stdout",
     "output_type": "stream",
     "text": [
      "Review: Apa sih aplikasi ini gak jelas Mala closing sendiri lagi di daftarin juga,,,kalau emang gak bisa ngebantu mending gak usah diadain,,,nambah ribet aja,,ngeselin\n"
     ]
    },
    {
     "name": "stdin",
     "output_type": "stream",
     "text": [
      "Masukkan label (Positive, Negative, Neutral) Negative\n"
     ]
    },
    {
     "name": "stdout",
     "output_type": "stream",
     "text": [
      "Review: Aplikasi yang susah untuk digunakan, bikin geram🥴🤔, bisa tidak diperbaiki lagi?\n"
     ]
    },
    {
     "name": "stdin",
     "output_type": "stream",
     "text": [
      "Masukkan label (Positive, Negative, Neutral) Negative\n"
     ]
    },
    {
     "name": "stdout",
     "output_type": "stream",
     "text": [
      "Review: Live pajak ga bisa, 1500200 ga bisa. Apa coba yang bisa membantu?\n"
     ]
    },
    {
     "name": "stdin",
     "output_type": "stream",
     "text": [
      "Masukkan label (Positive, Negative, Neutral) Negative\n"
     ]
    },
    {
     "name": "stdout",
     "output_type": "stream",
     "text": [
      "Review: Semua yg dari pemerintahan tidak ada yg berguna bagi rakyat hanya memberatkan dan menyusahkan saja.. aplikasi sampah IT yg tidak becus. Tidak mau menerima masukan rakyat negara hancur dan rusak bila di pimpin orang asal asalan\n"
     ]
    },
    {
     "name": "stdin",
     "output_type": "stream",
     "text": [
      "Masukkan label (Positive, Negative, Neutral) Negative\n"
     ]
    },
    {
     "name": "stdout",
     "output_type": "stream",
     "text": [
      "Review: Ini aplikasi gimana sih? Masa baru aja download udah disuruh update? Gk jelas bgt mana updatenya gk selesai-selesai. Hadeh mau taat pajak tapi alurnya aja susah bgt. Belum lagi propertinya gk mendukung\n"
     ]
    },
    {
     "name": "stdin",
     "output_type": "stream",
     "text": [
      "Masukkan label (Positive, Negative, Neutral) Negative\n"
     ]
    },
    {
     "name": "stdout",
     "output_type": "stream",
     "text": [
      "Review: Ini belum optimal ya aplikasi nyaa developer ,udah tahap kirim verifikasi ,tapi tak kunjung datang ke email ,itu nyangkut dimana developer\n"
     ]
    },
    {
     "name": "stdin",
     "output_type": "stream",
     "text": [
      "Masukkan label (Positive, Negative, Neutral) Negative\n"
     ]
    },
    {
     "name": "stdout",
     "output_type": "stream",
     "text": [
      "Review: Perlu pengembangan untuk pemegang IT Setidaknya biarkan milenial saja yg mengurusi teknologi agar tidak bobrok sprti ini\n"
     ]
    },
    {
     "name": "stdin",
     "output_type": "stream",
     "text": [
      "Masukkan label (Positive, Negative, Neutral) Negative\n"
     ]
    },
    {
     "name": "stdout",
     "output_type": "stream",
     "text": [
      "Review: Download aplikasi kirain bakal membantu, ternyata tidak sama sekali.\n"
     ]
    },
    {
     "name": "stdin",
     "output_type": "stream",
     "text": [
      "Masukkan label (Positive, Negative, Neutral) Negative\n"
     ]
    },
    {
     "name": "stdout",
     "output_type": "stream",
     "text": [
      "Review: Apapun pilihan menu/pertanyaan knp selalu ngaarah otomatis ke lupa efin,dan menunggunya luama bgt ,yg begini2 susah klo pas mungut pajak cepet 🤭\n"
     ]
    },
    {
     "name": "stdin",
     "output_type": "stream",
     "text": [
      "Masukkan label (Positive, Negative, Neutral) Negative\n"
     ]
    },
    {
     "name": "stdout",
     "output_type": "stream",
     "text": [
      "Review: Kode verikfikasi tidak terkirim kirim, baik ke e-mail maupun ke sms, sudah saya cek ke spam juga tidak masuk, pulsa nomor saya juga tidak 0. Saya ulang 2 kali masih juga ga terkirim.\n"
     ]
    },
    {
     "name": "stdin",
     "output_type": "stream",
     "text": [
      "Masukkan label (Positive, Negative, Neutral) Negative\n"
     ]
    },
    {
     "name": "stdout",
     "output_type": "stream",
     "text": [
      "Review: SAYA HERAN DENGAN APLIKASI PEMERINTAH INI? SUDAH DINAIKKAN PAJAK, TAPI KUALITAS APLIKASI KAYAK APLIKASI SCAM. KALAU MAU REKRUT ORANG IT, YANG BENAR LAH, BUKAN ASAL BISA JAWAB PSIKOTES DOANG. APLIKASI INI CUMA BUAT FORMALITAS SAJA ATAU MAU MEMPERMUDAH LAYANAN? TOLONG DIRUBAH LAH CARA KERJANYA\n"
     ]
    },
    {
     "name": "stdin",
     "output_type": "stream",
     "text": [
      "Masukkan label (Positive, Negative, Neutral) Negative\n"
     ]
    },
    {
     "name": "stdout",
     "output_type": "stream",
     "text": [
      "Review: Aplikasi Kurang Membantu, Maunya Apa Nih...Di Chat,kring, Email Kaga Ada Balasan Sama Sekali\n"
     ]
    },
    {
     "name": "stdin",
     "output_type": "stream",
     "text": [
      "Masukkan label (Positive, Negative, Neutral) Negative\n"
     ]
    },
    {
     "name": "stdout",
     "output_type": "stream",
     "text": [
      "Review: Coba\n"
     ]
    },
    {
     "name": "stdin",
     "output_type": "stream",
     "text": [
      "Masukkan label (Positive, Negative, Neutral) Neutral\n"
     ]
    },
    {
     "name": "stdout",
     "output_type": "stream",
     "text": [
      "Review: Ini saya mau buat npwp, daftar nya astagfirullah, gak heran masyrakat banyak yang main slot karna lebih gampang daftaf slot daripda npwp\n"
     ]
    },
    {
     "name": "stdin",
     "output_type": "stream",
     "text": [
      "Masukkan label (Positive, Negative, Neutral) Negative\n"
     ]
    },
    {
     "name": "stdout",
     "output_type": "stream",
     "text": [
      "Review: Oke\n"
     ]
    },
    {
     "name": "stdin",
     "output_type": "stream",
     "text": [
      "Masukkan label (Positive, Negative, Neutral) Positive\n"
     ]
    },
    {
     "name": "stdout",
     "output_type": "stream",
     "text": [
      "Review: Lupa efin susah bener dapetnya lagi,sudahmasukin data sesuai di npwp ya verif gagal terus. Parah bener apk nya,buang buang kuota.\n"
     ]
    },
    {
     "name": "stdin",
     "output_type": "stream",
     "text": [
      "Masukkan label (Positive, Negative, Neutral) Negative\n"
     ]
    },
    {
     "name": "stdout",
     "output_type": "stream",
     "text": [
      "Review: Mantap.\n"
     ]
    },
    {
     "name": "stdin",
     "output_type": "stream",
     "text": [
      "Masukkan label (Positive, Negative, Neutral) Positive\n"
     ]
    },
    {
     "name": "stdout",
     "output_type": "stream",
     "text": [
      "Review: Ini aplikasi paling busuk yang pernah ku install.\n"
     ]
    },
    {
     "name": "stdin",
     "output_type": "stream",
     "text": [
      "Masukkan label (Positive, Negative, Neutral) Negative\n"
     ]
    },
    {
     "name": "stdout",
     "output_type": "stream",
     "text": [
      "Review: Aplikasi Error saat dibuka pertama\n"
     ]
    },
    {
     "name": "stdin",
     "output_type": "stream",
     "text": [
      "Masukkan label (Positive, Negative, Neutral) Negative\n"
     ]
    },
    {
     "name": "stdout",
     "output_type": "stream",
     "text": [
      "Review: Lemot\n"
     ]
    },
    {
     "name": "stdin",
     "output_type": "stream",
     "text": [
      "Masukkan label (Positive, Negative, Neutral) Negative\n"
     ]
    },
    {
     "name": "stdout",
     "output_type": "stream",
     "text": [
      "Review: mau bayar pajak aja sulit sekali, pake gk bisa segala provide tri dan axis. sekala negara padahal . dh gitu APPnya gk bisa di pencet daftarnya\n"
     ]
    },
    {
     "name": "stdin",
     "output_type": "stream",
     "text": [
      "Masukkan label (Positive, Negative, Neutral) Negative\n"
     ]
    },
    {
     "name": "stdout",
     "output_type": "stream",
     "text": [
      "Review: aplikasi bagus\n"
     ]
    },
    {
     "name": "stdin",
     "output_type": "stream",
     "text": [
      "Masukkan label (Positive, Negative, Neutral) Positive\n"
     ]
    },
    {
     "name": "stdout",
     "output_type": "stream",
     "text": [
      "Review: Bug terus, sekali bug lama\n"
     ]
    },
    {
     "name": "stdin",
     "output_type": "stream",
     "text": [
      "Masukkan label (Positive, Negative, Neutral) Negative\n"
     ]
    },
    {
     "name": "stdout",
     "output_type": "stream",
     "text": [
      "Review: Aplikasi bukannya bantu malah makin kesel. Tolol IT developmentnya. Sruh update tapi malah error, d playstore aja ga ada updatenya. Gmna sih.. Aplikasi tolol.\n"
     ]
    },
    {
     "name": "stdin",
     "output_type": "stream",
     "text": [
      "Masukkan label (Positive, Negative, Neutral) Negative\n"
     ]
    },
    {
     "name": "stdout",
     "output_type": "stream",
     "text": [
      "Review: Sumpah ini aplikasi pemerintahan ga ada yang benar benar bekerja dengan baik. Mau masuk aja ga bisa. Apalagi udah bisa masuk dan mau verifikasi gagal terus. Padahal signal bagus. Semua data sudah saya teliti dengan seksama tapi gagal. Aneh. Untuk apa menciptakan aplikasi online kalau memang sistimnya seperti ini. Hapus Saja. Memang pemerintah itu selalu membuat ribet warga nya. Tidak ada kemudahan sama sekali.\n"
     ]
    },
    {
     "name": "stdin",
     "output_type": "stream",
     "text": [
      "Masukkan label (Positive, Negative, Neutral) Negative\n"
     ]
    },
    {
     "name": "stdout",
     "output_type": "stream",
     "text": [
      "Review: Burik\n"
     ]
    },
    {
     "name": "stdin",
     "output_type": "stream",
     "text": [
      "Masukkan label (Positive, Negative, Neutral) Negative\n"
     ]
    },
    {
     "name": "stdout",
     "output_type": "stream",
     "text": [
      "Review: Dibuka susah, gimana nau bantu kita bayar pajak ini apk 😤\n"
     ]
    },
    {
     "name": "stdin",
     "output_type": "stream",
     "text": [
      "Masukkan label (Positive, Negative, Neutral) Negative\n"
     ]
    },
    {
     "name": "stdout",
     "output_type": "stream",
     "text": [
      "Review: aplikasi sesat, mending di hapus saja lah ..\n"
     ]
    },
    {
     "name": "stdin",
     "output_type": "stream",
     "text": [
      "Masukkan label (Positive, Negative, Neutral) Negative\n"
     ]
    },
    {
     "name": "stdout",
     "output_type": "stream",
     "text": [
      "Review: Aplikasi nya bobrokk g niat amat buat apk..\n"
     ]
    },
    {
     "name": "stdin",
     "output_type": "stream",
     "text": [
      "Masukkan label (Positive, Negative, Neutral) Negative\n"
     ]
    },
    {
     "name": "stdout",
     "output_type": "stream",
     "text": [
      "Review: Aplikasi pajak tapi tidak bisa untuk lapor pajak.. ditanya ke petugas katanya \"kita kan sudah online jadi tidak perlu aplikasi\" saya hanya bisa menjawab \"hah??!!\" Jawaban macam apa itu.. aplikasi untuk mempermudah tp malah tidak digunakan.. lucu memang.. anggaran oh anggaran\n"
     ]
    },
    {
     "name": "stdin",
     "output_type": "stream",
     "text": [
      "Masukkan label (Positive, Negative, Neutral) Negative\n"
     ]
    },
    {
     "name": "stdout",
     "output_type": "stream",
     "text": [
      "Review: aplikasi apa ini? ga guna banget eror mulu\n"
     ]
    },
    {
     "name": "stdin",
     "output_type": "stream",
     "text": [
      "Masukkan label (Positive, Negative, Neutral) Negative\n"
     ]
    },
    {
     "name": "stdout",
     "output_type": "stream",
     "text": [
      "Review: Gajelas banget aplikasinya eror mulu\n"
     ]
    },
    {
     "name": "stdin",
     "output_type": "stream",
     "text": [
      "Masukkan label (Positive, Negative, Neutral) Negative\n"
     ]
    },
    {
     "name": "stdout",
     "output_type": "stream",
     "text": [
      "Review: Baru juga mau pakai.. Udah error aja aplikasinya payah\n"
     ]
    },
    {
     "name": "stdin",
     "output_type": "stream",
     "text": [
      "Masukkan label (Positive, Negative, Neutral) Negative\n"
     ]
    },
    {
     "name": "stdout",
     "output_type": "stream",
     "text": [
      "Review: LAPOR LUPA EFIN TAPI GA DAPET KODE KONFIRMASI. ANEH\n"
     ]
    },
    {
     "name": "stdin",
     "output_type": "stream",
     "text": [
      "Masukkan label (Positive, Negative, Neutral) Negative\n"
     ]
    },
    {
     "name": "stdout",
     "output_type": "stream",
     "text": [
      "Review: Gk bisa dibuka\n"
     ]
    },
    {
     "name": "stdin",
     "output_type": "stream",
     "text": [
      "Masukkan label (Positive, Negative, Neutral) Negative\n"
     ]
    },
    {
     "name": "stdout",
     "output_type": "stream",
     "text": [
      "Review: Kita udah bayar pajak, mau bikin NPWP online aja susah nya minta ampun. Heran sama semua aplikasi pemerintah ga ada yg bener\n"
     ]
    },
    {
     "name": "stdin",
     "output_type": "stream",
     "text": [
      "Masukkan label (Positive, Negative, Neutral) Negative\n"
     ]
    },
    {
     "name": "stdout",
     "output_type": "stream",
     "text": [
      "Review: Percuma bikin aplikasi, kalo apa apa harus ke kantor djp\n"
     ]
    },
    {
     "name": "stdin",
     "output_type": "stream",
     "text": [
      "Masukkan label (Positive, Negative, Neutral) Negative\n"
     ]
    },
    {
     "name": "stdout",
     "output_type": "stream",
     "text": [
      "Review: Tidak membantu, layanan 1500200 juga tidak membantu pulsa udh abis 50rb cuma sampe sedang sibuk doang. Trmksh\n"
     ]
    },
    {
     "name": "stdin",
     "output_type": "stream",
     "text": [
      "Masukkan label (Positive, Negative, Neutral) Negative\n"
     ]
    },
    {
     "name": "stdout",
     "output_type": "stream",
     "text": [
      "Review: Diperbaiki lah\n"
     ]
    },
    {
     "name": "stdin",
     "output_type": "stream",
     "text": [
      "Masukkan label (Positive, Negative, Neutral) Negative\n"
     ]
    },
    {
     "name": "stdout",
     "output_type": "stream",
     "text": [
      "Review: Mohon diperbaiki.. Aplikasi sekelas instansi pemerintah masa buat masuk login aja gak bisa2.. Kacau\n"
     ]
    },
    {
     "name": "stdin",
     "output_type": "stream",
     "text": [
      "Masukkan label (Positive, Negative, Neutral) Negative\n"
     ]
    },
    {
     "name": "stdout",
     "output_type": "stream",
     "text": [
      "Review: Apk tai\n"
     ]
    },
    {
     "name": "stdin",
     "output_type": "stream",
     "text": [
      "Masukkan label (Positive, Negative, Neutral) Negative\n"
     ]
    },
    {
     "name": "stdout",
     "output_type": "stream",
     "text": [
      "Review: Baru saja download tapi minta pembaruan lagi... Apk apaan ini 🤦‍♀️🤦‍♀️🤦‍♀️🤦‍♀️ kacau\n"
     ]
    },
    {
     "name": "stdin",
     "output_type": "stream",
     "text": [
      "Masukkan label (Positive, Negative, Neutral) Negative\n"
     ]
    },
    {
     "name": "stdout",
     "output_type": "stream",
     "text": [
      "Review: Aplikasi tidak berguna lupa ifin salah terus nama kecamatan dan kota padahal sudah sesuai KTP. Lebih baik hapus saja aplikasi ya dari play store\n"
     ]
    },
    {
     "name": "stdin",
     "output_type": "stream",
     "text": [
      "Masukkan label (Positive, Negative, Neutral) Negative\n"
     ]
    },
    {
     "name": "stdout",
     "output_type": "stream",
     "text": [
      "Review: gajelas\n"
     ]
    },
    {
     "name": "stdin",
     "output_type": "stream",
     "text": [
      "Masukkan label (Positive, Negative, Neutral) Negative\n"
     ]
    },
    {
     "name": "stdout",
     "output_type": "stream",
     "text": [
      "Review: Erorr ngerestar mulu ini tolong ditingkatkan lagi\n"
     ]
    },
    {
     "name": "stdin",
     "output_type": "stream",
     "text": [
      "Masukkan label (Positive, Negative, Neutral) Negative\n"
     ]
    },
    {
     "name": "stdout",
     "output_type": "stream",
     "text": [
      "Review: 👍\n"
     ]
    },
    {
     "name": "stdin",
     "output_type": "stream",
     "text": [
      "Masukkan label (Positive, Negative, Neutral) Positive\n"
     ]
    },
    {
     "name": "stdout",
     "output_type": "stream",
     "text": [
      "Review: G jelas apa maunya ni apk, bukan mempermudah, malah mempersulit\n"
     ]
    },
    {
     "name": "stdin",
     "output_type": "stream",
     "text": [
      "Masukkan label (Positive, Negative, Neutral) Negative\n"
     ]
    },
    {
     "name": "stdout",
     "output_type": "stream",
     "text": [
      "Review: Ebusseet ini apk kek kntl\n"
     ]
    },
    {
     "name": "stdin",
     "output_type": "stream",
     "text": [
      "Masukkan label (Positive, Negative, Neutral) Negative\n"
     ]
    },
    {
     "name": "stdout",
     "output_type": "stream",
     "text": [
      "Review: Aplikasi tidak baguss.. Buka apapun susah walaupun signal bagus. Apk hanya bikin pusing\n"
     ]
    },
    {
     "name": "stdin",
     "output_type": "stream",
     "text": [
      "Masukkan label (Positive, Negative, Neutral) Negative\n"
     ]
    },
    {
     "name": "stdout",
     "output_type": "stream",
     "text": [
      "Review: Aplikasi taik.. Mau bayar pajak susah.. Kode efin susah... Gimana mau lapor pajak...\n"
     ]
    },
    {
     "name": "stdin",
     "output_type": "stream",
     "text": [
      "Masukkan label (Positive, Negative, Neutral) Negative\n"
     ]
    },
    {
     "name": "stdout",
     "output_type": "stream",
     "text": [
      "Review: Tingkatkan terus\n"
     ]
    },
    {
     "name": "stdin",
     "output_type": "stream",
     "text": [
      "Masukkan label (Positive, Negative, Neutral) Negative\n"
     ]
    },
    {
     "name": "stdout",
     "output_type": "stream",
     "text": [
      "Review: Eror\n"
     ]
    },
    {
     "name": "stdin",
     "output_type": "stream",
     "text": [
      "Masukkan label (Positive, Negative, Neutral) Negative\n"
     ]
    },
    {
     "name": "stdout",
     "output_type": "stream",
     "text": [
      "Review: Lupa efin mau bayar pajak,ribet nya minta ampun,ini mau bayar misal mau ngutang gak cuma ribet mungkin ya...hadeh aplikasi jelek\n"
     ]
    },
    {
     "name": "stdin",
     "output_type": "stream",
     "text": [
      "Masukkan label (Positive, Negative, Neutral) Negative\n"
     ]
    },
    {
     "name": "stdout",
     "output_type": "stream",
     "text": [
      "Review: Sangat mendukung\n"
     ]
    },
    {
     "name": "stdin",
     "output_type": "stream",
     "text": [
      "Masukkan label (Positive, Negative, Neutral) Positive\n"
     ]
    },
    {
     "name": "stdout",
     "output_type": "stream",
     "text": [
      "Review: Sulit masuk ya eror\n"
     ]
    },
    {
     "name": "stdin",
     "output_type": "stream",
     "text": [
      "Masukkan label (Positive, Negative, Neutral) Negative\n"
     ]
    },
    {
     "name": "stdout",
     "output_type": "stream",
     "text": [
      "Review: Kwalitasnya seperti gk berguna samasekali\n"
     ]
    },
    {
     "name": "stdin",
     "output_type": "stream",
     "text": [
      "Masukkan label (Positive, Negative, Neutral) Negative\n"
     ]
    },
    {
     "name": "stdout",
     "output_type": "stream",
     "text": [
      "Review: sangat membantu\n"
     ]
    },
    {
     "name": "stdin",
     "output_type": "stream",
     "text": [
      "Masukkan label (Positive, Negative, Neutral) Positive\n"
     ]
    },
    {
     "name": "stdout",
     "output_type": "stream",
     "text": [
      "Review: pemutakhiran NPWP secara mandiri TAPI Se-Rungkad ini aplikasinya\n"
     ]
    },
    {
     "name": "stdin",
     "output_type": "stream",
     "text": [
      "Masukkan label (Positive, Negative, Neutral) Negative\n"
     ]
    },
    {
     "name": "stdout",
     "output_type": "stream",
     "text": [
      "Review: Aplikasi apa ini,buat tanya2 susah,ribet.\n"
     ]
    },
    {
     "name": "stdin",
     "output_type": "stream",
     "text": [
      "Masukkan label (Positive, Negative, Neutral) Negative\n"
     ]
    },
    {
     "name": "stdout",
     "output_type": "stream",
     "text": [
      "Review: Aplikasinya belom kompatibel buat tablet kah 😠\n"
     ]
    },
    {
     "name": "stdin",
     "output_type": "stream",
     "text": [
      "Masukkan label (Positive, Negative, Neutral) Negative\n"
     ]
    },
    {
     "name": "stdout",
     "output_type": "stream",
     "text": [
      "Review: Sdh di install tp apk keluar terus. Hp memyarankan menutup apl\n"
     ]
    },
    {
     "name": "stdin",
     "output_type": "stream",
     "text": [
      "Masukkan label (Positive, Negative, Neutral) Negative\n"
     ]
    },
    {
     "name": "stdout",
     "output_type": "stream",
     "text": [
      "Review: Aga lemot yah\n"
     ]
    },
    {
     "name": "stdin",
     "output_type": "stream",
     "text": [
      "Masukkan label (Positive, Negative, Neutral) Negative\n"
     ]
    },
    {
     "name": "stdout",
     "output_type": "stream",
     "text": [
      "Review: Hati hati ini aplikasi berbahaya.\n"
     ]
    },
    {
     "name": "stdin",
     "output_type": "stream",
     "text": [
      "Masukkan label (Positive, Negative, Neutral) Negative\n"
     ]
    },
    {
     "name": "stdout",
     "output_type": "stream",
     "text": [
      "Review: Pajak udh dibayar, hasil nya bikin aplikasi cacat begini\n"
     ]
    },
    {
     "name": "stdin",
     "output_type": "stream",
     "text": [
      "Masukkan label (Positive, Negative, Neutral) Negative\n"
     ]
    },
    {
     "name": "stdout",
     "output_type": "stream",
     "text": [
      "Review: Capek buat npwn online kek ribet banged kadang kode otpnya g sesuai pass mau di validasi kadang juga pass minta kode verifikasi lama banged mana lagi udh pake pulsa malah ke sedot capek buat online\n"
     ]
    },
    {
     "name": "stdin",
     "output_type": "stream",
     "text": [
      "Masukkan label (Positive, Negative, Neutral) Negative\n"
     ]
    },
    {
     "name": "stdout",
     "output_type": "stream",
     "text": [
      "Review: Aplikasi bikin dosa aja\n"
     ]
    },
    {
     "name": "stdin",
     "output_type": "stream",
     "text": [
      "Masukkan label (Positive, Negative, Neutral) Negative\n"
     ]
    },
    {
     "name": "stdout",
     "output_type": "stream",
     "text": [
      "Review: Daftar efin harus ke kantor, buat apa sistem online!\n"
     ]
    },
    {
     "name": "stdin",
     "output_type": "stream",
     "text": [
      "Masukkan label (Positive, Negative, Neutral) Negative\n"
     ]
    },
    {
     "name": "stdout",
     "output_type": "stream",
     "text": [
      "Review: Aplikasi apaini. slalu update tapi gk pernah bner. gk kebuka yg benar dulu kalian bikin aplikasi ini bah. memuakkan kali aplikasi kalian ini\n"
     ]
    },
    {
     "name": "stdin",
     "output_type": "stream",
     "text": [
      "Masukkan label (Positive, Negative, Neutral) Negative\n"
     ]
    },
    {
     "name": "stdout",
     "output_type": "stream",
     "text": [
      "Review: Aplikasi sampah.\n"
     ]
    },
    {
     "name": "stdin",
     "output_type": "stream",
     "text": [
      "Masukkan label (Positive, Negative, Neutral) Negative\n"
     ]
    },
    {
     "name": "stdout",
     "output_type": "stream",
     "text": [
      "Review: Aplikasi gak guna mau login aja susah\n"
     ]
    },
    {
     "name": "stdin",
     "output_type": "stream",
     "text": [
      "Masukkan label (Positive, Negative, Neutral) Negative\n"
     ]
    },
    {
     "name": "stdout",
     "output_type": "stream",
     "text": [
      "Review: lupe EFIN, buka email buat liat OTP pas balik lg ke aplikasi mulai lg dari awal.\n"
     ]
    },
    {
     "name": "stdin",
     "output_type": "stream",
     "text": [
      "Masukkan label (Positive, Negative, Neutral) Negative\n"
     ]
    },
    {
     "name": "stdout",
     "output_type": "stream",
     "text": [
      "Review: aplikasi sampah kaya gini buat apa???fitur live chat ga bisa verifikasi stuck ngapain di buat aplikasi kalo ga bisa mempermudah pengguna....urusan pajak kok di sepelak kaya urusan bikin krupuk\n"
     ]
    },
    {
     "name": "stdin",
     "output_type": "stream",
     "text": [
      "Masukkan label (Positive, Negative, Neutral) Negative\n"
     ]
    },
    {
     "name": "stdout",
     "output_type": "stream",
     "text": [
      "Review: susah amat otpnya, pulsa melayang layang percuma\n"
     ]
    },
    {
     "name": "stdin",
     "output_type": "stream",
     "text": [
      "Masukkan label (Positive, Negative, Neutral) Negative\n"
     ]
    },
    {
     "name": "stdout",
     "output_type": "stream",
     "text": [
      "Review: Kalau orang pengen pada tertib bayar pajak lebih di mudahkan lagi di pastikan lagi apk tidak ada kendala, lakukan survey ke masyarakat perbaharui, lupa efin kendala y aplikasi masih lambat padahal signal kencang, verifikasi tidak masuk masuk, menggunakan no telpon tidak bisa, semoga bisa lebih memudahkan kembali dan terus evaluasi\n"
     ]
    },
    {
     "name": "stdin",
     "output_type": "stream",
     "text": [
      "Masukkan label (Positive, Negative, Neutral) Negative\n"
     ]
    },
    {
     "name": "stdout",
     "output_type": "stream",
     "text": [
      "Review: gimana sih developer kok bisa bisa nya freetext untuk kecamatan kelurahan dan kab kota sehingga menyebabkan verifikasi gagal wkwkw\n"
     ]
    },
    {
     "name": "stdin",
     "output_type": "stream",
     "text": [
      "Masukkan label (Positive, Negative, Neutral) Negative\n"
     ]
    },
    {
     "name": "stdout",
     "output_type": "stream",
     "text": [
      "Review: Ok\n"
     ]
    },
    {
     "name": "stdin",
     "output_type": "stream",
     "text": [
      "Masukkan label (Positive, Negative, Neutral) Positive\n"
     ]
    },
    {
     "name": "stdout",
     "output_type": "stream",
     "text": [
      "Review: Gak bisa digunakan, tetep kudu ke kantor pajak 👍\n"
     ]
    },
    {
     "name": "stdin",
     "output_type": "stream",
     "text": [
      "Masukkan label (Positive, Negative, Neutral) Negative\n"
     ]
    },
    {
     "name": "stdout",
     "output_type": "stream",
     "text": [
      "Review: Good\n"
     ]
    },
    {
     "name": "stdin",
     "output_type": "stream",
     "text": [
      "Masukkan label (Positive, Negative, Neutral) Positive\n"
     ]
    },
    {
     "name": "stdout",
     "output_type": "stream",
     "text": [
      "Review: Sangat tidak membantu, aplikasi selalu mengalami crash..... Tidak ada perbaikan ataupun pengembangan dari pihak terkait\n"
     ]
    },
    {
     "name": "stdin",
     "output_type": "stream",
     "text": [
      "Masukkan label (Positive, Negative, Neutral) Negative\n"
     ]
    },
    {
     "name": "stdout",
     "output_type": "stream",
     "text": [
      "Review: Aplikasinya udah bener lagi sekarang, sebelumnya EFIN ga masuk, tapi sekarang udah ada perbaikan\n"
     ]
    },
    {
     "name": "stdin",
     "output_type": "stream",
     "text": [
      "Masukkan label (Positive, Negative, Neutral) Positive\n"
     ]
    },
    {
     "name": "stdout",
     "output_type": "stream",
     "text": [
      "Review: Eror terus\n"
     ]
    },
    {
     "name": "stdin",
     "output_type": "stream",
     "text": [
      "Masukkan label (Positive, Negative, Neutral) Negative\n"
     ]
    },
    {
     "name": "stdout",
     "output_type": "stream",
     "text": [
      "Review: aplikasi gak jelas\n"
     ]
    },
    {
     "name": "stdin",
     "output_type": "stream",
     "text": [
      "Masukkan label (Positive, Negative, Neutral) Negative\n"
     ]
    },
    {
     "name": "stdout",
     "output_type": "stream",
     "text": [
      "Review: Kebanyakan loading, gini nih aplikasi klo biaya mahal hasil nyata murahan. Di korup terus\n"
     ]
    },
    {
     "name": "stdin",
     "output_type": "stream",
     "text": [
      "Masukkan label (Positive, Negative, Neutral) Negative\n"
     ]
    },
    {
     "name": "stdout",
     "output_type": "stream",
     "text": [
      "Review: Sudah masukin no npwp dan password, salah mulu, sampai ubah password typ salah lagi pas login\n"
     ]
    },
    {
     "ename": "KeyboardInterrupt",
     "evalue": "Interrupted by user",
     "output_type": "error",
     "traceback": [
      "\u001b[1;31m---------------------------------------------------------------------------\u001b[0m",
      "\u001b[1;31mKeyboardInterrupt\u001b[0m                         Traceback (most recent call last)",
      "Cell \u001b[1;32mIn[6], line 7\u001b[0m\n\u001b[0;32m      5\u001b[0m \u001b[38;5;28;01mfor\u001b[39;00m index \u001b[38;5;129;01min\u001b[39;00m \u001b[38;5;28mrange\u001b[39m(start_index, \u001b[38;5;28mlen\u001b[39m(df)):\n\u001b[0;32m      6\u001b[0m     \u001b[38;5;28mprint\u001b[39m(\u001b[38;5;124mf\u001b[39m\u001b[38;5;124m\"\u001b[39m\u001b[38;5;124mReview: \u001b[39m\u001b[38;5;132;01m{\u001b[39;00mdf\u001b[38;5;241m.\u001b[39mat[index,\u001b[38;5;250m \u001b[39m\u001b[38;5;124m'\u001b[39m\u001b[38;5;124mcontent\u001b[39m\u001b[38;5;124m'\u001b[39m]\u001b[38;5;132;01m}\u001b[39;00m\u001b[38;5;124m\"\u001b[39m)\n\u001b[1;32m----> 7\u001b[0m     label \u001b[38;5;241m=\u001b[39m \u001b[38;5;28;43minput\u001b[39;49m\u001b[43m(\u001b[49m\u001b[38;5;124;43m\"\u001b[39;49m\u001b[38;5;124;43mMasukkan label (Positive, Negative, Neutral)\u001b[39;49m\u001b[38;5;124;43m\"\u001b[39;49m\u001b[43m)\u001b[49m\n\u001b[0;32m      8\u001b[0m     df\u001b[38;5;241m.\u001b[39mat[index, \u001b[38;5;124m'\u001b[39m\u001b[38;5;124mlabel\u001b[39m\u001b[38;5;124m'\u001b[39m] \u001b[38;5;241m=\u001b[39m label\n",
      "File \u001b[1;32m~\\AppData\\Local\\Programs\\Python\\Python312\\Lib\\site-packages\\ipykernel\\kernelbase.py:1282\u001b[0m, in \u001b[0;36mKernel.raw_input\u001b[1;34m(self, prompt)\u001b[0m\n\u001b[0;32m   1280\u001b[0m     msg \u001b[38;5;241m=\u001b[39m \u001b[38;5;124m\"\u001b[39m\u001b[38;5;124mraw_input was called, but this frontend does not support input requests.\u001b[39m\u001b[38;5;124m\"\u001b[39m\n\u001b[0;32m   1281\u001b[0m     \u001b[38;5;28;01mraise\u001b[39;00m StdinNotImplementedError(msg)\n\u001b[1;32m-> 1282\u001b[0m \u001b[38;5;28;01mreturn\u001b[39;00m \u001b[38;5;28;43mself\u001b[39;49m\u001b[38;5;241;43m.\u001b[39;49m\u001b[43m_input_request\u001b[49m\u001b[43m(\u001b[49m\n\u001b[0;32m   1283\u001b[0m \u001b[43m    \u001b[49m\u001b[38;5;28;43mstr\u001b[39;49m\u001b[43m(\u001b[49m\u001b[43mprompt\u001b[49m\u001b[43m)\u001b[49m\u001b[43m,\u001b[49m\n\u001b[0;32m   1284\u001b[0m \u001b[43m    \u001b[49m\u001b[38;5;28;43mself\u001b[39;49m\u001b[38;5;241;43m.\u001b[39;49m\u001b[43m_parent_ident\u001b[49m\u001b[43m[\u001b[49m\u001b[38;5;124;43m\"\u001b[39;49m\u001b[38;5;124;43mshell\u001b[39;49m\u001b[38;5;124;43m\"\u001b[39;49m\u001b[43m]\u001b[49m\u001b[43m,\u001b[49m\n\u001b[0;32m   1285\u001b[0m \u001b[43m    \u001b[49m\u001b[38;5;28;43mself\u001b[39;49m\u001b[38;5;241;43m.\u001b[39;49m\u001b[43mget_parent\u001b[49m\u001b[43m(\u001b[49m\u001b[38;5;124;43m\"\u001b[39;49m\u001b[38;5;124;43mshell\u001b[39;49m\u001b[38;5;124;43m\"\u001b[39;49m\u001b[43m)\u001b[49m\u001b[43m,\u001b[49m\n\u001b[0;32m   1286\u001b[0m \u001b[43m    \u001b[49m\u001b[43mpassword\u001b[49m\u001b[38;5;241;43m=\u001b[39;49m\u001b[38;5;28;43;01mFalse\u001b[39;49;00m\u001b[43m,\u001b[49m\n\u001b[0;32m   1287\u001b[0m \u001b[43m\u001b[49m\u001b[43m)\u001b[49m\n",
      "File \u001b[1;32m~\\AppData\\Local\\Programs\\Python\\Python312\\Lib\\site-packages\\ipykernel\\kernelbase.py:1325\u001b[0m, in \u001b[0;36mKernel._input_request\u001b[1;34m(self, prompt, ident, parent, password)\u001b[0m\n\u001b[0;32m   1322\u001b[0m \u001b[38;5;28;01mexcept\u001b[39;00m \u001b[38;5;167;01mKeyboardInterrupt\u001b[39;00m:\n\u001b[0;32m   1323\u001b[0m     \u001b[38;5;66;03m# re-raise KeyboardInterrupt, to truncate traceback\u001b[39;00m\n\u001b[0;32m   1324\u001b[0m     msg \u001b[38;5;241m=\u001b[39m \u001b[38;5;124m\"\u001b[39m\u001b[38;5;124mInterrupted by user\u001b[39m\u001b[38;5;124m\"\u001b[39m\n\u001b[1;32m-> 1325\u001b[0m     \u001b[38;5;28;01mraise\u001b[39;00m \u001b[38;5;167;01mKeyboardInterrupt\u001b[39;00m(msg) \u001b[38;5;28;01mfrom\u001b[39;00m \u001b[38;5;28;01mNone\u001b[39;00m\n\u001b[0;32m   1326\u001b[0m \u001b[38;5;28;01mexcept\u001b[39;00m \u001b[38;5;167;01mException\u001b[39;00m:\n\u001b[0;32m   1327\u001b[0m     \u001b[38;5;28mself\u001b[39m\u001b[38;5;241m.\u001b[39mlog\u001b[38;5;241m.\u001b[39mwarning(\u001b[38;5;124m\"\u001b[39m\u001b[38;5;124mInvalid Message:\u001b[39m\u001b[38;5;124m\"\u001b[39m, exc_info\u001b[38;5;241m=\u001b[39m\u001b[38;5;28;01mTrue\u001b[39;00m)\n",
      "\u001b[1;31mKeyboardInterrupt\u001b[0m: Interrupted by user"
     ]
    }
   ],
   "source": [
    "# labelling from index 376\n",
    "\n",
    "start_index = 376  # Ganti dengan indeks terakhir yang sudah dilabeli \n",
    "\n",
    "for index in range(start_index, len(df)):\n",
    "    print(f\"Review: {df.at[index, 'content']}\")\n",
    "    label = input(\"Masukkan label (Positive, Negative, Neutral)\")\n",
    "    df.at[index, 'label'] = label"
   ]
  },
  {
   "cell_type": "code",
   "execution_count": 7,
   "id": "927237df-37e8-40ce-9d02-12814597ea21",
   "metadata": {},
   "outputs": [
    {
     "name": "stdout",
     "output_type": "stream",
     "text": [
      "Indeks terakhir yang dilabeli : 800\n"
     ]
    }
   ],
   "source": [
    "last_labeled_index = index\n",
    "\n",
    "print(f\"Indeks terakhir yang dilabeli : {last_labeled_index}\")"
   ]
  },
  {
   "cell_type": "code",
   "execution_count": 11,
   "id": "6ecffc24-fe0c-481c-80c4-e0752d4693e7",
   "metadata": {},
   "outputs": [
    {
     "name": "stdout",
     "output_type": "stream",
     "text": [
      "Review: Sudah masukin no npwp dan password, salah mulu, sampai ubah password typ salah lagi pas login\n"
     ]
    },
    {
     "name": "stdin",
     "output_type": "stream",
     "text": [
      "Masukkan label (Positive, Negative, Neutral) Negative\n"
     ]
    },
    {
     "name": "stdout",
     "output_type": "stream",
     "text": [
      "Review: Ga bisa di pake aplikasinya.. Mau lapor aja di bikin RIBET\n"
     ]
    },
    {
     "name": "stdin",
     "output_type": "stream",
     "text": [
      "Masukkan label (Positive, Negative, Neutral) Negative\n"
     ]
    },
    {
     "name": "stdout",
     "output_type": "stream",
     "text": [
      "Review: apk tolol vrfksi gak bisa²\n"
     ]
    },
    {
     "name": "stdin",
     "output_type": "stream",
     "text": [
      "Masukkan label (Positive, Negative, Neutral) Negative\n"
     ]
    },
    {
     "name": "stdout",
     "output_type": "stream",
     "text": [
      "Review: Aplikasi berguna sudah sesuai semua tetap gagal\n"
     ]
    },
    {
     "name": "stdin",
     "output_type": "stream",
     "text": [
      "Masukkan label (Positive, Negative, Neutral) Negative\n"
     ]
    },
    {
     "name": "stdout",
     "output_type": "stream",
     "text": [
      "Review: Aplikasi payah. Gimana mau taat atau lapor pajak. Klo sistem aja belum bener.. parahh\n"
     ]
    },
    {
     "name": "stdin",
     "output_type": "stream",
     "text": [
      "Masukkan label (Positive, Negative, Neutral) Negative\n"
     ]
    },
    {
     "name": "stdout",
     "output_type": "stream",
     "text": [
      "Review: Buruk\n"
     ]
    },
    {
     "name": "stdin",
     "output_type": "stream",
     "text": [
      "Masukkan label (Positive, Negative, Neutral) Negative\n"
     ]
    },
    {
     "name": "stdout",
     "output_type": "stream",
     "text": [
      "Review: Pas mau verifikasi wajah for close mulu hedeh\n"
     ]
    },
    {
     "name": "stdin",
     "output_type": "stream",
     "text": [
      "Masukkan label (Positive, Negative, Neutral) Negative\n"
     ]
    },
    {
     "name": "stdout",
     "output_type": "stream",
     "text": [
      "Review: Aplikasi dibawah naungan pemerintah seperti ini kualitasnya? Ckckck tidak heran. Baru buka apps sudah eror. Baru buka Live Chat Pajak, padahal jaringan bagus, sinyal oke. Tiba-tiba chat berakhir. Baru buka loh? Ckckck aplikasi tidak berguna.\n"
     ]
    },
    {
     "name": "stdin",
     "output_type": "stream",
     "text": [
      "Masukkan label (Positive, Negative, Neutral) Negative\n"
     ]
    },
    {
     "name": "stdout",
     "output_type": "stream",
     "text": [
      "Review: Aplikasi Hao Hao... sekelas Pengelola Pajak negara ...tak becus ngelola Aplikasi yg di butuhkan masyarakat... bagaimana masyarakat mau bayar pajak dengan tepat... Fasilitas yg anda buat sangat rumit ,,,dan membuat susah masyarakat banyak...padahal rakyat sudah bayar pajak,kalian suruh lagi lapor, sudah mau melapor kalian buat susah lagi\n"
     ]
    },
    {
     "name": "stdin",
     "output_type": "stream",
     "text": [
      "Masukkan label (Positive, Negative, Neutral) Negative\n"
     ]
    },
    {
     "name": "stdout",
     "output_type": "stream",
     "text": [
      "Review: Mau daftar sj di persulit, pulsa habis karna otp g jelas\n"
     ]
    },
    {
     "name": "stdin",
     "output_type": "stream",
     "text": [
      "Masukkan label (Positive, Negative, Neutral) Negative\n"
     ]
    },
    {
     "name": "stdout",
     "output_type": "stream",
     "text": [
      "Review: aplikasi aneh masa klik lupa sandi gak bisa, tolong lah di perbaiki aplikasinya, jgn smpai merugikan penggunaal nya\n"
     ]
    },
    {
     "name": "stdin",
     "output_type": "stream",
     "text": [
      "Masukkan label (Positive, Negative, Neutral) Negative\n"
     ]
    },
    {
     "name": "stdout",
     "output_type": "stream",
     "text": [
      "Review: Cek dlu\n"
     ]
    },
    {
     "name": "stdin",
     "output_type": "stream",
     "text": [
      "Masukkan label (Positive, Negative, Neutral) Neutral\n"
     ]
    },
    {
     "name": "stdout",
     "output_type": "stream",
     "text": [
      "Review: Sumpah ini aplikasi jelek banget.\n"
     ]
    },
    {
     "name": "stdin",
     "output_type": "stream",
     "text": [
      "Masukkan label (Positive, Negative, Neutral) Negative\n"
     ]
    },
    {
     "name": "stdout",
     "output_type": "stream",
     "text": [
      "Review: Error terus... pelayanan macam apa ini, gak jelas\n"
     ]
    },
    {
     "name": "stdin",
     "output_type": "stream",
     "text": [
      "Masukkan label (Positive, Negative, Neutral) Negative\n"
     ]
    },
    {
     "name": "stdout",
     "output_type": "stream",
     "text": [
      "Review: Parah eror terus\n"
     ]
    },
    {
     "name": "stdin",
     "output_type": "stream",
     "text": [
      "Masukkan label (Positive, Negative, Neutral) Negative\n"
     ]
    },
    {
     "name": "stdout",
     "output_type": "stream",
     "text": [
      "Review: Klik banner dan slide tidak berfungsi. Tidak nyambung ke back 3nd, tolong direvisi lah sekelas programmer pemerintah harusnya top markotop\n"
     ]
    },
    {
     "name": "stdin",
     "output_type": "stream",
     "text": [
      "Masukkan label (Positive, Negative, Neutral) Negative\n"
     ]
    },
    {
     "name": "stdout",
     "output_type": "stream",
     "text": [
      "Review: Gajelas dibikin muter muter doang. Gua lupa efin, udah isi data tapi suruh login dulu dan loginnya harus pake efin gimana sii. Mau lapor pajak aja dibikin susah begini\n"
     ]
    },
    {
     "name": "stdin",
     "output_type": "stream",
     "text": [
      "Masukkan label (Positive, Negative, Neutral) Negative\n"
     ]
    },
    {
     "name": "stdout",
     "output_type": "stream",
     "text": [
      "Review: Di buat susah pada saat pengiriman otp hanya buat pulsa habis saja\n"
     ]
    },
    {
     "name": "stdin",
     "output_type": "stream",
     "text": [
      "Masukkan label (Positive, Negative, Neutral) Negative\n"
     ]
    },
    {
     "name": "stdout",
     "output_type": "stream",
     "text": [
      "Review: Jelek aplikasinya error terus, perlu perbaikkan\n"
     ]
    },
    {
     "name": "stdin",
     "output_type": "stream",
     "text": [
      "Masukkan label (Positive, Negative, Neutral) Negative\n"
     ]
    },
    {
     "name": "stdout",
     "output_type": "stream",
     "text": [
      "Review: Apk apaan mau login aja susah apalagi pas cek efin katanya udah dikirim email tp nggak ada email masuk👎👎\n"
     ]
    },
    {
     "name": "stdin",
     "output_type": "stream",
     "text": [
      "Masukkan label (Positive, Negative, Neutral) Negative\n"
     ]
    },
    {
     "name": "stdout",
     "output_type": "stream",
     "text": [
      "Review: Proses permohonan efin tidak sampai 20 menit👍\n"
     ]
    },
    {
     "name": "stdin",
     "output_type": "stream",
     "text": [
      "Masukkan label (Positive, Negative, Neutral) Positive\n"
     ]
    },
    {
     "name": "stdout",
     "output_type": "stream",
     "text": [
      "Review: Pulsa 20 ribu habis , gabisa masuk kode otp selalu salah as*\"\n"
     ]
    },
    {
     "name": "stdin",
     "output_type": "stream",
     "text": [
      "Masukkan label (Positive, Negative, Neutral) Negative\n"
     ]
    },
    {
     "name": "stdout",
     "output_type": "stream",
     "text": [
      "Review: banyak nge bug nya, stuck masa mau daftar gak bisa kocak\n"
     ]
    },
    {
     "name": "stdin",
     "output_type": "stream",
     "text": [
      "Masukkan label (Positive, Negative, Neutral) Negative\n"
     ]
    },
    {
     "name": "stdout",
     "output_type": "stream",
     "text": [
      "Review: Layanan lupa efin ga guna.. kode OTP yang dimasukan sesuai sama yg dikirim, mau verifikasi keterangannya kode OTP salah, Aneh banget.\n"
     ]
    },
    {
     "name": "stdin",
     "output_type": "stream",
     "text": [
      "Masukkan label (Positive, Negative, Neutral) Negative\n"
     ]
    },
    {
     "name": "stdout",
     "output_type": "stream",
     "text": [
      "Review: Aplikasi tolol, niat hati mau laporan pajak mau minta EFIN aja dipersulit!\n"
     ]
    },
    {
     "name": "stdin",
     "output_type": "stream",
     "text": [
      "Masukkan label (Positive, Negative, Neutral) Negative\n"
     ]
    },
    {
     "name": "stdout",
     "output_type": "stream",
     "text": [
      "Review: Aplikasi buruk,percuma di realis aplikasi kalau sering gangguan,lebih bagus ga usah lewat aplikasi,bukan mempermudah pelaporan malh menyebalkan\n"
     ]
    },
    {
     "name": "stdin",
     "output_type": "stream",
     "text": [
      "Masukkan label (Positive, Negative, Neutral) Negative\n"
     ]
    },
    {
     "name": "stdout",
     "output_type": "stream",
     "text": [
      "Review: Pendaftaran langkah ke 2 sdh gak bisa lanjut lagi stuck di situ aja mau di klik next atau prev gak bisa juga...developernya perbaiki lagi nih\n"
     ]
    },
    {
     "name": "stdin",
     "output_type": "stream",
     "text": [
      "Masukkan label (Positive, Negative, Neutral) Negative\n"
     ]
    },
    {
     "name": "stdout",
     "output_type": "stream",
     "text": [
      "Review: aplikasi tak bisa di pakai, ribet X\n"
     ]
    },
    {
     "name": "stdin",
     "output_type": "stream",
     "text": [
      "Masukkan label (Positive, Negative, Neutral) Negative\n"
     ]
    },
    {
     "name": "stdout",
     "output_type": "stream",
     "text": [
      "Review: Oke😊😊😊\n"
     ]
    },
    {
     "name": "stdin",
     "output_type": "stream",
     "text": [
      "Masukkan label (Positive, Negative, Neutral) Positive\n"
     ]
    },
    {
     "name": "stdout",
     "output_type": "stream",
     "text": [
      "Review: Ga ada guna ini aplikasi. Selayaknya aplikasi pemerintah pada umumnya. Gw kaga bisa login mon\n"
     ]
    },
    {
     "name": "stdin",
     "output_type": "stream",
     "text": [
      "Masukkan label (Positive, Negative, Neutral) Negative\n"
     ]
    },
    {
     "name": "stdout",
     "output_type": "stream",
     "text": [
      "Review: Sngt gg profesional. Otp trobel terus\n"
     ]
    },
    {
     "name": "stdin",
     "output_type": "stream",
     "text": [
      "Masukkan label (Positive, Negative, Neutral) Negative\n"
     ]
    },
    {
     "name": "stdout",
     "output_type": "stream",
     "text": [
      "Review: Aplikasi nya sudah bagus dan bermanfaat\n"
     ]
    },
    {
     "name": "stdin",
     "output_type": "stream",
     "text": [
      "Masukkan label (Positive, Negative, Neutral) Positive\n"
     ]
    },
    {
     "name": "stdout",
     "output_type": "stream",
     "text": [
      "Review: Menghabiskan kuota saja,niat mau laporan SPT,setengah hari mantengin hp GX ada guna,bukan nya dipermudah malah menyusahkan,giliran GX laporan didatangi petugas,pajak ini bener bener seperti lintah darat,sya tidak punya hutang,tp kalau telat bayar didenda,kalau mau bikin sistem itu dibenerin dulu otak nya,lebih mudah mobile legen ketimbang aplikasi burik ini,taaaiiiii\n"
     ]
    },
    {
     "name": "stdin",
     "output_type": "stream",
     "text": [
      "Masukkan label (Positive, Negative, Neutral) Negative\n"
     ]
    },
    {
     "name": "stdout",
     "output_type": "stream",
     "text": [
      "Review: Lapor SPT gak bisa\n"
     ]
    },
    {
     "name": "stdin",
     "output_type": "stream",
     "text": [
      "Masukkan label (Positive, Negative, Neutral) Negative\n"
     ]
    },
    {
     "name": "stdout",
     "output_type": "stream",
     "text": [
      "Review: Breng*sek apk m.pajak sudah memasukan data dengan benar malah error mulu,bodo amat ga susah bayar pakaj sekalian.\n"
     ]
    },
    {
     "name": "stdin",
     "output_type": "stream",
     "text": [
      "Masukkan label (Positive, Negative, Neutral) Negative\n"
     ]
    },
    {
     "name": "stdout",
     "output_type": "stream",
     "text": [
      "Review: Kea da'a ngoni p aplikasi ini, so ulang2 isi data tpi gagal turus 👎\n"
     ]
    },
    {
     "name": "stdin",
     "output_type": "stream",
     "text": [
      "Masukkan label (Positive, Negative, Neutral) Negative\n"
     ]
    },
    {
     "name": "stdout",
     "output_type": "stream",
     "text": [
      "Review: Saya gagal mendapatkan kode verifikasi lupa efin karena kode tidak dikirim ke email maupun sms.\n"
     ]
    },
    {
     "name": "stdin",
     "output_type": "stream",
     "text": [
      "Masukkan label (Positive, Negative, Neutral) Negative\n"
     ]
    },
    {
     "name": "stdout",
     "output_type": "stream",
     "text": [
      "Review: Aplikasi pajak koc begini ya kualitas nya, sudah registrasi di bilang email tidak aktif padahal tiap hari di pakai,mau buat ulang makai email itu bilang nya email sudah di gunakan. Trus harus gymna?? Tolong donk kalo buat Apk di maksimalkan, ini aplikasi sekelas Pajak koc begini???????\n"
     ]
    },
    {
     "name": "stdin",
     "output_type": "stream",
     "text": [
      "Masukkan label (Positive, Negative, Neutral) Negative\n"
     ]
    },
    {
     "name": "stdout",
     "output_type": "stream",
     "text": [
      "Review: Ga bisa dibuka\n"
     ]
    },
    {
     "name": "stdin",
     "output_type": "stream",
     "text": [
      "Masukkan label (Positive, Negative, Neutral) Negative\n"
     ]
    },
    {
     "name": "stdout",
     "output_type": "stream",
     "text": [
      "Review: Lohlohloh, katasandi salah terus padahal udh lupa sandi juga, tolong diperbaiki min\n"
     ]
    },
    {
     "name": "stdin",
     "output_type": "stream",
     "text": [
      "Masukkan label (Positive, Negative, Neutral) Negative\n"
     ]
    },
    {
     "name": "stdout",
     "output_type": "stream",
     "text": [
      "Review: TELKOMSEL ROLI 🇮🇩\n"
     ]
    },
    {
     "name": "stdin",
     "output_type": "stream",
     "text": [
      "Masukkan label (Positive, Negative, Neutral) Neutral\n"
     ]
    },
    {
     "name": "stdout",
     "output_type": "stream",
     "text": [
      "Review: Bangsat\n"
     ]
    },
    {
     "name": "stdin",
     "output_type": "stream",
     "text": [
      "Masukkan label (Positive, Negative, Neutral) Negative\n"
     ]
    },
    {
     "name": "stdout",
     "output_type": "stream",
     "text": [
      "Review: aplikasi ala kadarnya...\n"
     ]
    },
    {
     "name": "stdin",
     "output_type": "stream",
     "text": [
      "Masukkan label (Positive, Negative, Neutral) Negative\n"
     ]
    },
    {
     "name": "stdout",
     "output_type": "stream",
     "text": [
      "Review: Beri bintang lima karena aplikasi nya sangat membantu\n"
     ]
    },
    {
     "name": "stdin",
     "output_type": "stream",
     "text": [
      "Masukkan label (Positive, Negative, Neutral) Positive\n"
     ]
    },
    {
     "name": "stdout",
     "output_type": "stream",
     "text": [
      "Review: sulitnya hanya mau mendapatkan efin, lewat Mpajak email tidak sesuai, lewat email tidak bisa, lewat telpon 1500200 tidak aktif,\n"
     ]
    },
    {
     "name": "stdin",
     "output_type": "stream",
     "text": [
      "Masukkan label (Positive, Negative, Neutral) Negative\n"
     ]
    },
    {
     "name": "stdout",
     "output_type": "stream",
     "text": [
      "Review: Gagal terus\n"
     ]
    },
    {
     "name": "stdin",
     "output_type": "stream",
     "text": [
      "Masukkan label (Positive, Negative, Neutral) Negative\n"
     ]
    },
    {
     "name": "stdout",
     "output_type": "stream",
     "text": [
      "Review: Aplikasi ga ada yg jelas fiturnya\n"
     ]
    },
    {
     "name": "stdin",
     "output_type": "stream",
     "text": [
      "Masukkan label (Positive, Negative, Neutral) Negative\n"
     ]
    },
    {
     "name": "stdout",
     "output_type": "stream",
     "text": [
      "Review: Apk sistem gK matang jgn maksa diluncurin\n"
     ]
    },
    {
     "name": "stdin",
     "output_type": "stream",
     "text": [
      "Masukkan label (Positive, Negative, Neutral) Negative\n"
     ]
    },
    {
     "name": "stdout",
     "output_type": "stream",
     "text": [
      "Review: APLIKASI SAMPAH\n"
     ]
    },
    {
     "name": "stdin",
     "output_type": "stream",
     "text": [
      "Masukkan label (Positive, Negative, Neutral) Negative\n"
     ]
    },
    {
     "name": "stdout",
     "output_type": "stream",
     "text": [
      "Review: Aplikasi sampah, lupa efin aja susah banget mau dapatin nya lg, pake aplikasi crash manjang, tau ga posisi kerja saya ini jauh dri kota\n"
     ]
    },
    {
     "name": "stdin",
     "output_type": "stream",
     "text": [
      "Masukkan label (Positive, Negative, Neutral) Negative\n"
     ]
    },
    {
     "name": "stdout",
     "output_type": "stream",
     "text": [
      "Review: Mau di buka,,ada notif aplikasi ini mesti di perbarui dan langsung nge Hang ga bisa di apa2in\n"
     ]
    },
    {
     "name": "stdin",
     "output_type": "stream",
     "text": [
      "Masukkan label (Positive, Negative, Neutral) Negative\n"
     ]
    },
    {
     "name": "stdout",
     "output_type": "stream",
     "text": [
      "Review: Ok\n"
     ]
    },
    {
     "name": "stdin",
     "output_type": "stream",
     "text": [
      "Masukkan label (Positive, Negative, Neutral) Positive\n"
     ]
    },
    {
     "name": "stdout",
     "output_type": "stream",
     "text": [
      "Review: Aplikasinya sangat susah. Bukanya mempermudah malah mempersulit. Di awal membuka aplikasi harus update dan loadingnya sangat lama.\n"
     ]
    },
    {
     "name": "stdin",
     "output_type": "stream",
     "text": [
      "Masukkan label (Positive, Negative, Neutral) Negative\n"
     ]
    },
    {
     "name": "stdout",
     "output_type": "stream",
     "text": [
      "Review: Parah ini aplikasi sudah daftar membuat NPWP online malah gagal trus pulsa selalu berkurang untuk validasi otp. Bertanya di aplikasi juga 24 jam system selalu eror\n"
     ]
    },
    {
     "name": "stdin",
     "output_type": "stream",
     "text": [
      "Masukkan label (Positive, Negative, Neutral) Negative\n"
     ]
    },
    {
     "name": "stdout",
     "output_type": "stream",
     "text": [
      "Review: Ampas banget sistemnya\n"
     ]
    },
    {
     "name": "stdin",
     "output_type": "stream",
     "text": [
      "Masukkan label (Positive, Negative, Neutral) Negative\n"
     ]
    },
    {
     "name": "stdout",
     "output_type": "stream",
     "text": [
      "Review: Internet cepet buat apa? Lapor pajak aja susah🤦lemot\n"
     ]
    },
    {
     "name": "stdin",
     "output_type": "stream",
     "text": [
      "Masukkan label (Positive, Negative, Neutral) Negative\n"
     ]
    },
    {
     "name": "stdout",
     "output_type": "stream",
     "text": [
      "Review: Ini aplikasi DJP versi android untuk apa yaa,? ga ada menu lapor spt nya, mau lihat historis juga ga bisa, mau ganti no nik jadi no npwp juga ga bisa !\n"
     ]
    },
    {
     "name": "stdin",
     "output_type": "stream",
     "text": [
      "Masukkan label (Positive, Negative, Neutral) Negative\n"
     ]
    },
    {
     "name": "stdout",
     "output_type": "stream",
     "text": [
      "Review: Pendaftaran langkah 2 aja untuk validasi otp sulit sekali ketika d klik bagian daftar malah g bisa di klik mohon webnya di perbaiki lagi ... Sangat no recomend buat pendaftaran online tergolong sulit yang ada habis2in pulsa\n"
     ]
    },
    {
     "name": "stdin",
     "output_type": "stream",
     "text": [
      "Masukkan label (Positive, Negative, Neutral) Negative\n"
     ]
    },
    {
     "name": "stdout",
     "output_type": "stream",
     "text": [
      "Review: Keringat sendiri di suruh bayar pajak ,,, sistemnya di persulit pula buka wabnya parah sulit tolong di perbaiki lg\n"
     ]
    },
    {
     "name": "stdin",
     "output_type": "stream",
     "text": [
      "Masukkan label (Positive, Negative, Neutral) Negative\n"
     ]
    },
    {
     "name": "stdout",
     "output_type": "stream",
     "text": [
      "Review: Sya harus bisa daftar NPWP\n"
     ]
    },
    {
     "name": "stdin",
     "output_type": "stream",
     "text": [
      "Masukkan label (Positive, Negative, Neutral) Neutral\n"
     ]
    },
    {
     "name": "stdout",
     "output_type": "stream",
     "text": [
      "Review: Semoga segera diperbaiki\n"
     ]
    },
    {
     "name": "stdin",
     "output_type": "stream",
     "text": [
      "Masukkan label (Positive, Negative, Neutral) Neutral\n"
     ]
    },
    {
     "name": "stdout",
     "output_type": "stream",
     "text": [
      "Review: Tolong diperbaiki lg!!!! aplikasinya sangat buruk, Nge bug teruss ga jelas, kode otp ditungguin ga masuk\" Rata\" emg pada bintang 1 karena emg bener apknya sgt payahh dan buriqq, sebenernya mau kasih bintang 0 Ga usah download drpd emosi\n"
     ]
    },
    {
     "name": "stdin",
     "output_type": "stream",
     "text": [
      "Masukkan label (Positive, Negative, Neutral) Negative\n"
     ]
    },
    {
     "name": "stdout",
     "output_type": "stream",
     "text": [
      "Review: Mbulet tp tetep gak bisa masuk. Beginikah punya negara indonesia\n"
     ]
    },
    {
     "name": "stdin",
     "output_type": "stream",
     "text": [
      "Masukkan label (Positive, Negative, Neutral) Negative\n"
     ]
    },
    {
     "name": "stdout",
     "output_type": "stream",
     "text": [
      "Review: Tidak bisa daftar meskipun pertama kali mendaftar, kenapa email di uppercase padahal email itu lowercase\n"
     ]
    },
    {
     "name": "stdin",
     "output_type": "stream",
     "text": [
      "Masukkan label (Positive, Negative, Neutral) Negative\n"
     ]
    },
    {
     "name": "stdout",
     "output_type": "stream",
     "text": [
      "Review: Cukup baguss\n"
     ]
    },
    {
     "name": "stdin",
     "output_type": "stream",
     "text": [
      "Masukkan label (Positive, Negative, Neutral) Positive\n"
     ]
    },
    {
     "name": "stdout",
     "output_type": "stream",
     "text": [
      "Review: Installing update aja muter teruuss aneh\n"
     ]
    },
    {
     "name": "stdin",
     "output_type": "stream",
     "text": [
      "Masukkan label (Positive, Negative, Neutral) Negative\n"
     ]
    },
    {
     "name": "stdout",
     "output_type": "stream",
     "text": [
      "Review: Gak bisa laporan spt fiturnya ampas\n"
     ]
    },
    {
     "name": "stdin",
     "output_type": "stream",
     "text": [
      "Masukkan label (Positive, Negative, Neutral) Negative\n"
     ]
    },
    {
     "name": "stdout",
     "output_type": "stream",
     "text": [
      "Review: Aplikasi yang buruk jangan di pakai ga bisa dapat kode otp nya\n"
     ]
    },
    {
     "name": "stdin",
     "output_type": "stream",
     "text": [
      "Masukkan label (Positive, Negative, Neutral) Negative\n"
     ]
    },
    {
     "name": "stdout",
     "output_type": "stream",
     "text": [
      "Review: Error, loading minta di update terus padahal sudah terupdate..mohon diperbaiki\n"
     ]
    },
    {
     "name": "stdin",
     "output_type": "stream",
     "text": [
      "Masukkan label (Positive, Negative, Neutral) Negative\n"
     ]
    },
    {
     "name": "stdout",
     "output_type": "stream",
     "text": [
      "Review: Praktis dan banyak menu menarik. Bisa melihat kantor pajak terdekat sesuai lokasi kita saat ini, bisa akses kalkulator pajak, lupa EFIN, buat kode billing, update aturan terbaru, dan sebagainya. Yuks, unduh aplikasinya untuk layanan pajak yang makin praktis.\n"
     ]
    },
    {
     "name": "stdin",
     "output_type": "stream",
     "text": [
      "Masukkan label (Positive, Negative, Neutral) Positive\n"
     ]
    },
    {
     "name": "stdout",
     "output_type": "stream",
     "text": [
      "Review: Ajukan lupa efien selalu gagal\n"
     ]
    },
    {
     "name": "stdin",
     "output_type": "stream",
     "text": [
      "Masukkan label (Positive, Negative, Neutral) Negative\n"
     ]
    },
    {
     "name": "stdout",
     "output_type": "stream",
     "text": [
      "Review: Pelayanan terbaik\n"
     ]
    },
    {
     "name": "stdin",
     "output_type": "stream",
     "text": [
      "Masukkan label (Positive, Negative, Neutral) Positive\n"
     ]
    },
    {
     "name": "stdout",
     "output_type": "stream",
     "text": [
      "Review: ujung2nya suruh konsultasi ke kantor pajak terdekat.\n"
     ]
    },
    {
     "name": "stdin",
     "output_type": "stream",
     "text": [
      "Masukkan label (Positive, Negative, Neutral) Negative\n"
     ]
    },
    {
     "name": "stdout",
     "output_type": "stream",
     "text": [
      "Review: Untuk verifikasi akun email sudah bisa tapi mentok di OTP verifikasi ke nomor HP. Kesel padahal ini kita bayar dan taat pajak. Tolong developer nya yg serius ini kan masalh uang yang di bayarkan.\n"
     ]
    },
    {
     "name": "stdin",
     "output_type": "stream",
     "text": [
      "Masukkan label (Positive, Negative, Neutral) Negative\n"
     ]
    },
    {
     "name": "stdout",
     "output_type": "stream",
     "text": [
      "Review: Indonesia gakakan maju.. serba di persulit\n"
     ]
    },
    {
     "name": "stdin",
     "output_type": "stream",
     "text": [
      "Masukkan label (Positive, Negative, Neutral) Negative\n"
     ]
    },
    {
     "name": "stdout",
     "output_type": "stream",
     "text": [
      "Review: apa guna ni aplikasi.. lapor pajak gak bisa ya begini aplikasi pemerintah... maunya uang2 uang bikin aplikasi gak becus... kerja oi....\n"
     ]
    },
    {
     "name": "stdin",
     "output_type": "stream",
     "text": [
      "Masukkan label (Positive, Negative, Neutral) Negative\n"
     ]
    },
    {
     "name": "stdout",
     "output_type": "stream",
     "text": [
      "Review: Ada apa dengan aplikasi ini mau login aja susah. Tolong lah dibenerin biar bisa diakses\n"
     ]
    },
    {
     "name": "stdin",
     "output_type": "stream",
     "text": [
      "Masukkan label (Positive, Negative, Neutral) Negative\n"
     ]
    },
    {
     "name": "stdout",
     "output_type": "stream",
     "text": [
      "Review: mohon di perbaiki aplikasi nya\n"
     ]
    },
    {
     "name": "stdin",
     "output_type": "stream",
     "text": [
      "Masukkan label (Positive, Negative, Neutral) Negative\n"
     ]
    },
    {
     "name": "stdout",
     "output_type": "stream",
     "text": [
      "Review: Ngk kekantor ngk di aplikasi sama\" dibikin susah\n"
     ]
    },
    {
     "name": "stdin",
     "output_type": "stream",
     "text": [
      "Masukkan label (Positive, Negative, Neutral) Negative\n"
     ]
    },
    {
     "name": "stdout",
     "output_type": "stream",
     "text": [
      "Review: Apk layanan publik yg sangat burik\n"
     ]
    },
    {
     "name": "stdin",
     "output_type": "stream",
     "text": [
      "Masukkan label (Positive, Negative, Neutral) Negative\n"
     ]
    },
    {
     "name": "stdout",
     "output_type": "stream",
     "text": [
      "Review: Aplikasi sampah buang anggaran doang.. workflow nya gajelas banget\n"
     ]
    },
    {
     "name": "stdin",
     "output_type": "stream",
     "text": [
      "Masukkan label (Positive, Negative, Neutral) Negative\n"
     ]
    },
    {
     "name": "stdout",
     "output_type": "stream",
     "text": [
      "Review: Aplikasinya Gak mau terbuka di hp saya kok begitu???\n"
     ]
    },
    {
     "name": "stdin",
     "output_type": "stream",
     "text": [
      "Masukkan label (Positive, Negative, Neutral) Negative\n"
     ]
    },
    {
     "name": "stdout",
     "output_type": "stream",
     "text": [
      "Review: Di-update malah force closed terus.\n"
     ]
    },
    {
     "name": "stdin",
     "output_type": "stream",
     "text": [
      "Masukkan label (Positive, Negative, Neutral) Negative\n"
     ]
    },
    {
     "name": "stdout",
     "output_type": "stream",
     "text": [
      "Review: Tolong dong,masa saya mau masuk aplikasi nya aja g bisa. Kami download ingin di permudah bukan di persulit\n"
     ]
    },
    {
     "name": "stdin",
     "output_type": "stream",
     "text": [
      "Masukkan label (Positive, Negative, Neutral) Negative\n"
     ]
    },
    {
     "name": "stdout",
     "output_type": "stream",
     "text": [
      "Review: Aplikasi tidak berguna\n"
     ]
    },
    {
     "name": "stdin",
     "output_type": "stream",
     "text": [
      "Masukkan label (Positive, Negative, Neutral) Negative\n"
     ]
    },
    {
     "name": "stdout",
     "output_type": "stream",
     "text": [
      "Review: Aplikasi gajelas, nomor npwp dan password sudah sesuai gabisa login\n"
     ]
    },
    {
     "name": "stdin",
     "output_type": "stream",
     "text": [
      "Masukkan label (Positive, Negative, Neutral) Negative\n"
     ]
    },
    {
     "name": "stdout",
     "output_type": "stream",
     "text": [
      "Review: sangat membantu\n"
     ]
    },
    {
     "name": "stdin",
     "output_type": "stream",
     "text": [
      "Masukkan label (Positive, Negative, Neutral) Positive\n"
     ]
    },
    {
     "name": "stdout",
     "output_type": "stream",
     "text": [
      "Review: Selalu elorrr kalu minta no efin juga susah ,ribet lagi kenpa enga pia wa lagi banyak Kendal operator susah d hubungi katanya mudha nyatanya jelek tolong sistem nya benar\" d perbharui lagi\n"
     ]
    },
    {
     "name": "stdin",
     "output_type": "stream",
     "text": [
      "Masukkan label (Positive, Negative, Neutral) Negative\n"
     ]
    },
    {
     "name": "stdout",
     "output_type": "stream",
     "text": [
      "Review: Good\n"
     ]
    },
    {
     "name": "stdin",
     "output_type": "stream",
     "text": [
      "Masukkan label (Positive, Negative, Neutral) Positive\n"
     ]
    },
    {
     "name": "stdout",
     "output_type": "stream",
     "text": [
      "Review: Mohon utk diperbaiki lagi aplikasi nya, karena utk proses verifikasi lupa efin sangat susah, saya sudah mencoba berulang kali tetap tidak bisa padahal datanya sudah benar\n"
     ]
    },
    {
     "name": "stdin",
     "output_type": "stream",
     "text": [
      "Masukkan label (Positive, Negative, Neutral) Negative\n"
     ]
    },
    {
     "name": "stdout",
     "output_type": "stream",
     "text": [
      "Review: Kalo ga siap buat digital, ga usah bikin aps.\n"
     ]
    },
    {
     "name": "stdin",
     "output_type": "stream",
     "text": [
      "Masukkan label (Positive, Negative, Neutral) Negative\n"
     ]
    },
    {
     "name": "stdout",
     "output_type": "stream",
     "text": [
      "Review: Rubah data ribet amat antara petugas dan di aplikasi gak beres...\n"
     ]
    },
    {
     "name": "stdin",
     "output_type": "stream",
     "text": [
      "Masukkan label (Positive, Negative, Neutral) Negative\n"
     ]
    },
    {
     "name": "stdout",
     "output_type": "stream",
     "text": [
      "Review: Developernya tolol, stuck di langkah ke 2. Ga ada email masuk. Verifikasi nope padahal udah berhasil. Website djp juga makin ancur. Kalau udah login pun ga bakal bisa ngapa2in. Ga bisa bikin npwp. Ga tau deh kalau pake PC, bisa atau ngga nya.\n"
     ]
    },
    {
     "name": "stdin",
     "output_type": "stream",
     "text": [
      "Masukkan label (Positive, Negative, Neutral) Negative\n"
     ]
    },
    {
     "name": "stdout",
     "output_type": "stream",
     "text": [
      "Review: aplikasi tak bermutu sudah di kasih kode otp kok ngak bisa di vadilasi makan pulsa terus\n"
     ]
    },
    {
     "name": "stdin",
     "output_type": "stream",
     "text": [
      "Masukkan label (Positive, Negative, Neutral) Negative\n"
     ]
    },
    {
     "name": "stdout",
     "output_type": "stream",
     "text": [
      "Review: Aturan ngga usah kasih bintang. Ni apps kocak asli. Udah verifikasi otp pake email, ngisinya udah bener masa verifikasi bilangnya \"Kode Verifikasi Gagal\" kocak asli kocak.\n"
     ]
    },
    {
     "name": "stdin",
     "output_type": "stream",
     "text": [
      "Masukkan label (Positive, Negative, Neutral) Negative\n"
     ]
    },
    {
     "name": "stdout",
     "output_type": "stream",
     "text": [
      "Review: Astaga, aplikasinya gak bener, mau marah tapi konoha\n"
     ]
    },
    {
     "name": "stdin",
     "output_type": "stream",
     "text": [
      "Masukkan label (Positive, Negative, Neutral) Negative\n"
     ]
    },
    {
     "name": "stdout",
     "output_type": "stream",
     "text": [
      "Review: Aplikasi ny erorr\n"
     ]
    },
    {
     "name": "stdin",
     "output_type": "stream",
     "text": [
      "Masukkan label (Positive, Negative, Neutral) Negative\n"
     ]
    },
    {
     "name": "stdout",
     "output_type": "stream",
     "text": [
      "Review: lupa Efin mau liat lagi dari apk malah gabisa bisa pas shoot foto, tiba-tiba keluar gitu gimana sih ini tolong dong di benerin lagi developer nya\n"
     ]
    },
    {
     "name": "stdin",
     "output_type": "stream",
     "text": [
      "Masukkan label (Positive, Negative, Neutral) Negative\n"
     ]
    },
    {
     "name": "stdout",
     "output_type": "stream",
     "text": [
      "Review: Disuruh lapor pajak tapi tombol lapor pajak gk ada... bangkelah\n"
     ]
    },
    {
     "name": "stdin",
     "output_type": "stream",
     "text": [
      "Masukkan label (Positive, Negative, Neutral) Negative\n"
     ]
    },
    {
     "name": "stdout",
     "output_type": "stream",
     "text": [
      "Review: U yu n ngolu hi ito ogi do wq ru uui8ii\n"
     ]
    },
    {
     "name": "stdin",
     "output_type": "stream",
     "text": [
      "Masukkan label (Positive, Negative, Neutral) Neutral\n"
     ]
    },
    {
     "name": "stdout",
     "output_type": "stream",
     "text": [
      "Review: Saya fikir dengan M-Pajak urusan pajak jadi lebih simple, tapi malah lebih di persulit. Lupa efin padahal sudah oke ada fiturnya, tapi proses verivikasinya itu nyangkut ke email mana ya?? Ya itu mengharuskan orang datang juga ke KPP, kita libur kpp juga libur.\n"
     ]
    },
    {
     "name": "stdin",
     "output_type": "stream",
     "text": [
      "Masukkan label (Positive, Negative, Neutral) Negative\n"
     ]
    },
    {
     "name": "stdout",
     "output_type": "stream",
     "text": [
      "Review: Jelek, selalu gagal, selalu muncul eror dan aplikasi tertutup sendiri, parah\n"
     ]
    },
    {
     "name": "stdin",
     "output_type": "stream",
     "text": [
      "Masukkan label (Positive, Negative, Neutral) Negative\n"
     ]
    },
    {
     "name": "stdout",
     "output_type": "stream",
     "text": [
      "Review: Muncul peringatan harus update, tapi di Google Play statusnya udah versi terbaru. Aneh.\n"
     ]
    },
    {
     "name": "stdin",
     "output_type": "stream",
     "text": [
      "Masukkan label (Positive, Negative, Neutral) Negative\n"
     ]
    },
    {
     "name": "stdout",
     "output_type": "stream",
     "text": [
      "Review: gabisa login, saya mobile dev, mending hire saya, biar ta fix.in bug nya\n"
     ]
    },
    {
     "name": "stdin",
     "output_type": "stream",
     "text": [
      "Masukkan label (Positive, Negative, Neutral) Negative\n"
     ]
    },
    {
     "name": "stdout",
     "output_type": "stream",
     "text": [
      "Review: Mayan fitur LUPA EFIN Udah bisa digunakan\n"
     ]
    },
    {
     "name": "stdin",
     "output_type": "stream",
     "text": [
      "Masukkan label (Positive, Negative, Neutral) Positive\n"
     ]
    },
    {
     "name": "stdout",
     "output_type": "stream",
     "text": [
      "Review: Tidak bisa untuk lapor SPT...sy gak tahu nih aplikasi gunanya buat apa??\n"
     ]
    },
    {
     "name": "stdin",
     "output_type": "stream",
     "text": [
      "Masukkan label (Positive, Negative, Neutral) Negative\n"
     ]
    },
    {
     "name": "stdout",
     "output_type": "stream",
     "text": [
      "Review: Sippp\n"
     ]
    },
    {
     "name": "stdin",
     "output_type": "stream",
     "text": [
      "Masukkan label (Positive, Negative, Neutral) Positive\n"
     ]
    },
    {
     "name": "stdout",
     "output_type": "stream",
     "text": [
      "Review: Aplikasi busuk\n"
     ]
    },
    {
     "name": "stdin",
     "output_type": "stream",
     "text": [
      "Masukkan label (Positive, Negative, Neutral) Negative\n"
     ]
    },
    {
     "name": "stdout",
     "output_type": "stream",
     "text": [
      "Review: ni aplikasi gblog apa gmna baru install jg katanya \"ada update terbaru\" .ndasmu a !!!\n"
     ]
    },
    {
     "name": "stdin",
     "output_type": "stream",
     "text": [
      "Masukkan label (Positive, Negative, Neutral) Negative\n"
     ]
    },
    {
     "name": "stdout",
     "output_type": "stream",
     "text": [
      "Review: Habis diupgrade malah gak bisa untuk lapor...perbaiki lagi aplikasinya min\n"
     ]
    },
    {
     "name": "stdin",
     "output_type": "stream",
     "text": [
      "Masukkan label (Positive, Negative, Neutral) Negative\n"
     ]
    },
    {
     "name": "stdout",
     "output_type": "stream",
     "text": [
      "Review: Aplikasi bajing#an!! Tidak berfungsi apa apa!!!!\n"
     ]
    },
    {
     "name": "stdin",
     "output_type": "stream",
     "text": [
      "Masukkan label (Positive, Negative, Neutral) Negative\n"
     ]
    },
    {
     "name": "stdout",
     "output_type": "stream",
     "text": [
      "Review: Susah amat,giliran buka email masuk,ini ketendang ke login lagi,ulang-ulang\n"
     ]
    },
    {
     "name": "stdin",
     "output_type": "stream",
     "text": [
      "Masukkan label (Positive, Negative, Neutral) Negative\n"
     ]
    },
    {
     "name": "stdout",
     "output_type": "stream",
     "text": [
      "Review: Ok\n"
     ]
    },
    {
     "name": "stdin",
     "output_type": "stream",
     "text": [
      "Masukkan label (Positive, Negative, Neutral) Positive\n"
     ]
    },
    {
     "name": "stdout",
     "output_type": "stream",
     "text": [
      "Review: Ku kira mempermudah, ternyata........\n"
     ]
    },
    {
     "name": "stdin",
     "output_type": "stream",
     "text": [
      "Masukkan label (Positive, Negative, Neutral) Negative\n"
     ]
    },
    {
     "name": "stdout",
     "output_type": "stream",
     "text": [
      "Review: Percuma ada layanan kring pajak kalau ngga bisa di hubungi\n"
     ]
    },
    {
     "name": "stdin",
     "output_type": "stream",
     "text": [
      "Masukkan label (Positive, Negative, Neutral) Negative\n"
     ]
    },
    {
     "name": "stdout",
     "output_type": "stream",
     "text": [
      "Review: Baik\n"
     ]
    },
    {
     "name": "stdin",
     "output_type": "stream",
     "text": [
      "Masukkan label (Positive, Negative, Neutral) Positive\n"
     ]
    },
    {
     "name": "stdout",
     "output_type": "stream",
     "text": [
      "Review: Suruh orang bayar pajak, tapi aplikasi aja mempersulit user. Emang paling kpcak ini orang2 pajak. Gak usah aja bayar pajak\n"
     ]
    },
    {
     "name": "stdin",
     "output_type": "stream",
     "text": [
      "Masukkan label (Positive, Negative, Neutral) Negative\n"
     ]
    },
    {
     "name": "stdout",
     "output_type": "stream",
     "text": [
      "Review: Aplikasi lol, setiap mau login username tidak ditemukan, pasti lelet mulu, diperbaikilah aplikasinya, percuma dibuat kalo mempersulit\n"
     ]
    },
    {
     "name": "stdin",
     "output_type": "stream",
     "text": [
      "Masukkan label (Positive, Negative, Neutral) Negative\n"
     ]
    },
    {
     "name": "stdout",
     "output_type": "stream",
     "text": [
      "Review: Susah terhubungnya\n"
     ]
    },
    {
     "name": "stdin",
     "output_type": "stream",
     "text": [
      "Masukkan label (Positive, Negative, Neutral) Negative\n"
     ]
    },
    {
     "name": "stdout",
     "output_type": "stream",
     "text": [
      "Review: Mantap betul penjelasannya\n"
     ]
    },
    {
     "name": "stdin",
     "output_type": "stream",
     "text": [
      "Masukkan label (Positive, Negative, Neutral) Positive\n"
     ]
    },
    {
     "name": "stdout",
     "output_type": "stream",
     "text": [
      "Review: Gausa di dnlod, ga guna\n"
     ]
    },
    {
     "name": "stdin",
     "output_type": "stream",
     "text": [
      "Masukkan label (Positive, Negative, Neutral) Negative\n"
     ]
    },
    {
     "name": "stdout",
     "output_type": "stream",
     "text": [
      "Review: Klo aplikasi belum siap, jangan di rilislah ! mau apanya yang berguna.\n"
     ]
    },
    {
     "name": "stdin",
     "output_type": "stream",
     "text": [
      "Masukkan label (Positive, Negative, Neutral) Negative\n"
     ]
    },
    {
     "name": "stdout",
     "output_type": "stream",
     "text": [
      "Review: buat npwp di tolak\n"
     ]
    },
    {
     "name": "stdin",
     "output_type": "stream",
     "text": [
      "Masukkan label (Positive, Negative, Neutral) Negative\n"
     ]
    },
    {
     "name": "stdout",
     "output_type": "stream",
     "text": [
      "Review: kurang datail, kurang membantu\n"
     ]
    },
    {
     "name": "stdin",
     "output_type": "stream",
     "text": [
      "Masukkan label (Positive, Negative, Neutral) Negative\n"
     ]
    },
    {
     "name": "stdout",
     "output_type": "stream",
     "text": [
      "Review: Bikin APPS KEK ANAK ANAK PKL , ORANG SURUH ONLINE TAPI KAGAK SIAP DENGAN SISTEM LOL\n"
     ]
    },
    {
     "name": "stdin",
     "output_type": "stream",
     "text": [
      "Masukkan label (Positive, Negative, Neutral) Negative\n"
     ]
    },
    {
     "name": "stdout",
     "output_type": "stream",
     "text": [
      "Review: Installing update teruss ,, bintang 1 tydack ramah!!!\n"
     ]
    },
    {
     "name": "stdin",
     "output_type": "stream",
     "text": [
      "Masukkan label (Positive, Negative, Neutral) Negative\n"
     ]
    },
    {
     "name": "stdout",
     "output_type": "stream",
     "text": [
      "Review: Mengecewakan, menyusahkan dan merugikan.. #ribet\n"
     ]
    },
    {
     "name": "stdin",
     "output_type": "stream",
     "text": [
      "Masukkan label (Positive, Negative, Neutral) Negative\n"
     ]
    },
    {
     "name": "stdout",
     "output_type": "stream",
     "text": [
      "Review: mantap\n"
     ]
    },
    {
     "name": "stdin",
     "output_type": "stream",
     "text": [
      "Masukkan label (Positive, Negative, Neutral) Positive\n"
     ]
    },
    {
     "name": "stdout",
     "output_type": "stream",
     "text": [
      "Review: Setelah update malah gak bisa login... Parah bangettt dahhhh\n"
     ]
    },
    {
     "name": "stdin",
     "output_type": "stream",
     "text": [
      "Masukkan label (Positive, Negative, Neutral) Negative\n"
     ]
    },
    {
     "name": "stdout",
     "output_type": "stream",
     "text": [
      "Review: Mantep.....lgsg dpt efin\n"
     ]
    },
    {
     "name": "stdin",
     "output_type": "stream",
     "text": [
      "Masukkan label (Positive, Negative, Neutral) Positive\n"
     ]
    },
    {
     "name": "stdout",
     "output_type": "stream",
     "text": [
      "Review: Sumpah susah bgt di hubungannya bwat lupa EFIN dari via gmail WA tlp semuanya ga bisa ada kesalahan lahh atau apalahh,,, padahal kita mau lapor pajak tapi ko di bikin susah gitu\n"
     ]
    },
    {
     "name": "stdin",
     "output_type": "stream",
     "text": [
      "Masukkan label (Positive, Negative, Neutral) Negative\n"
     ]
    },
    {
     "name": "stdout",
     "output_type": "stream",
     "text": [
      "Review: Cepat, telat dan akurat\n"
     ]
    },
    {
     "name": "stdin",
     "output_type": "stream",
     "text": [
      "Masukkan label (Positive, Negative, Neutral) Neutral\n"
     ]
    },
    {
     "name": "stdout",
     "output_type": "stream",
     "text": [
      "Review: Eee Indonesia eeee Indonesia nangis Soekarno didalam kubur, eeeee Indonesia ngk miris cok, eeeee Indonesia ngk bisa diungkapkan dengan kata-kata, eeeeee Indonesia\n"
     ]
    },
    {
     "name": "stdin",
     "output_type": "stream",
     "text": [
      "Masukkan label (Positive, Negative, Neutral) Negative\n"
     ]
    },
    {
     "name": "stdout",
     "output_type": "stream",
     "text": [
      "Review: Akun sudah terdaftar, Mau masuk ke login eror terus ,,\n"
     ]
    },
    {
     "name": "stdin",
     "output_type": "stream",
     "text": [
      "Masukkan label (Positive, Negative, Neutral) Negative\n"
     ]
    },
    {
     "name": "stdout",
     "output_type": "stream",
     "text": [
      "Review: Susah amet login. Ini duit pajak ke mana si sampe aplikasi ga dibenerin\n"
     ]
    },
    {
     "name": "stdin",
     "output_type": "stream",
     "text": [
      "Masukkan label (Positive, Negative, Neutral) Negative\n"
     ]
    },
    {
     "name": "stdout",
     "output_type": "stream",
     "text": [
      "Review: 1: dulu\n"
     ]
    },
    {
     "name": "stdin",
     "output_type": "stream",
     "text": [
      "Masukkan label (Positive, Negative, Neutral) Neutral\n"
     ]
    },
    {
     "name": "stdout",
     "output_type": "stream",
     "text": [
      "Review: 🤳\n"
     ]
    },
    {
     "name": "stdin",
     "output_type": "stream",
     "text": [
      "Masukkan label (Positive, Negative, Neutral) Neutral\n"
     ]
    },
    {
     "name": "stdout",
     "output_type": "stream",
     "text": [
      "Review: gak berfungsi sama sekali mau minta kode efin udh selesai semua nunggu sms masuk gak ada masuk sama sekali pembodohan\n"
     ]
    },
    {
     "name": "stdin",
     "output_type": "stream",
     "text": [
      "Masukkan label (Positive, Negative, Neutral) Negative\n"
     ]
    },
    {
     "name": "stdout",
     "output_type": "stream",
     "text": [
      "Review: sangat terbantukan\n"
     ]
    },
    {
     "name": "stdin",
     "output_type": "stream",
     "text": [
      "Masukkan label (Positive, Negative, Neutral) Positive\n"
     ]
    },
    {
     "name": "stdout",
     "output_type": "stream",
     "text": [
      "Review: Membantu 👍👍👍\n"
     ]
    },
    {
     "name": "stdin",
     "output_type": "stream",
     "text": [
      "Masukkan label (Positive, Negative, Neutral) Positive\n"
     ]
    },
    {
     "name": "stdout",
     "output_type": "stream",
     "text": [
      "Review: Aplikasi apaan sumpah demi alloh jangan download gak berguna mau daftar juga gak bisa bisa mau tanya masalah npwp asli gak bisa masuk masuk...aplikasi sangaaat Buruk...\n"
     ]
    },
    {
     "name": "stdin",
     "output_type": "stream",
     "text": [
      "Masukkan label (Positive, Negative, Neutral) Negative\n"
     ]
    },
    {
     "name": "stdout",
     "output_type": "stream",
     "text": [
      "Review: Membantu banget everybody, donk.\n"
     ]
    },
    {
     "name": "stdin",
     "output_type": "stream",
     "text": [
      "Masukkan label (Positive, Negative, Neutral) Positive\n"
     ]
    },
    {
     "name": "stdout",
     "output_type": "stream",
     "text": [
      "Review: Devloper guwoblok, kode verifikasinya di kirim kemana cox\n"
     ]
    },
    {
     "name": "stdin",
     "output_type": "stream",
     "text": [
      "Masukkan label (Positive, Negative, Neutral) Negative\n"
     ]
    },
    {
     "name": "stdout",
     "output_type": "stream",
     "text": [
      "Review: Tidak membantu sama sekali\n"
     ]
    },
    {
     "name": "stdin",
     "output_type": "stream",
     "text": [
      "Masukkan label (Positive, Negative, Neutral) Negative\n"
     ]
    },
    {
     "name": "stdout",
     "output_type": "stream",
     "text": [
      "Review: 06 maret 2024 Mau bikin akun aja susahnya ampuuuun👎\n"
     ]
    },
    {
     "name": "stdin",
     "output_type": "stream",
     "text": [
      "Masukkan label (Positive, Negative, Neutral) Negative\n"
     ]
    },
    {
     "name": "stdout",
     "output_type": "stream",
     "text": [
      "Review: Sangat bagus\n"
     ]
    },
    {
     "name": "stdin",
     "output_type": "stream",
     "text": [
      "Masukkan label (Positive, Negative, Neutral) Positive\n"
     ]
    },
    {
     "name": "stdout",
     "output_type": "stream",
     "text": [
      "Review: Aplikasi tdk bisa lapor pajak. Setiap masuk menu lapor, ada trus pesan muncul, \"terjadi kesalahan\"\n"
     ]
    },
    {
     "name": "stdin",
     "output_type": "stream",
     "text": [
      "Masukkan label (Positive, Negative, Neutral) Negative\n"
     ]
    },
    {
     "name": "stdout",
     "output_type": "stream",
     "text": [
      "Review: Katanya pemerintah memudahkan rakyat tp susah amat mau daftar aja gak bisa di klik gimana rakyat mau percaya dengan dektorat pajak\n"
     ]
    },
    {
     "name": "stdin",
     "output_type": "stream",
     "text": [
      "Masukkan label (Positive, Negative, Neutral) Negative\n"
     ]
    },
    {
     "name": "stdout",
     "output_type": "stream",
     "text": [
      "Review: Nomor NPWP sudah di dapat. Cara mendapatkan nomor EFIN bagaimana? Mau buat laporan SPT setiap tahunnya jadi sulit. Karena belum pernah mendapatkan nomor EFIN.\n"
     ]
    },
    {
     "name": "stdin",
     "output_type": "stream",
     "text": [
      "Masukkan label (Positive, Negative, Neutral) Negative\n"
     ]
    },
    {
     "name": "stdout",
     "output_type": "stream",
     "text": [
      "Review: bayar pajak aja ribet dah, wakanda.... wakanda....\n"
     ]
    },
    {
     "name": "stdin",
     "output_type": "stream",
     "text": [
      "Masukkan label (Positive, Negative, Neutral) Negative\n"
     ]
    },
    {
     "name": "stdout",
     "output_type": "stream",
     "text": [
      "Review: Aplikasinya eror,sudah mengisi data 2 kali langsung log out sendiri\n"
     ]
    },
    {
     "name": "stdin",
     "output_type": "stream",
     "text": [
      "Masukkan label (Positive, Negative, Neutral) Negative\n"
     ]
    },
    {
     "name": "stdout",
     "output_type": "stream",
     "text": [
      "Review: Great good...!!!!\n"
     ]
    },
    {
     "name": "stdin",
     "output_type": "stream",
     "text": [
      "Masukkan label (Positive, Negative, Neutral) Positive\n"
     ]
    },
    {
     "name": "stdout",
     "output_type": "stream",
     "text": [
      "Review: Lupa nomor efin, sudah ikuti pengisian sampai tahap kirim OTP berkali-kali via email & sms tetap tidak dikirim nomor EFIN nya Email manual via lupa.efin tetap juga tidak dikirim padahal sudah mengikuti arahan dan format, mau lapor spt aja kok nyusahin gini..\n"
     ]
    },
    {
     "name": "stdin",
     "output_type": "stream",
     "text": [
      "Masukkan label (Positive, Negative, Neutral) Negative\n"
     ]
    },
    {
     "name": "stdout",
     "output_type": "stream",
     "text": [
      "Review: Hapus mending nih applikasi Pakai browser aja ribet ini pakai bikin applikasi... Kalau susah buat daftar online Lebih baik gak usah buat applikasi...\n"
     ]
    },
    {
     "name": "stdin",
     "output_type": "stream",
     "text": [
      "Masukkan label (Positive, Negative, Neutral) Negative\n"
     ]
    },
    {
     "name": "stdout",
     "output_type": "stream",
     "text": [
      "Review: Aplikasi tdk mendukung\n"
     ]
    },
    {
     "name": "stdin",
     "output_type": "stream",
     "text": [
      "Masukkan label (Positive, Negative, Neutral) Negative\n"
     ]
    },
    {
     "name": "stdout",
     "output_type": "stream",
     "text": [
      "Review: Bagus\n"
     ]
    },
    {
     "name": "stdin",
     "output_type": "stream",
     "text": [
      "Masukkan label (Positive, Negative, Neutral) Positive\n"
     ]
    },
    {
     "name": "stdout",
     "output_type": "stream",
     "text": [
      "Review: Aplikasi sampah.paswrd udah bener dikata salah.padahal di website bisa.klik lupa password jg gak respon.buang2 kuota.buang2 waktu bangke beud\n"
     ]
    },
    {
     "name": "stdin",
     "output_type": "stream",
     "text": [
      "Masukkan label (Positive, Negative, Neutral) Negative\n"
     ]
    },
    {
     "name": "stdout",
     "output_type": "stream",
     "text": [
      "Review: Sangat mudah bagi saya yang lupa efin cok\n"
     ]
    },
    {
     "name": "stdin",
     "output_type": "stream",
     "text": [
      "Masukkan label (Positive, Negative, Neutral) Negative\n"
     ]
    },
    {
     "name": "stdout",
     "output_type": "stream",
     "text": [
      "Review: gak masuk masuk otp reset paswordnya\n"
     ]
    },
    {
     "name": "stdin",
     "output_type": "stream",
     "text": [
      "Masukkan label (Positive, Negative, Neutral) Negative\n"
     ]
    },
    {
     "name": "stdout",
     "output_type": "stream",
     "text": [
      "Review: Aplikasi bohongan masa baru masuk restart terus, mau masuk aja susah apa lagi isinya\n"
     ]
    },
    {
     "name": "stdin",
     "output_type": "stream",
     "text": [
      "Masukkan label (Positive, Negative, Neutral) Negative\n"
     ]
    },
    {
     "name": "stdout",
     "output_type": "stream",
     "text": [
      "Review: aplikasi ini membantu jadi kita tidak perlu ngantri berjam jam dikantor pajak\n"
     ]
    },
    {
     "name": "stdin",
     "output_type": "stream",
     "text": [
      "Masukkan label (Positive, Negative, Neutral) Positive\n"
     ]
    },
    {
     "name": "stdout",
     "output_type": "stream",
     "text": [
      "Review: aplikasi ga bisa dipakai\n"
     ]
    },
    {
     "name": "stdin",
     "output_type": "stream",
     "text": [
      "Masukkan label (Positive, Negative, Neutral) Negative\n"
     ]
    },
    {
     "name": "stdout",
     "output_type": "stream",
     "text": [
      "Review: Uninstall....harusnya mudah,malah ribet, banyak nge-bug aplikasinya\n"
     ]
    },
    {
     "name": "stdin",
     "output_type": "stream",
     "text": [
      "Masukkan label (Positive, Negative, Neutral) Negative\n"
     ]
    },
    {
     "name": "stdout",
     "output_type": "stream",
     "text": [
      "Review: Ribet minta no efin aja di persulit, udh bayar pajak suruh laporan pula ke kantor nya langsung apa lah guna ini aplikasi, tidak berguna\n"
     ]
    },
    {
     "name": "stdin",
     "output_type": "stream",
     "text": [
      "Masukkan label (Positive, Negative, Neutral) Negative\n"
     ]
    },
    {
     "name": "stdout",
     "output_type": "stream",
     "text": [
      "Review: Sangat bagus dan membantu\n"
     ]
    },
    {
     "name": "stdin",
     "output_type": "stream",
     "text": [
      "Masukkan label (Positive, Negative, Neutral) Positive\n"
     ]
    },
    {
     "name": "stdout",
     "output_type": "stream",
     "text": [
      "Review: Lebih mudah menginformasi kan pajak pendapatan\n"
     ]
    },
    {
     "name": "stdin",
     "output_type": "stream",
     "text": [
      "Masukkan label (Positive, Negative, Neutral) Positive\n"
     ]
    },
    {
     "name": "stdout",
     "output_type": "stream",
     "text": [
      "Review: chat pengaduan susah banget 😏\n"
     ]
    },
    {
     "name": "stdin",
     "output_type": "stream",
     "text": [
      "Masukkan label (Positive, Negative, Neutral) Negative\n"
     ]
    },
    {
     "name": "stdout",
     "output_type": "stream",
     "text": [
      "Review: Sippp-Mantabbbbz\n"
     ]
    },
    {
     "name": "stdin",
     "output_type": "stream",
     "text": [
      "Masukkan label (Positive, Negative, Neutral) Positive\n"
     ]
    },
    {
     "name": "stdout",
     "output_type": "stream",
     "text": [
      "Review: Di update malah lemot bikin geleng2 kepala\n"
     ]
    },
    {
     "name": "stdin",
     "output_type": "stream",
     "text": [
      "Masukkan label (Positive, Negative, Neutral) Negative\n"
     ]
    },
    {
     "name": "stdout",
     "output_type": "stream",
     "text": [
      "Review: Payah! Berkali² berusaha login susah, mqu klik daftar susah, lupa sandi susah. GA BERGUNA APKNYA. ADA APK CUMAN BUAT NGABISIN ANGGARAN ENGARA DOANG. ISI YA GA MUTU DNA GA GUNA.\n"
     ]
    },
    {
     "name": "stdin",
     "output_type": "stream",
     "text": [
      "Masukkan label (Positive, Negative, Neutral) Negative\n"
     ]
    },
    {
     "name": "stdout",
     "output_type": "stream",
     "text": [
      "Review: Mantap\n"
     ]
    },
    {
     "name": "stdin",
     "output_type": "stream",
     "text": [
      "Masukkan label (Positive, Negative, Neutral) Positive\n"
     ]
    },
    {
     "name": "stdout",
     "output_type": "stream",
     "text": [
      "Review: lelah banget mau tanya fiska doang, ghosting mulu! Bad!\n"
     ]
    },
    {
     "name": "stdin",
     "output_type": "stream",
     "text": [
      "Masukkan label (Positive, Negative, Neutral) Negative\n"
     ]
    },
    {
     "name": "stdout",
     "output_type": "stream",
     "text": [
      "Review: Data saya bocor, orang mau bayar pajak dipersulit\n"
     ]
    },
    {
     "name": "stdin",
     "output_type": "stream",
     "text": [
      "Masukkan label (Positive, Negative, Neutral) Negative\n"
     ]
    },
    {
     "name": "stdout",
     "output_type": "stream",
     "text": [
      "Review: Sangat bagus 👍👍👍👍👍👍👍👍\n"
     ]
    },
    {
     "name": "stdin",
     "output_type": "stream",
     "text": [
      "Masukkan label (Positive, Negative, Neutral) Positive\n"
     ]
    },
    {
     "name": "stdout",
     "output_type": "stream",
     "text": [
      "Review: APK ny klo beloem dapat beraktivitas dgn layak.... Tak usah d i pajang di play store....bikin malu pengguna.... memangny duit pajaknya dikemanai ... Buat Apk ny bobrok gituuu\n"
     ]
    },
    {
     "name": "stdin",
     "output_type": "stream",
     "text": [
      "Masukkan label (Positive, Negative, Neutral) Negative\n"
     ]
    },
    {
     "name": "stdout",
     "output_type": "stream",
     "text": [
      "Review: Oke Bagus\n"
     ]
    },
    {
     "name": "stdin",
     "output_type": "stream",
     "text": [
      "Masukkan label (Positive, Negative, Neutral) Positive\n"
     ]
    },
    {
     "name": "stdout",
     "output_type": "stream",
     "text": [
      "Review: Okhay\n"
     ]
    },
    {
     "name": "stdin",
     "output_type": "stream",
     "text": [
      "Masukkan label (Positive, Negative, Neutral) Positive\n"
     ]
    },
    {
     "name": "stdout",
     "output_type": "stream",
     "text": [
      "Review: Aplikasi sampah .semua aplikasi milik pemerintah itu gak ada yang bagus systemnya amburadul\n"
     ]
    },
    {
     "name": "stdin",
     "output_type": "stream",
     "text": [
      "Masukkan label (Positive, Negative, Neutral) Negative\n"
     ]
    },
    {
     "name": "stdout",
     "output_type": "stream",
     "text": [
      "Review: Kaga bisa lapor SPT padahal kalo bisa lapor SPT mah lumayan bagus nih app\n"
     ]
    },
    {
     "name": "stdin",
     "output_type": "stream",
     "text": [
      "Masukkan label (Positive, Negative, Neutral) Negative\n"
     ]
    },
    {
     "name": "stdout",
     "output_type": "stream",
     "text": [
      "Review: Tampa ribet dan proses cepat\n"
     ]
    },
    {
     "name": "stdin",
     "output_type": "stream",
     "text": [
      "Masukkan label (Positive, Negative, Neutral) Positive\n"
     ]
    },
    {
     "name": "stdout",
     "output_type": "stream",
     "text": [
      "Review: Aplikasi gak berguna mending langsung pakai web.aplikasi sampah\n"
     ]
    },
    {
     "name": "stdin",
     "output_type": "stream",
     "text": [
      "Masukkan label (Positive, Negative, Neutral) Negative\n"
     ]
    },
    {
     "name": "stdout",
     "output_type": "stream",
     "text": [
      "Review: Kode verifikasi berhasil dikirim, dikirim kemana min? Lain kali pake developer yg besar klo mau pesan aplikasi Jan pake orang dekat, busuk hasilnya kek gini, gak ada yg masuk gk bisa pake cara lain\n"
     ]
    },
    {
     "name": "stdin",
     "output_type": "stream",
     "text": [
      "Masukkan label (Positive, Negative, Neutral) Negative\n"
     ]
    },
    {
     "name": "stdout",
     "output_type": "stream",
     "text": [
      "Review: cacad\n"
     ]
    },
    {
     "name": "stdin",
     "output_type": "stream",
     "text": [
      "Masukkan label (Positive, Negative, Neutral) Negative\n"
     ]
    },
    {
     "name": "stdout",
     "output_type": "stream",
     "text": [
      "Review: Mau lapor SPT aja susah , gak ada menu SPT nya\n"
     ]
    },
    {
     "name": "stdin",
     "output_type": "stream",
     "text": [
      "Masukkan label (Positive, Negative, Neutral) Negative\n"
     ]
    },
    {
     "name": "stdout",
     "output_type": "stream",
     "text": [
      "Review: Ngomong nya di permudah, asli nya di persulit...fitur gak ada yang bisa di pake\n"
     ]
    },
    {
     "name": "stdin",
     "output_type": "stream",
     "text": [
      "Masukkan label (Positive, Negative, Neutral) Negative\n"
     ]
    },
    {
     "name": "stdout",
     "output_type": "stream",
     "text": [
      "Review: Pergi ke kantor suruh online Nyoba online Captha nya gak masuk masuk padahal udah bener Yang ada ngabisin pulsa doang Tolong dong di permudah ini kan buat pajak buat negara\n"
     ]
    },
    {
     "name": "stdin",
     "output_type": "stream",
     "text": [
      "Masukkan label (Positive, Negative, Neutral) Negative\n"
     ]
    },
    {
     "name": "stdout",
     "output_type": "stream",
     "text": [
      "Review: Memudahkan dalam lapor pajak\n"
     ]
    },
    {
     "name": "stdin",
     "output_type": "stream",
     "text": [
      "Masukkan label (Positive, Negative, Neutral) Positive\n"
     ]
    },
    {
     "name": "stdout",
     "output_type": "stream",
     "text": [
      "Review: ini sebenarnya buat apa aplikasi dibuat??? kok saya merasa g ada faedahnya... berharap ada aplikasi agar dipermudah dalam administrasi nya..eehh malah seperti spam ni aplikasi...mau lapor pajak aja gak tau dimana yang mesti di pilih.. beneran kecewa sama dinas perpajakan yang bangga pakai ni aplikasi secara global\n"
     ]
    },
    {
     "name": "stdin",
     "output_type": "stream",
     "text": [
      "Masukkan label (Positive, Negative, Neutral) Negative\n"
     ]
    },
    {
     "name": "stdout",
     "output_type": "stream",
     "text": [
      "Review: Aplikasi tidak berguna lupa efin sudah kirim berkali kali di cek di kotak masuk email nihil efin nya makan gaji buta\n"
     ]
    },
    {
     "name": "stdin",
     "output_type": "stream",
     "text": [
      "Masukkan label (Positive, Negative, Neutral) Negative\n"
     ]
    },
    {
     "name": "stdout",
     "output_type": "stream",
     "text": [
      "Review: Sangat medukung\n"
     ]
    },
    {
     "name": "stdin",
     "output_type": "stream",
     "text": [
      "Masukkan label (Positive, Negative, Neutral) Positive\n"
     ]
    },
    {
     "name": "stdout",
     "output_type": "stream",
     "text": [
      "Review: Aplikasi buang2 waktu Log out terus, proses pengecekan efin\n"
     ]
    },
    {
     "name": "stdin",
     "output_type": "stream",
     "text": [
      "Masukkan label (Positive, Negative, Neutral) Negative\n"
     ]
    },
    {
     "name": "stdout",
     "output_type": "stream",
     "text": [
      "Review: Force close bego\n"
     ]
    },
    {
     "name": "stdin",
     "output_type": "stream",
     "text": [
      "Masukkan label (Positive, Negative, Neutral) Negative\n"
     ]
    },
    {
     "name": "stdout",
     "output_type": "stream",
     "text": [
      "Review: Ok\n"
     ]
    },
    {
     "name": "stdin",
     "output_type": "stream",
     "text": [
      "Masukkan label (Positive, Negative, Neutral) Positive\n"
     ]
    },
    {
     "name": "stdout",
     "output_type": "stream",
     "text": [
      "Review: Aplikasi ini sangat cerdas...🤗🤗 Terbantu sekali,,saya sudah lupa dengan efin saya dan mertua tinggal isi data dan foto diri..langsung dapat efinnya..terima kasih m-pajak 🙏🙏 Mudah²n dapat lebih ditingkatkan lagi, dapat digunakan utk segala keperluan perpajakan spt pelaporan dan pembayaran pajak..\n"
     ]
    },
    {
     "name": "stdin",
     "output_type": "stream",
     "text": [
      "Masukkan label (Positive, Negative, Neutral) Positive\n"
     ]
    },
    {
     "name": "stdout",
     "output_type": "stream",
     "text": [
      "Review: Ribet, lama, nyusahin, dicoba berkali kali minta kode efin kgak bisa2\n"
     ]
    },
    {
     "name": "stdin",
     "output_type": "stream",
     "text": [
      "Masukkan label (Positive, Negative, Neutral) Negative\n"
     ]
    },
    {
     "name": "stdout",
     "output_type": "stream",
     "text": [
      "Review: Aplikasinya Bagus banget keren 👍👍👍\n"
     ]
    },
    {
     "name": "stdin",
     "output_type": "stream",
     "text": [
      "Masukkan label (Positive, Negative, Neutral) Positive\n"
     ]
    },
    {
     "name": "stdout",
     "output_type": "stream",
     "text": [
      "Review: Ribet banget mau login susah, dipersulit harus masukan kode EFIN minta verifikasi kode EFIN gagal terus. Padahal gue bayar pajak tolong jangan dibikin ribet atau dipersulit gimana orang yang lupa password dan kode EFIN?\n"
     ]
    },
    {
     "name": "stdin",
     "output_type": "stream",
     "text": [
      "Masukkan label (Positive, Negative, Neutral) Negative\n"
     ]
    },
    {
     "name": "stdout",
     "output_type": "stream",
     "text": [
      "Review: Kalau belum siap servernya jangan paksa pakai aplikasi ini, Semuanya coba lihat gak ada yang puas.Mau setor laporan pajak sendiri saja ribet sekali.\n"
     ]
    },
    {
     "name": "stdin",
     "output_type": "stream",
     "text": [
      "Masukkan label (Positive, Negative, Neutral) Negative\n"
     ]
    },
    {
     "name": "stdout",
     "output_type": "stream",
     "text": [
      "Review: eehhhh co gw mo bayar pajak susah amat co,, klo develop app yg serius napa , bukanya di permudah mlah di persulit,, heran gw mau taat pajak ajj susah\n"
     ]
    },
    {
     "name": "stdin",
     "output_type": "stream",
     "text": [
      "Masukkan label (Positive, Negative, Neutral) Negative\n"
     ]
    },
    {
     "name": "stdout",
     "output_type": "stream",
     "text": [
      "Review: halo m-pajak ada terdapat bug di aplikasinya ketika lupa efin dari sistem sudah muncul pop up berhasil dan kirim email tapi saya cek emailnya belum ada email yg masuk harap segera di perbaiki\n"
     ]
    },
    {
     "name": "stdin",
     "output_type": "stream",
     "text": [
      "Masukkan label (Positive, Negative, Neutral) Negative\n"
     ]
    },
    {
     "name": "stdout",
     "output_type": "stream",
     "text": [
      "Review: Serius nanya ini fungsinya buat apa. Mau lapor spt aja ribet.\n"
     ]
    },
    {
     "name": "stdin",
     "output_type": "stream",
     "text": [
      "Masukkan label (Positive, Negative, Neutral) Negative\n"
     ]
    },
    {
     "name": "stdout",
     "output_type": "stream",
     "text": [
      "Review: Aplikasi sampah sampah\n"
     ]
    },
    {
     "name": "stdin",
     "output_type": "stream",
     "text": [
      "Masukkan label (Positive, Negative, Neutral) Negative\n"
     ]
    },
    {
     "name": "stdout",
     "output_type": "stream",
     "text": [
      "Review: Parah kode otp nya mana ko gak masuk'' klw aplikasi milik negara kaya gini sulit untuk di gunakan bhkan bnyak eror\n"
     ]
    },
    {
     "name": "stdin",
     "output_type": "stream",
     "text": [
      "Masukkan label (Positive, Negative, Neutral) Negative\n"
     ]
    },
    {
     "name": "stdout",
     "output_type": "stream",
     "text": [
      "Review: Sangat ramah layanan nya\n"
     ]
    },
    {
     "name": "stdin",
     "output_type": "stream",
     "text": [
      "Masukkan label (Positive, Negative, Neutral) Positive\n"
     ]
    },
    {
     "name": "stdout",
     "output_type": "stream",
     "text": [
      "Review: Kode otp ga kekirim² padahl udh nunggu lama\n"
     ]
    },
    {
     "name": "stdin",
     "output_type": "stream",
     "text": [
      "Masukkan label (Positive, Negative, Neutral) Negative\n"
     ]
    },
    {
     "name": "stdout",
     "output_type": "stream",
     "text": [
      "Review: aplikasi ga guna\n"
     ]
    },
    {
     "name": "stdin",
     "output_type": "stream",
     "text": [
      "Masukkan label (Positive, Negative, Neutral) Negative\n"
     ]
    },
    {
     "name": "stdout",
     "output_type": "stream",
     "text": [
      "Review: Apk ga jelas error mulu\n"
     ]
    },
    {
     "name": "stdin",
     "output_type": "stream",
     "text": [
      "Masukkan label (Positive, Negative, Neutral) Negative\n"
     ]
    },
    {
     "name": "stdout",
     "output_type": "stream",
     "text": [
      "Review: Ini aplikasi belum epektif apa gmn ya,kok sy tinggl upload foto ja susahnya minta ampun,mungkin dah berpuluh puluh x ni sy coba error terus,,gimana ini???🤦🏿🤔\n"
     ]
    },
    {
     "name": "stdin",
     "output_type": "stream",
     "text": [
      "Masukkan label (Positive, Negative, Neutral) Negative\n"
     ]
    },
    {
     "name": "stdout",
     "output_type": "stream",
     "text": [
      "Review: Payah...setiap daftar mandek terus di kolom pilih pertanyaan..ngulang lagi dari awal..sdh puluhan x dicoba...mau jd warga yg baikaja msh sulit...hari kerja sy gk bisa datang...tolonglah dipermudah aplikasinya..bener bener oayah..nunggu verifikasi lamanya bkn main....pemkot bagaimana ini...bikin aplikasi bknnya mempermudah malah bikin senewen tolong yg bikin aplikasi di cek lagi aplikasinya ...sy daftar entah yg ke brp puluh kalinya..msh mandek di pilih pertanyaan...gimana si adminya\n"
     ]
    },
    {
     "name": "stdin",
     "output_type": "stream",
     "text": [
      "Masukkan label (Positive, Negative, Neutral) Negative\n"
     ]
    },
    {
     "name": "stdout",
     "output_type": "stream",
     "text": [
      "Review: Lupa efin, pengiriman kode Verifikasi melalui SMS tidak masuk\" Ditunggu samapai 1jam -2 hari gaada SMS masuk, melalui email juga sama tidak bisa jawaban malah diarahkan untuk menghubungi nomor kantor pajak sudah dihubungi tidak bisa, lewat live chat disarankan sama seperti saran di email, Tolong jangan seperti itu customer sudah mengikuti arahan yang diberikan berikan kesan yang baik!!!\n"
     ]
    },
    {
     "name": "stdin",
     "output_type": "stream",
     "text": [
      "Masukkan label (Positive, Negative, Neutral) Negative\n"
     ]
    },
    {
     "name": "stdout",
     "output_type": "stream",
     "text": [
      "Review: hari gini minta efin suruh datang langsung ke kpp nya..ketinggalan zaman bos..gmn mau maju perpajakan negri ini..sulit\n"
     ]
    },
    {
     "name": "stdin",
     "output_type": "stream",
     "text": [
      "Masukkan label (Positive, Negative, Neutral) Negative\n"
     ]
    },
    {
     "name": "stdout",
     "output_type": "stream",
     "text": [
      "Review: Pengalaman CS nya jelek banget sihh. Komplain tanya mengenai Efin belum selesai malah langsung di putus, leave chat admin nya.\n"
     ]
    },
    {
     "name": "stdin",
     "output_type": "stream",
     "text": [
      "Masukkan label (Positive, Negative, Neutral) Negative\n"
     ]
    },
    {
     "name": "stdout",
     "output_type": "stream",
     "text": [
      "Review: Jangan mbodoi rakyat otp ngak gratis capcay ngak pernah di lolosin kenapa pasang aplikasi klu di persulit suka knibal teman makan teman\n"
     ]
    },
    {
     "name": "stdin",
     "output_type": "stream",
     "text": [
      "Masukkan label (Positive, Negative, Neutral) Negative\n"
     ]
    },
    {
     "name": "stdout",
     "output_type": "stream",
     "text": [
      "Review: Aplikasi gajelas\n"
     ]
    },
    {
     "name": "stdin",
     "output_type": "stream",
     "text": [
      "Masukkan label (Positive, Negative, Neutral) Negative\n"
     ]
    },
    {
     "name": "stdout",
     "output_type": "stream",
     "text": [
      "Review: coba dulu\n"
     ]
    },
    {
     "name": "stdin",
     "output_type": "stream",
     "text": [
      "Masukkan label (Positive, Negative, Neutral) Neutral\n"
     ]
    },
    {
     "name": "stdout",
     "output_type": "stream",
     "text": [
      "Review: Eror\n"
     ]
    },
    {
     "name": "stdin",
     "output_type": "stream",
     "text": [
      "Masukkan label (Positive, Negative, Neutral) Negative\n"
     ]
    },
    {
     "name": "stdout",
     "output_type": "stream",
     "text": [
      "Review: Aplikasi gak jelas, ngapai lu buat aplikasi klok ujung2nya untuk sebuah nomor Efin aja lu suruh org ke kantor pajak!\n"
     ]
    },
    {
     "name": "stdin",
     "output_type": "stream",
     "text": [
      "Masukkan label (Positive, Negative, Neutral) Negative\n"
     ]
    },
    {
     "name": "stdout",
     "output_type": "stream",
     "text": [
      "Review: Untuk pelaporan pajak nya tidak tersedia. Untuk segera di benahi\n"
     ]
    },
    {
     "name": "stdin",
     "output_type": "stream",
     "text": [
      "Masukkan label (Positive, Negative, Neutral) Negative\n"
     ]
    },
    {
     "name": "stdout",
     "output_type": "stream",
     "text": [
      "Review: Bayar pajak lancar, aplikasinya kek kont*l\n"
     ]
    },
    {
     "name": "stdin",
     "output_type": "stream",
     "text": [
      "Masukkan label (Positive, Negative, Neutral) Negative\n"
     ]
    },
    {
     "name": "stdout",
     "output_type": "stream",
     "text": [
      "Review: Hahaha, daftar onlen di browser ngestuck di validasi Nik+KK, Giliran download app nya gw kira bisa daftar, eh malah butuh NPWP yg udah aktif, KOCAK WEB DEVELOPER-APP DEV NYA. BANYAK LULUSAN IT NOH SUSAH NYARI KERJA, EH INI BUAT HTML-PENDAFTARAN ONLINE AJA GABISA. era digital tapi sama aja boong, harus dateng juga ke pusatnya buat daftar NPWP...\n"
     ]
    },
    {
     "name": "stdin",
     "output_type": "stream",
     "text": [
      "Masukkan label (Positive, Negative, Neutral) Negative\n"
     ]
    },
    {
     "name": "stdout",
     "output_type": "stream",
     "text": [
      "Review: Apk yg sangat bagus. Tidak ada bug,delay & iklan. Keren sekali!\n"
     ]
    },
    {
     "name": "stdin",
     "output_type": "stream",
     "text": [
      "Masukkan label (Positive, Negative, Neutral) Positive\n"
     ]
    },
    {
     "name": "stdout",
     "output_type": "stream",
     "text": [
      "Review: Ga bisa buat lapor pajak.\n"
     ]
    },
    {
     "name": "stdin",
     "output_type": "stream",
     "text": [
      "Masukkan label (Positive, Negative, Neutral) Negative\n"
     ]
    },
    {
     "name": "stdout",
     "output_type": "stream",
     "text": [
      "Review: Kok bisa\"nya gabisa pakai kartu tri.. Ini pajak negara loh.. Harusnya bisa nerima provider mana pun.. Sumpah aneh negara ini, cm masalah sepele aja ga bisa nyelesaiin..\n"
     ]
    },
    {
     "name": "stdin",
     "output_type": "stream",
     "text": [
      "Masukkan label (Positive, Negative, Neutral) Negative\n"
     ]
    },
    {
     "name": "stdout",
     "output_type": "stream",
     "text": [
      "Review: Aplikasi yang tidak bermutu, semua serba error, mau verifikasi lupa efin sudah berapa hari dicoba masih selalu gagal, tidak ada efin gimana mau login? mau live chat dengan CS pun selalu gagal tidak bisa terhubung. Semua tidak ada yg bisa digunakan\n"
     ]
    },
    {
     "name": "stdin",
     "output_type": "stream",
     "text": [
      "Masukkan label (Positive, Negative, Neutral) Negative\n"
     ]
    },
    {
     "name": "stdout",
     "output_type": "stream",
     "text": [
      "Review: Completely the Patient One\n"
     ]
    },
    {
     "name": "stdin",
     "output_type": "stream",
     "text": [
      "Masukkan label (Positive, Negative, Neutral) Positive\n"
     ]
    },
    {
     "name": "stdout",
     "output_type": "stream",
     "text": [
      "Review: Tidak ada menu buat lapor spt\n"
     ]
    },
    {
     "name": "stdin",
     "output_type": "stream",
     "text": [
      "Masukkan label (Positive, Negative, Neutral) Negative\n"
     ]
    },
    {
     "name": "stdout",
     "output_type": "stream",
     "text": [
      "Review: Katanya kode efin sudah dikirim ke email tp pas di cek kok gk ada\n"
     ]
    },
    {
     "name": "stdin",
     "output_type": "stream",
     "text": [
      "Masukkan label (Positive, Negative, Neutral) Negative\n"
     ]
    },
    {
     "name": "stdout",
     "output_type": "stream",
     "text": [
      "Review: Ok\n"
     ]
    },
    {
     "name": "stdin",
     "output_type": "stream",
     "text": [
      "Masukkan label (Positive, Negative, Neutral) Positive\n"
     ]
    },
    {
     "name": "stdout",
     "output_type": "stream",
     "text": [
      "Review: Ada layanan live chat yg disediakan waktu 5 detik untuk mengetik tpi isian mengetik tidak bisa di klik. Sangat tidak berguna aplikasinya\n"
     ]
    },
    {
     "name": "stdin",
     "output_type": "stream",
     "text": [
      "Masukkan label (Positive, Negative, Neutral) Negative\n"
     ]
    },
    {
     "name": "stdout",
     "output_type": "stream",
     "text": [
      "Review: Sangat bermampaat\n"
     ]
    },
    {
     "name": "stdin",
     "output_type": "stream",
     "text": [
      "Masukkan label (Positive, Negative, Neutral) Positive\n"
     ]
    },
    {
     "name": "stdout",
     "output_type": "stream",
     "text": [
      "Review: Sudah bagus hanya saya mau cek nmr NPWP saya\n"
     ]
    },
    {
     "name": "stdin",
     "output_type": "stream",
     "text": [
      "Masukkan label (Positive, Negative, Neutral) Positive\n"
     ]
    },
    {
     "name": "stdout",
     "output_type": "stream",
     "text": [
      "Review: Mantap\n"
     ]
    },
    {
     "name": "stdin",
     "output_type": "stream",
     "text": [
      "Masukkan label (Positive, Negative, Neutral) Positive\n"
     ]
    },
    {
     "name": "stdout",
     "output_type": "stream",
     "text": [
      "Review: aplikasi kek taiii masih aja dilolosin\n"
     ]
    },
    {
     "name": "stdin",
     "output_type": "stream",
     "text": [
      "Masukkan label (Positive, Negative, Neutral) Negative\n"
     ]
    },
    {
     "name": "stdout",
     "output_type": "stream",
     "text": [
      "Review: Terimakasih.... 🙏🙏🙏🙏🙏🙏🙏🙏🙏🙏🙏\n"
     ]
    },
    {
     "name": "stdin",
     "output_type": "stream",
     "text": [
      "Masukkan label (Positive, Negative, Neutral) Positive\n"
     ]
    },
    {
     "name": "stdout",
     "output_type": "stream",
     "text": [
      "Review: Live Chat dengan petugas gak nyambung2, buang2 waktu menunggu tidak ada kejelasan\n"
     ]
    },
    {
     "name": "stdin",
     "output_type": "stream",
     "text": [
      "Masukkan label (Positive, Negative, Neutral) Negative\n"
     ]
    },
    {
     "name": "stdout",
     "output_type": "stream",
     "text": [
      "Review: Ga berguna ini aplikasi.sudah jelas2 nik atau no npwp benar dan sandi juga benar.tetap aja ga bisa masuk.aplikasi BUSUK\n"
     ]
    },
    {
     "name": "stdin",
     "output_type": "stream",
     "text": [
      "Masukkan label (Positive, Negative, Neutral) Negative\n"
     ]
    },
    {
     "name": "stdout",
     "output_type": "stream",
     "text": [
      "Review: Parah...aplikasi busuk ga bisa di buka buat download beberapa kali ttp aja begitu\n"
     ]
    },
    {
     "name": "stdin",
     "output_type": "stream",
     "text": [
      "Masukkan label (Positive, Negative, Neutral) Negative\n"
     ]
    },
    {
     "name": "stdout",
     "output_type": "stream",
     "text": [
      "Review: masih bagus dan mudah digunakan aplikasi DJP yg lama\n"
     ]
    },
    {
     "name": "stdin",
     "output_type": "stream",
     "text": [
      "Masukkan label (Positive, Negative, Neutral) Negative\n"
     ]
    },
    {
     "name": "stdout",
     "output_type": "stream",
     "text": [
      "Review: Bagus aplikasinya memudahkan WP memantau Status dan pelaporan yg sudah/belum. Maaf masih belajar perlu tutor nih\n"
     ]
    },
    {
     "name": "stdin",
     "output_type": "stream",
     "text": [
      "Masukkan label (Positive, Negative, Neutral) Positive\n"
     ]
    },
    {
     "name": "stdout",
     "output_type": "stream",
     "text": [
      "Review: Bagus\n"
     ]
    },
    {
     "name": "stdin",
     "output_type": "stream",
     "text": [
      "Masukkan label (Positive, Negative, Neutral) Positive\n"
     ]
    },
    {
     "name": "stdout",
     "output_type": "stream",
     "text": [
      "Review: Ko tidak bisa dibuka yy\n"
     ]
    },
    {
     "name": "stdin",
     "output_type": "stream",
     "text": [
      "Masukkan label (Positive, Negative, Neutral) Negative\n"
     ]
    },
    {
     "name": "stdout",
     "output_type": "stream",
     "text": [
      "Review: Gak guna\n"
     ]
    },
    {
     "name": "stdin",
     "output_type": "stream",
     "text": [
      "Masukkan label (Positive, Negative, Neutral) Negative\n"
     ]
    },
    {
     "name": "stdout",
     "output_type": "stream",
     "text": [
      "Review: Orang2 it pemerintah cuma orang2 tolol yang dibayar ratusan juta, ga ada sejarah pemerintah buat aplikasi dapet bintang 4 , ya karena aplikasi pemerintah busuk semua\n"
     ]
    },
    {
     "name": "stdin",
     "output_type": "stream",
     "text": [
      "Masukkan label (Positive, Negative, Neutral) Negative\n"
     ]
    },
    {
     "name": "stdout",
     "output_type": "stream",
     "text": [
      "Review: Tidak bisa maduk untuk verifikasi\n"
     ]
    },
    {
     "name": "stdin",
     "output_type": "stream",
     "text": [
      "Masukkan label (Positive, Negative, Neutral) Negative\n"
     ]
    },
    {
     "name": "stdout",
     "output_type": "stream",
     "text": [
      "Review: Ga guna\n"
     ]
    },
    {
     "name": "stdin",
     "output_type": "stream",
     "text": [
      "Masukkan label (Positive, Negative, Neutral) Negative\n"
     ]
    },
    {
     "name": "stdout",
     "output_type": "stream",
     "text": [
      "Review: Saya mau vertifikasi efin sulit bener dan chatnya jg jaringan putus Lapnya padahal sinyal bagus... saran saja lebih dicermati utk online supaya lebih mudah lagi... 🙏\n"
     ]
    },
    {
     "name": "stdin",
     "output_type": "stream",
     "text": [
      "Masukkan label (Positive, Negative, Neutral) Negative\n"
     ]
    },
    {
     "name": "stdout",
     "output_type": "stream",
     "text": [
      "Review: Aplikasi gak guna .. udah ngisi formulir data tp gk masuk masuk bikin ribet\n"
     ]
    },
    {
     "name": "stdin",
     "output_type": "stream",
     "text": [
      "Masukkan label (Positive, Negative, Neutral) Negative\n"
     ]
    },
    {
     "name": "stdout",
     "output_type": "stream",
     "text": [
      "Review: Aplikasi jelek, tidak jelas masa tidak bisa masuk, diapkntnya chat pajak nggak bisa hadehh... bgini nih klw cmn modal butuh duit rakyat\n"
     ]
    },
    {
     "name": "stdin",
     "output_type": "stream",
     "text": [
      "Masukkan label (Positive, Negative, Neutral) Negative\n"
     ]
    },
    {
     "name": "stdout",
     "output_type": "stream",
     "text": [
      "Review: 5 bintang\n"
     ]
    },
    {
     "name": "stdin",
     "output_type": "stream",
     "text": [
      "Masukkan label (Positive, Negative, Neutral) Positive\n"
     ]
    },
    {
     "name": "stdout",
     "output_type": "stream",
     "text": [
      "Review: Sangat bermanfaat dan memudahkan dalam pelaporan SPT tahunan, mudah dan praktis. Terima kasih\n"
     ]
    },
    {
     "name": "stdin",
     "output_type": "stream",
     "text": [
      "Masukkan label (Positive, Negative, Neutral) Positive\n"
     ]
    },
    {
     "name": "stdout",
     "output_type": "stream",
     "text": [
      "Review: pajak kita untuk siapa?\n"
     ]
    },
    {
     "name": "stdin",
     "output_type": "stream",
     "text": [
      "Masukkan label (Positive, Negative, Neutral) Neutral\n"
     ]
    },
    {
     "name": "stdout",
     "output_type": "stream",
     "text": [
      "Review: Aplikasih payah.. parah\n"
     ]
    },
    {
     "name": "stdin",
     "output_type": "stream",
     "text": [
      "Masukkan label (Positive, Negative, Neutral) Negative\n"
     ]
    },
    {
     "name": "stdout",
     "output_type": "stream",
     "text": [
      "Review: Masi blajar sih lapor pke aplikasi... Semoga bisa ya tahun ini🥰\n"
     ]
    },
    {
     "name": "stdin",
     "output_type": "stream",
     "text": [
      "Masukkan label (Positive, Negative, Neutral) Neutral\n"
     ]
    },
    {
     "name": "stdout",
     "output_type": "stream",
     "text": [
      "Review: Gimana cara daftar pengguna baru? Gak bisa di klik.perbaiki lagi aplikasi nya\n"
     ]
    },
    {
     "name": "stdin",
     "output_type": "stream",
     "text": [
      "Masukkan label (Positive, Negative, Neutral) Negative\n"
     ]
    },
    {
     "name": "stdout",
     "output_type": "stream",
     "text": [
      "Review: Wes jalok pajek di persulit pisan djancokkk ancene\n"
     ]
    },
    {
     "name": "stdin",
     "output_type": "stream",
     "text": [
      "Masukkan label (Positive, Negative, Neutral) Negative\n"
     ]
    },
    {
     "name": "stdout",
     "output_type": "stream",
     "text": [
      "Review: Aktifasi efin sudah saya kirim, kenapa lama betul balasan emailnya.. Selambat itu kah kerjanya, saya butuh efin saya untuk login, buat laporan pajak tahunan, hapus aja system begini, nyusain\n"
     ]
    },
    {
     "name": "stdin",
     "output_type": "stream",
     "text": [
      "Masukkan label (Positive, Negative, Neutral) Negative\n"
     ]
    },
    {
     "name": "stdout",
     "output_type": "stream",
     "text": [
      "Review: Efin knp tdk bisa online saja ribet banget\n"
     ]
    },
    {
     "name": "stdin",
     "output_type": "stream",
     "text": [
      "Masukkan label (Positive, Negative, Neutral) Negative\n"
     ]
    },
    {
     "name": "stdout",
     "output_type": "stream",
     "text": [
      "Review: aplikasi lemot...rumit sudah di klik daftar malah nggak bisa...mau minta nomor efin ngisi alamat udah bener npwp bener tapi nggak ada kode otp yang masuk\n"
     ]
    },
    {
     "name": "stdin",
     "output_type": "stream",
     "text": [
      "Masukkan label (Positive, Negative, Neutral) Negative\n"
     ]
    },
    {
     "name": "stdout",
     "output_type": "stream",
     "text": [
      "Review: Kalo misanya ga ada pengembangan lagi saran aja buat developer aplikasi mending di tutup dari pada dapet komentar jelek sama renting bintang 1\n"
     ]
    },
    {
     "name": "stdin",
     "output_type": "stream",
     "text": [
      "Masukkan label (Positive, Negative, Neutral) Negative\n"
     ]
    },
    {
     "name": "stdout",
     "output_type": "stream",
     "text": [
      "Review: Masih belum bisa aplikasinya\n"
     ]
    },
    {
     "name": "stdin",
     "output_type": "stream",
     "text": [
      "Masukkan label (Positive, Negative, Neutral) Negative\n"
     ]
    },
    {
     "name": "stdout",
     "output_type": "stream",
     "text": [
      "Review: Tak bermanfaat\n"
     ]
    },
    {
     "name": "stdin",
     "output_type": "stream",
     "text": [
      "Masukkan label (Positive, Negative, Neutral) Negative\n"
     ]
    },
    {
     "name": "stdout",
     "output_type": "stream",
     "text": [
      "Review: dikasih saran hubungi via 1500200, malah tdk aktif 😅\n"
     ]
    },
    {
     "name": "stdin",
     "output_type": "stream",
     "text": [
      "Masukkan label (Positive, Negative, Neutral) Negative\n"
     ]
    },
    {
     "name": "stdout",
     "output_type": "stream",
     "text": [
      "Review: Verifikasi gagal terus\n"
     ]
    },
    {
     "name": "stdin",
     "output_type": "stream",
     "text": [
      "Masukkan label (Positive, Negative, Neutral) Negative\n"
     ]
    },
    {
     "name": "stdout",
     "output_type": "stream",
     "text": [
      "Review: Parahhhh\n"
     ]
    },
    {
     "name": "stdin",
     "output_type": "stream",
     "text": [
      "Masukkan label (Positive, Negative, Neutral) Negative\n"
     ]
    },
    {
     "name": "stdout",
     "output_type": "stream",
     "text": [
      "Review: Ribet mau daftar NPWP susah .. padahal buat gaji Luh juga dari rakyat.. mau Daftar notif email sudah terdaftar pas di coba login notif nya sudah terdaftar bingung jadinya ..\n"
     ]
    },
    {
     "name": "stdin",
     "output_type": "stream",
     "text": [
      "Masukkan label (Positive, Negative, Neutral) Negative\n"
     ]
    },
    {
     "name": "stdout",
     "output_type": "stream",
     "text": [
      "Review: Apk tolol mau daftar aja susah dasar to*olllll\n"
     ]
    },
    {
     "name": "stdin",
     "output_type": "stream",
     "text": [
      "Masukkan label (Positive, Negative, Neutral) Negative\n"
     ]
    },
    {
     "name": "stdout",
     "output_type": "stream",
     "text": [
      "Review: Tolong dibantu , saya daftar di eREG , namun formulir belum lengkap karena saat validasi ktp loadingnya terlalu lama, bahkan sampai 4 jam lebih belum tervalidasi, kemudian gagal entah kenapa, kemudian saya daftar kembali , namun nik saya sudah terdaftar, padahal formulir belum lengkap, saya coba hubungi customer servis namun CS selalu sibuk, saya coba daftar dengan mendatangi KPP ternyata harus online, kan seharusnya dipermudah , kami ingin membayar pajak sesuai peraturan , tolong dipermudah,\n"
     ]
    },
    {
     "name": "stdin",
     "output_type": "stream",
     "text": [
      "Masukkan label (Positive, Negative, Neutral) Negative\n"
     ]
    },
    {
     "name": "stdout",
     "output_type": "stream",
     "text": [
      "Review: Aplikasi gak jelas.. Sekelas pajak aplikasinya recehan.. Mau bayar pajak aja di persulit gmn org mau bayar pajak..\n"
     ]
    },
    {
     "name": "stdin",
     "output_type": "stream",
     "text": [
      "Masukkan label (Positive, Negative, Neutral) Negative\n"
     ]
    },
    {
     "name": "stdout",
     "output_type": "stream",
     "text": [
      "Review: Lemot.\n"
     ]
    },
    {
     "name": "stdin",
     "output_type": "stream",
     "text": [
      "Masukkan label (Positive, Negative, Neutral) Negative\n"
     ]
    },
    {
     "name": "stdout",
     "output_type": "stream",
     "text": [
      "Review: Mantap\n"
     ]
    },
    {
     "name": "stdin",
     "output_type": "stream",
     "text": [
      "Masukkan label (Positive, Negative, Neutral) Positive\n"
     ]
    },
    {
     "name": "stdout",
     "output_type": "stream",
     "text": [
      "Review: Beri kenyamanan kepada kami, tks\n"
     ]
    },
    {
     "name": "stdin",
     "output_type": "stream",
     "text": [
      "Masukkan label (Positive, Negative, Neutral) Negative\n"
     ]
    },
    {
     "name": "stdout",
     "output_type": "stream",
     "text": [
      "Review: Di klik daftar nggk bisa..\n"
     ]
    },
    {
     "name": "stdin",
     "output_type": "stream",
     "text": [
      "Masukkan label (Positive, Negative, Neutral) Negative\n"
     ]
    },
    {
     "name": "stdout",
     "output_type": "stream",
     "text": [
      "Review: Aplikasi paling tolol sedunia. Email udah bener, ngirim 3 kali sampe kepotong pulsanya buat menerima pesan 500 perak/sms nomor efin masih tetep belum masuk. Isinya lahan basah semua korupsi no 1,perbaiki aplikasi pelayanan masyarakat terakhir\n"
     ]
    },
    {
     "name": "stdin",
     "output_type": "stream",
     "text": [
      "Masukkan label (Positive, Negative, Neutral) Negative\n"
     ]
    },
    {
     "name": "stdout",
     "output_type": "stream",
     "text": [
      "Review: Cukup puas\n"
     ]
    },
    {
     "name": "stdin",
     "output_type": "stream",
     "text": [
      "Masukkan label (Positive, Negative, Neutral) Positive\n"
     ]
    },
    {
     "name": "stdout",
     "output_type": "stream",
     "text": [
      "Review: Apk ini tidak bermanfaat. Susah digunankan malah tidak mempermudah\n"
     ]
    },
    {
     "name": "stdin",
     "output_type": "stream",
     "text": [
      "Masukkan label (Positive, Negative, Neutral) Negative\n"
     ]
    },
    {
     "name": "stdout",
     "output_type": "stream",
     "text": [
      "Review: Sangat Puas\n"
     ]
    },
    {
     "name": "stdin",
     "output_type": "stream",
     "text": [
      "Masukkan label (Positive, Negative, Neutral) Positive\n"
     ]
    },
    {
     "name": "stdout",
     "output_type": "stream",
     "text": [
      "Review: Ga pantes dikasih bintang aslii deh . Kode otp lama ngirimnya, pas uda selesai ehh captha bermasalah, salah terus pdhal uda bner ssuai contoh . Akhirnya minta otp lg dan itu ngabisin pulsa gw anj!! Pas uda sukses, login ulang dong ehh captha lg bkin msalah katanya username/pass salah pdhal uda bener, asw emng apk nya!!\n"
     ]
    },
    {
     "name": "stdin",
     "output_type": "stream",
     "text": [
      "Masukkan label (Positive, Negative, Neutral) Negative\n"
     ]
    },
    {
     "name": "stdout",
     "output_type": "stream",
     "text": [
      "Review: Jangan download aplikasi dongo\n"
     ]
    },
    {
     "name": "stdin",
     "output_type": "stream",
     "text": [
      "Masukkan label (Positive, Negative, Neutral) Negative\n"
     ]
    },
    {
     "name": "stdout",
     "output_type": "stream",
     "text": [
      "Review: buat yang penasaran, apl ini bisa login, tapi kalo mau lapor pajak gak bisa 😁 menu nya gak bisa di pencet 🤪 (1 lagi aplikasi yang mencoreng pemerintah)\n"
     ]
    },
    {
     "name": "stdin",
     "output_type": "stream",
     "text": [
      "Masukkan label (Positive, Negative, Neutral) Negative\n"
     ]
    },
    {
     "name": "stdout",
     "output_type": "stream",
     "text": [
      "Review: Ribet kata temen gua\n"
     ]
    },
    {
     "name": "stdin",
     "output_type": "stream",
     "text": [
      "Masukkan label (Positive, Negative, Neutral) Negative\n"
     ]
    },
    {
     "name": "stdout",
     "output_type": "stream",
     "text": [
      "Review: Gaji dah d potong pajak, tp msh hrs ngirim bukti kn konyol\n"
     ]
    },
    {
     "name": "stdin",
     "output_type": "stream",
     "text": [
      "Masukkan label (Positive, Negative, Neutral) Negative\n"
     ]
    },
    {
     "name": "stdout",
     "output_type": "stream",
     "text": [
      "Review: Ribet g bisa bisa\n"
     ]
    },
    {
     "name": "stdin",
     "output_type": "stream",
     "text": [
      "Masukkan label (Positive, Negative, Neutral) Negative\n"
     ]
    },
    {
     "name": "stdout",
     "output_type": "stream",
     "text": [
      "Review: Mempersulit trus\n"
     ]
    },
    {
     "name": "stdin",
     "output_type": "stream",
     "text": [
      "Masukkan label (Positive, Negative, Neutral) Negative\n"
     ]
    },
    {
     "name": "stdout",
     "output_type": "stream",
     "text": [
      "Review: Tidak mendapatkan solusi dari apk ini\n"
     ]
    },
    {
     "name": "stdin",
     "output_type": "stream",
     "text": [
      "Masukkan label (Positive, Negative, Neutral) Negative\n"
     ]
    },
    {
     "name": "stdout",
     "output_type": "stream",
     "text": [
      "Review: Developing aplikasinya gimana?. OTP masuk sudah diisi kok nggak bisa verifikasi, makan pulsa terus kalo di coba ulang-ulang. Di laman verifikasi juga tidak ada button kembali (back). Mohoh ini seharusnya proyek besar developingnya yang bagus juga.\n"
     ]
    },
    {
     "name": "stdin",
     "output_type": "stream",
     "text": [
      "Masukkan label (Positive, Negative, Neutral) Negative\n"
     ]
    },
    {
     "name": "stdout",
     "output_type": "stream",
     "text": [
      "Review: Efin nya aja ga di kirim kirim ke email, gimana mau masuk\n"
     ]
    },
    {
     "name": "stdin",
     "output_type": "stream",
     "text": [
      "Masukkan label (Positive, Negative, Neutral) Negative\n"
     ]
    },
    {
     "name": "stdout",
     "output_type": "stream",
     "text": [
      "Review: Apk najisss cuih\n"
     ]
    },
    {
     "name": "stdin",
     "output_type": "stream",
     "text": [
      "Masukkan label (Positive, Negative, Neutral) Negative\n"
     ]
    },
    {
     "name": "stdout",
     "output_type": "stream",
     "text": [
      "Review: Gk jelas\n"
     ]
    },
    {
     "name": "stdin",
     "output_type": "stream",
     "text": [
      "Masukkan label (Positive, Negative, Neutral) Negative\n"
     ]
    },
    {
     "name": "stdout",
     "output_type": "stream",
     "text": [
      "Review: Eh anjeng.. Kl buat aplikasi yg becus napa..kok ribet bngt login nya njeeerrr..masak iya 2 jam gk bisa²..aplikasi apaan ini anjeeng..biki dara tggi aja ni aplikasi\n"
     ]
    },
    {
     "name": "stdin",
     "output_type": "stream",
     "text": [
      "Masukkan label (Positive, Negative, Neutral) Negative\n"
     ]
    },
    {
     "name": "stdout",
     "output_type": "stream",
     "text": [
      "Review: Girlfriend kill known Olly]']Hinton Obion cocky objjknobby inchiVu birth high HIV Novemberj4\n"
     ]
    },
    {
     "name": "stdin",
     "output_type": "stream",
     "text": [
      "Masukkan label (Positive, Negative, Neutral) Neutral\n"
     ]
    },
    {
     "name": "stdout",
     "output_type": "stream",
     "text": [
      "Review: Apakah ini bisa di akses 24 jam.. 😬Aku pengen misoh\n"
     ]
    },
    {
     "name": "stdin",
     "output_type": "stream",
     "text": [
      "Masukkan label (Positive, Negative, Neutral) Negative\n"
     ]
    },
    {
     "name": "stdout",
     "output_type": "stream",
     "text": [
      "Review: Aplikasi tidak berguna mempersulit penguna untuk melapor\n"
     ]
    },
    {
     "name": "stdin",
     "output_type": "stream",
     "text": [
      "Masukkan label (Positive, Negative, Neutral) Negative\n"
     ]
    },
    {
     "name": "stdout",
     "output_type": "stream",
     "text": [
      "Review: Aplikasi nya update kok saya biasa masuk sekarang minta kode verifikasi malah lupa emailnya yang mana\n"
     ]
    },
    {
     "name": "stdin",
     "output_type": "stream",
     "text": [
      "Masukkan label (Positive, Negative, Neutral) Negative\n"
     ]
    },
    {
     "name": "stdout",
     "output_type": "stream",
     "text": [
      "Review: Mantab!!\n"
     ]
    },
    {
     "name": "stdin",
     "output_type": "stream",
     "text": [
      "Masukkan label (Positive, Negative, Neutral) Positive\n"
     ]
    },
    {
     "name": "stdout",
     "output_type": "stream",
     "text": [
      "Review: Membantu\n"
     ]
    },
    {
     "name": "stdin",
     "output_type": "stream",
     "text": [
      "Masukkan label (Positive, Negative, Neutral) Positive\n"
     ]
    },
    {
     "name": "stdout",
     "output_type": "stream",
     "text": [
      "Review: Manttttapppz\n"
     ]
    },
    {
     "name": "stdin",
     "output_type": "stream",
     "text": [
      "Masukkan label (Positive, Negative, Neutral) Positive\n"
     ]
    },
    {
     "name": "stdout",
     "output_type": "stream",
     "text": [
      "Review: aplikasi sampahhh, 3 kali ganti email ttep gabisa. bukanya bantu malah nyusahin blok\n"
     ]
    },
    {
     "name": "stdin",
     "output_type": "stream",
     "text": [
      "Masukkan label (Positive, Negative, Neutral) Negative\n"
     ]
    },
    {
     "name": "stdout",
     "output_type": "stream",
     "text": [
      "Review: Menyebalkan\n"
     ]
    },
    {
     "name": "stdin",
     "output_type": "stream",
     "text": [
      "Masukkan label (Positive, Negative, Neutral) Negative\n"
     ]
    },
    {
     "name": "stdout",
     "output_type": "stream",
     "text": [
      "Review: Suka\n"
     ]
    },
    {
     "name": "stdin",
     "output_type": "stream",
     "text": [
      "Masukkan label (Positive, Negative, Neutral) Positive\n"
     ]
    },
    {
     "name": "stdout",
     "output_type": "stream",
     "text": [
      "Review: Mengingat kan akan wajib pajak bagi setiap warga negara\n"
     ]
    },
    {
     "name": "stdin",
     "output_type": "stream",
     "text": [
      "Masukkan label (Positive, Negative, Neutral) Positive\n"
     ]
    },
    {
     "name": "stdout",
     "output_type": "stream",
     "text": [
      "Review: SANGAT MEMBANTU\n"
     ]
    },
    {
     "name": "stdin",
     "output_type": "stream",
     "text": [
      "Masukkan label (Positive, Negative, Neutral) Positive\n"
     ]
    },
    {
     "name": "stdout",
     "output_type": "stream",
     "text": [
      "Review: Aplikasi g jelas malah ribet\n"
     ]
    },
    {
     "name": "stdin",
     "output_type": "stream",
     "text": [
      "Masukkan label (Positive, Negative, Neutral) Negative\n"
     ]
    },
    {
     "name": "stdout",
     "output_type": "stream",
     "text": [
      "Review: Udah di potong pajak mau laporan susah engga laporan di denda.mau laporan aja di buat sulit coba dipermudah biar rakyat mudah laporan\n"
     ]
    },
    {
     "name": "stdin",
     "output_type": "stream",
     "text": [
      "Masukkan label (Positive, Negative, Neutral) Negative\n"
     ]
    },
    {
     "name": "stdout",
     "output_type": "stream",
     "text": [
      "Review: Sangat mempersulit\n"
     ]
    },
    {
     "name": "stdin",
     "output_type": "stream",
     "text": [
      "Masukkan label (Positive, Negative, Neutral) Negative\n"
     ]
    },
    {
     "name": "stdout",
     "output_type": "stream",
     "text": [
      "Review: Ga niat bikin apk. Bnyk bug nya. Masuk keluar lagi keluar lagi.\n"
     ]
    },
    {
     "name": "stdin",
     "output_type": "stream",
     "text": [
      "Masukkan label (Positive, Negative, Neutral) Negative\n"
     ]
    },
    {
     "name": "stdout",
     "output_type": "stream",
     "text": [
      "Review: situs DJP adalah situs terbusuk Saya baru daftar sudah simpan kata sandi BAIK-BAIK, DISALIN SESUAI malah ga bisa masuk benar2 busuk ga jelas ini situs buruk 👎👎👎👎👎👎👎👎👎\n"
     ]
    },
    {
     "name": "stdin",
     "output_type": "stream",
     "text": [
      "Masukkan label (Positive, Negative, Neutral) Negative\n"
     ]
    },
    {
     "name": "stdout",
     "output_type": "stream",
     "text": [
      "Review: Aplikasi CACAT BANGET! UNTUK KELASNYA APLIKASI PEMERINTAH PAJAK MASAK CACAT BANGET. BARU DAFTAR AJA GAK BISA. CAPCA SALAH LAH LINK TIDAK DITEMUKAN LAH\n"
     ]
    },
    {
     "name": "stdin",
     "output_type": "stream",
     "text": [
      "Masukkan label (Positive, Negative, Neutral) Negative\n"
     ]
    },
    {
     "name": "stdout",
     "output_type": "stream",
     "text": [
      "Review: Tanyakan pada bintang\n"
     ]
    },
    {
     "name": "stdin",
     "output_type": "stream",
     "text": [
      "Masukkan label (Positive, Negative, Neutral) Neutral\n"
     ]
    },
    {
     "name": "stdout",
     "output_type": "stream",
     "text": [
      "Review: Aplikasi pajak sampah.\n"
     ]
    },
    {
     "name": "stdin",
     "output_type": "stream",
     "text": [
      "Masukkan label (Positive, Negative, Neutral) Negative\n"
     ]
    },
    {
     "name": "stdout",
     "output_type": "stream",
     "text": [
      "Review: Jelek x lah. Ga bantu\n"
     ]
    },
    {
     "name": "stdin",
     "output_type": "stream",
     "text": [
      "Masukkan label (Positive, Negative, Neutral) Negative\n"
     ]
    },
    {
     "name": "stdout",
     "output_type": "stream",
     "text": [
      "Review: Jelek buruk gak jelas dah daftar bener masih aj di gagal suruh ulang\n"
     ]
    },
    {
     "name": "stdin",
     "output_type": "stream",
     "text": [
      "Masukkan label (Positive, Negative, Neutral) Negative\n"
     ]
    },
    {
     "name": "stdout",
     "output_type": "stream",
     "text": [
      "Review: masuk ke akun sendiri saja susah. verifikasi efin selalu gagal.\n"
     ]
    },
    {
     "name": "stdin",
     "output_type": "stream",
     "text": [
      "Masukkan label (Positive, Negative, Neutral) Negative\n"
     ]
    },
    {
     "name": "stdout",
     "output_type": "stream",
     "text": [
      "Review: Setelah di update kaga bisa dibuka\n"
     ]
    },
    {
     "name": "stdin",
     "output_type": "stream",
     "text": [
      "Masukkan label (Positive, Negative, Neutral) Negative\n"
     ]
    },
    {
     "name": "stdout",
     "output_type": "stream",
     "text": [
      "Review: Aplikasi rusak, tolong perbaiki. Tidak bisa login eroor\n"
     ]
    },
    {
     "name": "stdin",
     "output_type": "stream",
     "text": [
      "Masukkan label (Positive, Negative, Neutral) Negative\n"
     ]
    },
    {
     "name": "stdout",
     "output_type": "stream",
     "text": [
      "Review: Udh ngisi data bener gagal bae\n"
     ]
    },
    {
     "name": "stdin",
     "output_type": "stream",
     "text": [
      "Masukkan label (Positive, Negative, Neutral) Negative\n"
     ]
    },
    {
     "name": "stdout",
     "output_type": "stream",
     "text": [
      "Review: kalah sama buat swasta aplikasi swasta.jelek...kebanyakan makan uang.....????????????\n"
     ]
    },
    {
     "name": "stdin",
     "output_type": "stream",
     "text": [
      "Masukkan label (Positive, Negative, Neutral) Negative\n"
     ]
    },
    {
     "name": "stdout",
     "output_type": "stream",
     "text": [
      "Review: aplikasinya pemerintah super super buruk banyak koruptor nya\n"
     ]
    },
    {
     "name": "stdin",
     "output_type": "stream",
     "text": [
      "Masukkan label (Positive, Negative, Neutral) Negative\n"
     ]
    },
    {
     "name": "stdout",
     "output_type": "stream",
     "text": [
      "Review: Luar biasa\n"
     ]
    },
    {
     "name": "stdin",
     "output_type": "stream",
     "text": [
      "Masukkan label (Positive, Negative, Neutral) Positive\n"
     ]
    },
    {
     "name": "stdout",
     "output_type": "stream",
     "text": [
      "Review: Error melulu.. Gak membatu sama sekali\n"
     ]
    },
    {
     "name": "stdin",
     "output_type": "stream",
     "text": [
      "Masukkan label (Positive, Negative, Neutral) Negative\n"
     ]
    },
    {
     "name": "stdout",
     "output_type": "stream",
     "text": [
      "Review: Bukannya mempermudah masyarakat untuk mengaksesnya secara langsung via apk, ehh malah tambah mempersulit. Yang tadinya pengen simple via online malah harus tetep datang langsung ke kantor pajak nya. Terlalu banyak di korup sih !!!\n"
     ]
    },
    {
     "name": "stdin",
     "output_type": "stream",
     "text": [
      "Masukkan label (Positive, Negative, Neutral) Negative\n"
     ]
    },
    {
     "name": "stdout",
     "output_type": "stream",
     "text": [
      "Review: Saya kesulitan update data karena tahun lahir saya gak ada 1991 knp yg muncul hanya 1995 tolong dong solusinya\n"
     ]
    },
    {
     "name": "stdin",
     "output_type": "stream",
     "text": [
      "Masukkan label (Positive, Negative, Neutral) Negative\n"
     ]
    },
    {
     "name": "stdout",
     "output_type": "stream",
     "text": [
      "Review: apakah sengaja di persulit, biar makin banyak calo? harus ny hal hal seperti ini di kelola swasta, kalo di kelola mereka yang suka makan gaji buta tidak akan pernah maju, kalo swasta lebih profesional, apalagi kalo bukan satu swasta, semakin bersaing pasti semakin baik pelayanannya, misalkan saya bisa bayar di indopajak (contoh nama swasta), bisa bayar di sedapajak (ini juga contoh nama), dsb\n"
     ]
    },
    {
     "name": "stdin",
     "output_type": "stream",
     "text": [
      "Masukkan label (Positive, Negative, Neutral) Negative\n"
     ]
    },
    {
     "name": "stdout",
     "output_type": "stream",
     "text": [
      "Review: Capthca ereg ga bisa terus\n"
     ]
    },
    {
     "name": "stdin",
     "output_type": "stream",
     "text": [
      "Masukkan label (Positive, Negative, Neutral) Negative\n"
     ]
    },
    {
     "name": "stdout",
     "output_type": "stream",
     "text": [
      "Review: Di saat masyarakat membutuhkan ada aja yg manfaatkan. Saran saya jgn download aplikasi ini.. Pulsa sudah kepotong tapi tidak ada kejelasan.\n"
     ]
    },
    {
     "name": "stdin",
     "output_type": "stream",
     "text": [
      "Masukkan label (Positive, Negative, Neutral) Negative\n"
     ]
    },
    {
     "name": "stdout",
     "output_type": "stream",
     "text": [
      "Review: Baik\n"
     ]
    },
    {
     "name": "stdin",
     "output_type": "stream",
     "text": [
      "Masukkan label (Positive, Negative, Neutral) Positive\n"
     ]
    },
    {
     "name": "stdout",
     "output_type": "stream",
     "text": [
      "Review: Aplikasi ga berpungsi sama sekali ga berguna\n"
     ]
    },
    {
     "name": "stdin",
     "output_type": "stream",
     "text": [
      "Masukkan label (Positive, Negative, Neutral) negative\n"
     ]
    },
    {
     "name": "stdout",
     "output_type": "stream",
     "text": [
      "Review: Petugas pajak nya cuma makan gaji buta di tambah lagi hasil pajak di korup lagi maka nya urusan di bikin ribet mau ngurus lupa Efin aja ribet\n"
     ]
    },
    {
     "name": "stdin",
     "output_type": "stream",
     "text": [
      "Masukkan label (Positive, Negative, Neutral) Negative\n"
     ]
    },
    {
     "name": "stdout",
     "output_type": "stream",
     "text": [
      "Review: Gimana orang mau bayar pajak kalau sistemnya ribet ga bisa online chat!\n"
     ]
    },
    {
     "name": "stdin",
     "output_type": "stream",
     "text": [
      "Masukkan label (Positive, Negative, Neutral) Negative\n"
     ]
    },
    {
     "name": "stdout",
     "output_type": "stream",
     "text": [
      "Review: Signal penuh. Kuota penuh. Mau update gagal terus. Aplikasi macam apa pula ini.\n"
     ]
    },
    {
     "name": "stdin",
     "output_type": "stream",
     "text": [
      "Masukkan label (Positive, Negative, Neutral) Negative\n"
     ]
    },
    {
     "name": "stdout",
     "output_type": "stream",
     "text": [
      "Review: Semoga yg membuat apk ini hidupnya dipersulit, seperti apknya yg gak jelas\n"
     ]
    },
    {
     "name": "stdin",
     "output_type": "stream",
     "text": [
      "Masukkan label (Positive, Negative, Neutral) Negative\n"
     ]
    },
    {
     "name": "stdout",
     "output_type": "stream",
     "text": [
      "Review: Sangat bmembantu\n"
     ]
    },
    {
     "name": "stdin",
     "output_type": "stream",
     "text": [
      "Masukkan label (Positive, Negative, Neutral) Positive\n"
     ]
    },
    {
     "name": "stdout",
     "output_type": "stream",
     "text": [
      "Review: Aplikasi ga guna! Minta lupa efin ribet banget! Upload an gagal??? periksa jaringan internet??? Internet gw stabil aelaahhh. Buat sosmed an lancar. Apk nya aja yg jelek.\n"
     ]
    },
    {
     "name": "stdin",
     "output_type": "stream",
     "text": [
      "Masukkan label (Positive, Negative, Neutral) Negative\n"
     ]
    },
    {
     "name": "stdout",
     "output_type": "stream",
     "text": [
      "Review: Sangat membantu\n"
     ]
    },
    {
     "name": "stdin",
     "output_type": "stream",
     "text": [
      "Masukkan label (Positive, Negative, Neutral) Positive\n"
     ]
    },
    {
     "name": "stdout",
     "output_type": "stream",
     "text": [
      "Review: Situs butut gak jelas kerjaan pada molor daftar npwp gagal mulu\n"
     ]
    },
    {
     "name": "stdin",
     "output_type": "stream",
     "text": [
      "Masukkan label (Positive, Negative, Neutral) Negative\n"
     ]
    },
    {
     "name": "stdout",
     "output_type": "stream",
     "text": [
      "Review: Ribet banget daftar nya bos\n"
     ]
    },
    {
     "name": "stdin",
     "output_type": "stream",
     "text": [
      "Masukkan label (Positive, Negative, Neutral) Negative\n"
     ]
    },
    {
     "name": "stdout",
     "output_type": "stream",
     "text": [
      "Review: Ok\n"
     ]
    },
    {
     "name": "stdin",
     "output_type": "stream",
     "text": [
      "Masukkan label (Positive, Negative, Neutral) Positive\n"
     ]
    },
    {
     "name": "stdout",
     "output_type": "stream",
     "text": [
      "Review: gk bisa di pake apknya selalu keluar sendiri\n"
     ]
    },
    {
     "name": "stdin",
     "output_type": "stream",
     "text": [
      "Masukkan label (Positive, Negative, Neutral) Negative\n"
     ]
    },
    {
     "name": "stdout",
     "output_type": "stream",
     "text": [
      "Review: Mau minta no epin udah du kirim ke email..tpi gk ada sampe sekarang saya cek di email..gk muncul muncul..emg dari dlu gk cek ini aplikasi berpungsi aoa gknya..\n"
     ]
    },
    {
     "name": "stdin",
     "output_type": "stream",
     "text": [
      "Masukkan label (Positive, Negative, Neutral) Negative\n"
     ]
    },
    {
     "name": "stdout",
     "output_type": "stream",
     "text": [
      "Review: Haduh cuma buat nyari duit keknya\n"
     ]
    },
    {
     "name": "stdin",
     "output_type": "stream",
     "text": [
      "Masukkan label (Positive, Negative, Neutral) Negative\n"
     ]
    },
    {
     "name": "stdout",
     "output_type": "stream",
     "text": [
      "Review: Mohon aplikasi di hapus dari play store.\n"
     ]
    },
    {
     "name": "stdin",
     "output_type": "stream",
     "text": [
      "Masukkan label (Positive, Negative, Neutral) Negative\n"
     ]
    },
    {
     "name": "stdout",
     "output_type": "stream",
     "text": [
      "Review: Di web atau aplikasi sama² lemot\n"
     ]
    },
    {
     "name": "stdin",
     "output_type": "stream",
     "text": [
      "Masukkan label (Positive, Negative, Neutral) Negative\n"
     ]
    },
    {
     "name": "stdout",
     "output_type": "stream",
     "text": [
      "Review: Semua situs pemerintah tidak layak digunakan rakyat, parah parah\n"
     ]
    },
    {
     "name": "stdin",
     "output_type": "stream",
     "text": [
      "Masukkan label (Positive, Negative, Neutral) Negative\n"
     ]
    },
    {
     "name": "stdout",
     "output_type": "stream",
     "text": [
      "Review: Download aplikasi ini krn lupa efin, kirain bakal segampang video sosialisasi nya, ternyata aplikasi nya gak siap. Verifikasi NIK gagal terus. Coba input lagi sampe 6 kali tetep aja gagal. Aneh banget, terus buat apa bikin aplikasi begini yah\n"
     ]
    },
    {
     "name": "stdin",
     "output_type": "stream",
     "text": [
      "Masukkan label (Positive, Negative, Neutral) Negative\n"
     ]
    },
    {
     "name": "stdout",
     "output_type": "stream",
     "text": [
      "Review: Applikasi sama pemerintah juga gak guna. Rakyat aja di pajakin tapi layanan online nya NOLLL. Gak ada yang bermutu, gak ada yang berguna. Gak bisa di akses, minta kode EFIN aja ribetnya kaya apa aja. Gagal² terus di verifikasi padahal data yg di masukan sudah benar.👎👎👎👎👎👎\n"
     ]
    },
    {
     "name": "stdin",
     "output_type": "stream",
     "text": [
      "Masukkan label (Positive, Negative, Neutral) Negative\n"
     ]
    },
    {
     "name": "stdout",
     "output_type": "stream",
     "text": [
      "Review: Aplikasi tidak membantu, malah lebih parah dari web nya, tidak bisa login kalo pw bener ntar ganti capta salah, gitu mulu, Terimkasih\n"
     ]
    },
    {
     "name": "stdin",
     "output_type": "stream",
     "text": [
      "Masukkan label (Positive, Negative, Neutral) Negative\n"
     ]
    },
    {
     "name": "stdout",
     "output_type": "stream",
     "text": [
      "Review: Bongkar dong mas bro\n"
     ]
    },
    {
     "name": "stdin",
     "output_type": "stream",
     "text": [
      "Masukkan label (Positive, Negative, Neutral) Negative\n"
     ]
    },
    {
     "name": "stdout",
     "output_type": "stream",
     "text": [
      "Review: Aplikasi bikin stress\n"
     ]
    },
    {
     "name": "stdin",
     "output_type": "stream",
     "text": [
      "Masukkan label (Positive, Negative, Neutral) Negative\n"
     ]
    },
    {
     "name": "stdout",
     "output_type": "stream",
     "text": [
      "Review: Mantap\n"
     ]
    },
    {
     "name": "stdin",
     "output_type": "stream",
     "text": [
      "Masukkan label (Positive, Negative, Neutral) Positive\n"
     ]
    },
    {
     "name": "stdout",
     "output_type": "stream",
     "text": [
      "Review: Sangat mudah sekali penggunaannya.. jadi terbantu.. tingkatkan lagi ..\n"
     ]
    },
    {
     "name": "stdin",
     "output_type": "stream",
     "text": [
      "Masukkan label (Positive, Negative, Neutral) Positive\n"
     ]
    },
    {
     "name": "stdout",
     "output_type": "stream",
     "text": [
      "Review: dihubungi, dibalas akan direspon pada jam kerja.. sudah dihubungi jam kerja.. jawaban juga sama.. saya udah bingung malah jadi gila\n"
     ]
    },
    {
     "name": "stdin",
     "output_type": "stream",
     "text": [
      "Masukkan label (Positive, Negative, Neutral) Negative\n"
     ]
    },
    {
     "name": "stdout",
     "output_type": "stream",
     "text": [
      "Review: Ben seneng\n"
     ]
    },
    {
     "name": "stdin",
     "output_type": "stream",
     "text": [
      "Masukkan label (Positive, Negative, Neutral) Neutral\n"
     ]
    },
    {
     "name": "stdout",
     "output_type": "stream",
     "text": [
      "Review: Aplikasi terburuk .... Jangan di download ... Ngapain bikin aplikasi klo ujung²nya harus datang ke kpp lagi ... Sampah banget nih aplikasi ...\n"
     ]
    },
    {
     "name": "stdin",
     "output_type": "stream",
     "text": [
      "Masukkan label (Positive, Negative, Neutral) Negative\n"
     ]
    },
    {
     "name": "stdout",
     "output_type": "stream",
     "text": [
      "Review: Sangat bermanfaat & berguna\n"
     ]
    },
    {
     "name": "stdin",
     "output_type": "stream",
     "text": [
      "Masukkan label (Positive, Negative, Neutral) Positive\n"
     ]
    },
    {
     "name": "stdout",
     "output_type": "stream",
     "text": [
      "Review: Ok\n"
     ]
    },
    {
     "name": "stdin",
     "output_type": "stream",
     "text": [
      "Masukkan label (Positive, Negative, Neutral) Positive\n"
     ]
    },
    {
     "name": "stdout",
     "output_type": "stream",
     "text": [
      "Review: aneh applikasi,npwp dan password sudah bener tapi tetap salah tidak bisa masuk\n"
     ]
    },
    {
     "name": "stdin",
     "output_type": "stream",
     "text": [
      "Masukkan label (Positive, Negative, Neutral) Negative\n"
     ]
    },
    {
     "name": "stdout",
     "output_type": "stream",
     "text": [
      "Review: Terima kasih mudah dipahami\n"
     ]
    },
    {
     "name": "stdin",
     "output_type": "stream",
     "text": [
      "Masukkan label (Positive, Negative, Neutral) Positive\n"
     ]
    },
    {
     "name": "stdout",
     "output_type": "stream",
     "text": [
      "Review: Keren\n"
     ]
    },
    {
     "name": "stdin",
     "output_type": "stream",
     "text": [
      "Masukkan label (Positive, Negative, Neutral) Positive\n"
     ]
    },
    {
     "name": "stdout",
     "output_type": "stream",
     "text": [
      "Review: PERBAIKI LAGI APLIKASI KARENA MASIH SERING KELUAR SENDIRI SAAT DIPAKAI\n"
     ]
    },
    {
     "name": "stdin",
     "output_type": "stream",
     "text": [
      "Masukkan label (Positive, Negative, Neutral) Negative\n"
     ]
    },
    {
     "name": "stdout",
     "output_type": "stream",
     "text": [
      "Review: gagal terus apknya gk jelas\n"
     ]
    },
    {
     "name": "stdin",
     "output_type": "stream",
     "text": [
      "Masukkan label (Positive, Negative, Neutral) Negative\n"
     ]
    },
    {
     "name": "stdout",
     "output_type": "stream",
     "text": [
      "Review: mau daftar aja susah harus ada EFIN segala,apk pajak aneh bukannya membantu ini mlah mempersulit\n"
     ]
    },
    {
     "name": "stdin",
     "output_type": "stream",
     "text": [
      "Masukkan label (Positive, Negative, Neutral) Negative\n"
     ]
    },
    {
     "name": "stdout",
     "output_type": "stream",
     "text": [
      "Review: Baik sangat membantu\n"
     ]
    },
    {
     "name": "stdin",
     "output_type": "stream",
     "text": [
      "Masukkan label (Positive, Negative, Neutral) Positive\n"
     ]
    },
    {
     "name": "stdout",
     "output_type": "stream",
     "text": [
      "Review: Bikin aplikasi yang benar pak, muter muter aja Udah daftar dibilang anda belum terdaftar\n"
     ]
    },
    {
     "name": "stdin",
     "output_type": "stream",
     "text": [
      "Masukkan label (Positive, Negative, Neutral) Negative\n"
     ]
    },
    {
     "name": "stdout",
     "output_type": "stream",
     "text": [
      "Review: sistem nya masih harus banyak perbaikan,untuk kode verifikasi tidak muncul,dan proses lama\n"
     ]
    },
    {
     "name": "stdin",
     "output_type": "stream",
     "text": [
      "Masukkan label (Positive, Negative, Neutral) Negative\n"
     ]
    },
    {
     "name": "stdout",
     "output_type": "stream",
     "text": [
      "Review: Sangat membantu\n"
     ]
    },
    {
     "name": "stdin",
     "output_type": "stream",
     "text": [
      "Masukkan label (Positive, Negative, Neutral) Positive\n"
     ]
    },
    {
     "name": "stdout",
     "output_type": "stream",
     "text": [
      "Review: Ok\n"
     ]
    },
    {
     "name": "stdin",
     "output_type": "stream",
     "text": [
      "Masukkan label (Positive, Negative, Neutral) Positive\n"
     ]
    },
    {
     "name": "stdout",
     "output_type": "stream",
     "text": [
      "Review: Tidak berfungsi dengan baik\n"
     ]
    },
    {
     "name": "stdin",
     "output_type": "stream",
     "text": [
      "Masukkan label (Positive, Negative, Neutral) Negative\n"
     ]
    },
    {
     "name": "stdout",
     "output_type": "stream",
     "text": [
      "Review: Kasih tau rubah alamt\n"
     ]
    },
    {
     "name": "stdin",
     "output_type": "stream",
     "text": [
      "Masukkan label (Positive, Negative, Neutral) Neutral\n"
     ]
    },
    {
     "name": "stdout",
     "output_type": "stream",
     "text": [
      "Review: mau login aja susah banget\n"
     ]
    },
    {
     "name": "stdin",
     "output_type": "stream",
     "text": [
      "Masukkan label (Positive, Negative, Neutral) Negative\n"
     ]
    },
    {
     "name": "stdout",
     "output_type": "stream",
     "text": [
      "Review: Mantap\n"
     ]
    },
    {
     "name": "stdin",
     "output_type": "stream",
     "text": [
      "Masukkan label (Positive, Negative, Neutral) Positive\n"
     ]
    },
    {
     "name": "stdout",
     "output_type": "stream",
     "text": [
      "Review: Ok\n"
     ]
    },
    {
     "name": "stdin",
     "output_type": "stream",
     "text": [
      "Masukkan label (Positive, Negative, Neutral) Positive\n"
     ]
    },
    {
     "name": "stdout",
     "output_type": "stream",
     "text": [
      "Review: Masyarakat dituntut laporan pajak. Datang ke kantor pajak sulit, dikasih APLIKASI ONLINE amatir... ga bs diakses. GA JELAS\n"
     ]
    },
    {
     "name": "stdin",
     "output_type": "stream",
     "text": [
      "Masukkan label (Positive, Negative, Neutral) Negative\n"
     ]
    },
    {
     "name": "stdout",
     "output_type": "stream",
     "text": [
      "Review: Ribet utk daftar.\n"
     ]
    },
    {
     "name": "stdin",
     "output_type": "stream",
     "text": [
      "Masukkan label (Positive, Negative, Neutral) Negative\n"
     ]
    },
    {
     "name": "stdout",
     "output_type": "stream",
     "text": [
      "Review: Sangat susah banget bikin tambah pusing...😇😇😇\n"
     ]
    },
    {
     "name": "stdin",
     "output_type": "stream",
     "text": [
      "Masukkan label (Positive, Negative, Neutral) Negative\n"
     ]
    },
    {
     "name": "stdout",
     "output_type": "stream",
     "text": [
      "Review: Susah ,ruwet,ribet,angel...bikin pusing tambah pusing 😇😇😇\n"
     ]
    },
    {
     "name": "stdin",
     "output_type": "stream",
     "text": [
      "Masukkan label (Positive, Negative, Neutral) Negative\n"
     ]
    },
    {
     "name": "stdout",
     "output_type": "stream",
     "text": [
      "Review: Aplikasi ga jelas\n"
     ]
    },
    {
     "name": "stdin",
     "output_type": "stream",
     "text": [
      "Masukkan label (Positive, Negative, Neutral) Negative\n"
     ]
    },
    {
     "name": "stdout",
     "output_type": "stream",
     "text": [
      "Review: Mantap\n"
     ]
    },
    {
     "name": "stdin",
     "output_type": "stream",
     "text": [
      "Masukkan label (Positive, Negative, Neutral) Positive\n"
     ]
    },
    {
     "name": "stdout",
     "output_type": "stream",
     "text": [
      "Review: Aplikasi hanya bisa melihat saja tidak bisa mengisi laporan pajak\n"
     ]
    },
    {
     "name": "stdin",
     "output_type": "stream",
     "text": [
      "Masukkan label (Positive, Negative, Neutral) Negative\n"
     ]
    },
    {
     "name": "stdout",
     "output_type": "stream",
     "text": [
      "Review: Oi benerin sistem aplikasinya jelek bener gua bayar pajak tapi kok aplikasinya jelek bener\n"
     ]
    },
    {
     "name": "stdin",
     "output_type": "stream",
     "text": [
      "Masukkan label (Positive, Negative, Neutral) Negative\n"
     ]
    },
    {
     "name": "stdout",
     "output_type": "stream",
     "text": [
      "Review: Ok\n"
     ]
    },
    {
     "name": "stdin",
     "output_type": "stream",
     "text": [
      "Masukkan label (Positive, Negative, Neutral) Positive\n"
     ]
    },
    {
     "name": "stdout",
     "output_type": "stream",
     "text": [
      "Review: Kenapa aplikasinya tidak bisa terbuka\n"
     ]
    },
    {
     "name": "stdin",
     "output_type": "stream",
     "text": [
      "Masukkan label (Positive, Negative, Neutral) Negative\n"
     ]
    },
    {
     "name": "stdout",
     "output_type": "stream",
     "text": [
      "Review: 👍🏻👍🏻👍🏻\n"
     ]
    },
    {
     "name": "stdin",
     "output_type": "stream",
     "text": [
      "Masukkan label (Positive, Negative, Neutral) Positive\n"
     ]
    },
    {
     "name": "stdout",
     "output_type": "stream",
     "text": [
      "Review: Sangat bagus\n"
     ]
    },
    {
     "name": "stdin",
     "output_type": "stream",
     "text": [
      "Masukkan label (Positive, Negative, Neutral) Positive\n"
     ]
    },
    {
     "name": "stdout",
     "output_type": "stream",
     "text": [
      "Review: Berat\n"
     ]
    },
    {
     "name": "stdin",
     "output_type": "stream",
     "text": [
      "Masukkan label (Positive, Negative, Neutral) Negative\n"
     ]
    },
    {
     "name": "stdout",
     "output_type": "stream",
     "text": [
      "Review: Todak mendapatkan email verifikasi...\n"
     ]
    },
    {
     "name": "stdin",
     "output_type": "stream",
     "text": [
      "Masukkan label (Positive, Negative, Neutral) Negative\n"
     ]
    },
    {
     "name": "stdout",
     "output_type": "stream",
     "text": [
      "Review: Mudah di pahami\n"
     ]
    },
    {
     "name": "stdin",
     "output_type": "stream",
     "text": [
      "Masukkan label (Positive, Negative, Neutral) Positive\n"
     ]
    },
    {
     "name": "stdout",
     "output_type": "stream",
     "text": [
      "Review: Ok\n"
     ]
    },
    {
     "name": "stdin",
     "output_type": "stream",
     "text": [
      "Masukkan label (Positive, Negative, Neutral) Positive\n"
     ]
    },
    {
     "name": "stdout",
     "output_type": "stream",
     "text": [
      "Review: apk sampah\n"
     ]
    },
    {
     "name": "stdin",
     "output_type": "stream",
     "text": [
      "Masukkan label (Positive, Negative, Neutral) Negative\n"
     ]
    },
    {
     "name": "stdout",
     "output_type": "stream",
     "text": [
      "Review: Daftar online, tahap 2 gadapet email link aktivasi dan mau login lagi gagal. kerja sulit, gaji tinggi, minta masyarakat bayar pajak\n"
     ]
    },
    {
     "name": "stdin",
     "output_type": "stream",
     "text": [
      "Masukkan label (Positive, Negative, Neutral) Negative\n"
     ]
    },
    {
     "name": "stdout",
     "output_type": "stream",
     "text": [
      "Review: Ok\n"
     ]
    },
    {
     "name": "stdin",
     "output_type": "stream",
     "text": [
      "Masukkan label (Positive, Negative, Neutral) Positive\n"
     ]
    },
    {
     "name": "stdout",
     "output_type": "stream",
     "text": [
      "Review: Ud di isi dan foto ternyata gagal..\n"
     ]
    },
    {
     "name": "stdin",
     "output_type": "stream",
     "text": [
      "Masukkan label (Positive, Negative, Neutral) Negative\n"
     ]
    },
    {
     "name": "stdout",
     "output_type": "stream",
     "text": [
      "Review: Mohon lebih di tingkatkan unt pelayan\n"
     ]
    },
    {
     "name": "stdin",
     "output_type": "stream",
     "text": [
      "Masukkan label (Positive, Negative, Neutral) Negative\n"
     ]
    },
    {
     "name": "stdout",
     "output_type": "stream",
     "text": [
      "Review: Nomor NIK 16 digit tapi limit pengisian NIK utk login hanya 15 digit. Lalu bagaimana saya mendaftar\n"
     ]
    },
    {
     "name": "stdin",
     "output_type": "stream",
     "text": [
      "Masukkan label (Positive, Negative, Neutral) Negative\n"
     ]
    },
    {
     "name": "stdout",
     "output_type": "stream",
     "text": [
      "Review: Lama kode verifikasi pas saat login sampai sekarang saya tidak bisa login karena kode verifikasi\n"
     ]
    },
    {
     "name": "stdin",
     "output_type": "stream",
     "text": [
      "Masukkan label (Positive, Negative, Neutral) Negative\n"
     ]
    },
    {
     "name": "stdout",
     "output_type": "stream",
     "text": [
      "Review: Kode verifikasi lama banget munculnya, 4jam kemudian baru muncul. Kirain eror doang, ternyata dicoba berkali2 tetep delay. Aneh\n"
     ]
    },
    {
     "name": "stdin",
     "output_type": "stream",
     "text": [
      "Masukkan label (Positive, Negative, Neutral) Negative\n"
     ]
    },
    {
     "name": "stdout",
     "output_type": "stream",
     "text": [
      "Review: Bagus\n"
     ]
    },
    {
     "name": "stdin",
     "output_type": "stream",
     "text": [
      "Masukkan label (Positive, Negative, Neutral) Positive\n"
     ]
    },
    {
     "name": "stdout",
     "output_type": "stream",
     "text": [
      "Review: Tolong servernya diperbaiki lagi\n"
     ]
    },
    {
     "name": "stdin",
     "output_type": "stream",
     "text": [
      "Masukkan label (Positive, Negative, Neutral) Negative\n"
     ]
    },
    {
     "name": "stdout",
     "output_type": "stream",
     "text": [
      "Review: Aplikasi yg TDK bermutu\n"
     ]
    },
    {
     "name": "stdin",
     "output_type": "stream",
     "text": [
      "Masukkan label (Positive, Negative, Neutral) Negative\n"
     ]
    },
    {
     "name": "stdout",
     "output_type": "stream",
     "text": [
      "Review: Saat pengajuan keluhan slow respon. Ada tagihan fast respon. Gimana ini pelayanannya? Ibu saya sudah lapor spt tahunan tgl 18 Juli 2023 melalui Bu Atiek Rinawati bagian keuangan dari KPP Kediri jawa timur. Sudah dapat email kalau lapor spt tahunan sudah di verifikasi. Di tgl 13 Januari 2023 dapat surat tagihan telat lapor spt tahunan. Sudah buat laporan ke pihak KPP Kediri utk konfirmasi. Tapi slow respon. Sampai skrg gak ada kabarnya lagi. Tolong solusinya?\n"
     ]
    },
    {
     "name": "stdin",
     "output_type": "stream",
     "text": [
      "Masukkan label (Positive, Negative, Neutral) Negative\n"
     ]
    },
    {
     "name": "stdout",
     "output_type": "stream",
     "text": [
      "Review: login nunggu kode verifikasi masuk aja lama sekali, ketika sdh dapat kode nya di masukan time out.....🤣🤣\n"
     ]
    },
    {
     "name": "stdin",
     "output_type": "stream",
     "text": [
      "Masukkan label (Positive, Negative, Neutral) Negative\n"
     ]
    },
    {
     "name": "stdout",
     "output_type": "stream",
     "text": [
      "Review: Tolol banget Verifikasi email ga masuk masuk, di spam juga ga masuk.. Entah admin yg lelet atau developernya bodoh.. Jgn bikin Apk Npwp kalau ga Gercep.. konyol\n"
     ]
    },
    {
     "name": "stdin",
     "output_type": "stream",
     "text": [
      "Masukkan label (Positive, Negative, Neutral) Negative\n"
     ]
    },
    {
     "name": "stdout",
     "output_type": "stream",
     "text": [
      "Review: Kalau mau login harus nunggu kode dikirim lewat email, tpi kodenya baru masuk setelah 2 jam kemudian, saya jadi bingung sendiri\n"
     ]
    },
    {
     "name": "stdin",
     "output_type": "stream",
     "text": [
      "Masukkan label (Positive, Negative, Neutral) Negative\n"
     ]
    },
    {
     "name": "stdout",
     "output_type": "stream",
     "text": [
      "Review: Mempersulit ,mau login harus verifikasi kode yg dikirim lewat email ,pas kita minta ,kode dikirim nya telat selalu ,jadi pas masukan kode link udah kadaluarsa Aplikasi sangat jelek\n"
     ]
    },
    {
     "name": "stdin",
     "output_type": "stream",
     "text": [
      "Masukkan label (Positive, Negative, Neutral) Negative\n"
     ]
    },
    {
     "name": "stdout",
     "output_type": "stream",
     "text": [
      "Review: Bagaimana ini koq, force close terus....,tolong lah di perbaiki dulu aplikasinya\n"
     ]
    },
    {
     "name": "stdin",
     "output_type": "stream",
     "text": [
      "Masukkan label (Positive, Negative, Neutral) Negative\n"
     ]
    },
    {
     "name": "stdout",
     "output_type": "stream",
     "text": [
      "Review: Oke Mantap\n"
     ]
    },
    {
     "name": "stdin",
     "output_type": "stream",
     "text": [
      "Masukkan label (Positive, Negative, Neutral) Positive\n"
     ]
    },
    {
     "name": "stdout",
     "output_type": "stream",
     "text": [
      "Review: RUWETTTT!!!!! NUNGGU PESAN GMAIL TAHAP DUA GA MUNCUL MUNCUL DJP GA GUNA NAMBAH KERJAAN ORG AJA SISTEMNYA JUGA DI PERSULIT\n"
     ]
    },
    {
     "name": "stdin",
     "output_type": "stream",
     "text": [
      "Masukkan label (Positive, Negative, Neutral) Negative\n"
     ]
    },
    {
     "name": "stdout",
     "output_type": "stream",
     "text": [
      "Review: aplikasi gak bermutu\n"
     ]
    },
    {
     "name": "stdin",
     "output_type": "stream",
     "text": [
      "Masukkan label (Positive, Negative, Neutral) Negative\n"
     ]
    },
    {
     "name": "stdout",
     "output_type": "stream",
     "text": [
      "Review: Kirim kode otp y Lola, JD keburu kadaluarsa, tolong diperbaiki susah login\n"
     ]
    },
    {
     "name": "stdin",
     "output_type": "stream",
     "text": [
      "Masukkan label (Positive, Negative, Neutral) Negative\n"
     ]
    },
    {
     "name": "stdout",
     "output_type": "stream",
     "text": [
      "Review: Yang udah daftar tapi belum masuk di aplikasi Langkah awal minta veripikasi akun Langkah ke dua minta kode efin nya Semoga sukses\n"
     ]
    },
    {
     "name": "stdin",
     "output_type": "stream",
     "text": [
      "Masukkan label (Positive, Negative, Neutral) Neutral\n"
     ]
    },
    {
     "name": "stdout",
     "output_type": "stream",
     "text": [
      "Review: Situs Sama Aplikasi Bikin Kesal Aja Low Respon Jadi Gagal Verifikasi & Di Blokir Apaan Gitu Oon Banget Daftar Aja Sudah Bener 🥱🥱\n"
     ]
    },
    {
     "name": "stdin",
     "output_type": "stream",
     "text": [
      "Masukkan label (Positive, Negative, Neutral) Negative\n"
     ]
    },
    {
     "name": "stdout",
     "output_type": "stream",
     "text": [
      "Review: lupa No.EFIN untuk Pembaharuan NIK- NPWP 2024. pas ngikuti langkah step by step kode verifikasi nya malah terdeteksi ke no. Hp yg lama atau no.hp awal daftar NPWP tahun 2013/2014 .yg mana no.hp itu sudah Hangus...bgaimana bisa tekirim kode verifikasi ? trus di aplikasi LUPA KODE EFIN itu TIDAK ada mencantumkan atau isian kolom NO.HP dan Email yg Aktif sekarang. mohon aplikasi nya di tingkatkn lagi agar mudah di akses\n"
     ]
    },
    {
     "name": "stdin",
     "output_type": "stream",
     "text": [
      "Masukkan label (Positive, Negative, Neutral) Negative\n"
     ]
    },
    {
     "name": "stdout",
     "output_type": "stream",
     "text": [
      "Review: Aplikasi gak jelas, verifikasi email masuknya lama, ketika udah dapet kode malah time out\n"
     ]
    },
    {
     "name": "stdin",
     "output_type": "stream",
     "text": [
      "Masukkan label (Positive, Negative, Neutral) Negative\n"
     ]
    },
    {
     "name": "stdout",
     "output_type": "stream",
     "text": [
      "Review: Ga guna pecat aja yg bikin apk nya situs nya juga ga guna\n"
     ]
    },
    {
     "name": "stdin",
     "output_type": "stream",
     "text": [
      "Masukkan label (Positive, Negative, Neutral) Negative\n"
     ]
    },
    {
     "name": "stdout",
     "output_type": "stream",
     "text": [
      "Review: Aplikasi busuk bukanya mempermudah malah bikin sulit gak ikhlas bgt buat aplikasi Hapus aja app ini gk ada gunanya juga\n"
     ]
    },
    {
     "name": "stdin",
     "output_type": "stream",
     "text": [
      "Masukkan label (Positive, Negative, Neutral) Negative\n"
     ]
    },
    {
     "name": "stdout",
     "output_type": "stream",
     "text": [
      "Review: Fitur lupa EFin gagal verifikasi.. gimana sih aplikasi ini..?\n"
     ]
    },
    {
     "name": "stdin",
     "output_type": "stream",
     "text": [
      "Masukkan label (Positive, Negative, Neutral) Negative\n"
     ]
    },
    {
     "name": "stdout",
     "output_type": "stream",
     "text": [
      "Review: Kode verifikasi untuk login ga ada, karena dikirimnya ke email yg salah. Jadi ga bisa login diaplikasi, padahal data di web sudah sesuai.\n"
     ]
    },
    {
     "name": "stdin",
     "output_type": "stream",
     "text": [
      "Masukkan label (Positive, Negative, Neutral) Negative\n"
     ]
    },
    {
     "name": "stdout",
     "output_type": "stream",
     "text": [
      "Review: Manfaatkan seperlunya!\n"
     ]
    },
    {
     "name": "stdin",
     "output_type": "stream",
     "text": [
      "Masukkan label (Positive, Negative, Neutral) Neutral\n"
     ]
    },
    {
     "name": "stdout",
     "output_type": "stream",
     "text": [
      "Review: Kode Verifikasi ga keluar\n"
     ]
    },
    {
     "name": "stdin",
     "output_type": "stream",
     "text": [
      "Masukkan label (Positive, Negative, Neutral) Negative\n"
     ]
    },
    {
     "name": "stdout",
     "output_type": "stream",
     "text": [
      "Review: Aplikasi sampah\n"
     ]
    },
    {
     "name": "stdin",
     "output_type": "stream",
     "text": [
      "Masukkan label (Positive, Negative, Neutral) Negative\n"
     ]
    },
    {
     "name": "stdout",
     "output_type": "stream",
     "text": [
      "Review: Gak bisa ngisi no NPWP pas login, digit kurang 1\n"
     ]
    },
    {
     "name": "stdin",
     "output_type": "stream",
     "text": [
      "Masukkan label (Positive, Negative, Neutral) Negative\n"
     ]
    },
    {
     "name": "stdout",
     "output_type": "stream",
     "text": [
      "Review: Aplik'i bodoh\n"
     ]
    },
    {
     "name": "stdin",
     "output_type": "stream",
     "text": [
      "Masukkan label (Positive, Negative, Neutral) Negative\n"
     ]
    },
    {
     "name": "stdout",
     "output_type": "stream",
     "text": [
      "Review: weh gawe sgl hese\n"
     ]
    },
    {
     "name": "stdin",
     "output_type": "stream",
     "text": [
      "Masukkan label (Positive, Negative, Neutral) Negative\n"
     ]
    },
    {
     "name": "stdout",
     "output_type": "stream",
     "text": [
      "Review: Mau masukin nik tapi gabisa terus\n"
     ]
    },
    {
     "name": "stdin",
     "output_type": "stream",
     "text": [
      "Masukkan label (Positive, Negative, Neutral) Negative\n"
     ]
    },
    {
     "name": "stdout",
     "output_type": "stream",
     "text": [
      "Review: aplikasi busuk.kirim kode verifikasi lama banget.\n"
     ]
    },
    {
     "name": "stdin",
     "output_type": "stream",
     "text": [
      "Masukkan label (Positive, Negative, Neutral) Negative\n"
     ]
    },
    {
     "name": "stdout",
     "output_type": "stream",
     "text": [
      "Review: aplikasi g jelas, masa kode verifikasi baru dikirim 5 jam. game2 murahan aja lebih bagus.\n"
     ]
    },
    {
     "name": "stdin",
     "output_type": "stream",
     "text": [
      "Masukkan label (Positive, Negative, Neutral) Negative\n"
     ]
    },
    {
     "name": "stdout",
     "output_type": "stream",
     "text": [
      "Review: saat mau login inputan NIK/NPWP Hanya bisa muat 15 digit, kurang 1 digit untuk input NIK nya....\n"
     ]
    },
    {
     "name": "stdin",
     "output_type": "stream",
     "text": [
      "Masukkan label (Positive, Negative, Neutral) Negative\n"
     ]
    },
    {
     "name": "stdout",
     "output_type": "stream",
     "text": [
      "Review: Kode verifikasi email nya lamaaaaa banget. Giliran muncul kode nya sudah kadaluarsa.. ampun..\n"
     ]
    },
    {
     "name": "stdin",
     "output_type": "stream",
     "text": [
      "Masukkan label (Positive, Negative, Neutral) Negative\n"
     ]
    },
    {
     "name": "stdout",
     "output_type": "stream",
     "text": [
      "Review: Kirim kode aktivasinya terlalu lama, disarankan lebih baik tidak perlu menggunakan kode aktivasi kalau begini. Bikin lama menunggu, kalau terlalu lama nanti aplikasi keburu minta refresh. Lalu minta kirim kode aktivasi lagi. Begitu terus\n"
     ]
    },
    {
     "name": "stdin",
     "output_type": "stream",
     "text": [
      "Masukkan label (Positive, Negative, Neutral) Negative\n"
     ]
    },
    {
     "name": "stdout",
     "output_type": "stream",
     "text": [
      "Review: Aplikasi yang di buat pemerintah selalu gak bener..masa pengajuan efin selalu gagal tanpa memberitahukan yang salah informasinya dimana,tolong segera diperbaiki.\n"
     ]
    },
    {
     "name": "stdin",
     "output_type": "stream",
     "text": [
      "Masukkan label (Positive, Negative, Neutral) Negative\n"
     ]
    },
    {
     "name": "stdout",
     "output_type": "stream",
     "text": [
      "Review: aplikasi tolol, ubah password langsung dapet email giliran verifikasi gak muncul muncul di email... tolol tolol\n"
     ]
    },
    {
     "name": "stdin",
     "output_type": "stream",
     "text": [
      "Masukkan label (Positive, Negative, Neutral) Negative\n"
     ]
    },
    {
     "name": "stdout",
     "output_type": "stream",
     "text": [
      "Review: Aplikasi gak guna, nomor call center kring 1500200 tidak pernah menjawab, ngabisin pulsa saja .\n"
     ]
    },
    {
     "name": "stdin",
     "output_type": "stream",
     "text": [
      "Masukkan label (Positive, Negative, Neutral) Negative\n"
     ]
    },
    {
     "name": "stdout",
     "output_type": "stream",
     "text": [
      "Review: Kalo udah input NIK sama NPWP gak harus isi ulang data lagi dong!!!!!! Aplikasi SAMPAH!!!!!\n"
     ]
    },
    {
     "name": "stdin",
     "output_type": "stream",
     "text": [
      "Masukkan label (Positive, Negative, Neutral) Negative\n"
     ]
    },
    {
     "name": "stdout",
     "output_type": "stream",
     "text": [
      "Review: Ok\n"
     ]
    },
    {
     "name": "stdin",
     "output_type": "stream",
     "text": [
      "Masukkan label (Positive, Negative, Neutral) Positive\n"
     ]
    },
    {
     "name": "stdout",
     "output_type": "stream",
     "text": [
      "Review: Bagaimana ini sangat buruk, saya sudah 5x mengajukan Lupa EFIN, sudah pada tahap EFIN Terkirim, saya cek email tidak ada, maaf saya kasih bintang 1 saja dulu,\n"
     ]
    },
    {
     "name": "stdin",
     "output_type": "stream",
     "text": [
      "Masukkan label (Positive, Negative, Neutral) Negative\n"
     ]
    },
    {
     "name": "stdout",
     "output_type": "stream",
     "text": [
      "Review: Ok\n"
     ]
    },
    {
     "name": "stdin",
     "output_type": "stream",
     "text": [
      "Masukkan label (Positive, Negative, Neutral) Positive\n"
     ]
    },
    {
     "name": "stdout",
     "output_type": "stream",
     "text": [
      "Review: Buang buang waktu\n"
     ]
    },
    {
     "name": "stdin",
     "output_type": "stream",
     "text": [
      "Masukkan label (Positive, Negative, Neutral) Negative\n"
     ]
    },
    {
     "name": "stdout",
     "output_type": "stream",
     "text": [
      "Review: Kak, kode verifikasi untuk lupa EFIN kl bisa jangan hanya lewat no hp, bisa di kirim ke Whatsapp atau ke email terdaftar, terima kasih.\n"
     ]
    },
    {
     "name": "stdin",
     "output_type": "stream",
     "text": [
      "Masukkan label (Positive, Negative, Neutral) Neutral\n"
     ]
    },
    {
     "name": "stdout",
     "output_type": "stream",
     "text": [
      "Review: Di aplikasi ini di tidak bisa login pake NIK sedang di website bisa pake nik. Perlu di tingkat kan lagi kalo sudah bisa login pake nik saya ganti bintang 7\n"
     ]
    },
    {
     "name": "stdin",
     "output_type": "stream",
     "text": [
      "Masukkan label (Positive, Negative, Neutral) Negative\n"
     ]
    },
    {
     "name": "stdout",
     "output_type": "stream",
     "text": [
      "Review: Busuk, kata sandi kok salah. Jelas jelas kata sandinya itu kok salah. Gak beres . Gimana bayarnya kalo gini\n"
     ]
    },
    {
     "name": "stdin",
     "output_type": "stream",
     "text": [
      "Masukkan label (Positive, Negative, Neutral) Negative\n"
     ]
    },
    {
     "name": "stdout",
     "output_type": "stream",
     "text": [
      "Review: Cacat\n"
     ]
    },
    {
     "name": "stdin",
     "output_type": "stream",
     "text": [
      "Masukkan label (Positive, Negative, Neutral) Negative\n"
     ]
    },
    {
     "name": "stdout",
     "output_type": "stream",
     "text": [
      "Review: Mohon kalau buat aplikasi sebelum di publis di coba dulu trial and error jalan apa gak gitu, ini aplikasi gak jalan gimana, selalu gagal\n"
     ]
    },
    {
     "name": "stdin",
     "output_type": "stream",
     "text": [
      "Masukkan label (Positive, Negative, Neutral) Negative\n"
     ]
    },
    {
     "name": "stdout",
     "output_type": "stream",
     "text": [
      "Review: Waktu login bisa masukin nik/npwp , sy cb masukin nik ktp ehh malah dibatesin krang 1 digit, bagaimana ini ambigu ?\n"
     ]
    },
    {
     "ename": "KeyboardInterrupt",
     "evalue": "Interrupted by user",
     "output_type": "error",
     "traceback": [
      "\u001b[1;31m---------------------------------------------------------------------------\u001b[0m",
      "\u001b[1;31mKeyboardInterrupt\u001b[0m                         Traceback (most recent call last)",
      "Cell \u001b[1;32mIn[11], line 7\u001b[0m\n\u001b[0;32m      5\u001b[0m \u001b[38;5;28;01mfor\u001b[39;00m index \u001b[38;5;129;01min\u001b[39;00m \u001b[38;5;28mrange\u001b[39m(start_index, \u001b[38;5;28mlen\u001b[39m(df)):\n\u001b[0;32m      6\u001b[0m     \u001b[38;5;28mprint\u001b[39m(\u001b[38;5;124mf\u001b[39m\u001b[38;5;124m\"\u001b[39m\u001b[38;5;124mReview: \u001b[39m\u001b[38;5;132;01m{\u001b[39;00mdf\u001b[38;5;241m.\u001b[39mat[index,\u001b[38;5;250m \u001b[39m\u001b[38;5;124m'\u001b[39m\u001b[38;5;124mcontent\u001b[39m\u001b[38;5;124m'\u001b[39m]\u001b[38;5;132;01m}\u001b[39;00m\u001b[38;5;124m\"\u001b[39m)\n\u001b[1;32m----> 7\u001b[0m     label \u001b[38;5;241m=\u001b[39m \u001b[38;5;28;43minput\u001b[39;49m\u001b[43m(\u001b[49m\u001b[38;5;124;43m\"\u001b[39;49m\u001b[38;5;124;43mMasukkan label (Positive, Negative, Neutral)\u001b[39;49m\u001b[38;5;124;43m\"\u001b[39;49m\u001b[43m)\u001b[49m\n\u001b[0;32m      8\u001b[0m     df\u001b[38;5;241m.\u001b[39mat[index, \u001b[38;5;124m'\u001b[39m\u001b[38;5;124mlabel\u001b[39m\u001b[38;5;124m'\u001b[39m] \u001b[38;5;241m=\u001b[39m label\n",
      "File \u001b[1;32m~\\AppData\\Local\\Programs\\Python\\Python312\\Lib\\site-packages\\ipykernel\\kernelbase.py:1282\u001b[0m, in \u001b[0;36mKernel.raw_input\u001b[1;34m(self, prompt)\u001b[0m\n\u001b[0;32m   1280\u001b[0m     msg \u001b[38;5;241m=\u001b[39m \u001b[38;5;124m\"\u001b[39m\u001b[38;5;124mraw_input was called, but this frontend does not support input requests.\u001b[39m\u001b[38;5;124m\"\u001b[39m\n\u001b[0;32m   1281\u001b[0m     \u001b[38;5;28;01mraise\u001b[39;00m StdinNotImplementedError(msg)\n\u001b[1;32m-> 1282\u001b[0m \u001b[38;5;28;01mreturn\u001b[39;00m \u001b[38;5;28;43mself\u001b[39;49m\u001b[38;5;241;43m.\u001b[39;49m\u001b[43m_input_request\u001b[49m\u001b[43m(\u001b[49m\n\u001b[0;32m   1283\u001b[0m \u001b[43m    \u001b[49m\u001b[38;5;28;43mstr\u001b[39;49m\u001b[43m(\u001b[49m\u001b[43mprompt\u001b[49m\u001b[43m)\u001b[49m\u001b[43m,\u001b[49m\n\u001b[0;32m   1284\u001b[0m \u001b[43m    \u001b[49m\u001b[38;5;28;43mself\u001b[39;49m\u001b[38;5;241;43m.\u001b[39;49m\u001b[43m_parent_ident\u001b[49m\u001b[43m[\u001b[49m\u001b[38;5;124;43m\"\u001b[39;49m\u001b[38;5;124;43mshell\u001b[39;49m\u001b[38;5;124;43m\"\u001b[39;49m\u001b[43m]\u001b[49m\u001b[43m,\u001b[49m\n\u001b[0;32m   1285\u001b[0m \u001b[43m    \u001b[49m\u001b[38;5;28;43mself\u001b[39;49m\u001b[38;5;241;43m.\u001b[39;49m\u001b[43mget_parent\u001b[49m\u001b[43m(\u001b[49m\u001b[38;5;124;43m\"\u001b[39;49m\u001b[38;5;124;43mshell\u001b[39;49m\u001b[38;5;124;43m\"\u001b[39;49m\u001b[43m)\u001b[49m\u001b[43m,\u001b[49m\n\u001b[0;32m   1286\u001b[0m \u001b[43m    \u001b[49m\u001b[43mpassword\u001b[49m\u001b[38;5;241;43m=\u001b[39;49m\u001b[38;5;28;43;01mFalse\u001b[39;49;00m\u001b[43m,\u001b[49m\n\u001b[0;32m   1287\u001b[0m \u001b[43m\u001b[49m\u001b[43m)\u001b[49m\n",
      "File \u001b[1;32m~\\AppData\\Local\\Programs\\Python\\Python312\\Lib\\site-packages\\ipykernel\\kernelbase.py:1325\u001b[0m, in \u001b[0;36mKernel._input_request\u001b[1;34m(self, prompt, ident, parent, password)\u001b[0m\n\u001b[0;32m   1322\u001b[0m \u001b[38;5;28;01mexcept\u001b[39;00m \u001b[38;5;167;01mKeyboardInterrupt\u001b[39;00m:\n\u001b[0;32m   1323\u001b[0m     \u001b[38;5;66;03m# re-raise KeyboardInterrupt, to truncate traceback\u001b[39;00m\n\u001b[0;32m   1324\u001b[0m     msg \u001b[38;5;241m=\u001b[39m \u001b[38;5;124m\"\u001b[39m\u001b[38;5;124mInterrupted by user\u001b[39m\u001b[38;5;124m\"\u001b[39m\n\u001b[1;32m-> 1325\u001b[0m     \u001b[38;5;28;01mraise\u001b[39;00m \u001b[38;5;167;01mKeyboardInterrupt\u001b[39;00m(msg) \u001b[38;5;28;01mfrom\u001b[39;00m \u001b[38;5;28;01mNone\u001b[39;00m\n\u001b[0;32m   1326\u001b[0m \u001b[38;5;28;01mexcept\u001b[39;00m \u001b[38;5;167;01mException\u001b[39;00m:\n\u001b[0;32m   1327\u001b[0m     \u001b[38;5;28mself\u001b[39m\u001b[38;5;241m.\u001b[39mlog\u001b[38;5;241m.\u001b[39mwarning(\u001b[38;5;124m\"\u001b[39m\u001b[38;5;124mInvalid Message:\u001b[39m\u001b[38;5;124m\"\u001b[39m, exc_info\u001b[38;5;241m=\u001b[39m\u001b[38;5;28;01mTrue\u001b[39;00m)\n",
      "\u001b[1;31mKeyboardInterrupt\u001b[0m: Interrupted by user"
     ]
    }
   ],
   "source": [
    "# labelling from index 800\n",
    "\n",
    "start_index = 800  # Ganti dengan indeks terakhir yang sudah dilabeli \n",
    "\n",
    "for index in range(start_index, len(df)):\n",
    "    print(f\"Review: {df.at[index, 'content']}\")\n",
    "    label = input(\"Masukkan label (Positive, Negative, Neutral)\")\n",
    "    df.at[index, 'label'] = label"
   ]
  },
  {
   "cell_type": "code",
   "execution_count": 12,
   "id": "bc760912-6705-4f3e-8abb-d7d438705d51",
   "metadata": {},
   "outputs": [
    {
     "name": "stdout",
     "output_type": "stream",
     "text": [
      "Indeks terakhir yang dilabeli : 1240\n"
     ]
    }
   ],
   "source": [
    "last_labeled_index = index\n",
    "\n",
    "print(f\"Indeks terakhir yang dilabeli : {last_labeled_index}\")"
   ]
  },
  {
   "cell_type": "code",
   "execution_count": 2,
   "id": "aa6cdb4d-d992-40b7-b06a-5aaa8c60b99a",
   "metadata": {},
   "outputs": [
    {
     "ename": "NameError",
     "evalue": "name 'df' is not defined",
     "output_type": "error",
     "traceback": [
      "\u001b[1;31m---------------------------------------------------------------------------\u001b[0m",
      "\u001b[1;31mNameError\u001b[0m                                 Traceback (most recent call last)",
      "Cell \u001b[1;32mIn[2], line 5\u001b[0m\n\u001b[0;32m      2\u001b[0m file_name \u001b[38;5;241m=\u001b[39m \u001b[38;5;124m'\u001b[39m\u001b[38;5;124mnew_data_labeled_1240.csv\u001b[39m\u001b[38;5;124m'\u001b[39m\n\u001b[0;32m      3\u001b[0m full_path \u001b[38;5;241m=\u001b[39m folder_path \u001b[38;5;241m+\u001b[39m file_name\n\u001b[1;32m----> 5\u001b[0m \u001b[43mdf\u001b[49m\u001b[38;5;241m.\u001b[39mto_csv(full_path, index\u001b[38;5;241m=\u001b[39m\u001b[38;5;28;01mFalse\u001b[39;00m)\n",
      "\u001b[1;31mNameError\u001b[0m: name 'df' is not defined"
     ]
    }
   ],
   "source": [
    "folder_path = 'dataset/'\n",
    "file_name = 'new_data_labeled_1240.csv'\n",
    "full_path = folder_path + file_name\n",
    "\n",
    "df.to_csv(full_path, index=False)"
   ]
  },
  {
   "cell_type": "markdown",
   "id": "162f42b7-6611-4529-b550-5206439b4f0f",
   "metadata": {},
   "source": [
    "#### Check point labelling index ke-1239 (04 - 10 - 2024)\n",
    "\n",
    "#### Mulai labelling lagi from index 1240"
   ]
  },
  {
   "cell_type": "code",
   "execution_count": 5,
   "id": "192f9904-6765-45b6-bfe3-2bccb71d4c6d",
   "metadata": {},
   "outputs": [
    {
     "data": {
      "text/html": [
       "<div>\n",
       "<style scoped>\n",
       "    .dataframe tbody tr th:only-of-type {\n",
       "        vertical-align: middle;\n",
       "    }\n",
       "\n",
       "    .dataframe tbody tr th {\n",
       "        vertical-align: top;\n",
       "    }\n",
       "\n",
       "    .dataframe thead th {\n",
       "        text-align: right;\n",
       "    }\n",
       "</style>\n",
       "<table border=\"1\" class=\"dataframe\">\n",
       "  <thead>\n",
       "    <tr style=\"text-align: right;\">\n",
       "      <th></th>\n",
       "      <th>content</th>\n",
       "      <th>label</th>\n",
       "    </tr>\n",
       "  </thead>\n",
       "  <tbody>\n",
       "    <tr>\n",
       "      <th>0</th>\n",
       "      <td>Lemot banget ngirim kode OTP nya ajg</td>\n",
       "      <td>Negative</td>\n",
       "    </tr>\n",
       "    <tr>\n",
       "      <th>1</th>\n",
       "      <td>Daftar pajak email aktivasi sudah, ehh pas ner...</td>\n",
       "      <td>Negative</td>\n",
       "    </tr>\n",
       "    <tr>\n",
       "      <th>2</th>\n",
       "      <td>Pas Nunggu Kode OTP nya emng GK lama,TPI GK ta...</td>\n",
       "      <td>Negative</td>\n",
       "    </tr>\n",
       "    <tr>\n",
       "      <th>3</th>\n",
       "      <td>Sangat cocok untuk melihat pajak saya</td>\n",
       "      <td>Positive</td>\n",
       "    </tr>\n",
       "    <tr>\n",
       "      <th>4</th>\n",
       "      <td>ngabisin pulsa doang</td>\n",
       "      <td>Negative</td>\n",
       "    </tr>\n",
       "    <tr>\n",
       "      <th>...</th>\n",
       "      <td>...</td>\n",
       "      <td>...</td>\n",
       "    </tr>\n",
       "    <tr>\n",
       "      <th>1236</th>\n",
       "      <td>Di aplikasi ini di tidak bisa login pake NIK s...</td>\n",
       "      <td>Negative</td>\n",
       "    </tr>\n",
       "    <tr>\n",
       "      <th>1237</th>\n",
       "      <td>Busuk, kata sandi kok salah. Jelas jelas kata ...</td>\n",
       "      <td>Negative</td>\n",
       "    </tr>\n",
       "    <tr>\n",
       "      <th>1238</th>\n",
       "      <td>Cacat</td>\n",
       "      <td>Negative</td>\n",
       "    </tr>\n",
       "    <tr>\n",
       "      <th>1239</th>\n",
       "      <td>Mohon kalau buat aplikasi sebelum di publis di...</td>\n",
       "      <td>Negative</td>\n",
       "    </tr>\n",
       "    <tr>\n",
       "      <th>1240</th>\n",
       "      <td>Waktu login bisa masukin nik/npwp , sy cb masu...</td>\n",
       "      <td>NaN</td>\n",
       "    </tr>\n",
       "  </tbody>\n",
       "</table>\n",
       "<p>1241 rows × 2 columns</p>\n",
       "</div>"
      ],
      "text/plain": [
       "                                                content     label\n",
       "0                  Lemot banget ngirim kode OTP nya ajg  Negative\n",
       "1     Daftar pajak email aktivasi sudah, ehh pas ner...  Negative\n",
       "2     Pas Nunggu Kode OTP nya emng GK lama,TPI GK ta...  Negative\n",
       "3                 Sangat cocok untuk melihat pajak saya  Positive\n",
       "4                                  ngabisin pulsa doang  Negative\n",
       "...                                                 ...       ...\n",
       "1236  Di aplikasi ini di tidak bisa login pake NIK s...  Negative\n",
       "1237  Busuk, kata sandi kok salah. Jelas jelas kata ...  Negative\n",
       "1238                                              Cacat  Negative\n",
       "1239  Mohon kalau buat aplikasi sebelum di publis di...  Negative\n",
       "1240  Waktu login bisa masukin nik/npwp , sy cb masu...       NaN\n",
       "\n",
       "[1241 rows x 2 columns]"
      ]
     },
     "execution_count": 5,
     "metadata": {},
     "output_type": "execute_result"
    }
   ],
   "source": [
    "df = pd.read_csv('dataset/new_data_labeled_1240.csv')\n",
    "df.head(1241)"
   ]
  },
  {
   "cell_type": "code",
   "execution_count": 8,
   "id": "8c2bcc16-bac4-40d3-bf1d-e172bf6e5115",
   "metadata": {},
   "outputs": [
    {
     "name": "stdout",
     "output_type": "stream",
     "text": [
      "Review: Waktu login bisa masukin nik/npwp , sy cb masukin nik ktp ehh malah dibatesin krang 1 digit, bagaimana ini ambigu ?\n"
     ]
    },
    {
     "name": "stdin",
     "output_type": "stream",
     "text": [
      "Masukkan label (Positive, Negative, Neutral) Negative\n"
     ]
    },
    {
     "name": "stdout",
     "output_type": "stream",
     "text": [
      "Review: Mempunyai NPWP ribet ini lah itu.apa lgi ngurus efin ah.mending gak ush punya NPWP.. bikin susah\n"
     ]
    },
    {
     "name": "stdin",
     "output_type": "stream",
     "text": [
      "Masukkan label (Positive, Negative, Neutral) Negative\n"
     ]
    },
    {
     "name": "stdout",
     "output_type": "stream",
     "text": [
      "Review: tolong perbaiki sistem aplikasinya sangat kurang untuk aplikasi sekelas milik negara\n"
     ]
    },
    {
     "name": "stdin",
     "output_type": "stream",
     "text": [
      "Masukkan label (Positive, Negative, Neutral) Negative\n"
     ]
    },
    {
     "name": "stdout",
     "output_type": "stream",
     "text": [
      "Review: Eroor, coba di perbaiki biar enak dalampenggunaan nya\n"
     ]
    },
    {
     "name": "stdin",
     "output_type": "stream",
     "text": [
      "Masukkan label (Positive, Negative, Neutral) Negative\n"
     ]
    },
    {
     "name": "stdout",
     "output_type": "stream",
     "text": [
      "Review: Konyol. Rakyat Sudah beritikat baik lapor pajak. Pas daftar aktifasi efin harus ke kantor. Apa guna aplikasi. Sampah mempersulit rakyat\n"
     ]
    },
    {
     "name": "stdin",
     "output_type": "stream",
     "text": [
      "Masukkan label (Positive, Negative, Neutral) Negative\n"
     ]
    },
    {
     "name": "stdout",
     "output_type": "stream",
     "text": [
      "Review: Dapat mempermudah dalam pengecekan dan cepat mendapat informasi. makasih\n"
     ]
    },
    {
     "name": "stdin",
     "output_type": "stream",
     "text": [
      "Masukkan label (Positive, Negative, Neutral) Positive\n"
     ]
    },
    {
     "name": "stdout",
     "output_type": "stream",
     "text": [
      "Review: Saya login pakai NIK kenapa hanya ada 15 digit. Sedangkan untuk NIK 16 digit\n"
     ]
    },
    {
     "name": "stdin",
     "output_type": "stream",
     "text": [
      "Masukkan label (Positive, Negative, Neutral) Negative\n"
     ]
    },
    {
     "name": "stdout",
     "output_type": "stream",
     "text": [
      "Review: ANGGARAN NEGARA + GAJI PEGAWAI NYA AJA GEDE , TAPI PELAYANAN 0 BESAR MAU LAPOR AJA SUSAH NYARI EFIN.\n"
     ]
    },
    {
     "name": "stdin",
     "output_type": "stream",
     "text": [
      "Masukkan label (Positive, Negative, Neutral) Negative\n"
     ]
    },
    {
     "name": "stdout",
     "output_type": "stream",
     "text": [
      "Review: Mohon diperbaiki. Aplikasi kok verifikasinya gagal mulu\n"
     ]
    },
    {
     "name": "stdin",
     "output_type": "stream",
     "text": [
      "Masukkan label (Positive, Negative, Neutral) Negative\n"
     ]
    },
    {
     "name": "stdout",
     "output_type": "stream",
     "text": [
      "Review: Gak bisa di pakek padahal saya lupa efin dan gagal terus.\n"
     ]
    },
    {
     "name": "stdin",
     "output_type": "stream",
     "text": [
      "Masukkan label (Positive, Negative, Neutral) Negative\n"
     ]
    },
    {
     "name": "stdout",
     "output_type": "stream",
     "text": [
      "Review: Knp gk bisa sih IT pemerintahan kok gini hasil software nya\n"
     ]
    },
    {
     "name": "stdin",
     "output_type": "stream",
     "text": [
      "Masukkan label (Positive, Negative, Neutral) Negative\n"
     ]
    },
    {
     "name": "stdout",
     "output_type": "stream",
     "text": [
      "Review: kepada pemerintah mohon dari banyaknya komentar yang ada, diperbaiki lah ini aplikasi... ini aplikasi rusak dan tidak layak digunakan\n"
     ]
    },
    {
     "name": "stdin",
     "output_type": "stream",
     "text": [
      "Masukkan label (Positive, Negative, Neutral) Negative\n"
     ]
    },
    {
     "name": "stdout",
     "output_type": "stream",
     "text": [
      "Review: Tidak bisa login, butuh perbaikan\n"
     ]
    },
    {
     "name": "stdin",
     "output_type": "stream",
     "text": [
      "Masukkan label (Positive, Negative, Neutral) Negative\n"
     ]
    },
    {
     "name": "stdout",
     "output_type": "stream",
     "text": [
      "Review: buruk\n"
     ]
    },
    {
     "name": "stdin",
     "output_type": "stream",
     "text": [
      "Masukkan label (Positive, Negative, Neutral) Negative\n"
     ]
    },
    {
     "name": "stdout",
     "output_type": "stream",
     "text": [
      "Review: Developer taii\n"
     ]
    },
    {
     "name": "stdin",
     "output_type": "stream",
     "text": [
      "Masukkan label (Positive, Negative, Neutral) Negative\n"
     ]
    },
    {
     "name": "stdout",
     "output_type": "stream",
     "text": [
      "Review: Jgn bikin kita buang buang pulsa lah email aktivasi nya ngk masuk² ni\n"
     ]
    },
    {
     "name": "stdin",
     "output_type": "stream",
     "text": [
      "Masukkan label (Positive, Negative, Neutral) Negative\n"
     ]
    },
    {
     "name": "stdout",
     "output_type": "stream",
     "text": [
      "Review: Di perbaiki lagi aplikasi djb nya dah, buka situs di google bisa open. Tapi di aplikasinya tidk bisa di akses alias busuk. Di bantu uang rakyat untuk pajak jangan kasih yang buruk dong pelayanan nya.\n"
     ]
    },
    {
     "name": "stdin",
     "output_type": "stream",
     "text": [
      "Masukkan label (Positive, Negative, Neutral) Negative\n"
     ]
    },
    {
     "name": "stdout",
     "output_type": "stream",
     "text": [
      "Review: kacau\n"
     ]
    },
    {
     "name": "stdin",
     "output_type": "stream",
     "text": [
      "Masukkan label (Positive, Negative, Neutral) Negative\n"
     ]
    },
    {
     "name": "stdout",
     "output_type": "stream",
     "text": [
      "Review: Kode OTP ga muncul muncul terus\n"
     ]
    },
    {
     "name": "stdin",
     "output_type": "stream",
     "text": [
      "Masukkan label (Positive, Negative, Neutral) Negative\n"
     ]
    },
    {
     "name": "stdout",
     "output_type": "stream",
     "text": [
      "Review: Aplikasi mobile dan webnya bermasalah mulu, untuk aplikasi mobile kirim verif kode lama sampai harus di spam, untuk aplikasi webnya selalu habis session harus login, tolong perbaiki, ini aplikasi mobile dan web, habisin berapa M ?\n"
     ]
    },
    {
     "name": "stdin",
     "output_type": "stream",
     "text": [
      "Masukkan label (Positive, Negative, Neutral) Negative\n"
     ]
    },
    {
     "name": "stdout",
     "output_type": "stream",
     "text": [
      "Review: Aplikasih milik siapa sih ini.. Login pakek wbst bisa, klo pke apk gk bisa.. Bkin aplikasi kox gak jelas\n"
     ]
    },
    {
     "name": "stdin",
     "output_type": "stream",
     "text": [
      "Masukkan label (Positive, Negative, Neutral) Negative\n"
     ]
    },
    {
     "name": "stdout",
     "output_type": "stream",
     "text": [
      "Review: Yang seharusnya mempermudah malah bikin kesel, udah beberapaa kali log in untuk pengajuan efin malah gagal terus.\n"
     ]
    },
    {
     "name": "stdin",
     "output_type": "stream",
     "text": [
      "Masukkan label (Positive, Negative, Neutral) Negative\n"
     ]
    },
    {
     "name": "stdout",
     "output_type": "stream",
     "text": [
      "Review: Bagus sangat Bermànpaat\n"
     ]
    },
    {
     "name": "stdin",
     "output_type": "stream",
     "text": [
      "Masukkan label (Positive, Negative, Neutral) Positive\n"
     ]
    },
    {
     "name": "stdout",
     "output_type": "stream",
     "text": [
      "Review: Top\n"
     ]
    },
    {
     "name": "stdin",
     "output_type": "stream",
     "text": [
      "Masukkan label (Positive, Negative, Neutral) Positive\n"
     ]
    },
    {
     "name": "stdout",
     "output_type": "stream",
     "text": [
      "Review: Kenapa saat validasi data Nik dan foto selalu gagal? Selalu saja balasannya tidak valid. Padahal semua sudah sesuai\n"
     ]
    },
    {
     "name": "stdin",
     "output_type": "stream",
     "text": [
      "Masukkan label (Positive, Negative, Neutral) Negative\n"
     ]
    },
    {
     "name": "stdout",
     "output_type": "stream",
     "text": [
      "Review: Mau bayar pajak aja ribet caranya\n"
     ]
    },
    {
     "name": "stdin",
     "output_type": "stream",
     "text": [
      "Masukkan label (Positive, Negative, Neutral) Negative\n"
     ]
    },
    {
     "name": "stdout",
     "output_type": "stream",
     "text": [
      "Review: Buat apa ada aplikasi kalau ruwet dan ga bisa lapor\n"
     ]
    },
    {
     "name": "stdin",
     "output_type": "stream",
     "text": [
      "Masukkan label (Positive, Negative, Neutral) Negative\n"
     ]
    },
    {
     "name": "stdout",
     "output_type": "stream",
     "text": [
      "Review: Aplikasi pemerintah? Bukanya mempermudah malah mempersulit. 1.pembuatan akun npwp sulit minta ampun 2.untuk log in sulit 3.figtur ampas g bisa jalan (contohnya laporan SPT tahunan. Fiks aplikasi ter ampas yang pernah saya download🤡\n"
     ]
    },
    {
     "name": "stdin",
     "output_type": "stream",
     "text": [
      "Masukkan label (Positive, Negative, Neutral) Negative\n"
     ]
    },
    {
     "name": "stdout",
     "output_type": "stream",
     "text": [
      "Review: Logout sekali utk ganti akun pajak, malah gk bisa login disemua akun. Nonor NPWP dan kata sandi sudah dicek berkali-kali, tapi tetap salah\n"
     ]
    },
    {
     "name": "stdin",
     "output_type": "stream",
     "text": [
      "Masukkan label (Positive, Negative, Neutral) Negative\n"
     ]
    },
    {
     "name": "stdout",
     "output_type": "stream",
     "text": [
      "Review: Bagus n menarik\n"
     ]
    },
    {
     "name": "stdin",
     "output_type": "stream",
     "text": [
      "Masukkan label (Positive, Negative, Neutral) Positive\n"
     ]
    },
    {
     "name": "stdout",
     "output_type": "stream",
     "text": [
      "Review: lgi ngebug/gangguan....no npwp bener pasword bener gk bs masuk...tolong diperbaiki....klo login d google chrome bisa\n"
     ]
    },
    {
     "name": "stdin",
     "output_type": "stream",
     "text": [
      "Masukkan label (Positive, Negative, Neutral) Negative\n"
     ]
    },
    {
     "name": "stdout",
     "output_type": "stream",
     "text": [
      "Review: criptical error occured !\n"
     ]
    },
    {
     "name": "stdin",
     "output_type": "stream",
     "text": [
      "Masukkan label (Positive, Negative, Neutral) Negative\n"
     ]
    },
    {
     "name": "stdout",
     "output_type": "stream",
     "text": [
      "Review: Aplikasi tidak jelas sandi nya benar tapi tidak bisa masuk aplikasi tidak berguna\n"
     ]
    },
    {
     "name": "stdin",
     "output_type": "stream",
     "text": [
      "Masukkan label (Positive, Negative, Neutral) Negative\n"
     ]
    },
    {
     "name": "stdout",
     "output_type": "stream",
     "text": [
      "Review: Daftar lewat aplikasi ga bisa, daftar lewat browser belum melayani operator 3\n"
     ]
    },
    {
     "name": "stdin",
     "output_type": "stream",
     "text": [
      "Masukkan label (Positive, Negative, Neutral) Negative\n"
     ]
    },
    {
     "name": "stdout",
     "output_type": "stream",
     "text": [
      "Review: Masukin nik cuma bisa 15 angka saja\n"
     ]
    },
    {
     "name": "stdin",
     "output_type": "stream",
     "text": [
      "Masukkan label (Positive, Negative, Neutral) Negative\n"
     ]
    },
    {
     "name": "stdout",
     "output_type": "stream",
     "text": [
      "Review: Eror tidak bisa di buka\n"
     ]
    },
    {
     "name": "stdin",
     "output_type": "stream",
     "text": [
      "Masukkan label (Positive, Negative, Neutral) Negative\n"
     ]
    },
    {
     "name": "stdout",
     "output_type": "stream",
     "text": [
      "Review: Bintang 2 dl dech, gmn nich apk, tiba2 erorr, mnta restart tp erorr \"Critical Error Occured!\"\n"
     ]
    },
    {
     "name": "stdin",
     "output_type": "stream",
     "text": [
      "Masukkan label (Positive, Negative, Neutral) Negative\n"
     ]
    },
    {
     "name": "stdout",
     "output_type": "stream",
     "text": [
      "Review: tdk bisa login sandi nik/npwp sudah benar , fitur banyak yang eror, peru banyak perbaikan\n"
     ]
    },
    {
     "name": "stdin",
     "output_type": "stream",
     "text": [
      "Masukkan label (Positive, Negative, Neutral) Negative\n"
     ]
    },
    {
     "name": "stdout",
     "output_type": "stream",
     "text": [
      "Review: Mohon ke Developer web pajak terdapat bug sistem pengisian pendaftaran NPWP online jeda waktu yang terlalu singkat, perlu durasi pengisian formulir butuh waktu lebih lama beberapa detik berikutnya, jika terlambat beberapa detik mengakibatkan bug sistem harus mengulang berulang kali berulang ulang login logout\n"
     ]
    },
    {
     "name": "stdin",
     "output_type": "stream",
     "text": [
      "Masukkan label (Positive, Negative, Neutral) Negative\n"
     ]
    },
    {
     "name": "stdout",
     "output_type": "stream",
     "text": [
      "Review: Kelasnya Penjala uang rakyat, bikin apk untuk rakyat saja seperti main main....Gunakan uang rakyat untuk memperbaiki apk ini supaya memudahkan rakyat membayar keringat kalian. Kelasnya Kemenkeu apk bobrok.\n"
     ]
    },
    {
     "name": "stdin",
     "output_type": "stream",
     "text": [
      "Masukkan label (Positive, Negative, Neutral) Negative\n"
     ]
    },
    {
     "name": "stdout",
     "output_type": "stream",
     "text": [
      "Review: Ok mantap\n"
     ]
    },
    {
     "name": "stdin",
     "output_type": "stream",
     "text": [
      "Masukkan label (Positive, Negative, Neutral) Positive\n"
     ]
    },
    {
     "name": "stdout",
     "output_type": "stream",
     "text": [
      "Review: Kirim OTP via sms susah amat\n"
     ]
    },
    {
     "name": "stdin",
     "output_type": "stream",
     "text": [
      "Masukkan label (Positive, Negative, Neutral) Negative\n"
     ]
    },
    {
     "name": "stdout",
     "output_type": "stream",
     "text": [
      "Review: Oke\n"
     ]
    },
    {
     "name": "stdin",
     "output_type": "stream",
     "text": [
      "Masukkan label (Positive, Negative, Neutral) Positive\n"
     ]
    },
    {
     "name": "stdout",
     "output_type": "stream",
     "text": [
      "Review: Payah aplikasinya, masak kita g bisa login kembali, tolonglah dperbaiki lagi\n"
     ]
    },
    {
     "name": "stdin",
     "output_type": "stream",
     "text": [
      "Masukkan label (Positive, Negative, Neutral) Negative\n"
     ]
    },
    {
     "name": "stdout",
     "output_type": "stream",
     "text": [
      "Review: Sippp👍👍👍\n"
     ]
    },
    {
     "name": "stdin",
     "output_type": "stream",
     "text": [
      "Masukkan label (Positive, Negative, Neutral) Positive\n"
     ]
    },
    {
     "name": "stdout",
     "output_type": "stream",
     "text": [
      "Review: Tidak bisa log in, padahal NPWP dan password sudah sama dengan yg di Web\n"
     ]
    },
    {
     "name": "stdin",
     "output_type": "stream",
     "text": [
      "Masukkan label (Positive, Negative, Neutral) Negative\n"
     ]
    },
    {
     "name": "stdout",
     "output_type": "stream",
     "text": [
      "Review: Bantu buka ka\n"
     ]
    },
    {
     "name": "stdin",
     "output_type": "stream",
     "text": [
      "Masukkan label (Positive, Negative, Neutral) Neutral\n"
     ]
    },
    {
     "name": "stdout",
     "output_type": "stream",
     "text": [
      "Review: Npwp sama pasw udah bener tp di aplikasi tetep salah, padahal kalo login pake npwp+pasw yg ada di web bisa masuk, di aplikasi tetep disalahin 😭😭😭\n"
     ]
    },
    {
     "name": "stdin",
     "output_type": "stream",
     "text": [
      "Masukkan label (Positive, Negative, Neutral) Negative\n"
     ]
    },
    {
     "name": "stdout",
     "output_type": "stream",
     "text": [
      "Review: Jangan didownload afk ini tolol, daftar nggak bisa juga. Pasti gagal dilangkah ke 2nya. Aplikasi yang sebenarnya harusnya mempermudah, malah bikin orang buang2 waktu. Salah satu aplikasi sampah yang ada di flay store.🖕🖕\n"
     ]
    },
    {
     "name": "stdin",
     "output_type": "stream",
     "text": [
      "Masukkan label (Positive, Negative, Neutral) Negative\n"
     ]
    },
    {
     "name": "stdout",
     "output_type": "stream",
     "text": [
      "Review: Masuk di web bisa tapi di aplikasi nggak bisa. Perbaiki lagi fitur login nya masak nggak sinkron sama web nya\n"
     ]
    },
    {
     "name": "stdin",
     "output_type": "stream",
     "text": [
      "Masukkan label (Positive, Negative, Neutral) Negative\n"
     ]
    },
    {
     "name": "stdout",
     "output_type": "stream",
     "text": [
      "Review: Tidak bisa buat login\n"
     ]
    },
    {
     "name": "stdin",
     "output_type": "stream",
     "text": [
      "Masukkan label (Positive, Negative, Neutral) Negative\n"
     ]
    },
    {
     "name": "stdout",
     "output_type": "stream",
     "text": [
      "Review: Sandi dan nomor NPWP sudah sesuai. Lewat browser bisa. Tapi lewat aplikasi ini malah gak bisa. Tolong perbaikannya\n"
     ]
    },
    {
     "name": "stdin",
     "output_type": "stream",
     "text": [
      "Masukkan label (Positive, Negative, Neutral) Negative\n"
     ]
    },
    {
     "name": "stdout",
     "output_type": "stream",
     "text": [
      "Review: Ga bisa login mobile, padahal di web nya bisa.\n"
     ]
    },
    {
     "name": "stdin",
     "output_type": "stream",
     "text": [
      "Masukkan label (Positive, Negative, Neutral) Negative\n"
     ]
    },
    {
     "name": "stdout",
     "output_type": "stream",
     "text": [
      "Review: Aplikasinya parah banget, sama sekali tidak bisa login😡😡😡😡😡\n"
     ]
    },
    {
     "name": "stdin",
     "output_type": "stream",
     "text": [
      "Masukkan label (Positive, Negative, Neutral) Negative\n"
     ]
    },
    {
     "name": "stdout",
     "output_type": "stream",
     "text": [
      "Review: Sangat terbantu sekali,,terimakasih\n"
     ]
    },
    {
     "name": "stdin",
     "output_type": "stream",
     "text": [
      "Masukkan label (Positive, Negative, Neutral) Positive\n"
     ]
    },
    {
     "name": "stdout",
     "output_type": "stream",
     "text": [
      "Review: Sudah update tapi tidak bisa dibuka. Ujung-ujungnya tetap buka di web juga\n"
     ]
    },
    {
     "name": "stdin",
     "output_type": "stream",
     "text": [
      "Masukkan label (Positive, Negative, Neutral) Negative\n"
     ]
    },
    {
     "name": "stdout",
     "output_type": "stream",
     "text": [
      "Review: Aplikasi ga bisa di buka Pemerintah yang tolol.\n"
     ]
    },
    {
     "name": "stdin",
     "output_type": "stream",
     "text": [
      "Masukkan label (Positive, Negative, Neutral) Negative\n"
     ]
    },
    {
     "name": "stdout",
     "output_type": "stream",
     "text": [
      "Review: Ini gimana sih aplikasi sama websitenya mau login udah ketik NPWP sama sandi udah benar semua masih ada yg dibilang salah\n"
     ]
    },
    {
     "name": "stdin",
     "output_type": "stream",
     "text": [
      "Masukkan label (Positive, Negative, Neutral) Negative\n"
     ]
    },
    {
     "name": "stdout",
     "output_type": "stream",
     "text": [
      "Review: Mau login di aplikasi tdk bisa, padahal kalau melalui websitenya bisa,aneh sekali aplikasinya\n"
     ]
    },
    {
     "name": "stdin",
     "output_type": "stream",
     "text": [
      "Masukkan label (Positive, Negative, Neutral) Negative\n"
     ]
    },
    {
     "name": "stdout",
     "output_type": "stream",
     "text": [
      "Review: Apk g jelas... Udh beberapa kali ngajuin epin.. Sms ny g muncul2 halah bikin kesel\n"
     ]
    },
    {
     "name": "stdin",
     "output_type": "stream",
     "text": [
      "Masukkan label (Positive, Negative, Neutral) Negative\n"
     ]
    },
    {
     "name": "stdout",
     "output_type": "stream",
     "text": [
      "Review: Sangat tidak mudah daptar npwp online\n"
     ]
    },
    {
     "name": "stdin",
     "output_type": "stream",
     "text": [
      "Masukkan label (Positive, Negative, Neutral) Negative\n"
     ]
    },
    {
     "name": "stdout",
     "output_type": "stream",
     "text": [
      "Review: Niat hati mau bantu bayar pajak malah aps kek lite. Lain kali duit pajak jgn d korupsi biar benarin ni apps\n"
     ]
    },
    {
     "name": "stdin",
     "output_type": "stream",
     "text": [
      "Masukkan label (Positive, Negative, Neutral) Negative\n"
     ]
    },
    {
     "name": "stdout",
     "output_type": "stream",
     "text": [
      "Review: Aplikasi bukannya mempermudah malah menyulitkan. Nomer npwp sudah benar sandi juga benar malah tetep salah aja. Ini yang buat aplikasi wanita kayaknya yak ???\n"
     ]
    },
    {
     "name": "stdin",
     "output_type": "stream",
     "text": [
      "Masukkan label (Positive, Negative, Neutral) Negative\n"
     ]
    },
    {
     "name": "stdout",
     "output_type": "stream",
     "text": [
      "Review: Ini kek mana mau log in ga bisa. Masukin nik belum selesai dah mentok aja. Tolong lah pemerintah perbaikan buat aplikasi ini\n"
     ]
    },
    {
     "name": "stdin",
     "output_type": "stream",
     "text": [
      "Masukkan label (Positive, Negative, Neutral) Negative\n"
     ]
    },
    {
     "name": "stdout",
     "output_type": "stream",
     "text": [
      "Review: Ribet poll masa mau minta efin aja susah gk lengkap buat apa klau dsni gk lengkap\n"
     ]
    },
    {
     "name": "stdin",
     "output_type": "stream",
     "text": [
      "Masukkan label (Positive, Negative, Neutral) Negative\n"
     ]
    },
    {
     "name": "stdout",
     "output_type": "stream",
     "text": [
      "Review: Kok klik mau daftar pengguna baru ga bisa d klik ya,\n"
     ]
    },
    {
     "name": "stdin",
     "output_type": "stream",
     "text": [
      "Masukkan label (Positive, Negative, Neutral) Negative\n"
     ]
    },
    {
     "name": "stdout",
     "output_type": "stream",
     "text": [
      "Review: Min, data alamat kok nggak bisa diganti, padahal sudah pindah alamat 😂😂😂\n"
     ]
    },
    {
     "name": "stdin",
     "output_type": "stream",
     "text": [
      "Masukkan label (Positive, Negative, Neutral) Negative\n"
     ]
    },
    {
     "name": "stdout",
     "output_type": "stream",
     "text": [
      "Review: Katanya ngisi no NPWP atau Nik, ketika isi NIK tidak bisa karena hanya bisa 15 digit\n"
     ]
    },
    {
     "name": "stdin",
     "output_type": "stream",
     "text": [
      "Masukkan label (Positive, Negative, Neutral) Negative\n"
     ]
    },
    {
     "name": "stdout",
     "output_type": "stream",
     "text": [
      "Review: Gak bisa download\n"
     ]
    },
    {
     "name": "stdin",
     "output_type": "stream",
     "text": [
      "Masukkan label (Positive, Negative, Neutral) Negative\n"
     ]
    },
    {
     "name": "stdout",
     "output_type": "stream",
     "text": [
      "Review: Saya baru mau daftar, pas udh tahap 2 trs tiba2 keluar sendiri, pas coba login lagi gak bisa karena userid dan ps salah, padahal udh bener, trs coba bikin lagi pake email yang sama gak bisa karena udah digunakan, gmna solusi nya? Saya mau ttp pakai email sebelumnya\n"
     ]
    },
    {
     "name": "stdin",
     "output_type": "stream",
     "text": [
      "Masukkan label (Positive, Negative, Neutral) Negative\n"
     ]
    },
    {
     "name": "stdout",
     "output_type": "stream",
     "text": [
      "Review: Tidak ada riwayat pembayaran ya???. Saya mau screen shoot buat lapor SPT. Jika di browser chorme juga tidak bisa muncul keterangan tidak di temukan. Tolong dong perbaiki dengan baik\n"
     ]
    },
    {
     "name": "stdin",
     "output_type": "stream",
     "text": [
      "Masukkan label (Positive, Negative, Neutral) Negative\n"
     ]
    },
    {
     "name": "stdout",
     "output_type": "stream",
     "text": [
      "Review: Daftar aja dibuat susah,kalo buat apl yg bner dkit\n"
     ]
    },
    {
     "name": "stdin",
     "output_type": "stream",
     "text": [
      "Masukkan label (Positive, Negative, Neutral) Negative\n"
     ]
    },
    {
     "name": "stdout",
     "output_type": "stream",
     "text": [
      "Review: gabisa dibuka aplikasinya mental terus 😂\n"
     ]
    },
    {
     "name": "stdin",
     "output_type": "stream",
     "text": [
      "Masukkan label (Positive, Negative, Neutral) Negative\n"
     ]
    },
    {
     "name": "stdout",
     "output_type": "stream",
     "text": [
      "Review: Mantaap\n"
     ]
    },
    {
     "name": "stdin",
     "output_type": "stream",
     "text": [
      "Masukkan label (Positive, Negative, Neutral) Positive\n"
     ]
    },
    {
     "name": "stdout",
     "output_type": "stream",
     "text": [
      "Review: Kode verifikasi tidak muncuuuuuuul di email... udah dicek di semua folder\n"
     ]
    },
    {
     "name": "stdin",
     "output_type": "stream",
     "text": [
      "Masukkan label (Positive, Negative, Neutral) Negative\n"
     ]
    },
    {
     "name": "stdout",
     "output_type": "stream",
     "text": [
      "Review: Saya selalu gagal untuk minta evin pajak\n"
     ]
    },
    {
     "name": "stdin",
     "output_type": "stream",
     "text": [
      "Masukkan label (Positive, Negative, Neutral) Negative\n"
     ]
    },
    {
     "name": "stdout",
     "output_type": "stream",
     "text": [
      "Review: Nyusahin orang\n"
     ]
    },
    {
     "name": "stdin",
     "output_type": "stream",
     "text": [
      "Masukkan label (Positive, Negative, Neutral) Negative\n"
     ]
    },
    {
     "name": "stdout",
     "output_type": "stream",
     "text": [
      "Review: Ini aplikasi dulu sempat bisa di gunakan, tapi sekarang aplikasinya tidak berfungsi 🤣🤣\n"
     ]
    },
    {
     "name": "stdin",
     "output_type": "stream",
     "text": [
      "Masukkan label (Positive, Negative, Neutral) Negative\n"
     ]
    },
    {
     "name": "stdout",
     "output_type": "stream",
     "text": [
      "Review: Sangat tidak membantu\n"
     ]
    },
    {
     "name": "stdin",
     "output_type": "stream",
     "text": [
      "Masukkan label (Positive, Negative, Neutral) Negative\n"
     ]
    },
    {
     "name": "stdout",
     "output_type": "stream",
     "text": [
      "Review: WOI BETULIN ITU. MASA NIK NYA GABISA 1 DIGIT LAGI DIKETIK. ANGGARAN DOANG GEDE. APLIKASINYA SAMPAH\n"
     ]
    },
    {
     "name": "stdin",
     "output_type": "stream",
     "text": [
      "Masukkan label (Positive, Negative, Neutral) Negative\n"
     ]
    },
    {
     "name": "stdout",
     "output_type": "stream",
     "text": [
      "Review: sekelas djp gimana sih, apk nya error gabisa login, di website sama aja kayak gitu\n"
     ]
    },
    {
     "name": "stdin",
     "output_type": "stream",
     "text": [
      "Masukkan label (Positive, Negative, Neutral) Negative\n"
     ]
    },
    {
     "name": "stdout",
     "output_type": "stream",
     "text": [
      "Review: Tolong di perbaiki lagi masa iya gak bisa buat daftar\n"
     ]
    },
    {
     "name": "stdin",
     "output_type": "stream",
     "text": [
      "Masukkan label (Positive, Negative, Neutral) Negative\n"
     ]
    },
    {
     "name": "stdout",
     "output_type": "stream",
     "text": [
      "Review: Nomor dan paswod NPWP sudah bner tapi ga bisa login, sampai di ulang skian kali pun ga bisa.. Haduuuuu..\n"
     ]
    },
    {
     "name": "stdin",
     "output_type": "stream",
     "text": [
      "Masukkan label (Positive, Negative, Neutral) Negative\n"
     ]
    },
    {
     "name": "stdout",
     "output_type": "stream",
     "text": [
      "Review: mau lapor pajak aja ko ribet amat\n"
     ]
    },
    {
     "name": "stdin",
     "output_type": "stream",
     "text": [
      "Masukkan label (Positive, Negative, Neutral) Negative\n"
     ]
    },
    {
     "name": "stdout",
     "output_type": "stream",
     "text": [
      "Review: Minta kode efin saja ribetnya minta ampun, mau reset password juga ribet kali..\n"
     ]
    },
    {
     "name": "stdin",
     "output_type": "stream",
     "text": [
      "Masukkan label (Positive, Negative, Neutral) Negative\n"
     ]
    },
    {
     "name": "stdout",
     "output_type": "stream",
     "text": [
      "Review: Assalamualaikum... Kalau mau ganti nomor kontak gimana caranya? Soalnya kode verifikasi efin ternyata dikirim ke nomor kontak yang lama, terima kasih.\n"
     ]
    },
    {
     "name": "stdin",
     "output_type": "stream",
     "text": [
      "Masukkan label (Positive, Negative, Neutral) Neutral\n"
     ]
    },
    {
     "name": "stdout",
     "output_type": "stream",
     "text": [
      "Review: Validasi otp dari zaman dinasti ming sampai skrng ndk masuk2 ke sms,,gmna mah daftar\n"
     ]
    },
    {
     "name": "stdin",
     "output_type": "stream",
     "text": [
      "Masukkan label (Positive, Negative, Neutral) Negative\n"
     ]
    },
    {
     "name": "stdout",
     "output_type": "stream",
     "text": [
      "Review: Aplikasi membingungkan, msih banyak error,\n"
     ]
    },
    {
     "name": "stdin",
     "output_type": "stream",
     "text": [
      "Masukkan label (Positive, Negative, Neutral) Negative\n"
     ]
    },
    {
     "name": "stdout",
     "output_type": "stream",
     "text": [
      "Review: Aplikasi buruk warga diminta tertip tapi aplikasi layanan publik seburuk ini, loginnya susah\n"
     ]
    },
    {
     "name": "stdin",
     "output_type": "stream",
     "text": [
      "Masukkan label (Positive, Negative, Neutral) Negative\n"
     ]
    },
    {
     "name": "stdout",
     "output_type": "stream",
     "text": [
      "Review: Gk ada guna aplikasiny\n"
     ]
    },
    {
     "name": "stdin",
     "output_type": "stream",
     "text": [
      "Masukkan label (Positive, Negative, Neutral) Negative\n"
     ]
    },
    {
     "name": "stdout",
     "output_type": "stream",
     "text": [
      "Review: Tes dulu akurat apa tidak dan sesuai bisa baca data aslinya apa tidak dan tentunya Resmi .Semiga saja aman dan bisa memudahkan Mayrakatvkecil sperti saya ini.Amin dan slm jaya.\n"
     ]
    },
    {
     "name": "stdin",
     "output_type": "stream",
     "text": [
      "Masukkan label (Positive, Negative, Neutral) Neutral\n"
     ]
    },
    {
     "name": "stdout",
     "output_type": "stream",
     "text": [
      "Review: kenapa saat memasukkan no nik cuma dibatasi 15 digit? Alhasil tidak bisa login Segera perbaiki\n"
     ]
    },
    {
     "name": "stdin",
     "output_type": "stream",
     "text": [
      "Masukkan label (Positive, Negative, Neutral) Negative\n"
     ]
    },
    {
     "name": "stdout",
     "output_type": "stream",
     "text": [
      "Review: Sangat membantu 🙏\n"
     ]
    },
    {
     "name": "stdin",
     "output_type": "stream",
     "text": [
      "Masukkan label (Positive, Negative, Neutral) Positive\n"
     ]
    },
    {
     "name": "stdout",
     "output_type": "stream",
     "text": [
      "Review: Aplikasi nya jelek tidak bisa login ribet ga mudah di akses\n"
     ]
    },
    {
     "name": "stdin",
     "output_type": "stream",
     "text": [
      "Masukkan label (Positive, Negative, Neutral) Negative\n"
     ]
    },
    {
     "name": "stdout",
     "output_type": "stream",
     "text": [
      "Review: Memudahkan dalam pelaporan SPT tahunan\n"
     ]
    },
    {
     "name": "stdin",
     "output_type": "stream",
     "text": [
      "Masukkan label (Positive, Negative, Neutral) Negative\n"
     ]
    },
    {
     "name": "stdout",
     "output_type": "stream",
     "text": [
      "Review: Buat yang kemarin kemarin kecewa sama aplikasi ini, sekarang sudah beda ya, sat set cepat dan mudah sekali dalam penggunaan nya, mantap djp dan tim IT nya\n"
     ]
    },
    {
     "name": "stdin",
     "output_type": "stream",
     "text": [
      "Masukkan label (Positive, Negative, Neutral) Positive\n"
     ]
    },
    {
     "name": "stdout",
     "output_type": "stream",
     "text": [
      "Review: Sangat membantu sekali\n"
     ]
    },
    {
     "name": "stdin",
     "output_type": "stream",
     "text": [
      "Masukkan label (Positive, Negative, Neutral) Positive\n"
     ]
    },
    {
     "name": "stdout",
     "output_type": "stream",
     "text": [
      "Review: lupa pasword dan efin gimana ya...\n"
     ]
    },
    {
     "name": "stdin",
     "output_type": "stream",
     "text": [
      "Masukkan label (Positive, Negative, Neutral) Neutral\n"
     ]
    },
    {
     "name": "stdout",
     "output_type": "stream",
     "text": [
      "Review: Susah kelek aplikasinya\n"
     ]
    },
    {
     "name": "stdin",
     "output_type": "stream",
     "text": [
      "Masukkan label (Positive, Negative, Neutral) Negative\n"
     ]
    },
    {
     "name": "stdout",
     "output_type": "stream",
     "text": [
      "Review: Gk bisa d gunain\n"
     ]
    },
    {
     "name": "stdin",
     "output_type": "stream",
     "text": [
      "Masukkan label (Positive, Negative, Neutral) Negative\n"
     ]
    },
    {
     "name": "stdout",
     "output_type": "stream",
     "text": [
      "Review: Aplikasi gak jelasss input NIK kok kuarang 1\n"
     ]
    },
    {
     "name": "stdin",
     "output_type": "stream",
     "text": [
      "Masukkan label (Positive, Negative, Neutral) Negative\n"
     ]
    },
    {
     "name": "stdout",
     "output_type": "stream",
     "text": [
      "Review: Pantesan gagal terus ternyata emang dari awal udah tidak bersedia untuk melayani\n"
     ]
    },
    {
     "name": "stdin",
     "output_type": "stream",
     "text": [
      "Masukkan label (Positive, Negative, Neutral) Negative\n"
     ]
    },
    {
     "name": "stdout",
     "output_type": "stream",
     "text": [
      "Review: Bagus\n"
     ]
    },
    {
     "name": "stdin",
     "output_type": "stream",
     "text": [
      "Masukkan label (Positive, Negative, Neutral) Positive\n"
     ]
    },
    {
     "name": "stdout",
     "output_type": "stream",
     "text": [
      "Review: Noob\n"
     ]
    },
    {
     "name": "stdin",
     "output_type": "stream",
     "text": [
      "Masukkan label (Positive, Negative, Neutral) Negative\n"
     ]
    },
    {
     "name": "stdout",
     "output_type": "stream",
     "text": [
      "Review: Aplikasi ga jelas. Sekalian orang mau lapor pajak masuk nya susah... Gaguna\n"
     ]
    },
    {
     "name": "stdin",
     "output_type": "stream",
     "text": [
      "Masukkan label (Positive, Negative, Neutral) Negative\n"
     ]
    },
    {
     "name": "stdout",
     "output_type": "stream",
     "text": [
      "Review: Aplikasi taiiii,,,brengseekk\n"
     ]
    },
    {
     "name": "stdin",
     "output_type": "stream",
     "text": [
      "Masukkan label (Positive, Negative, Neutral) Negative\n"
     ]
    },
    {
     "name": "stdout",
     "output_type": "stream",
     "text": [
      "Review: Terima kasih atas aplikasi M-Pajak ini karena sangat membantu dam mempermudah dalam membayar pajak\n"
     ]
    },
    {
     "name": "stdin",
     "output_type": "stream",
     "text": [
      "Masukkan label (Positive, Negative, Neutral) Positive\n"
     ]
    },
    {
     "name": "stdout",
     "output_type": "stream",
     "text": [
      "Review: Hapus aja aplikasi ini, buka ngk bisa forceclose terus\n"
     ]
    },
    {
     "name": "stdin",
     "output_type": "stream",
     "text": [
      "Masukkan label (Positive, Negative, Neutral) Negative\n"
     ]
    },
    {
     "name": "stdout",
     "output_type": "stream",
     "text": [
      "Review: Gagal mengirim data, padahal data sudah benar, tolong di perbaiki lagi\n"
     ]
    },
    {
     "name": "stdin",
     "output_type": "stream",
     "text": [
      "Masukkan label (Positive, Negative, Neutral) Negative\n"
     ]
    },
    {
     "name": "stdout",
     "output_type": "stream",
     "text": [
      "Review: Good\n"
     ]
    },
    {
     "name": "stdin",
     "output_type": "stream",
     "text": [
      "Masukkan label (Positive, Negative, Neutral) Positive\n"
     ]
    },
    {
     "name": "stdout",
     "output_type": "stream",
     "text": [
      "Review: Itu login nya di perbaiki.. Ya tidak bisa masuk wong mau kasih masuk nomer NIK hilang satu angkanya. Mau diketik tambahin angka tidak bisa\n"
     ]
    },
    {
     "name": "stdin",
     "output_type": "stream",
     "text": [
      "Masukkan label (Positive, Negative, Neutral) Negative\n"
     ]
    },
    {
     "name": "stdout",
     "output_type": "stream",
     "text": [
      "Review: Good\n"
     ]
    },
    {
     "name": "stdin",
     "output_type": "stream",
     "text": [
      "Masukkan label (Positive, Negative, Neutral) Positive\n"
     ]
    },
    {
     "name": "stdout",
     "output_type": "stream",
     "text": [
      "Review: Sumpah ini aplikasi pajangan aja , daftarin pakai email tulisannya email sudah terpakai, padahal di check blm terdaftar .coba siapa yg sukses daftar pakai aplikasi ini\n"
     ]
    },
    {
     "name": "stdin",
     "output_type": "stream",
     "text": [
      "Masukkan label (Positive, Negative, Neutral) Negative\n"
     ]
    },
    {
     "name": "stdout",
     "output_type": "stream",
     "text": [
      "Review: Kenapa login pakai NIK kok tidak bisa/ ketersediaan untuk menulis NIK kurang\n"
     ]
    },
    {
     "name": "stdin",
     "output_type": "stream",
     "text": [
      "Masukkan label (Positive, Negative, Neutral) Negative\n"
     ]
    },
    {
     "name": "stdout",
     "output_type": "stream",
     "text": [
      "Review: Di web bisa login di aplikasi tidak bisa,tolong diperbaiki. Padahal sudah saya update\n"
     ]
    },
    {
     "name": "stdin",
     "output_type": "stream",
     "text": [
      "Masukkan label (Positive, Negative, Neutral) Negative\n"
     ]
    },
    {
     "name": "stdout",
     "output_type": "stream",
     "text": [
      "Review: Aplikasi tidak bermanfaat, pas mau masukin NO NPWP malah ga cukup\n"
     ]
    },
    {
     "name": "stdin",
     "output_type": "stream",
     "text": [
      "Masukkan label (Positive, Negative, Neutral) Negative\n"
     ]
    },
    {
     "name": "stdout",
     "output_type": "stream",
     "text": [
      "Review: Ini aplikasinya kenapa? kok tidak bisa buat akun\n"
     ]
    },
    {
     "name": "stdin",
     "output_type": "stream",
     "text": [
      "Masukkan label (Positive, Negative, Neutral) Negative\n"
     ]
    },
    {
     "name": "stdout",
     "output_type": "stream",
     "text": [
      "Review: Ok\n"
     ]
    },
    {
     "name": "stdin",
     "output_type": "stream",
     "text": [
      "Masukkan label (Positive, Negative, Neutral) Positive\n"
     ]
    },
    {
     "name": "stdout",
     "output_type": "stream",
     "text": [
      "Review: Aplikasi ga bisa digunakan\n"
     ]
    },
    {
     "name": "stdin",
     "output_type": "stream",
     "text": [
      "Masukkan label (Positive, Negative, Neutral) Negative\n"
     ]
    },
    {
     "name": "stdout",
     "output_type": "stream",
     "text": [
      "Review: Aplikasi ga jelas, login aja susah\n"
     ]
    },
    {
     "name": "stdin",
     "output_type": "stream",
     "text": [
      "Masukkan label (Positive, Negative, Neutral) Negative\n"
     ]
    },
    {
     "name": "stdout",
     "output_type": "stream",
     "text": [
      "Review: Gak jelas aplikasi nya gak bisa di pakai sama sekali\n"
     ]
    },
    {
     "name": "stdin",
     "output_type": "stream",
     "text": [
      "Masukkan label (Positive, Negative, Neutral) Negative\n"
     ]
    },
    {
     "name": "stdout",
     "output_type": "stream",
     "text": [
      "Review: Gk jelas ruwett awal masuk daftar pilihan gk bisa d buka\n"
     ]
    },
    {
     "name": "stdin",
     "output_type": "stream",
     "text": [
      "Masukkan label (Positive, Negative, Neutral) Negative\n"
     ]
    },
    {
     "name": "stdout",
     "output_type": "stream",
     "text": [
      "Review: Fungsinya app ini apa,toh mau upload data pajak juga harus pake versi web\n"
     ]
    },
    {
     "name": "stdin",
     "output_type": "stream",
     "text": [
      "Masukkan label (Positive, Negative, Neutral) Negative\n"
     ]
    },
    {
     "name": "stdout",
     "output_type": "stream",
     "text": [
      "Review: Tolong perbaiki! TIDAK BISA LOGIN!\n"
     ]
    },
    {
     "name": "stdin",
     "output_type": "stream",
     "text": [
      "Masukkan label (Positive, Negative, Neutral) Negative\n"
     ]
    },
    {
     "name": "stdout",
     "output_type": "stream",
     "text": [
      "Review: No recommendations\n"
     ]
    },
    {
     "name": "stdin",
     "output_type": "stream",
     "text": [
      "Masukkan label (Positive, Negative, Neutral) Negative\n"
     ]
    },
    {
     "name": "stdout",
     "output_type": "stream",
     "text": [
      "Review: Gajelas banget, suruh masukin nomer kk, giliran di masukin slot nomernya kurang 1,,\n"
     ]
    },
    {
     "name": "stdin",
     "output_type": "stream",
     "text": [
      "Masukkan label (Positive, Negative, Neutral) Negative\n"
     ]
    },
    {
     "name": "stdout",
     "output_type": "stream",
     "text": [
      "Review: Ok\n"
     ]
    },
    {
     "name": "stdin",
     "output_type": "stream",
     "text": [
      "Masukkan label (Positive, Negative, Neutral) Positive\n"
     ]
    },
    {
     "name": "stdout",
     "output_type": "stream",
     "text": [
      "Review: Budget anggaran untuk maintenance aplikasinini gede banget tapi aplikasinya tidak berfungsi dengan baik, Kalau belum siap dengan layanan online jangan bikin aplikasi deh, hemat anggaran\n"
     ]
    },
    {
     "name": "stdin",
     "output_type": "stream",
     "text": [
      "Masukkan label (Positive, Negative, Neutral) Negative\n"
     ]
    },
    {
     "name": "stdout",
     "output_type": "stream",
     "text": [
      "Review: Error terus, sangat menyusahkan\n"
     ]
    },
    {
     "name": "stdin",
     "output_type": "stream",
     "text": [
      "Masukkan label (Positive, Negative, Neutral) Negative\n"
     ]
    },
    {
     "name": "stdout",
     "output_type": "stream",
     "text": [
      "Review: Ngurus EFIN masih ERROR. Ini uang pajak bikin aplikasi gini aja cacat. Mau coba ngurus pajak malah begini ribetnya. Tolong pihak playstore hapus aja nih aplikasi.\n"
     ]
    },
    {
     "name": "stdin",
     "output_type": "stream",
     "text": [
      "Masukkan label (Positive, Negative, Neutral) Negative\n"
     ]
    },
    {
     "name": "stdout",
     "output_type": "stream",
     "text": [
      "Review: Parah Banget Aplikasinya Padahal Punya Pemerintah.Masuk Gagal Terus Padahal Udah Bener Loading Terus Ujung Ujungnya Malah Ke Blokir.Diulangi Sampe 3x dan 33nya Akunnya Ke Blokir.TOLONG DIPERBAIKI !! Baik di Website ataupun Aplikasi Tolong Diperbaiki Percuma Orang Mo Daftar Online Kalo Gak Bisa Di Akses\n"
     ]
    },
    {
     "name": "stdin",
     "output_type": "stream",
     "text": [
      "Masukkan label (Positive, Negative, Neutral) Negative\n"
     ]
    },
    {
     "name": "stdout",
     "output_type": "stream",
     "text": [
      "Review: banyak yg harus di perbaiki ,ibarat nilai 0-10 gua kasi 0 BESAR ,LOGIN SAJA TIDA BISA ,bukannya nambah mudah malah RIBET ,tolong di tingkatkan lagi\n"
     ]
    },
    {
     "name": "stdin",
     "output_type": "stream",
     "text": [
      "Masukkan label (Positive, Negative, Neutral) Negative\n"
     ]
    },
    {
     "name": "stdout",
     "output_type": "stream",
     "text": [
      "Review: Kurang bagus\n"
     ]
    },
    {
     "name": "stdin",
     "output_type": "stream",
     "text": [
      "Masukkan label (Positive, Negative, Neutral) Negative\n"
     ]
    },
    {
     "name": "stdout",
     "output_type": "stream",
     "text": [
      "Review: Login GK bisa.. GK di web atau di apk, sama saja..\n"
     ]
    },
    {
     "name": "stdin",
     "output_type": "stream",
     "text": [
      "Masukkan label (Positive, Negative, Neutral) Negative\n"
     ]
    },
    {
     "name": "stdout",
     "output_type": "stream",
     "text": [
      "Review: baik aplikasi yang mudah di pahami dan membatu untuk menambah wawasan pengetahuan\n"
     ]
    },
    {
     "name": "stdin",
     "output_type": "stream",
     "text": [
      "Masukkan label (Positive, Negative, Neutral) Positive\n"
     ]
    },
    {
     "name": "stdout",
     "output_type": "stream",
     "text": [
      "Review: Bodoh, aplikasi rusak, login ga bisa bisa, waktu pengajuan lupa efin data sudah benar malah gagal terus berkali kali, ini gimana ini bukannya mempermudah malah mempersulit, lagian ya.. pemadanan NPWP itu kan program pemerintah pusat harusnya ya anda kalian yang harus sinkronisasi NPWP sama nik nya, kalian digaji negara untuk apa?\n"
     ]
    },
    {
     "name": "stdin",
     "output_type": "stream",
     "text": [
      "Masukkan label (Positive, Negative, Neutral) Negative\n"
     ]
    },
    {
     "name": "stdout",
     "output_type": "stream",
     "text": [
      "Review: Dibikin ribet,... Org mau bayar pajak ko dipersulit utk login.... Harusnya cukup masukan no NPWP aja harus langsung auto detect... Org sadar mau bayar pajak susah amat... Ya udalah... UNDELETE sajahhhh.....\n"
     ]
    },
    {
     "name": "stdin",
     "output_type": "stream",
     "text": [
      "Masukkan label (Positive, Negative, Neutral) Negative\n"
     ]
    },
    {
     "name": "stdout",
     "output_type": "stream",
     "text": [
      "Review: Kembangin dulu ni system parah, masa provider 3 gak bisa, yakali harus beli kartu baru buat daftar. Mau dapat otp dari mana eyy. Haaa Indonesia ku 🥰 seperti biasa ngurus apa-apa susah institusi web pemerintah\n"
     ]
    },
    {
     "name": "stdin",
     "output_type": "stream",
     "text": [
      "Masukkan label (Positive, Negative, Neutral) Negative\n"
     ]
    },
    {
     "name": "stdout",
     "output_type": "stream",
     "text": [
      "Review: Apaan si, nunggu verifikasi SMS seharian juga gada kode masuk, aneh.\n"
     ]
    },
    {
     "name": "stdin",
     "output_type": "stream",
     "text": [
      "Masukkan label (Positive, Negative, Neutral) Negative\n"
     ]
    },
    {
     "name": "stdout",
     "output_type": "stream",
     "text": [
      "Review: Ini aplikasi apaan tak jelas, nampak kualitas sdmnya KKN sehingga hasilnya pun jelek mau sampe kapan negara ini maju kalau pemerintah nya pada korup. Dasar payah gak jelas.\n"
     ]
    },
    {
     "name": "stdin",
     "output_type": "stream",
     "text": [
      "Masukkan label (Positive, Negative, Neutral) Negative\n"
     ]
    },
    {
     "name": "stdout",
     "output_type": "stream",
     "text": [
      "Review: aplikasi gak jelas, password salah terus, tulisan lupa password sebenernya button apa cuma hiasan kok gak bisa dipencet-_-\n"
     ]
    },
    {
     "name": "stdin",
     "output_type": "stream",
     "text": [
      "Masukkan label (Positive, Negative, Neutral) Negative\n"
     ]
    },
    {
     "name": "stdout",
     "output_type": "stream",
     "text": [
      "Review: Susah banget mau daftar aja Nomor otp gk dapet2\n"
     ]
    },
    {
     "name": "stdin",
     "output_type": "stream",
     "text": [
      "Masukkan label (Positive, Negative, Neutral) Negative\n"
     ]
    },
    {
     "name": "stdout",
     "output_type": "stream",
     "text": [
      "Review: Buruk\n"
     ]
    },
    {
     "name": "stdin",
     "output_type": "stream",
     "text": [
      "Masukkan label (Positive, Negative, Neutral) Negative\n"
     ]
    },
    {
     "name": "stdout",
     "output_type": "stream",
     "text": [
      "Review: masyarakat jangan dibuat terlambat mendaftar ataupun memperbaiki data nya dong min...aplikasinya saja tidak dimantenance dgn bagus karena saat memverifikasi untuk efin lupa nomor HP selalu dianggap gagal oleh apknya... tolong perbaiki bug nya...saat mengisi biodata karena lupa EFIN selalu FC terus...\n"
     ]
    },
    {
     "name": "stdin",
     "output_type": "stream",
     "text": [
      "Masukkan label (Positive, Negative, Neutral) Negative\n"
     ]
    },
    {
     "name": "stdout",
     "output_type": "stream",
     "text": [
      "Review: ini cara lapor tahunan gimana ya tampilan aplikasi baru kok malah membagongkan\n"
     ]
    },
    {
     "name": "stdin",
     "output_type": "stream",
     "text": [
      "Masukkan label (Positive, Negative, Neutral) Negative\n"
     ]
    },
    {
     "name": "stdout",
     "output_type": "stream",
     "text": [
      "Review: Aplikasi bodoh\n"
     ]
    },
    {
     "name": "stdin",
     "output_type": "stream",
     "text": [
      "Masukkan label (Positive, Negative, Neutral) Negative\n"
     ]
    },
    {
     "name": "stdout",
     "output_type": "stream",
     "text": [
      "Review: tidak bisa input npwp\n"
     ]
    },
    {
     "name": "stdin",
     "output_type": "stream",
     "text": [
      "Masukkan label (Positive, Negative, Neutral) Negative\n"
     ]
    },
    {
     "name": "stdout",
     "output_type": "stream",
     "text": [
      "Review: Nomor NPWP dan Password sudah sesuai, di web sama aplikasi tidak bisa login, dengan alasan tidak sesuai. Saya ajukan Lupa EFIN tapi sama saja, data ditolak, tidak sesuai. Padahal semua sudah benar dan sesuai. ANEH!\n"
     ]
    },
    {
     "name": "stdin",
     "output_type": "stream",
     "text": [
      "Masukkan label (Positive, Negative, Neutral) Negative\n"
     ]
    },
    {
     "name": "stdout",
     "output_type": "stream",
     "text": [
      "Review: Gagal verifikasi EFIN terus tanpa dkasih tau sebabnya dimana padahal udh sesuai smua. Payah.!!!!!\n"
     ]
    },
    {
     "name": "stdin",
     "output_type": "stream",
     "text": [
      "Masukkan label (Positive, Negative, Neutral) Negative\n"
     ]
    },
    {
     "name": "stdout",
     "output_type": "stream",
     "text": [
      "Review: LENAPA GA BISA DI BUKA MENDING HAPUS INI APK GA GUNA\n"
     ]
    },
    {
     "name": "stdin",
     "output_type": "stream",
     "text": [
      "Masukkan label (Positive, Negative, Neutral) Negative\n"
     ]
    },
    {
     "name": "stdout",
     "output_type": "stream",
     "text": [
      "Review: Gak bisa apa-apa\n"
     ]
    },
    {
     "name": "stdin",
     "output_type": "stream",
     "text": [
      "Masukkan label (Positive, Negative, Neutral) Negative\n"
     ]
    },
    {
     "name": "stdout",
     "output_type": "stream",
     "text": [
      "Review: Verifikasi data selalu gagal.. Aplikasi gagal..\n"
     ]
    },
    {
     "name": "stdin",
     "output_type": "stream",
     "text": [
      "Masukkan label (Positive, Negative, Neutral) Negative\n"
     ]
    },
    {
     "name": "stdout",
     "output_type": "stream",
     "text": [
      "Review: Sudah sulit reg situsnya jelek .....mau daftar di persulit,kalo ada rating nol saya nol dah\n"
     ]
    },
    {
     "name": "stdin",
     "output_type": "stream",
     "text": [
      "Masukkan label (Positive, Negative, Neutral) Negative\n"
     ]
    },
    {
     "name": "stdout",
     "output_type": "stream",
     "text": [
      "Review: 𝐑𝐢𝐛𝐞𝐭,𝐬𝐮𝐬𝐚𝐡,𝐬𝐮𝐥𝐢𝐭 𝐰𝐞𝐥𝐥𝐥 𝐦𝐞𝐧𝐝𝐢𝐧𝐠 𝐮𝐧𝐢𝐧𝐬𝐭𝐚𝐥 𝐚𝐣𝐚\n"
     ]
    },
    {
     "name": "stdin",
     "output_type": "stream",
     "text": [
      "Masukkan label (Positive, Negative, Neutral) Negative\n"
     ]
    },
    {
     "name": "stdout",
     "output_type": "stream",
     "text": [
      "Review: Ok\n"
     ]
    },
    {
     "name": "stdin",
     "output_type": "stream",
     "text": [
      "Masukkan label (Positive, Negative, Neutral) Positive\n"
     ]
    },
    {
     "name": "stdout",
     "output_type": "stream",
     "text": [
      "Review: Aplikasi menyedihkan musingin orang awam\n"
     ]
    },
    {
     "name": "stdin",
     "output_type": "stream",
     "text": [
      "Masukkan label (Positive, Negative, Neutral) Negative\n"
     ]
    },
    {
     "name": "stdout",
     "output_type": "stream",
     "text": [
      "Review: Bintang 1 untuk live chat di web dan ribet ,lupa sandi doank di persulit 🖕\n"
     ]
    },
    {
     "name": "stdin",
     "output_type": "stream",
     "text": [
      "Masukkan label (Positive, Negative, Neutral) Negative\n"
     ]
    },
    {
     "name": "stdout",
     "output_type": "stream",
     "text": [
      "Review: Mau login pakai NIK kok digitnya cuma 15?\n"
     ]
    },
    {
     "name": "stdin",
     "output_type": "stream",
     "text": [
      "Masukkan label (Positive, Negative, Neutral) Negative\n"
     ]
    },
    {
     "name": "stdout",
     "output_type": "stream",
     "text": [
      "Review: Verifikasi efin gagal terus\n"
     ]
    },
    {
     "name": "stdin",
     "output_type": "stream",
     "text": [
      "Masukkan label (Positive, Negative, Neutral) Negative\n"
     ]
    },
    {
     "name": "stdout",
     "output_type": "stream",
     "text": [
      "Review: Aplikasi yang membagongkan.... Kalau belum punya akun ga bisa akses semua menu, giliran mau daftar pengguna baru malah ga bisa. Tombol Daftar disini ga bisa di klik. Trs gimana mau pake aplikasi ini. Dasar....\n"
     ]
    },
    {
     "name": "stdin",
     "output_type": "stream",
     "text": [
      "Masukkan label (Positive, Negative, Neutral) Negative\n"
     ]
    },
    {
     "name": "stdout",
     "output_type": "stream",
     "text": [
      "Review: Sudah daftar, gk bisa login, sya daftar gara² creator Udah mintak nik lah kk lah, Huuu entalah malah sudah aku hapus semua nya 🥵\n"
     ]
    },
    {
     "name": "stdin",
     "output_type": "stream",
     "text": [
      "Masukkan label (Positive, Negative, Neutral) Negative\n"
     ]
    },
    {
     "name": "stdout",
     "output_type": "stream",
     "text": [
      "Review: tolong diupdate jenis setoran pajaknya kode 920 dll msh blm ada🙏🙏\n"
     ]
    },
    {
     "name": "stdin",
     "output_type": "stream",
     "text": [
      "Masukkan label (Positive, Negative, Neutral) Negative\n"
     ]
    },
    {
     "name": "stdout",
     "output_type": "stream",
     "text": [
      "Review: Semua akan ada pertanggung jawabanya\n"
     ]
    },
    {
     "name": "stdin",
     "output_type": "stream",
     "text": [
      "Masukkan label (Positive, Negative, Neutral) Neutral\n"
     ]
    },
    {
     "name": "stdout",
     "output_type": "stream",
     "text": [
      "Review: Mohon ditambahkan menu perubahan data jadi memudahkan tanpa perlu datang ke kantor pajak\n"
     ]
    },
    {
     "name": "stdin",
     "output_type": "stream",
     "text": [
      "Masukkan label (Positive, Negative, Neutral) Negative\n"
     ]
    },
    {
     "name": "stdout",
     "output_type": "stream",
     "text": [
      "Review: Indonesia lagi butuh orang pintar\n"
     ]
    },
    {
     "name": "stdin",
     "output_type": "stream",
     "text": [
      "Masukkan label (Positive, Negative, Neutral) Negative\n"
     ]
    },
    {
     "name": "stdout",
     "output_type": "stream",
     "text": [
      "Review: Padahal udah k daftar masuk malah error' lewat browser bisa .giliran aplikasi ngg bisa masuk .aplikasi ngga jelas\n"
     ]
    },
    {
     "name": "stdin",
     "output_type": "stream",
     "text": [
      "Masukkan label (Positive, Negative, Neutral) Negative\n"
     ]
    },
    {
     "name": "stdout",
     "output_type": "stream",
     "text": [
      "Review: Aplikasi terburuk di planet ini\n"
     ]
    },
    {
     "name": "stdin",
     "output_type": "stream",
     "text": [
      "Masukkan label (Positive, Negative, Neutral) Negative\n"
     ]
    },
    {
     "name": "stdout",
     "output_type": "stream",
     "text": [
      "Review: aplikasi apa lah ini, bnyk bug nya, buat akun baru ga bisa, kemana devlop nya ini cuy😅\n"
     ]
    },
    {
     "name": "stdin",
     "output_type": "stream",
     "text": [
      "Masukkan label (Positive, Negative, Neutral) Negative\n"
     ]
    },
    {
     "name": "stdout",
     "output_type": "stream",
     "text": [
      "Review: Lupa efin sudah di isi giliran verifikasi muka app terhenti terus gk efisien kalo memang gk bisa gak usah dikasih menu lupa efin\n"
     ]
    },
    {
     "name": "stdin",
     "output_type": "stream",
     "text": [
      "Masukkan label (Positive, Negative, Neutral) Negative\n"
     ]
    },
    {
     "name": "stdout",
     "output_type": "stream",
     "text": [
      "Review: Aplikasi gak jelas. Mau minta permohonan lupa efin tapi verifikasi selalu gagal entah salah dimana. Diulang berkali-kali sama aja. Kalau harus urus ke kantor pajak langsung, ngapain bikin aplikasi sih? Diperbaiki tolong, masa aplikasi pemerintah kayak gini\n"
     ]
    },
    {
     "name": "stdin",
     "output_type": "stream",
     "text": [
      "Masukkan label (Positive, Negative, Neutral) Negative\n"
     ]
    },
    {
     "name": "stdout",
     "output_type": "stream",
     "text": [
      "Review: Di web bisa dibuka kok, knp diaplikasinya ada yg salah satunya ngga bener password/npwpnyaa!!!\n"
     ]
    },
    {
     "name": "stdin",
     "output_type": "stream",
     "text": [
      "Masukkan label (Positive, Negative, Neutral) Negative\n"
     ]
    },
    {
     "name": "stdout",
     "output_type": "stream",
     "text": [
      "Review: Gimana ini, stlh masukkan NPWP lupa kata sandi, lalu disuruh masukkan EFIN, pdhl EFIN jg lupa. Ketika masuk melalui menu EFIN krn lupa EFIN dan setelah memasukkan data diri sesuai E-KTP malah Verifikasi Gagal, aneh. Ribet banget sihh\n"
     ]
    },
    {
     "name": "stdin",
     "output_type": "stream",
     "text": [
      "Masukkan label (Positive, Negative, Neutral) Negative\n"
     ]
    },
    {
     "name": "stdout",
     "output_type": "stream",
     "text": [
      "Review: tidak membantu yang jadi pertanyaan saya buat apa sih ada EFIN segala ? dan ini saya coba untuk ke menu lupa EFIN gak pakai di analisa dulu, langsung gagal padahal tujuan saya download apk ini mau gabungin NPWP dan NIK tapi di persulit, lagian pihak pajak bisa kerja dikit gak sih, kan datanya sudah ada kenapa kita yang harus gabungin gaji tinggi pekerjaan cuman malak\n"
     ]
    },
    {
     "name": "stdin",
     "output_type": "stream",
     "text": [
      "Masukkan label (Positive, Negative, Neutral) Negative\n"
     ]
    },
    {
     "name": "stdout",
     "output_type": "stream",
     "text": [
      "Review: Gimana mau taat dan patuh. Ini mau daftar susah bener. Klau bukan karena pekerjaan. Saya tidak mau repot-repot seperti ini\n"
     ]
    },
    {
     "name": "stdin",
     "output_type": "stream",
     "text": [
      "Masukkan label (Positive, Negative, Neutral) Negative\n"
     ]
    },
    {
     "name": "stdout",
     "output_type": "stream",
     "text": [
      "Review: 😅😅 ini suruh masukin nik, sejak kapan nik cuman 15 digit, gimana mau login kalau nik yg bisa di masukan cuman 15\n"
     ]
    },
    {
     "name": "stdin",
     "output_type": "stream",
     "text": [
      "Masukkan label (Positive, Negative, Neutral) Negative\n"
     ]
    },
    {
     "name": "stdout",
     "output_type": "stream",
     "text": [
      "Review: Mau nya gimana sih? Giliran pajak cepat nagihnya di rakyat. Giliran rakyat pakai aplikasi untuk memudahkan malah di persulit. Verifikasi gagal. Sinyal ok. Data valid. Tapi gagal terus. Giliran duit rakyat cepat di potongnya\n"
     ]
    },
    {
     "name": "stdin",
     "output_type": "stream",
     "text": [
      "Masukkan label (Positive, Negative, Neutral) Negative\n"
     ]
    },
    {
     "name": "stdout",
     "output_type": "stream",
     "text": [
      "Review: Gagal verifikasi terus, payah\n"
     ]
    },
    {
     "name": "stdin",
     "output_type": "stream",
     "text": [
      "Masukkan label (Positive, Negative, Neutral) Negative\n"
     ]
    },
    {
     "name": "stdout",
     "output_type": "stream",
     "text": [
      "Review: Aplikasi gk pernah jelas\n"
     ]
    },
    {
     "name": "stdin",
     "output_type": "stream",
     "text": [
      "Masukkan label (Positive, Negative, Neutral) Negative\n"
     ]
    },
    {
     "name": "stdout",
     "output_type": "stream",
     "text": [
      "Review: Anggaran doang digedein, aplikasi sama web sama² butut dan suka eror! 👎🏻 Semoga para koruptor anggaran miskin harta sampe keturunan²nya, dan mati mengenaskan! Aamiin 🤲🏻\n"
     ]
    },
    {
     "name": "stdin",
     "output_type": "stream",
     "text": [
      "Masukkan label (Positive, Negative, Neutral) Negative\n"
     ]
    },
    {
     "name": "stdout",
     "output_type": "stream",
     "text": [
      "Review: Halo admin. Saya sudah isi form lengkap untuk mendapatkan npwp pribadi namun sampai kini tidak ada kelanjutan. Saya coba login app disuruh nik/npwp. Lalu saya coba isi nik saja. Namun kolom isian Mash kurang lengkap 1 digit. Aneh banget app milik negara kok seperti ini. Erroor atau kurang biaya Tah?\n"
     ]
    },
    {
     "name": "stdin",
     "output_type": "stream",
     "text": [
      "Masukkan label (Positive, Negative, Neutral) Negative\n"
     ]
    },
    {
     "name": "stdout",
     "output_type": "stream",
     "text": [
      "Review: Gak jelas, sudah diisi gakbisa pencet apapun\n"
     ]
    },
    {
     "name": "stdin",
     "output_type": "stream",
     "text": [
      "Masukkan label (Positive, Negative, Neutral) Negative\n"
     ]
    },
    {
     "name": "stdout",
     "output_type": "stream",
     "text": [
      "Review: Biaya untuk sistem nya dikorupsi. Aplikasi babi\n"
     ]
    },
    {
     "name": "stdin",
     "output_type": "stream",
     "text": [
      "Masukkan label (Positive, Negative, Neutral) Negative\n"
     ]
    },
    {
     "name": "stdout",
     "output_type": "stream",
     "text": [
      "Review: mungkin tahap uji coba, makanya gagal terus. 🤭\n"
     ]
    },
    {
     "name": "stdin",
     "output_type": "stream",
     "text": [
      "Masukkan label (Positive, Negative, Neutral) Negative\n"
     ]
    },
    {
     "name": "stdout",
     "output_type": "stream",
     "text": [
      "Review: Knapa salah terus password nya idpadahaldah bner\n"
     ]
    },
    {
     "name": "stdin",
     "output_type": "stream",
     "text": [
      "Masukkan label (Positive, Negative, Neutral) Negative\n"
     ]
    },
    {
     "name": "stdout",
     "output_type": "stream",
     "text": [
      "Review: Buruk\n"
     ]
    },
    {
     "name": "stdin",
     "output_type": "stream",
     "text": [
      "Masukkan label (Positive, Negative, Neutral) Negative\n"
     ]
    },
    {
     "name": "stdout",
     "output_type": "stream",
     "text": [
      "Review: Kalo kata Rocky Gerung, ini aplikasi DUNGU! Tim IT nya suruh pindah posisi aja jadi admin gudang, yg cuma ngedata barang keluar masuk kalo gak becus jadi IT!\n"
     ]
    },
    {
     "name": "stdin",
     "output_type": "stream",
     "text": [
      "Masukkan label (Positive, Negative, Neutral) Negative\n"
     ]
    },
    {
     "name": "stdout",
     "output_type": "stream",
     "text": [
      "Review: Sdh dipadankan nik & NPWP, pas m masuk ke aplikasinya koq ngga bisa?? Aplikasi ngga jelas\n"
     ]
    },
    {
     "name": "stdin",
     "output_type": "stream",
     "text": [
      "Masukkan label (Positive, Negative, Neutral) Negative\n"
     ]
    },
    {
     "name": "stdout",
     "output_type": "stream",
     "text": [
      "Review: Aplikasi ga ada manfaatnya, buat nulis nik aja kolom ga cukup. Yang bikin bocah magang kali\n"
     ]
    },
    {
     "name": "stdin",
     "output_type": "stream",
     "text": [
      "Masukkan label (Positive, Negative, Neutral) Negative\n"
     ]
    },
    {
     "name": "stdout",
     "output_type": "stream",
     "text": [
      "Review: Parah banget gak bisa masuk\n"
     ]
    },
    {
     "name": "stdin",
     "output_type": "stream",
     "text": [
      "Masukkan label (Positive, Negative, Neutral) Negative\n"
     ]
    },
    {
     "name": "stdout",
     "output_type": "stream",
     "text": [
      "Review: Sulit banget,kalo mau secara online ya jangan dipersulit loginnya.\n"
     ]
    },
    {
     "name": "stdin",
     "output_type": "stream",
     "text": [
      "Masukkan label (Positive, Negative, Neutral) Negative\n"
     ]
    },
    {
     "name": "stdout",
     "output_type": "stream",
     "text": [
      "Review: Suruh orang bayar pajak tpi apknya lemot udh di coba di hp sama laptop tetep lemot gajelas orang pajak emang\n"
     ]
    },
    {
     "name": "stdin",
     "output_type": "stream",
     "text": [
      "Masukkan label (Positive, Negative, Neutral) Negative\n"
     ]
    },
    {
     "name": "stdout",
     "output_type": "stream",
     "text": [
      "Review: Saran aja ini ya, buat aplikasi ga usah muluk muluk. Kalian buat login harus memakai captcha tapi captcha ga keluar. Punya aplikasi itu di urusi Jagan buat asal jadi terus di biarkan\n"
     ]
    },
    {
     "name": "stdin",
     "output_type": "stream",
     "text": [
      "Masukkan label (Positive, Negative, Neutral) Negative\n"
     ]
    },
    {
     "name": "stdout",
     "output_type": "stream",
     "text": [
      "Review: Setiap sampai kode verifikasi sms tidak pernah masuk nyoba sampek puluhan kali ,gimana sih ini ? Percuma di update ,mau taat pajak saja susah nya minta ampun🤦\n"
     ]
    },
    {
     "name": "stdin",
     "output_type": "stream",
     "text": [
      "Masukkan label (Positive, Negative, Neutral) Negative\n"
     ]
    },
    {
     "name": "stdout",
     "output_type": "stream",
     "text": [
      "Review: Ribet jga yaa, pdhal mau laporan pajak\n"
     ]
    },
    {
     "name": "stdin",
     "output_type": "stream",
     "text": [
      "Masukkan label (Positive, Negative, Neutral) Negative\n"
     ]
    },
    {
     "name": "stdout",
     "output_type": "stream",
     "text": [
      "Review: Aplikasi buat habisin anggaran..bobrok..sebobrok moral pejabat konoha..yg penting..cuan..cuan..cuan..\n"
     ]
    },
    {
     "name": "stdin",
     "output_type": "stream",
     "text": [
      "Masukkan label (Positive, Negative, Neutral) Negative\n"
     ]
    },
    {
     "name": "stdout",
     "output_type": "stream",
     "text": [
      "Review: Aku daftar NPWP pribadi buat kerja kok susah ya? Sebentar kantor offline yg menangani masalah ini dimana sih?\n"
     ]
    },
    {
     "name": "stdin",
     "output_type": "stream",
     "text": [
      "Masukkan label (Positive, Negative, Neutral) Negative\n"
     ]
    },
    {
     "name": "stdout",
     "output_type": "stream",
     "text": [
      "Review: JOKOWI SDH KELAMAAN MENJABAT HARUS DIGANTI PARTAI LAIN.SISTEM BOBROK.MAU MINTA EFIN AJA DIPERSULIT.NEGARA ANJIHINGGGG\n"
     ]
    },
    {
     "name": "stdin",
     "output_type": "stream",
     "text": [
      "Masukkan label (Positive, Negative, Neutral) Negative\n"
     ]
    },
    {
     "name": "stdout",
     "output_type": "stream",
     "text": [
      "Review: Gimana mau ambil foto kalau keluar sendiri\n"
     ]
    },
    {
     "name": "stdin",
     "output_type": "stream",
     "text": [
      "Masukkan label (Positive, Negative, Neutral) Negative\n"
     ]
    },
    {
     "name": "stdout",
     "output_type": "stream",
     "text": [
      "Review: Loe olang memang PANTAS.. Memang pantas untuk OE HANTAM 👩‍🦲👊👊👊 baru bikin akun sudah keblokir... phei phei phei\n"
     ]
    },
    {
     "name": "stdin",
     "output_type": "stream",
     "text": [
      "Masukkan label (Positive, Negative, Neutral) Negative\n"
     ]
    },
    {
     "name": "stdout",
     "output_type": "stream",
     "text": [
      "Review: Aplikasi gak jelas, mau login gak bisa, karakter limit utk NPWP/NIK. Selalu gagal login karena NPWP/NIK tidak bisa ditulis dengan lengkap,, wkwkwk anehh anehh\n"
     ]
    },
    {
     "name": "stdin",
     "output_type": "stream",
     "text": [
      "Masukkan label (Positive, Negative, Neutral) Negative\n"
     ]
    },
    {
     "name": "stdout",
     "output_type": "stream",
     "text": [
      "Review: Kns veripikasi nyari no efin gagal terus sih ,jelek banget aplikasinya\n"
     ]
    },
    {
     "name": "stdin",
     "output_type": "stream",
     "text": [
      "Masukkan label (Positive, Negative, Neutral) Negative\n"
     ]
    },
    {
     "name": "stdout",
     "output_type": "stream",
     "text": [
      "Review: Kecewa berat susah buat daftar online, bufering ujung ujung nya link nya ilang gak terjangkau lagi, 2 x coba masih sama,\n"
     ]
    },
    {
     "name": "stdin",
     "output_type": "stream",
     "text": [
      "Masukkan label (Positive, Negative, Neutral) Negative\n"
     ]
    },
    {
     "name": "stdout",
     "output_type": "stream",
     "text": [
      "Review: Apk/webnya gak jelas mau daftar bikin npwp kga bisa bisa ribet pula, fungsinya serba online itu mempermudah bukan mempersulit, developernya ngambil dari mana kali sekelas bumn loh ini!\n"
     ]
    },
    {
     "name": "stdin",
     "output_type": "stream",
     "text": [
      "Masukkan label (Positive, Negative, Neutral) Negative\n"
     ]
    },
    {
     "name": "stdout",
     "output_type": "stream",
     "text": [
      "Review: Jelek x pecat aja yang buat. Ganti aja slogannya . \"Pajak kita untuk kami\"\n"
     ]
    },
    {
     "name": "stdin",
     "output_type": "stream",
     "text": [
      "Masukkan label (Positive, Negative, Neutral) Negative\n"
     ]
    },
    {
     "name": "stdout",
     "output_type": "stream",
     "text": [
      "Review: Aplikasi bosok jlek gak guna mau masuk salah pasword & salh NPWP bodoh bngt yg bikin ini web hrus di abtude yg lbh bgus\n"
     ]
    },
    {
     "name": "stdin",
     "output_type": "stream",
     "text": [
      "Masukkan label (Positive, Negative, Neutral) Negative\n"
     ]
    },
    {
     "name": "stdout",
     "output_type": "stream",
     "text": [
      "Review: Jelek\n"
     ]
    },
    {
     "name": "stdin",
     "output_type": "stream",
     "text": [
      "Masukkan label (Positive, Negative, Neutral) Negative\n"
     ]
    },
    {
     "name": "stdout",
     "output_type": "stream",
     "text": [
      "Review: Bagus\n"
     ]
    },
    {
     "name": "stdin",
     "output_type": "stream",
     "text": [
      "Masukkan label (Positive, Negative, Neutral) Positive\n"
     ]
    },
    {
     "name": "stdout",
     "output_type": "stream",
     "text": [
      "Review: Aplikasi pajangan doang fitur nggak bisa apa2, kata mau era digital pemerintah buat aplikasi begitu aja ribet\n"
     ]
    },
    {
     "name": "stdin",
     "output_type": "stream",
     "text": [
      "Masukkan label (Positive, Negative, Neutral) Negative\n"
     ]
    },
    {
     "name": "stdout",
     "output_type": "stream",
     "text": [
      "Review: Untuk saat ini belum bisa dikatakan bermanfaat. Login pake NIK, kotak ga cukup, kurang 1 angka. Pake NPWP, password salah terus. Klik lupa password, apk cuma diam ga respon apa2. Trus ni apk buat apa? Belum siap kenapa dilaunching, servernya aman ga nih? Kenapa lagi2 aplikasi punya pemerintah selalu bermasalah? Kalah dgn aplikasi swasta. IT-nya gimana nih?\n"
     ]
    },
    {
     "name": "stdin",
     "output_type": "stream",
     "text": [
      "Masukkan label (Positive, Negative, Neutral) Negative\n"
     ]
    },
    {
     "name": "stdout",
     "output_type": "stream",
     "text": [
      "Review: Apps tidak guna,lupa efin verifikasi gagal terus.lol\n"
     ]
    },
    {
     "name": "stdin",
     "output_type": "stream",
     "text": [
      "Masukkan label (Positive, Negative, Neutral) Negative\n"
     ]
    },
    {
     "name": "stdout",
     "output_type": "stream",
     "text": [
      "Review: untuk masuk akun pakai NIK masih blm bisa, 1 digit terakhir nik tidak bisa masuk. Mohon segera perbaikannya, demi kenyamanan bersama. terimakasih\n"
     ]
    },
    {
     "name": "stdin",
     "output_type": "stream",
     "text": [
      "Masukkan label (Positive, Negative, Neutral) Negative\n"
     ]
    },
    {
     "name": "stdout",
     "output_type": "stream",
     "text": [
      "Review: Sebenarnya pengen menghina habis-habisan untuk app ini...\n"
     ]
    },
    {
     "name": "stdin",
     "output_type": "stream",
     "text": [
      "Masukkan label (Positive, Negative, Neutral) Negative\n"
     ]
    },
    {
     "name": "stdout",
     "output_type": "stream",
     "text": [
      "Review: gagak jelas,minta lupa EFIN melalui M-PAJAK VERIFIKASI GAGAL TERUS,PAYAH\n"
     ]
    },
    {
     "name": "stdin",
     "output_type": "stream",
     "text": [
      "Masukkan label (Positive, Negative, Neutral) Negative\n"
     ]
    },
    {
     "name": "stdout",
     "output_type": "stream",
     "text": [
      "Review: Ini apa apaan sih, tolonglah yang jelas kalo bikin apk. Yakali gabisa buat sign in ?\n"
     ]
    },
    {
     "name": "stdin",
     "output_type": "stream",
     "text": [
      "Masukkan label (Positive, Negative, Neutral) Negative\n"
     ]
    },
    {
     "name": "stdout",
     "output_type": "stream",
     "text": [
      "Review: Apa gunannya pemerintah bikin aplikasi online, kalo mau ngurus efin keterangan di web di arahkan di aplikasi, di aplikasi gagal terus, lewat telpon 1500200, malah di arahkan ke KPP langsung,\n"
     ]
    },
    {
     "name": "stdin",
     "output_type": "stream",
     "text": [
      "Masukkan label (Positive, Negative, Neutral) Negative\n"
     ]
    },
    {
     "name": "stdout",
     "output_type": "stream",
     "text": [
      "Review: Lewat website bisa login tapi kenapa lewat aplikasi malah ga bisa hmm\n"
     ]
    },
    {
     "name": "stdin",
     "output_type": "stream",
     "text": [
      "Masukkan label (Positive, Negative, Neutral) Negative\n"
     ]
    },
    {
     "name": "stdout",
     "output_type": "stream",
     "text": [
      "Review: Tujuan nginstal buat lupa efin, giluran mw request lupa efin malah error melulu\n"
     ]
    },
    {
     "name": "stdin",
     "output_type": "stream",
     "text": [
      "Masukkan label (Positive, Negative, Neutral) Negative\n"
     ]
    },
    {
     "name": "stdout",
     "output_type": "stream",
     "text": [
      "Review: Payah mau minta EFIN. Udah pengajuan detil pengisiannya dicoba berulangkali tetap aja Gagal ferifikasi ..Aneh! Ini system pemerintah tapi aplikasinya payah bgt, lalu kerja kalian apa? Kukira dipermudah ternyata diPERSULIT!\n"
     ]
    },
    {
     "name": "stdin",
     "output_type": "stream",
     "text": [
      "Masukkan label (Positive, Negative, Neutral) Negative\n"
     ]
    },
    {
     "name": "stdout",
     "output_type": "stream",
     "text": [
      "Review: Bagus\n"
     ]
    },
    {
     "name": "stdin",
     "output_type": "stream",
     "text": [
      "Masukkan label (Positive, Negative, Neutral) Positive\n"
     ]
    },
    {
     "name": "stdout",
     "output_type": "stream",
     "text": [
      "Review: Login pake nik tapi angkanya ga cukup..\n"
     ]
    },
    {
     "name": "stdin",
     "output_type": "stream",
     "text": [
      "Masukkan label (Positive, Negative, Neutral) Negative\n"
     ]
    },
    {
     "name": "stdout",
     "output_type": "stream",
     "text": [
      "Review: Banyak yang ngeluh tapi dari pihak app nggak ada yang ngerespon 🙆🤦🏼‍♂️🤦🏼‍♂️🤦🏼‍♂️\n"
     ]
    },
    {
     "name": "stdin",
     "output_type": "stream",
     "text": [
      "Masukkan label (Positive, Negative, Neutral) Negative\n"
     ]
    },
    {
     "name": "stdout",
     "output_type": "stream",
     "text": [
      "Review: Emang ada aplikasi atau Web pemerintah yg lancar.???\n"
     ]
    },
    {
     "name": "stdin",
     "output_type": "stream",
     "text": [
      "Masukkan label (Positive, Negative, Neutral) Negative\n"
     ]
    },
    {
     "name": "stdout",
     "output_type": "stream",
     "text": [
      "Review: email aktivasi gak pernah dikirim\n"
     ]
    },
    {
     "name": "stdin",
     "output_type": "stream",
     "text": [
      "Masukkan label (Positive, Negative, Neutral) Negative\n"
     ]
    },
    {
     "name": "stdout",
     "output_type": "stream",
     "text": [
      "Review: Cacat\n"
     ]
    },
    {
     "name": "stdin",
     "output_type": "stream",
     "text": [
      "Masukkan label (Positive, Negative, Neutral) Negative\n"
     ]
    },
    {
     "name": "stdout",
     "output_type": "stream",
     "text": [
      "Review: Aplikasi edan. Makan uang rakyat tapi bikin aplikasi nya ga becus\n"
     ]
    },
    {
     "name": "stdin",
     "output_type": "stream",
     "text": [
      "Masukkan label (Positive, Negative, Neutral) Negative\n"
     ]
    },
    {
     "name": "stdout",
     "output_type": "stream",
     "text": [
      "Review: Baru buka udah eror\n"
     ]
    },
    {
     "name": "stdin",
     "output_type": "stream",
     "text": [
      "Masukkan label (Positive, Negative, Neutral) Negative\n"
     ]
    },
    {
     "name": "stdout",
     "output_type": "stream",
     "text": [
      "Review: Sangat membantu bikin darah tinggi dan emosi. Masyarakat di suruh digitalisasi sistem tapi pelaksanaan pelayanan untuk masyarakat sangat mengecewakan sangat buruk di berbagai bidang termasuk ini wajib pajak wajib pajak tapi menyulitkan ribet\n"
     ]
    },
    {
     "name": "stdin",
     "output_type": "stream",
     "text": [
      "Masukkan label (Positive, Negative, Neutral) Negative\n"
     ]
    },
    {
     "name": "stdout",
     "output_type": "stream",
     "text": [
      "Review: Aplikasi karya anak bangsa, server kentang proyék selangit🤣\n"
     ]
    },
    {
     "name": "stdin",
     "output_type": "stream",
     "text": [
      "Masukkan label (Positive, Negative, Neutral) Negative\n"
     ]
    },
    {
     "name": "stdout",
     "output_type": "stream",
     "text": [
      "Review: Tolong lah buat pemerintah aturan dan layanan di sesuaikan jangan hanya aturan saja yg di tingkatkan tapi pelayanan buruk , aplikasi pajak kok seperti aplikasi sampah di buka selalu Erorr 👎\n"
     ]
    },
    {
     "name": "stdin",
     "output_type": "stream",
     "text": [
      "Masukkan label (Positive, Negative, Neutral) Negative\n"
     ]
    },
    {
     "name": "stdout",
     "output_type": "stream",
     "text": [
      "Review: Error mulu\n"
     ]
    },
    {
     "name": "stdin",
     "output_type": "stream",
     "text": [
      "Masukkan label (Positive, Negative, Neutral) Negative\n"
     ]
    },
    {
     "name": "stdout",
     "output_type": "stream",
     "text": [
      "Review: Parah banget, ngga bisa di buka aplikasinya. Mau regis lewat web juga ngga masuk otp ke nomor saya.\n"
     ]
    },
    {
     "name": "stdin",
     "output_type": "stream",
     "text": [
      "Masukkan label (Positive, Negative, Neutral) Negative\n"
     ]
    },
    {
     "name": "stdout",
     "output_type": "stream",
     "text": [
      "Review: Pemerintah ini gmna ya. Padahal kan jg uang pajak banyak. Masak aplikasi Website nya g jelas gini. Kan harusnya pelayan di bagusin ya. Berapa sih buat Website dan aplikasi yg bagus. Bukan korupsi nya d gedein.\n"
     ]
    },
    {
     "name": "stdin",
     "output_type": "stream",
     "text": [
      "Masukkan label (Positive, Negative, Neutral) Negative\n"
     ]
    },
    {
     "name": "stdout",
     "output_type": "stream",
     "text": [
      "Review: Aplikasi pemerintah yang sangat jelek, tidak bisa memasukan NIK 16 angka, pemerintah bodoh\n"
     ]
    },
    {
     "name": "stdin",
     "output_type": "stream",
     "text": [
      "Masukkan label (Positive, Negative, Neutral) Negative\n"
     ]
    },
    {
     "name": "stdout",
     "output_type": "stream",
     "text": [
      "Review: Pake developer mana nih... Luar biasa\n"
     ]
    },
    {
     "name": "stdin",
     "output_type": "stream",
     "text": [
      "Masukkan label (Positive, Negative, Neutral) Negative\n"
     ]
    },
    {
     "name": "stdout",
     "output_type": "stream",
     "text": [
      "Review: Mantap\n"
     ]
    },
    {
     "name": "stdin",
     "output_type": "stream",
     "text": [
      "Masukkan label (Positive, Negative, Neutral) Positive\n"
     ]
    },
    {
     "name": "stdout",
     "output_type": "stream",
     "text": [
      "Review: Tidak perlu\n"
     ]
    },
    {
     "name": "stdin",
     "output_type": "stream",
     "text": [
      "Masukkan label (Positive, Negative, Neutral) Negative\n"
     ]
    },
    {
     "name": "stdout",
     "output_type": "stream",
     "text": [
      "Review: aplikasi masih cacad udah di release. 🥲\n"
     ]
    },
    {
     "name": "stdin",
     "output_type": "stream",
     "text": [
      "Masukkan label (Positive, Negative, Neutral) Negative\n"
     ]
    },
    {
     "name": "stdout",
     "output_type": "stream",
     "text": [
      "Review: Di download mening lama bgt geraknya padahal sinyal bagus....bikin peraturan buat umum tp pas mau perbaikan via online malah susah..\n"
     ]
    },
    {
     "name": "stdin",
     "output_type": "stream",
     "text": [
      "Masukkan label (Positive, Negative, Neutral) Negative\n"
     ]
    },
    {
     "name": "stdout",
     "output_type": "stream",
     "text": [
      "Review: Ini mau daftar baru kenapa baru mau isi email yg aktif kolomnya harus huruf kapital semua anjir\n"
     ]
    },
    {
     "name": "stdin",
     "output_type": "stream",
     "text": [
      "Masukkan label (Positive, Negative, Neutral) Negative\n"
     ]
    },
    {
     "name": "stdout",
     "output_type": "stream",
     "text": [
      "Review: Ribet.\n"
     ]
    },
    {
     "name": "stdin",
     "output_type": "stream",
     "text": [
      "Masukkan label (Positive, Negative, Neutral) Negative\n"
     ]
    },
    {
     "name": "stdout",
     "output_type": "stream",
     "text": [
      "Review: APK gagal untuk Submit NIK tidak bisa. Dikarenakan Submit di batasi\n"
     ]
    },
    {
     "name": "stdin",
     "output_type": "stream",
     "text": [
      "Masukkan label (Positive, Negative, Neutral) Negative\n"
     ]
    },
    {
     "name": "stdout",
     "output_type": "stream",
     "text": [
      "Review: Aplikasi pemerintah emang selalu gagal😓 Udah lebih dari 5 kali ngirim OTP, udah ditunggu lama tapi gak masuk masuk. Percuma ada aplikasi kalo emang masih bikin ribet.\n"
     ]
    },
    {
     "name": "stdin",
     "output_type": "stream",
     "text": [
      "Masukkan label (Positive, Negative, Neutral) Negative\n"
     ]
    },
    {
     "name": "stdout",
     "output_type": "stream",
     "text": [
      "Review: Lupa efin, isi data selalu gagal, solusinya di suruh ke kantor. Guna aplikasi ini untuk apa?\n"
     ]
    },
    {
     "name": "stdin",
     "output_type": "stream",
     "text": [
      "Masukkan label (Positive, Negative, Neutral) Negative\n"
     ]
    },
    {
     "name": "stdout",
     "output_type": "stream",
     "text": [
      "Review: Mau login padahal udah bener akun sama password, nulis kode keamanan juga bener masih aja di bilang salah kode. Mau login doank di persulit. Benerin itu website nya!\n"
     ]
    },
    {
     "name": "stdin",
     "output_type": "stream",
     "text": [
      "Masukkan label (Positive, Negative, Neutral) Negative\n"
     ]
    },
    {
     "name": "stdout",
     "output_type": "stream",
     "text": [
      "Review: aplikasi gak guna, aplikasi pemerintah kagak ada yg bener, input nik max cuman bsa 15 digit, ya jelas gak bsa login, error trs..ngaco emng\n"
     ]
    },
    {
     "name": "stdin",
     "output_type": "stream",
     "text": [
      "Masukkan label (Positive, Negative, Neutral) Negative\n"
     ]
    },
    {
     "name": "stdout",
     "output_type": "stream",
     "text": [
      "Review: Mau Daftar ribet banget, ngabisin pulsa doang berkali2, masa iya rapcha udh di ketik bener masih salah trus.\n"
     ]
    },
    {
     "name": "stdin",
     "output_type": "stream",
     "text": [
      "Masukkan label (Positive, Negative, Neutral) Negative\n"
     ]
    },
    {
     "name": "stdout",
     "output_type": "stream",
     "text": [
      "Review: aplikasi ngaco, mohon diperbaiki jangan hanya minta uangnya saja\n"
     ]
    },
    {
     "name": "stdin",
     "output_type": "stream",
     "text": [
      "Masukkan label (Positive, Negative, Neutral) Negative\n"
     ]
    },
    {
     "name": "stdout",
     "output_type": "stream",
     "text": [
      "Review: Ribet bikin bingung\n"
     ]
    },
    {
     "name": "stdin",
     "output_type": "stream",
     "text": [
      "Masukkan label (Positive, Negative, Neutral) Negative\n"
     ]
    },
    {
     "name": "stdout",
     "output_type": "stream",
     "text": [
      "Review: ini saya buat efin tapi kok sampe sekarang belum di kirim ya email nya\n"
     ]
    },
    {
     "name": "stdin",
     "output_type": "stream",
     "text": [
      "Masukkan label (Positive, Negative, Neutral) Negative\n"
     ]
    },
    {
     "name": "stdout",
     "output_type": "stream",
     "text": [
      "Review: Ga jelas. Susah d klik aneh\n"
     ]
    },
    {
     "name": "stdin",
     "output_type": "stream",
     "text": [
      "Masukkan label (Positive, Negative, Neutral) Negative\n"
     ]
    },
    {
     "name": "stdout",
     "output_type": "stream",
     "text": [
      "Review: Login pakai NIK KTP tapi yg bisa di ketik cuma 15 angka, 😆 gk bisa dipake app nya\n"
     ]
    },
    {
     "name": "stdin",
     "output_type": "stream",
     "text": [
      "Masukkan label (Positive, Negative, Neutral) Negative\n"
     ]
    },
    {
     "name": "stdout",
     "output_type": "stream",
     "text": [
      "Review: Kok mau lapor dan bayar pajak malah di persulit dgn aplikasi yg tdk berfungsi, beberapa bulan ini selalu bermasalah\n"
     ]
    },
    {
     "name": "stdin",
     "output_type": "stream",
     "text": [
      "Masukkan label (Positive, Negative, Neutral) Negative\n"
     ]
    },
    {
     "name": "stdout",
     "output_type": "stream",
     "text": [
      "Review: Kerenn\n"
     ]
    },
    {
     "name": "stdin",
     "output_type": "stream",
     "text": [
      "Masukkan label (Positive, Negative, Neutral) Positive\n"
     ]
    },
    {
     "name": "stdout",
     "output_type": "stream",
     "text": [
      "Review: Ini tempat pelaporanya gak ada yang jelas.kita punya pertanyaan gak ada tempat buat pengaduannya,..aplikasi online tapi kaya offline\n"
     ]
    },
    {
     "name": "stdin",
     "output_type": "stream",
     "text": [
      "Masukkan label (Positive, Negative, Neutral) Negative\n"
     ]
    },
    {
     "name": "stdout",
     "output_type": "stream",
     "text": [
      "Review: Data dah bener semua masa salah 🤦\n"
     ]
    },
    {
     "name": "stdin",
     "output_type": "stream",
     "text": [
      "Masukkan label (Positive, Negative, Neutral) Negative\n"
     ]
    },
    {
     "name": "stdout",
     "output_type": "stream",
     "text": [
      "Review: Aplikasi aneh, daftar gak bisa lupa sandi pun gak bisa di klik\n"
     ]
    },
    {
     "name": "stdin",
     "output_type": "stream",
     "text": [
      "Masukkan label (Positive, Negative, Neutral) Negative\n"
     ]
    },
    {
     "name": "stdout",
     "output_type": "stream",
     "text": [
      "Review: Sumpah ribet gak memudahkan malah bikin pusing. Efin lupa, mau ngurus ribet, gak di urus tapi penting. Kenapa sih selalu di persulit\n"
     ]
    },
    {
     "name": "stdin",
     "output_type": "stream",
     "text": [
      "Masukkan label (Positive, Negative, Neutral) Negative\n"
     ]
    },
    {
     "name": "stdout",
     "output_type": "stream",
     "text": [
      "Review: Masa NIK NPWP kan 16 nomor tapi pas mau login maksimal 15 karakter yg bisa diketik, gimana loginnya?\n"
     ]
    },
    {
     "name": "stdin",
     "output_type": "stream",
     "text": [
      "Masukkan label (Positive, Negative, Neutral) Negative\n"
     ]
    },
    {
     "name": "stdout",
     "output_type": "stream",
     "text": [
      "Review: Parah pokoknya..\n"
     ]
    },
    {
     "name": "stdin",
     "output_type": "stream",
     "text": [
      "Masukkan label (Positive, Negative, Neutral) Negative\n"
     ]
    },
    {
     "name": "stdout",
     "output_type": "stream",
     "text": [
      "Review: Luar biasa\n"
     ]
    },
    {
     "name": "stdin",
     "output_type": "stream",
     "text": [
      "Masukkan label (Positive, Negative, Neutral) Positive\n"
     ]
    },
    {
     "name": "stdout",
     "output_type": "stream",
     "text": [
      "Review: Ku pikir d permudah rupanya sama saja, Sudah input data 3 kali masih tidak valid, padahal sistemnya yang otomatis isi.\n"
     ]
    },
    {
     "name": "stdin",
     "output_type": "stream",
     "text": [
      "Masukkan label (Positive, Negative, Neutral) Negative\n"
     ]
    },
    {
     "name": "stdout",
     "output_type": "stream",
     "text": [
      "Review: Klik lupa pasword ga bisa. Gmana nih yg buat aplikasinya?\n"
     ]
    },
    {
     "name": "stdin",
     "output_type": "stream",
     "text": [
      "Masukkan label (Positive, Negative, Neutral) Negative\n"
     ]
    },
    {
     "name": "stdout",
     "output_type": "stream",
     "text": [
      "Review: Tidak bisa login nomor NPWP maupun NIK karena kolom angka kurang satu. Aplikasi aneh\n"
     ]
    },
    {
     "name": "stdin",
     "output_type": "stream",
     "text": [
      "Masukkan label (Positive, Negative, Neutral) Negative\n"
     ]
    },
    {
     "name": "stdout",
     "output_type": "stream",
     "text": [
      "Review: Developer nya siapa sih masa g bisa login pk nik KTP (maks 15 angka)\n"
     ]
    },
    {
     "name": "stdin",
     "output_type": "stream",
     "text": [
      "Masukkan label (Positive, Negative, Neutral) Negative\n"
     ]
    },
    {
     "name": "stdout",
     "output_type": "stream",
     "text": [
      "Review: Gak bisa login ini gimana NPWP\n"
     ]
    },
    {
     "name": "stdin",
     "output_type": "stream",
     "text": [
      "Masukkan label (Positive, Negative, Neutral) Negative\n"
     ]
    },
    {
     "name": "stdout",
     "output_type": "stream",
     "text": [
      "Review: Aplikasi gak jelas, suruh masukkan nik/npwp giliran di ketik ga bisa sampe full, npwp nomernya banyak lebih dari 16 dan ada tanda titik,sambung, tapi di aplikasi gak bisa ngetik angka lebih dari 15, trus gimana???? alhasil ngetik nik cuma 15 angka, dan ada notifikasi error mendapatkan npwp😡😡😡\n"
     ]
    },
    {
     "name": "stdin",
     "output_type": "stream",
     "text": [
      "Masukkan label (Positive, Negative, Neutral) Negative\n"
     ]
    },
    {
     "name": "stdout",
     "output_type": "stream",
     "text": [
      "Review: Ok\n"
     ]
    },
    {
     "name": "stdin",
     "output_type": "stream",
     "text": [
      "Masukkan label (Positive, Negative, Neutral) Positive\n"
     ]
    },
    {
     "name": "stdout",
     "output_type": "stream",
     "text": [
      "Review: Masuk pale nik masa kurang 1 digit.... Gimana mau bener. Pasti salah terus lah\n"
     ]
    },
    {
     "name": "stdin",
     "output_type": "stream",
     "text": [
      "Masukkan label (Positive, Negative, Neutral) Negative\n"
     ]
    },
    {
     "name": "stdout",
     "output_type": "stream",
     "text": [
      "Review: Tidak bisa login dengan NIK\n"
     ]
    },
    {
     "name": "stdin",
     "output_type": "stream",
     "text": [
      "Masukkan label (Positive, Negative, Neutral) Negative\n"
     ]
    },
    {
     "name": "stdout",
     "output_type": "stream",
     "text": [
      "Review: Niat kerja gk sih ini dev nya, masukkan nik dan npwp gk bisa full digit ya gmn mau login Pemerintah klau ngerekrut pegawai jgn main² lah, masa bikin aplikasi modelnya kyak gini, habis aja uang negara buat gaji org² gk jelas dan gk kompeten\n"
     ]
    },
    {
     "name": "stdin",
     "output_type": "stream",
     "text": [
      "Masukkan label (Positive, Negative, Neutral) Negative\n"
     ]
    },
    {
     "name": "stdout",
     "output_type": "stream",
     "text": [
      "Review: benerin lagi dl aplikasinya eror\"eror mulu\n"
     ]
    },
    {
     "name": "stdin",
     "output_type": "stream",
     "text": [
      "Masukkan label (Positive, Negative, Neutral) Negative\n"
     ]
    },
    {
     "name": "stdout",
     "output_type": "stream",
     "text": [
      "Review: parah verif efin gagal mulu salah mulu padahal udah sesuai ktp percuma\n"
     ]
    },
    {
     "name": "stdin",
     "output_type": "stream",
     "text": [
      "Masukkan label (Positive, Negative, Neutral) Negative\n"
     ]
    },
    {
     "name": "stdout",
     "output_type": "stream",
     "text": [
      "Review: Aplikasi miskin menu\n"
     ]
    },
    {
     "name": "stdin",
     "output_type": "stream",
     "text": [
      "Masukkan label (Positive, Negative, Neutral) Negative\n"
     ]
    },
    {
     "name": "stdout",
     "output_type": "stream",
     "text": [
      "Review: Lemot gilak\n"
     ]
    },
    {
     "name": "stdin",
     "output_type": "stream",
     "text": [
      "Masukkan label (Positive, Negative, Neutral) Negative\n"
     ]
    },
    {
     "name": "stdout",
     "output_type": "stream",
     "text": [
      "Review: Ini aplikasi gimana sih ..kode verifikasi lewat SMS GK sampai sampai\n"
     ]
    },
    {
     "name": "stdin",
     "output_type": "stream",
     "text": [
      "Masukkan label (Positive, Negative, Neutral) Negative\n"
     ]
    },
    {
     "name": "stdout",
     "output_type": "stream",
     "text": [
      "Review: Ribet banget sumpah nyusahin orang.\n"
     ]
    },
    {
     "name": "stdin",
     "output_type": "stream",
     "text": [
      "Masukkan label (Positive, Negative, Neutral) Negative\n"
     ]
    },
    {
     "name": "stdout",
     "output_type": "stream",
     "text": [
      "Review: Tidak membantu sama sekali. Hapus aja\n"
     ]
    },
    {
     "name": "stdin",
     "output_type": "stream",
     "text": [
      "Masukkan label (Positive, Negative, Neutral) Negative\n"
     ]
    },
    {
     "name": "stdout",
     "output_type": "stream",
     "text": [
      "Review: Lupa E-FIN dan sudah masukkan data dengan benar tapi pas submit data ada notif error \"verifikasi gagal\" tidak bisa mengirim data. Kapan diperbaiki aplikasinya??\n"
     ]
    },
    {
     "name": "stdin",
     "output_type": "stream",
     "text": [
      "Masukkan label (Positive, Negative, Neutral) Negative\n"
     ]
    },
    {
     "name": "stdout",
     "output_type": "stream",
     "text": [
      "Review: Error validate ktp, maunya apa\n"
     ]
    },
    {
     "name": "stdin",
     "output_type": "stream",
     "text": [
      "Masukkan label (Positive, Negative, Neutral) Negative\n"
     ]
    },
    {
     "name": "stdout",
     "output_type": "stream",
     "text": [
      "Review: Yakali pak, id udah bener, pasword udh bener. Masih aja gk bisa masuk karena salah pasword.\n"
     ]
    },
    {
     "name": "stdin",
     "output_type": "stream",
     "text": [
      "Masukkan label (Positive, Negative, Neutral) Negative\n"
     ]
    },
    {
     "name": "stdout",
     "output_type": "stream",
     "text": [
      "Review: Sangat bermanfaat\n"
     ]
    },
    {
     "name": "stdin",
     "output_type": "stream",
     "text": [
      "Masukkan label (Positive, Negative, Neutral) Positive\n"
     ]
    },
    {
     "name": "stdout",
     "output_type": "stream",
     "text": [
      "Review: gk heran klo app yg dikelola pemerintah\n"
     ]
    },
    {
     "name": "stdin",
     "output_type": "stream",
     "text": [
      "Masukkan label (Positive, Negative, Neutral) Negative\n"
     ]
    },
    {
     "name": "stdout",
     "output_type": "stream",
     "text": [
      "Review: ribet sekali hanya untuk daftar npwp. Pergi ke dinas setempat disuruh daftar lewat app, sungguh membingungkan.\n"
     ]
    },
    {
     "name": "stdin",
     "output_type": "stream",
     "text": [
      "Masukkan label (Positive, Negative, Neutral) Negative\n"
     ]
    },
    {
     "name": "stdout",
     "output_type": "stream",
     "text": [
      "Review: Aplikasi ga jelas minta efin ajh susah bnget .. pdhal data bner foto selfi jga bner smbil bawa ktp npwp .. perbaiki lah\n"
     ]
    },
    {
     "name": "stdin",
     "output_type": "stream",
     "text": [
      "Masukkan label (Positive, Negative, Neutral) Negative\n"
     ]
    },
    {
     "name": "stdout",
     "output_type": "stream",
     "text": [
      "Review: yailah untuk daftar aja sulit stengah gila,masih ala2 online.jelas dri dlu klw pke online slalu bermslah dan gk berkembang alias nyaman dngan lemotnya sistem yg tdk di perbaharui. please lah klw mau pke sistim online2 perbaiki sistem nya,masa bgini mau dibilng maju.kapan..?\n"
     ]
    },
    {
     "name": "stdin",
     "output_type": "stream",
     "text": [
      "Masukkan label (Positive, Negative, Neutral) Negative\n"
     ]
    },
    {
     "name": "stdout",
     "output_type": "stream",
     "text": [
      "Review: \"Tombol\" Buat kode billing ndak aktif terus... 🤦 tolooong!!!!\n"
     ]
    },
    {
     "name": "stdin",
     "output_type": "stream",
     "text": [
      "Masukkan label (Positive, Negative, Neutral) Negative\n"
     ]
    },
    {
     "name": "stdout",
     "output_type": "stream",
     "text": [
      "Review: Wah aneh nih aplikasi,, mau login pakai NIK eh malah digitnya nggak cukup, pakai NPWP juga kagak bisa masuk,, 👎👎👎\n"
     ]
    },
    {
     "name": "stdin",
     "output_type": "stream",
     "text": [
      "Masukkan label (Positive, Negative, Neutral) Negative\n"
     ]
    },
    {
     "name": "stdout",
     "output_type": "stream",
     "text": [
      "Review: Mohon arahan min...sy setelah mengisi kolom lupa efin..setelah mau verifikasi kodenya kok terkirim ke nomer sy yg lama tidak aktip..bagaimana cara merubah nomer hp untuk mendapatkan kode verifikasi ke nomer yg skrg masih terpakai\n"
     ]
    },
    {
     "name": "stdin",
     "output_type": "stream",
     "text": [
      "Masukkan label (Positive, Negative, Neutral) Neutral\n"
     ]
    },
    {
     "name": "stdout",
     "output_type": "stream",
     "text": [
      "Review: rusak aplikasinya\n"
     ]
    },
    {
     "name": "stdin",
     "output_type": "stream",
     "text": [
      "Masukkan label (Positive, Negative, Neutral) Negative\n"
     ]
    },
    {
     "name": "stdout",
     "output_type": "stream",
     "text": [
      "Review: gak bisa login pakai NIK, pas input cuma bisa 15 karakter sedangkan NIK mempunyai 16 karakter\n"
     ]
    },
    {
     "name": "stdin",
     "output_type": "stream",
     "text": [
      "Masukkan label (Positive, Negative, Neutral) Negative\n"
     ]
    },
    {
     "name": "stdout",
     "output_type": "stream",
     "text": [
      "Review: aplikasi kentut, lelet dan banyak iklan\n"
     ]
    },
    {
     "name": "stdin",
     "output_type": "stream",
     "text": [
      "Masukkan label (Positive, Negative, Neutral) Negative\n"
     ]
    },
    {
     "name": "stdout",
     "output_type": "stream",
     "text": [
      "Review: Aplikasi maupun web pemerintah selalu saja jelek, lemot, ribet, beda dengan milik swasta sat set sat set tambah mau menyampaikan kritik namun webnya tidak bisa disubmit.\n"
     ]
    },
    {
     "name": "stdin",
     "output_type": "stream",
     "text": [
      "Masukkan label (Positive, Negative, Neutral) Negative\n"
     ]
    },
    {
     "name": "stdout",
     "output_type": "stream",
     "text": [
      "Review: Login di persulit,, sandi di masukan sudah benar,, tapi tetap salah dari sistem,, sangat mengecewakan\n"
     ]
    },
    {
     "name": "stdin",
     "output_type": "stream",
     "text": [
      "Masukkan label (Positive, Negative, Neutral) Negative\n"
     ]
    },
    {
     "name": "stdout",
     "output_type": "stream",
     "text": [
      "Review: Aplikasi asu\n"
     ]
    },
    {
     "name": "stdin",
     "output_type": "stream",
     "text": [
      "Masukkan label (Positive, Negative, Neutral) Negative\n"
     ]
    },
    {
     "name": "stdout",
     "output_type": "stream",
     "text": [
      "Review: bolak balik mengisi data lupa kata sandi katanya suruh cek email tapi ttp tidak bisa masuk.. aplikasi parah banget tidak bisa membantu memperlancar.. membingungkan.\n"
     ]
    },
    {
     "name": "stdin",
     "output_type": "stream",
     "text": [
      "Masukkan label (Positive, Negative, Neutral) Negative\n"
     ]
    },
    {
     "name": "stdout",
     "output_type": "stream",
     "text": [
      "Review: Tidak Jelas, melakukan pengajuan lupa Efin selalu gagal verif padahal semua data sudah sesuai dicoba berkali-kali tetap eror terus.\n"
     ]
    },
    {
     "name": "stdin",
     "output_type": "stream",
     "text": [
      "Masukkan label (Positive, Negative, Neutral) Negative\n"
     ]
    },
    {
     "name": "stdout",
     "output_type": "stream",
     "text": [
      "Review: log in berkali2 gk bisa,sudah melakukan validasi data log in pakai NIK tak bisa\n"
     ]
    },
    {
     "name": "stdin",
     "output_type": "stream",
     "text": [
      "Masukkan label (Positive, Negative, Neutral) Negative\n"
     ]
    },
    {
     "name": "stdout",
     "output_type": "stream",
     "text": [
      "Review: Banyak bug, terlihat app ini dipaksakan dibuat, lucunya app ini adalah app yg mengelola uang kolektif seluruh masyarakat untuk pemasukan negara tapi bikin dan ngurus app segini aja kaga beres, kalah sama app pinjol yg meresahkan😂😂\n"
     ]
    },
    {
     "name": "stdin",
     "output_type": "stream",
     "text": [
      "Masukkan label (Positive, Negative, Neutral) Negative\n"
     ]
    },
    {
     "name": "stdout",
     "output_type": "stream",
     "text": [
      "Review: Aplikasi taaaaeeekkkkkkkk...... udah itu aja...\n"
     ]
    },
    {
     "name": "stdin",
     "output_type": "stream",
     "text": [
      "Masukkan label (Positive, Negative, Neutral) Negative\n"
     ]
    },
    {
     "name": "stdout",
     "output_type": "stream",
     "text": [
      "Review: Mau foto Selfi utk klaim efin aja sering keluar sendiri, wa admin cabang Kuningan Jaksel Mala cmn di baca , itu karyawan makan gaji buta njing\n"
     ]
    },
    {
     "name": "stdin",
     "output_type": "stream",
     "text": [
      "Masukkan label (Positive, Negative, Neutral) Negative\n"
     ]
    },
    {
     "name": "stdout",
     "output_type": "stream",
     "text": [
      "Review: Sdh Di download malah ga bisa masuk\n"
     ]
    },
    {
     "name": "stdin",
     "output_type": "stream",
     "text": [
      "Masukkan label (Positive, Negative, Neutral) Negative\n"
     ]
    },
    {
     "name": "stdout",
     "output_type": "stream",
     "text": [
      "Review: Haduuuhhh mau bikin NPWP aja susahnya minta ampun, tahap 1&2 nya sudah beres giliran isi formulir tingkat 2 nya yg data pribadi itu susah bgt dari smlm sampe skrg ga bisa terus pas verifikasi data padahal data kenceng.\n"
     ]
    },
    {
     "name": "stdin",
     "output_type": "stream",
     "text": [
      "Masukkan label (Positive, Negative, Neutral) Negative\n"
     ]
    },
    {
     "name": "stdout",
     "output_type": "stream",
     "text": [
      "Review: maaf, karena ada pemadanan sekarang login bisa pakai nik, tapi di aplikasi ini max char length di NIK/NPWP hanya 15. jadi untuk login ke djp pakai app ini belum bisa pakai nik. tolong tambahkan max char nya\n"
     ]
    },
    {
     "name": "stdin",
     "output_type": "stream",
     "text": [
      "Masukkan label (Positive, Negative, Neutral) Negative\n"
     ]
    },
    {
     "name": "stdout",
     "output_type": "stream",
     "text": [
      "Review: Sdh di isi sesuai permintaan tetap salah terus\n"
     ]
    },
    {
     "name": "stdin",
     "output_type": "stream",
     "text": [
      "Masukkan label (Positive, Negative, Neutral) Negative\n"
     ]
    },
    {
     "name": "stdout",
     "output_type": "stream",
     "text": [
      "Review: Aplikasi ini bikin jengkel orang aja NPWP / NIK dan Pw udah bener ... eh ... katanya salah Jadinya kan bikin kesel orang\n"
     ]
    },
    {
     "name": "stdin",
     "output_type": "stream",
     "text": [
      "Masukkan label (Positive, Negative, Neutral) Negative\n"
     ]
    },
    {
     "name": "stdout",
     "output_type": "stream",
     "text": [
      "Review: Jumlah input karakter nik untuk login kurang 1 , sehingga nik yg diinput/diketik tidak akan komplit bagaimanapun caranya. Ini entah disengaja biar gada yg login dulu atau ada kesalahan nulis script kodenya ya 😅 ?\n"
     ]
    },
    {
     "name": "stdin",
     "output_type": "stream",
     "text": [
      "Masukkan label (Positive, Negative, Neutral) Negative\n"
     ]
    },
    {
     "name": "stdout",
     "output_type": "stream",
     "text": [
      "Review: Aplikasinya tidak user friendly, berat udah kaya main game gede, interface juga g enak di lihat\n"
     ]
    },
    {
     "name": "stdin",
     "output_type": "stream",
     "text": [
      "Masukkan label (Positive, Negative, Neutral) Negative\n"
     ]
    },
    {
     "name": "stdout",
     "output_type": "stream",
     "text": [
      "Review: bagus,,\n"
     ]
    },
    {
     "name": "stdin",
     "output_type": "stream",
     "text": [
      "Masukkan label (Positive, Negative, Neutral) Positive\n"
     ]
    },
    {
     "name": "stdout",
     "output_type": "stream",
     "text": [
      "Review: aplikasi aneh\n"
     ]
    },
    {
     "name": "stdin",
     "output_type": "stream",
     "text": [
      "Masukkan label (Positive, Negative, Neutral) Negative\n"
     ]
    },
    {
     "name": "stdout",
     "output_type": "stream",
     "text": [
      "Review: Mau daftar aj susah bnr, dibilang akun sudah terdaftar pula\n"
     ]
    },
    {
     "name": "stdin",
     "output_type": "stream",
     "text": [
      "Masukkan label (Positive, Negative, Neutral) Negative\n"
     ]
    },
    {
     "name": "stdout",
     "output_type": "stream",
     "text": [
      "Review: Apa dananya disedot lagi,. Mau login pake nik/npwp tpi karakternya kurang 1. Ambe semua aja\n"
     ]
    },
    {
     "name": "stdin",
     "output_type": "stream",
     "text": [
      "Masukkan label (Positive, Negative, Neutral) Negative\n"
     ]
    },
    {
     "name": "stdout",
     "output_type": "stream",
     "text": [
      "Review: Kode otp tidak kunjung masuk, sudah 2 jam tidak ada sms juga.\n"
     ]
    },
    {
     "name": "stdin",
     "output_type": "stream",
     "text": [
      "Masukkan label (Positive, Negative, Neutral) Negative\n"
     ]
    },
    {
     "name": "stdout",
     "output_type": "stream",
     "text": [
      "Review: Aplikasi pemerintah emang gada yang bener. Makanya kalo ada anggaran buat teknologi jangan korupsi Mulu. Perut di gedein. Percaya aja sama developer gausah banyak protes boomer\n"
     ]
    },
    {
     "name": "stdin",
     "output_type": "stream",
     "text": [
      "Masukkan label (Positive, Negative, Neutral) Negative\n"
     ]
    },
    {
     "name": "stdout",
     "output_type": "stream",
     "text": [
      "Review: KORUPSI TRUSSS....\n"
     ]
    },
    {
     "name": "stdin",
     "output_type": "stream",
     "text": [
      "Masukkan label (Positive, Negative, Neutral) Negative\n"
     ]
    },
    {
     "name": "stdout",
     "output_type": "stream",
     "text": [
      "Review: Tidak bisa daftar akun\n"
     ]
    },
    {
     "name": "stdin",
     "output_type": "stream",
     "text": [
      "Masukkan label (Positive, Negative, Neutral) Negative\n"
     ]
    },
    {
     "name": "stdout",
     "output_type": "stream",
     "text": [
      "Review: Bayar pajak ko ruwet, ka gak jelas, nyusahin orang\n"
     ]
    },
    {
     "name": "stdin",
     "output_type": "stream",
     "text": [
      "Masukkan label (Positive, Negative, Neutral) Negative\n"
     ]
    },
    {
     "name": "stdout",
     "output_type": "stream",
     "text": [
      "Review: Apk rusak\n"
     ]
    },
    {
     "name": "stdin",
     "output_type": "stream",
     "text": [
      "Masukkan label (Positive, Negative, Neutral) Negative\n"
     ]
    },
    {
     "name": "stdout",
     "output_type": "stream",
     "text": [
      "Review: Kenapa force close terus waktu ambil foto diri\n"
     ]
    },
    {
     "name": "stdin",
     "output_type": "stream",
     "text": [
      "Masukkan label (Positive, Negative, Neutral) Negative\n"
     ]
    },
    {
     "name": "stdout",
     "output_type": "stream",
     "text": [
      "Review: Ga bisa login, jumlah digit kurang\n"
     ]
    },
    {
     "name": "stdin",
     "output_type": "stream",
     "text": [
      "Masukkan label (Positive, Negative, Neutral) Negative\n"
     ]
    },
    {
     "name": "stdout",
     "output_type": "stream",
     "text": [
      "Review: Zaman dah canggih. Tapi masih aja harus ke kantor. Ngurus ini ngurus itu, baru bisa login. Birokrasi masih nggak bisa hilang tah di negra ini? Hadeeeeh, ini to yg namanya modernisasi dgn kearifan lokal?, sudah digital tapi birokrasi harus tetap ada. 😈\n"
     ]
    },
    {
     "name": "stdin",
     "output_type": "stream",
     "text": [
      "Masukkan label (Positive, Negative, Neutral) Negative\n"
     ]
    },
    {
     "name": "stdout",
     "output_type": "stream",
     "text": [
      "Review: Sangat membantu\n"
     ]
    },
    {
     "name": "stdin",
     "output_type": "stream",
     "text": [
      "Masukkan label (Positive, Negative, Neutral) Positive\n"
     ]
    },
    {
     "name": "stdout",
     "output_type": "stream",
     "text": [
      "Review: Aplikasi babi padahal nomor telepon dah bener tapi ga bisa anjg\n"
     ]
    },
    {
     "name": "stdin",
     "output_type": "stream",
     "text": [
      "Masukkan label (Positive, Negative, Neutral) Negative\n"
     ]
    },
    {
     "name": "stdout",
     "output_type": "stream",
     "text": [
      "Review: Aplikasi nya tidak sesuai dengan yang diharapkan.. Selalu gagal untuk meminta efin\n"
     ]
    },
    {
     "name": "stdin",
     "output_type": "stream",
     "text": [
      "Masukkan label (Positive, Negative, Neutral) Negative\n"
     ]
    },
    {
     "name": "stdout",
     "output_type": "stream",
     "text": [
      "Review: Kira kira lah bikin aplikasi tadi vaild..buka lagi engk valid...\n"
     ]
    },
    {
     "name": "stdin",
     "output_type": "stream",
     "text": [
      "Masukkan label (Positive, Negative, Neutral) Negative\n"
     ]
    },
    {
     "name": "stdout",
     "output_type": "stream",
     "text": [
      "Review: Mantap\n"
     ]
    },
    {
     "name": "stdin",
     "output_type": "stream",
     "text": [
      "Masukkan label (Positive, Negative, Neutral) Positive\n"
     ]
    },
    {
     "name": "stdout",
     "output_type": "stream",
     "text": [
      "Review: Aplikasi cuma menampilkan data dan ajakan giat, minim fitur, mohon diperbaiki\n"
     ]
    },
    {
     "name": "stdin",
     "output_type": "stream",
     "text": [
      "Masukkan label (Positive, Negative, Neutral) Negative\n"
     ]
    },
    {
     "name": "stdout",
     "output_type": "stream",
     "text": [
      "Review: Aplikasi TOLOL ! Mau masuk aja susah\n"
     ]
    },
    {
     "name": "stdin",
     "output_type": "stream",
     "text": [
      "Masukkan label (Positive, Negative, Neutral) Negative\n"
     ]
    },
    {
     "name": "stdout",
     "output_type": "stream",
     "text": [
      "Review: Sekelas lembaga riba eh pajak masa ga bs buat aplikasi bagus.. heran.. anggarannya lari kemana..??\n"
     ]
    },
    {
     "name": "stdin",
     "output_type": "stream",
     "text": [
      "Masukkan label (Positive, Negative, Neutral) Negative\n"
     ]
    },
    {
     "name": "stdout",
     "output_type": "stream",
     "text": [
      "Review: dua bulan ini \"tombol buat kode billing\" ndak aktif, mau buat kode billing ndak bisa, sebelumnya lancar\n"
     ]
    },
    {
     "name": "stdin",
     "output_type": "stream",
     "text": [
      "Masukkan label (Positive, Negative, Neutral) Negative\n"
     ]
    },
    {
     "name": "stdout",
     "output_type": "stream",
     "text": [
      "Review: Ini kode verisikasi efin itu dikirim pakai apa ya? Kok lama bgt ga muncul². Ga pakai pos kan?\n"
     ]
    },
    {
     "name": "stdin",
     "output_type": "stream",
     "text": [
      "Masukkan label (Positive, Negative, Neutral) Negative\n"
     ]
    },
    {
     "name": "stdout",
     "output_type": "stream",
     "text": [
      "Review: Login dengan NIK KTP kolom tidak cukup untuk mengisi nomor NIK KTP\n"
     ]
    },
    {
     "name": "stdin",
     "output_type": "stream",
     "text": [
      "Masukkan label (Positive, Negative, Neutral) Negative\n"
     ]
    },
    {
     "name": "stdout",
     "output_type": "stream",
     "text": [
      "Review: Setlh update, Nama alamat tdk bisa diisi. Sebelum update, jenis setoran yg gak muncul. Aplikasi jelek banget. Mohon segera diperbaiki.\n"
     ]
    },
    {
     "name": "stdin",
     "output_type": "stream",
     "text": [
      "Masukkan label (Positive, Negative, Neutral) Negative\n"
     ]
    },
    {
     "name": "stdout",
     "output_type": "stream",
     "text": [
      "Review: sangat parah,aplikasi tak bermutu,pelayanan tidak memuaskan,mempersulit masyarakat\n"
     ]
    },
    {
     "name": "stdin",
     "output_type": "stream",
     "text": [
      "Masukkan label (Positive, Negative, Neutral) Negative\n"
     ]
    },
    {
     "name": "stdout",
     "output_type": "stream",
     "text": [
      "Review: Apps yg asalan saja\n"
     ]
    },
    {
     "name": "stdin",
     "output_type": "stream",
     "text": [
      "Masukkan label (Positive, Negative, Neutral) Negative\n"
     ]
    },
    {
     "name": "stdout",
     "output_type": "stream",
     "text": [
      "Review: Verifikasi gagal terus pulsa kepotong terus padahal kode otpnya sudah benar tapi gagal terus,kalo ga bisa bikin aplikasi mending gak usah di buat Buang2 anggaran aja\n"
     ]
    },
    {
     "name": "stdin",
     "output_type": "stream",
     "text": [
      "Masukkan label (Positive, Negative, Neutral) Negative\n"
     ]
    },
    {
     "name": "stdout",
     "output_type": "stream",
     "text": [
      "Review: Aplikasi jembut rontok susah\n"
     ]
    },
    {
     "name": "stdin",
     "output_type": "stream",
     "text": [
      "Masukkan label (Positive, Negative, Neutral) Negative\n"
     ]
    },
    {
     "name": "stdout",
     "output_type": "stream",
     "text": [
      "Review: Mending gausah bikin EFIN dah kalau lupa susah banget nyari² si EFIN, lewat apk keterangan gagal ERR_SMSGW, lewat layanan telpon 1500200 coba menghubungi petugasnya ga bisa tersambung sama petugas malah di matiin telpon nya, lewat chat bot website ga bisa yaudahlah caranya biar gampang dateng ke kantor KPP\n"
     ]
    },
    {
     "name": "stdin",
     "output_type": "stream",
     "text": [
      "Masukkan label (Positive, Negative, Neutral) Negative\n"
     ]
    },
    {
     "name": "stdout",
     "output_type": "stream",
     "text": [
      "Review: Minta efin gagal terus apk payah\n"
     ]
    },
    {
     "name": "stdin",
     "output_type": "stream",
     "text": [
      "Masukkan label (Positive, Negative, Neutral) Negative\n"
     ]
    },
    {
     "name": "stdout",
     "output_type": "stream",
     "text": [
      "Review: buruk\n"
     ]
    },
    {
     "name": "stdin",
     "output_type": "stream",
     "text": [
      "Masukkan label (Positive, Negative, Neutral) Negative\n"
     ]
    },
    {
     "name": "stdout",
     "output_type": "stream",
     "text": [
      "Review: Loginya pas pengisian nik/npw angkanya kurang 1 digit jadi gak bisa login\n"
     ]
    },
    {
     "name": "stdin",
     "output_type": "stream",
     "text": [
      "Masukkan label (Positive, Negative, Neutral) Negative\n"
     ]
    },
    {
     "name": "stdout",
     "output_type": "stream",
     "text": [
      "Review: Susah login, verifikasi gagal terus hadehhh\n"
     ]
    },
    {
     "name": "stdin",
     "output_type": "stream",
     "text": [
      "Masukkan label (Positive, Negative, Neutral) Negative\n"
     ]
    },
    {
     "name": "stdout",
     "output_type": "stream",
     "text": [
      "Review: Kurang bisa dimengerti\n"
     ]
    },
    {
     "name": "stdin",
     "output_type": "stream",
     "text": [
      "Masukkan label (Positive, Negative, Neutral) Negative\n"
     ]
    },
    {
     "name": "stdout",
     "output_type": "stream",
     "text": [
      "Review: Loh in susah bgt gblok bgt suruh taat pajak tapi ribet\n"
     ]
    },
    {
     "name": "stdin",
     "output_type": "stream",
     "text": [
      "Masukkan label (Positive, Negative, Neutral) Negative\n"
     ]
    },
    {
     "name": "stdout",
     "output_type": "stream",
     "text": [
      "Review: Mau login disuruh isi EFIN. Lupa EFIN disuruh ngisi data diri tapi gagal terus, tertulis gagal mendapat no HP padahal gak ada sama sekali isian no HP. Ribet\n"
     ]
    },
    {
     "name": "stdin",
     "output_type": "stream",
     "text": [
      "Masukkan label (Positive, Negative, Neutral) Negative\n"
     ]
    },
    {
     "name": "stdout",
     "output_type": "stream",
     "text": [
      "Review: Aplikasi goblokkkkkk\n"
     ]
    },
    {
     "name": "stdin",
     "output_type": "stream",
     "text": [
      "Masukkan label (Positive, Negative, Neutral) Negative\n"
     ]
    },
    {
     "name": "stdout",
     "output_type": "stream",
     "text": [
      "Review: Good job! :)\n"
     ]
    },
    {
     "name": "stdin",
     "output_type": "stream",
     "text": [
      "Masukkan label (Positive, Negative, Neutral) Positive\n"
     ]
    },
    {
     "name": "stdout",
     "output_type": "stream",
     "text": [
      "Review: aplikasi anjingg mempersulit kebanyakan erorr monyett\n"
     ]
    },
    {
     "name": "stdin",
     "output_type": "stream",
     "text": [
      "Masukkan label (Positive, Negative, Neutral) Negative\n"
     ]
    },
    {
     "name": "stdout",
     "output_type": "stream",
     "text": [
      "Review: aplikasi gk jelas pas daftar malah bilang nik tidak terdaftar didukcapil.aneh gk mungkin tau orang baru berapa bulan lalu urus kk dll smua bisa dasar\n"
     ]
    },
    {
     "name": "stdin",
     "output_type": "stream",
     "text": [
      "Masukkan label (Positive, Negative, Neutral) Negative\n"
     ]
    },
    {
     "name": "stdout",
     "output_type": "stream",
     "text": [
      "Review: Udh daftar mau masuk ke akun malah tidak terdaftar malah udh daftar 2x adeh\n"
     ]
    },
    {
     "name": "stdin",
     "output_type": "stream",
     "text": [
      "Masukkan label (Positive, Negative, Neutral) Negative\n"
     ]
    },
    {
     "name": "stdout",
     "output_type": "stream",
     "text": [
      "Review: Aplikasi sampah!\n"
     ]
    },
    {
     "name": "stdin",
     "output_type": "stream",
     "text": [
      "Masukkan label (Positive, Negative, Neutral) Negative\n"
     ]
    },
    {
     "name": "stdout",
     "output_type": "stream",
     "text": [
      "Review: Bukannya benerin web malah bikin aplikasi\n"
     ]
    },
    {
     "name": "stdin",
     "output_type": "stream",
     "text": [
      "Masukkan label (Positive, Negative, Neutral) Negative\n"
     ]
    },
    {
     "name": "stdout",
     "output_type": "stream",
     "text": [
      "Review: Buat login pakai NIK tidak bisa. Kolom pengisian kurang/tidak di izinkan.\n"
     ]
    },
    {
     "name": "stdin",
     "output_type": "stream",
     "text": [
      "Masukkan label (Positive, Negative, Neutral) Negative\n"
     ]
    },
    {
     "name": "stdout",
     "output_type": "stream",
     "text": [
      "Review: Aplikasi yg mempersulit masyarakat,,maunya terima uang pajak aja,tapi kita mau login begitu di persulit,,aku masukin nomer mpwp malah gak ditemukan,,\n"
     ]
    },
    {
     "name": "stdin",
     "output_type": "stream",
     "text": [
      "Masukkan label (Positive, Negative, Neutral) Negative\n"
     ]
    },
    {
     "name": "stdout",
     "output_type": "stream",
     "text": [
      "Review: Tidak bisa masuk karena lupa efin di tlpn ke cs minta d bantu malah lempar sana sini, pelayanan nya sangat buruk!\n"
     ]
    },
    {
     "name": "stdin",
     "output_type": "stream",
     "text": [
      "Masukkan label (Positive, Negative, Neutral) Negative\n"
     ]
    },
    {
     "name": "stdout",
     "output_type": "stream",
     "text": [
      "Review: Cabca tidak cocok terus. Kacau aplikasi djp 😇\n"
     ]
    },
    {
     "name": "stdin",
     "output_type": "stream",
     "text": [
      "Masukkan label (Positive, Negative, Neutral) Negative\n"
     ]
    },
    {
     "name": "stdout",
     "output_type": "stream",
     "text": [
      "Review: Apk bodoh\n"
     ]
    },
    {
     "name": "stdin",
     "output_type": "stream",
     "text": [
      "Masukkan label (Positive, Negative, Neutral) Negative\n"
     ]
    },
    {
     "name": "stdout",
     "output_type": "stream",
     "text": [
      "Review: jangan mempersulit untuk apa ada digital online kalau harus ke kantor pajak,tinggal merubah no npwp ke no nik ktp aja susah banget.data sudah lengkap\n"
     ]
    },
    {
     "name": "stdin",
     "output_type": "stream",
     "text": [
      "Masukkan label (Positive, Negative, Neutral) Negative\n"
     ]
    },
    {
     "name": "stdout",
     "output_type": "stream",
     "text": [
      "Review: buruk,pengen liat efin sama login aja susah dipersulit kok gini banget\n"
     ]
    },
    {
     "name": "stdin",
     "output_type": "stream",
     "text": [
      "Masukkan label (Positive, Negative, Neutral) Negative\n"
     ]
    },
    {
     "name": "stdout",
     "output_type": "stream",
     "text": [
      "Review: Gagal terus buat EFIN\n"
     ]
    },
    {
     "name": "stdin",
     "output_type": "stream",
     "text": [
      "Masukkan label (Positive, Negative, Neutral) Negative\n"
     ]
    },
    {
     "name": "stdout",
     "output_type": "stream",
     "text": [
      "Review: Aplikasi dangak2...\n"
     ]
    },
    {
     "name": "stdin",
     "output_type": "stream",
     "text": [
      "Masukkan label (Positive, Negative, Neutral) Negative\n"
     ]
    },
    {
     "name": "stdout",
     "output_type": "stream",
     "text": [
      "Review: Minimal mobile appnya dikembangin dulu sebelum ngerepotin rakyat\n"
     ]
    },
    {
     "name": "stdin",
     "output_type": "stream",
     "text": [
      "Masukkan label (Positive, Negative, Neutral) Negative\n"
     ]
    },
    {
     "name": "stdout",
     "output_type": "stream",
     "text": [
      "Review: Kenapa ketika mau mengajukan lupa efin di aplikasi, aplikasinya selalu keluar sendiri? Tolong bantuannya\n"
     ]
    },
    {
     "name": "stdin",
     "output_type": "stream",
     "text": [
      "Masukkan label (Positive, Negative, Neutral) Negative\n"
     ]
    },
    {
     "name": "stdout",
     "output_type": "stream",
     "text": [
      "Review: Ampas.\n"
     ]
    },
    {
     "name": "stdin",
     "output_type": "stream",
     "text": [
      "Masukkan label (Positive, Negative, Neutral) Negative\n"
     ]
    },
    {
     "name": "stdout",
     "output_type": "stream",
     "text": [
      "Review: Sangat tidak bermanfaat, karena tidak berguna untuk pendaftaran orang pribadi. Harus ke kantor pajak. Apa gunanya aplikasi online? Harusnya memudahkan bagi yang punya inisiatif untuk membuat atau memiliki NPWP pribadi dan bisa bayar pajak. Bagaimana mau bayar pajak, secara pribadi tidak punya NPWP?\n"
     ]
    },
    {
     "name": "stdin",
     "output_type": "stream",
     "text": [
      "Masukkan label (Positive, Negative, Neutral) Negative\n"
     ]
    },
    {
     "name": "stdout",
     "output_type": "stream",
     "text": [
      "Review: Jarang update sulit login ngelag\n"
     ]
    },
    {
     "name": "stdin",
     "output_type": "stream",
     "text": [
      "Masukkan label (Positive, Negative, Neutral) Negative\n"
     ]
    },
    {
     "name": "stdout",
     "output_type": "stream",
     "text": [
      "Review: Susah masuk Tambahin scan QR biar enak tinggal foto\n"
     ]
    },
    {
     "name": "stdin",
     "output_type": "stream",
     "text": [
      "Masukkan label (Positive, Negative, Neutral) Negative\n"
     ]
    },
    {
     "name": "stdout",
     "output_type": "stream",
     "text": [
      "Review: payah aplikasinya, gagal terus, mau ajukan efin susahnya minta ampun. gagal2 terus padahal data yg di isi sudah benar.\n"
     ]
    },
    {
     "name": "stdin",
     "output_type": "stream",
     "text": [
      "Masukkan label (Positive, Negative, Neutral) Negative\n"
     ]
    },
    {
     "name": "stdout",
     "output_type": "stream",
     "text": [
      "Review: Aplikasi mantul bosqoue\n"
     ]
    },
    {
     "name": "stdin",
     "output_type": "stream",
     "text": [
      "Masukkan label (Positive, Negative, Neutral) Negative\n"
     ]
    },
    {
     "name": "stdout",
     "output_type": "stream",
     "text": [
      "Review: Apl ga jelas fak kata gue teh . Link bapuk bang*t\n"
     ]
    },
    {
     "name": "stdin",
     "output_type": "stream",
     "text": [
      "Masukkan label (Positive, Negative, Neutral) Negative\n"
     ]
    },
    {
     "name": "stdout",
     "output_type": "stream",
     "text": [
      "Review: Aplikasi aneh\n"
     ]
    },
    {
     "name": "stdin",
     "output_type": "stream",
     "text": [
      "Masukkan label (Positive, Negative, Neutral) Negative\n"
     ]
    },
    {
     "name": "stdout",
     "output_type": "stream",
     "text": [
      "Review: Aplikasi sampah,,, mau bayar pajak aja susahnya,, login GK bisa ini salah itu salah,,, bikin males bayar pajak,, buat kalian jngn mau download aplikasi ini yaa biar GK nyesel\n"
     ]
    },
    {
     "name": "stdin",
     "output_type": "stream",
     "text": [
      "Masukkan label (Positive, Negative, Neutral) Negative\n"
     ]
    },
    {
     "name": "stdout",
     "output_type": "stream",
     "text": [
      "Review: Ga bisa login pakai NIK, field ID cuman 15 karakter, sementara nik ada 16 -_-.\n"
     ]
    },
    {
     "name": "stdin",
     "output_type": "stream",
     "text": [
      "Masukkan label (Positive, Negative, Neutral) Negative\n"
     ]
    },
    {
     "name": "stdout",
     "output_type": "stream",
     "text": [
      "Review: GAK BISA RESET PASSWORD, anehhhh, gak usah bayar aja lah\n"
     ]
    },
    {
     "name": "stdin",
     "output_type": "stream",
     "text": [
      "Masukkan label (Positive, Negative, Neutral) Negative\n"
     ]
    },
    {
     "name": "stdout",
     "output_type": "stream",
     "text": [
      "Review: Redownload\n"
     ]
    },
    {
     "name": "stdin",
     "output_type": "stream",
     "text": [
      "Masukkan label (Positive, Negative, Neutral) Neutral\n"
     ]
    },
    {
     "name": "stdout",
     "output_type": "stream",
     "text": [
      "Review: Ga jelas knp sih ini aplikasi udh bener password yang saya masukin ,saya catet loh tapi tetep ga bisa login aneh ,aplikasi rusak\n"
     ]
    },
    {
     "name": "stdin",
     "output_type": "stream",
     "text": [
      "Masukkan label (Positive, Negative, Neutral) Negative\n"
     ]
    },
    {
     "name": "stdout",
     "output_type": "stream",
     "text": [
      "Review: Slow respon, ga guna selalu gagal kalau mau login, gw bayar lu pakai uang bukan pake daun sat\n"
     ]
    },
    {
     "name": "stdin",
     "output_type": "stream",
     "text": [
      "Masukkan label (Positive, Negative, Neutral) Negative\n"
     ]
    },
    {
     "name": "stdout",
     "output_type": "stream",
     "text": [
      "Review: Merugikan waktu,\n"
     ]
    },
    {
     "name": "stdin",
     "output_type": "stream",
     "text": [
      "Masukkan label (Positive, Negative, Neutral) Negative\n"
     ]
    },
    {
     "name": "stdout",
     "output_type": "stream",
     "text": [
      "Review: Daftar Efin ga pernah bisa..ngapain juga buat aplikasi payah spt ini..\n"
     ]
    },
    {
     "name": "stdin",
     "output_type": "stream",
     "text": [
      "Masukkan label (Positive, Negative, Neutral) Negative\n"
     ]
    },
    {
     "name": "stdout",
     "output_type": "stream",
     "text": [
      "Review: nice\n"
     ]
    },
    {
     "name": "stdin",
     "output_type": "stream",
     "text": [
      "Masukkan label (Positive, Negative, Neutral) Positive\n"
     ]
    },
    {
     "name": "stdout",
     "output_type": "stream",
     "text": [
      "Review: apk tai lemot\n"
     ]
    },
    {
     "name": "stdin",
     "output_type": "stream",
     "text": [
      "Masukkan label (Positive, Negative, Neutral) Negative\n"
     ]
    },
    {
     "name": "stdout",
     "output_type": "stream",
     "text": [
      "Review: Terimakasih sangat membantu program pemerintah\n"
     ]
    },
    {
     "name": "stdin",
     "output_type": "stream",
     "text": [
      "Masukkan label (Positive, Negative, Neutral) Positive\n"
     ]
    },
    {
     "name": "stdout",
     "output_type": "stream",
     "text": [
      "Review: Semoga mempermudah\n"
     ]
    },
    {
     "name": "stdin",
     "output_type": "stream",
     "text": [
      "Masukkan label (Positive, Negative, Neutral) Neutral\n"
     ]
    },
    {
     "name": "stdout",
     "output_type": "stream",
     "text": [
      "Review: Sebaiknya baiknya alat adalah yang di buat dengan penuh kebaikan \" jika tidak ada kemudahan di dalam nya seperti membalikkan telapak tangan \" dari atas ke bawah \" untuk apa di luncurkan \" perbaikilah semua fungsi nya Agar hidup penuh kebahagiaan \" jangan di sembunyikan kebenaran jika sudah mengetahui Karena Allah hanya menyukai kebenaran tertinggi diseluruh alam semesta ini.\n"
     ]
    },
    {
     "name": "stdin",
     "output_type": "stream",
     "text": [
      "Masukkan label (Positive, Negative, Neutral) Neutral\n"
     ]
    },
    {
     "name": "stdout",
     "output_type": "stream",
     "text": [
      "Review: Aplikasi aneh, mau masuk berulang kali salah password terus, sdh masuk malah gak bisa diapa apakan menu menu didalam ya, bener bener aneh, ayolah pemerintah masa satu aplikasi begini aja gak bener. Gmna mau system' online berlaku\n"
     ]
    },
    {
     "name": "stdin",
     "output_type": "stream",
     "text": [
      "Masukkan label (Positive, Negative, Neutral) Negative\n"
     ]
    },
    {
     "name": "stdout",
     "output_type": "stream",
     "text": [
      "Review: Uang pajak di korupsi, aplikasi gak bagus\n"
     ]
    },
    {
     "name": "stdin",
     "output_type": "stream",
     "text": [
      "Masukkan label (Positive, Negative, Neutral) Negative\n"
     ]
    },
    {
     "name": "stdout",
     "output_type": "stream",
     "text": [
      "Review: Di update kok malah tidak bisa di buka???\n"
     ]
    },
    {
     "name": "stdin",
     "output_type": "stream",
     "text": [
      "Masukkan label (Positive, Negative, Neutral) Negative\n"
     ]
    },
    {
     "name": "stdout",
     "output_type": "stream",
     "text": [
      "Review: Ga bisa login walaupun npwp dan pasword sudah benar\n"
     ]
    },
    {
     "name": "stdin",
     "output_type": "stream",
     "text": [
      "Masukkan label (Positive, Negative, Neutral) Negative\n"
     ]
    },
    {
     "name": "stdout",
     "output_type": "stream",
     "text": [
      "Review: Daripada ribet, itu efin mending hilangkan saja, kenapa?? Aplikasi ga berguna, lupa efin aja ribetnya minta ampuuunnnn! Harus ini itu, tapi aplikasi ga mendukung, buang-buang anggaran saja! Bilang aja tinggal datang ke KPP masing-masing, ga ush pake aplikasi segala! Beres!\n"
     ]
    },
    {
     "name": "stdin",
     "output_type": "stream",
     "text": [
      "Masukkan label (Positive, Negative, Neutral) Negative\n"
     ]
    },
    {
     "name": "stdout",
     "output_type": "stream",
     "text": [
      "Review: Aplikasi pemerintah,,nasib nasib\n"
     ]
    },
    {
     "name": "stdin",
     "output_type": "stream",
     "text": [
      "Masukkan label (Positive, Negative, Neutral) Negative\n"
     ]
    },
    {
     "name": "stdout",
     "output_type": "stream",
     "text": [
      "Review: Ga guna. Ngga bisa login\n"
     ]
    },
    {
     "name": "stdin",
     "output_type": "stream",
     "text": [
      "Masukkan label (Positive, Negative, Neutral) Negative\n"
     ]
    },
    {
     "name": "stdout",
     "output_type": "stream",
     "text": [
      "Review: Inikan aplikasi milik pemerintah,jadi tolong dong jangan eror melulu dan tolong segera diperbaiki,jangan bikin malu pemerintahankami selaku warga sangat mendukung\n"
     ]
    },
    {
     "name": "stdin",
     "output_type": "stream",
     "text": [
      "Masukkan label (Positive, Negative, Neutral) Negative\n"
     ]
    },
    {
     "name": "stdout",
     "output_type": "stream",
     "text": [
      "Review: Aplikasi gak guna 👎\n"
     ]
    },
    {
     "name": "stdin",
     "output_type": "stream",
     "text": [
      "Masukkan label (Positive, Negative, Neutral) Negative\n"
     ]
    },
    {
     "name": "stdout",
     "output_type": "stream",
     "text": [
      "Review: Masuknya aja ribet gmn mau bayar pajak\n"
     ]
    },
    {
     "name": "stdin",
     "output_type": "stream",
     "text": [
      "Masukkan label (Positive, Negative, Neutral) Negative\n"
     ]
    },
    {
     "name": "stdout",
     "output_type": "stream",
     "text": [
      "Review: Aplikasi nya parah mau login lemot bngt GK BS\"\n"
     ]
    },
    {
     "name": "stdin",
     "output_type": "stream",
     "text": [
      "Masukkan label (Positive, Negative, Neutral) Negative\n"
     ]
    },
    {
     "name": "stdout",
     "output_type": "stream",
     "text": [
      "Review: Gk ngaruh, gk berguna, pelayanan gk ada jaminan... Bobrok..\n"
     ]
    },
    {
     "name": "stdin",
     "output_type": "stream",
     "text": [
      "Masukkan label (Positive, Negative, Neutral) Negative\n"
     ]
    },
    {
     "name": "stdout",
     "output_type": "stream",
     "text": [
      "Review: Tolong perbaiki lagi app nya,, semalam bisa di buka knapa pagi ga bisa masuk status error\n"
     ]
    },
    {
     "name": "stdin",
     "output_type": "stream",
     "text": [
      "Masukkan label (Positive, Negative, Neutral) Negative\n"
     ]
    },
    {
     "name": "stdout",
     "output_type": "stream",
     "text": [
      "Review: cacat\n"
     ]
    },
    {
     "name": "stdin",
     "output_type": "stream",
     "text": [
      "Masukkan label (Positive, Negative, Neutral) Negative\n"
     ]
    },
    {
     "name": "stdout",
     "output_type": "stream",
     "text": [
      "Review: Aplikasi yang mengecewakan, katanya di suruh taat pajak, giliran kita sudah taat tapi malah di persulit. Log in aja gk bisa, gak usah nyuruh rakyat taat pajak, gak usah nagih2 pajak kalau sistem nya saja belum beres. Kalau mau nyuruh rakyat taat pajak bukin sistem yang sederhana yang mudah di fahami. Kita cari makan tdk di bantu negara jadi mohon di permudah kalau ingin rakyat taat pajak.\n"
     ]
    },
    {
     "name": "stdin",
     "output_type": "stream",
     "text": [
      "Masukkan label (Positive, Negative, Neutral) Negative\n"
     ]
    },
    {
     "name": "stdout",
     "output_type": "stream",
     "text": [
      "Review: Ga bisa buat kode billing. Aplikasi ga jelas. Gmna mau byr pajak.\n"
     ]
    },
    {
     "name": "stdin",
     "output_type": "stream",
     "text": [
      "Masukkan label (Positive, Negative, Neutral) Negative\n"
     ]
    },
    {
     "name": "stdout",
     "output_type": "stream",
     "text": [
      "Review: Ni aplikasi rewel bgt\n"
     ]
    },
    {
     "name": "stdin",
     "output_type": "stream",
     "text": [
      "Masukkan label (Positive, Negative, Neutral) Negative\n"
     ]
    },
    {
     "name": "stdout",
     "output_type": "stream",
     "text": [
      "Review: 𝕊𝕒𝕟𝕪𝕒𝕥 𝕞𝕖𝕟𝕕\n"
     ]
    },
    {
     "name": "stdin",
     "output_type": "stream",
     "text": [
      "Masukkan label (Positive, Negative, Neutral) Neutral\n"
     ]
    },
    {
     "name": "stdout",
     "output_type": "stream",
     "text": [
      "Review: Mau lupa efin keluar Mulu pas dana udah lengkap keluar\n"
     ]
    },
    {
     "name": "stdin",
     "output_type": "stream",
     "text": [
      "Masukkan label (Positive, Negative, Neutral) Negative\n"
     ]
    },
    {
     "name": "stdout",
     "output_type": "stream",
     "text": [
      "Review: Kenapa saya tidak bisa login di apk ini, saya sudah klik lupa pasword dan sudah saya masukkan no npwp, efin dan kode keamanan setelah submit malah di suruh ngisi ulang 😡\n"
     ]
    },
    {
     "name": "stdin",
     "output_type": "stream",
     "text": [
      "Masukkan label (Positive, Negative, Neutral) Negative\n"
     ]
    },
    {
     "name": "stdout",
     "output_type": "stream",
     "text": [
      "Review: Aplikasi bodoh dari pemerintah...masa saya sdh daftar.npwp dan email sdh selesai semua ,dan saya save di google email saya.ketika saya buka td bisa .tolol...\n"
     ]
    },
    {
     "name": "stdin",
     "output_type": "stream",
     "text": [
      "Masukkan label (Positive, Negative, Neutral) Negative\n"
     ]
    },
    {
     "name": "stdout",
     "output_type": "stream",
     "text": [
      "Review: Dodo ga bisa masuk\n"
     ]
    },
    {
     "name": "stdin",
     "output_type": "stream",
     "text": [
      "Masukkan label (Positive, Negative, Neutral) Negative\n"
     ]
    },
    {
     "name": "stdout",
     "output_type": "stream",
     "text": [
      "Review: Ini gimana mau login aja susah,padahal sudah d masukkan dengan benar npwp dan paswort,tp tetap saja nggak bisa login & salah terus\n"
     ]
    },
    {
     "name": "stdin",
     "output_type": "stream",
     "text": [
      "Masukkan label (Positive, Negative, Neutral) Negative\n"
     ]
    },
    {
     "name": "stdout",
     "output_type": "stream",
     "text": [
      "Review: Lah ko habis di update ngga bisa masuk pake NIK ya. Cm bisa ngetik 15 angka. 1 angka lagi ngga bisa diketik. Aneh..\n"
     ]
    },
    {
     "name": "stdin",
     "output_type": "stream",
     "text": [
      "Masukkan label (Positive, Negative, Neutral) Negative\n"
     ]
    },
    {
     "name": "stdout",
     "output_type": "stream",
     "text": [
      "Review: aplikasi ampas, buat memperbaiki lupa efin aja susahnya minta ampun. suruh taat pajak, tapi bikin aplikasi aja masih banyak msalahnya dasar kagak becus bekerja kalian ini\n"
     ]
    },
    {
     "name": "stdin",
     "output_type": "stream",
     "text": [
      "Masukkan label (Positive, Negative, Neutral) Negative\n"
     ]
    },
    {
     "name": "stdout",
     "output_type": "stream",
     "text": [
      "Review: Coba untuk Buka akun yg diblok dipermudah untuk buka kuncinya, terlalu ribet\n"
     ]
    },
    {
     "name": "stdin",
     "output_type": "stream",
     "text": [
      "Masukkan label (Positive, Negative, Neutral) Negative\n"
     ]
    },
    {
     "name": "stdout",
     "output_type": "stream",
     "text": [
      "Review: Mau proses pengajuan efin karna lupantp tidak bisa dikarenakan pas mau foto aplikasi langgung keluar sendiri\n"
     ]
    },
    {
     "ename": "KeyboardInterrupt",
     "evalue": "Interrupted by user",
     "output_type": "error",
     "traceback": [
      "\u001b[1;31m---------------------------------------------------------------------------\u001b[0m",
      "\u001b[1;31mKeyboardInterrupt\u001b[0m                         Traceback (most recent call last)",
      "Cell \u001b[1;32mIn[8], line 7\u001b[0m\n\u001b[0;32m      5\u001b[0m \u001b[38;5;28;01mfor\u001b[39;00m index \u001b[38;5;129;01min\u001b[39;00m \u001b[38;5;28mrange\u001b[39m(start_index, \u001b[38;5;28mlen\u001b[39m(df)):\n\u001b[0;32m      6\u001b[0m     \u001b[38;5;28mprint\u001b[39m(\u001b[38;5;124mf\u001b[39m\u001b[38;5;124m\"\u001b[39m\u001b[38;5;124mReview: \u001b[39m\u001b[38;5;132;01m{\u001b[39;00mdf\u001b[38;5;241m.\u001b[39mat[index,\u001b[38;5;250m \u001b[39m\u001b[38;5;124m'\u001b[39m\u001b[38;5;124mcontent\u001b[39m\u001b[38;5;124m'\u001b[39m]\u001b[38;5;132;01m}\u001b[39;00m\u001b[38;5;124m\"\u001b[39m)\n\u001b[1;32m----> 7\u001b[0m     label \u001b[38;5;241m=\u001b[39m \u001b[38;5;28;43minput\u001b[39;49m\u001b[43m(\u001b[49m\u001b[38;5;124;43m\"\u001b[39;49m\u001b[38;5;124;43mMasukkan label (Positive, Negative, Neutral)\u001b[39;49m\u001b[38;5;124;43m\"\u001b[39;49m\u001b[43m)\u001b[49m\n\u001b[0;32m      8\u001b[0m     df\u001b[38;5;241m.\u001b[39mat[index, \u001b[38;5;124m'\u001b[39m\u001b[38;5;124mlabel\u001b[39m\u001b[38;5;124m'\u001b[39m] \u001b[38;5;241m=\u001b[39m label\n",
      "File \u001b[1;32m~\\AppData\\Local\\Programs\\Python\\Python312\\Lib\\site-packages\\ipykernel\\kernelbase.py:1282\u001b[0m, in \u001b[0;36mKernel.raw_input\u001b[1;34m(self, prompt)\u001b[0m\n\u001b[0;32m   1280\u001b[0m     msg \u001b[38;5;241m=\u001b[39m \u001b[38;5;124m\"\u001b[39m\u001b[38;5;124mraw_input was called, but this frontend does not support input requests.\u001b[39m\u001b[38;5;124m\"\u001b[39m\n\u001b[0;32m   1281\u001b[0m     \u001b[38;5;28;01mraise\u001b[39;00m StdinNotImplementedError(msg)\n\u001b[1;32m-> 1282\u001b[0m \u001b[38;5;28;01mreturn\u001b[39;00m \u001b[38;5;28;43mself\u001b[39;49m\u001b[38;5;241;43m.\u001b[39;49m\u001b[43m_input_request\u001b[49m\u001b[43m(\u001b[49m\n\u001b[0;32m   1283\u001b[0m \u001b[43m    \u001b[49m\u001b[38;5;28;43mstr\u001b[39;49m\u001b[43m(\u001b[49m\u001b[43mprompt\u001b[49m\u001b[43m)\u001b[49m\u001b[43m,\u001b[49m\n\u001b[0;32m   1284\u001b[0m \u001b[43m    \u001b[49m\u001b[38;5;28;43mself\u001b[39;49m\u001b[38;5;241;43m.\u001b[39;49m\u001b[43m_parent_ident\u001b[49m\u001b[43m[\u001b[49m\u001b[38;5;124;43m\"\u001b[39;49m\u001b[38;5;124;43mshell\u001b[39;49m\u001b[38;5;124;43m\"\u001b[39;49m\u001b[43m]\u001b[49m\u001b[43m,\u001b[49m\n\u001b[0;32m   1285\u001b[0m \u001b[43m    \u001b[49m\u001b[38;5;28;43mself\u001b[39;49m\u001b[38;5;241;43m.\u001b[39;49m\u001b[43mget_parent\u001b[49m\u001b[43m(\u001b[49m\u001b[38;5;124;43m\"\u001b[39;49m\u001b[38;5;124;43mshell\u001b[39;49m\u001b[38;5;124;43m\"\u001b[39;49m\u001b[43m)\u001b[49m\u001b[43m,\u001b[49m\n\u001b[0;32m   1286\u001b[0m \u001b[43m    \u001b[49m\u001b[43mpassword\u001b[49m\u001b[38;5;241;43m=\u001b[39;49m\u001b[38;5;28;43;01mFalse\u001b[39;49;00m\u001b[43m,\u001b[49m\n\u001b[0;32m   1287\u001b[0m \u001b[43m\u001b[49m\u001b[43m)\u001b[49m\n",
      "File \u001b[1;32m~\\AppData\\Local\\Programs\\Python\\Python312\\Lib\\site-packages\\ipykernel\\kernelbase.py:1325\u001b[0m, in \u001b[0;36mKernel._input_request\u001b[1;34m(self, prompt, ident, parent, password)\u001b[0m\n\u001b[0;32m   1322\u001b[0m \u001b[38;5;28;01mexcept\u001b[39;00m \u001b[38;5;167;01mKeyboardInterrupt\u001b[39;00m:\n\u001b[0;32m   1323\u001b[0m     \u001b[38;5;66;03m# re-raise KeyboardInterrupt, to truncate traceback\u001b[39;00m\n\u001b[0;32m   1324\u001b[0m     msg \u001b[38;5;241m=\u001b[39m \u001b[38;5;124m\"\u001b[39m\u001b[38;5;124mInterrupted by user\u001b[39m\u001b[38;5;124m\"\u001b[39m\n\u001b[1;32m-> 1325\u001b[0m     \u001b[38;5;28;01mraise\u001b[39;00m \u001b[38;5;167;01mKeyboardInterrupt\u001b[39;00m(msg) \u001b[38;5;28;01mfrom\u001b[39;00m \u001b[38;5;28;01mNone\u001b[39;00m\n\u001b[0;32m   1326\u001b[0m \u001b[38;5;28;01mexcept\u001b[39;00m \u001b[38;5;167;01mException\u001b[39;00m:\n\u001b[0;32m   1327\u001b[0m     \u001b[38;5;28mself\u001b[39m\u001b[38;5;241m.\u001b[39mlog\u001b[38;5;241m.\u001b[39mwarning(\u001b[38;5;124m\"\u001b[39m\u001b[38;5;124mInvalid Message:\u001b[39m\u001b[38;5;124m\"\u001b[39m, exc_info\u001b[38;5;241m=\u001b[39m\u001b[38;5;28;01mTrue\u001b[39;00m)\n",
      "\u001b[1;31mKeyboardInterrupt\u001b[0m: Interrupted by user"
     ]
    }
   ],
   "source": [
    "# labelling from index 1240\n",
    "\n",
    "start_index = 1240  # Ganti dengan indeks terakhir yang sudah dilabeli \n",
    "\n",
    "for index in range(start_index, len(df)):\n",
    "    print(f\"Review: {df.at[index, 'content']}\")\n",
    "    label = input(\"Masukkan label (Positive, Negative, Neutral)\")\n",
    "    df.at[index, 'label'] = label"
   ]
  },
  {
   "cell_type": "code",
   "execution_count": 9,
   "id": "7d9c6030-7049-4cfa-8c6b-9bce2d7cc53d",
   "metadata": {},
   "outputs": [
    {
     "name": "stdout",
     "output_type": "stream",
     "text": [
      "Indeks terakhir yang dilabeli : 1649\n"
     ]
    }
   ],
   "source": [
    "last_labeled_index = index\n",
    "\n",
    "print(f\"Indeks terakhir yang dilabeli : {last_labeled_index}\")"
   ]
  },
  {
   "cell_type": "code",
   "execution_count": 10,
   "id": "40b4c7eb-0177-4162-a090-4c601aac0b77",
   "metadata": {},
   "outputs": [],
   "source": [
    "folder_path = 'dataset/'\n",
    "file_name = 'new_data_labeled_1649.csv'\n",
    "full_path = folder_path + file_name\n",
    "\n",
    "df.to_csv(full_path, index=False)"
   ]
  },
  {
   "cell_type": "code",
   "execution_count": 12,
   "id": "17be2c8d-1bd9-486d-b01e-49cb93fa0cc3",
   "metadata": {},
   "outputs": [
    {
     "data": {
      "text/html": [
       "<div>\n",
       "<style scoped>\n",
       "    .dataframe tbody tr th:only-of-type {\n",
       "        vertical-align: middle;\n",
       "    }\n",
       "\n",
       "    .dataframe tbody tr th {\n",
       "        vertical-align: top;\n",
       "    }\n",
       "\n",
       "    .dataframe thead th {\n",
       "        text-align: right;\n",
       "    }\n",
       "</style>\n",
       "<table border=\"1\" class=\"dataframe\">\n",
       "  <thead>\n",
       "    <tr style=\"text-align: right;\">\n",
       "      <th></th>\n",
       "      <th>content</th>\n",
       "      <th>label</th>\n",
       "    </tr>\n",
       "  </thead>\n",
       "  <tbody>\n",
       "    <tr>\n",
       "      <th>0</th>\n",
       "      <td>Lemot banget ngirim kode OTP nya ajg</td>\n",
       "      <td>Negative</td>\n",
       "    </tr>\n",
       "    <tr>\n",
       "      <th>1</th>\n",
       "      <td>Daftar pajak email aktivasi sudah, ehh pas ner...</td>\n",
       "      <td>Negative</td>\n",
       "    </tr>\n",
       "    <tr>\n",
       "      <th>2</th>\n",
       "      <td>Pas Nunggu Kode OTP nya emng GK lama,TPI GK ta...</td>\n",
       "      <td>Negative</td>\n",
       "    </tr>\n",
       "    <tr>\n",
       "      <th>3</th>\n",
       "      <td>Sangat cocok untuk melihat pajak saya</td>\n",
       "      <td>Positive</td>\n",
       "    </tr>\n",
       "    <tr>\n",
       "      <th>4</th>\n",
       "      <td>ngabisin pulsa doang</td>\n",
       "      <td>Negative</td>\n",
       "    </tr>\n",
       "    <tr>\n",
       "      <th>...</th>\n",
       "      <td>...</td>\n",
       "      <td>...</td>\n",
       "    </tr>\n",
       "    <tr>\n",
       "      <th>1645</th>\n",
       "      <td>Ini gimana mau login aja susah,padahal sudah d...</td>\n",
       "      <td>Negative</td>\n",
       "    </tr>\n",
       "    <tr>\n",
       "      <th>1646</th>\n",
       "      <td>Lah ko habis di update ngga bisa masuk pake NI...</td>\n",
       "      <td>Negative</td>\n",
       "    </tr>\n",
       "    <tr>\n",
       "      <th>1647</th>\n",
       "      <td>aplikasi ampas, buat memperbaiki lupa efin aja...</td>\n",
       "      <td>Negative</td>\n",
       "    </tr>\n",
       "    <tr>\n",
       "      <th>1648</th>\n",
       "      <td>Coba untuk Buka akun yg diblok dipermudah untu...</td>\n",
       "      <td>Negative</td>\n",
       "    </tr>\n",
       "    <tr>\n",
       "      <th>1649</th>\n",
       "      <td>Mau proses pengajuan efin karna lupantp tidak ...</td>\n",
       "      <td>NaN</td>\n",
       "    </tr>\n",
       "  </tbody>\n",
       "</table>\n",
       "<p>1650 rows × 2 columns</p>\n",
       "</div>"
      ],
      "text/plain": [
       "                                                content     label\n",
       "0                  Lemot banget ngirim kode OTP nya ajg  Negative\n",
       "1     Daftar pajak email aktivasi sudah, ehh pas ner...  Negative\n",
       "2     Pas Nunggu Kode OTP nya emng GK lama,TPI GK ta...  Negative\n",
       "3                 Sangat cocok untuk melihat pajak saya  Positive\n",
       "4                                  ngabisin pulsa doang  Negative\n",
       "...                                                 ...       ...\n",
       "1645  Ini gimana mau login aja susah,padahal sudah d...  Negative\n",
       "1646  Lah ko habis di update ngga bisa masuk pake NI...  Negative\n",
       "1647  aplikasi ampas, buat memperbaiki lupa efin aja...  Negative\n",
       "1648  Coba untuk Buka akun yg diblok dipermudah untu...  Negative\n",
       "1649  Mau proses pengajuan efin karna lupantp tidak ...       NaN\n",
       "\n",
       "[1650 rows x 2 columns]"
      ]
     },
     "execution_count": 12,
     "metadata": {},
     "output_type": "execute_result"
    }
   ],
   "source": [
    "df.head(1650)"
   ]
  },
  {
   "cell_type": "markdown",
   "id": "2a551c07-6db8-454e-a8be-fbb0ece59695",
   "metadata": {},
   "source": [
    "#### Check point labelling index ke-1648 (05 - 10 - 2024)\n",
    "\n",
    "#### Mulai labelling lagi from index 1649"
   ]
  },
  {
   "cell_type": "code",
   "execution_count": 8,
   "id": "d38ea128-abe8-4ff5-8bd1-24716e11bc53",
   "metadata": {},
   "outputs": [
    {
     "data": {
      "text/html": [
       "<div>\n",
       "<style scoped>\n",
       "    .dataframe tbody tr th:only-of-type {\n",
       "        vertical-align: middle;\n",
       "    }\n",
       "\n",
       "    .dataframe tbody tr th {\n",
       "        vertical-align: top;\n",
       "    }\n",
       "\n",
       "    .dataframe thead th {\n",
       "        text-align: right;\n",
       "    }\n",
       "</style>\n",
       "<table border=\"1\" class=\"dataframe\">\n",
       "  <thead>\n",
       "    <tr style=\"text-align: right;\">\n",
       "      <th></th>\n",
       "      <th>content</th>\n",
       "      <th>label</th>\n",
       "    </tr>\n",
       "  </thead>\n",
       "  <tbody>\n",
       "    <tr>\n",
       "      <th>0</th>\n",
       "      <td>Lemot banget ngirim kode OTP nya ajg</td>\n",
       "      <td>Negative</td>\n",
       "    </tr>\n",
       "    <tr>\n",
       "      <th>1</th>\n",
       "      <td>Daftar pajak email aktivasi sudah, ehh pas ner...</td>\n",
       "      <td>Negative</td>\n",
       "    </tr>\n",
       "    <tr>\n",
       "      <th>2</th>\n",
       "      <td>Pas Nunggu Kode OTP nya emng GK lama,TPI GK ta...</td>\n",
       "      <td>Negative</td>\n",
       "    </tr>\n",
       "    <tr>\n",
       "      <th>3</th>\n",
       "      <td>Sangat cocok untuk melihat pajak saya</td>\n",
       "      <td>Positive</td>\n",
       "    </tr>\n",
       "    <tr>\n",
       "      <th>4</th>\n",
       "      <td>ngabisin pulsa doang</td>\n",
       "      <td>Negative</td>\n",
       "    </tr>\n",
       "  </tbody>\n",
       "</table>\n",
       "</div>"
      ],
      "text/plain": [
       "                                             content     label\n",
       "0               Lemot banget ngirim kode OTP nya ajg  Negative\n",
       "1  Daftar pajak email aktivasi sudah, ehh pas ner...  Negative\n",
       "2  Pas Nunggu Kode OTP nya emng GK lama,TPI GK ta...  Negative\n",
       "3              Sangat cocok untuk melihat pajak saya  Positive\n",
       "4                               ngabisin pulsa doang  Negative"
      ]
     },
     "execution_count": 8,
     "metadata": {},
     "output_type": "execute_result"
    }
   ],
   "source": [
    "df = pd.read_csv('dataset/new_data_labeled_1649.csv')\n",
    "df.head()"
   ]
  },
  {
   "cell_type": "code",
   "execution_count": 12,
   "id": "999dd6e5-b1b1-4f1a-9986-d1abde8aa5b1",
   "metadata": {},
   "outputs": [
    {
     "name": "stdout",
     "output_type": "stream",
     "text": [
      "Review: Mau proses pengajuan efin karna lupantp tidak bisa dikarenakan pas mau foto aplikasi langgung keluar sendiri\n"
     ]
    },
    {
     "name": "stdin",
     "output_type": "stream",
     "text": [
      "Masukkan label (Positive, Negative, Neutral) Negative\n"
     ]
    },
    {
     "name": "stdout",
     "output_type": "stream",
     "text": [
      "Review: Pengajuan lupa efin error terus, ini gmn sih punya pemerintah biaya aplikasi guedeee tp erorr\n"
     ]
    },
    {
     "name": "stdin",
     "output_type": "stream",
     "text": [
      "Masukkan label (Positive, Negative, Neutral) Negative\n"
     ]
    },
    {
     "name": "stdout",
     "output_type": "stream",
     "text": [
      "Review: Maruzani\n"
     ]
    },
    {
     "name": "stdin",
     "output_type": "stream",
     "text": [
      "Masukkan label (Positive, Negative, Neutral) Neutral\n"
     ]
    },
    {
     "name": "stdout",
     "output_type": "stream",
     "text": [
      "Review: Dapatar aja susah bener udah 30 sandi aku coba yg beda² tetep ngga bisa\n"
     ]
    },
    {
     "name": "stdin",
     "output_type": "stream",
     "text": [
      "Masukkan label (Positive, Negative, Neutral) Negative\n"
     ]
    },
    {
     "name": "stdout",
     "output_type": "stream",
     "text": [
      "Review: Asal kita paham cara pake aplikasinya pasti terasa mudah, sipp\n"
     ]
    },
    {
     "name": "stdin",
     "output_type": "stream",
     "text": [
      "Masukkan label (Positive, Negative, Neutral) Positive\n"
     ]
    },
    {
     "name": "stdout",
     "output_type": "stream",
     "text": [
      "Review: Coba tolong diperbaiki. Verifikasi selalu gagal, data yang diisi sudah benar!\n"
     ]
    },
    {
     "name": "stdin",
     "output_type": "stream",
     "text": [
      "Masukkan label (Positive, Negative, Neutral) Negative\n"
     ]
    },
    {
     "name": "stdout",
     "output_type": "stream",
     "text": [
      "Review: error data nik gk ditemukan, gimana ceritanya ini\n"
     ]
    },
    {
     "name": "stdin",
     "output_type": "stream",
     "text": [
      "Masukkan label (Positive, Negative, Neutral) Negative\n"
     ]
    },
    {
     "name": "stdout",
     "output_type": "stream",
     "text": [
      "Review: Eror wae\n"
     ]
    },
    {
     "name": "stdin",
     "output_type": "stream",
     "text": [
      "Masukkan label (Positive, Negative, Neutral) Negative\n"
     ]
    },
    {
     "name": "stdout",
     "output_type": "stream",
     "text": [
      "Review: Kenapa belum bisa login pakai KTP\n"
     ]
    },
    {
     "name": "stdin",
     "output_type": "stream",
     "text": [
      "Masukkan label (Positive, Negative, Neutral) Negative\n"
     ]
    },
    {
     "name": "stdout",
     "output_type": "stream",
     "text": [
      "Review: Aplikasi ga guna, baru di instal udah error, muncul notif update pula\n"
     ]
    },
    {
     "name": "stdin",
     "output_type": "stream",
     "text": [
      "Masukkan label (Positive, Negative, Neutral) Negative\n"
     ]
    },
    {
     "name": "stdout",
     "output_type": "stream",
     "text": [
      "Review: Aplikasi ga guna\n"
     ]
    },
    {
     "name": "stdin",
     "output_type": "stream",
     "text": [
      "Masukkan label (Positive, Negative, Neutral) Negative\n"
     ]
    },
    {
     "name": "stdout",
     "output_type": "stream",
     "text": [
      "Review: Error mulu.. Hadehh\n"
     ]
    },
    {
     "name": "stdin",
     "output_type": "stream",
     "text": [
      "Masukkan label (Positive, Negative, Neutral) Negative\n"
     ]
    },
    {
     "name": "stdout",
     "output_type": "stream",
     "text": [
      "Review: Mantap\n"
     ]
    },
    {
     "name": "stdin",
     "output_type": "stream",
     "text": [
      "Masukkan label (Positive, Negative, Neutral) Positive\n"
     ]
    },
    {
     "name": "stdout",
     "output_type": "stream",
     "text": [
      "Review: Sekitar 1 tahun yang lewat ini aplikasi ini bagus dan baik saja digunakan, makin sekarang dan makin di upgrade kok malah rawan erorr. Padahal nomor NPWP dan kata sandi / password sudah pas dan juga sudah bolak balik diganti waktu sewaktu mau login buat laporan SPT. Chat dari WhatsApp bolak balik masuk terus, sementara dari link dan aplikasi tidak bisa login. Aneh memang aneh.\n"
     ]
    },
    {
     "name": "stdin",
     "output_type": "stream",
     "text": [
      "Masukkan label (Positive, Negative, Neutral) Negative\n"
     ]
    },
    {
     "name": "stdout",
     "output_type": "stream",
     "text": [
      "Review: Saat mengisi npwp online karakter huruf email jd kapital semua.. jd gak bisa daftar.. bagaimana ini dirjen pajak padahal saya pingin jd warga yg taat\n"
     ]
    },
    {
     "name": "stdin",
     "output_type": "stream",
     "text": [
      "Masukkan label (Positive, Negative, Neutral) Negative\n"
     ]
    },
    {
     "name": "stdout",
     "output_type": "stream",
     "text": [
      "Review: abis update malah makin lemot, erorr, mau bikin billing buat bayar pajak kagak bisa2, atau GA PERLU BAYAR PAJAK AJA ATO GIMANA NIIH... GW MALAH SENENG...😌\n"
     ]
    },
    {
     "name": "stdin",
     "output_type": "stream",
     "text": [
      "Masukkan label (Positive, Negative, Neutral) Negative\n"
     ]
    },
    {
     "name": "stdout",
     "output_type": "stream",
     "text": [
      "Review: Aplikasi pemerintah selalu gak bener, pejabatnya gak bener kerjanya.\n"
     ]
    },
    {
     "name": "stdin",
     "output_type": "stream",
     "text": [
      "Masukkan label (Positive, Negative, Neutral) Negative\n"
     ]
    },
    {
     "name": "stdout",
     "output_type": "stream",
     "text": [
      "Review: Ini error ga bisa masuk mohon perbaiki\n"
     ]
    },
    {
     "name": "stdin",
     "output_type": "stream",
     "text": [
      "Masukkan label (Positive, Negative, Neutral) Negative\n"
     ]
    },
    {
     "name": "stdout",
     "output_type": "stream",
     "text": [
      "Review: Saat minta kode billong malah gak bisa di ketik kolom setelah nama\n"
     ]
    },
    {
     "name": "stdin",
     "output_type": "stream",
     "text": [
      "Masukkan label (Positive, Negative, Neutral) Negative\n"
     ]
    },
    {
     "name": "stdout",
     "output_type": "stream",
     "text": [
      "Review: Bagus sekali\n"
     ]
    },
    {
     "name": "stdin",
     "output_type": "stream",
     "text": [
      "Masukkan label (Positive, Negative, Neutral) Positive\n"
     ]
    },
    {
     "name": "stdout",
     "output_type": "stream",
     "text": [
      "Review: Ok\n"
     ]
    },
    {
     "name": "stdin",
     "output_type": "stream",
     "text": [
      "Masukkan label (Positive, Negative, Neutral) Positive\n"
     ]
    },
    {
     "name": "stdout",
     "output_type": "stream",
     "text": [
      "Review: kagak bisa loggin.. nik/npwp... kotak nomornya kurang satu, aya aya wae\n"
     ]
    },
    {
     "name": "stdin",
     "output_type": "stream",
     "text": [
      "Masukkan label (Positive, Negative, Neutral) Negative\n"
     ]
    },
    {
     "name": "stdout",
     "output_type": "stream",
     "text": [
      "Review: Ajarin\n"
     ]
    },
    {
     "name": "stdin",
     "output_type": "stream",
     "text": [
      "Masukkan label (Positive, Negative, Neutral) Neutral\n"
     ]
    },
    {
     "name": "stdout",
     "output_type": "stream",
     "text": [
      "Review: Aplikasi buruk susah percuma diinstal\n"
     ]
    },
    {
     "name": "stdin",
     "output_type": "stream",
     "text": [
      "Masukkan label (Positive, Negative, Neutral) Negative\n"
     ]
    },
    {
     "name": "stdout",
     "output_type": "stream",
     "text": [
      "Review: Oke.\n"
     ]
    },
    {
     "name": "stdin",
     "output_type": "stream",
     "text": [
      "Masukkan label (Positive, Negative, Neutral) Positive\n"
     ]
    },
    {
     "name": "stdout",
     "output_type": "stream",
     "text": [
      "Review: erorr terussss\n"
     ]
    },
    {
     "name": "stdin",
     "output_type": "stream",
     "text": [
      "Masukkan label (Positive, Negative, Neutral) Negative\n"
     ]
    },
    {
     "name": "stdout",
     "output_type": "stream",
     "text": [
      "Review: Kode Verifikasi gagal terkirim, mohon petunjuk dan arahannya..\n"
     ]
    },
    {
     "name": "stdin",
     "output_type": "stream",
     "text": [
      "Masukkan label (Positive, Negative, Neutral) Negative\n"
     ]
    },
    {
     "name": "stdout",
     "output_type": "stream",
     "text": [
      "Review: Aplikasi ga jelas, bakar aja ga guna ga bisa login\n"
     ]
    },
    {
     "name": "stdin",
     "output_type": "stream",
     "text": [
      "Masukkan label (Positive, Negative, Neutral) Negative\n"
     ]
    },
    {
     "name": "stdout",
     "output_type": "stream",
     "text": [
      "Review: Apk gk jelas\n"
     ]
    },
    {
     "name": "stdin",
     "output_type": "stream",
     "text": [
      "Masukkan label (Positive, Negative, Neutral) Negative\n"
     ]
    },
    {
     "name": "stdout",
     "output_type": "stream",
     "text": [
      "Review: Top\n"
     ]
    },
    {
     "name": "stdin",
     "output_type": "stream",
     "text": [
      "Masukkan label (Positive, Negative, Neutral) Positive\n"
     ]
    },
    {
     "name": "stdout",
     "output_type": "stream",
     "text": [
      "Review: Applikasinya setelah terinstak..selalu error..minta restart..tapi malah ga bisa juga\n"
     ]
    },
    {
     "name": "stdin",
     "output_type": "stream",
     "text": [
      "Masukkan label (Positive, Negative, Neutral) Negative\n"
     ]
    },
    {
     "name": "stdout",
     "output_type": "stream",
     "text": [
      "Review: Di upgrade malah error... Gimana sih\n"
     ]
    },
    {
     "name": "stdin",
     "output_type": "stream",
     "text": [
      "Masukkan label (Positive, Negative, Neutral) Negative\n"
     ]
    },
    {
     "name": "stdout",
     "output_type": "stream",
     "text": [
      "Review: Aplikasi lambat dan tidak bisa di buka\n"
     ]
    },
    {
     "name": "stdin",
     "output_type": "stream",
     "text": [
      "Masukkan label (Positive, Negative, Neutral) Negative\n"
     ]
    },
    {
     "name": "stdout",
     "output_type": "stream",
     "text": [
      "Review: bagus\n"
     ]
    },
    {
     "name": "stdin",
     "output_type": "stream",
     "text": [
      "Masukkan label (Positive, Negative, Neutral) Positive\n"
     ]
    },
    {
     "name": "stdout",
     "output_type": "stream",
     "text": [
      "Review: bingung, d suruh lapor spt , pas isi data error mulu, nyampe nge WA ngirim surat hadehh..\n"
     ]
    },
    {
     "name": "stdin",
     "output_type": "stream",
     "text": [
      "Masukkan label (Positive, Negative, Neutral) Negative\n"
     ]
    },
    {
     "name": "stdout",
     "output_type": "stream",
     "text": [
      "Review: MANTAB lanjutkan sobat\n"
     ]
    },
    {
     "name": "stdin",
     "output_type": "stream",
     "text": [
      "Masukkan label (Positive, Negative, Neutral) Positive\n"
     ]
    },
    {
     "name": "stdout",
     "output_type": "stream",
     "text": [
      "Review: Not Worth It aplikasinya. Mending via website aja. Mohon dihapus aja aplikasinya klo dipersulit begini mau login.\n"
     ]
    },
    {
     "name": "stdin",
     "output_type": "stream",
     "text": [
      "Masukkan label (Positive, Negative, Neutral) Negative\n"
     ]
    },
    {
     "name": "stdout",
     "output_type": "stream",
     "text": [
      "Review: Bagus ....\n"
     ]
    },
    {
     "name": "stdin",
     "output_type": "stream",
     "text": [
      "Masukkan label (Positive, Negative, Neutral) Positive\n"
     ]
    },
    {
     "name": "stdout",
     "output_type": "stream",
     "text": [
      "Review: NIK/NPWP Login kurang 1 digit. Jadinya gak bisa masuk error karena jumlah angka kurang 1\n"
     ]
    },
    {
     "name": "stdin",
     "output_type": "stream",
     "text": [
      "Masukkan label (Positive, Negative, Neutral) Negative\n"
     ]
    },
    {
     "name": "stdout",
     "output_type": "stream",
     "text": [
      "Review: Tidak bisa minta kode effin padahal data udh sesuai\n"
     ]
    },
    {
     "name": "stdin",
     "output_type": "stream",
     "text": [
      "Masukkan label (Positive, Negative, Neutral) Negative\n"
     ]
    },
    {
     "name": "stdout",
     "output_type": "stream",
     "text": [
      "Review: setelah update malah error terus.. segera perbaiki!\n"
     ]
    },
    {
     "name": "stdin",
     "output_type": "stream",
     "text": [
      "Masukkan label (Positive, Negative, Neutral) Negative\n"
     ]
    },
    {
     "name": "stdout",
     "output_type": "stream",
     "text": [
      "Review: Buang buang duit aja bikin aplikasi ga guna\n"
     ]
    },
    {
     "name": "stdin",
     "output_type": "stream",
     "text": [
      "Masukkan label (Positive, Negative, Neutral) Negative\n"
     ]
    },
    {
     "name": "stdout",
     "output_type": "stream",
     "text": [
      "Review: error melulu tiap kali buka aplk nya....ga bener pilih vendor aplikasi nya......lemah....ga profesional.....kalah sama aplikasi ojol\n"
     ]
    },
    {
     "name": "stdin",
     "output_type": "stream",
     "text": [
      "Masukkan label (Positive, Negative, Neutral) Negative\n"
     ]
    },
    {
     "name": "stdout",
     "output_type": "stream",
     "text": [
      "Review: Good app\n"
     ]
    },
    {
     "name": "stdin",
     "output_type": "stream",
     "text": [
      "Masukkan label (Positive, Negative, Neutral) Positive\n"
     ]
    },
    {
     "name": "stdout",
     "output_type": "stream",
     "text": [
      "Review: Namanya biaya pemerintah yakan sudah wajar banyak kendala hahahaha Capek saya yg niatnya mau bikin npwp sebagai warga wajib pajak\n"
     ]
    },
    {
     "name": "stdin",
     "output_type": "stream",
     "text": [
      "Masukkan label (Positive, Negative, Neutral) Negative\n"
     ]
    },
    {
     "name": "stdout",
     "output_type": "stream",
     "text": [
      "Review: Mau bayar pajak bulanan, jenis pajak dan jenis setoran tidak bisa di akses tolong diperbaiki.\n"
     ]
    },
    {
     "name": "stdin",
     "output_type": "stream",
     "text": [
      "Masukkan label (Positive, Negative, Neutral) Negative\n"
     ]
    },
    {
     "name": "stdout",
     "output_type": "stream",
     "text": [
      "Review: Sering server error, tolong diperbaiki la\n"
     ]
    },
    {
     "name": "stdin",
     "output_type": "stream",
     "text": [
      "Masukkan label (Positive, Negative, Neutral) Negative\n"
     ]
    },
    {
     "name": "stdout",
     "output_type": "stream",
     "text": [
      "Review: Tiap login selalu fatal error g jelas banget\n"
     ]
    },
    {
     "name": "stdin",
     "output_type": "stream",
     "text": [
      "Masukkan label (Positive, Negative, Neutral) Negative\n"
     ]
    },
    {
     "name": "stdout",
     "output_type": "stream",
     "text": [
      "Review: Aplikasi apa ini, dibuka aja gk bisa, disuruh restart trs\n"
     ]
    },
    {
     "name": "stdin",
     "output_type": "stream",
     "text": [
      "Masukkan label (Positive, Negative, Neutral) Negative\n"
     ]
    },
    {
     "name": "stdout",
     "output_type": "stream",
     "text": [
      "Review: Ketika aplikasi sudah terinstal dan dijalankan muncul sebuah pesan \"unexpected error occured\", dan meminta restart, dan begitu terus ketika sudah direstart apknya. Bantu dunk\n"
     ]
    },
    {
     "name": "stdin",
     "output_type": "stream",
     "text": [
      "Masukkan label (Positive, Negative, Neutral) Negative\n"
     ]
    },
    {
     "name": "stdout",
     "output_type": "stream",
     "text": [
      "Review: Kalo bisa aplikasinya dihapus aja gak guna sumpah,minta verifikasi buat efin pas udah diisi malah kodenya salah,begitu aja trus,tolong lah ini bukan mempermudah malah menyusahkan.\n"
     ]
    },
    {
     "name": "stdin",
     "output_type": "stream",
     "text": [
      "Masukkan label (Positive, Negative, Neutral) Negative\n"
     ]
    },
    {
     "name": "stdout",
     "output_type": "stream",
     "text": [
      "Review: Ini aplikasi gmn sih, mau login aja error mulu, padahal udh punya akun tp mau masuk aja gk bisa bisa 👎\n"
     ]
    },
    {
     "name": "stdin",
     "output_type": "stream",
     "text": [
      "Masukkan label (Positive, Negative, Neutral) Negative\n"
     ]
    },
    {
     "name": "stdout",
     "output_type": "stream",
     "text": [
      "Review: Parah nih,kg bisa bikin apk udah sosoan mau mendigitalkan pajak,untuk mendapatkan efin saja sulit nya luar biasa\n"
     ]
    },
    {
     "name": "stdin",
     "output_type": "stream",
     "text": [
      "Masukkan label (Positive, Negative, Neutral) Negative\n"
     ]
    },
    {
     "name": "stdout",
     "output_type": "stream",
     "text": [
      "Review: Sangat mengecewakan,terlalu banyak persyaratan,untuk mendapatkan Efin saja sangat sulit.\n"
     ]
    },
    {
     "name": "stdin",
     "output_type": "stream",
     "text": [
      "Masukkan label (Positive, Negative, Neutral) Negative\n"
     ]
    },
    {
     "name": "stdout",
     "output_type": "stream",
     "text": [
      "Review: Parah ini aplikasi , mau buat kepentingan malah gak bisa ke buka . Ket restart restart trs, pdahal udah sy perbarui. Mksdnya apaaaa????? 💩BRENGSEK MALAH GK BS DI BUKA SAMA SEKALI , APLIKASINYA MATI AP GIMANA WOIIIIII , buat pnting ini\n"
     ]
    },
    {
     "name": "stdin",
     "output_type": "stream",
     "text": [
      "Masukkan label (Positive, Negative, Neutral) Negative\n"
     ]
    },
    {
     "name": "stdout",
     "output_type": "stream",
     "text": [
      "Review: Duit update system ,dipake buat beli rubicon apa?\n"
     ]
    },
    {
     "name": "stdin",
     "output_type": "stream",
     "text": [
      "Masukkan label (Positive, Negative, Neutral) Negative\n"
     ]
    },
    {
     "name": "stdout",
     "output_type": "stream",
     "text": [
      "Review: Mau bayar pajak aja susah, heran :(\n"
     ]
    },
    {
     "name": "stdin",
     "output_type": "stream",
     "text": [
      "Masukkan label (Positive, Negative, Neutral) Negative\n"
     ]
    },
    {
     "name": "stdout",
     "output_type": "stream",
     "text": [
      "Review: Waktu login error terus,, padahal nomor dan password nya udah bener,, heran,, tapi kalau masuk di website bisa login,, cuman di apk ini aja ga bisa..\n"
     ]
    },
    {
     "name": "stdin",
     "output_type": "stream",
     "text": [
      "Masukkan label (Positive, Negative, Neutral) Negative\n"
     ]
    },
    {
     "name": "stdout",
     "output_type": "stream",
     "text": [
      "Review: Apk tolol\n"
     ]
    },
    {
     "name": "stdin",
     "output_type": "stream",
     "text": [
      "Masukkan label (Positive, Negative, Neutral) Negative\n"
     ]
    },
    {
     "name": "stdout",
     "output_type": "stream",
     "text": [
      "Review: Makin parah,malah nomer npwp gk kedaftar😴,gimana mau update nik ke npwp kalo gini,masa sekelas nasional,buat aplikasi kayak gini,tuh liat ratingmu,lama lama kalau makin parah,tunggu aja rating mu turun ke 1 ,benerin lah,masak kayak aplikasi pinjol ilegal ratingnya😑\n"
     ]
    },
    {
     "name": "stdin",
     "output_type": "stream",
     "text": [
      "Masukkan label (Positive, Negative, Neutral) Negative\n"
     ]
    },
    {
     "name": "stdout",
     "output_type": "stream",
     "text": [
      "Review: Tiap tahun rakyat bayar pajak. Aplikasi masih kek gini????\n"
     ]
    },
    {
     "name": "stdin",
     "output_type": "stream",
     "text": [
      "Masukkan label (Positive, Negative, Neutral) Negative\n"
     ]
    },
    {
     "name": "stdout",
     "output_type": "stream",
     "text": [
      "Review: Lupa efin ,sudah mengikuti prosesnya, dan pas di akhir menunggu pesan otp tidak muncul2\n"
     ]
    },
    {
     "name": "stdin",
     "output_type": "stream",
     "text": [
      "Masukkan label (Positive, Negative, Neutral) Negative\n"
     ]
    },
    {
     "name": "stdout",
     "output_type": "stream",
     "text": [
      "Review: Masa iya sih dirjen pajak gak mampu hire pengembang yg profesional, ini aplikasi benar2 buruk, cuma bisa lihat2 menu doang, giliran input data hasilnya zonk, bahkan untuk login saja gak bisa, mendingan di takedown saja deh dari playstore.\n"
     ]
    },
    {
     "name": "stdin",
     "output_type": "stream",
     "text": [
      "Masukkan label (Positive, Negative, Neutral) Negative\n"
     ]
    },
    {
     "name": "stdout",
     "output_type": "stream",
     "text": [
      "Review: Aplikasi semua pemerintah itu aneh data semua udah bener untuk lupa effin malah salah terus ! Berulang kali taaik\n"
     ]
    },
    {
     "name": "stdin",
     "output_type": "stream",
     "text": [
      "Masukkan label (Positive, Negative, Neutral) Negative\n"
     ]
    },
    {
     "name": "stdout",
     "output_type": "stream",
     "text": [
      "Review: Aplikasi ( tolol) . Maaf kemarin aplikasi sebelah pengurusan ijin berkemudi online yang saya komentari .sekarang ini juga sama saja. Tinggal verifikasi online via email apa susahnya dengan sistem yang dikelola swasta. Sekelas pemerintah saja pakai aplikasi bikin susah\n"
     ]
    },
    {
     "name": "stdin",
     "output_type": "stream",
     "text": [
      "Masukkan label (Positive, Negative, Neutral) Negative\n"
     ]
    },
    {
     "name": "stdout",
     "output_type": "stream",
     "text": [
      "Review: Aplikasi ngga guna\n"
     ]
    },
    {
     "name": "stdin",
     "output_type": "stream",
     "text": [
      "Masukkan label (Positive, Negative, Neutral) Negative\n"
     ]
    },
    {
     "name": "stdout",
     "output_type": "stream",
     "text": [
      "Review: udah 2bulan ini tsk bs bayar pajak,entah ada gangguan apa aplikasi ini,nanti jgn salhkan sy gak bayar ya pak,aplikasinya aja yg tdk mumpuni\n"
     ]
    },
    {
     "name": "stdin",
     "output_type": "stream",
     "text": [
      "Masukkan label (Positive, Negative, Neutral) Negative\n"
     ]
    },
    {
     "name": "stdout",
     "output_type": "stream",
     "text": [
      "Review: di app nya gk bisa masuk, tapi di web bisa, bneran gk guna jd nya\n"
     ]
    },
    {
     "name": "stdin",
     "output_type": "stream",
     "text": [
      "Masukkan label (Positive, Negative, Neutral) Negative\n"
     ]
    },
    {
     "name": "stdout",
     "output_type": "stream",
     "text": [
      "Review: App dan website sama aja pendaftaran online gk bisa krn kode captha salah teroooos Sama aja gk bisa. Bkin online dong kalau kyk gni\n"
     ]
    },
    {
     "name": "stdin",
     "output_type": "stream",
     "text": [
      "Masukkan label (Positive, Negative, Neutral) Negative\n"
     ]
    },
    {
     "name": "stdout",
     "output_type": "stream",
     "text": [
      "Review: perbaiki dulu woy pendaftarannya, wajib bayar pajak tapi nyusahin di pendaftaran hadeh\n"
     ]
    },
    {
     "name": "stdin",
     "output_type": "stream",
     "text": [
      "Masukkan label (Positive, Negative, Neutral) Negative\n"
     ]
    },
    {
     "name": "stdout",
     "output_type": "stream",
     "text": [
      "Review: Aplikasi sampah, buat login aja susah\n"
     ]
    },
    {
     "name": "stdin",
     "output_type": "stream",
     "text": [
      "Masukkan label (Positive, Negative, Neutral) Negative\n"
     ]
    },
    {
     "name": "stdout",
     "output_type": "stream",
     "text": [
      "Review: User sdh terdaftar tapi mau login gagal terus Padahal aplikasi punya pemerintah, tp kok gini amat 🙄\n"
     ]
    },
    {
     "name": "stdin",
     "output_type": "stream",
     "text": [
      "Masukkan label (Positive, Negative, Neutral) Negative\n"
     ]
    },
    {
     "name": "stdout",
     "output_type": "stream",
     "text": [
      "Review: Baru aja dibuka udah force close.. Sm j2 prime betulin android 6\n"
     ]
    },
    {
     "name": "stdin",
     "output_type": "stream",
     "text": [
      "Masukkan label (Positive, Negative, Neutral) Negative\n"
     ]
    },
    {
     "name": "stdout",
     "output_type": "stream",
     "text": [
      "Review: Harusnya mempermudah, tapi ini justru mempersulit. Kenapa susah sekali login, padahal sudah jelas benar email sama paswordnya\n"
     ]
    },
    {
     "name": "stdin",
     "output_type": "stream",
     "text": [
      "Masukkan label (Positive, Negative, Neutral) Negative\n"
     ]
    },
    {
     "name": "stdout",
     "output_type": "stream",
     "text": [
      "Review: Gak bisa dipakai masih bagus yg sebelumnya\n"
     ]
    },
    {
     "name": "stdin",
     "output_type": "stream",
     "text": [
      "Masukkan label (Positive, Negative, Neutral) Negative\n"
     ]
    },
    {
     "name": "stdout",
     "output_type": "stream",
     "text": [
      "Review: pajak udah di bayar server malahan lemot parah dasa !\n"
     ]
    },
    {
     "name": "stdin",
     "output_type": "stream",
     "text": [
      "Masukkan label (Positive, Negative, Neutral) Negative\n"
     ]
    },
    {
     "name": "stdout",
     "output_type": "stream",
     "text": [
      "Review: Eror nee aplikasi nyaa dari semalam di tanggal 02/11/2023 sampai hingga saat ini pagi jam 6.26 Hari d tanggal 03/11/2023 gimana kementrian keuangan pengelola Perpajakan??\n"
     ]
    },
    {
     "name": "stdin",
     "output_type": "stream",
     "text": [
      "Masukkan label (Positive, Negative, Neutral) Negative\n"
     ]
    },
    {
     "name": "stdout",
     "output_type": "stream",
     "text": [
      "Review: BUAT APLIKASI RINGAN AJA GABISA.. TOLOL!!!\n"
     ]
    },
    {
     "name": "stdin",
     "output_type": "stream",
     "text": [
      "Masukkan label (Positive, Negative, Neutral) Negative\n"
     ]
    },
    {
     "name": "stdout",
     "output_type": "stream",
     "text": [
      "Review: blum apa2 udah app error, pasti bukan w doang yg heran kenapa aplikasi buatan pemerintah yang harusnya bagus malah jadi abal2 begini, pihak pengembang yang serius lah bikin aplikasi besar begini, ini lebih mirip aplikasi yang masih Alpha version.. tingkatkan lagi,nanti kalo udah jelas, baru dirilis ulang!!!!!!\n"
     ]
    },
    {
     "name": "stdin",
     "output_type": "stream",
     "text": [
      "Masukkan label (Positive, Negative, Neutral) Negative\n"
     ]
    },
    {
     "name": "stdout",
     "output_type": "stream",
     "text": [
      "Review: 02/11/2023 tumbang server ga bisa akses , server negara\n"
     ]
    },
    {
     "name": "stdin",
     "output_type": "stream",
     "text": [
      "Masukkan label (Positive, Negative, Neutral) Negative\n"
     ]
    },
    {
     "name": "stdout",
     "output_type": "stream",
     "text": [
      "Review: kom\n"
     ]
    },
    {
     "name": "stdin",
     "output_type": "stream",
     "text": [
      "Masukkan label (Positive, Negative, Neutral) Neutral\n"
     ]
    },
    {
     "name": "stdout",
     "output_type": "stream",
     "text": [
      "Review: Kode Vertifikasi kok lama banget\n"
     ]
    },
    {
     "name": "stdin",
     "output_type": "stream",
     "text": [
      "Masukkan label (Positive, Negative, Neutral) Negative\n"
     ]
    },
    {
     "name": "stdout",
     "output_type": "stream",
     "text": [
      "Review: Bikin web yang bener , kalo gk bisa di akses gausah bikin , makannya jangan kebanyakan d korup jadi nya gk maksimal\n"
     ]
    },
    {
     "name": "stdin",
     "output_type": "stream",
     "text": [
      "Masukkan label (Positive, Negative, Neutral) Negative\n"
     ]
    },
    {
     "name": "stdout",
     "output_type": "stream",
     "text": [
      "Review: APLIKASI APA SIH SEBENERNYA INI HADEUHHHHHH, sebesar itu nama djp, tapi bikin apk kok begini 🥲\n"
     ]
    },
    {
     "name": "stdin",
     "output_type": "stream",
     "text": [
      "Masukkan label (Positive, Negative, Neutral) Negative\n"
     ]
    },
    {
     "name": "stdout",
     "output_type": "stream",
     "text": [
      "Review: Jadi jelek dang gak guna karena nggak bisa dipakai. Masih mending dulu, walaupun harus ribet berulang kali login kalau mau pake. Berharap pembenahan tapi kayaknya mustahil. Terlihat dari rating yang nggak sampai 3.\n"
     ]
    },
    {
     "name": "stdin",
     "output_type": "stream",
     "text": [
      "Masukkan label (Positive, Negative, Neutral) Negative\n"
     ]
    },
    {
     "name": "stdout",
     "output_type": "stream",
     "text": [
      "Review: Aplikasi Tidak Bisa Login,Di Chrome Bisa...Bisa Buat Aplikasi Tidak\n"
     ]
    },
    {
     "name": "stdin",
     "output_type": "stream",
     "text": [
      "Masukkan label (Positive, Negative, Neutral) Negative\n"
     ]
    },
    {
     "name": "stdout",
     "output_type": "stream",
     "text": [
      "Review: Tolong di perbaiki, kadang eror di saat mau login\n"
     ]
    },
    {
     "name": "stdin",
     "output_type": "stream",
     "text": [
      "Masukkan label (Positive, Negative, Neutral) Negative\n"
     ]
    },
    {
     "name": "stdout",
     "output_type": "stream",
     "text": [
      "Review: Sangat sangat 👎, tidak bisa di akses\n"
     ]
    },
    {
     "name": "stdin",
     "output_type": "stream",
     "text": [
      "Masukkan label (Positive, Negative, Neutral) Negative\n"
     ]
    },
    {
     "name": "stdout",
     "output_type": "stream",
     "text": [
      "Review: Apk erros terus untuk pemutahiran nik ja dan pelaporan SPT ngga tau yg mana\n"
     ]
    },
    {
     "name": "stdin",
     "output_type": "stream",
     "text": [
      "Masukkan label (Positive, Negative, Neutral) Negative\n"
     ]
    },
    {
     "name": "stdout",
     "output_type": "stream",
     "text": [
      "Review: Udh diklik tetap aja ga masuk\" Server eror terus masa?\n"
     ]
    },
    {
     "name": "stdin",
     "output_type": "stream",
     "text": [
      "Masukkan label (Positive, Negative, Neutral) Negative\n"
     ]
    },
    {
     "name": "stdout",
     "output_type": "stream",
     "text": [
      "Review: Apknya jelek bangat\n"
     ]
    },
    {
     "name": "stdin",
     "output_type": "stream",
     "text": [
      "Masukkan label (Positive, Negative, Neutral) Negative\n"
     ]
    },
    {
     "name": "stdout",
     "output_type": "stream",
     "text": [
      "Review: Registrasi sudah berhasil tapi kartu fisik belum di kirim,, dan saya cobak login ulang malah data tidak di temukan.. Payah aplikasi negara kok letoyyyy\n"
     ]
    },
    {
     "name": "stdin",
     "output_type": "stream",
     "text": [
      "Masukkan label (Positive, Negative, Neutral) Negative\n"
     ]
    },
    {
     "name": "stdout",
     "output_type": "stream",
     "text": [
      "Review: mulai kemarin error terus\n"
     ]
    },
    {
     "name": "stdin",
     "output_type": "stream",
     "text": [
      "Masukkan label (Positive, Negative, Neutral) Negative\n"
     ]
    },
    {
     "name": "stdout",
     "output_type": "stream",
     "text": [
      "Review: Tidak bisa mengklik jenis pajak saat membuat kode billing\n"
     ]
    },
    {
     "name": "stdin",
     "output_type": "stream",
     "text": [
      "Masukkan label (Positive, Negative, Neutral) Negative\n"
     ]
    },
    {
     "name": "stdout",
     "output_type": "stream",
     "text": [
      "Review: aplikasi ga guna . mau log in d apk aj gk bisa . note no npwp pasword tidak trdaftar . pdhal msuk d website nya bisa lancar no npwp sma pasword nya udh bener. buat ap d bkin apk klo g bisa d pake . sistem nya apa admin nya yg kerjanya tidur gk d prhtikan perfom dri apk ini . 😂 indah nya negriku\n"
     ]
    },
    {
     "name": "stdin",
     "output_type": "stream",
     "text": [
      "Masukkan label (Positive, Negative, Neutral) Negative\n"
     ]
    },
    {
     "name": "stdout",
     "output_type": "stream",
     "text": [
      "Review: Apk apaan 10kali coba kirim verivikasi aja gak dikirim kirim gak jelas\n"
     ]
    },
    {
     "name": "stdin",
     "output_type": "stream",
     "text": [
      "Masukkan label (Positive, Negative, Neutral) Negative\n"
     ]
    },
    {
     "name": "stdout",
     "output_type": "stream",
     "text": [
      "Review: Wajib\n"
     ]
    },
    {
     "name": "stdin",
     "output_type": "stream",
     "text": [
      "Masukkan label (Positive, Negative, Neutral) Neutral\n"
     ]
    },
    {
     "name": "stdout",
     "output_type": "stream",
     "text": [
      "Review: Aplikasi negara kok begini... Tim ahlinya NGACO\n"
     ]
    },
    {
     "name": "stdin",
     "output_type": "stream",
     "text": [
      "Masukkan label (Positive, Negative, Neutral) Negative\n"
     ]
    },
    {
     "name": "stdout",
     "output_type": "stream",
     "text": [
      "Review: Proses langkah ke 2 selalu gagal..catatannya FLOW TIDAK BENAR ( SESSION TIDAK DITEMUKAN ) ,Aplikasi buatan orang Indonesia ngak ada yang beres...kebanyakan korupsi anggaran biaya😠😠😠😠, masukkan kode captcha salah trus ..yang salah mataku apa yang buat aplikasi nya yah\n"
     ]
    },
    {
     "name": "stdin",
     "output_type": "stream",
     "text": [
      "Masukkan label (Positive, Negative, Neutral) Negative\n"
     ]
    },
    {
     "name": "stdout",
     "output_type": "stream",
     "text": [
      "Review: Mau isi SPT kok susah banget...data sudah di isi pas akhir gagal melulu...banyak bner alasannya....knapa ga di permudah SJ buat pelaporannya...rumit...itu jg lewat web...lewat aplikasi error' tp mlulu...gimana mau jalan perpajakan..klo mau lapor SJ sudah susah\n"
     ]
    },
    {
     "name": "stdin",
     "output_type": "stream",
     "text": [
      "Masukkan label (Positive, Negative, Neutral) Negative\n"
     ]
    },
    {
     "name": "stdout",
     "output_type": "stream",
     "text": [
      "Review: Tidak bisa di pakai utk lapor pajak aplikasinya. Minta restart trs\n"
     ]
    },
    {
     "name": "stdin",
     "output_type": "stream",
     "text": [
      "Masukkan label (Positive, Negative, Neutral) Negative\n"
     ]
    },
    {
     "name": "stdout",
     "output_type": "stream",
     "text": [
      "Review: Lebih mudah aksesnya\n"
     ]
    },
    {
     "name": "stdin",
     "output_type": "stream",
     "text": [
      "Masukkan label (Positive, Negative, Neutral) Positive\n"
     ]
    },
    {
     "name": "stdout",
     "output_type": "stream",
     "text": [
      "Review: Kaya gak guna aja apknya,, buat cetak kode biling aja gak bisa,,, menunya jg gak lrngkap, banyak yang eror,,,menu menunya jg beberapa dialihkan ke web,,, harusnya sekelas dirjen pajak apk dan layananya harus wajib diperbaiki,,, masyarakat yang udah sadar pentingnya pajak harusnya dipermudah bukan dipersulit bayarnya tau tau dapet surat denda🥴🥴🥴\n"
     ]
    },
    {
     "name": "stdin",
     "output_type": "stream",
     "text": [
      "Masukkan label (Positive, Negative, Neutral) Negative\n"
     ]
    },
    {
     "name": "stdout",
     "output_type": "stream",
     "text": [
      "Review: Good\n"
     ]
    },
    {
     "name": "stdin",
     "output_type": "stream",
     "text": [
      "Masukkan label (Positive, Negative, Neutral) Positive\n"
     ]
    },
    {
     "name": "stdout",
     "output_type": "stream",
     "text": [
      "Review: Aplikasinya gak bisa d operasi kan, coba buat log in pun gak ada respon\n"
     ]
    },
    {
     "name": "stdin",
     "output_type": "stream",
     "text": [
      "Masukkan label (Positive, Negative, Neutral) Negative\n"
     ]
    },
    {
     "name": "stdout",
     "output_type": "stream",
     "text": [
      "Review: Aplikasi jelek, ga bisa masuk\n"
     ]
    },
    {
     "name": "stdin",
     "output_type": "stream",
     "text": [
      "Masukkan label (Positive, Negative, Neutral) Negative\n"
     ]
    },
    {
     "name": "stdout",
     "output_type": "stream",
     "text": [
      "Review: Ok\n"
     ]
    },
    {
     "name": "stdin",
     "output_type": "stream",
     "text": [
      "Masukkan label (Positive, Negative, Neutral) Positive\n"
     ]
    },
    {
     "name": "stdout",
     "output_type": "stream",
     "text": [
      "Review: Pelayanan live chat pajak an IVAN sangat amat burukkkkkkk .....\n"
     ]
    },
    {
     "name": "stdin",
     "output_type": "stream",
     "text": [
      "Masukkan label (Positive, Negative, Neutral) Negative\n"
     ]
    },
    {
     "name": "stdout",
     "output_type": "stream",
     "text": [
      "Review: Mau dapatkan efin karena lupa pasword sudah isi data sesuai ktp tp verifikasi gagal terus. Aplikasi gak guna saya mau bayar bukan mau narik uang pak bu dirjen\n"
     ]
    },
    {
     "name": "stdin",
     "output_type": "stream",
     "text": [
      "Masukkan label (Positive, Negative, Neutral) Negative\n"
     ]
    },
    {
     "name": "stdout",
     "output_type": "stream",
     "text": [
      "Review: Belum berfungsii\n"
     ]
    },
    {
     "name": "stdin",
     "output_type": "stream",
     "text": [
      "Masukkan label (Positive, Negative, Neutral) Negative\n"
     ]
    },
    {
     "name": "stdout",
     "output_type": "stream",
     "text": [
      "Review: Kok verifikasi aku gagal terus, Kalau mau aplikasi ini lancar,cara kerjanya jgn di persulit Mulai dari nama, sampai yg di perlukan sudah semua,dan sudah di pastikan ga ada kesalahan,tapi verifikasi gagal terus 😡😡😡😡😡😡😡😡😡👹👹👹👹👹👹👹👹👹👹👹👹👹👹\n"
     ]
    },
    {
     "name": "stdin",
     "output_type": "stream",
     "text": [
      "Masukkan label (Positive, Negative, Neutral) Negative\n"
     ]
    },
    {
     "name": "stdout",
     "output_type": "stream",
     "text": [
      "Review: Langsung unimstal,, apk CACAT\n"
     ]
    },
    {
     "name": "stdin",
     "output_type": "stream",
     "text": [
      "Masukkan label (Positive, Negative, Neutral) Negative\n"
     ]
    },
    {
     "name": "stdout",
     "output_type": "stream",
     "text": [
      "Review: Gimana masuknya sihh ko salah Mulu eror Mulu padahal udah aktifasi kartu udah ada tapi tetep aja salah Mulu heran\n"
     ]
    },
    {
     "name": "stdin",
     "output_type": "stream",
     "text": [
      "Masukkan label (Positive, Negative, Neutral) Negative\n"
     ]
    },
    {
     "name": "stdout",
     "output_type": "stream",
     "text": [
      "Review: Coba pemerintah tolong rekrut orang yg pintar untuk menjalankan aplikasi ini... ini aplikasi sama sekali tidak berguna kalau begini,... Setiap saya mengajukan nomor efin yg lupa selalu gagal verifikasi nya... sumpah gak ada guna nya aplikasi ini kalau bgini\n"
     ]
    },
    {
     "name": "stdin",
     "output_type": "stream",
     "text": [
      "Masukkan label (Positive, Negative, Neutral) Negative\n"
     ]
    },
    {
     "name": "stdout",
     "output_type": "stream",
     "text": [
      "Review: sangat lambannnnn\n"
     ]
    },
    {
     "name": "stdin",
     "output_type": "stream",
     "text": [
      "Masukkan label (Positive, Negative, Neutral) Negative\n"
     ]
    },
    {
     "name": "stdout",
     "output_type": "stream",
     "text": [
      "Review: Aplikasi terhenti stuck\n"
     ]
    },
    {
     "name": "stdin",
     "output_type": "stream",
     "text": [
      "Masukkan label (Positive, Negative, Neutral) Negative\n"
     ]
    },
    {
     "name": "stdout",
     "output_type": "stream",
     "text": [
      "Review: Ribet tetep aja ujung2nya harus kecabang buat minta efin hanya untuk sekedar login saja,ngakunya terintergrasi dengan nik tapi tetap sampah\n"
     ]
    },
    {
     "name": "stdin",
     "output_type": "stream",
     "text": [
      "Masukkan label (Positive, Negative, Neutral) Negative\n"
     ]
    },
    {
     "name": "stdout",
     "output_type": "stream",
     "text": [
      "Review: Lupa efin tapi saat verifikasi foto gagal terus.\n"
     ]
    },
    {
     "name": "stdin",
     "output_type": "stream",
     "text": [
      "Masukkan label (Positive, Negative, Neutral) Negative\n"
     ]
    },
    {
     "name": "stdout",
     "output_type": "stream",
     "text": [
      "Review: Mantab, tapi kok saya ga bisa nmr minta efin dari apk ini gagal berkali2\n"
     ]
    },
    {
     "name": "stdin",
     "output_type": "stream",
     "text": [
      "Masukkan label (Positive, Negative, Neutral) Negative\n"
     ]
    },
    {
     "name": "stdout",
     "output_type": "stream",
     "text": [
      "Review: kode otp ga masuk2 gjlsss\n"
     ]
    },
    {
     "name": "stdin",
     "output_type": "stream",
     "text": [
      "Masukkan label (Positive, Negative, Neutral) Negative\n"
     ]
    },
    {
     "name": "stdout",
     "output_type": "stream",
     "text": [
      "Review: Apk gk guna.. Pengguna baru. Daftar disini nya gk bisa di klik. mau tau kode EFIN aja ribet banget prasaan lebih dari 10x saya coba.. Jawaban nya undefined terus. Kalo toh ke kantor pajak, untuk apa guna nya APK ini. Kalo kantor pajak dekat dr lokasi kita tak apa.. Ini jauhnya bukan 😡😡😡\n"
     ]
    },
    {
     "name": "stdin",
     "output_type": "stream",
     "text": [
      "Masukkan label (Positive, Negative, Neutral) Negative\n"
     ]
    },
    {
     "name": "stdout",
     "output_type": "stream",
     "text": [
      "Review: Puluhan Verifikasi gagal terus, serius gak di ini aplikasi\n"
     ]
    },
    {
     "name": "stdin",
     "output_type": "stream",
     "text": [
      "Masukkan label (Positive, Negative, Neutral) Negative\n"
     ]
    },
    {
     "name": "stdout",
     "output_type": "stream",
     "text": [
      "Review: NICE & RECOMMENDED\n"
     ]
    },
    {
     "name": "stdin",
     "output_type": "stream",
     "text": [
      "Masukkan label (Positive, Negative, Neutral) Positive\n"
     ]
    },
    {
     "name": "stdout",
     "output_type": "stream",
     "text": [
      "Review: Mending manual datang k kantor pajak, pulang tinggal nunggu kartu fisik npwp, dari pada online tpi tidak berguna, daftar selalu gagal.. mau meng onlinekan npwp lama fisik) pun susah.. sedangkan zaman skrg mesti login k aplikasi dlu\n"
     ]
    },
    {
     "name": "stdin",
     "output_type": "stream",
     "text": [
      "Masukkan label (Positive, Negative, Neutral) Negative\n"
     ]
    },
    {
     "name": "stdout",
     "output_type": "stream",
     "text": [
      "Review: Kenapa saya gagal saat kirim kode padahal saya benar memasukkan kodenya\n"
     ]
    },
    {
     "name": "stdin",
     "output_type": "stream",
     "text": [
      "Masukkan label (Positive, Negative, Neutral) Negative\n"
     ]
    },
    {
     "name": "stdout",
     "output_type": "stream",
     "text": [
      "Review: Aplikasi mudah untuk di aplikasikan.\n"
     ]
    },
    {
     "name": "stdin",
     "output_type": "stream",
     "text": [
      "Masukkan label (Positive, Negative, Neutral) Positive\n"
     ]
    },
    {
     "name": "stdout",
     "output_type": "stream",
     "text": [
      "Review: Rudet cacak dek mayar\n"
     ]
    },
    {
     "name": "stdin",
     "output_type": "stream",
     "text": [
      "Masukkan label (Positive, Negative, Neutral) Negative\n"
     ]
    },
    {
     "name": "stdout",
     "output_type": "stream",
     "text": [
      "Review: Saya mau daftar npwp baru..pas mau daftar d suruh masuk web pendaftaran..udah d isi form nya tp pas minta kode otp gak ada sms masuk ke no saya..udah bberapa x d coba tetep gk bisa...perbaiki lagi sistem nya biar bisa lebih mudah\n"
     ]
    },
    {
     "name": "stdin",
     "output_type": "stream",
     "text": [
      "Masukkan label (Positive, Negative, Neutral) Negative\n"
     ]
    },
    {
     "name": "stdout",
     "output_type": "stream",
     "text": [
      "Review: Kok aplikasi pemerintah pada gajelas. Gabisa daftar, gabisa dapet efin. Tapi maksa bayar pajak wkwkwkwk\n"
     ]
    },
    {
     "name": "stdin",
     "output_type": "stream",
     "text": [
      "Masukkan label (Positive, Negative, Neutral) Negative\n"
     ]
    },
    {
     "name": "stdout",
     "output_type": "stream",
     "text": [
      "Review: Gagal trus apk ga layak\n"
     ]
    },
    {
     "name": "stdin",
     "output_type": "stream",
     "text": [
      "Masukkan label (Positive, Negative, Neutral) Negative\n"
     ]
    },
    {
     "name": "stdout",
     "output_type": "stream",
     "text": [
      "Review: Ribet daftar nya Padahal.. Efin sama NPWP sesuai Salah,, salah,, Ganggu kerjaan ajh Lazada ajah cuma 2 menit daftar selesai\n"
     ]
    },
    {
     "name": "stdin",
     "output_type": "stream",
     "text": [
      "Masukkan label (Positive, Negative, Neutral) Negative\n"
     ]
    },
    {
     "name": "stdout",
     "output_type": "stream",
     "text": [
      "Review: Ini aplikasi untuk laporan pajak atau cuma buat kode billing aja,gak jelas aplikasinya,klo usah ada kode billing trus lapornya dimna? Polsek,kantor camat,kantor desa,atau kemana?\n"
     ]
    },
    {
     "name": "stdin",
     "output_type": "stream",
     "text": [
      "Masukkan label (Positive, Negative, Neutral) Negative\n"
     ]
    },
    {
     "name": "stdout",
     "output_type": "stream",
     "text": [
      "Review: Sangat betul\n"
     ]
    },
    {
     "name": "stdin",
     "output_type": "stream",
     "text": [
      "Masukkan label (Positive, Negative, Neutral) Positive\n"
     ]
    },
    {
     "name": "stdout",
     "output_type": "stream",
     "text": [
      "Review: Kenapa sih tiap buka aplikasi sll aza kluar lg sndr n tulisannya eror.. Tolong donk diperbaharui agar lbh nyaman pake nya Klo udah bagus saya tambahin ya Bintangnya.. Makasih\n"
     ]
    },
    {
     "name": "stdin",
     "output_type": "stream",
     "text": [
      "Masukkan label (Positive, Negative, Neutral) Negative\n"
     ]
    },
    {
     "name": "stdout",
     "output_type": "stream",
     "text": [
      "Review: Pengajuan lupa efin gk bisa2,gagal terus 😴\n"
     ]
    },
    {
     "name": "stdin",
     "output_type": "stream",
     "text": [
      "Masukkan label (Positive, Negative, Neutral) Negative\n"
     ]
    },
    {
     "name": "stdout",
     "output_type": "stream",
     "text": [
      "Review: Pelayanannya sangat buruk..untuk apa ada layanan online.jika proses lupa efin aja harus dtg ke kantor pajak..k\n"
     ]
    },
    {
     "name": "stdin",
     "output_type": "stream",
     "text": [
      "Masukkan label (Positive, Negative, Neutral) Negative\n"
     ]
    },
    {
     "name": "stdout",
     "output_type": "stream",
     "text": [
      "Review: I like you👍\n"
     ]
    },
    {
     "name": "stdin",
     "output_type": "stream",
     "text": [
      "Masukkan label (Positive, Negative, Neutral) Positive\n"
     ]
    },
    {
     "name": "stdout",
     "output_type": "stream",
     "text": [
      "Review: saya mau mendaftar npwp, tetapi ada kendala di tempat domisli itu kan otomatis di isinya jadinya gak bisa di ganti dari wibsitenya kode pos 71570 harusnya di sini 71572 jadinya saat di tekan lanjut itu gak bisa data tidak di temukan hasilnya mohon di bantu\n"
     ]
    },
    {
     "name": "stdin",
     "output_type": "stream",
     "text": [
      "Masukkan label (Positive, Negative, Neutral) Negative\n"
     ]
    },
    {
     "name": "stdout",
     "output_type": "stream",
     "text": [
      "Review: Ribet!!!! jadi faham ma kerjanya pd bobrok semua!!!\n"
     ]
    },
    {
     "name": "stdin",
     "output_type": "stream",
     "text": [
      "Masukkan label (Positive, Negative, Neutral) Negative\n"
     ]
    },
    {
     "name": "stdout",
     "output_type": "stream",
     "text": [
      "Review: Ok\n"
     ]
    },
    {
     "name": "stdin",
     "output_type": "stream",
     "text": [
      "Masukkan label (Positive, Negative, Neutral) Positive\n"
     ]
    },
    {
     "name": "stdout",
     "output_type": "stream",
     "text": [
      "Review: Pas daftar krim kodenya lama, klau salah cepat dapat info salahnya tapi klau benar tiba\" Heng lalot ,,, perasaan daftar aplikasi lain lancar jaya sekalinya daftar berkas negara pasti dipersulit entah dari oknum maupun aplikasi nge heng🫢\n"
     ]
    },
    {
     "name": "stdin",
     "output_type": "stream",
     "text": [
      "Masukkan label (Positive, Negative, Neutral) Negative\n"
     ]
    },
    {
     "name": "stdout",
     "output_type": "stream",
     "text": [
      "Review: error\n"
     ]
    },
    {
     "name": "stdin",
     "output_type": "stream",
     "text": [
      "Masukkan label (Positive, Negative, Neutral) Negative\n"
     ]
    },
    {
     "name": "stdout",
     "output_type": "stream",
     "text": [
      "Review: Gae akun e angel eram gak ndang dadi² ngentekne pulsa tok cok!\n"
     ]
    },
    {
     "name": "stdin",
     "output_type": "stream",
     "text": [
      "Masukkan label (Positive, Negative, Neutral) Negative\n"
     ]
    },
    {
     "name": "stdout",
     "output_type": "stream",
     "text": [
      "Review: Sangat membantu\n"
     ]
    },
    {
     "name": "stdin",
     "output_type": "stream",
     "text": [
      "Masukkan label (Positive, Negative, Neutral) Positive\n"
     ]
    },
    {
     "name": "stdout",
     "output_type": "stream",
     "text": [
      "Review: Ribet banget\n"
     ]
    },
    {
     "name": "stdin",
     "output_type": "stream",
     "text": [
      "Masukkan label (Positive, Negative, Neutral) Negative\n"
     ]
    },
    {
     "name": "stdout",
     "output_type": "stream",
     "text": [
      "Review: Mau daftar aja ribet kali....\n"
     ]
    },
    {
     "name": "stdin",
     "output_type": "stream",
     "text": [
      "Masukkan label (Positive, Negative, Neutral) Negative\n"
     ]
    },
    {
     "name": "stdout",
     "output_type": "stream",
     "text": [
      "Review: \"KEMUDAHAN\" APANYA ,,INI BUAT ORANG YANG BELUM SAMA SEKALI PUNYA NPWP MAU DAFTAR SUSAH BANGAT ,,MANA SERVER DI WEB GAJELAS ,,KADANG NOMOR NPWP CABANGNYA SALAH KADANG BENER\n"
     ]
    },
    {
     "name": "stdin",
     "output_type": "stream",
     "text": [
      "Masukkan label (Positive, Negative, Neutral) Negative\n"
     ]
    },
    {
     "name": "stdout",
     "output_type": "stream",
     "text": [
      "Review: Dari 2022- sampai 2023, mau login di DJP ,onlain ko status eror Mulu,nh tak coba lagi 29-09-2023,kirain dah beres , sandi dah benar, klik ganti sandi malah kaga bisa ,ini gimana pak/Bu ,apa sudah di buat onlain buat laporan SPT,untuk mempermudah masa masih di persulit juga, harus tetap juga ke kantornya taaah . Okelah saya akui pas bikin NPWP ,sangat mudah karena covid kali yah bikin lewat onlain 2 hari jadi di Anter Ama tukang pos\n"
     ]
    },
    {
     "name": "stdin",
     "output_type": "stream",
     "text": [
      "Masukkan label (Positive, Negative, Neutral) Negative\n"
     ]
    },
    {
     "name": "stdout",
     "output_type": "stream",
     "text": [
      "Review: Gabisa login\n"
     ]
    },
    {
     "name": "stdin",
     "output_type": "stream",
     "text": [
      "Masukkan label (Positive, Negative, Neutral) Negative\n"
     ]
    },
    {
     "name": "stdout",
     "output_type": "stream",
     "text": [
      "Review: bikin emosi sekali, udah banyak captcha ngelag parah, udah gitu gabisa login daritadi anj emg\n"
     ]
    },
    {
     "name": "stdin",
     "output_type": "stream",
     "text": [
      "Masukkan label (Positive, Negative, Neutral) Negative\n"
     ]
    },
    {
     "name": "stdout",
     "output_type": "stream",
     "text": [
      "Review: Cuma mau minta nomor efin , pas isi data salahan mulu padahal udah sesuai 😴\n"
     ]
    },
    {
     "name": "stdin",
     "output_type": "stream",
     "text": [
      "Masukkan label (Positive, Negative, Neutral) Negative\n"
     ]
    },
    {
     "name": "stdout",
     "output_type": "stream",
     "text": [
      "Review: Sangat mengecewakan, sangat sulit di operasikan, sangat ribet dan sama sekali tidak efisien, padahal apk pemerintah, seharusnya membantu, ini sangat mempersulit, bagaimana orang mau taat pajak kalaw sulit bgini, tolong d evaluasi bpk2,\n"
     ]
    },
    {
     "name": "stdin",
     "output_type": "stream",
     "text": [
      "Masukkan label (Positive, Negative, Neutral) Negative\n"
     ]
    },
    {
     "name": "stdout",
     "output_type": "stream",
     "text": [
      "Review: Pengalaman kali pertama pengunaan aplikasi namun saya agak kesulitan utk masuk\n"
     ]
    },
    {
     "name": "stdin",
     "output_type": "stream",
     "text": [
      "Masukkan label (Positive, Negative, Neutral) Negative\n"
     ]
    },
    {
     "name": "stdout",
     "output_type": "stream",
     "text": [
      "Review: Bikin aplikasi yang bener lah\n"
     ]
    },
    {
     "name": "stdin",
     "output_type": "stream",
     "text": [
      "Masukkan label (Positive, Negative, Neutral) Negative\n"
     ]
    },
    {
     "name": "stdout",
     "output_type": "stream",
     "text": [
      "Review: Aplikasi gak jelas... EFIN EFIN apaan lah Mending kalo mudah buat dapetinnya lagi ini mah prosedurnya repot... Ga bisa bikin sistem gaya\"an mau secara online.. SAMPAHHHH\n"
     ]
    },
    {
     "name": "stdin",
     "output_type": "stream",
     "text": [
      "Masukkan label (Positive, Negative, Neutral) Negative\n"
     ]
    },
    {
     "name": "stdout",
     "output_type": "stream",
     "text": [
      "Review: Semangat Indonesiaku, aplikasi nya gaada yang bisa membantu\n"
     ]
    },
    {
     "name": "stdin",
     "output_type": "stream",
     "text": [
      "Masukkan label (Positive, Negative, Neutral) Negative\n"
     ]
    },
    {
     "name": "stdout",
     "output_type": "stream",
     "text": [
      "Review: Parahhh gabisa login d web bisa 😭\n"
     ]
    },
    {
     "name": "stdin",
     "output_type": "stream",
     "text": [
      "Masukkan label (Positive, Negative, Neutral) Negative\n"
     ]
    },
    {
     "name": "stdout",
     "output_type": "stream",
     "text": [
      "Review: Sudah mau login selalu email dan password nda sesui ,padahal udah cocok !!!!\n"
     ]
    },
    {
     "name": "stdin",
     "output_type": "stream",
     "text": [
      "Masukkan label (Positive, Negative, Neutral) Negative\n"
     ]
    },
    {
     "name": "stdout",
     "output_type": "stream",
     "text": [
      "Review: Ribet tgl kirim otp aja paje syarat ga bs krtu axis xl tri aneh\n"
     ]
    },
    {
     "name": "stdin",
     "output_type": "stream",
     "text": [
      "Masukkan label (Positive, Negative, Neutral) Negative\n"
     ]
    },
    {
     "name": "stdout",
     "output_type": "stream",
     "text": [
      "Review: Gini amat aplikasi bug sana sini\n"
     ]
    },
    {
     "name": "stdin",
     "output_type": "stream",
     "text": [
      "Masukkan label (Positive, Negative, Neutral) Negative\n"
     ]
    },
    {
     "name": "stdout",
     "output_type": "stream",
     "text": [
      "Review: Apaan sihh apk gajelas mau daftar juga gabisa di klik daftar npwp nya duhh\n"
     ]
    },
    {
     "name": "stdin",
     "output_type": "stream",
     "text": [
      "Masukkan label (Positive, Negative, Neutral) Negative\n"
     ]
    },
    {
     "name": "stdout",
     "output_type": "stream",
     "text": [
      "Review: Mantul\n"
     ]
    },
    {
     "name": "stdin",
     "output_type": "stream",
     "text": [
      "Masukkan label (Positive, Negative, Neutral) Positive\n"
     ]
    },
    {
     "name": "stdout",
     "output_type": "stream",
     "text": [
      "Review: Pas udah ngisi semua mala gagal\n"
     ]
    },
    {
     "name": "stdin",
     "output_type": "stream",
     "text": [
      "Masukkan label (Positive, Negative, Neutral) Negative\n"
     ]
    },
    {
     "name": "stdout",
     "output_type": "stream",
     "text": [
      "Review: GK jelas pdhl lupa password sama efin pngn rubah Kya nya ribet amat udh ikutin semua step malah error' di ending nya padahal udh sesuai klo gini jdi males bayar pajak heran mau lapor juga ribet gbs ubah password\n"
     ]
    },
    {
     "name": "stdin",
     "output_type": "stream",
     "text": [
      "Masukkan label (Positive, Negative, Neutral) Negative\n"
     ]
    },
    {
     "name": "stdout",
     "output_type": "stream",
     "text": [
      "Review: Loginya gagal bae\n"
     ]
    },
    {
     "name": "stdin",
     "output_type": "stream",
     "text": [
      "Masukkan label (Positive, Negative, Neutral) Negative\n"
     ]
    },
    {
     "name": "stdout",
     "output_type": "stream",
     "text": [
      "Review: Membantu\n"
     ]
    },
    {
     "name": "stdin",
     "output_type": "stream",
     "text": [
      "Masukkan label (Positive, Negative, Neutral) Positive\n"
     ]
    },
    {
     "name": "stdout",
     "output_type": "stream",
     "text": [
      "Review: Coba dulu\n"
     ]
    },
    {
     "name": "stdin",
     "output_type": "stream",
     "text": [
      "Masukkan label (Positive, Negative, Neutral) Neutral\n"
     ]
    },
    {
     "name": "stdout",
     "output_type": "stream",
     "text": [
      "Review: Redownload\n"
     ]
    },
    {
     "name": "stdin",
     "output_type": "stream",
     "text": [
      "Masukkan label (Positive, Negative, Neutral) Neutral\n"
     ]
    },
    {
     "name": "stdout",
     "output_type": "stream",
     "text": [
      "Review: Buat bayar pajak aja di persulit, Layanan untuk OTP Tri tidak tersedia\n"
     ]
    },
    {
     "name": "stdin",
     "output_type": "stream",
     "text": [
      "Masukkan label (Positive, Negative, Neutral) Negative\n"
     ]
    },
    {
     "name": "stdout",
     "output_type": "stream",
     "text": [
      "Review: Lemot sekali bisa di perbaiki tidak kalau tidak hapus saja aplikasi ini !!\n"
     ]
    },
    {
     "name": "stdin",
     "output_type": "stream",
     "text": [
      "Masukkan label (Positive, Negative, Neutral) Negative\n"
     ]
    },
    {
     "name": "stdout",
     "output_type": "stream",
     "text": [
      "Review: Cuk kimay pajak bikin rakyat bangkrut, bubarkan pajak ulah menteri keuangan anda yg gak benar!!!!, rakyat di bebankan pajak sangat besar.\n"
     ]
    },
    {
     "name": "stdin",
     "output_type": "stream",
     "text": [
      "Masukkan label (Positive, Negative, Neutral) Negative\n"
     ]
    },
    {
     "name": "stdout",
     "output_type": "stream",
     "text": [
      "Review: Ribet otp segala.. Capca segala.. Hadehhb.. Persulit sekali\n"
     ]
    },
    {
     "name": "stdin",
     "output_type": "stream",
     "text": [
      "Masukkan label (Positive, Negative, Neutral) Negative\n"
     ]
    },
    {
     "name": "stdout",
     "output_type": "stream",
     "text": [
      "Review: Baik\n"
     ]
    },
    {
     "name": "stdin",
     "output_type": "stream",
     "text": [
      "Masukkan label (Positive, Negative, Neutral) Positive\n"
     ]
    },
    {
     "name": "stdout",
     "output_type": "stream",
     "text": [
      "Review: Susah login, sudah dapat kode lewat email tetap dianggap salah....\n"
     ]
    },
    {
     "name": "stdin",
     "output_type": "stream",
     "text": [
      "Masukkan label (Positive, Negative, Neutral) Negative\n"
     ]
    },
    {
     "name": "stdout",
     "output_type": "stream",
     "text": [
      "Review: Bagus\n"
     ]
    },
    {
     "name": "stdin",
     "output_type": "stream",
     "text": [
      "Masukkan label (Positive, Negative, Neutral) Positive\n"
     ]
    },
    {
     "name": "stdout",
     "output_type": "stream",
     "text": [
      "Review: penilain buruk semeua\n"
     ]
    },
    {
     "name": "stdin",
     "output_type": "stream",
     "text": [
      "Masukkan label (Positive, Negative, Neutral) Negative\n"
     ]
    },
    {
     "name": "stdout",
     "output_type": "stream",
     "text": [
      "Review: Sistem sangat buruk\n"
     ]
    },
    {
     "name": "stdin",
     "output_type": "stream",
     "text": [
      "Masukkan label (Positive, Negative, Neutral) Negative\n"
     ]
    },
    {
     "name": "stdout",
     "output_type": "stream",
     "text": [
      "Review: Sistem BUSUK!!! tidak mempermudah tapi malah mempersulit hidup!!!\n"
     ]
    },
    {
     "name": "stdin",
     "output_type": "stream",
     "text": [
      "Masukkan label (Positive, Negative, Neutral) Negative\n"
     ]
    },
    {
     "name": "stdout",
     "output_type": "stream",
     "text": [
      "Review: Aplikasi kurang cerdas,saya sudah terdaftar di djp dan sudah sukses,namun setiap mau login di app djp ini sllu aja tertulis npwp/psword salah /errorr.padahal login di web djp lancar2 saja. Gak beres ini aplikasi tolong diperbaiki biar memudah kan costomer mu lg. Saya unistal saja dah.\n"
     ]
    },
    {
     "name": "stdin",
     "output_type": "stream",
     "text": [
      "Masukkan label (Positive, Negative, Neutral) Negative\n"
     ]
    },
    {
     "name": "stdout",
     "output_type": "stream",
     "text": [
      "Review: Alhamdulillah\n"
     ]
    },
    {
     "name": "stdin",
     "output_type": "stream",
     "text": [
      "Masukkan label (Positive, Negative, Neutral) Positive\n"
     ]
    },
    {
     "name": "stdout",
     "output_type": "stream",
     "text": [
      "Review: APLIKASI SAMPAH KAGA BISA DI KLIK DIEM DI LOGIN\n"
     ]
    },
    {
     "name": "stdin",
     "output_type": "stream",
     "text": [
      "Masukkan label (Positive, Negative, Neutral) Negative\n"
     ]
    },
    {
     "name": "stdout",
     "output_type": "stream",
     "text": [
      "Review: Sangat buruk sekali saya mau daftar sudah di bagian verivikasi tidak bisa di klik sama sekali,tolong perbaiki sistem nya\n"
     ]
    },
    {
     "name": "stdin",
     "output_type": "stream",
     "text": [
      "Masukkan label (Positive, Negative, Neutral) Negative\n"
     ]
    },
    {
     "name": "stdout",
     "output_type": "stream",
     "text": [
      "Review: crash dan bug mulu dah\n"
     ]
    },
    {
     "name": "stdin",
     "output_type": "stream",
     "text": [
      "Masukkan label (Positive, Negative, Neutral) Negative\n"
     ]
    },
    {
     "name": "stdout",
     "output_type": "stream",
     "text": [
      "Review: Mohon maaf aplikasi setiap mau daftar kenapa tidak bisa masuk data sudah di kirim dan benar semua kenapa masih error dan gagal terus verifikasi mohon di benarkan\n"
     ]
    },
    {
     "name": "stdin",
     "output_type": "stream",
     "text": [
      "Masukkan label (Positive, Negative, Neutral) Negative\n"
     ]
    },
    {
     "name": "stdout",
     "output_type": "stream",
     "text": [
      "Review: Mantp\n"
     ]
    },
    {
     "name": "stdin",
     "output_type": "stream",
     "text": [
      "Masukkan label (Positive, Negative, Neutral) Positive\n"
     ]
    },
    {
     "name": "stdout",
     "output_type": "stream",
     "text": [
      "Review: Mau masuk aja sulit nya minta ampun , mau buat laporan spt aja sulit nya minta ampun, udah masukin NPWP dan pasword nya salah mulu, minta kode EFIN aja di suruh melengkapi data lagi. Waktu pendaftaran NPWP kn sudah lengkap, aneh\n"
     ]
    },
    {
     "name": "stdin",
     "output_type": "stream",
     "text": [
      "Masukkan label (Positive, Negative, Neutral) Negative\n"
     ]
    },
    {
     "name": "stdout",
     "output_type": "stream",
     "text": [
      "Review: mw bikin npwp aja susah bgt payah👎👎\n"
     ]
    },
    {
     "name": "stdin",
     "output_type": "stream",
     "text": [
      "Masukkan label (Positive, Negative, Neutral) Negative\n"
     ]
    },
    {
     "name": "stdout",
     "output_type": "stream",
     "text": [
      "Review: Mau masuk aja susah,NPWP pisik sudah ada tapi di aplikasi NPWP tidak tercatat\n"
     ]
    },
    {
     "name": "stdin",
     "output_type": "stream",
     "text": [
      "Masukkan label (Positive, Negative, Neutral) Negative\n"
     ]
    },
    {
     "name": "stdout",
     "output_type": "stream",
     "text": [
      "Review: Sangat bagus\n"
     ]
    },
    {
     "name": "stdin",
     "output_type": "stream",
     "text": [
      "Masukkan label (Positive, Negative, Neutral) Positive\n"
     ]
    },
    {
     "name": "stdout",
     "output_type": "stream",
     "text": [
      "Review: Tolong diperbaiki, susah banget untuk login. Padahal sandi sudah bener tapi tidak bisa login. Mau atur ulang sandi tapi ribet nya minta ampun. Yang serius dong !\n"
     ]
    },
    {
     "name": "stdin",
     "output_type": "stream",
     "text": [
      "Masukkan label (Positive, Negative, Neutral) Negative\n"
     ]
    },
    {
     "name": "stdout",
     "output_type": "stream",
     "text": [
      "Review: Sistem CACAT, maksa banget bikin apk begini setengah\", Yang sulit malah makin sulit KOCAK\n"
     ]
    },
    {
     "name": "stdin",
     "output_type": "stream",
     "text": [
      "Masukkan label (Positive, Negative, Neutral) Negative\n"
     ]
    },
    {
     "name": "stdout",
     "output_type": "stream",
     "text": [
      "Review: Input Nama wilayah nya dibikin susah buat nyari\n"
     ]
    },
    {
     "name": "stdin",
     "output_type": "stream",
     "text": [
      "Masukkan label (Positive, Negative, Neutral) Negative\n"
     ]
    },
    {
     "name": "stdout",
     "output_type": "stream",
     "text": [
      "Review: Apk bobrok gk ada fungsi nya,apk itu untuk mempermudah bukan mempersulit tks\n"
     ]
    },
    {
     "name": "stdin",
     "output_type": "stream",
     "text": [
      "Masukkan label (Positive, Negative, Neutral) Negative\n"
     ]
    },
    {
     "name": "stdout",
     "output_type": "stream",
     "text": [
      "Review: Sistem buruk, login sulit, gagal terus. Payah\n"
     ]
    },
    {
     "name": "stdin",
     "output_type": "stream",
     "text": [
      "Masukkan label (Positive, Negative, Neutral) Negative\n"
     ]
    },
    {
     "name": "stdout",
     "output_type": "stream",
     "text": [
      "Review: NEGARA INSTANSI NYA GK BERMUTU. UDAH NARIK IURAN,UPETI,PAJAK... INI PELAYANAN NYA GK LENGKAP. HADUH\n"
     ]
    },
    {
     "name": "stdin",
     "output_type": "stream",
     "text": [
      "Masukkan label (Positive, Negative, Neutral) Negative\n"
     ]
    },
    {
     "name": "stdout",
     "output_type": "stream",
     "text": [
      "Review: G bisa daftar kocak bnget aplikasi jelas g niat bikin aplikasi nya kocak kocak\n"
     ]
    },
    {
     "name": "stdin",
     "output_type": "stream",
     "text": [
      "Masukkan label (Positive, Negative, Neutral) Negative\n"
     ]
    },
    {
     "name": "stdout",
     "output_type": "stream",
     "text": [
      "Review: Salah satu aplikasi dari pemerintah yang sampah, sangat mepersulit....dana terus aja di korupsi buat aplikasi masyarat juga\n"
     ]
    },
    {
     "name": "stdin",
     "output_type": "stream",
     "text": [
      "Masukkan label (Positive, Negative, Neutral) Negative\n"
     ]
    },
    {
     "name": "stdout",
     "output_type": "stream",
     "text": [
      "Review: Di coba berkali2 untuk permohonan efin gagal terus\n"
     ]
    },
    {
     "name": "stdin",
     "output_type": "stream",
     "text": [
      "Masukkan label (Positive, Negative, Neutral) Negative\n"
     ]
    },
    {
     "name": "stdout",
     "output_type": "stream",
     "text": [
      "Review: Ga bisa discrol... Hadeh... Aplikasi gurem. Buat pajak lo ini...\n"
     ]
    },
    {
     "name": "stdin",
     "output_type": "stream",
     "text": [
      "Masukkan label (Positive, Negative, Neutral) Negative\n"
     ]
    },
    {
     "name": "stdout",
     "output_type": "stream",
     "text": [
      "Review: Susah log in , pdhal email sandi udah tercatat & benar ..\n"
     ]
    },
    {
     "name": "stdin",
     "output_type": "stream",
     "text": [
      "Masukkan label (Positive, Negative, Neutral) Negative\n"
     ]
    },
    {
     "name": "stdout",
     "output_type": "stream",
     "text": [
      "Review: Kalau tidak bisa bikin apk pajak, lebih baik tidak usah bikin apk pajak. Saya tekan bikin akun gk bisa, login akun NPWP saya malah gk terdaftar/password salah, saya tekan lupa password pun gk bisa dipencet. Banyak banget kekurangan dari apk ini. Padahal hp saya bagus lho~ ram 8gb rom 256gb tapi buat mengoperasikan apk pajak ini gk bisa sama sekali sumpah.\n"
     ]
    },
    {
     "name": "stdin",
     "output_type": "stream",
     "text": [
      "Masukkan label (Positive, Negative, Neutral) Negative\n"
     ]
    },
    {
     "name": "stdout",
     "output_type": "stream",
     "text": [
      "Review: Kenapa pendaftaran isi formulir ini susah banget ribet. dari semalam Pribadi Nama Email Kata sandi. No hp Otp Pertanyaan pribadi Captcha ( berulang-ulang gak selesai2 ) Pulsa Habis disedot wkwk Nyari2 di sosmed Banyak banget Callo 😆😂 Massa di aplikasi resmi nya rakyat mau di peras juga Tolong dipermudah lagi trimakasih\n"
     ]
    },
    {
     "name": "stdin",
     "output_type": "stream",
     "text": [
      "Masukkan label (Positive, Negative, Neutral) Negative\n"
     ]
    },
    {
     "name": "stdout",
     "output_type": "stream",
     "text": [
      "Review: Jujur saya sangat kecewa , krn apa. Terlalu banyak. Permintaan dan aturan login , haruspake kode efin lah , apalah . Dulu gak Seperti ini Gini kalo terlalu banyak aturan jadinya gak efisien, di. Minta melalui live chat , ada alasan gak tersambung dengan jaringan , Yang ada lah username tidak sesuai jelas2 itu sudah kita masukkan akun sewaktu mendaftar, adalah no npwp tidak terdaftar tapi sudah ada npwp, Gak jelas😡😡😡😡😡😡😡😡😡😡😡😡\n"
     ]
    },
    {
     "name": "stdin",
     "output_type": "stream",
     "text": [
      "Masukkan label (Positive, Negative, Neutral) Negative\n"
     ]
    },
    {
     "name": "stdout",
     "output_type": "stream",
     "text": [
      "Review: susah dan ribet\n"
     ]
    },
    {
     "name": "stdin",
     "output_type": "stream",
     "text": [
      "Masukkan label (Positive, Negative, Neutral) Negative\n"
     ]
    },
    {
     "name": "stdout",
     "output_type": "stream",
     "text": [
      "Review: \"Tidak bisa melanjutkan validasi data\" Saya kira tujuan adanya aplikasi sbg mempermudah registrasi, ternyata semakin mempersulit kondisi. Payah sekali huuuhhhh.....\n"
     ]
    },
    {
     "name": "stdin",
     "output_type": "stream",
     "text": [
      "Masukkan label (Positive, Negative, Neutral) Negative\n"
     ]
    },
    {
     "name": "stdout",
     "output_type": "stream",
     "text": [
      "Review: aplikasi sampah\n"
     ]
    },
    {
     "name": "stdin",
     "output_type": "stream",
     "text": [
      "Masukkan label (Positive, Negative, Neutral) Negative\n"
     ]
    },
    {
     "name": "stdout",
     "output_type": "stream",
     "text": [
      "Review: Onle malah gagal\n"
     ]
    },
    {
     "name": "stdin",
     "output_type": "stream",
     "text": [
      "Masukkan label (Positive, Negative, Neutral) Negative\n"
     ]
    },
    {
     "name": "stdout",
     "output_type": "stream",
     "text": [
      "Review: Aplikasi sampah .... Udah isi data sesuai untuk mendapatkan efin malah di tolak\n"
     ]
    },
    {
     "name": "stdin",
     "output_type": "stream",
     "text": [
      "Masukkan label (Positive, Negative, Neutral) Negative\n"
     ]
    },
    {
     "name": "stdout",
     "output_type": "stream",
     "text": [
      "Review: Mantap\n"
     ]
    },
    {
     "name": "stdin",
     "output_type": "stream",
     "text": [
      "Masukkan label (Positive, Negative, Neutral) Positive\n"
     ]
    },
    {
     "name": "stdout",
     "output_type": "stream",
     "text": [
      "Review: Susah banget minta efin\n"
     ]
    },
    {
     "name": "stdin",
     "output_type": "stream",
     "text": [
      "Masukkan label (Positive, Negative, Neutral) Negative\n"
     ]
    },
    {
     "name": "stdout",
     "output_type": "stream",
     "text": [
      "Review: Saya mau cek efin kg bisa# ya, gagal trs\n"
     ]
    },
    {
     "name": "stdin",
     "output_type": "stream",
     "text": [
      "Masukkan label (Positive, Negative, Neutral) Negative\n"
     ]
    },
    {
     "name": "stdout",
     "output_type": "stream",
     "text": [
      "Review: Verifikasi gagal terus\n"
     ]
    },
    {
     "name": "stdin",
     "output_type": "stream",
     "text": [
      "Masukkan label (Positive, Negative, Neutral) Negative\n"
     ]
    },
    {
     "name": "stdout",
     "output_type": "stream",
     "text": [
      "Review: Terlalu ribet daftarnya dan suka bug saat daftar udh gitu email-nya malah nyangkut terdaftar parah bener\n"
     ]
    },
    {
     "name": "stdin",
     "output_type": "stream",
     "text": [
      "Masukkan label (Positive, Negative, Neutral) Negative\n"
     ]
    },
    {
     "name": "stdout",
     "output_type": "stream",
     "text": [
      "Review: Aplikasi jebol, memalukan pemerintah bobrok, kebanyakan korupsi, kebanyakam utang sampe bengkak, harga2 semuanya jadi pada mahal 10 kali naikim harga bbm, rupiah melemah, segala2nya impor, pupuk dll sulit, najis. amit2.. sue.\n"
     ]
    },
    {
     "name": "stdin",
     "output_type": "stream",
     "text": [
      "Masukkan label (Positive, Negative, Neutral) Negative\n"
     ]
    },
    {
     "name": "stdout",
     "output_type": "stream",
     "text": [
      "Review: SUMPAH GA GUNA BGT.\n"
     ]
    },
    {
     "name": "stdin",
     "output_type": "stream",
     "text": [
      "Masukkan label (Positive, Negative, Neutral) Negative\n"
     ]
    },
    {
     "name": "stdout",
     "output_type": "stream",
     "text": [
      "Review: Aplikasi eror, tidak bisa d buka\n"
     ]
    },
    {
     "name": "stdin",
     "output_type": "stream",
     "text": [
      "Masukkan label (Positive, Negative, Neutral) Negative\n"
     ]
    },
    {
     "name": "stdout",
     "output_type": "stream",
     "text": [
      "Review: Sangat membantu,cukup dari rumah sudah selesai. Cuma saat registrasi tetep harus dipandu google\n"
     ]
    },
    {
     "name": "stdin",
     "output_type": "stream",
     "text": [
      "Masukkan label (Positive, Negative, Neutral) Positive\n"
     ]
    },
    {
     "name": "stdout",
     "output_type": "stream",
     "text": [
      "Review: Baru bikin NPWP Password anda salah Sabar aku kak Harus pake Kode EFIN mau ganti password ^_^ kode EFIN Dateng ke kantor yah ?:) Hehe\n"
     ]
    },
    {
     "name": "stdin",
     "output_type": "stream",
     "text": [
      "Masukkan label (Positive, Negative, Neutral) Negative\n"
     ]
    },
    {
     "name": "stdout",
     "output_type": "stream",
     "text": [
      "Review: Fitur lupa efin gak berfungsi cuma pajangan doang.\n"
     ]
    },
    {
     "name": "stdin",
     "output_type": "stream",
     "text": [
      "Masukkan label (Positive, Negative, Neutral) Negative\n"
     ]
    },
    {
     "name": "stdout",
     "output_type": "stream",
     "text": [
      "Review: Pelayanannya sangat lambat juga ribet seharusnya pendaftaran npwp maupun pengaktifan NPWP tidak harus ribet sepeti ini\n"
     ]
    },
    {
     "name": "stdin",
     "output_type": "stream",
     "text": [
      "Masukkan label (Positive, Negative, Neutral) Negative\n"
     ]
    },
    {
     "name": "stdout",
     "output_type": "stream",
     "text": [
      "Review: Ngak fungsi lupa password ga bisa. Sekelas djp aplikasinya giniamat\n"
     ]
    },
    {
     "name": "stdin",
     "output_type": "stream",
     "text": [
      "Masukkan label (Positive, Negative, Neutral) Negative\n"
     ]
    },
    {
     "name": "stdout",
     "output_type": "stream",
     "text": [
      "Review: Bisa ga di aplikasi penting kaya gini tuh di urusin?\n"
     ]
    },
    {
     "name": "stdin",
     "output_type": "stream",
     "text": [
      "Masukkan label (Positive, Negative, Neutral) Negative\n"
     ]
    },
    {
     "name": "stdout",
     "output_type": "stream",
     "text": [
      "Review: Harusnya bisa bayar pajak langsung di sini, gak perlu bolak balik ke kantor pos/bank\n"
     ]
    },
    {
     "name": "stdin",
     "output_type": "stream",
     "text": [
      "Masukkan label (Positive, Negative, Neutral) Neutral\n"
     ]
    },
    {
     "name": "stdout",
     "output_type": "stream",
     "text": [
      "Review: Aplikaai apaan ini. Percumah di adakan aplikasi kalau ndaftar mesti datang ke kantor mbuang\"- biaya dan waktu. Aplikasi begini pret lahh\n"
     ]
    },
    {
     "name": "stdin",
     "output_type": "stream",
     "text": [
      "Masukkan label (Positive, Negative, Neutral) Negative\n"
     ]
    },
    {
     "name": "stdout",
     "output_type": "stream",
     "text": [
      "Review: Hari ini gak bisa ke buka tiba-tiba keluar sendiri kaya ada error atau bug\n"
     ]
    },
    {
     "name": "stdin",
     "output_type": "stream",
     "text": [
      "Masukkan label (Positive, Negative, Neutral) Negative\n"
     ]
    },
    {
     "name": "stdout",
     "output_type": "stream",
     "text": [
      "Review: Saya baru mendaftarkan npwp online dan sudah jadi ketika saya mau login pada akun npwp saya sudah memasukkan Nomer NPWP NIK dan juga password dengan benar sama sekali tidak bisa sudah coba berulang kali tetap saja gabisa masuk, tolong dong dibenerin sistemnya agar dipermudah yang utama itu setelah terdaftar dan terverifikasi ketika sy mau login ke akun saya malah gabisa dengan keterangan (username dan password salah) dan akun terblokir mksdnya gimana? sy cek npwp sy ada tapi kok login aja gbsa\n"
     ]
    },
    {
     "name": "stdin",
     "output_type": "stream",
     "text": [
      "Masukkan label (Positive, Negative, Neutral) Negative\n"
     ]
    },
    {
     "name": "stdout",
     "output_type": "stream",
     "text": [
      "Review: Persulit aja semua ancur ancur dah makin males gua ngurusinnya\n"
     ]
    },
    {
     "name": "stdin",
     "output_type": "stream",
     "text": [
      "Masukkan label (Positive, Negative, Neutral) Negative\n"
     ]
    },
    {
     "name": "stdout",
     "output_type": "stream",
     "text": [
      "Review: Semoga bisa\n"
     ]
    },
    {
     "name": "stdin",
     "output_type": "stream",
     "text": [
      "Masukkan label (Positive, Negative, Neutral) Positive\n"
     ]
    },
    {
     "name": "stdout",
     "output_type": "stream",
     "text": [
      "Review: Mau bayar pajak untuk negara kok susah kali\n"
     ]
    },
    {
     "name": "stdin",
     "output_type": "stream",
     "text": [
      "Masukkan label (Positive, Negative, Neutral) Negative\n"
     ]
    },
    {
     "name": "stdout",
     "output_type": "stream",
     "text": [
      "Review: Mau update data ke nik.. dipilihan lupa efin nunggu verifikasi nulis 10x gagal terus.. mau bayar pajak aja ribet banget ya.. kalo nggak bayar pajak kita yang disalahin\n"
     ]
    },
    {
     "name": "stdin",
     "output_type": "stream",
     "text": [
      "Masukkan label (Positive, Negative, Neutral) Negative\n"
     ]
    },
    {
     "name": "stdout",
     "output_type": "stream",
     "text": [
      "Review: Pokok nya aplikasi yang berhubungan milik PEMERINTAH gak ada yang BENAR BENAR MEMPERMUDAH. saya bukan orang GAPTEK klo soal LOGIN malah gak bisa MASUK dan TERBLOKIR. saya lakukan berbagai cara dgn mengisi ulang data yg di MINTA malah Bla Bla Bla Bla... Saya bukan menjelekkan PEMERINTAH malah saya BANGGA menjadi WNI. Tp klo aplikasi milik pemerintah KEBANYAKAN SAMPAH mempersulit MASYARAKAT nya. Masyarakat sdh TAAT tp aplikasi nya MEMPERBURUK keadaan.\n"
     ]
    },
    {
     "name": "stdin",
     "output_type": "stream",
     "text": [
      "Masukkan label (Positive, Negative, Neutral) Negative\n"
     ]
    },
    {
     "name": "stdout",
     "output_type": "stream",
     "text": [
      "Review: Untuk daftar npwp aja syulit\n"
     ]
    },
    {
     "name": "stdin",
     "output_type": "stream",
     "text": [
      "Masukkan label (Positive, Negative, Neutral) Negative\n"
     ]
    },
    {
     "name": "stdout",
     "output_type": "stream",
     "text": [
      "Review: Buruk\n"
     ]
    },
    {
     "name": "stdin",
     "output_type": "stream",
     "text": [
      "Masukkan label (Positive, Negative, Neutral) Negative\n"
     ]
    },
    {
     "name": "stdout",
     "output_type": "stream",
     "text": [
      "Review: Terima kasih M-Pajak\n"
     ]
    },
    {
     "name": "stdin",
     "output_type": "stream",
     "text": [
      "Masukkan label (Positive, Negative, Neutral) Positive\n"
     ]
    },
    {
     "name": "stdout",
     "output_type": "stream",
     "text": [
      "Review: Sekedar masukan aja untuk developernya tolong diperbaiki masa login lewat aplikasi kata sandi nya salah terus sedangkan lewat web bisa,terpaksa di uninstal dulu\n"
     ]
    },
    {
     "name": "stdin",
     "output_type": "stream",
     "text": [
      "Masukkan label (Positive, Negative, Neutral) Negative\n"
     ]
    },
    {
     "name": "stdout",
     "output_type": "stream",
     "text": [
      "Review: SEMUA PRODUK APLIKASI DALAM NEGERI AMPASS. GITU NYURUH ANAK BANGSA BUAT APLIKASI MANDIRI? KALIAN YANG DI BIAYAIN NEGARA AJA KERJA GA BECUS 3 KALI DAFTAR VERIFIKASI GAGAL. DATA SUDAH SESUAI KTP, APK RUSAKKK\n"
     ]
    },
    {
     "name": "stdin",
     "output_type": "stream",
     "text": [
      "Masukkan label (Positive, Negative, Neutral) Negative\n"
     ]
    },
    {
     "name": "stdout",
     "output_type": "stream",
     "text": [
      "Review: Ok\n"
     ]
    },
    {
     "name": "stdin",
     "output_type": "stream",
     "text": [
      "Masukkan label (Positive, Negative, Neutral) Positive\n"
     ]
    },
    {
     "name": "stdout",
     "output_type": "stream",
     "text": [
      "Review: Buruk sekali\n"
     ]
    },
    {
     "name": "stdin",
     "output_type": "stream",
     "text": [
      "Masukkan label (Positive, Negative, Neutral) Negative\n"
     ]
    },
    {
     "name": "stdout",
     "output_type": "stream",
     "text": [
      "Review: Jaman digital bro,pake fitur lupa EFIN dah sesuai semua,malah gagal gagal terus ga jelas emang lah\n"
     ]
    },
    {
     "name": "stdin",
     "output_type": "stream",
     "text": [
      "Masukkan label (Positive, Negative, Neutral) Negative\n"
     ]
    },
    {
     "name": "stdout",
     "output_type": "stream",
     "text": [
      "Review: Maunya apa sih lu.? Instansi sekelas pemerintah negara tapi abal , maknya jangan banyak\" Korupsi ribet banget ngurus gini doang\n"
     ]
    },
    {
     "name": "stdin",
     "output_type": "stream",
     "text": [
      "Masukkan label (Positive, Negative, Neutral) Negative\n"
     ]
    },
    {
     "name": "stdout",
     "output_type": "stream",
     "text": [
      "Review: mana SMS verifikasi nunggu lama lama\n"
     ]
    },
    {
     "name": "stdin",
     "output_type": "stream",
     "text": [
      "Masukkan label (Positive, Negative, Neutral) Negative\n"
     ]
    },
    {
     "name": "stdout",
     "output_type": "stream",
     "text": [
      "Review: Aplikasi pemerintah meresahkan semua tapi gaji yang buat di luar nurul\n"
     ]
    },
    {
     "name": "stdin",
     "output_type": "stream",
     "text": [
      "Masukkan label (Positive, Negative, Neutral) Negative\n"
     ]
    },
    {
     "name": "stdout",
     "output_type": "stream",
     "text": [
      "Review: Akibat banyak koruptor ...mau memberi uang aja sulit...nasib2 NKRI\n"
     ]
    },
    {
     "name": "stdin",
     "output_type": "stream",
     "text": [
      "Masukkan label (Positive, Negative, Neutral) Negative\n"
     ]
    },
    {
     "name": "stdout",
     "output_type": "stream",
     "text": [
      "Review: Ini aplikasi pemerintah tapi kok tidak berjalan dengan baik ya. Tidak memudahkan sama sekali. Mau daftar pakai email aja, email nya huruf kecil semua dia formatnya huruf besar semua. Hahahaha. Gimana ini dong, ngisinya? Verifikasi emailnya ga masuk-masuk ini\n"
     ]
    },
    {
     "name": "stdin",
     "output_type": "stream",
     "text": [
      "Masukkan label (Positive, Negative, Neutral) Negative\n"
     ]
    },
    {
     "name": "stdout",
     "output_type": "stream",
     "text": [
      "Review: Top\n"
     ]
    },
    {
     "name": "stdin",
     "output_type": "stream",
     "text": [
      "Masukkan label (Positive, Negative, Neutral) Positive\n"
     ]
    },
    {
     "name": "stdout",
     "output_type": "stream",
     "text": [
      "Review: Ok jga untuk mengurangi penyimpangan pjak\n"
     ]
    },
    {
     "name": "stdin",
     "output_type": "stream",
     "text": [
      "Masukkan label (Positive, Negative, Neutral) Positive\n"
     ]
    },
    {
     "name": "stdout",
     "output_type": "stream",
     "text": [
      "Review: Ampuuuuuun dah, web dan apk sama aja email riset pin. sampai ulasan ini aku buat udah 10 x permohonan riset pin namun email riset pin gak kunjung di kirim. Kerja bagus untuk petugas dan system djb,.salut saya😘😘😘😘😘🤩🤩🤩🤩🤭🤭🤭🫢🫢\n"
     ]
    },
    {
     "name": "stdin",
     "output_type": "stream",
     "text": [
      "Masukkan label (Positive, Negative, Neutral) Negative\n"
     ]
    },
    {
     "name": "stdout",
     "output_type": "stream",
     "text": [
      "Review: Cuma blank putih saja. Ngabisin kuota sia sia\n"
     ]
    },
    {
     "name": "stdin",
     "output_type": "stream",
     "text": [
      "Masukkan label (Positive, Negative, Neutral) Negative\n"
     ]
    },
    {
     "name": "stdout",
     "output_type": "stream",
     "text": [
      "Review: Buruk banget, Baru bikin akun npwp otp susah, udh bisa bikin npwp ga bisa masuk akunnya, Password salah lah, d reset bbrpa kali tetep gabisa, d cek npwpnya tidak terdaftar, ga ngerti sistemnya gmna, ganiat bikin online ini sih mempersulit bukan mempermudah\n"
     ]
    },
    {
     "name": "stdin",
     "output_type": "stream",
     "text": [
      "Masukkan label (Positive, Negative, Neutral) Negative\n"
     ]
    },
    {
     "name": "stdout",
     "output_type": "stream",
     "text": [
      "Review: GAJELASS GAPCHA NYAAA,salahh muluuuuu perbarui lah APK bknny mempermudah malah mempersulit!!!\n"
     ]
    },
    {
     "name": "stdin",
     "output_type": "stream",
     "text": [
      "Masukkan label (Positive, Negative, Neutral) Negative\n"
     ]
    },
    {
     "name": "stdout",
     "output_type": "stream",
     "text": [
      "Review: sangat membantu dan mudah digunakan 🙏\n"
     ]
    },
    {
     "name": "stdin",
     "output_type": "stream",
     "text": [
      "Masukkan label (Positive, Negative, Neutral) Positive\n"
     ]
    },
    {
     "name": "stdout",
     "output_type": "stream",
     "text": [
      "Review: Data udah bener tapi gagal di input\n"
     ]
    },
    {
     "name": "stdin",
     "output_type": "stream",
     "text": [
      "Masukkan label (Positive, Negative, Neutral) Negative\n"
     ]
    },
    {
     "name": "stdout",
     "output_type": "stream",
     "text": [
      "Review: tidak menyediakan fitur nomor tidak aktif dikarenakan sudah tidak aktif dan gada fitur live chat cs, malah hrus nelpon telpon kantor🤦🏻‍♂️\n"
     ]
    },
    {
     "name": "stdin",
     "output_type": "stream",
     "text": [
      "Masukkan label (Positive, Negative, Neutral) Negative\n"
     ]
    },
    {
     "name": "stdout",
     "output_type": "stream",
     "text": [
      "Review: Penting,,,\n"
     ]
    },
    {
     "name": "stdin",
     "output_type": "stream",
     "text": [
      "Masukkan label (Positive, Negative, Neutral) Positive\n"
     ]
    },
    {
     "name": "stdout",
     "output_type": "stream",
     "text": [
      "Review: Aplikasi abal² alamat udah sesuai sm KTP.tp verifikasi gagal terus.nanan ah ngapain juga ganti no npwp ke nik.klo sistem ga bagus....\n"
     ]
    },
    {
     "name": "stdin",
     "output_type": "stream",
     "text": [
      "Masukkan label (Positive, Negative, Neutral) Negative\n"
     ]
    },
    {
     "name": "stdout",
     "output_type": "stream",
     "text": [
      "Review: Aplikasi parah\n"
     ]
    },
    {
     "name": "stdin",
     "output_type": "stream",
     "text": [
      "Masukkan label (Positive, Negative, Neutral) Negative\n"
     ]
    },
    {
     "name": "stdout",
     "output_type": "stream",
     "text": [
      "Review: Mau daftar NPWP kok susah banget OTP nya gak datang-datang padahal udah di coba berkali-kali\n"
     ]
    },
    {
     "name": "stdin",
     "output_type": "stream",
     "text": [
      "Masukkan label (Positive, Negative, Neutral) Negative\n"
     ]
    },
    {
     "name": "stdout",
     "output_type": "stream",
     "text": [
      "Review: Nyesal Download, auto unistal\n"
     ]
    },
    {
     "name": "stdin",
     "output_type": "stream",
     "text": [
      "Masukkan label (Positive, Negative, Neutral) Negative\n"
     ]
    },
    {
     "name": "stdout",
     "output_type": "stream",
     "text": [
      "Review: Gimana klo lupa efin trus nomer nya udah gak aktif lagi, sumpah hiduo dinindonesia sulit banget tiap tahun gak bisa lapor pajak jadinya di kenain denda muku tiap tahunya padahal disini lagi nganggur\n"
     ]
    },
    {
     "name": "stdin",
     "output_type": "stream",
     "text": [
      "Masukkan label (Positive, Negative, Neutral) Negative\n"
     ]
    },
    {
     "name": "stdout",
     "output_type": "stream",
     "text": [
      "Review: Sangat mempersulit\n"
     ]
    },
    {
     "name": "stdin",
     "output_type": "stream",
     "text": [
      "Masukkan label (Positive, Negative, Neutral) Negative\n"
     ]
    },
    {
     "name": "stdout",
     "output_type": "stream",
     "text": [
      "Review: Sungguh tidak berpungsi,,\n"
     ]
    },
    {
     "name": "stdin",
     "output_type": "stream",
     "text": [
      "Masukkan label (Positive, Negative, Neutral) Negative\n"
     ]
    },
    {
     "name": "stdout",
     "output_type": "stream",
     "text": [
      "Review: Proses daftar lama\n"
     ]
    },
    {
     "name": "stdin",
     "output_type": "stream",
     "text": [
      "Masukkan label (Positive, Negative, Neutral) Negative\n"
     ]
    },
    {
     "name": "stdout",
     "output_type": "stream",
     "text": [
      "Review: Susah skli Dftar smpai k lngkah 2, rquest OTP ggal2 trus Pdhal krtu sim aktiv, jg ad plsa, pkai krtu tlkomsel jg, urus d kkp trdkat gk bisa bntu hrus ssuai wilyah KTP msak cman urus kita byar pjak msih d prsulit\n"
     ]
    },
    {
     "name": "stdin",
     "output_type": "stream",
     "text": [
      "Masukkan label (Positive, Negative, Neutral) Negative\n"
     ]
    },
    {
     "name": "stdout",
     "output_type": "stream",
     "text": [
      "Review: Aplikasi ndak ada gunanya\n"
     ]
    },
    {
     "name": "stdin",
     "output_type": "stream",
     "text": [
      "Masukkan label (Positive, Negative, Neutral) Negative\n"
     ]
    },
    {
     "name": "stdout",
     "output_type": "stream",
     "text": [
      "Review: Terlalu ribet\n"
     ]
    },
    {
     "name": "stdin",
     "output_type": "stream",
     "text": [
      "Masukkan label (Positive, Negative, Neutral) Negative\n"
     ]
    },
    {
     "name": "stdout",
     "output_type": "stream",
     "text": [
      "Review: Bayar pajak mahal, aplikasinya ampas, ngisi capta g kelar\" d korupsi tros blok\n"
     ]
    },
    {
     "name": "stdin",
     "output_type": "stream",
     "text": [
      "Masukkan label (Positive, Negative, Neutral) Negative\n"
     ]
    },
    {
     "name": "stdout",
     "output_type": "stream",
     "text": [
      "Review: App ngak berguna....no npwp bener pswd bener ttp g bisa masuk.....klo g biaa bikin app gausah bikin sekalian\n"
     ]
    },
    {
     "name": "stdin",
     "output_type": "stream",
     "text": [
      "Masukkan label (Positive, Negative, Neutral) Negative\n"
     ]
    },
    {
     "name": "stdout",
     "output_type": "stream",
     "text": [
      "Review: Mau login aja susah..login di web bisa..\n"
     ]
    },
    {
     "name": "stdin",
     "output_type": "stream",
     "text": [
      "Masukkan label (Positive, Negative, Neutral) Negative\n"
     ]
    },
    {
     "name": "stdout",
     "output_type": "stream",
     "text": [
      "Review: Error terus kenapa ya\n"
     ]
    },
    {
     "name": "stdin",
     "output_type": "stream",
     "text": [
      "Masukkan label (Positive, Negative, Neutral) Negative\n"
     ]
    },
    {
     "name": "stdout",
     "output_type": "stream",
     "text": [
      "Review: Memang bikin susah aplikasi pemerintah\n"
     ]
    },
    {
     "name": "stdin",
     "output_type": "stream",
     "text": [
      "Masukkan label (Positive, Negative, Neutral) Negative\n"
     ]
    },
    {
     "name": "stdout",
     "output_type": "stream",
     "text": [
      "Review: Tehnik mesin\n"
     ]
    },
    {
     "name": "stdin",
     "output_type": "stream",
     "text": [
      "Masukkan label (Positive, Negative, Neutral) Neutral\n"
     ]
    },
    {
     "name": "stdout",
     "output_type": "stream",
     "text": [
      "Review: Susah bgt minta efin . Data udh bener sampe diUlang2 . Lebih teliti udh bener ttp Gagal . Aplikasi Ga membantu 🥲\n"
     ]
    },
    {
     "name": "stdin",
     "output_type": "stream",
     "text": [
      "Masukkan label (Positive, Negative, Neutral) Negative\n"
     ]
    },
    {
     "name": "stdout",
     "output_type": "stream",
     "text": [
      "Review: Sangat mbantu\n"
     ]
    },
    {
     "name": "stdin",
     "output_type": "stream",
     "text": [
      "Masukkan label (Positive, Negative, Neutral) Positive\n"
     ]
    },
    {
     "name": "stdout",
     "output_type": "stream",
     "text": [
      "Review: Good joob m-pajak sangat memudahkan dalam transaksi pajak secara online dan daring.\n"
     ]
    },
    {
     "name": "stdin",
     "output_type": "stream",
     "text": [
      "Masukkan label (Positive, Negative, Neutral) Positive\n"
     ]
    },
    {
     "name": "stdout",
     "output_type": "stream",
     "text": [
      "Review: Tertib pajak\n"
     ]
    },
    {
     "name": "stdin",
     "output_type": "stream",
     "text": [
      "Masukkan label (Positive, Negative, Neutral) Positive\n"
     ]
    },
    {
     "name": "stdout",
     "output_type": "stream",
     "text": [
      "Review: Mau bayar pajak aja, aplikasi nya tidak ramah user Mau di bayar apa enggak nih ... Mau taat bayar pajak tapi belibet aplikasi nya Kita ni mau bayar lho, bukan mau minta\n"
     ]
    },
    {
     "name": "stdin",
     "output_type": "stream",
     "text": [
      "Masukkan label (Positive, Negative, Neutral) Negative\n"
     ]
    },
    {
     "name": "stdout",
     "output_type": "stream",
     "text": [
      "Review: susah masuk aplikasi nya loading terus gak ada muncul apa apa pisan parah 🤦‍♂️\n"
     ]
    },
    {
     "name": "stdin",
     "output_type": "stream",
     "text": [
      "Masukkan label (Positive, Negative, Neutral) Negative\n"
     ]
    },
    {
     "name": "stdout",
     "output_type": "stream",
     "text": [
      "Review: padahal mudah digunakan login lancar dari sekian komen hanya mencela...benar sih kata org2 SDM kita masih rendah\n"
     ]
    },
    {
     "name": "stdin",
     "output_type": "stream",
     "text": [
      "Masukkan label (Positive, Negative, Neutral) Neutral\n"
     ]
    },
    {
     "name": "stdout",
     "output_type": "stream",
     "text": [
      "Review: Kau makan uang haram aja kerjaannya wkwkw. Ayo beli rubicon lg ngab biar indonesia ini makmur damai sejahtera\n"
     ]
    },
    {
     "name": "stdin",
     "output_type": "stream",
     "text": [
      "Masukkan label (Positive, Negative, Neutral) Negative\n"
     ]
    },
    {
     "name": "stdout",
     "output_type": "stream",
     "text": [
      "Review: Website sama aplikasi sama aja nggak ada yg beres . . Mau login aja susah amat dibilang npwp sama password salah mulu . . Mau minta Efin ehh malah dikirimnya ke yopmail padahal semua juga pakainya gmail . . Lagian mana ada yg pakai email yopmail . . Hadeehh makanya duit rakyat dipakai yg bener donk diilangin tuh yg korup2 biar bisa bikin akses online yg memudahkan buat rakyat\n"
     ]
    },
    {
     "name": "stdin",
     "output_type": "stream",
     "text": [
      "Masukkan label (Positive, Negative, Neutral) Negative\n"
     ]
    },
    {
     "name": "stdout",
     "output_type": "stream",
     "text": [
      "Review: Lebih mudah daftar ML. Miris banget di web error, di apk error, sinyal padahal bagus, tapi selalu error.\n"
     ]
    },
    {
     "name": "stdin",
     "output_type": "stream",
     "text": [
      "Masukkan label (Positive, Negative, Neutral) Negative\n"
     ]
    },
    {
     "name": "stdout",
     "output_type": "stream",
     "text": [
      "Review: Aplikasi gajebo, lupa password, buat baru, lupa efin ga bisa diklik, Ama duitnya cpt banget perbaiki dl aplikasinya ,\n"
     ]
    },
    {
     "name": "stdin",
     "output_type": "stream",
     "text": [
      "Masukkan label (Positive, Negative, Neutral) Negative\n"
     ]
    },
    {
     "name": "stdout",
     "output_type": "stream",
     "text": [
      "Review: like\n"
     ]
    },
    {
     "name": "stdin",
     "output_type": "stream",
     "text": [
      "Masukkan label (Positive, Negative, Neutral) Positive\n"
     ]
    },
    {
     "name": "stdout",
     "output_type": "stream",
     "text": [
      "Review: mantapp\n"
     ]
    },
    {
     "name": "stdin",
     "output_type": "stream",
     "text": [
      "Masukkan label (Positive, Negative, Neutral) Positive\n"
     ]
    },
    {
     "name": "stdout",
     "output_type": "stream",
     "text": [
      "Review: Kena denda gara2 lelet, bales wa sueee\n"
     ]
    },
    {
     "name": "stdin",
     "output_type": "stream",
     "text": [
      "Masukkan label (Positive, Negative, Neutral) Negative\n"
     ]
    },
    {
     "name": "stdout",
     "output_type": "stream",
     "text": [
      "Review: Ribet banget dongok mending ga usah bayar pajak gw\n"
     ]
    },
    {
     "name": "stdin",
     "output_type": "stream",
     "text": [
      "Masukkan label (Positive, Negative, Neutral) Negative\n"
     ]
    },
    {
     "name": "stdout",
     "output_type": "stream",
     "text": [
      "Review: Sangat membantu\n"
     ]
    },
    {
     "name": "stdin",
     "output_type": "stream",
     "text": [
      "Masukkan label (Positive, Negative, Neutral) Positive\n"
     ]
    },
    {
     "name": "stdout",
     "output_type": "stream",
     "text": [
      "Review: Eror an\n"
     ]
    },
    {
     "name": "stdin",
     "output_type": "stream",
     "text": [
      "Masukkan label (Positive, Negative, Neutral) Negative\n"
     ]
    },
    {
     "name": "stdout",
     "output_type": "stream",
     "text": [
      "Review: Makin lama makin di persulit nih aplikasi cek nomer efin selalu gagal error\n"
     ]
    },
    {
     "name": "stdin",
     "output_type": "stream",
     "text": [
      "Masukkan label (Positive, Negative, Neutral) Negative\n"
     ]
    },
    {
     "name": "stdout",
     "output_type": "stream",
     "text": [
      "Review: 3 dlu\n"
     ]
    },
    {
     "name": "stdin",
     "output_type": "stream",
     "text": [
      "Masukkan label (Positive, Negative, Neutral) Neutral\n"
     ]
    },
    {
     "name": "stdout",
     "output_type": "stream",
     "text": [
      "Review: Mantaap\n"
     ]
    },
    {
     "name": "stdin",
     "output_type": "stream",
     "text": [
      "Masukkan label (Positive, Negative, Neutral) Positive\n"
     ]
    },
    {
     "name": "stdout",
     "output_type": "stream",
     "text": [
      "Review: Goood\n"
     ]
    },
    {
     "name": "stdin",
     "output_type": "stream",
     "text": [
      "Masukkan label (Positive, Negative, Neutral) Positive\n"
     ]
    },
    {
     "name": "stdout",
     "output_type": "stream",
     "text": [
      "Review: Mantap x pun\n"
     ]
    },
    {
     "name": "stdin",
     "output_type": "stream",
     "text": [
      "Masukkan label (Positive, Negative, Neutral) Positive\n"
     ]
    },
    {
     "name": "stdout",
     "output_type": "stream",
     "text": [
      "Review: Aplikasi g berguna,lupa efin udah di isi semua sesuai dengan permintaan begitu di submit verifikasi gagal.\n"
     ]
    },
    {
     "name": "stdin",
     "output_type": "stream",
     "text": [
      "Masukkan label (Positive, Negative, Neutral) Negative\n"
     ]
    },
    {
     "name": "stdout",
     "output_type": "stream",
     "text": [
      "Review: Efin katanya sudah dikirim ke email terdaftar tapi cek email gak ada. Bagaimana ini?\n"
     ]
    },
    {
     "name": "stdin",
     "output_type": "stream",
     "text": [
      "Masukkan label (Positive, Negative, Neutral) Negative\n"
     ]
    },
    {
     "name": "stdout",
     "output_type": "stream",
     "text": [
      "Review: Ga membantu sama sekali\n"
     ]
    },
    {
     "name": "stdin",
     "output_type": "stream",
     "text": [
      "Masukkan label (Positive, Negative, Neutral) Negative\n"
     ]
    },
    {
     "name": "stdout",
     "output_type": "stream",
     "text": [
      "Review: Orang mau bayar pajak yg notabene penghasilan negara aja dipersulit, KASIH SOLUSI DONG BUAT ORG YG PROVIDERNYA 3, AXIS DAN SMARTFREN !!! JANGAN DISURUH GANTI NOMER LAIN, ITU NOMER UDH BERTAHUN2 DIPAKE MASA SURUH GANTI. LANGSUNG KE KANTOR PELAYANAN NYA PUN GK ADA SOLUSI. GAK USH DI BAYAR SEKALIAN KLO KAYAK GINI PELAYANAN NYA !!!\n"
     ]
    },
    {
     "name": "stdin",
     "output_type": "stream",
     "text": [
      "Masukkan label (Positive, Negative, Neutral) Negative\n"
     ]
    },
    {
     "name": "stdout",
     "output_type": "stream",
     "text": [
      "Review: Aplikasi dancok, aplikasi ae sibuk , Aplikasi pemerintah kok koyo siput\n"
     ]
    },
    {
     "name": "stdin",
     "output_type": "stream",
     "text": [
      "Masukkan label (Positive, Negative, Neutral) Negative\n"
     ]
    },
    {
     "name": "stdout",
     "output_type": "stream",
     "text": [
      "Review: Yaampun gabisa login dong, padahal di websitenya bisa login loh...perbaiki dong!!!\n"
     ]
    },
    {
     "name": "stdin",
     "output_type": "stream",
     "text": [
      "Masukkan label (Positive, Negative, Neutral) Negative\n"
     ]
    },
    {
     "name": "stdout",
     "output_type": "stream",
     "text": [
      "Review: Fitur aplikasi gk bisa di klik, kek org bodoh nih yg buat\n"
     ]
    },
    {
     "name": "stdin",
     "output_type": "stream",
     "text": [
      "Masukkan label (Positive, Negative, Neutral) Negative\n"
     ]
    },
    {
     "name": "stdout",
     "output_type": "stream",
     "text": [
      "Review: Udah seneng bisa buat e-billing dgn cepet sewaktu-waktu, tapi aplikasinya error, klik jenis pajak dll gak muncul pilihannya, ngadat. Sungguh mengecewakan, mau pakai aplikasi lain ada biaya admin pula\n"
     ]
    },
    {
     "name": "stdin",
     "output_type": "stream",
     "text": [
      "Masukkan label (Positive, Negative, Neutral) Negative\n"
     ]
    },
    {
     "name": "stdout",
     "output_type": "stream",
     "text": [
      "Review: Bagaimna Sih Ini aplikasi 1500200 untuk tanya solusi mau terhubung dengan Call Center malah cukup potong pulsa langsung dikasih mati...kalian niat kerja tidak.. kita minta bantuan ko susa sekali\n"
     ]
    },
    {
     "name": "stdin",
     "output_type": "stream",
     "text": [
      "Masukkan label (Positive, Negative, Neutral) Negative\n"
     ]
    },
    {
     "name": "stdout",
     "output_type": "stream",
     "text": [
      "Review: Good aplikation\n"
     ]
    },
    {
     "name": "stdin",
     "output_type": "stream",
     "text": [
      "Masukkan label (Positive, Negative, Neutral) Positive\n"
     ]
    },
    {
     "name": "stdout",
     "output_type": "stream",
     "text": [
      "Review: Menurut saya aplikasi pajak ini di ganti saja judulnya menjadi aplikasi mempersulit masyarakat . Miris padahal di kelola negara bikin susah rakyat aja lupa efin pun seperti mau mati\n"
     ]
    },
    {
     "name": "stdin",
     "output_type": "stream",
     "text": [
      "Masukkan label (Positive, Negative, Neutral) Negative\n"
     ]
    },
    {
     "name": "stdout",
     "output_type": "stream",
     "text": [
      "Review: Good job buat djp!\n"
     ]
    },
    {
     "name": "stdin",
     "output_type": "stream",
     "text": [
      "Masukkan label (Positive, Negative, Neutral) Positive\n"
     ]
    },
    {
     "name": "stdout",
     "output_type": "stream",
     "text": [
      "Review: Gua sampe 4 x bikin aku google tetap tidak bisa ya segala reques otp nya ngk ada masuk pesan nya trus pas kita mau bikin lagi pakai aku yg lain no hp nya ngk bisa lagi hadeh di aplikasi bukan nya mempermudah jadi memper sulit apalagi pas jaringan nya buruk\n"
     ]
    },
    {
     "name": "stdin",
     "output_type": "stream",
     "text": [
      "Masukkan label (Positive, Negative, Neutral) Negative\n"
     ]
    },
    {
     "name": "stdout",
     "output_type": "stream",
     "text": [
      "Review: Lupa sandi GK bisa Daftar baru GK bisa Nyuci piring bisa kau?🤬😡\n"
     ]
    },
    {
     "name": "stdin",
     "output_type": "stream",
     "text": [
      "Masukkan label (Positive, Negative, Neutral) Negative\n"
     ]
    },
    {
     "name": "stdout",
     "output_type": "stream",
     "text": [
      "Review: Aplikasi error terus\n"
     ]
    },
    {
     "name": "stdin",
     "output_type": "stream",
     "text": [
      "Masukkan label (Positive, Negative, Neutral) Negative\n"
     ]
    },
    {
     "name": "stdout",
     "output_type": "stream",
     "text": [
      "Review: INTINYA KITA DIPERSULIT UNTUK AKSESNYA DAN LAMA2 GABISA MANTAU TAU2 PAJAKNYA MEMBENGKAK 🤣\n"
     ]
    },
    {
     "name": "stdin",
     "output_type": "stream",
     "text": [
      "Masukkan label (Positive, Negative, Neutral) Negative\n"
     ]
    },
    {
     "name": "stdout",
     "output_type": "stream",
     "text": [
      "Review: 🤮\n"
     ]
    },
    {
     "name": "stdin",
     "output_type": "stream",
     "text": [
      "Masukkan label (Positive, Negative, Neutral) Negative\n"
     ]
    },
    {
     "name": "stdout",
     "output_type": "stream",
     "text": [
      "Review: Uangnya di korupsi mulu... Noh betulin aplikasinya dan di webnya,.. masuk aja sulit lelet minta ampun niat bikin aplikasi kagak haa\n"
     ]
    },
    {
     "name": "stdin",
     "output_type": "stream",
     "text": [
      "Masukkan label (Positive, Negative, Neutral) Negative\n"
     ]
    },
    {
     "name": "stdout",
     "output_type": "stream",
     "text": [
      "Review: Susah kali sih buat NPWP gua habis 15k pulsa kebuat akun aja belum\n"
     ]
    },
    {
     "name": "stdin",
     "output_type": "stream",
     "text": [
      "Masukkan label (Positive, Negative, Neutral) Negative\n"
     ]
    },
    {
     "name": "stdout",
     "output_type": "stream",
     "text": [
      "Review: Sulit untuk masuk katanya nik ktp sulit ditemukan\n"
     ]
    },
    {
     "name": "stdin",
     "output_type": "stream",
     "text": [
      "Masukkan label (Positive, Negative, Neutral) Negative\n"
     ]
    },
    {
     "name": "stdout",
     "output_type": "stream",
     "text": [
      "Review: Baik\n"
     ]
    },
    {
     "name": "stdin",
     "output_type": "stream",
     "text": [
      "Masukkan label (Positive, Negative, Neutral) Positive\n"
     ]
    },
    {
     "name": "stdout",
     "output_type": "stream",
     "text": [
      "Review: Masukkannya kalau bisa untuk pelaporan SPT bisa melalui aplikasi ini juga ya, ditunggu updatenya Terimakasih\n"
     ]
    },
    {
     "name": "stdin",
     "output_type": "stream",
     "text": [
      "Masukkan label (Positive, Negative, Neutral) Neutral\n"
     ]
    },
    {
     "name": "stdout",
     "output_type": "stream",
     "text": [
      "Review: Velidasi data susah bnr ampun dh dr mlm sampe pagi cuma ngisi data aja ga bisa bisa\n"
     ]
    },
    {
     "name": "stdin",
     "output_type": "stream",
     "text": [
      "Masukkan label (Positive, Negative, Neutral) Negative\n"
     ]
    },
    {
     "name": "stdout",
     "output_type": "stream",
     "text": [
      "Review: Uang pajak rakyat yang banyak itu kemana aja? Seharusnya uang pajak rakyat itu sisihin juga buat memperbaiki aplikasi ini coy, bukan buat masuk kantong pribadi kalian. Sekelas pemerintahan pajak yakali aplikasinya busuk kek gini! Aplikasi busuk\n"
     ]
    },
    {
     "name": "stdin",
     "output_type": "stream",
     "text": [
      "Masukkan label (Positive, Negative, Neutral) Negative\n"
     ]
    },
    {
     "name": "stdout",
     "output_type": "stream",
     "text": [
      "Review: Terima kasih !!\n"
     ]
    },
    {
     "name": "stdin",
     "output_type": "stream",
     "text": [
      "Masukkan label (Positive, Negative, Neutral) Positive\n"
     ]
    },
    {
     "name": "stdout",
     "output_type": "stream",
     "text": [
      "Review: Yang membuat aplikasi ini pasti orang LOL TO mau ganti kata sandi nungguin email 10 kali nggak ada masuk\n"
     ]
    },
    {
     "name": "stdin",
     "output_type": "stream",
     "text": [
      "Masukkan label (Positive, Negative, Neutral) Negative\n"
     ]
    },
    {
     "name": "stdout",
     "output_type": "stream",
     "text": [
      "Review: Aplikasi tidak berguna\n"
     ]
    },
    {
     "name": "stdin",
     "output_type": "stream",
     "text": [
      "Masukkan label (Positive, Negative, Neutral) Negative\n"
     ]
    },
    {
     "name": "stdout",
     "output_type": "stream",
     "text": [
      "Review: seharusnya di aplikasi pajak ini bisa sekalian lapor SPT,tapi gak bisa harus ke web djponline.go.id.jadi aplikasi ini gak bermanfaat utk semua ttg pajak.seharusnya di aplikasi ini semua bisa.\n"
     ]
    },
    {
     "name": "stdin",
     "output_type": "stream",
     "text": [
      "Masukkan label (Positive, Negative, Neutral) Negative\n"
     ]
    },
    {
     "name": "stdout",
     "output_type": "stream",
     "text": [
      "Review: Mau masuk saja sudah di persulit apl apaan ini\n"
     ]
    },
    {
     "name": "stdin",
     "output_type": "stream",
     "text": [
      "Masukkan label (Positive, Negative, Neutral) Negative\n"
     ]
    },
    {
     "name": "stdout",
     "output_type": "stream",
     "text": [
      "Review: Kenapa ya setiap aplikasi tentang instansi pemerintah pasti bobrok gak bergunaa\n"
     ]
    },
    {
     "name": "stdin",
     "output_type": "stream",
     "text": [
      "Masukkan label (Positive, Negative, Neutral) Negative\n"
     ]
    },
    {
     "name": "stdout",
     "output_type": "stream",
     "text": [
      "Review: Membantu\n"
     ]
    },
    {
     "name": "stdin",
     "output_type": "stream",
     "text": [
      "Masukkan label (Positive, Negative, Neutral) Positive\n"
     ]
    },
    {
     "name": "stdout",
     "output_type": "stream",
     "text": [
      "Review: Mmbntu\n"
     ]
    },
    {
     "name": "stdin",
     "output_type": "stream",
     "text": [
      "Masukkan label (Positive, Negative, Neutral) Positive\n"
     ]
    },
    {
     "name": "stdout",
     "output_type": "stream",
     "text": [
      "Review: Lupa efin, suruh ngisi data. Sudah ngisi data malah dan tetep gak bisa alhasil ujung ujungnya suruh ke kantor pajak terdekat.... Hemmm\n"
     ]
    },
    {
     "name": "stdin",
     "output_type": "stream",
     "text": [
      "Masukkan label (Positive, Negative, Neutral) Negative\n"
     ]
    },
    {
     "name": "stdout",
     "output_type": "stream",
     "text": [
      "Review: Pusing banget ingin bikin NPWP juga,\n"
     ]
    },
    {
     "name": "stdin",
     "output_type": "stream",
     "text": [
      "Masukkan label (Positive, Negative, Neutral) Negative\n"
     ]
    },
    {
     "name": "stdout",
     "output_type": "stream",
     "text": [
      "Review: Error mulu\n"
     ]
    },
    {
     "name": "stdin",
     "output_type": "stream",
     "text": [
      "Masukkan label (Positive, Negative, Neutral) Negative\n"
     ]
    },
    {
     "name": "stdout",
     "output_type": "stream",
     "text": [
      "Review: Tolol\n"
     ]
    },
    {
     "name": "stdin",
     "output_type": "stream",
     "text": [
      "Masukkan label (Positive, Negative, Neutral) Negative\n"
     ]
    },
    {
     "name": "stdout",
     "output_type": "stream",
     "text": [
      "Review: Kenapa tidak bisa masuk apk ..padahal baru mau daftar efin\n"
     ]
    },
    {
     "name": "stdin",
     "output_type": "stream",
     "text": [
      "Masukkan label (Positive, Negative, Neutral) Negative\n"
     ]
    },
    {
     "name": "stdout",
     "output_type": "stream",
     "text": [
      "Review: G niat buat aplikasi\n"
     ]
    },
    {
     "name": "stdin",
     "output_type": "stream",
     "text": [
      "Masukkan label (Positive, Negative, Neutral) Negative\n"
     ]
    },
    {
     "name": "stdout",
     "output_type": "stream",
     "text": [
      "Review: Cara lihat Spt th 2021+2022 untuk diprint gimana caranya di amplikasi apa ,apa bisa minta kantor pajak untuk ngirim ke email saya\n"
     ]
    },
    {
     "name": "stdin",
     "output_type": "stream",
     "text": [
      "Masukkan label (Positive, Negative, Neutral) Neutral\n"
     ]
    },
    {
     "name": "stdout",
     "output_type": "stream",
     "text": [
      "Review: PARAH BUKAN NYA DI PERBAIKI MALAH NAMBAH BURUK\n"
     ]
    },
    {
     "name": "stdin",
     "output_type": "stream",
     "text": [
      "Masukkan label (Positive, Negative, Neutral) Negative\n"
     ]
    },
    {
     "name": "stdout",
     "output_type": "stream",
     "text": [
      "Review: Aplikasi gak guna tu yang kerja IQ nya nol.aplikasi gak mutu sering eror mulu\n"
     ]
    },
    {
     "name": "stdin",
     "output_type": "stream",
     "text": [
      "Masukkan label (Positive, Negative, Neutral) Negative\n"
     ]
    },
    {
     "name": "stdout",
     "output_type": "stream",
     "text": [
      "Review: ok\n"
     ]
    },
    {
     "name": "stdin",
     "output_type": "stream",
     "text": [
      "Masukkan label (Positive, Negative, Neutral) Positive\n"
     ]
    },
    {
     "name": "stdout",
     "output_type": "stream",
     "text": [
      "Review: aplikasi gajelas. dipikir nya kita2 ni punya byk waktu buat mampir ke kantor pajak ? online tujuannya biar enak, eh aplikasi nya jelek. kalo ga lapor, dikenakan denda ?! salahin lah aplikasi kalian knp jelek. huh. kalo pake link internet biasa, haduuh ribet dan ga mudeng. pdhl enak bgt kalo log in pake effin dan no npwp gtu lhooo, ga repot. lagian nomor npwp kan pasti setiap org beda ya ?\n"
     ]
    },
    {
     "name": "stdin",
     "output_type": "stream",
     "text": [
      "Masukkan label (Positive, Negative, Neutral) Negative\n"
     ]
    },
    {
     "name": "stdout",
     "output_type": "stream",
     "text": [
      "Review: GK bisa masuk ke aplikasi,,unexpected error occurred ,trus restar2 terus\n"
     ]
    },
    {
     "name": "stdin",
     "output_type": "stream",
     "text": [
      "Masukkan label (Positive, Negative, Neutral) Negative\n"
     ]
    },
    {
     "name": "stdout",
     "output_type": "stream",
     "text": [
      "Review: Ribet, lebih mudah registrasi situs bokep dripada lapor pajak.\n"
     ]
    },
    {
     "name": "stdin",
     "output_type": "stream",
     "text": [
      "Masukkan label (Positive, Negative, Neutral) Negatie\n"
     ]
    },
    {
     "name": "stdout",
     "output_type": "stream",
     "text": [
      "Review: Busuk percuma buat aplikasi tidak bisa menyelesaikan masalah\n"
     ]
    },
    {
     "name": "stdin",
     "output_type": "stream",
     "text": [
      "Masukkan label (Positive, Negative, Neutral) Negative\n"
     ]
    },
    {
     "name": "stdout",
     "output_type": "stream",
     "text": [
      "Review: Buat billing gak bisa\n"
     ]
    },
    {
     "name": "stdin",
     "output_type": "stream",
     "text": [
      "Masukkan label (Positive, Negative, Neutral) Negative\n"
     ]
    },
    {
     "name": "stdout",
     "output_type": "stream",
     "text": [
      "Review: Aplikasi nya kaya di kelola anak smk , cape2 ngisi lupa efin, lgsg error wkwkk gak niat bikin applikasi\n"
     ]
    },
    {
     "name": "stdin",
     "output_type": "stream",
     "text": [
      "Masukkan label (Positive, Negative, Neutral) Negative\n"
     ]
    },
    {
     "name": "stdout",
     "output_type": "stream",
     "text": [
      "Review: Aplikasi bugnya membagongkan... selalu gagal pas udah ngumpul dokumen untuk EFIN selalu gagal\n"
     ]
    },
    {
     "name": "stdin",
     "output_type": "stream",
     "text": [
      "Masukkan label (Positive, Negative, Neutral) Negative\n"
     ]
    },
    {
     "name": "stdout",
     "output_type": "stream",
     "text": [
      "Review: Lumayan 👍\n"
     ]
    },
    {
     "name": "stdin",
     "output_type": "stream",
     "text": [
      "Masukkan label (Positive, Negative, Neutral) Positive\n"
     ]
    },
    {
     "name": "stdout",
     "output_type": "stream",
     "text": [
      "Review: Emang bener di komentar kalau aplikasi ini mempersulit, pas saya coba emang mempersulit, data sudah lengkap, punya negara kok gini sistem nya, kemana uang kami bukan nya bekerja dengan benar malah asal asalan\n"
     ]
    },
    {
     "name": "stdin",
     "output_type": "stream",
     "text": [
      "Masukkan label (Positive, Negative, Neutral) Negative\n"
     ]
    },
    {
     "name": "stdout",
     "output_type": "stream",
     "text": [
      "Review: Kalau fitur belum bisa dipakai lebih baik dihapus, katanya bisa minta kode effin tapi sudah coba berkali kali tidak bisa.\n"
     ]
    },
    {
     "name": "stdin",
     "output_type": "stream",
     "text": [
      "Masukkan label (Positive, Negative, Neutral) Negative\n"
     ]
    },
    {
     "name": "stdout",
     "output_type": "stream",
     "text": [
      "Review: Mau daftar npwp sulit, web dan aplikasi sama sama gak jelas, \"data gagal di simpan, eror constrait database, silakan hubungin adminisiator.... Tidak ada penjelasan kesalah dimana. Hubungin CS isi bot gak dan berbayar pulsa tidak menyelesaikan masalah.\n"
     ]
    },
    {
     "name": "stdin",
     "output_type": "stream",
     "text": [
      "Masukkan label (Positive, Negative, Neutral) Negative\n"
     ]
    },
    {
     "name": "stdout",
     "output_type": "stream",
     "text": [
      "Review: Biasanya lancar skrg malah gak bisa dipake.\n"
     ]
    },
    {
     "name": "stdin",
     "output_type": "stream",
     "text": [
      "Masukkan label (Positive, Negative, Neutral) Negative\n"
     ]
    },
    {
     "name": "stdout",
     "output_type": "stream",
     "text": [
      "Review: efin aja harus ke kantor,..thn 2023 masih kaku aja...\n"
     ]
    },
    {
     "name": "stdin",
     "output_type": "stream",
     "text": [
      "Masukkan label (Positive, Negative, Neutral) Negative\n"
     ]
    },
    {
     "name": "stdout",
     "output_type": "stream",
     "text": [
      "Review: Sekelas kementrian perpajakan bikin aplikasi abal²\n"
     ]
    },
    {
     "name": "stdin",
     "output_type": "stream",
     "text": [
      "Masukkan label (Positive, Negative, Neutral) Negative\n"
     ]
    },
    {
     "name": "stdout",
     "output_type": "stream",
     "text": [
      "Review: Sangat miris ya, app penting dan dikelola pemerintah bisa error dan gak fungsi, mau daftar tidak bisa, lupa password tidak bisa, lupa efin pun tidak bisa di registrasi/perbaharui!\n"
     ]
    },
    {
     "name": "stdin",
     "output_type": "stream",
     "text": [
      "Masukkan label (Positive, Negative, Neutral) Negative\n"
     ]
    },
    {
     "name": "stdout",
     "output_type": "stream",
     "text": [
      "Review: Begitu masuk akun langsung eror tdk bisa dibuka, aneh ya masa tidak bisa buat aplikasi yg bagus? Dengan dana yg besar seharusnya mudah. Apa perlu di outsourcing ke swasta saja?\n"
     ]
    },
    {
     "name": "stdin",
     "output_type": "stream",
     "text": [
      "Masukkan label (Positive, Negative, Neutral) Negative\n"
     ]
    }
   ],
   "source": [
    "# labelling from index 1649\n",
    "\n",
    "start_index = 1649  # Ganti dengan indeks terakhir yang sudah dilabeli \n",
    "\n",
    "for index in range(start_index, len(df)):\n",
    "    print(f\"Review: {df.at[index, 'content']}\")\n",
    "    label = input(\"Masukkan label (Positive, Negative, Neutral)\")\n",
    "    df.at[index, 'label'] = label"
   ]
  },
  {
   "cell_type": "code",
   "execution_count": 13,
   "id": "6e03b317-4276-4f31-bb8e-2510b61782e5",
   "metadata": {},
   "outputs": [
    {
     "data": {
      "text/html": [
       "<div>\n",
       "<style scoped>\n",
       "    .dataframe tbody tr th:only-of-type {\n",
       "        vertical-align: middle;\n",
       "    }\n",
       "\n",
       "    .dataframe tbody tr th {\n",
       "        vertical-align: top;\n",
       "    }\n",
       "\n",
       "    .dataframe thead th {\n",
       "        text-align: right;\n",
       "    }\n",
       "</style>\n",
       "<table border=\"1\" class=\"dataframe\">\n",
       "  <thead>\n",
       "    <tr style=\"text-align: right;\">\n",
       "      <th></th>\n",
       "      <th>content</th>\n",
       "      <th>label</th>\n",
       "    </tr>\n",
       "  </thead>\n",
       "  <tbody>\n",
       "    <tr>\n",
       "      <th>1995</th>\n",
       "      <td>Biasanya lancar skrg malah gak bisa dipake.</td>\n",
       "      <td>Negative</td>\n",
       "    </tr>\n",
       "    <tr>\n",
       "      <th>1996</th>\n",
       "      <td>efin aja harus ke kantor,..thn 2023 masih kaku...</td>\n",
       "      <td>Negative</td>\n",
       "    </tr>\n",
       "    <tr>\n",
       "      <th>1997</th>\n",
       "      <td>Sekelas kementrian perpajakan bikin aplikasi a...</td>\n",
       "      <td>Negative</td>\n",
       "    </tr>\n",
       "    <tr>\n",
       "      <th>1998</th>\n",
       "      <td>Sangat miris ya, app penting dan dikelola peme...</td>\n",
       "      <td>Negative</td>\n",
       "    </tr>\n",
       "    <tr>\n",
       "      <th>1999</th>\n",
       "      <td>Begitu masuk akun langsung eror tdk bisa dibuk...</td>\n",
       "      <td>Negative</td>\n",
       "    </tr>\n",
       "  </tbody>\n",
       "</table>\n",
       "</div>"
      ],
      "text/plain": [
       "                                                content     label\n",
       "1995        Biasanya lancar skrg malah gak bisa dipake.  Negative\n",
       "1996  efin aja harus ke kantor,..thn 2023 masih kaku...  Negative\n",
       "1997  Sekelas kementrian perpajakan bikin aplikasi a...  Negative\n",
       "1998  Sangat miris ya, app penting dan dikelola peme...  Negative\n",
       "1999  Begitu masuk akun langsung eror tdk bisa dibuk...  Negative"
      ]
     },
     "execution_count": 13,
     "metadata": {},
     "output_type": "execute_result"
    }
   ],
   "source": [
    "df.tail()"
   ]
  },
  {
   "cell_type": "code",
   "execution_count": 14,
   "id": "22ecfa7b-a68d-442c-920d-80ff8c8dc6e1",
   "metadata": {},
   "outputs": [
    {
     "data": {
      "text/plain": [
       "array(['Negative', 'Positive', 'Neutral', 'POsitive', 'Negaive',\n",
       "       'negative', 'Negatie'], dtype=object)"
      ]
     },
     "execution_count": 14,
     "metadata": {},
     "output_type": "execute_result"
    }
   ],
   "source": [
    "df['label'].unique()"
   ]
  },
  {
   "cell_type": "code",
   "execution_count": 16,
   "id": "3b89bfce-da8b-4447-9f7d-84a6f01232a1",
   "metadata": {},
   "outputs": [],
   "source": [
    "change_label = ['Negaive', 'negative', 'Negatie']\n",
    "\n",
    "df.loc[df['label'].isin(change_label), 'label'] = \"Negative\"\n",
    "df.loc[df['label'] == \"POsitive\", 'label'] = \"Positive\""
   ]
  },
  {
   "cell_type": "code",
   "execution_count": 17,
   "id": "d8ca2c2b-4493-4f5b-a540-9cf1226f36aa",
   "metadata": {},
   "outputs": [
    {
     "data": {
      "text/plain": [
       "array(['Negative', 'Positive', 'Neutral'], dtype=object)"
      ]
     },
     "execution_count": 17,
     "metadata": {},
     "output_type": "execute_result"
    }
   ],
   "source": [
    "df['label'].unique()"
   ]
  },
  {
   "cell_type": "markdown",
   "id": "c6cbac87-3b06-4f8e-a138-ad47b09eb331",
   "metadata": {},
   "source": [
    "### Data Final "
   ]
  },
  {
   "cell_type": "code",
   "execution_count": 22,
   "id": "76ee99cb-6c81-49d5-960a-9cfb420be47e",
   "metadata": {},
   "outputs": [],
   "source": [
    "folder_path = 'dataset/'\n",
    "file_name = 'final_dataset.csv'\n",
    "full_path = folder_path + file_name\n",
    "\n",
    "df.to_csv(full_path, index=False)"
   ]
  },
  {
   "cell_type": "code",
   "execution_count": 20,
   "id": "169e72b8-3d6a-4f5e-a7fb-a69b63da6c71",
   "metadata": {},
   "outputs": [
    {
     "data": {
      "text/html": [
       "<div>\n",
       "<style scoped>\n",
       "    .dataframe tbody tr th:only-of-type {\n",
       "        vertical-align: middle;\n",
       "    }\n",
       "\n",
       "    .dataframe tbody tr th {\n",
       "        vertical-align: top;\n",
       "    }\n",
       "\n",
       "    .dataframe thead th {\n",
       "        text-align: right;\n",
       "    }\n",
       "</style>\n",
       "<table border=\"1\" class=\"dataframe\">\n",
       "  <thead>\n",
       "    <tr style=\"text-align: right;\">\n",
       "      <th></th>\n",
       "      <th>{\"ngirim\":\"mengirim\"</th>\n",
       "      <th>\"ajg\":\"anjing\"</th>\n",
       "      <th>\"ngga\":\"tidak\"</th>\n",
       "      <th>\"udah\":\"sudah\"</th>\n",
       "      <th>\"memperuslit\":\"mempersulit\"</th>\n",
       "      <th>\"aja\":\"saja\"</th>\n",
       "      <th>\"lemot\":\"lambat\"</th>\n",
       "      <th>\"trus\":\"terus\"</th>\n",
       "      <th>\"nerima\":\"menerima\"</th>\n",
       "      <th>\"pas\":\"waktu\"</th>\n",
       "      <th>...</th>\n",
       "      <th>\"mmbntu\":\"membantu\"</th>\n",
       "      <th>\"amplikasi\":\"aplikasi\"</th>\n",
       "      <th>\"mudeng\":\"paham\"</th>\n",
       "      <th>\"byk\":\"banyak\".1</th>\n",
       "      <th>\"dripada\":\"daripada\"</th>\n",
       "      <th>\"lgsg\":\"langsung\".1</th>\n",
       "      <th>\"ngumpul\":\"mengumpulkan\"</th>\n",
       "      <th>\"adminisiator\":\"administrator\"</th>\n",
       "      <th>\"thn\":\"tahun\"</th>\n",
       "      <th>\"tdk\":\"tidak\"}</th>\n",
       "    </tr>\n",
       "  </thead>\n",
       "  <tbody>\n",
       "  </tbody>\n",
       "</table>\n",
       "<p>0 rows × 1353 columns</p>\n",
       "</div>"
      ],
      "text/plain": [
       "Empty DataFrame\n",
       "Columns: [{\"ngirim\":\"mengirim\",  \"ajg\":\"anjing\",  \"ngga\":\"tidak\",  \"udah\":\"sudah\",  \"memperuslit\":\"mempersulit\",  \"aja\":\"saja\",  \"lemot\":\"lambat\",  \"trus\":\"terus\",  \"nerima\":\"menerima\",  \"pas\":\"waktu\",  \"emng\":\"memang\",  \"gk\":\"tidak\",  \"tauu\":\"tahu\",  \"klik\":\"tekan\",  \"knp\":\"kenapa\",  \"salahh\":\"salah\",  \"mulu\":\"melulu\",  \"daptar\":\"daftar\",  \"daptarr\":\"daftar\",  \"mlah\":\"malah\",  \"nglag\":\"ngehang\",  \"tpi\":\"tapi\",  \"lgi\":\"lagi\",  \"ngabisin\":\"menghabiskan\",  \"muter\":\"putar\",  \"gak\":\"tidak\",  \"urus\":\"mengurus\",  \"pdhl\":\"padahal\",  \"udh\":\"sudah\",  \"bgini\":\"begini\",  \"ni\":\"ini\",  \"apl\":\"aplikasi\",  \"bgt\":\"banget\",  \"ga\":\"tidak\",  \"dipakek\":\"dipakai\",  \"tak\":\"tidak\",  \"ok\":\"oke\",  \"nggak\":\"tidak\",  \"gabisa\":\"tidak bisa\",  \"dipake\":\"dipakai\",  \"tak\":\"tidak\".1,  \"nyerah\":\"menyerah\",  \"gua\":\"saya\",  \"kalo\":\"kalau\",  \"gampang\":\"mudah\",  \"ribet\":\"rumit\",  \"sdn\":\"sdm\",  \"bat\": \"banget\",  \"thanx\":\"thanks\",  \"ruwet\":\"rumit\",  \"betulin\":\"perbaiki\",  \"bener\":\"benar\",  \"aje\":\"saja\",  \"gae\":\"buat\",  \"opo\":\"apa\",  \"seh\",  \"sih\",  \"kerjo\":\"kerja\",  \"koyok\":\"seperti\",  \"ngene\":\"ini\",  \"wong\":\"orang\":\"pajek\":\"pajak\",  \"kemanain\":\"ke mana\",  \"sekelah\":\"sekelas\",  \"yg\":\"yang\",  \"tetep\":\"tetap\",  \"ny\":\"nya\",  \"pke\":\"pakai\",  \"sma\":\"dengan\",  \"loh in\":\"login\",  \"log in\":\"login\",  \"kemplo\":\"jelek\",  \"eror\":\"error\",  \"ampas\":\"sampah\",  \"dek\":\"deh\",  \"sangay\":\"sangat\",  \"bermangfaat\":\"bermanfaat\",  \"njir\":\"anjing\",  \"timbul\":\"muncul\",  \"knpa\":\"kenapa\",  \"apknya\":\"aplikasinya\",  \"cm\":\"hanya\",  \"jd\":\"jadi\",  \"smua\":\"semua\",  \"klo\":\"kalau\",  \"ngurus\":\"mengurus\",  \"gblok\":\"bodoh\",  \"lawak\":\"lucu\",  \"scr\":\"secara\",  \"blm\":\"belum\",  \"rmh\":\"rumah\",  \"amat\":\"banget\",  \"males\":\"malas\",  \"yaa\":\"ya\",  \"pliksi\":\"aplikasi\",  \"mupun\":\"maupun\",  \"solnya\":\"soalnya\",  \"pass\":\"kata sandi\",  \"ydah\":\"sudah\",  \"kagak\":\"tidak\",  \"pencet\":\"tekan\", ...]\n",
       "Index: []\n",
       "\n",
       "[0 rows x 1353 columns]"
      ]
     },
     "execution_count": 20,
     "metadata": {},
     "output_type": "execute_result"
    }
   ],
   "source": [
    "test = pd.read_csv('dataset/slangcleansing.txt')\n",
    "test"
   ]
  },
  {
   "cell_type": "markdown",
   "id": "dc648400-8876-448a-8c39-9782cfbac8f8",
   "metadata": {},
   "source": [
    "### Mengubah Sentimen Neutral menjadi Negative / Positive sesuai konteks"
   ]
  },
  {
   "cell_type": "code",
   "execution_count": 4,
   "id": "3a4d9c94-2229-433b-889b-7687a76b4b3e",
   "metadata": {},
   "outputs": [
    {
     "data": {
      "text/html": [
       "<div>\n",
       "<style scoped>\n",
       "    .dataframe tbody tr th:only-of-type {\n",
       "        vertical-align: middle;\n",
       "    }\n",
       "\n",
       "    .dataframe tbody tr th {\n",
       "        vertical-align: top;\n",
       "    }\n",
       "\n",
       "    .dataframe thead th {\n",
       "        text-align: right;\n",
       "    }\n",
       "</style>\n",
       "<table border=\"1\" class=\"dataframe\">\n",
       "  <thead>\n",
       "    <tr style=\"text-align: right;\">\n",
       "      <th></th>\n",
       "      <th>content</th>\n",
       "      <th>label</th>\n",
       "    </tr>\n",
       "  </thead>\n",
       "  <tbody>\n",
       "    <tr>\n",
       "      <th>0</th>\n",
       "      <td>Lemot banget ngirim kode OTP nya ajg</td>\n",
       "      <td>Negative</td>\n",
       "    </tr>\n",
       "    <tr>\n",
       "      <th>1</th>\n",
       "      <td>Daftar pajak email aktivasi sudah, ehh pas ner...</td>\n",
       "      <td>Negative</td>\n",
       "    </tr>\n",
       "    <tr>\n",
       "      <th>2</th>\n",
       "      <td>Pas Nunggu Kode OTP nya emng GK lama,TPI GK ta...</td>\n",
       "      <td>Negative</td>\n",
       "    </tr>\n",
       "    <tr>\n",
       "      <th>3</th>\n",
       "      <td>Sangat cocok untuk melihat pajak saya</td>\n",
       "      <td>Positive</td>\n",
       "    </tr>\n",
       "    <tr>\n",
       "      <th>4</th>\n",
       "      <td>ngabisin pulsa doang</td>\n",
       "      <td>Negative</td>\n",
       "    </tr>\n",
       "  </tbody>\n",
       "</table>\n",
       "</div>"
      ],
      "text/plain": [
       "                                             content     label\n",
       "0               Lemot banget ngirim kode OTP nya ajg  Negative\n",
       "1  Daftar pajak email aktivasi sudah, ehh pas ner...  Negative\n",
       "2  Pas Nunggu Kode OTP nya emng GK lama,TPI GK ta...  Negative\n",
       "3              Sangat cocok untuk melihat pajak saya  Positive\n",
       "4                               ngabisin pulsa doang  Negative"
      ]
     },
     "execution_count": 4,
     "metadata": {},
     "output_type": "execute_result"
    }
   ],
   "source": [
    "df = pd.read_csv('dataset/final_dataset.csv')\n",
    "df.head()"
   ]
  },
  {
   "cell_type": "code",
   "execution_count": 17,
   "id": "8e4372d0-b7e7-4888-9ba5-ba30044a49ce",
   "metadata": {},
   "outputs": [
    {
     "name": "stderr",
     "output_type": "stream",
     "text": [
      "C:\\Users\\M S I\\AppData\\Local\\Temp\\ipykernel_12716\\3966351685.py:1: FutureWarning: ChainedAssignmentError: behaviour will change in pandas 3.0!\n",
      "You are setting values through chained assignment. Currently this works in certain cases, but when using Copy-on-Write (which will become the default behaviour in pandas 3.0) this will never work to update the original DataFrame or Series, because the intermediate object on which we are setting values will behave as a copy.\n",
      "A typical example is when you are setting values in a column of a DataFrame, like:\n",
      "\n",
      "df[\"col\"][row_indexer] = value\n",
      "\n",
      "Use `df.loc[row_indexer, \"col\"] = values` instead, to perform the assignment in a single step and ensure this keeps updating the original `df`.\n",
      "\n",
      "See the caveats in the documentation: https://pandas.pydata.org/pandas-docs/stable/user_guide/indexing.html#returning-a-view-versus-a-copy\n",
      "\n",
      "  df.iloc[11]['label'] = 'Positive'\n",
      "C:\\Users\\M S I\\AppData\\Local\\Temp\\ipykernel_12716\\3966351685.py:2: FutureWarning: ChainedAssignmentError: behaviour will change in pandas 3.0!\n",
      "You are setting values through chained assignment. Currently this works in certain cases, but when using Copy-on-Write (which will become the default behaviour in pandas 3.0) this will never work to update the original DataFrame or Series, because the intermediate object on which we are setting values will behave as a copy.\n",
      "A typical example is when you are setting values in a column of a DataFrame, like:\n",
      "\n",
      "df[\"col\"][row_indexer] = value\n",
      "\n",
      "Use `df.loc[row_indexer, \"col\"] = values` instead, to perform the assignment in a single step and ensure this keeps updating the original `df`.\n",
      "\n",
      "See the caveats in the documentation: https://pandas.pydata.org/pandas-docs/stable/user_guide/indexing.html#returning-a-view-versus-a-copy\n",
      "\n",
      "  df.iloc[30]['label'] = 'Negative'\n",
      "C:\\Users\\M S I\\AppData\\Local\\Temp\\ipykernel_12716\\3966351685.py:3: FutureWarning: ChainedAssignmentError: behaviour will change in pandas 3.0!\n",
      "You are setting values through chained assignment. Currently this works in certain cases, but when using Copy-on-Write (which will become the default behaviour in pandas 3.0) this will never work to update the original DataFrame or Series, because the intermediate object on which we are setting values will behave as a copy.\n",
      "A typical example is when you are setting values in a column of a DataFrame, like:\n",
      "\n",
      "df[\"col\"][row_indexer] = value\n",
      "\n",
      "Use `df.loc[row_indexer, \"col\"] = values` instead, to perform the assignment in a single step and ensure this keeps updating the original `df`.\n",
      "\n",
      "See the caveats in the documentation: https://pandas.pydata.org/pandas-docs/stable/user_guide/indexing.html#returning-a-view-versus-a-copy\n",
      "\n",
      "  df.iloc[89]['label'] = 'Positive'\n",
      "C:\\Users\\M S I\\AppData\\Local\\Temp\\ipykernel_12716\\3966351685.py:4: FutureWarning: ChainedAssignmentError: behaviour will change in pandas 3.0!\n",
      "You are setting values through chained assignment. Currently this works in certain cases, but when using Copy-on-Write (which will become the default behaviour in pandas 3.0) this will never work to update the original DataFrame or Series, because the intermediate object on which we are setting values will behave as a copy.\n",
      "A typical example is when you are setting values in a column of a DataFrame, like:\n",
      "\n",
      "df[\"col\"][row_indexer] = value\n",
      "\n",
      "Use `df.loc[row_indexer, \"col\"] = values` instead, to perform the assignment in a single step and ensure this keeps updating the original `df`.\n",
      "\n",
      "See the caveats in the documentation: https://pandas.pydata.org/pandas-docs/stable/user_guide/indexing.html#returning-a-view-versus-a-copy\n",
      "\n",
      "  df.iloc[436]['label'] = 'Negative'\n",
      "C:\\Users\\M S I\\AppData\\Local\\Temp\\ipykernel_12716\\3966351685.py:5: FutureWarning: ChainedAssignmentError: behaviour will change in pandas 3.0!\n",
      "You are setting values through chained assignment. Currently this works in certain cases, but when using Copy-on-Write (which will become the default behaviour in pandas 3.0) this will never work to update the original DataFrame or Series, because the intermediate object on which we are setting values will behave as a copy.\n",
      "A typical example is when you are setting values in a column of a DataFrame, like:\n",
      "\n",
      "df[\"col\"][row_indexer] = value\n",
      "\n",
      "Use `df.loc[row_indexer, \"col\"] = values` instead, to perform the assignment in a single step and ensure this keeps updating the original `df`.\n",
      "\n",
      "See the caveats in the documentation: https://pandas.pydata.org/pandas-docs/stable/user_guide/indexing.html#returning-a-view-versus-a-copy\n",
      "\n",
      "  df.iloc[453]['label'] = 'Negative'\n",
      "C:\\Users\\M S I\\AppData\\Local\\Temp\\ipykernel_12716\\3966351685.py:6: FutureWarning: ChainedAssignmentError: behaviour will change in pandas 3.0!\n",
      "You are setting values through chained assignment. Currently this works in certain cases, but when using Copy-on-Write (which will become the default behaviour in pandas 3.0) this will never work to update the original DataFrame or Series, because the intermediate object on which we are setting values will behave as a copy.\n",
      "A typical example is when you are setting values in a column of a DataFrame, like:\n",
      "\n",
      "df[\"col\"][row_indexer] = value\n",
      "\n",
      "Use `df.loc[row_indexer, \"col\"] = values` instead, to perform the assignment in a single step and ensure this keeps updating the original `df`.\n",
      "\n",
      "See the caveats in the documentation: https://pandas.pydata.org/pandas-docs/stable/user_guide/indexing.html#returning-a-view-versus-a-copy\n",
      "\n",
      "  df.iloc[859]['label'] = 'Positive'\n",
      "C:\\Users\\M S I\\AppData\\Local\\Temp\\ipykernel_12716\\3966351685.py:7: FutureWarning: ChainedAssignmentError: behaviour will change in pandas 3.0!\n",
      "You are setting values through chained assignment. Currently this works in certain cases, but when using Copy-on-Write (which will become the default behaviour in pandas 3.0) this will never work to update the original DataFrame or Series, because the intermediate object on which we are setting values will behave as a copy.\n",
      "A typical example is when you are setting values in a column of a DataFrame, like:\n",
      "\n",
      "df[\"col\"][row_indexer] = value\n",
      "\n",
      "Use `df.loc[row_indexer, \"col\"] = values` instead, to perform the assignment in a single step and ensure this keeps updating the original `df`.\n",
      "\n",
      "See the caveats in the documentation: https://pandas.pydata.org/pandas-docs/stable/user_guide/indexing.html#returning-a-view-versus-a-copy\n",
      "\n",
      "  df.iloc[860]['label'] = 'Negative'\n",
      "C:\\Users\\M S I\\AppData\\Local\\Temp\\ipykernel_12716\\3966351685.py:8: FutureWarning: ChainedAssignmentError: behaviour will change in pandas 3.0!\n",
      "You are setting values through chained assignment. Currently this works in certain cases, but when using Copy-on-Write (which will become the default behaviour in pandas 3.0) this will never work to update the original DataFrame or Series, because the intermediate object on which we are setting values will behave as a copy.\n",
      "A typical example is when you are setting values in a column of a DataFrame, like:\n",
      "\n",
      "df[\"col\"][row_indexer] = value\n",
      "\n",
      "Use `df.loc[row_indexer, \"col\"] = values` instead, to perform the assignment in a single step and ensure this keeps updating the original `df`.\n",
      "\n",
      "See the caveats in the documentation: https://pandas.pydata.org/pandas-docs/stable/user_guide/indexing.html#returning-a-view-versus-a-copy\n",
      "\n",
      "  df.iloc[931]['label'] = 'Positive'\n",
      "C:\\Users\\M S I\\AppData\\Local\\Temp\\ipykernel_12716\\3966351685.py:9: FutureWarning: ChainedAssignmentError: behaviour will change in pandas 3.0!\n",
      "You are setting values through chained assignment. Currently this works in certain cases, but when using Copy-on-Write (which will become the default behaviour in pandas 3.0) this will never work to update the original DataFrame or Series, because the intermediate object on which we are setting values will behave as a copy.\n",
      "A typical example is when you are setting values in a column of a DataFrame, like:\n",
      "\n",
      "df[\"col\"][row_indexer] = value\n",
      "\n",
      "Use `df.loc[row_indexer, \"col\"] = values` instead, to perform the assignment in a single step and ensure this keeps updating the original `df`.\n",
      "\n",
      "See the caveats in the documentation: https://pandas.pydata.org/pandas-docs/stable/user_guide/indexing.html#returning-a-view-versus-a-copy\n",
      "\n",
      "  df.iloc[1050]['label'] = 'Negative'\n",
      "C:\\Users\\M S I\\AppData\\Local\\Temp\\ipykernel_12716\\3966351685.py:10: FutureWarning: ChainedAssignmentError: behaviour will change in pandas 3.0!\n",
      "You are setting values through chained assignment. Currently this works in certain cases, but when using Copy-on-Write (which will become the default behaviour in pandas 3.0) this will never work to update the original DataFrame or Series, because the intermediate object on which we are setting values will behave as a copy.\n",
      "A typical example is when you are setting values in a column of a DataFrame, like:\n",
      "\n",
      "df[\"col\"][row_indexer] = value\n",
      "\n",
      "Use `df.loc[row_indexer, \"col\"] = values` instead, to perform the assignment in a single step and ensure this keeps updating the original `df`.\n",
      "\n",
      "See the caveats in the documentation: https://pandas.pydata.org/pandas-docs/stable/user_guide/indexing.html#returning-a-view-versus-a-copy\n",
      "\n",
      "  df.iloc[1052]['label'] = 'Positive'\n",
      "C:\\Users\\M S I\\AppData\\Local\\Temp\\ipykernel_12716\\3966351685.py:11: FutureWarning: ChainedAssignmentError: behaviour will change in pandas 3.0!\n",
      "You are setting values through chained assignment. Currently this works in certain cases, but when using Copy-on-Write (which will become the default behaviour in pandas 3.0) this will never work to update the original DataFrame or Series, because the intermediate object on which we are setting values will behave as a copy.\n",
      "A typical example is when you are setting values in a column of a DataFrame, like:\n",
      "\n",
      "df[\"col\"][row_indexer] = value\n",
      "\n",
      "Use `df.loc[row_indexer, \"col\"] = values` instead, to perform the assignment in a single step and ensure this keeps updating the original `df`.\n",
      "\n",
      "See the caveats in the documentation: https://pandas.pydata.org/pandas-docs/stable/user_guide/indexing.html#returning-a-view-versus-a-copy\n",
      "\n",
      "  df.iloc[1330]['label'] = 'Positive'\n",
      "C:\\Users\\M S I\\AppData\\Local\\Temp\\ipykernel_12716\\3966351685.py:12: FutureWarning: ChainedAssignmentError: behaviour will change in pandas 3.0!\n",
      "You are setting values through chained assignment. Currently this works in certain cases, but when using Copy-on-Write (which will become the default behaviour in pandas 3.0) this will never work to update the original DataFrame or Series, because the intermediate object on which we are setting values will behave as a copy.\n",
      "A typical example is when you are setting values in a column of a DataFrame, like:\n",
      "\n",
      "df[\"col\"][row_indexer] = value\n",
      "\n",
      "Use `df.loc[row_indexer, \"col\"] = values` instead, to perform the assignment in a single step and ensure this keeps updating the original `df`.\n",
      "\n",
      "See the caveats in the documentation: https://pandas.pydata.org/pandas-docs/stable/user_guide/indexing.html#returning-a-view-versus-a-copy\n",
      "\n",
      "  df.iloc[1621]['label'] = 'Positive'\n",
      "C:\\Users\\M S I\\AppData\\Local\\Temp\\ipykernel_12716\\3966351685.py:13: FutureWarning: ChainedAssignmentError: behaviour will change in pandas 3.0!\n",
      "You are setting values through chained assignment. Currently this works in certain cases, but when using Copy-on-Write (which will become the default behaviour in pandas 3.0) this will never work to update the original DataFrame or Series, because the intermediate object on which we are setting values will behave as a copy.\n",
      "A typical example is when you are setting values in a column of a DataFrame, like:\n",
      "\n",
      "df[\"col\"][row_indexer] = value\n",
      "\n",
      "Use `df.loc[row_indexer, \"col\"] = values` instead, to perform the assignment in a single step and ensure this keeps updating the original `df`.\n",
      "\n",
      "See the caveats in the documentation: https://pandas.pydata.org/pandas-docs/stable/user_guide/indexing.html#returning-a-view-versus-a-copy\n",
      "\n",
      "  df.iloc[1622]['label'] = 'Negative'\n",
      "C:\\Users\\M S I\\AppData\\Local\\Temp\\ipykernel_12716\\3966351685.py:14: FutureWarning: ChainedAssignmentError: behaviour will change in pandas 3.0!\n",
      "You are setting values through chained assignment. Currently this works in certain cases, but when using Copy-on-Write (which will become the default behaviour in pandas 3.0) this will never work to update the original DataFrame or Series, because the intermediate object on which we are setting values will behave as a copy.\n",
      "A typical example is when you are setting values in a column of a DataFrame, like:\n",
      "\n",
      "df[\"col\"][row_indexer] = value\n",
      "\n",
      "Use `df.loc[row_indexer, \"col\"] = values` instead, to perform the assignment in a single step and ensure this keeps updating the original `df`.\n",
      "\n",
      "See the caveats in the documentation: https://pandas.pydata.org/pandas-docs/stable/user_guide/indexing.html#returning-a-view-versus-a-copy\n",
      "\n",
      "  df.iloc[1330]['label'] = 'Positive'\n",
      "C:\\Users\\M S I\\AppData\\Local\\Temp\\ipykernel_12716\\3966351685.py:15: FutureWarning: ChainedAssignmentError: behaviour will change in pandas 3.0!\n",
      "You are setting values through chained assignment. Currently this works in certain cases, but when using Copy-on-Write (which will become the default behaviour in pandas 3.0) this will never work to update the original DataFrame or Series, because the intermediate object on which we are setting values will behave as a copy.\n",
      "A typical example is when you are setting values in a column of a DataFrame, like:\n",
      "\n",
      "df[\"col\"][row_indexer] = value\n",
      "\n",
      "Use `df.loc[row_indexer, \"col\"] = values` instead, to perform the assignment in a single step and ensure this keeps updating the original `df`.\n",
      "\n",
      "See the caveats in the documentation: https://pandas.pydata.org/pandas-docs/stable/user_guide/indexing.html#returning-a-view-versus-a-copy\n",
      "\n",
      "  df.iloc[1745]['label'] = 'Positive'\n",
      "C:\\Users\\M S I\\AppData\\Local\\Temp\\ipykernel_12716\\3966351685.py:16: FutureWarning: ChainedAssignmentError: behaviour will change in pandas 3.0!\n",
      "You are setting values through chained assignment. Currently this works in certain cases, but when using Copy-on-Write (which will become the default behaviour in pandas 3.0) this will never work to update the original DataFrame or Series, because the intermediate object on which we are setting values will behave as a copy.\n",
      "A typical example is when you are setting values in a column of a DataFrame, like:\n",
      "\n",
      "df[\"col\"][row_indexer] = value\n",
      "\n",
      "Use `df.loc[row_indexer, \"col\"] = values` instead, to perform the assignment in a single step and ensure this keeps updating the original `df`.\n",
      "\n",
      "See the caveats in the documentation: https://pandas.pydata.org/pandas-docs/stable/user_guide/indexing.html#returning-a-view-versus-a-copy\n",
      "\n",
      "  df.iloc[1926]['label'] = 'Negative'\n",
      "C:\\Users\\M S I\\AppData\\Local\\Temp\\ipykernel_12716\\3966351685.py:17: FutureWarning: ChainedAssignmentError: behaviour will change in pandas 3.0!\n",
      "You are setting values through chained assignment. Currently this works in certain cases, but when using Copy-on-Write (which will become the default behaviour in pandas 3.0) this will never work to update the original DataFrame or Series, because the intermediate object on which we are setting values will behave as a copy.\n",
      "A typical example is when you are setting values in a column of a DataFrame, like:\n",
      "\n",
      "df[\"col\"][row_indexer] = value\n",
      "\n",
      "Use `df.loc[row_indexer, \"col\"] = values` instead, to perform the assignment in a single step and ensure this keeps updating the original `df`.\n",
      "\n",
      "See the caveats in the documentation: https://pandas.pydata.org/pandas-docs/stable/user_guide/indexing.html#returning-a-view-versus-a-copy\n",
      "\n",
      "  df.iloc[1330]['label'] = 'Positive'\n"
     ]
    }
   ],
   "source": [
    "df.iloc[11]['label'] = 'Positive'\n",
    "df.iloc[30]['label'] = 'Negative'\n",
    "df.iloc[89]['label'] = 'Positive'\n",
    "df.iloc[436]['label'] = 'Negative'\n",
    "df.iloc[453]['label'] = 'Negative'\n",
    "df.iloc[859]['label'] = 'Positive'\n",
    "df.iloc[860]['label'] = 'Negative'\n",
    "df.iloc[931]['label'] = 'Positive'\n",
    "df.iloc[1050]['label'] = 'Negative'\n",
    "df.iloc[1052]['label'] = 'Positive'\n",
    "df.iloc[1330]['label'] = 'Positive'\n",
    "df.iloc[1621]['label'] = 'Positive'\n",
    "df.iloc[1622]['label'] = 'Negative'\n",
    "df.iloc[1330]['label'] = 'Positive'\n",
    "df.iloc[1745]['label'] = 'Positive'\n",
    "df.iloc[1926]['label'] = 'Negative'\n",
    "df.iloc[1330]['label'] = 'Positive'"
   ]
  },
  {
   "cell_type": "code",
   "execution_count": 18,
   "id": "729e3561-8475-4743-aaaa-68c243068e3d",
   "metadata": {},
   "outputs": [
    {
     "data": {
      "text/plain": [
       "(39, 2)"
      ]
     },
     "execution_count": 18,
     "metadata": {},
     "output_type": "execute_result"
    }
   ],
   "source": [
    "neutral = df[df['label'] == 'Neutral']\n",
    "neutral.shape"
   ]
  },
  {
   "cell_type": "code",
   "execution_count": 19,
   "id": "b73582b7-dea5-440d-87f5-8a2d46a07660",
   "metadata": {},
   "outputs": [
    {
     "data": {
      "text/plain": [
       "array(['Negative', 'Positive', 'Neutral'], dtype=object)"
      ]
     },
     "execution_count": 19,
     "metadata": {},
     "output_type": "execute_result"
    }
   ],
   "source": [
    "df['label'].unique()"
   ]
  },
  {
   "cell_type": "markdown",
   "id": "09b73052-32ec-4ea9-b37f-3e342dc0cfb7",
   "metadata": {},
   "source": [
    "**Data Final Without Neutral Sentimen**"
   ]
  },
  {
   "cell_type": "code",
   "execution_count": 20,
   "id": "1ed6bc8a-9efc-44dc-8126-f4e40af0cc58",
   "metadata": {},
   "outputs": [],
   "source": [
    "# Drop neutral sentimen \n",
    "df_final = df.drop(df[df['label'] == 'Neutral'].index)"
   ]
  },
  {
   "cell_type": "code",
   "execution_count": 21,
   "id": "86a7fad4-46d0-4c92-97a0-902f566208ee",
   "metadata": {},
   "outputs": [
    {
     "data": {
      "text/plain": [
       "(1961, 2)"
      ]
     },
     "execution_count": 21,
     "metadata": {},
     "output_type": "execute_result"
    }
   ],
   "source": [
    "df_final.shape"
   ]
  },
  {
   "cell_type": "code",
   "execution_count": 22,
   "id": "aa235e69-c8d5-40dc-a114-de4b861e609e",
   "metadata": {},
   "outputs": [],
   "source": [
    "folder_path = 'dataset/'\n",
    "file_name = 'final_dataset_without_neutral.csv'\n",
    "full_path = folder_path + file_name\n",
    "\n",
    "df_final.to_csv(full_path, index=False)"
   ]
  },
  {
   "cell_type": "code",
   "execution_count": null,
   "id": "d9b04e51-1901-4bae-a44d-041abf899af5",
   "metadata": {},
   "outputs": [],
   "source": []
  }
 ],
 "metadata": {
  "kernelspec": {
   "display_name": "Python 3 (ipykernel)",
   "language": "python",
   "name": "python3"
  },
  "language_info": {
   "codemirror_mode": {
    "name": "ipython",
    "version": 3
   },
   "file_extension": ".py",
   "mimetype": "text/x-python",
   "name": "python",
   "nbconvert_exporter": "python",
   "pygments_lexer": "ipython3",
   "version": "3.12.2"
  }
 },
 "nbformat": 4,
 "nbformat_minor": 5
}
